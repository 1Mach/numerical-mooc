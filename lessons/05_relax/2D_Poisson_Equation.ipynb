{
 "metadata": {
  "name": "",
  "signature": "sha256:f5d900f1fd8cc20fea842b15f98c9bdb09d9545bc72d0fe31e92947ed6df848d"
 },
 "nbformat": 3,
 "nbformat_minor": 0,
 "worksheets": [
  {
   "cells": [
    {
     "cell_type": "heading",
     "level": 6,
     "metadata": {},
     "source": [
      "Content under Creative Commons Attribution license CC-BY 4.0, code under MIT license (c)2014 L.A. Barba, C.D. Cooper, G.F. Forsyth.  Based on [CFDPython](https://github.com/barbagroup/CFDPython), (c)2013 L.A. Barba, also under CC-BY license."
     ]
    },
    {
     "cell_type": "heading",
     "level": 1,
     "metadata": {},
     "source": [
      "Relax and hold steady"
     ]
    },
    {
     "cell_type": "markdown",
     "metadata": {},
     "source": [
      "Welcome to the second notebook of *Relax and hold steady: elliptic problems*, the fifth module of [**\"Practical Numerical Methods with Python\"**](http://openedx.seas.gwu.edu/courses/GW/MAE6286/2014_fall/about).\n",
      "\n",
      "The previous notebook introduced the Laplace equation, which is time-independent. To solve the resulting linear system, we used Jacobi iterations to *relax* an initial guess to the final solution. This notebook presents a slight modification. Now, the right hand side of the equation is not 0, but a forcing function that drives the solution: we present to you the **Poisson equation**."
     ]
    },
    {
     "cell_type": "heading",
     "level": 2,
     "metadata": {},
     "source": [
      "Poisson Equation"
     ]
    },
    {
     "cell_type": "markdown",
     "metadata": {},
     "source": [
      "Poisson's equation is obtained by adding a source term to the right-hand-side of Laplace's equation:\n",
      "\n",
      "$$\\frac{\\partial ^2 p}{\\partial x^2} + \\frac{\\partial ^2 p}{\\partial y^2} = b$$\n",
      "\n",
      "So, unlinke the Laplace equation, there is some finite value inside the field that affects the solution. Poisson's equation acts to \"relax\" the initial sources in the field.\n",
      "\n",
      "In discretized form, this looks almost the same as [The Laplace Equation](2D_Laplace_Equation.ipynb), except for the source term:\n",
      "\n",
      "$$\\frac{p_{i+1,j}^{n}-2p_{i,j}^{n}+p_{i-1,j}^{n}}{\\Delta x^2}+\\frac{p_{i,j+1}^{n}-2 p_{i,j}^{n}+p_{i,j-1}^{n}}{\\Delta y^2}=b_{i,j}^{n}$$\n",
      "\n",
      "As before, we rearrange this so that we obtain an equation for $p$ at point $i,j$. Thus, we obtain:\n",
      "\n",
      "$$p_{i,j}^{n}=\\frac{(p_{i+1,j}^{n}+p_{i-1,j}^{n})\\Delta y^2+(p_{i,j+1}^{n}+p_{i,j-1}^{n})\\Delta x^2-b_{i,j}^{n}\\Delta x^2\\Delta y^2}{2(\\Delta x^2+\\Delta y^2)}$$\n"
     ]
    },
    {
     "cell_type": "markdown",
     "metadata": {},
     "source": [
      "Let's consider the Poisson equation\n",
      "\n",
      "\\begin{equation}\n",
      "\\nabla^2 p = 6xy(1-y)-2x^3\n",
      "\\end{equation}\n",
      "\n",
      "in the domain $0\\leq x\\leq 1$, $0 \\leq y \\leq 1$ with boundary conditions $p=0$ at $x=0$, $y=0$, and $y=1$, and $p=y(1-y)$ at $x=1$.\n",
      "\n",
      "We will solve this equation by assuming an initial state of $p=0$ everywhere, and applying boundary conditions to relax in pseudo-time."
     ]
    },
    {
     "cell_type": "markdown",
     "metadata": {},
     "source": [
      "To start, let's import libraries and setup our mesh"
     ]
    },
    {
     "cell_type": "code",
     "collapsed": false,
     "input": [
      "from mpl_toolkits.mplot3d import Axes3D\n",
      "from matplotlib import cm\n",
      "import matplotlib.pyplot as plt\n",
      "import numpy\n",
      "%matplotlib inline"
     ],
     "language": "python",
     "metadata": {},
     "outputs": []
    },
    {
     "cell_type": "code",
     "collapsed": false,
     "input": [
      "# Parameters\n",
      "nx = 41\n",
      "ny = 41\n",
      "nt  = 1500\n",
      "xmin = 0.\n",
      "xmax = 1.\n",
      "ymin = 0.\n",
      "ymax = 1.\n",
      "\n",
      "dx = (xmax-xmin)/(nx-1)\n",
      "dy = (ymax-ymin)/(ny-1)\n",
      "\n",
      "# Mesh\n",
      "x  = numpy.linspace(xmin,xmax,nx)\n",
      "y  = numpy.linspace(xmin,xmax,ny)\n",
      "X,Y = numpy.meshgrid(x,y)\n",
      "\n",
      "# Source\n",
      "b = 6*X*Y*(1-Y)-2*X**3\n",
      "\n",
      "# Initialization\n",
      "pi  = numpy.zeros((ny,nx))\n",
      "pi[:,-1] = y*(1-y) # BC\n",
      "\n",
      "l2_target = 1e-10"
     ],
     "language": "python",
     "metadata": {},
     "outputs": []
    },
    {
     "cell_type": "markdown",
     "metadata": {},
     "source": [
      "Our Jacobi iterations need an exit condition. We will use the L2 norm of the difference for that"
     ]
    },
    {
     "cell_type": "code",
     "collapsed": false,
     "input": [
      "def L2_error(p, pn):\n",
      "    ''' Compute the relative L2 norm of the difference\n",
      "    Parameters:\n",
      "    ----------\n",
      "    p : array of float\n",
      "        array 1\n",
      "    pn: array of float\n",
      "        array 2\n",
      "    Returns:\n",
      "    -------\n",
      "    Relative L2 norm of the difference\n",
      "    '''\n",
      "    return numpy.sqrt(numpy.sum((p - pn)**2)/numpy.sum(pn**2))\n",
      "    #return numpy.sqrt(numpy.max((p - pn)**2)/numpy.max(pn**2))"
     ],
     "language": "python",
     "metadata": {},
     "outputs": []
    },
    {
     "cell_type": "markdown",
     "metadata": {},
     "source": [
      "This function will do the iterations for us"
     ]
    },
    {
     "cell_type": "code",
     "collapsed": false,
     "input": [
      "def Jacobi(p, b, dx, dy, l2_target):\n",
      "    '''Performs Jacobi relaxation\n",
      "    \n",
      "    Parameters:\n",
      "    ----------\n",
      "    p : 2D array of floats\n",
      "        Initial guess\n",
      "    b : 2D array of floats\n",
      "        Source term\n",
      "    dx: float\n",
      "        Mesh spacing in x direction\n",
      "    dy: float\n",
      "        Mesh spacing in y direction\n",
      "    l2_target: float\n",
      "        Error target\n",
      "    \n",
      "    Returns:\n",
      "    -------\n",
      "    p: 2D array of float\n",
      "        Distribution after relaxation\n",
      "    '''\n",
      "\n",
      "    l2_norm = 1.0\n",
      "    iterations = 0\n",
      "    l2_conv = []\n",
      "    \n",
      "    while l2_norm > l2_target:\n",
      "\n",
      "        pd = p.copy()\n",
      "\n",
      "        p[1:-1,1:-1] = 1./(2*(dx**2 + dy**2)) * ((pd[1:-1,2:]+pd[1:-1,:-2])*dy**2 +\\\n",
      "                        (pd[2:,1:-1] + pd[:-2,1:-1])*dx**2 - b[1:-1,1:-1]*dx**2*dy**2)\n",
      "    \n",
      "        # BCs are automatically enforced\n",
      "        \n",
      "        l2_norm = L2_error(pd,p)\n",
      "        iterations += 1\n",
      "        l2_conv.append(l2_norm)\n",
      "    \n",
      "    print 'Number of Jacobi iterations: {0:d}'.format(iterations)\n",
      "    return p, l2_conv        "
     ],
     "language": "python",
     "metadata": {},
     "outputs": []
    },
    {
     "cell_type": "markdown",
     "metadata": {},
     "source": [
      "$$p_{i,j}^{n}=\\frac{(p_{i+1,j}^{n}+p_{i-1,j}^{n})\\Delta y^2+(p_{i,j+1}^{n}+p_{i,j-1}^{n})\\Delta x^2-b_{i,j}^{n}\\Delta x^2\\Delta y^2}{2(\\Delta x^2+\\Delta y^2)}$$"
     ]
    },
    {
     "cell_type": "markdown",
     "metadata": {},
     "source": [
      "With that, we are ready to advance the initial guess in pseudo-time!"
     ]
    },
    {
     "cell_type": "code",
     "collapsed": false,
     "input": [
      "p, l2_conv = Jacobi(pi, b, dx, dy, l2_target)"
     ],
     "language": "python",
     "metadata": {},
     "outputs": []
    },
    {
     "cell_type": "code",
     "collapsed": false,
     "input": [
      "plt.figure(figsize=(8,4))\n",
      "CS = plt.contourf(X,Y,p,50)\n",
      "#plt.xlim(-4,4)\n",
      "#plt.ylim(-2,2);\n",
      "plt.colorbar();\n"
     ],
     "language": "python",
     "metadata": {},
     "outputs": []
    },
    {
     "cell_type": "code",
     "collapsed": false,
     "input": [
      "plt.figure(figsize=(8,4))\n",
      "plt.semilogy(numpy.arange(len(l2_conv)), l2_conv);"
     ],
     "language": "python",
     "metadata": {},
     "outputs": []
    },
    {
     "cell_type": "markdown",
     "metadata": {},
     "source": [
      "What about the error? This problem has the following analytical solution:\n",
      "\n",
      "\\begin{equation}\n",
      "p(x,y) = y(1-y)x^3\n",
      "\\end{equation}"
     ]
    },
    {
     "cell_type": "code",
     "collapsed": false,
     "input": [
      "def p_analytical(X,Y):\n",
      "    return Y*(1-Y)*X**3"
     ],
     "language": "python",
     "metadata": {},
     "outputs": []
    },
    {
     "cell_type": "markdown",
     "metadata": {},
     "source": [
      "So we can compute the L2 norm of the error"
     ]
    },
    {
     "cell_type": "code",
     "collapsed": false,
     "input": [
      "p_an = p_analytical(X,Y)"
     ],
     "language": "python",
     "metadata": {},
     "outputs": []
    },
    {
     "cell_type": "code",
     "collapsed": false,
     "input": [
      "error = L2_error(p,p_an)\n",
      "error"
     ],
     "language": "python",
     "metadata": {},
     "outputs": []
    },
    {
     "cell_type": "code",
     "collapsed": false,
     "input": [
      "plt.figure(figsize=(8,4))\n",
      "CS = plt.contourf(X,Y,p_an,50)\n",
      "#plt.xlim(-4,4)\n",
      "#plt.ylim(-2,2);\n",
      "plt.colorbar();"
     ],
     "language": "python",
     "metadata": {},
     "outputs": []
    },
    {
     "cell_type": "code",
     "collapsed": false,
     "input": [
      "print X\n",
      "print Y\n",
      "print p"
     ],
     "language": "python",
     "metadata": {},
     "outputs": []
    },
    {
     "cell_type": "code",
     "collapsed": false,
     "input": [
      "numpy.sqrt(numpy.sum((p-p_an)**2)/numpy.sum(p_an**2))"
     ],
     "language": "python",
     "metadata": {},
     "outputs": []
    },
    {
     "cell_type": "code",
     "collapsed": false,
     "input": [
      "print numpy.max(numpy.abs(p-p_an)), numpy.max(numpy.abs(p_an)), numpy.sum(numpy.abs(p-p_an)), numpy.sum(numpy.abs(p_an))"
     ],
     "language": "python",
     "metadata": {},
     "outputs": []
    },
    {
     "cell_type": "code",
     "collapsed": false,
     "input": [
      "U, V = numpy.gradient(p,dx)"
     ],
     "language": "python",
     "metadata": {},
     "outputs": []
    },
    {
     "cell_type": "markdown",
     "metadata": {},
     "source": [
      "$$E = -\\nabla \\varphi$$"
     ]
    },
    {
     "cell_type": "code",
     "collapsed": false,
     "input": [
      "plt.figure(figsize=(8,4))\n",
      "\n",
      "plt.streamplot(y,x,V,U, density=3, linewidth=1, arrowsize=1, arrowstyle='->')\n",
      "plt.xlim(-4,4)\n",
      "plt.ylim(-2,2)"
     ],
     "language": "python",
     "metadata": {},
     "outputs": []
    },
    {
     "cell_type": "code",
     "collapsed": false,
     "input": [
      "plt.streamplot(y[50:80],x[50:80],V[50:80,50:80],U[50:80,50:80], density=3, linewidth=1, arrowsize=1, arrowstyle='->')\n"
     ],
     "language": "python",
     "metadata": {},
     "outputs": []
    },
    {
     "cell_type": "code",
     "collapsed": false,
     "input": [
      "? plt.quiver"
     ],
     "language": "python",
     "metadata": {},
     "outputs": []
    },
    {
     "cell_type": "markdown",
     "metadata": {},
     "source": [
      "***"
     ]
    },
    {
     "cell_type": "heading",
     "level": 2,
     "metadata": {},
     "source": [
      "Learn More"
     ]
    },
    {
     "cell_type": "markdown",
     "metadata": {},
     "source": [
      "To learn more about the role of the Poisson equation in CFD, watch **Video Lesson 11** on You Tube:"
     ]
    },
    {
     "cell_type": "code",
     "collapsed": false,
     "input": [
      "from IPython.display import YouTubeVideo\n",
      "YouTubeVideo('ZjfxA3qq2Lg')"
     ],
     "language": "python",
     "metadata": {},
     "outputs": []
    },
    {
     "cell_type": "code",
     "collapsed": false,
     "input": [
      "from IPython.core.display import HTML\n",
      "css_file = '../../styles/numericalmoocstyle.css'\n",
      "HTML(open(css_file, \"r\").read())"
     ],
     "language": "python",
     "metadata": {},
     "outputs": []
    },
    {
     "cell_type": "code",
     "collapsed": false,
     "input": [],
     "language": "python",
     "metadata": {},
     "outputs": []
    }
   ],
   "metadata": {}
  }
 ]
}