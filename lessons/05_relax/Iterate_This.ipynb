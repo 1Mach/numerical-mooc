{
 "metadata": {
  "name": "",
  "signature": "sha256:ad74709cc14a0b27ebc39cd8903971cb8b11f3de916c377be7643d1e4ec90261"
 },
 "nbformat": 3,
 "nbformat_minor": 0,
 "worksheets": [
  {
   "cells": [
    {
     "cell_type": "markdown",
     "metadata": {},
     "source": [
      "Content under Creative Commons Attribution license CC-BY 4.0, code under MIT license (c)2014 L.A. Barba, C.D. Cooper, G.F. Forsyth.  "
     ]
    },
    {
     "cell_type": "markdown",
     "metadata": {},
     "source": [
      "Same Laplace problem:\n",
      "\n",
      "\\begin{equation}\n",
      "  \\begin{gathered}\n",
      "p=0 \\text{ at } x=0\\\\\n",
      "\\frac{\\partial p}{\\partial x}=0 \\text{ at }x=1\\\\\n",
      "p = 0 \\text{ at }y = 0 \\\\\n",
      "p = \\sin \\left(  \\frac{\\frac{3}{2}\\pi x}{L} \\right) \\text{ at } y = 1\n",
      "  \\end{gathered}\n",
      "\\end{equation}"
     ]
    },
    {
     "cell_type": "code",
     "collapsed": false,
     "input": [
      "import numpy\n",
      "import matplotlib.pyplot as plt\n",
      "%matplotlib inline"
     ],
     "language": "python",
     "metadata": {},
     "outputs": [],
     "prompt_number": 1
    },
    {
     "cell_type": "code",
     "collapsed": false,
     "input": [
      "def constructMatrix(nx, ny):\n",
      "    \"\"\" Generate matrix for 2D Laplace equation with Dirichlet in bottom, left and top and Neumann in right\n",
      "        Assumes dx = dy\n",
      "    \n",
      "    Parameters:\n",
      "    ----------\n",
      "    nx   : int\n",
      "        number of discretization points in x\n",
      "    ny   : int\n",
      "        number of discretization points in y\n",
      "        \n",
      "    Returns:\n",
      "    -------\n",
      "    A: 2D array of floats\n",
      "        Matrix of implicit 2D heat equation\n",
      "    \"\"\"\n",
      "    \n",
      "    A = numpy.zeros(((nx-2)*(ny-2),(nx-2)*(ny-2)))\n",
      "    \n",
      "    row_number = 0 # row counter\n",
      "    for j in range(1,ny-1):\n",
      "        for i in range(1,nx-1):\n",
      "            \n",
      "            # Corners\n",
      "            if i==1 and j==1: # Bottom left corner (Dirichlet down and left)\n",
      "                A[row_number,row_number] = -4 # Set diagonal\n",
      "                A[row_number,row_number+1] = 1      # fetch i+1\n",
      "                A[row_number,row_number+nx-2] = 1   # fetch j+1\n",
      "                \n",
      "            elif i==nx-2 and j==1: # Bottom right corner (Dirichlet down, Neumann right)\n",
      "                A[row_number,row_number] = -3 # Set diagonal\n",
      "                A[row_number,row_number-1] = 1      # Fetch i-1\n",
      "                A[row_number,row_number+nx-2] = 1   # fetch j+1\n",
      "                \n",
      "            elif i==1 and j==ny-2: # Top left corner (Dirichlet up, Dirichlet left)\n",
      "                A[row_number,row_number] = -4   # Set diagonal\n",
      "                A[row_number,row_number+1] = 1        # fetch i+1\n",
      "                A[row_number,row_number-(nx-2)] = 1   # fetch j-1\n",
      "                \n",
      "            elif i==nx-2 and j==ny-2: # Top right corner (Dirichlet up, Neumann right)\n",
      "                A[row_number,row_number] = -3   # Set diagonal\n",
      "                A[row_number,row_number-1] = 1        # Fetch i-1\n",
      "                A[row_number,row_number-(nx-2)] = 1   # fetch j-1\n",
      "              \n",
      "            # Sides\n",
      "            elif i==1: # Left boundary (Dirichlet)\n",
      "                A[row_number,row_number] =-4 # Set diagonal\n",
      "                A[row_number,row_number+1] = 1      # fetch i+1\n",
      "                A[row_number,row_number+nx-2] = 1   # fetch j+1\n",
      "                A[row_number,row_number-(nx-2)] = 1 # fetch j-1\n",
      "            \n",
      "            elif i==nx-2: # Right boundary (Neumann)\n",
      "                A[row_number,row_number] = -3 # Set diagonal\n",
      "                A[row_number,row_number-1] = 1      # Fetch i-1\n",
      "                A[row_number,row_number+nx-2] = 1   # fetch j+1\n",
      "                A[row_number,row_number-(nx-2)] = 1 # fetch j-1\n",
      "                \n",
      "            elif j==1: # Bottom boundary (Dirichlet)\n",
      "                A[row_number,row_number] = -4 # Set diagonal\n",
      "                A[row_number,row_number+1] = 1      # fetch i+1\n",
      "                A[row_number,row_number-1] = 1      # fetch i-1\n",
      "                A[row_number,row_number+nx-2] = 1   # fetch j+1\n",
      "                \n",
      "            elif j==ny-2: # Top boundary (Dirichlet)\n",
      "                A[row_number,row_number] = -4 # Set diagonal\n",
      "                A[row_number,row_number+1] = 1      # fetch i+1\n",
      "                A[row_number,row_number-1] = 1      # fetch i-1\n",
      "                A[row_number,row_number-(nx-2)] = 1 # fetch j-1\n",
      "                \n",
      "            # Interior points\n",
      "            else:\n",
      "                A[row_number,row_number] = -4 # Set diagonal\n",
      "                A[row_number,row_number+1] = 1      # fetch i+1\n",
      "                A[row_number,row_number-1] = 1      # fetch i-1\n",
      "                A[row_number,row_number+nx-2] = 1   # fetch j+1\n",
      "                A[row_number,row_number-(nx-2)] = 1 # fetch j-1\n",
      "                \n",
      "            row_number += 1 # Jump to next row of the matrix!\n",
      "    \n",
      "    return A      "
     ],
     "language": "python",
     "metadata": {},
     "outputs": [],
     "prompt_number": 2
    },
    {
     "cell_type": "markdown",
     "metadata": {},
     "source": [
      "$$p = \\sin \\left(  \\frac{\\frac{3}{2}\\pi x}{L} \\right) \\text{ at } y = 1$$"
     ]
    },
    {
     "cell_type": "code",
     "collapsed": false,
     "input": [
      "def generateRHS(nx, ny,L):\n",
      "    \"\"\" Generates right-hand side for 2D implicit heat equation with Dirichlet in bottom and left and Neumann in top and right\n",
      "        Assumes dx=dy, Neumann BCs = 0, and constant Dirichlet BCs\n",
      "        \n",
      "        Paramenters:\n",
      "        -----------\n",
      "        nx   : int\n",
      "            number of discretization points in x\n",
      "        ny   : int\n",
      "            number of discretization points in y\n",
      "        sigma: float\n",
      "            alpha*dt/dx\n",
      "        T    : array of float\n",
      "            Temperature in current time step\n",
      "        T_bc : float\n",
      "            Temperature in Dirichlet BC\n",
      "        \n",
      "        Returns:\n",
      "        -------\n",
      "        RHS  : array of float\n",
      "            Right hand side of 2D implicit heat equation\n",
      "    \"\"\"\n",
      "    RHS = numpy.zeros(((nx-2)*(ny-2),1))\n",
      "    \n",
      "    x = numpy.linspace(0,L,nx)\n",
      "    top_bc = numpy.sin(1.5*numpy.pi*x / L)\n",
      "    \n",
      "    row_number = 0 # row counter\n",
      "    for j in range(1,ny-1):\n",
      "        for i in range(1,nx-1):\n",
      "            \n",
      "            # Corners\n",
      "            if i==1 and j==1: # Bottom left corner (Dirichlet down and left)\n",
      "                RHS[row_number] = 0\n",
      "                \n",
      "            elif i==nx-2 and j==1: # Bottom right corner (Dirichlet down, Neumann right)\n",
      "                RHS[row_number] = 0\n",
      "                           \n",
      "            if i==1 and j==ny-2: # Top left corner (Dirichlet up, Dirichlet left)\n",
      "                RHS[row_number] = -1*top_bc[i]\n",
      "                \n",
      "            elif i==nx-2 and j==ny-2: # Top right corner (Neumann up and right)\n",
      "                RHS[row_number] = -1*top_bc[i] \n",
      "              \n",
      "            # Sides\n",
      "            elif i==1: # Left boundary (Dirichlet)\n",
      "               RHS[row_number] = 0\n",
      "            \n",
      "            elif i==nx-2: # Right boundary (Neumann)\n",
      "                RHS[row_number] = 0\n",
      "                \n",
      "            elif j==1: # Bottom boundary (Dirichlet)\n",
      "                RHS[row_number] = 0\n",
      "                \n",
      "            elif j==ny-2: # Top boundary (Dirichlet)\n",
      "                RHS[row_number] = -1*top_bc[i]\n",
      "                \n",
      "            # Interior points\n",
      "            else:\n",
      "                RHS[row_number] = 0\n",
      "                \n",
      "            row_number += 1 # Jump to next row!\n",
      "    \n",
      "    return RHS"
     ],
     "language": "python",
     "metadata": {},
     "outputs": [],
     "prompt_number": 3
    },
    {
     "cell_type": "code",
     "collapsed": false,
     "input": [
      "def L2_error(p, pn):\n",
      "    return numpy.sqrt(numpy.sum((p - pn)**2))"
     ],
     "language": "python",
     "metadata": {},
     "outputs": [],
     "prompt_number": 4
    },
    {
     "cell_type": "code",
     "collapsed": false,
     "input": [
      "from scipy.linalg import solve\n",
      "from mpl_toolkits.mplot3d import Axes3D\n",
      "from matplotlib import cm"
     ],
     "language": "python",
     "metadata": {},
     "outputs": [],
     "prompt_number": 5
    },
    {
     "cell_type": "code",
     "collapsed": false,
     "input": [
      "def plot2D(x, y, p):\n",
      "    '''Creates 3D projection plot with appropriate limits and viewing angle\n",
      "    \n",
      "    Parameters:\n",
      "    ----------\n",
      "    x: array of float\n",
      "        nodal coordinates in x\n",
      "    y: array of float\n",
      "        nodal coordinates in y\n",
      "    p: 2D array of float\n",
      "        calculated potential field\n",
      "    \n",
      "    '''\n",
      "    fig = plt.figure(figsize=(11,7), dpi=100)\n",
      "    ax = fig.gca(projection='3d')\n",
      "    X,Y = numpy.meshgrid(x,y)\n",
      "    surf = ax.plot_surface(X,Y,p[:], rstride=1, cstride=1, cmap=cm.coolwarm,\n",
      "            linewidth=0, antialiased=False)\n",
      "\n",
      "    ax.set_xlim(0,1)\n",
      "    ax.set_ylim(0,1)\n",
      "    ax.set_xlabel('$x$')\n",
      "    ax.set_ylabel('$y$')\n",
      "    ax.set_zlabel('$z$')\n",
      "    ax.view_init(30,45)"
     ],
     "language": "python",
     "metadata": {},
     "outputs": [],
     "prompt_number": 6
    },
    {
     "cell_type": "markdown",
     "metadata": {},
     "source": [
      "What is the easiest way to solve this, without resorting to `scipy`'s solvers?\n",
      "\n",
      "Let's decompose $A$\n",
      "\n",
      "\\begin{equation}\n",
      "A = D + U + L\n",
      "\\end{equation}\n",
      "\n",
      "where $D$, $U$ and $L$ are the diagonal, upper triangle and lower triangle of $A$, respectively. We can rewrite the system of equations as\n",
      "\n",
      "\\begin{equation}\n",
      "(D+L+U)p = b\n",
      "\\end{equation}\n",
      "\n",
      "then,\n",
      "\n",
      "\\begin{equation}\n",
      "p = D^{-1}\\left(b - (L+U)p\\right)\n",
      "\\end{equation}\n",
      "\n",
      "We can solve this $y=f(y)$ equation with fix-point iteration:\n",
      "\n",
      "\\begin{equation}\n",
      "p^{n+1} = D^{-1}\\left(b - (L+U)p^{n}\\right),\n",
      "\\end{equation}\n",
      "\n",
      "where we will guess a $p^{(0)}$, compute $p^{(1)}$, then $p^{(2)}$, and so on, *iteratively*. It looks like we are iterating in time, but the equation is not time-dependent. Let's call this *pseudo-time* iterations."
     ]
    },
    {
     "cell_type": "code",
     "collapsed": false,
     "input": [
      "from scipy import sparse\n",
      "import scipy"
     ],
     "language": "python",
     "metadata": {},
     "outputs": [],
     "prompt_number": 7
    },
    {
     "cell_type": "code",
     "collapsed": false,
     "input": [
      "nx = 66\n",
      "ny = 66\n",
      "A = constructMatrix(nx, ny)"
     ],
     "language": "python",
     "metadata": {},
     "outputs": [],
     "prompt_number": 8
    },
    {
     "cell_type": "code",
     "collapsed": false,
     "input": [
      "b = generateRHS(nx, ny, 1)"
     ],
     "language": "python",
     "metadata": {},
     "outputs": [],
     "prompt_number": 9
    },
    {
     "cell_type": "code",
     "collapsed": false,
     "input": [
      "#U = sparse.triu(A, k=1)\n",
      "#L = sparse.tril(A, k=-1)\n",
      "#A = sparse.coo_matrix(A)\n",
      "U = numpy.triu(A, k=1)\n",
      "L = numpy.tril(A, k=-1)"
     ],
     "language": "python",
     "metadata": {},
     "outputs": [],
     "prompt_number": 10
    },
    {
     "cell_type": "code",
     "collapsed": false,
     "input": [
      "D = numpy.diag(numpy.diag(A))\n",
      "Dinv = numpy.linalg.inv(D)"
     ],
     "language": "python",
     "metadata": {},
     "outputs": [],
     "prompt_number": 11
    },
    {
     "cell_type": "markdown",
     "metadata": {},
     "source": [
      "\\begin{equation}\n",
      "p^{n+1} = D^{-1}\\left(b - (L+U)p^{n}\\right),\n",
      "\\end{equation}"
     ]
    },
    {
     "cell_type": "code",
     "collapsed": false,
     "input": [
      "x = numpy.linspace(0,1,nx)\n",
      "y = numpy.linspace(0,1,ny)"
     ],
     "language": "python",
     "metadata": {},
     "outputs": [],
     "prompt_number": 12
    },
    {
     "cell_type": "code",
     "collapsed": false,
     "input": [
      "dim = (nx-2)*(ny-2)"
     ],
     "language": "python",
     "metadata": {},
     "outputs": [],
     "prompt_number": 13
    },
    {
     "cell_type": "code",
     "collapsed": false,
     "input": [
      "p = numpy.zeros((ny-2,nx-2))\n",
      "p = p.reshape(dim,1)"
     ],
     "language": "python",
     "metadata": {},
     "outputs": [],
     "prompt_number": 14
    },
    {
     "cell_type": "code",
     "collapsed": false,
     "input": [
      "i = 0\n",
      "L2 = 1\n",
      "L2target = 0.01\n",
      "while L2 > L2target:\n",
      "    pnew = numpy.dot(Dinv, b - numpy.dot(L+U, p))\n",
      "    L2 = L2_error(pnew, p)\n",
      "    p = pnew.copy()\n",
      "    i+= 1\n",
      "    \n",
      "    print \"{}th iteration.  Error: {}\".format(i, L2)\n",
      "    "
     ],
     "language": "python",
     "metadata": {},
     "outputs": [
      {
       "output_type": "stream",
       "stream": "stdout",
       "text": [
        "1th iteration.  Error: 1.43120790185\n",
        "2th iteration.  Error: 0.792255094833"
       ]
      },
      {
       "output_type": "stream",
       "stream": "stdout",
       "text": [
        "\n",
        "3th iteration.  Error: 0.573022478615"
       ]
      },
      {
       "output_type": "stream",
       "stream": "stdout",
       "text": [
        "\n",
        "4th iteration.  Error: 0.456968162732"
       ]
      },
      {
       "output_type": "stream",
       "stream": "stdout",
       "text": [
        "\n",
        "5th iteration.  Error: 0.383993717528"
       ]
      },
      {
       "output_type": "stream",
       "stream": "stdout",
       "text": [
        "\n",
        "6th iteration.  Error: 0.33329896195"
       ]
      },
      {
       "output_type": "stream",
       "stream": "stdout",
       "text": [
        "\n",
        "7th iteration.  Error: 0.295778432078"
       ]
      },
      {
       "output_type": "stream",
       "stream": "stdout",
       "text": [
        "\n",
        "8th iteration.  Error: 0.266739708855"
       ]
      },
      {
       "output_type": "stream",
       "stream": "stdout",
       "text": [
        "\n",
        "9th iteration.  Error: 0.243511314591"
       ]
      },
      {
       "output_type": "stream",
       "stream": "stdout",
       "text": [
        "\n",
        "10th iteration.  Error: 0.224451412749"
       ]
      },
      {
       "output_type": "stream",
       "stream": "stdout",
       "text": [
        "\n",
        "11th iteration.  Error: 0.20849226522"
       ]
      },
      {
       "output_type": "stream",
       "stream": "stdout",
       "text": [
        "\n",
        "12th iteration.  Error: 0.194907458305"
       ]
      },
      {
       "output_type": "stream",
       "stream": "stdout",
       "text": [
        "\n",
        "13th iteration.  Error: 0.183184535341"
       ]
      },
      {
       "output_type": "stream",
       "stream": "stdout",
       "text": [
        "\n",
        "14th iteration.  Error: 0.172950958598"
       ]
      },
      {
       "output_type": "stream",
       "stream": "stdout",
       "text": [
        "\n",
        "15th iteration.  Error: 0.16392899173"
       ]
      },
      {
       "output_type": "stream",
       "stream": "stdout",
       "text": [
        "\n",
        "16th iteration.  Error: 0.15590707576"
       ]
      },
      {
       "output_type": "stream",
       "stream": "stdout",
       "text": [
        "\n",
        "17th iteration.  Error: 0.148721044121"
       ]
      },
      {
       "output_type": "stream",
       "stream": "stdout",
       "text": [
        "\n",
        "18th iteration.  Error: 0.142241429575"
       ]
      },
      {
       "output_type": "stream",
       "stream": "stdout",
       "text": [
        "\n",
        "19th iteration.  Error: 0.136364667458"
       ]
      },
      {
       "output_type": "stream",
       "stream": "stdout",
       "text": [
        "\n",
        "20th iteration.  Error: 0.131006862164"
       ]
      },
      {
       "output_type": "stream",
       "stream": "stdout",
       "text": [
        "\n",
        "21th iteration.  Error: 0.126099282283"
       ]
      },
      {
       "output_type": "stream",
       "stream": "stdout",
       "text": [
        "\n",
        "22th iteration.  Error: 0.121585047453"
       ]
      },
      {
       "output_type": "stream",
       "stream": "stdout",
       "text": [
        "\n",
        "23th iteration.  Error: 0.117416653092"
       ]
      },
      {
       "output_type": "stream",
       "stream": "stdout",
       "text": [
        "\n",
        "24th iteration.  Error: 0.113554094698"
       ]
      },
      {
       "output_type": "stream",
       "stream": "stdout",
       "text": [
        "\n",
        "25th iteration.  Error: 0.109963428123"
       ]
      },
      {
       "output_type": "stream",
       "stream": "stdout",
       "text": [
        "\n",
        "26th iteration.  Error: 0.106615651451"
       ]
      },
      {
       "output_type": "stream",
       "stream": "stdout",
       "text": [
        "\n",
        "27th iteration.  Error: 0.103485827306"
       ]
      },
      {
       "output_type": "stream",
       "stream": "stdout",
       "text": [
        "\n",
        "28th iteration.  Error: 0.100552387077"
       ]
      },
      {
       "output_type": "stream",
       "stream": "stdout",
       "text": [
        "\n",
        "29th iteration.  Error: 0.0977965743283"
       ]
      },
      {
       "output_type": "stream",
       "stream": "stdout",
       "text": [
        "\n",
        "30th iteration.  Error: 0.0952019958074"
       ]
      },
      {
       "output_type": "stream",
       "stream": "stdout",
       "text": [
        "\n",
        "31th iteration.  Error: 0.0927542564264"
       ]
      },
      {
       "output_type": "stream",
       "stream": "stdout",
       "text": [
        "\n",
        "32th iteration.  Error: 0.0904406603555"
       ]
      },
      {
       "output_type": "stream",
       "stream": "stdout",
       "text": [
        "\n",
        "33th iteration.  Error: 0.0882499646016"
       ]
      },
      {
       "output_type": "stream",
       "stream": "stdout",
       "text": [
        "\n",
        "34th iteration.  Error: 0.0861721745722"
       ]
      },
      {
       "output_type": "stream",
       "stream": "stdout",
       "text": [
        "\n",
        "35th iteration.  Error: 0.0841983734679"
       ]
      },
      {
       "output_type": "stream",
       "stream": "stdout",
       "text": [
        "\n",
        "36th iteration.  Error: 0.0823205791145"
       ]
      },
      {
       "output_type": "stream",
       "stream": "stdout",
       "text": [
        "\n",
        "37th iteration.  Error: 0.080531623196"
       ]
      },
      {
       "output_type": "stream",
       "stream": "stdout",
       "text": [
        "\n",
        "38th iteration.  Error: 0.0788250488804"
       ]
      },
      {
       "output_type": "stream",
       "stream": "stdout",
       "text": [
        "\n",
        "39th iteration.  Error: 0.077195023636"
       ]
      },
      {
       "output_type": "stream",
       "stream": "stdout",
       "text": [
        "\n",
        "40th iteration.  Error: 0.0756362646575"
       ]
      },
      {
       "output_type": "stream",
       "stream": "stdout",
       "text": [
        "\n",
        "41th iteration.  Error: 0.0741439748135"
       ]
      },
      {
       "output_type": "stream",
       "stream": "stdout",
       "text": [
        "\n",
        "42th iteration.  Error: 0.0727137874143"
       ]
      },
      {
       "output_type": "stream",
       "stream": "stdout",
       "text": [
        "\n",
        "43th iteration.  Error: 0.0713417184069"
       ]
      },
      {
       "output_type": "stream",
       "stream": "stdout",
       "text": [
        "\n",
        "44th iteration.  Error: 0.0700241248524"
       ]
      },
      {
       "output_type": "stream",
       "stream": "stdout",
       "text": [
        "\n",
        "45th iteration.  Error: 0.0687576687369"
       ]
      },
      {
       "output_type": "stream",
       "stream": "stdout",
       "text": [
        "\n",
        "46th iteration.  Error: 0.0675392853299"
       ]
      },
      {
       "output_type": "stream",
       "stream": "stdout",
       "text": [
        "\n",
        "47th iteration.  Error: 0.0663661554334"
       ]
      },
      {
       "output_type": "stream",
       "stream": "stdout",
       "text": [
        "\n",
        "48th iteration.  Error: 0.0652356809719"
       ]
      },
      {
       "output_type": "stream",
       "stream": "stdout",
       "text": [
        "\n",
        "49th iteration.  Error: 0.0641454634605"
       ]
      },
      {
       "output_type": "stream",
       "stream": "stdout",
       "text": [
        "\n",
        "50th iteration.  Error: 0.0630932849609"
       ]
      },
      {
       "output_type": "stream",
       "stream": "stdout",
       "text": [
        "\n",
        "51th iteration.  Error: 0.0620770911943"
       ]
      },
      {
       "output_type": "stream",
       "stream": "stdout",
       "text": [
        "\n",
        "52th iteration.  Error: 0.0610949765302"
       ]
      },
      {
       "output_type": "stream",
       "stream": "stdout",
       "text": [
        "\n",
        "53th iteration.  Error: 0.0601451706104"
       ]
      },
      {
       "output_type": "stream",
       "stream": "stdout",
       "text": [
        "\n",
        "54th iteration.  Error: 0.0592260264039"
       ]
      },
      {
       "output_type": "stream",
       "stream": "stdout",
       "text": [
        "\n",
        "55th iteration.  Error: 0.0583360095156"
       ]
      },
      {
       "output_type": "stream",
       "stream": "stdout",
       "text": [
        "\n",
        "56th iteration.  Error: 0.0574736885968"
       ]
      },
      {
       "output_type": "stream",
       "stream": "stdout",
       "text": [
        "\n",
        "57th iteration.  Error: 0.0566377267277"
       ]
      },
      {
       "output_type": "stream",
       "stream": "stdout",
       "text": [
        "\n",
        "58th iteration.  Error: 0.0558268736568"
       ]
      },
      {
       "output_type": "stream",
       "stream": "stdout",
       "text": [
        "\n",
        "59th iteration.  Error: 0.0550399587998"
       ]
      },
      {
       "output_type": "stream",
       "stream": "stdout",
       "text": [
        "\n",
        "60th iteration.  Error: 0.0542758849121"
       ]
      },
      {
       "output_type": "stream",
       "stream": "stdout",
       "text": [
        "\n",
        "61th iteration.  Error: 0.0535336223594"
       ]
      },
      {
       "output_type": "stream",
       "stream": "stdout",
       "text": [
        "\n",
        "62th iteration.  Error: 0.0528122039219"
       ]
      },
      {
       "output_type": "stream",
       "stream": "stdout",
       "text": [
        "\n",
        "63th iteration.  Error: 0.052110720074"
       ]
      },
      {
       "output_type": "stream",
       "stream": "stdout",
       "text": [
        "\n",
        "64th iteration.  Error: 0.0514283146904"
       ]
      },
      {
       "output_type": "stream",
       "stream": "stdout",
       "text": [
        "\n",
        "65th iteration.  Error: 0.050764181132"
       ]
      },
      {
       "output_type": "stream",
       "stream": "stdout",
       "text": [
        "\n",
        "66th iteration.  Error: 0.0501175586746"
       ]
      },
      {
       "output_type": "stream",
       "stream": "stdout",
       "text": [
        "\n",
        "67th iteration.  Error: 0.0494877292456"
       ]
      },
      {
       "output_type": "stream",
       "stream": "stdout",
       "text": [
        "\n",
        "68th iteration.  Error: 0.0488740144361"
       ]
      },
      {
       "output_type": "stream",
       "stream": "stdout",
       "text": [
        "\n",
        "69th iteration.  Error: 0.0482757727638"
       ]
      },
      {
       "output_type": "stream",
       "stream": "stdout",
       "text": [
        "\n",
        "70th iteration.  Error: 0.0476923971616"
       ]
      },
      {
       "output_type": "stream",
       "stream": "stdout",
       "text": [
        "\n",
        "71th iteration.  Error: 0.0471233126688"
       ]
      },
      {
       "output_type": "stream",
       "stream": "stdout",
       "text": [
        "\n",
        "72th iteration.  Error: 0.0465679743087"
       ]
      },
      {
       "output_type": "stream",
       "stream": "stdout",
       "text": [
        "\n",
        "73th iteration.  Error: 0.0460258651331"
       ]
      },
      {
       "output_type": "stream",
       "stream": "stdout",
       "text": [
        "\n",
        "74th iteration.  Error: 0.0454964944191"
       ]
      },
      {
       "output_type": "stream",
       "stream": "stdout",
       "text": [
        "\n",
        "75th iteration.  Error: 0.0449793960046"
       ]
      },
      {
       "output_type": "stream",
       "stream": "stdout",
       "text": [
        "\n",
        "76th iteration.  Error: 0.0444741267507"
       ]
      },
      {
       "output_type": "stream",
       "stream": "stdout",
       "text": [
        "\n",
        "77th iteration.  Error: 0.0439802651178"
       ]
      },
      {
       "output_type": "stream",
       "stream": "stdout",
       "text": [
        "\n",
        "78th iteration.  Error: 0.0434974098484"
       ]
      },
      {
       "output_type": "stream",
       "stream": "stdout",
       "text": [
        "\n",
        "79th iteration.  Error: 0.0430251787449"
       ]
      },
      {
       "output_type": "stream",
       "stream": "stdout",
       "text": [
        "\n",
        "80th iteration.  Error: 0.0425632075364"
       ]
      },
      {
       "output_type": "stream",
       "stream": "stdout",
       "text": [
        "\n",
        "81th iteration.  Error: 0.042111148825"
       ]
      },
      {
       "output_type": "stream",
       "stream": "stdout",
       "text": [
        "\n",
        "82th iteration.  Error: 0.0416686711074"
       ]
      },
      {
       "output_type": "stream",
       "stream": "stdout",
       "text": [
        "\n",
        "83th iteration.  Error: 0.0412354578633"
       ]
      },
      {
       "output_type": "stream",
       "stream": "stdout",
       "text": [
        "\n",
        "84th iteration.  Error: 0.0408112067073"
       ]
      },
      {
       "output_type": "stream",
       "stream": "stdout",
       "text": [
        "\n",
        "85th iteration.  Error: 0.0403956285973"
       ]
      },
      {
       "output_type": "stream",
       "stream": "stdout",
       "text": [
        "\n",
        "86th iteration.  Error: 0.039988447097"
       ]
      },
      {
       "output_type": "stream",
       "stream": "stdout",
       "text": [
        "\n",
        "87th iteration.  Error: 0.0395893976864"
       ]
      },
      {
       "output_type": "stream",
       "stream": "stdout",
       "text": [
        "\n",
        "88th iteration.  Error: 0.0391982271176"
       ]
      },
      {
       "output_type": "stream",
       "stream": "stdout",
       "text": [
        "\n",
        "89th iteration.  Error: 0.0388146928128"
       ]
      },
      {
       "output_type": "stream",
       "stream": "stdout",
       "text": [
        "\n",
        "90th iteration.  Error: 0.0384385623003"
       ]
      },
      {
       "output_type": "stream",
       "stream": "stdout",
       "text": [
        "\n",
        "91th iteration.  Error: 0.0380696126864"
       ]
      },
      {
       "output_type": "stream",
       "stream": "stdout",
       "text": [
        "\n",
        "92th iteration.  Error: 0.0377076301602"
       ]
      },
      {
       "output_type": "stream",
       "stream": "stdout",
       "text": [
        "\n",
        "93th iteration.  Error: 0.0373524095294"
       ]
      },
      {
       "output_type": "stream",
       "stream": "stdout",
       "text": [
        "\n",
        "94th iteration.  Error: 0.0370037537842"
       ]
      },
      {
       "output_type": "stream",
       "stream": "stdout",
       "text": [
        "\n",
        "95th iteration.  Error: 0.0366614736878"
       ]
      },
      {
       "output_type": "stream",
       "stream": "stdout",
       "text": [
        "\n",
        "96th iteration.  Error: 0.0363253873916"
       ]
      },
      {
       "output_type": "stream",
       "stream": "stdout",
       "text": [
        "\n",
        "97th iteration.  Error: 0.0359953200729"
       ]
      },
      {
       "output_type": "stream",
       "stream": "stdout",
       "text": [
        "\n",
        "98th iteration.  Error: 0.0356711035942"
       ]
      },
      {
       "output_type": "stream",
       "stream": "stdout",
       "text": [
        "\n",
        "99th iteration.  Error: 0.0353525761821"
       ]
      },
      {
       "output_type": "stream",
       "stream": "stdout",
       "text": [
        "\n",
        "100th iteration.  Error: 0.035039582125"
       ]
      },
      {
       "output_type": "stream",
       "stream": "stdout",
       "text": [
        "\n",
        "101th iteration.  Error: 0.0347319714874"
       ]
      },
      {
       "output_type": "stream",
       "stream": "stdout",
       "text": [
        "\n",
        "102th iteration.  Error: 0.0344295998415"
       ]
      },
      {
       "output_type": "stream",
       "stream": "stdout",
       "text": [
        "\n",
        "103th iteration.  Error: 0.034132328012"
       ]
      },
      {
       "output_type": "stream",
       "stream": "stdout",
       "text": [
        "\n",
        "104th iteration.  Error: 0.0338400218372"
       ]
      },
      {
       "output_type": "stream",
       "stream": "stdout",
       "text": [
        "\n",
        "105th iteration.  Error: 0.0335525519412"
       ]
      },
      {
       "output_type": "stream",
       "stream": "stdout",
       "text": [
        "\n",
        "106th iteration.  Error: 0.0332697935197"
       ]
      },
      {
       "output_type": "stream",
       "stream": "stdout",
       "text": [
        "\n",
        "107th iteration.  Error: 0.0329916261371"
       ]
      },
      {
       "output_type": "stream",
       "stream": "stdout",
       "text": [
        "\n",
        "108th iteration.  Error: 0.0327179335342"
       ]
      },
      {
       "output_type": "stream",
       "stream": "stdout",
       "text": [
        "\n",
        "109th iteration.  Error: 0.032448603446"
       ]
      },
      {
       "output_type": "stream",
       "stream": "stdout",
       "text": [
        "\n",
        "110th iteration.  Error: 0.0321835274291"
       ]
      },
      {
       "output_type": "stream",
       "stream": "stdout",
       "text": [
        "\n",
        "111th iteration.  Error: 0.0319226006987"
       ]
      },
      {
       "output_type": "stream",
       "stream": "stdout",
       "text": [
        "\n",
        "112th iteration.  Error: 0.0316657219726"
       ]
      },
      {
       "output_type": "stream",
       "stream": "stdout",
       "text": [
        "\n",
        "113th iteration.  Error: 0.0314127933247"
       ]
      },
      {
       "output_type": "stream",
       "stream": "stdout",
       "text": [
        "\n",
        "114th iteration.  Error: 0.0311637200446"
       ]
      },
      {
       "output_type": "stream",
       "stream": "stdout",
       "text": [
        "\n",
        "115th iteration.  Error: 0.030918410505"
       ]
      },
      {
       "output_type": "stream",
       "stream": "stdout",
       "text": [
        "\n",
        "116th iteration.  Error: 0.0306767760355"
       ]
      },
      {
       "output_type": "stream",
       "stream": "stdout",
       "text": [
        "\n",
        "117th iteration.  Error: 0.0304387308025"
       ]
      },
      {
       "output_type": "stream",
       "stream": "stdout",
       "text": [
        "\n",
        "118th iteration.  Error: 0.0302041916947"
       ]
      },
      {
       "output_type": "stream",
       "stream": "stdout",
       "text": [
        "\n",
        "119th iteration.  Error: 0.0299730782152"
       ]
      },
      {
       "output_type": "stream",
       "stream": "stdout",
       "text": [
        "\n",
        "120th iteration.  Error: 0.0297453123773"
       ]
      },
      {
       "output_type": "stream",
       "stream": "stdout",
       "text": [
        "\n",
        "121th iteration.  Error: 0.0295208186062"
       ]
      },
      {
       "output_type": "stream",
       "stream": "stdout",
       "text": [
        "\n",
        "122th iteration.  Error: 0.0292995236454"
       ]
      },
      {
       "output_type": "stream",
       "stream": "stdout",
       "text": [
        "\n",
        "123th iteration.  Error: 0.0290813564667"
       ]
      },
      {
       "output_type": "stream",
       "stream": "stdout",
       "text": [
        "\n",
        "124th iteration.  Error: 0.0288662481853"
       ]
      },
      {
       "output_type": "stream",
       "stream": "stdout",
       "text": [
        "\n",
        "125th iteration.  Error: 0.0286541319782"
       ]
      },
      {
       "output_type": "stream",
       "stream": "stdout",
       "text": [
        "\n",
        "126th iteration.  Error: 0.0284449430065"
       ]
      },
      {
       "output_type": "stream",
       "stream": "stdout",
       "text": [
        "\n",
        "127th iteration.  Error: 0.0282386183411"
       ]
      },
      {
       "output_type": "stream",
       "stream": "stdout",
       "text": [
        "\n",
        "128th iteration.  Error: 0.0280350968921"
       ]
      },
      {
       "output_type": "stream",
       "stream": "stdout",
       "text": [
        "\n",
        "129th iteration.  Error: 0.027834319341"
       ]
      },
      {
       "output_type": "stream",
       "stream": "stdout",
       "text": [
        "\n",
        "130th iteration.  Error: 0.027636228076"
       ]
      },
      {
       "output_type": "stream",
       "stream": "stdout",
       "text": [
        "\n",
        "131th iteration.  Error: 0.0274407671302"
       ]
      },
      {
       "output_type": "stream",
       "stream": "stdout",
       "text": [
        "\n",
        "132th iteration.  Error: 0.0272478821223"
       ]
      },
      {
       "output_type": "stream",
       "stream": "stdout",
       "text": [
        "\n",
        "133th iteration.  Error: 0.0270575202003"
       ]
      },
      {
       "output_type": "stream",
       "stream": "stdout",
       "text": [
        "\n",
        "134th iteration.  Error: 0.026869629987"
       ]
      },
      {
       "output_type": "stream",
       "stream": "stdout",
       "text": [
        "\n",
        "135th iteration.  Error: 0.0266841615282"
       ]
      },
      {
       "output_type": "stream",
       "stream": "stdout",
       "text": [
        "\n",
        "136th iteration.  Error: 0.0265010662434"
       ]
      },
      {
       "output_type": "stream",
       "stream": "stdout",
       "text": [
        "\n",
        "137th iteration.  Error: 0.0263202968776"
       ]
      },
      {
       "output_type": "stream",
       "stream": "stdout",
       "text": [
        "\n",
        "138th iteration.  Error: 0.0261418074563"
       ]
      },
      {
       "output_type": "stream",
       "stream": "stdout",
       "text": [
        "\n",
        "139th iteration.  Error: 0.0259655532415"
       ]
      },
      {
       "output_type": "stream",
       "stream": "stdout",
       "text": [
        "\n",
        "140th iteration.  Error: 0.0257914906896"
       ]
      },
      {
       "output_type": "stream",
       "stream": "stdout",
       "text": [
        "\n",
        "141th iteration.  Error: 0.0256195774117"
       ]
      },
      {
       "output_type": "stream",
       "stream": "stdout",
       "text": [
        "\n",
        "142th iteration.  Error: 0.0254497721345"
       ]
      },
      {
       "output_type": "stream",
       "stream": "stdout",
       "text": [
        "\n",
        "143th iteration.  Error: 0.0252820346635"
       ]
      },
      {
       "output_type": "stream",
       "stream": "stdout",
       "text": [
        "\n",
        "144th iteration.  Error: 0.0251163258477"
       ]
      },
      {
       "output_type": "stream",
       "stream": "stdout",
       "text": [
        "\n",
        "145th iteration.  Error: 0.024952607545"
       ]
      },
      {
       "output_type": "stream",
       "stream": "stdout",
       "text": [
        "\n",
        "146th iteration.  Error: 0.0247908425895"
       ]
      },
      {
       "output_type": "stream",
       "stream": "stdout",
       "text": [
        "\n",
        "147th iteration.  Error: 0.0246309947604"
       ]
      },
      {
       "output_type": "stream",
       "stream": "stdout",
       "text": [
        "\n",
        "148th iteration.  Error: 0.0244730287513"
       ]
      },
      {
       "output_type": "stream",
       "stream": "stdout",
       "text": [
        "\n",
        "149th iteration.  Error: 0.024316910141"
       ]
      },
      {
       "output_type": "stream",
       "stream": "stdout",
       "text": [
        "\n",
        "150th iteration.  Error: 0.024162605366"
       ]
      },
      {
       "output_type": "stream",
       "stream": "stdout",
       "text": [
        "\n",
        "151th iteration.  Error: 0.0240100816931"
       ]
      },
      {
       "output_type": "stream",
       "stream": "stdout",
       "text": [
        "\n",
        "152th iteration.  Error: 0.0238593071937"
       ]
      },
      {
       "output_type": "stream",
       "stream": "stdout",
       "text": [
        "\n",
        "153th iteration.  Error: 0.0237102507187"
       ]
      },
      {
       "output_type": "stream",
       "stream": "stdout",
       "text": [
        "\n",
        "154th iteration.  Error: 0.0235628818746"
       ]
      },
      {
       "output_type": "stream",
       "stream": "stdout",
       "text": [
        "\n",
        "155th iteration.  Error: 0.0234171710004"
       ]
      },
      {
       "output_type": "stream",
       "stream": "stdout",
       "text": [
        "\n",
        "156th iteration.  Error: 0.0232730891454"
       ]
      },
      {
       "output_type": "stream",
       "stream": "stdout",
       "text": [
        "\n",
        "157th iteration.  Error: 0.0231306080475"
       ]
      },
      {
       "output_type": "stream",
       "stream": "stdout",
       "text": [
        "\n",
        "158th iteration.  Error: 0.0229897001125"
       ]
      },
      {
       "output_type": "stream",
       "stream": "stdout",
       "text": [
        "\n",
        "159th iteration.  Error: 0.0228503383947"
       ]
      },
      {
       "output_type": "stream",
       "stream": "stdout",
       "text": [
        "\n",
        "160th iteration.  Error: 0.0227124965771"
       ]
      },
      {
       "output_type": "stream",
       "stream": "stdout",
       "text": [
        "\n",
        "161th iteration.  Error: 0.0225761489531"
       ]
      },
      {
       "output_type": "stream",
       "stream": "stdout",
       "text": [
        "\n",
        "162th iteration.  Error: 0.0224412704086"
       ]
      },
      {
       "output_type": "stream",
       "stream": "stdout",
       "text": [
        "\n",
        "163th iteration.  Error: 0.0223078364049"
       ]
      },
      {
       "output_type": "stream",
       "stream": "stdout",
       "text": [
        "\n",
        "164th iteration.  Error: 0.022175822962"
       ]
      },
      {
       "output_type": "stream",
       "stream": "stdout",
       "text": [
        "\n",
        "165th iteration.  Error: 0.0220452066422"
       ]
      },
      {
       "output_type": "stream",
       "stream": "stdout",
       "text": [
        "\n",
        "166th iteration.  Error: 0.0219159645353"
       ]
      },
      {
       "output_type": "stream",
       "stream": "stdout",
       "text": [
        "\n",
        "167th iteration.  Error: 0.0217880742429"
       ]
      },
      {
       "output_type": "stream",
       "stream": "stdout",
       "text": [
        "\n",
        "168th iteration.  Error: 0.0216615138645"
       ]
      },
      {
       "output_type": "stream",
       "stream": "stdout",
       "text": [
        "\n",
        "169th iteration.  Error: 0.0215362619831"
       ]
      },
      {
       "output_type": "stream",
       "stream": "stdout",
       "text": [
        "\n",
        "170th iteration.  Error: 0.0214122976523"
       ]
      },
      {
       "output_type": "stream",
       "stream": "stdout",
       "text": [
        "\n",
        "171th iteration.  Error: 0.0212896003825"
       ]
      },
      {
       "output_type": "stream",
       "stream": "stdout",
       "text": [
        "\n",
        "172th iteration.  Error: 0.0211681501289"
       ]
      },
      {
       "output_type": "stream",
       "stream": "stdout",
       "text": [
        "\n",
        "173th iteration.  Error: 0.021047927279"
       ]
      },
      {
       "output_type": "stream",
       "stream": "stdout",
       "text": [
        "\n",
        "174th iteration.  Error: 0.0209289126412"
       ]
      },
      {
       "output_type": "stream",
       "stream": "stdout",
       "text": [
        "\n",
        "175th iteration.  Error: 0.0208110874327"
       ]
      },
      {
       "output_type": "stream",
       "stream": "stdout",
       "text": [
        "\n",
        "176th iteration.  Error: 0.0206944332692"
       ]
      },
      {
       "output_type": "stream",
       "stream": "stdout",
       "text": [
        "\n",
        "177th iteration.  Error: 0.0205789321539"
       ]
      },
      {
       "output_type": "stream",
       "stream": "stdout",
       "text": [
        "\n",
        "178th iteration.  Error: 0.0204645664673"
       ]
      },
      {
       "output_type": "stream",
       "stream": "stdout",
       "text": [
        "\n",
        "179th iteration.  Error: 0.020351318957"
       ]
      },
      {
       "output_type": "stream",
       "stream": "stdout",
       "text": [
        "\n",
        "180th iteration.  Error: 0.0202391727282"
       ]
      },
      {
       "output_type": "stream",
       "stream": "stdout",
       "text": [
        "\n",
        "181th iteration.  Error: 0.0201281112344"
       ]
      },
      {
       "output_type": "stream",
       "stream": "stdout",
       "text": [
        "\n",
        "182th iteration.  Error: 0.0200181182681"
       ]
      },
      {
       "output_type": "stream",
       "stream": "stdout",
       "text": [
        "\n",
        "183th iteration.  Error: 0.0199091779523"
       ]
      },
      {
       "output_type": "stream",
       "stream": "stdout",
       "text": [
        "\n",
        "184th iteration.  Error: 0.0198012747319"
       ]
      },
      {
       "output_type": "stream",
       "stream": "stdout",
       "text": [
        "\n",
        "185th iteration.  Error: 0.019694393365"
       ]
      },
      {
       "output_type": "stream",
       "stream": "stdout",
       "text": [
        "\n",
        "186th iteration.  Error: 0.0195885189159"
       ]
      },
      {
       "output_type": "stream",
       "stream": "stdout",
       "text": [
        "\n",
        "187th iteration.  Error: 0.0194836367464"
       ]
      },
      {
       "output_type": "stream",
       "stream": "stdout",
       "text": [
        "\n",
        "188th iteration.  Error: 0.0193797325086"
       ]
      },
      {
       "output_type": "stream",
       "stream": "stdout",
       "text": [
        "\n",
        "189th iteration.  Error: 0.0192767921381"
       ]
      },
      {
       "output_type": "stream",
       "stream": "stdout",
       "text": [
        "\n",
        "190th iteration.  Error: 0.019174801846"
       ]
      },
      {
       "output_type": "stream",
       "stream": "stdout",
       "text": [
        "\n",
        "191th iteration.  Error: 0.019073748113"
       ]
      },
      {
       "output_type": "stream",
       "stream": "stdout",
       "text": [
        "\n",
        "192th iteration.  Error: 0.0189736176821"
       ]
      },
      {
       "output_type": "stream",
       "stream": "stdout",
       "text": [
        "\n",
        "193th iteration.  Error: 0.0188743975525"
       ]
      },
      {
       "output_type": "stream",
       "stream": "stdout",
       "text": [
        "\n",
        "194th iteration.  Error: 0.0187760749732"
       ]
      },
      {
       "output_type": "stream",
       "stream": "stdout",
       "text": [
        "\n",
        "195th iteration.  Error: 0.0186786374369"
       ]
      },
      {
       "output_type": "stream",
       "stream": "stdout",
       "text": [
        "\n",
        "196th iteration.  Error: 0.0185820726744"
       ]
      },
      {
       "output_type": "stream",
       "stream": "stdout",
       "text": [
        "\n",
        "197th iteration.  Error: 0.0184863686483"
       ]
      },
      {
       "output_type": "stream",
       "stream": "stdout",
       "text": [
        "\n",
        "198th iteration.  Error: 0.0183915135482"
       ]
      },
      {
       "output_type": "stream",
       "stream": "stdout",
       "text": [
        "\n",
        "199th iteration.  Error: 0.0182974957846"
       ]
      },
      {
       "output_type": "stream",
       "stream": "stdout",
       "text": [
        "\n",
        "200th iteration.  Error: 0.0182043039841"
       ]
      },
      {
       "output_type": "stream",
       "stream": "stdout",
       "text": [
        "\n",
        "201th iteration.  Error: 0.0181119269843"
       ]
      },
      {
       "output_type": "stream",
       "stream": "stdout",
       "text": [
        "\n",
        "202th iteration.  Error: 0.0180203538284"
       ]
      },
      {
       "output_type": "stream",
       "stream": "stdout",
       "text": [
        "\n",
        "203th iteration.  Error: 0.017929573761"
       ]
      },
      {
       "output_type": "stream",
       "stream": "stdout",
       "text": [
        "\n",
        "204th iteration.  Error: 0.0178395762231"
       ]
      },
      {
       "output_type": "stream",
       "stream": "stdout",
       "text": [
        "\n",
        "205th iteration.  Error: 0.0177503508477"
       ]
      },
      {
       "output_type": "stream",
       "stream": "stdout",
       "text": [
        "\n",
        "206th iteration.  Error: 0.0176618874551"
       ]
      },
      {
       "output_type": "stream",
       "stream": "stdout",
       "text": [
        "\n",
        "207th iteration.  Error: 0.017574176049"
       ]
      },
      {
       "output_type": "stream",
       "stream": "stdout",
       "text": [
        "\n",
        "208th iteration.  Error: 0.0174872068122"
       ]
      },
      {
       "output_type": "stream",
       "stream": "stdout",
       "text": [
        "\n",
        "209th iteration.  Error: 0.0174009701022"
       ]
      },
      {
       "output_type": "stream",
       "stream": "stdout",
       "text": [
        "\n",
        "210th iteration.  Error: 0.0173154564479"
       ]
      },
      {
       "output_type": "stream",
       "stream": "stdout",
       "text": [
        "\n",
        "211th iteration.  Error: 0.0172306565452"
       ]
      },
      {
       "output_type": "stream",
       "stream": "stdout",
       "text": [
        "\n",
        "212th iteration.  Error: 0.0171465612534"
       ]
      },
      {
       "output_type": "stream",
       "stream": "stdout",
       "text": [
        "\n",
        "213th iteration.  Error: 0.017063161592"
       ]
      },
      {
       "output_type": "stream",
       "stream": "stdout",
       "text": [
        "\n",
        "214th iteration.  Error: 0.0169804487364"
       ]
      },
      {
       "output_type": "stream",
       "stream": "stdout",
       "text": [
        "\n",
        "215th iteration.  Error: 0.0168984140151"
       ]
      },
      {
       "output_type": "stream",
       "stream": "stdout",
       "text": [
        "\n",
        "216th iteration.  Error: 0.0168170489059"
       ]
      },
      {
       "output_type": "stream",
       "stream": "stdout",
       "text": [
        "\n",
        "217th iteration.  Error: 0.0167363450332"
       ]
      },
      {
       "output_type": "stream",
       "stream": "stdout",
       "text": [
        "\n",
        "218th iteration.  Error: 0.0166562941642"
       ]
      },
      {
       "output_type": "stream",
       "stream": "stdout",
       "text": [
        "\n",
        "219th iteration.  Error: 0.016576888206"
       ]
      },
      {
       "output_type": "stream",
       "stream": "stdout",
       "text": [
        "\n",
        "220th iteration.  Error: 0.016498119203"
       ]
      },
      {
       "output_type": "stream",
       "stream": "stdout",
       "text": [
        "\n",
        "221th iteration.  Error: 0.0164199793333"
       ]
      },
      {
       "output_type": "stream",
       "stream": "stdout",
       "text": [
        "\n",
        "222th iteration.  Error: 0.0163424609065"
       ]
      },
      {
       "output_type": "stream",
       "stream": "stdout",
       "text": [
        "\n",
        "223th iteration.  Error: 0.0162655563602"
       ]
      },
      {
       "output_type": "stream",
       "stream": "stdout",
       "text": [
        "\n",
        "224th iteration.  Error: 0.0161892582581"
       ]
      },
      {
       "output_type": "stream",
       "stream": "stdout",
       "text": [
        "\n",
        "225th iteration.  Error: 0.0161135592866"
       ]
      },
      {
       "output_type": "stream",
       "stream": "stdout",
       "text": [
        "\n",
        "226th iteration.  Error: 0.0160384522527"
       ]
      },
      {
       "output_type": "stream",
       "stream": "stdout",
       "text": [
        "\n",
        "227th iteration.  Error: 0.0159639300814"
       ]
      },
      {
       "output_type": "stream",
       "stream": "stdout",
       "text": [
        "\n",
        "228th iteration.  Error: 0.0158899858132"
       ]
      },
      {
       "output_type": "stream",
       "stream": "stdout",
       "text": [
        "\n",
        "229th iteration.  Error: 0.0158166126015"
       ]
      },
      {
       "output_type": "stream",
       "stream": "stdout",
       "text": [
        "\n",
        "230th iteration.  Error: 0.0157438037107"
       ]
      },
      {
       "output_type": "stream",
       "stream": "stdout",
       "text": [
        "\n",
        "231th iteration.  Error: 0.0156715525137"
       ]
      },
      {
       "output_type": "stream",
       "stream": "stdout",
       "text": [
        "\n",
        "232th iteration.  Error: 0.0155998524896"
       ]
      },
      {
       "output_type": "stream",
       "stream": "stdout",
       "text": [
        "\n",
        "233th iteration.  Error: 0.0155286972217"
       ]
      },
      {
       "output_type": "stream",
       "stream": "stdout",
       "text": [
        "\n",
        "234th iteration.  Error: 0.0154580803954"
       ]
      },
      {
       "output_type": "stream",
       "stream": "stdout",
       "text": [
        "\n",
        "235th iteration.  Error: 0.015387995796"
       ]
      },
      {
       "output_type": "stream",
       "stream": "stdout",
       "text": [
        "\n",
        "236th iteration.  Error: 0.0153184373068"
       ]
      },
      {
       "output_type": "stream",
       "stream": "stdout",
       "text": [
        "\n",
        "237th iteration.  Error: 0.015249398907"
       ]
      },
      {
       "output_type": "stream",
       "stream": "stdout",
       "text": [
        "\n",
        "238th iteration.  Error: 0.0151808746702"
       ]
      },
      {
       "output_type": "stream",
       "stream": "stdout",
       "text": [
        "\n",
        "239th iteration.  Error: 0.0151128587621"
       ]
      },
      {
       "output_type": "stream",
       "stream": "stdout",
       "text": [
        "\n",
        "240th iteration.  Error: 0.0150453454386"
       ]
      },
      {
       "output_type": "stream",
       "stream": "stdout",
       "text": [
        "\n",
        "241th iteration.  Error: 0.0149783290447"
       ]
      },
      {
       "output_type": "stream",
       "stream": "stdout",
       "text": [
        "\n",
        "242th iteration.  Error: 0.014911804012"
       ]
      },
      {
       "output_type": "stream",
       "stream": "stdout",
       "text": [
        "\n",
        "243th iteration.  Error: 0.0148457648574"
       ]
      },
      {
       "output_type": "stream",
       "stream": "stdout",
       "text": [
        "\n",
        "244th iteration.  Error: 0.0147802061814"
       ]
      },
      {
       "output_type": "stream",
       "stream": "stdout",
       "text": [
        "\n",
        "245th iteration.  Error: 0.0147151226666"
       ]
      },
      {
       "output_type": "stream",
       "stream": "stdout",
       "text": [
        "\n",
        "246th iteration.  Error: 0.0146505090758"
       ]
      },
      {
       "output_type": "stream",
       "stream": "stdout",
       "text": [
        "\n",
        "247th iteration.  Error: 0.0145863602506"
       ]
      },
      {
       "output_type": "stream",
       "stream": "stdout",
       "text": [
        "\n",
        "248th iteration.  Error: 0.0145226711102"
       ]
      },
      {
       "output_type": "stream",
       "stream": "stdout",
       "text": [
        "\n",
        "249th iteration.  Error: 0.0144594366495"
       ]
      },
      {
       "output_type": "stream",
       "stream": "stdout",
       "text": [
        "\n",
        "250th iteration.  Error: 0.0143966519378"
       ]
      },
      {
       "output_type": "stream",
       "stream": "stdout",
       "text": [
        "\n",
        "251th iteration.  Error: 0.0143343121176"
       ]
      },
      {
       "output_type": "stream",
       "stream": "stdout",
       "text": [
        "\n",
        "252th iteration.  Error: 0.014272412403"
       ]
      },
      {
       "output_type": "stream",
       "stream": "stdout",
       "text": [
        "\n",
        "253th iteration.  Error: 0.0142109480783"
       ]
      },
      {
       "output_type": "stream",
       "stream": "stdout",
       "text": [
        "\n",
        "254th iteration.  Error: 0.014149914497"
       ]
      },
      {
       "output_type": "stream",
       "stream": "stdout",
       "text": [
        "\n",
        "255th iteration.  Error: 0.0140893070803"
       ]
      },
      {
       "output_type": "stream",
       "stream": "stdout",
       "text": [
        "\n",
        "256th iteration.  Error: 0.0140291213159"
       ]
      },
      {
       "output_type": "stream",
       "stream": "stdout",
       "text": [
        "\n",
        "257th iteration.  Error: 0.0139693527565"
       ]
      },
      {
       "output_type": "stream",
       "stream": "stdout",
       "text": [
        "\n",
        "258th iteration.  Error: 0.0139099970193"
       ]
      },
      {
       "output_type": "stream",
       "stream": "stdout",
       "text": [
        "\n",
        "259th iteration.  Error: 0.0138510497841"
       ]
      },
      {
       "output_type": "stream",
       "stream": "stdout",
       "text": [
        "\n",
        "260th iteration.  Error: 0.0137925067925"
       ]
      },
      {
       "output_type": "stream",
       "stream": "stdout",
       "text": [
        "\n",
        "261th iteration.  Error: 0.0137343638469"
       ]
      },
      {
       "output_type": "stream",
       "stream": "stdout",
       "text": [
        "\n",
        "262th iteration.  Error: 0.0136766168091"
       ]
      },
      {
       "output_type": "stream",
       "stream": "stdout",
       "text": [
        "\n",
        "263th iteration.  Error: 0.0136192615992"
       ]
      },
      {
       "output_type": "stream",
       "stream": "stdout",
       "text": [
        "\n",
        "264th iteration.  Error: 0.0135622941952"
       ]
      },
      {
       "output_type": "stream",
       "stream": "stdout",
       "text": [
        "\n",
        "265th iteration.  Error: 0.013505710631"
       ]
      },
      {
       "output_type": "stream",
       "stream": "stdout",
       "text": [
        "\n",
        "266th iteration.  Error: 0.0134495069962"
       ]
      },
      {
       "output_type": "stream",
       "stream": "stdout",
       "text": [
        "\n",
        "267th iteration.  Error: 0.0133936794346"
       ]
      },
      {
       "output_type": "stream",
       "stream": "stdout",
       "text": [
        "\n",
        "268th iteration.  Error: 0.0133382241438"
       ]
      },
      {
       "output_type": "stream",
       "stream": "stdout",
       "text": [
        "\n",
        "269th iteration.  Error: 0.0132831373736"
       ]
      },
      {
       "output_type": "stream",
       "stream": "stdout",
       "text": [
        "\n",
        "270th iteration.  Error: 0.0132284154255"
       ]
      },
      {
       "output_type": "stream",
       "stream": "stdout",
       "text": [
        "\n",
        "271th iteration.  Error: 0.0131740546516"
       ]
      },
      {
       "output_type": "stream",
       "stream": "stdout",
       "text": [
        "\n",
        "272th iteration.  Error: 0.0131200514541"
       ]
      },
      {
       "output_type": "stream",
       "stream": "stdout",
       "text": [
        "\n",
        "273th iteration.  Error: 0.0130664022838"
       ]
      },
      {
       "output_type": "stream",
       "stream": "stdout",
       "text": [
        "\n",
        "274th iteration.  Error: 0.0130131036399"
       ]
      },
      {
       "output_type": "stream",
       "stream": "stdout",
       "text": [
        "\n",
        "275th iteration.  Error: 0.0129601520687"
       ]
      },
      {
       "output_type": "stream",
       "stream": "stdout",
       "text": [
        "\n",
        "276th iteration.  Error: 0.0129075441631"
       ]
      },
      {
       "output_type": "stream",
       "stream": "stdout",
       "text": [
        "\n",
        "277th iteration.  Error: 0.0128552765615"
       ]
      },
      {
       "output_type": "stream",
       "stream": "stdout",
       "text": [
        "\n",
        "278th iteration.  Error: 0.0128033459474"
       ]
      },
      {
       "output_type": "stream",
       "stream": "stdout",
       "text": [
        "\n",
        "279th iteration.  Error: 0.0127517490484"
       ]
      },
      {
       "output_type": "stream",
       "stream": "stdout",
       "text": [
        "\n",
        "280th iteration.  Error: 0.0127004826354"
       ]
      },
      {
       "output_type": "stream",
       "stream": "stdout",
       "text": [
        "\n",
        "281th iteration.  Error: 0.012649543522"
       ]
      },
      {
       "output_type": "stream",
       "stream": "stdout",
       "text": [
        "\n",
        "282th iteration.  Error: 0.0125989285639"
       ]
      },
      {
       "output_type": "stream",
       "stream": "stdout",
       "text": [
        "\n",
        "283th iteration.  Error: 0.0125486346578"
       ]
      },
      {
       "output_type": "stream",
       "stream": "stdout",
       "text": [
        "\n",
        "284th iteration.  Error: 0.0124986587413"
       ]
      },
      {
       "output_type": "stream",
       "stream": "stdout",
       "text": [
        "\n",
        "285th iteration.  Error: 0.0124489977914"
       ]
      },
      {
       "output_type": "stream",
       "stream": "stdout",
       "text": [
        "\n",
        "286th iteration.  Error: 0.0123996488249"
       ]
      },
      {
       "output_type": "stream",
       "stream": "stdout",
       "text": [
        "\n",
        "287th iteration.  Error: 0.0123506088969"
       ]
      },
      {
       "output_type": "stream",
       "stream": "stdout",
       "text": [
        "\n",
        "288th iteration.  Error: 0.0123018751003"
       ]
      },
      {
       "output_type": "stream",
       "stream": "stdout",
       "text": [
        "\n",
        "289th iteration.  Error: 0.0122534445657"
       ]
      },
      {
       "output_type": "stream",
       "stream": "stdout",
       "text": [
        "\n",
        "290th iteration.  Error: 0.0122053144602"
       ]
      },
      {
       "output_type": "stream",
       "stream": "stdout",
       "text": [
        "\n",
        "291th iteration.  Error: 0.012157481987"
       ]
      },
      {
       "output_type": "stream",
       "stream": "stdout",
       "text": [
        "\n",
        "292th iteration.  Error: 0.012109944385"
       ]
      },
      {
       "output_type": "stream",
       "stream": "stdout",
       "text": [
        "\n",
        "293th iteration.  Error: 0.012062698928"
       ]
      },
      {
       "output_type": "stream",
       "stream": "stdout",
       "text": [
        "\n",
        "294th iteration.  Error: 0.0120157429241"
       ]
      },
      {
       "output_type": "stream",
       "stream": "stdout",
       "text": [
        "\n",
        "295th iteration.  Error: 0.0119690737155"
       ]
      },
      {
       "output_type": "stream",
       "stream": "stdout",
       "text": [
        "\n",
        "296th iteration.  Error: 0.0119226886776"
       ]
      },
      {
       "output_type": "stream",
       "stream": "stdout",
       "text": [
        "\n",
        "297th iteration.  Error: 0.0118765852185"
       ]
      },
      {
       "output_type": "stream",
       "stream": "stdout",
       "text": [
        "\n",
        "298th iteration.  Error: 0.0118307607786"
       ]
      },
      {
       "output_type": "stream",
       "stream": "stdout",
       "text": [
        "\n",
        "299th iteration.  Error: 0.0117852128302"
       ]
      },
      {
       "output_type": "stream",
       "stream": "stdout",
       "text": [
        "\n",
        "300th iteration.  Error: 0.0117399388769"
       ]
      },
      {
       "output_type": "stream",
       "stream": "stdout",
       "text": [
        "\n",
        "301th iteration.  Error: 0.0116949364527"
       ]
      },
      {
       "output_type": "stream",
       "stream": "stdout",
       "text": [
        "\n",
        "302th iteration.  Error: 0.0116502031222"
       ]
      },
      {
       "output_type": "stream",
       "stream": "stdout",
       "text": [
        "\n",
        "303th iteration.  Error: 0.0116057364799"
       ]
      },
      {
       "output_type": "stream",
       "stream": "stdout",
       "text": [
        "\n",
        "304th iteration.  Error: 0.0115615341494"
       ]
      },
      {
       "output_type": "stream",
       "stream": "stdout",
       "text": [
        "\n",
        "305th iteration.  Error: 0.0115175937833"
       ]
      },
      {
       "output_type": "stream",
       "stream": "stdout",
       "text": [
        "\n",
        "306th iteration.  Error: 0.0114739130626"
       ]
      },
      {
       "output_type": "stream",
       "stream": "stdout",
       "text": [
        "\n",
        "307th iteration.  Error: 0.0114304896966"
       ]
      },
      {
       "output_type": "stream",
       "stream": "stdout",
       "text": [
        "\n",
        "308th iteration.  Error: 0.0113873214217"
       ]
      },
      {
       "output_type": "stream",
       "stream": "stdout",
       "text": [
        "\n",
        "309th iteration.  Error: 0.0113444060019"
       ]
      },
      {
       "output_type": "stream",
       "stream": "stdout",
       "text": [
        "\n",
        "310th iteration.  Error: 0.0113017412277"
       ]
      },
      {
       "output_type": "stream",
       "stream": "stdout",
       "text": [
        "\n",
        "311th iteration.  Error: 0.011259324916"
       ]
      },
      {
       "output_type": "stream",
       "stream": "stdout",
       "text": [
        "\n",
        "312th iteration.  Error: 0.0112171549098"
       ]
      },
      {
       "output_type": "stream",
       "stream": "stdout",
       "text": [
        "\n",
        "313th iteration.  Error: 0.0111752290775"
       ]
      },
      {
       "output_type": "stream",
       "stream": "stdout",
       "text": [
        "\n",
        "314th iteration.  Error: 0.0111335453126"
       ]
      },
      {
       "output_type": "stream",
       "stream": "stdout",
       "text": [
        "\n",
        "315th iteration.  Error: 0.0110921015335"
       ]
      },
      {
       "output_type": "stream",
       "stream": "stdout",
       "text": [
        "\n",
        "316th iteration.  Error: 0.0110508956831"
       ]
      },
      {
       "output_type": "stream",
       "stream": "stdout",
       "text": [
        "\n",
        "317th iteration.  Error: 0.0110099257283"
       ]
      },
      {
       "output_type": "stream",
       "stream": "stdout",
       "text": [
        "\n",
        "318th iteration.  Error: 0.0109691896596"
       ]
      },
      {
       "output_type": "stream",
       "stream": "stdout",
       "text": [
        "\n",
        "319th iteration.  Error: 0.0109286854909"
       ]
      },
      {
       "output_type": "stream",
       "stream": "stdout",
       "text": [
        "\n",
        "320th iteration.  Error: 0.0108884112592"
       ]
      },
      {
       "output_type": "stream",
       "stream": "stdout",
       "text": [
        "\n",
        "321th iteration.  Error: 0.0108483650241"
       ]
      },
      {
       "output_type": "stream",
       "stream": "stdout",
       "text": [
        "\n",
        "322th iteration.  Error: 0.0108085448676"
       ]
      },
      {
       "output_type": "stream",
       "stream": "stdout",
       "text": [
        "\n",
        "323th iteration.  Error: 0.0107689488936"
       ]
      },
      {
       "output_type": "stream",
       "stream": "stdout",
       "text": [
        "\n",
        "324th iteration.  Error: 0.0107295752277"
       ]
      },
      {
       "output_type": "stream",
       "stream": "stdout",
       "text": [
        "\n",
        "325th iteration.  Error: 0.010690422017"
       ]
      },
      {
       "output_type": "stream",
       "stream": "stdout",
       "text": [
        "\n",
        "326th iteration.  Error: 0.0106514874296"
       ]
      },
      {
       "output_type": "stream",
       "stream": "stdout",
       "text": [
        "\n",
        "327th iteration.  Error: 0.0106127696542"
       ]
      },
      {
       "output_type": "stream",
       "stream": "stdout",
       "text": [
        "\n",
        "328th iteration.  Error: 0.0105742669003"
       ]
      },
      {
       "output_type": "stream",
       "stream": "stdout",
       "text": [
        "\n",
        "329th iteration.  Error: 0.0105359773973"
       ]
      },
      {
       "output_type": "stream",
       "stream": "stdout",
       "text": [
        "\n",
        "330th iteration.  Error: 0.0104978993945"
       ]
      },
      {
       "output_type": "stream",
       "stream": "stdout",
       "text": [
        "\n",
        "331th iteration.  Error: 0.0104600311609"
       ]
      },
      {
       "output_type": "stream",
       "stream": "stdout",
       "text": [
        "\n",
        "332th iteration.  Error: 0.0104223709849"
       ]
      },
      {
       "output_type": "stream",
       "stream": "stdout",
       "text": [
        "\n",
        "333th iteration.  Error: 0.0103849171736"
       ]
      },
      {
       "output_type": "stream",
       "stream": "stdout",
       "text": [
        "\n",
        "334th iteration.  Error: 0.0103476680533"
       ]
      },
      {
       "output_type": "stream",
       "stream": "stdout",
       "text": [
        "\n",
        "335th iteration.  Error: 0.0103106219685"
       ]
      },
      {
       "output_type": "stream",
       "stream": "stdout",
       "text": [
        "\n",
        "336th iteration.  Error: 0.0102737772821"
       ]
      },
      {
       "output_type": "stream",
       "stream": "stdout",
       "text": [
        "\n",
        "337th iteration.  Error: 0.0102371323749"
       ]
      },
      {
       "output_type": "stream",
       "stream": "stdout",
       "text": [
        "\n",
        "338th iteration.  Error: 0.0102006856456"
       ]
      },
      {
       "output_type": "stream",
       "stream": "stdout",
       "text": [
        "\n",
        "339th iteration.  Error: 0.0101644355103"
       ]
      },
      {
       "output_type": "stream",
       "stream": "stdout",
       "text": [
        "\n",
        "340th iteration.  Error: 0.0101283804022"
       ]
      },
      {
       "output_type": "stream",
       "stream": "stdout",
       "text": [
        "\n",
        "341th iteration.  Error: 0.0100925187719"
       ]
      },
      {
       "output_type": "stream",
       "stream": "stdout",
       "text": [
        "\n",
        "342th iteration.  Error: 0.0100568490864"
       ]
      },
      {
       "output_type": "stream",
       "stream": "stdout",
       "text": [
        "\n",
        "343th iteration.  Error: 0.0100213698294"
       ]
      },
      {
       "output_type": "stream",
       "stream": "stdout",
       "text": [
        "\n",
        "344th iteration.  Error: 0.00998607950104"
       ]
      },
      {
       "output_type": "stream",
       "stream": "stdout",
       "text": [
        "\n"
       ]
      }
     ],
     "prompt_number": 15
    },
    {
     "cell_type": "code",
     "collapsed": false,
     "input": [
      "i"
     ],
     "language": "python",
     "metadata": {},
     "outputs": [
      {
       "metadata": {},
       "output_type": "pyout",
       "prompt_number": 16,
       "text": [
        "344"
       ]
      }
     ],
     "prompt_number": 16
    },
    {
     "cell_type": "code",
     "collapsed": false,
     "input": [
      "pjac = p.reshape(ny-2,nx-2)"
     ],
     "language": "python",
     "metadata": {},
     "outputs": [],
     "prompt_number": 17
    },
    {
     "cell_type": "code",
     "collapsed": false,
     "input": [
      "plot2D(x[1:-1],y[1:-1],pjac)"
     ],
     "language": "python",
     "metadata": {},
     "outputs": [
      {
       "metadata": {},
       "output_type": "display_data",
       "png": "[encoded data removed]",
       "text": [
        "<matplotlib.figure.Figure at 0x7f307615b350>"
       ]
      }
     ],
     "prompt_number": 18
    },
    {
     "cell_type": "code",
     "collapsed": false,
     "input": [
      "p = numpy.zeros((ny-2,nx-2))\n",
      "p = p.reshape(dim,1)"
     ],
     "language": "python",
     "metadata": {},
     "outputs": [],
     "prompt_number": 19
    },
    {
     "cell_type": "code",
     "collapsed": false,
     "input": [
      "Lstar = numpy.tril(A)\n",
      "Linv = numpy.linalg.inv(Lstar)"
     ],
     "language": "python",
     "metadata": {},
     "outputs": [],
     "prompt_number": 20
    },
    {
     "cell_type": "code",
     "collapsed": false,
     "input": [
      "gausscount = 0\n",
      "L2 = 1\n",
      "L2target = 0.01\n",
      "while L2 > L2target:\n",
      "    pnew = numpy.dot(Linv, (b - numpy.dot(U,p)))\n",
      "    L2 = L2_error(pnew, p)\n",
      "    p = pnew.copy()\n",
      "    gausscount+= 1\n"
     ],
     "language": "python",
     "metadata": {},
     "outputs": [],
     "prompt_number": 21
    },
    {
     "cell_type": "code",
     "collapsed": false,
     "input": [
      "gausscount"
     ],
     "language": "python",
     "metadata": {},
     "outputs": [
      {
       "metadata": {},
       "output_type": "pyout",
       "prompt_number": 22,
       "text": [
        "295"
       ]
      }
     ],
     "prompt_number": 22
    },
    {
     "cell_type": "code",
     "collapsed": false,
     "input": [
      "pgaussseid = p.reshape(ny-2,nx-2)\n",
      "plot2D(x[1:-1],y[1:-1],pgaussseid)"
     ],
     "language": "python",
     "metadata": {},
     "outputs": [
      {
       "metadata": {},
       "output_type": "display_data",
       "png": "[encoded data removed]",
       "text": [
        "<matplotlib.figure.Figure at 0x7f307615b210>"
       ]
      }
     ],
     "prompt_number": 23
    },
    {
     "cell_type": "code",
     "collapsed": false,
     "input": [
      "L2_error(pjac,pgaussseid)"
     ],
     "language": "python",
     "metadata": {},
     "outputs": [
      {
       "metadata": {},
       "output_type": "pyout",
       "prompt_number": 24,
       "text": [
        "1.614931968935057"
       ]
      }
     ],
     "prompt_number": 24
    },
    {
     "cell_type": "heading",
     "level": 3,
     "metadata": {},
     "source": [
      "SOR"
     ]
    },
    {
     "cell_type": "markdown",
     "metadata": {},
     "source": [
      "$$p^{n+1} = (D + \\omega L)^{-1} (\\omega b - [\\omega U + (\\omega -1)D]p^k)$$"
     ]
    },
    {
     "cell_type": "markdown",
     "metadata": {},
     "source": [
      "*  only convergent for $0 < \\omega < 2$\n",
      "*  faster than Gauss-Seidel only if $1 < \\omega < 2$\n",
      "\n",
      "$$\\omega \\approx \\frac{2}{1+\\frac{\\pi}{nx}}$$\n",
      "\n",
      "for a square lattice\n",
      "\n",
      "cite: http://www.physics.buffalo.edu/phy410-505/2011/topic3/app1/index.html\n"
     ]
    },
    {
     "cell_type": "code",
     "collapsed": false,
     "input": [
      "omega = 2./(1+numpy.pi/nx)\n",
      "omega"
     ],
     "language": "python",
     "metadata": {},
     "outputs": [
      {
       "metadata": {},
       "output_type": "pyout",
       "prompt_number": 70,
       "text": [
        "1.9091258233136263"
       ]
      }
     ],
     "prompt_number": 70
    },
    {
     "cell_type": "code",
     "collapsed": false,
     "input": [
      "SORinv = numpy.linalg.inv(D + omega*L)"
     ],
     "language": "python",
     "metadata": {},
     "outputs": [],
     "prompt_number": 26
    },
    {
     "cell_type": "code",
     "collapsed": false,
     "input": [
      "p = numpy.zeros((ny-2,nx-2))\n",
      "p = p.reshape(dim,1)"
     ],
     "language": "python",
     "metadata": {},
     "outputs": [],
     "prompt_number": 75
    },
    {
     "cell_type": "code",
     "collapsed": false,
     "input": [
      "sorcount = 0\n",
      "L2 = 1\n",
      "L2target = 0.01\n",
      "while L2 > L2target:\n",
      "    pnew = numpy.dot(SORinv, omega*b - numpy.dot(omega*U + (omega-1)*D,p)) \n",
      "\n",
      "    L2 = L2_error(pnew, p)\n",
      "    p = pnew.copy()\n",
      "    sorcount+= 1"
     ],
     "language": "python",
     "metadata": {},
     "outputs": [],
     "prompt_number": 76
    },
    {
     "cell_type": "code",
     "collapsed": false,
     "input": [
      "sorcount"
     ],
     "language": "python",
     "metadata": {},
     "outputs": [
      {
       "metadata": {},
       "output_type": "pyout",
       "prompt_number": 77,
       "text": [
        "110"
       ]
      }
     ],
     "prompt_number": 77
    },
    {
     "cell_type": "code",
     "collapsed": false,
     "input": [
      "pSOR = p.reshape(ny-2,nx-2)\n",
      "plot2D(x[1:-1],y[1:-1],pSOR)"
     ],
     "language": "python",
     "metadata": {},
     "outputs": [
      {
       "metadata": {},
       "output_type": "display_data",
       "png": "[encoded data removed]",
       "text": [
        "<matplotlib.figure.Figure at 0x7f306d3e9190>"
       ]
      }
     ],
     "prompt_number": 78
    },
    {
     "cell_type": "markdown",
     "metadata": {},
     "source": [
      "Inverting a diagonal matrix:  time tests:"
     ]
    },
    {
     "cell_type": "code",
     "collapsed": false,
     "input": [
      "%%timeit\n",
      "Dinv = numpy.linalg.inv(D)"
     ],
     "language": "python",
     "metadata": {},
     "outputs": [
      {
       "output_type": "stream",
       "stream": "stdout",
       "text": [
        "1 loops, best of 3: 608 ms per loop\n"
       ]
      }
     ],
     "prompt_number": 27
    },
    {
     "cell_type": "code",
     "collapsed": false,
     "input": [
      "%%timeit\n",
      "Dinv2 = numpy.diag(1./numpy.diag(D))"
     ],
     "language": "python",
     "metadata": {},
     "outputs": [
      {
       "output_type": "stream",
       "stream": "stdout",
       "text": [
        "100 loops, best of 3: 8.88 ms per loop\n"
       ]
      }
     ],
     "prompt_number": 38
    },
    {
     "cell_type": "code",
     "collapsed": false,
     "input": [
      "Dinv2 = numpy.diag(1./numpy.diag(D))"
     ],
     "language": "python",
     "metadata": {},
     "outputs": [],
     "prompt_number": 36
    },
    {
     "cell_type": "code",
     "collapsed": false,
     "input": [
      "Dinv == Dinv2"
     ],
     "language": "python",
     "metadata": {},
     "outputs": [
      {
       "metadata": {},
       "output_type": "pyout",
       "prompt_number": 37,
       "text": [
        "array([[ True,  True,  True, ...,  True,  True,  True],\n",
        "       [ True,  True,  True, ...,  True,  True,  True],\n",
        "       [ True,  True,  True, ...,  True,  True,  True],\n",
        "       ..., \n",
        "       [ True,  True,  True, ...,  True,  True,  True],\n",
        "       [ True,  True,  True, ...,  True,  True,  True],\n",
        "       [ True,  True,  True, ...,  True,  True,  True]], dtype=bool)"
       ]
      }
     ],
     "prompt_number": 37
    },
    {
     "cell_type": "heading",
     "level": 3,
     "metadata": {},
     "source": [
      "Scheduled relaxed Jacobi"
     ]
    },
    {
     "cell_type": "markdown",
     "metadata": {},
     "source": [
      "$$p^{n+1} = (D + \\omega_i L)^{-1} (\\omega_i b - [\\omega_i U + (\\omega_i -1)D]p^k)$$\n",
      "\n",
      "From paper:\n",
      "(Optimized for nx = ny = 64)\n",
      "\n",
      "$\\Omega = \\{190.2, 0.9532\\}$\n",
      "$(q_1, q_2) = (1, 63)$\n",
      "\n",
      "use $\\omega_i$ for $q_i$ iterations, then increment i\n"
     ]
    },
    {
     "cell_type": "code",
     "collapsed": false,
     "input": [
      "numpy.random.random((4,4))"
     ],
     "language": "python",
     "metadata": {},
     "outputs": [
      {
       "metadata": {},
       "output_type": "pyout",
       "prompt_number": 92,
       "text": [
        "array([[ 0.33880337,  0.4512928 ,  0.5512201 ,  0.38004901],\n",
        "       [ 0.08556806,  0.15551861,  0.32117246,  0.33917628],\n",
        "       [ 0.04955514,  0.77218258,  0.56378428,  0.8635774 ],\n",
        "       [ 0.03300378,  0.20942181,  0.41947244,  0.35917048]])"
       ]
      }
     ],
     "prompt_number": 92
    },
    {
     "cell_type": "code",
     "collapsed": false,
     "input": [
      "p = numpy.random.random((ny-2,nx-2))\n",
      "p = p.reshape(dim,1)"
     ],
     "language": "python",
     "metadata": {},
     "outputs": [],
     "prompt_number": 93
    },
    {
     "cell_type": "code",
     "collapsed": false,
     "input": [
      "omega = [190.2, 0.9532]\n",
      "q = [1, 63]\n",
      "\n",
      "for i,loopcount in enumerate(q):\n",
      "    for j in range(loopcount):\n",
      "        #pnew = numpy.dot(SORinv, omega[i]*b -\\\n",
      "        #                 numpy.dot(omega[i]*U + (omega[i]-1)*D,p)) \n",
      "        pnew = p - omega[i]*numpy.dot(Dinv, (numpy.dot(A,p)-b))\n",
      "        \n",
      "        p = pnew.copy()"
     ],
     "language": "python",
     "metadata": {},
     "outputs": [],
     "prompt_number": 96
    },
    {
     "cell_type": "markdown",
     "metadata": {},
     "source": [
      "P = 3 SRJ"
     ]
    },
    {
     "cell_type": "code",
     "collapsed": false,
     "input": [
      "omega = [684.3, 20.73, 0.8149]\n",
      "q = [1, 11, 106]\n",
      "\n",
      "for i,loopcount in enumerate(q):\n",
      "    for j in range(loopcount):\n",
      "        #pnew = numpy.dot(SORinv, omega[i]*b -\\\n",
      "        #                 numpy.dot(omega[i]*U + (omega[i]-1)*D,p)) \n",
      "        pnew = p - omega[i]*numpy.dot(Dinv, (numpy.dot(A,p)-b))\n",
      "        \n",
      "        p = pnew.copy()"
     ],
     "language": "python",
     "metadata": {},
     "outputs": [],
     "prompt_number": 89
    },
    {
     "cell_type": "code",
     "collapsed": false,
     "input": [
      "pSRJ = p.reshape(ny-2,nx-2)\n",
      "plot2D(x[1:-1],y[1:-1],pSRJ)"
     ],
     "language": "python",
     "metadata": {},
     "outputs": [
      {
       "metadata": {},
       "output_type": "display_data",
       "png": "[encoded data removed]",
       "text": [
        "<matplotlib.figure.Figure at 0x7f306d7c5dd0>"
       ]
      }
     ],
     "prompt_number": 97
    },
    {
     "cell_type": "code",
     "collapsed": false,
     "input": [
      "nx = 64\n",
      "ny = 64\n",
      "\n",
      "x = numpy.linspace(0,1,nx)\n",
      "y = numpy.linspace(0,1,ny)\n",
      "\n",
      "dx = 1./(nx-1)\n",
      "dy = 1./(ny-1)\n",
      "\n",
      "p = numpy.zeros((ny, nx))\n",
      "\n",
      "p[:,0] = 0\n",
      "p[:,-1] = p[:,-2]\n",
      "p[0,:] = 0\n",
      "p[-1,:] = numpy.sin(1.5*numpy.pi*x/x[-1])"
     ],
     "language": "python",
     "metadata": {},
     "outputs": [],
     "prompt_number": 100
    },
    {
     "cell_type": "code",
     "collapsed": false,
     "input": [
      "omega = [684.3, 20.73, 0.8149]\n",
      "q = [1, 11, 106]\n",
      "\n",
      "for i,loopcount in enumerate(q):\n",
      "    for j in range(loopcount):\n",
      "        pn = p.copy()\n",
      "        p[1:-1,1:-1] = (1 - omega[i])*pn[1:-1,1:-1] +\\\n",
      "                .25*omega[i]*(pn[1:-1,:-2]+pn[1:-1,2:]+pn[:-2,1:-1]+pn[2:,1:-1])\n",
      "        p[:,0] = 0\n",
      "        p[:,-1] = p[:,-2]\n",
      "        p[0,:] = 0\n",
      "        p[-1,:] = numpy.sin(1.5*numpy.pi*x/x[-1])\n",
      "            \n",
      "numpy.linalg.norm(p-pn,1)      "
     ],
     "language": "python",
     "metadata": {},
     "outputs": [
      {
       "metadata": {},
       "output_type": "pyout",
       "prompt_number": 110,
       "text": [
        "0.0070352037576837147"
       ]
      }
     ],
     "prompt_number": 110
    },
    {
     "cell_type": "code",
     "collapsed": false,
     "input": [
      "plot2D(x,y,p)"
     ],
     "language": "python",
     "metadata": {},
     "outputs": [
      {
       "metadata": {},
       "output_type": "display_data",
       "png": "[encoded data removed]",
       "text": [
        "<matplotlib.figure.Figure at 0x7f306cf69d10>"
       ]
      }
     ],
     "prompt_number": 111
    },
    {
     "cell_type": "code",
     "collapsed": false,
     "input": [
      "numpy.linalg.norm(p-pn,1)"
     ],
     "language": "python",
     "metadata": {},
     "outputs": [
      {
       "metadata": {},
       "output_type": "pyout",
       "prompt_number": 109,
       "text": [
        "0.016740683803658112"
       ]
      }
     ],
     "prompt_number": 109
    },
    {
     "cell_type": "code",
     "collapsed": false,
     "input": [
      "from IPython.core.display import HTML\n",
      "css_file = '../../styles/numericalmoocstyle.css'\n",
      "HTML(open(css_file, \"r\").read())"
     ],
     "language": "python",
     "metadata": {},
     "outputs": [
      {
       "html": [
        "<link href='http://fonts.googleapis.com/css?family=Alegreya+Sans:100,300,400,500,700,800,900,100italic,300italic,400italic,500italic,700italic,800italic,900italic' rel='stylesheet' type='text/css'>\n",
        "<link href='http://fonts.googleapis.com/css?family=Arvo:400,700,400italic' rel='stylesheet' type='text/css'>\n",
        "<link href='http://fonts.googleapis.com/css?family=PT+Mono' rel='stylesheet' type='text/css'>\n",
        "<link href='http://fonts.googleapis.com/css?family=Shadows+Into+Light' rel='stylesheet' type='text/css'>\n",
        "<link href='http://fonts.googleapis.com/css?family=Nixie+One' rel='stylesheet' type='text/css'>\n",
        "<style>\n",
        "\n",
        "@font-face {\n",
        "    font-family: \"Computer Modern\";\n",
        "    src: url('http://mirrors.ctan.org/fonts/cm-unicode/fonts/otf/cmunss.otf');\n",
        "}\n",
        "\n",
        "#notebook_panel { /* main background */\n",
        "    background: rgb(245,245,245);\n",
        "}\n",
        "\n",
        "div.cell { /* set cell width */\n",
        "    width: 750px;\n",
        "}\n",
        "\n",
        "div #notebook { /* centre the content */\n",
        "    background: #fff; /* white background for content */\n",
        "    width: 1000px;\n",
        "    margin: auto;\n",
        "    padding-left: 0em;\n",
        "}\n",
        "\n",
        "#notebook li { /* More space between bullet points */\n",
        "margin-top:0.8em;\n",
        "}\n",
        "\n",
        "/* draw border around running cells */\n",
        "div.cell.border-box-sizing.code_cell.running { \n",
        "    border: 1px solid #111;\n",
        "}\n",
        "\n",
        "/* Put a solid color box around each cell and its output, visually linking them*/\n",
        "div.cell.code_cell {\n",
        "    background-color: rgb(256,256,256); \n",
        "    border-radius: 0px; \n",
        "    padding: 0.5em;\n",
        "    margin-left:1em;\n",
        "    margin-top: 1em;\n",
        "}\n",
        "\n",
        "div.text_cell_render{\n",
        "    font-family: 'Alegreya Sans' sans-serif;\n",
        "    line-height: 140%;\n",
        "    font-size: 125%;\n",
        "    font-weight: 400;\n",
        "    width:600px;\n",
        "    margin-left:auto;\n",
        "    margin-right:auto;\n",
        "}\n",
        "\n",
        "\n",
        "/* Formatting for header cells */\n",
        ".text_cell_render h1 {\n",
        "    font-family: 'Nixie One', serif;\n",
        "    font-style:regular;\n",
        "    font-weight: 400;    \n",
        "    font-size: 45pt;\n",
        "    line-height: 100%;\n",
        "    color: rgb(0,51,102);\n",
        "    margin-bottom: 0.5em;\n",
        "    margin-top: 0.5em;\n",
        "    display: block;\n",
        "}\t\n",
        ".text_cell_render h2 {\n",
        "    font-family: 'Nixie One', serif;\n",
        "    font-weight: 400;\n",
        "    font-size: 30pt;\n",
        "    line-height: 100%;\n",
        "    color: rgb(0,51,102);\n",
        "    margin-bottom: 0.1em;\n",
        "    margin-top: 0.3em;\n",
        "    display: block;\n",
        "}\t\n",
        "\n",
        ".text_cell_render h3 {\n",
        "    font-family: 'Nixie One', serif;\n",
        "    margin-top:16px;\n",
        "\tfont-size: 22pt;\n",
        "    font-weight: 600;\n",
        "    margin-bottom: 3px;\n",
        "    font-style: regular;\n",
        "    color: rgb(102,102,0);\n",
        "}\n",
        "\n",
        ".text_cell_render h4 {    /*Use this for captions*/\n",
        "    font-family: 'Nixie One', serif;\n",
        "    font-size: 14pt;\n",
        "    text-align: center;\n",
        "    margin-top: 0em;\n",
        "    margin-bottom: 2em;\n",
        "    font-style: regular;\n",
        "}\n",
        "\n",
        ".text_cell_render h5 {  /*Use this for small titles*/\n",
        "    font-family: 'Nixie One', sans-serif;\n",
        "    font-weight: 400;\n",
        "    font-size: 16pt;\n",
        "    color: rgb(163,0,0);\n",
        "    font-style: italic;\n",
        "    margin-bottom: .1em;\n",
        "    margin-top: 0.8em;\n",
        "    display: block;\n",
        "}\n",
        "\n",
        ".text_cell_render h6 { /*use this for copyright note*/\n",
        "    font-family: 'PT Mono', sans-serif;\n",
        "    font-weight: 300;\n",
        "    font-size: 9pt;\n",
        "    line-height: 100%;\n",
        "    color: grey;\n",
        "    margin-bottom: 1px;\n",
        "    margin-top: 1px;\n",
        "}\n",
        "\n",
        ".CodeMirror{\n",
        "        font-family: \"PT Mono\";\n",
        "        font-size: 90%;\n",
        "}\n",
        "\n",
        "</style>\n",
        "<script>\n",
        "    MathJax.Hub.Config({\n",
        "                        TeX: {\n",
        "                           extensions: [\"AMSmath.js\"],\n",
        "                           equationNumbers: { autoNumber: \"AMS\", useLabelIds: true}\n",
        "                           },\n",
        "                tex2jax: {\n",
        "                    inlineMath: [ ['$','$'], [\"\\\\(\",\"\\\\)\"] ],\n",
        "                    displayMath: [ ['$$','$$'], [\"\\\\[\",\"\\\\]\"] ]\n",
        "                },\n",
        "                displayAlign: 'center', // Change this to 'center' to center equations.\n",
        "                \"HTML-CSS\": {\n",
        "                    styles: {'.MathJax_Display': {\"margin\": 4}}\n",
        "                }\n",
        "        });\n",
        "</script>\n"
       ],
       "metadata": {},
       "output_type": "pyout",
       "prompt_number": 1,
       "text": [
        "<IPython.core.display.HTML at 0x7fa940580290>"
       ]
      }
     ],
     "prompt_number": 1
    },
    {
     "cell_type": "code",
     "collapsed": false,
     "input": [],
     "language": "python",
     "metadata": {},
     "outputs": []
    }
   ],
   "metadata": {}
  }
 ]
}