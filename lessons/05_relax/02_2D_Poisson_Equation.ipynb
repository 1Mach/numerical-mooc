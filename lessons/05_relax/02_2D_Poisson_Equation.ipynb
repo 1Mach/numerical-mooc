{
 "metadata": {
  "name": "",
  "signature": "sha256:54e780ed23f3bf98e1e338fbd31eef75ad8d28d7bddb0c23435a31849748f68c"
 },
 "nbformat": 3,
 "nbformat_minor": 0,
 "worksheets": [
  {
   "cells": [
    {
     "cell_type": "heading",
     "level": 6,
     "metadata": {},
     "source": [
      "Content under Creative Commons Attribution license CC-BY 4.0, code under MIT license (c)2014 L.A. Barba, C.D. Cooper, G.F. Forsyth.  Based on [CFDPython](https://github.com/barbagroup/CFDPython), (c)2013 L.A. Barba, also under CC-BY license."
     ]
    },
    {
     "cell_type": "heading",
     "level": 1,
     "metadata": {},
     "source": [
      "Relax and hold steady"
     ]
    },
    {
     "cell_type": "markdown",
     "metadata": {},
     "source": [
      "Welcome to the second notebook of *Relax and hold steady: elliptic problems*, the fifth module of [**\"Practical Numerical Methods with Python\"**](http://openedx.seas.gwu.edu/courses/GW/MAE6286/2014_fall/about).\n",
      "\n",
      "The previous notebook introduced the Laplace equation, which is time-independent. To solve the resulting linear system, we used Jacobi iterations to *relax* an initial guess to the final solution. This notebook presents a slight modification. Now, the right hand side of the equation is not 0, but a forcing function that drives the solution: we present to you the **Poisson equation**."
     ]
    },
    {
     "cell_type": "heading",
     "level": 2,
     "metadata": {},
     "source": [
      "Poisson Equation"
     ]
    },
    {
     "cell_type": "markdown",
     "metadata": {},
     "source": [
      "Poisson's equation is obtained by adding a source term to the right-hand-side of Laplace's equation:\n",
      "\n",
      "$$\\frac{\\partial ^2 p}{\\partial x^2} + \\frac{\\partial ^2 p}{\\partial y^2} = b$$\n",
      "\n",
      "So, unlinke the Laplace equation, there is some finite value inside the field that affects the solution. \n",
      "\n",
      "In discretized form, this looks almost the same as [the Laplace Equation](2D_Laplace_Equation.ipynb), except for the source term:\n",
      "\n",
      "$$\\frac{p_{i+1,j}^{n}-2p_{i,j}^{n}+p_{i-1,j}^{n}}{\\Delta x^2}+\\frac{p_{i,j+1}^{n}-2 p_{i,j}^{n}+p_{i,j-1}^{n}}{\\Delta y^2}=b_{i,j}^{n}$$\n",
      "\n",
      "As before, we rearrange this so that we obtain an equation for $p$ at point $i,j$. Thus, we obtain:\n",
      "\n",
      "$$p_{i,j}^{n}=\\frac{(p_{i+1,j}^{n}+p_{i-1,j}^{n})\\Delta y^2+(p_{i,j+1}^{n}+p_{i,j-1}^{n})\\Delta x^2-b_{i,j}^{n}\\Delta x^2\\Delta y^2}{2(\\Delta x^2+\\Delta y^2)}$$\n"
     ]
    },
    {
     "cell_type": "markdown",
     "metadata": {},
     "source": [
      "Let's consider the Poisson equation\n",
      "\n",
      "\\begin{equation}\n",
      "\\nabla^2 p = -2\\left(\\frac{\\pi}{2}\\right)^2\\sin\\left( \\frac{\\pi x}{L} \\right) \\cos\\left(\\frac{\\pi y}{L}\\right)\n",
      "\\end{equation}\n",
      "\n",
      "in the domain $0\\leq x\\leq 1$, $-0.5 \\leq y \\leq 0.5$ with boundary conditions $p=0$ at $x=0$, $y=0$, $y=-0.5$, and $y=0.5$.\n",
      "\n",
      "We will solve this equation by assuming an initial state of $p=0$ everywhere, and applying boundary conditions to relax in pseudo-time."
     ]
    },
    {
     "cell_type": "markdown",
     "metadata": {},
     "source": [
      "To start, let's import libraries and setup our mesh"
     ]
    },
    {
     "cell_type": "code",
     "collapsed": false,
     "input": [
      "from mpl_toolkits.mplot3d import Axes3D\n",
      "from matplotlib import cm\n",
      "from matplotlib import pyplot\n",
      "from math import pi\n",
      "import numpy\n",
      "%matplotlib inline"
     ],
     "language": "python",
     "metadata": {},
     "outputs": []
    },
    {
     "cell_type": "code",
     "collapsed": false,
     "input": [
      "# Parameters\n",
      "nx = 11\n",
      "ny = 11\n",
      "xmin = 0.\n",
      "xmax = 1.\n",
      "ymin = -0.5\n",
      "ymax = 0.5\n",
      "L    = xmax-xmin\n",
      "\n",
      "l2_target = 1e-10\n",
      "\n",
      "def initialization(nx, ny, xmax, xmin, ymax, ymin):\n",
      "    '''Initialization\n",
      "    Parameters:\n",
      "    ----------\n",
      "    nx : int\n",
      "        number of mesh points in x\n",
      "    ny : int\n",
      "        number of mesh points in y\n",
      "    xmax: float\n",
      "        maximum value of x in mesh\n",
      "    xmin: float\n",
      "        minimum value of x in mesh\n",
      "    ymax: float\n",
      "        maximum value of y in mesh\n",
      "    ymin: float\n",
      "        minimum value of y in mesh\n",
      "    \n",
      "    Returns:\n",
      "    -------\n",
      "    X  : 2D array of floats\n",
      "        X-position of mesh\n",
      "    Y  : 2D array of floats\n",
      "        Y-position of mesh\n",
      "    p_i: 2D array of floats\n",
      "        initial guess of p\n",
      "    b  : 2D array of floats\n",
      "        forcing function\n",
      "    dx : float\n",
      "        mesh size in x direction\n",
      "    dy : float\n",
      "        mesh size in y direction\n",
      "    '''\n",
      "\n",
      "    dx = (xmax-xmin)/(nx-1)\n",
      "    dy = (ymax-ymin)/(ny-1)\n",
      "\n",
      "    # Mesh\n",
      "    x  = numpy.linspace(xmin,xmax,nx)\n",
      "    y  = numpy.linspace(ymin,ymax,ny)\n",
      "    X,Y = numpy.meshgrid(x,y)\n",
      "\n",
      "    # Source\n",
      "    b = -2*(pi/L)**2*numpy.sin(pi*X/L)*numpy.cos(pi*Y/L)\n",
      "\n",
      "    # Initialization\n",
      "    p_i  = numpy.zeros((ny,nx))\n",
      "\n",
      "    return X, Y, p_i, b, dx, dy"
     ],
     "language": "python",
     "metadata": {},
     "outputs": []
    },
    {
     "cell_type": "markdown",
     "metadata": {},
     "source": [
      "Our Jacobi iterations need an exit condition. We will use the L2 norm of the difference for that"
     ]
    },
    {
     "cell_type": "code",
     "collapsed": false,
     "input": [
      "def L2_rel_error(p, pn):\n",
      "    ''' Compute the relative L2 norm of the difference\n",
      "    Parameters:\n",
      "    ----------\n",
      "    p : array of float\n",
      "        array 1\n",
      "    pn: array of float\n",
      "        array 2\n",
      "    Returns:\n",
      "    -------\n",
      "    Relative L2 norm of the difference\n",
      "    '''\n",
      "    return numpy.sqrt(numpy.sum((p - pn)**2)/numpy.sum(pn**2))"
     ],
     "language": "python",
     "metadata": {},
     "outputs": []
    },
    {
     "cell_type": "markdown",
     "metadata": {},
     "source": [
      "This function will do the iterations for us"
     ]
    },
    {
     "cell_type": "code",
     "collapsed": false,
     "input": [
      "def Jacobi(p, b, dx, dy, l2_target):\n",
      "    '''Performs Jacobi relaxation\n",
      "    \n",
      "    Parameters:\n",
      "    ----------\n",
      "    p : 2D array of floats\n",
      "        Initial guess\n",
      "    b : 2D array of floats\n",
      "        Source term\n",
      "    dx: float\n",
      "        Mesh spacing in x direction\n",
      "    dy: float\n",
      "        Mesh spacing in y direction\n",
      "    l2_target: float\n",
      "        Error target\n",
      "    \n",
      "    Returns:\n",
      "    -------\n",
      "    p: 2D array of float\n",
      "        Distribution after relaxation\n",
      "    '''\n",
      "\n",
      "    l2_norm = 1.0\n",
      "    iterations = 0\n",
      "    l2_conv = []\n",
      "    \n",
      "    while l2_norm > l2_target:\n",
      "\n",
      "        pd = p.copy()\n",
      "\n",
      "        p[1:-1,1:-1] = 1./(2*(dx**2 + dy**2)) * ((pd[1:-1,2:]+pd[1:-1,:-2])*dy**2 +\\\n",
      "                        (pd[2:,1:-1] + pd[:-2,1:-1])*dx**2 - b[1:-1,1:-1]*dx**2*dy**2)\n",
      "    \n",
      "        # BCs are automatically enforced\n",
      "        \n",
      "        l2_norm = L2_rel_error(pd,p)\n",
      "        iterations += 1\n",
      "        l2_conv.append(l2_norm)\n",
      "    \n",
      "    print 'Number of Jacobi iterations: {0:d}'.format(iterations)\n",
      "    return p, l2_conv        "
     ],
     "language": "python",
     "metadata": {},
     "outputs": []
    },
    {
     "cell_type": "markdown",
     "metadata": {},
     "source": [
      "$$p_{i,j}^{n}=\\frac{(p_{i+1,j}^{n}+p_{i-1,j}^{n})\\Delta y^2+(p_{i,j+1}^{n}+p_{i,j-1}^{n})\\Delta x^2-b_{i,j}^{n}\\Delta x^2\\Delta y^2}{2(\\Delta x^2+\\Delta y^2)}$$"
     ]
    },
    {
     "cell_type": "markdown",
     "metadata": {},
     "source": [
      "With that, we are ready to advance the initial guess in pseudo-time!"
     ]
    },
    {
     "cell_type": "code",
     "collapsed": false,
     "input": [
      "X, Y, p_i, b, dx, dy = initialization(nx, ny, xmax, xmin, ymax, ymin)\n",
      "p, l2_conv = Jacobi(p_i, b, dx, dy, l2_target)"
     ],
     "language": "python",
     "metadata": {},
     "outputs": []
    },
    {
     "cell_type": "markdown",
     "metadata": {},
     "source": [
      "How does that look?"
     ]
    },
    {
     "cell_type": "code",
     "collapsed": false,
     "input": [
      "pyplot.figure(figsize=(8,4))\n",
      "CS = pyplot.contourf(X,Y,p,50)\n",
      "pyplot.colorbar();"
     ],
     "language": "python",
     "metadata": {},
     "outputs": []
    },
    {
     "cell_type": "markdown",
     "metadata": {},
     "source": []
    },
    {
     "cell_type": "markdown",
     "metadata": {},
     "source": [
      "What about the error? This problem has the following analytical solution:\n",
      "\n",
      "\\begin{equation}\n",
      "p(x,y) = y(1-y)x^3\n",
      "\\end{equation}"
     ]
    },
    {
     "cell_type": "code",
     "collapsed": false,
     "input": [
      "def p_analytical(X,Y,L):\n",
      "    ''' Computes analytical solution to Poisson problem\n",
      "    Parameters:\n",
      "    ----------\n",
      "    X: 2D array of float\n",
      "        Mesh with x components\n",
      "    Y: 2D array of float\n",
      "        Mesh with y components\n",
      "    L: float\n",
      "        Size of domain\n",
      "    Returns:\n",
      "    -------\n",
      "    Analytical solution\n",
      "    '''\n",
      "    return numpy.sin(X*pi/L)*numpy.cos(Y*pi/L)"
     ],
     "language": "python",
     "metadata": {},
     "outputs": []
    },
    {
     "cell_type": "markdown",
     "metadata": {},
     "source": [
      "So we can compute the L2 norm of the error"
     ]
    },
    {
     "cell_type": "code",
     "collapsed": false,
     "input": [
      "p_an = p_analytical(X,Y,L)"
     ],
     "language": "python",
     "metadata": {},
     "outputs": []
    },
    {
     "cell_type": "code",
     "collapsed": false,
     "input": [
      "error = L2_rel_error(p,p_an)\n",
      "error"
     ],
     "language": "python",
     "metadata": {},
     "outputs": []
    },
    {
     "cell_type": "markdown",
     "metadata": {},
     "source": [
      "That is not bad!"
     ]
    },
    {
     "cell_type": "markdown",
     "metadata": {},
     "source": [
      "How did `l2_norm` evolve with each iteration? "
     ]
    },
    {
     "cell_type": "code",
     "collapsed": false,
     "input": [
      "pyplot.figure(figsize=(8,4))\n",
      "pyplot.semilogy(numpy.arange(len(l2_conv)), l2_conv);"
     ],
     "language": "python",
     "metadata": {},
     "outputs": []
    },
    {
     "cell_type": "markdown",
     "metadata": {},
     "source": [
      "In the beginning, iterations were converging at a pretty fast rate, but then, they kind of stalled. Are there better ways of doing this? We'll look at that in the following notebooks!"
     ]
    },
    {
     "cell_type": "heading",
     "level": 3,
     "metadata": {},
     "source": [
      "Convergence"
     ]
    },
    {
     "cell_type": "markdown",
     "metadata": {},
     "source": [
      "For sanity check, let's make sure the code is converging as expected"
     ]
    },
    {
     "cell_type": "code",
     "collapsed": false,
     "input": [
      "nx_values = numpy.asarray([11,21,41,81])\n",
      "ny_values = numpy.asarray([11,21,41,81])\n",
      "\n",
      "error = numpy.zeros(len(nx_values))\n",
      "\n",
      "for i in range(len(nx_values)):\n",
      "    \n",
      "    nx = nx_values[i]\n",
      "    ny = ny_values[i]\n",
      "    \n",
      "    X, Y, p_i, b, dx, dy = initialization(nx, ny, xmax, xmin, ymax, ymin)\n",
      "    p, l2_conv = Jacobi(p_i, b, dx, dy, l2_target)\n",
      "\n",
      "    p_an = p_analytical(X,Y,L)\n",
      "    \n",
      "    error[i] = L2_rel_error(p,p_an)"
     ],
     "language": "python",
     "metadata": {},
     "outputs": []
    },
    {
     "cell_type": "code",
     "collapsed": false,
     "input": [
      "pyplot.figure(figsize=(6,6))\n",
      "pyplot.grid(True)\n",
      "pyplot.xlabel(r'$n_x$', fontsize=18)\n",
      "pyplot.ylabel(r'$L_2$-norm of the error', fontsize=18)\n",
      "pyplot.loglog(nx_values, error, color='k', ls='--', lw=2, marker='o')\n",
      "pyplot.axis('equal');"
     ],
     "language": "python",
     "metadata": {},
     "outputs": []
    },
    {
     "cell_type": "markdown",
     "metadata": {},
     "source": [
      "That looks pretty much second order!"
     ]
    },
    {
     "cell_type": "markdown",
     "metadata": {},
     "source": [
      "***"
     ]
    },
    {
     "cell_type": "code",
     "collapsed": false,
     "input": [
      "from IPython.core.display import HTML\n",
      "css_file = '../../styles/numericalmoocstyle.css'\n",
      "HTML(open(css_file, \"r\").read())"
     ],
     "language": "python",
     "metadata": {},
     "outputs": []
    }
   ],
   "metadata": {}
  }
 ]
}