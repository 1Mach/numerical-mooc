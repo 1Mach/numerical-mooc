{
 "metadata": {
  "name": "",
  "signature": "sha256:bf184d9e2b1fca80d16c9bdeb0ac73215d3bed5995302dd1a8be1645df319627"
 },
 "nbformat": 3,
 "nbformat_minor": 0,
 "worksheets": [
  {
   "cells": [
    {
     "cell_type": "heading",
     "level": 6,
     "metadata": {},
     "source": [
      "Content under Creative Commons Attribution license CC-BY 4.0, code under MIT license (c)2014 L.A. Barba, C.D. Cooper, G.F. Forsyth.  "
     ]
    },
    {
     "cell_type": "heading",
     "level": 1,
     "metadata": {},
     "source": [
      "Iterate This!"
     ]
    },
    {
     "cell_type": "markdown",
     "metadata": {},
     "source": [
      "In [Lesson 1](./2D_Laplace_Equation.ipynb) and [Lesson 2](./2D_Poisson_Equation.ipynb) of this module we used the Jacobi method to iteratively solve for solutions to elliptic PDEs.  \n",
      "\n",
      "And it worked, so why are we still talking about it?  Because it's slow.  Very, very slow.  It might not have seemed that way in the first two notebooks because our domains were quite tiny, but consider this:  for a domain with $nx = ny = 128$, the Jacobi method will require more than *21000* iterations before the residual dips below $10^{-8}$.\n",
      "\n",
      "Using one core of an Intel i7 1.9 GHz processor, that takes around 4.5 seconds.  Now consider this:  an incompressible Navier Stokes solver has to ensure that the pressure field is divergence-free at every timestep.  One of the most common ways to ensure that the pressure field is divergence-free is to *relax* the pressure field using *iterative methods*!  \n",
      "\n",
      "In fact, the pressure condition is responsible for the majority of the computational expense of a Navier Stokes solver.  And with the current set up, each timestep could require 4.5 seconds of CPU time just to satisfy the pressure constraints!  We'll grow old and die before we ever get cavity flow working!\n",
      "\n",
      "There has to be a better way.  And, of course, there is.  There are several!\n"
     ]
    },
    {
     "cell_type": "markdown",
     "metadata": {},
     "source": [
      "We'll be using the same example problem that we covered in [Lesson 1](./2D_Laplace_Equation.ipynb), with boundary conditions\n",
      "\n",
      "\\begin{equation}\n",
      "  \\begin{gathered}\n",
      "p=0 \\text{ at } x=0\\\\\n",
      "\\frac{\\partial p}{\\partial x} = 0 \\text{ at } x = L\\\\\n",
      "p = 0 \\text{ at }y = 0 \\\\\n",
      "p = \\sin \\left(  \\frac{\\frac{3}{2}\\pi x}{L} \\right) \\text{ at } y = H\n",
      "  \\end{gathered}\n",
      "\\end{equation}"
     ]
    },
    {
     "cell_type": "code",
     "collapsed": false,
     "input": [
      "import numpy\n",
      "import matplotlib.pyplot as plt\n",
      "from mpl_toolkits.mplot3d import Axes3D\n",
      "from matplotlib import cm\n",
      "%matplotlib inline"
     ],
     "language": "python",
     "metadata": {},
     "outputs": [],
     "prompt_number": 1
    },
    {
     "cell_type": "markdown",
     "metadata": {},
     "source": [
      "Instead of copying and pasting cells that we wrote in [Lesson 1](), we have again created a 'helper' file that you can import some useful functions from.  "
     ]
    },
    {
     "cell_type": "code",
     "collapsed": false,
     "input": [
      "from laplace_helper import p_analytical, plot2D, L2_rel_error"
     ],
     "language": "python",
     "metadata": {},
     "outputs": [],
     "prompt_number": 2
    },
    {
     "cell_type": "markdown",
     "metadata": {},
     "source": [
      "Now we have the `p_analytical`, `plot2D`, and `L2_rel_error` functions in our namespace.  If you can't remember how they work, just use `help()` and take advantage of the docstrings.  "
     ]
    },
    {
     "cell_type": "heading",
     "level": 3,
     "metadata": {},
     "source": [
      "Test Problem"
     ]
    },
    {
     "cell_type": "markdown",
     "metadata": {},
     "source": [
      "We are going to use larger grid dimensions in this notebook to better illustrate the speed increases available with different iterative methods.  "
     ]
    },
    {
     "cell_type": "code",
     "collapsed": false,
     "input": [
      "nx = 128\n",
      "ny = 128\n",
      "\n",
      "L = 5.\n",
      "H = 5.\n",
      "\n",
      "x = numpy.linspace(0,L,nx)\n",
      "y = numpy.linspace(0,H,ny)\n",
      "\n",
      "dx = L/(nx-1)\n",
      "dy = H/(ny-1)\n",
      "\n",
      "p0 = numpy.zeros((ny, nx))\n",
      "\n",
      "p0[-1,:] = numpy.sin(1.5*numpy.pi*x/x[-1])"
     ],
     "language": "python",
     "metadata": {},
     "outputs": [],
     "prompt_number": 3
    },
    {
     "cell_type": "markdown",
     "metadata": {},
     "source": [
      "First things first -- we said above that the Jacobi method takes more than 21000 iterations before it satisfies the target residual of $10^{-8}$, but let's verify that.  \n",
      "\n",
      "We can also time how long it takes to complete those iterations using the `time` module.  "
     ]
    },
    {
     "cell_type": "code",
     "collapsed": false,
     "input": [
      "import time"
     ],
     "language": "python",
     "metadata": {},
     "outputs": [],
     "prompt_number": 4
    },
    {
     "cell_type": "code",
     "collapsed": false,
     "input": [
      "def laplace2d(p, y, dx, dy, l2_target):\n",
      "    '''Solves the diffusion equation with forward-time, centered scheme\n",
      "    \n",
      "    Parameters:\n",
      "    ----------\n",
      "    p: 2D array of float\n",
      "        Initial potential distribution\n",
      "    y: array of float\n",
      "        Nodal coordinates in y\n",
      "    dx: float\n",
      "        Mesh size\n",
      "    dy: float\n",
      "        Mesh size\n",
      "    l2_target: float\n",
      "        Error target\n",
      "        \n",
      "    Returns:\n",
      "    -------\n",
      "    p: 2D array of float\n",
      "        Potential distribution after relaxation\n",
      "    '''\n",
      "    \n",
      "    l2norm = 1\n",
      "    pn = numpy.empty_like(p)\n",
      "    iterations = 0\n",
      "\n",
      "    while l2norm > l2_target:\n",
      "        pn = p.copy()\n",
      "        p[1:-1,1:-1] = .25 * (pn[1:-1,2:] + pn[1:-1,:-2] +\\\n",
      "                              pn[2:,1:-1] + pn[:-2,1:-1])\n",
      "        \n",
      "        ##Neumann B.C. along x = L\n",
      "        p[1:-1,-1] = .25 * (2*p[1:-1,-2] + p[2:,-1] + p[:-2, -1])\n",
      "        \n",
      "        l2norm = numpy.sqrt(numpy.sum((p - pn)**2)/numpy.sum(pn**2))\n",
      "        iterations += 1\n",
      "     \n",
      "    return p, iterations"
     ],
     "language": "python",
     "metadata": {},
     "outputs": [],
     "prompt_number": 5
    },
    {
     "cell_type": "code",
     "collapsed": false,
     "input": [
      "t1 = time.time()\n",
      "p = p0.copy()\n",
      "eps = 1e-8\n",
      "p, iterations = laplace2d(p, y, dx, dy, eps)\n",
      "t2 = time.time()\n",
      "\n",
      "print \"Jacobi method took {:.4f} seconds over {} iterations at tolerance {}\".\\\n",
      "        format(t2-t1, iterations, eps)"
     ],
     "language": "python",
     "metadata": {},
     "outputs": [
      {
       "output_type": "stream",
       "stream": "stdout",
       "text": [
        "Jacobi method took 4.4104 seconds over 21268 iterations at tolerance 1e-08\n"
       ]
      }
     ],
     "prompt_number": 6
    },
    {
     "cell_type": "markdown",
     "metadata": {},
     "source": [
      "Would we lie to you?  21268 iterations before the relative L^2-norm dips below $10^-8$.  That's a large number of iterations, but is it even accurate?  Let's compare it to the analytical solution and check.  "
     ]
    },
    {
     "cell_type": "code",
     "collapsed": false,
     "input": [
      "pan = p_analytical(x,y)"
     ],
     "language": "python",
     "metadata": {},
     "outputs": [],
     "prompt_number": 7
    },
    {
     "cell_type": "code",
     "collapsed": false,
     "input": [
      "L2_rel_error(p,pan)"
     ],
     "language": "python",
     "metadata": {},
     "outputs": [
      {
       "metadata": {},
       "output_type": "pyout",
       "prompt_number": 8,
       "text": [
        "8.2922821375337039e-05"
       ]
      }
     ],
     "prompt_number": 8
    },
    {
     "cell_type": "markdown",
     "metadata": {},
     "source": [
      "Ok, that's a pretty small error.  Let's focus on speeding up the process.  "
     ]
    },
    {
     "cell_type": "heading",
     "level": 2,
     "metadata": {},
     "source": [
      "Gauss-Seidel"
     ]
    },
    {
     "cell_type": "markdown",
     "metadata": {},
     "source": [
      "You will recall from [Lesson 1](./2D_Laplace_Equation.ipynb) that a single Jacobi iteration is written as:\n",
      "\n",
      "\\begin{equation}\n",
      "p^{n+1}_{i,j} = \\frac{1}{4} \\left(p^{n}_{i,j-1} + p^n_{i,j+1} + p^{n}_{i-1,j} + p^n_{i+1,j} \\right)\n",
      "\\end{equation}\n",
      "\n",
      "The Gauss-Seidel method is a simple tweak to this idea -- use updated values as soon as they are available.  \n",
      "\n",
      "If you imagine that we progress through an array in the following order:\n",
      "\n",
      "<img src=\"./figures/solvepath.svg\" width=350>\n",
      "\n",
      "\n",
      "Then you can see that the values $p^{n+1}_{i-1,j}$ and $p^{n+1}_{i,j-1}$ can be used to calculate $p^{n+1}_{i,j}$, so the iteration formula will now read as:\n",
      "\n",
      "\\begin{equation}\n",
      "p^{n+1}_{i,j} = \\frac{1}{4} \\left(p^{n+1}_{i,j-1} + p^n_{i,j+1} + p^{n+1}_{i-1,j} + p^n_{i+1,j} \\right)\n",
      "\\end{equation}"
     ]
    },
    {
     "cell_type": "markdown",
     "metadata": {},
     "source": [
      "But there's a problem.  You can't use NumPy's array operations to evaluate that.  Since Gauss-Seidel requires using values immediately after they're updated, we have to abandon our beloved array operations and return to nested `for` loops.  \n",
      "\n",
      "That's not ideal, but if it saves us a bunch of time, then we can manage.  "
     ]
    },
    {
     "cell_type": "code",
     "collapsed": false,
     "input": [
      "def laplace2d_gauss_seidel(p, y, dx, dy, nx, ny, eps):\n",
      "    \n",
      "    iterations = 0\n",
      "    error = 2*eps\n",
      "    \n",
      "    while error > eps:\n",
      "        pn = p.copy()\n",
      "        error = 0.0\n",
      "        for j in range(1,ny-1):\n",
      "            for i in range(1,nx-1):\n",
      "                p[j,i] = .25 * (p[j,i-1] + p[j,i+1] + p[j-1,i] + p[j+1,i])\n",
      "                error += (p[j,i] - pn[j,i])**2\n",
      "        \n",
      "        #Neumann 2nd-order BC\n",
      "        for j in range(1,ny-1):\n",
      "            p[j,-1] = .25 * (2*p[j,-2] + p[j+1,-1] + p[j-1, -1])\n",
      "            \n",
      "        error = numpy.sqrt(error/numpy.sum(pn**2))\n",
      "        iterations += 1        \n",
      "        \n",
      "    return p, iterations"
     ],
     "language": "python",
     "metadata": {},
     "outputs": [],
     "prompt_number": 28
    },
    {
     "cell_type": "markdown",
     "metadata": {},
     "source": [
      "And then we would run this via:\n",
      "\n",
      "```Python\n",
      "p, iterations = laplace2d_gauss_seidel(p, y, dx, dy, nx, ny, 1e-8)\n",
      "```\n",
      "\n",
      "<br>\n",
      "But **don't do it**.  We did it so that you don't have to.  \n",
      "\n",
      "The Gauss-Seidel method took several thousand fewer iterations than the traditional Jacobi method for this example, but it took more than *7 minutes* to run.  \n",
      "\n",
      "And we were complaining about 4.9 seconds!?"
     ]
    },
    {
     "cell_type": "heading",
     "level": 5,
     "metadata": {},
     "source": [
      "What happened?"
     ]
    },
    {
     "cell_type": "markdown",
     "metadata": {},
     "source": [
      "If you think back to the far off days when you first learned about array operations, you might recall that we discovered that NumPy array operations could drastically improve code performance compared with nested `for` loops.  NumPy operations are largely written in compiled C code and they are *much* faster than vanilla Python.  But the Jacobi method is old and while 4.9 seconds is much better than 7 minutes, it's still too slow.  What can we do?"
     ]
    },
    {
     "cell_type": "heading",
     "level": 3,
     "metadata": {},
     "source": [
      "Blitz it"
     ]
    },
    {
     "cell_type": "markdown",
     "metadata": {},
     "source": [
      "Enter `weave.blitz`\n",
      "\n",
      "`weave.blitz` takes an existing NumPy expression, converts it into C++ code and uses the C++ blitz++ library to compile it.  Then it repacks it into a Python function and it's ready for you to use.  \n",
      "\n",
      "But didn't we just explain that array operations don't work with Gauss-Seidel because we can't use immediately updated values?  Yes we did and that is true.  \n",
      "\n",
      "*Except*, when `weave.blitz` converts the code it doesn't use any temporary arrays to store a previous solution.  What does that mean for us?  It means that it will perform the array operation but in the underlying C++ code, it will use the most recently updated values as it evaluates our array.  \n",
      "\n",
      "In other words, it will implement Gauss-Seidel for us!\n",
      "\n",
      "Let's get to it.  First, we need to import the `weave` library from SciPy.  \n"
     ]
    },
    {
     "cell_type": "code",
     "collapsed": false,
     "input": [
      "from scipy import weave"
     ],
     "language": "python",
     "metadata": {},
     "outputs": [],
     "prompt_number": 10
    },
    {
     "cell_type": "markdown",
     "metadata": {},
     "source": [
      "We only make a few changes to our original Jacobi method code and they will seem a little strange.  \n",
      "\n",
      "Make the array operation for calculating $p^{n+1}_{i,j}$ into a string.  Then send that string to `weave.blitz` along with the keyword `check_size=0`.  \n",
      "\n",
      "The `check_size` keyword performs a few sanity checks if it's set equal to 1, but we can skip those in exchange for an extra speedup.  If you have bugs in your code, you can set it equal to 1 to help track them down.  "
     ]
    },
    {
     "cell_type": "code",
     "collapsed": false,
     "input": [
      "def laplace2d_gauss_seidel_blitz(p, y, dx, dy, eps):\n",
      "    \n",
      "    iterations = 0\n",
      "    error = 2*eps\n",
      "    \n",
      "    while error > eps:\n",
      "        pn = p.copy()\n",
      "        error = 0.0\n",
      "        \n",
      "        expr = \"p[1:-1,1:-1] = \\\n",
      "                .25 * (p[1:-1,:-2] + p[1:-1,2:] + p[:-2,1:-1] + p[2:,1:-1])\"\n",
      "        \n",
      "        weave.blitz(expr, check_size=0)\n",
      "        \n",
      "        #Neumann 2nd-order BC\n",
      "        p[1:-1,-1] = .25 * (2*p[1:-1,-2] + p[2:,-1] + p[:-2, -1])\n",
      "        \n",
      "        error = numpy.sqrt(numpy.sum((p - pn)**2)/numpy.sum(pn**2))\n",
      "        iterations += 1\n",
      "        \n",
      "    return p, iterations"
     ],
     "language": "python",
     "metadata": {},
     "outputs": [],
     "prompt_number": 11
    },
    {
     "cell_type": "code",
     "collapsed": false,
     "input": [
      "t1 = time.time()\n",
      "p = p0.copy()\n",
      "eps = 1e-8\n",
      "p, iterations = laplace2d_gauss_seidel_blitz(p, y, dx, dy, eps)\n",
      "t2 = time.time()\n",
      "\n",
      "print \"Blitzed GS method took {:.4f} seconds over {} iterations at tolerance {}\".\\\n",
      "        format(t2-t1, iterations, eps)"
     ],
     "language": "python",
     "metadata": {},
     "outputs": [
      {
       "output_type": "stream",
       "stream": "stdout",
       "text": [
        "Blitzed GS method took 3.1205 seconds over 15014 iterations at tolerance 1e-08\n"
       ]
      }
     ],
     "prompt_number": 14
    },
    {
     "cell_type": "markdown",
     "metadata": {},
     "source": [
      "Nice!  We're almost under 3 seconds now!  Not bad for 2 extra lines of code.  Don't forget to make sure that the L2 error looks reasonable!"
     ]
    },
    {
     "cell_type": "code",
     "collapsed": false,
     "input": [
      "L2_rel_error(p,pan)"
     ],
     "language": "python",
     "metadata": {},
     "outputs": [
      {
       "metadata": {},
       "output_type": "pyout",
       "prompt_number": 15,
       "text": [
        "8.2009259340821435e-05"
       ]
      }
     ],
     "prompt_number": 15
    },
    {
     "cell_type": "markdown",
     "metadata": {},
     "source": [
      "This is definite progress.  Think we can do any better?  "
     ]
    },
    {
     "cell_type": "heading",
     "level": 2,
     "metadata": {},
     "source": [
      "Successive Over-Relaxation (SOR)"
     ]
    },
    {
     "cell_type": "markdown",
     "metadata": {},
     "source": [
      "Successive over-relaxation is an extension of the Gauss-Seidel method.  We take the existing Gauss-Seidel method and use a linear combination of the previous and the current solution to accelerate convergence.  \n",
      "\n",
      "\\begin{equation}\n",
      "p^{n+1}_{i,j} = (1 - \\omega)p^n_{i,j} + \\frac{\\omega}{4} \\left(p^{n+1}_{i,j-1} + p^n_{i,j+1} + p^{n+1}_{i-1,j} + p^n_{i+1,j} \\right)\n",
      "\\end{equation}\n",
      "\n",
      "SOR iterations are only stable for $0 < \\omega < 2$.  \n",
      "\n",
      "If $\\omega < 1$, that is technically an \"under-relaxation\" and it will be slower than Gauss-Seidel.  \n",
      "\n",
      "If $\\omega > 1$, that's the over-relaxation and it should converge faster than Gauss-Seidel.  \n",
      "\n",
      "Also note that for $\\omega = 1$, the equation collapses into the Gauss-Seidel method.  \n",
      "\n",
      "Everything we did above using `weave.blitz` still applies here -- the only things we need to do are implement the array operation for $p^{n+1}_{i,j}$ and add $\\omega$ to the function inputs.  "
     ]
    },
    {
     "cell_type": "code",
     "collapsed": false,
     "input": [
      "def laplace2d_SOR_blitz(p, y, dx, dy, eps, omega):\n",
      "    \n",
      "    iterations = 0\n",
      "    error = 2*eps\n",
      "    \n",
      "    while error > eps:\n",
      "        pn = p.copy()\n",
      "        error = 0.0\n",
      "        \n",
      "        expr = \"p[1:-1,1:-1] = (1 - omega) * p[1:-1,1:-1] +\\\n",
      "        .25 * omega * (p[1:-1,2:]+p[1:-1,:-2]+p[2:,1:-1]+p[:-2,1:-1])\"\n",
      "        \n",
      "        weave.blitz(expr, check_size=0)\n",
      "        \n",
      "        #Neumann 2nd-order BC\n",
      "        p[1:-1,-1] = .25 * (2*p[1:-1,-2] + p[2:,-1] + p[:-2, -1])\n",
      "        \n",
      "        error = numpy.sqrt(numpy.sum((p - pn)**2)/numpy.sum(pn**2))\n",
      "        \n",
      "        iterations += 1\n",
      "        \n",
      "        \n",
      "    return p, iterations"
     ],
     "language": "python",
     "metadata": {},
     "outputs": [],
     "prompt_number": 16
    },
    {
     "cell_type": "markdown",
     "metadata": {},
     "source": [
      "That wasn't too bad at all.  Let's try this out first with $\\omega = 1$ and make sure it matches the Gauss-Seidel results from above.  "
     ]
    },
    {
     "cell_type": "code",
     "collapsed": false,
     "input": [
      "p = p0.copy()\n",
      "t1 = time.time()\n",
      "eps = 1e-8\n",
      "omega = 1\n",
      "p, iterations = laplace2d_SOR_blitz(p, y, dx, dy, eps, omega)\n",
      "t2 = time.time()\n",
      "\n",
      "print \"Blitzed SOR method took {:.4f} seconds and {} iterations\\\n",
      " at tolerance {} with omega = {}\".format(t2 - t1, iterations, eps, omega)"
     ],
     "language": "python",
     "metadata": {},
     "outputs": [
      {
       "output_type": "stream",
       "stream": "stdout",
       "text": [
        "Blitzed SOR method took 2.8961 seconds and 15014 iterations at tolerance 1e-08 with omega = 1\n"
       ]
      }
     ],
     "prompt_number": 19
    },
    {
     "cell_type": "markdown",
     "metadata": {},
     "source": [
      "The execution time is going to vary depending on what else the computer is up to at the moment, but we have the exact same number of iterations as Gauss-Seidel.  That's a good sign that things are working as expected.  \n",
      "\n",
      "Now let's try to over-relax the solution and see what happens.  To start, let's try $\\omega = 1.5$."
     ]
    },
    {
     "cell_type": "code",
     "collapsed": false,
     "input": [
      "p = p0.copy()\n",
      "t1 = time.time()\n",
      "eps = 1e-8\n",
      "omega = 1.5\n",
      "p, iterations = laplace2d_SOR_blitz(p, y, dx, dy, eps, omega)\n",
      "t2 = time.time()\n",
      "\n",
      "print \"Blitzed SOR method took {:.4f} seconds and {} iterations\\\n",
      " at tolerance {} with omega = {}\".format(t2 - t1, iterations, eps, omega)"
     ],
     "language": "python",
     "metadata": {},
     "outputs": [
      {
       "output_type": "stream",
       "stream": "stdout",
       "text": [
        "Blitzed SOR method took 1.4480 seconds and 7406 iterations at tolerance 1e-08 with omega = 1.5\n"
       ]
      }
     ],
     "prompt_number": 20
    },
    {
     "cell_type": "markdown",
     "metadata": {},
     "source": [
      "Wow!  That really did the trick!  Under 1.5 seconds!  And we dropped from 15014 iterations down to 7406.  Now we're really cooking!"
     ]
    },
    {
     "cell_type": "heading",
     "level": 3,
     "metadata": {},
     "source": [
      "Tuned SOR"
     ]
    },
    {
     "cell_type": "markdown",
     "metadata": {},
     "source": [
      "We picked $\\omega=1.5$ somewhat arbitrarily.  Ideally, we would like to over-relax the solution as much as possible without introducing instability, as that will give us the fewest number of iterations.  \n",
      "\n",
      "For square domains, it turns out that the ideal factor $\\omega$ can be computed as a function of the number of nodes in one direction, e.g. `nx`.  \n",
      "\n",
      "\\begin{equation}\n",
      "\\omega \\approx \\frac{2}{1+\\frac{\\pi}{nx}}\n",
      "\\end{equation}\n",
      "\n",
      "This is not some arbitrary formula, but its derivation lies outside the scope of this class.  For now, let's try it out and see how it works.  "
     ]
    },
    {
     "cell_type": "code",
     "collapsed": false,
     "input": [
      "p = p0.copy()\n",
      "t1 = time.time()\n",
      "eps = 1e-8\n",
      "omega = 2./(1 + numpy.pi/nx)\n",
      "p, iterations = laplace2d_SOR_blitz(p, y, dx, dy, eps, omega)\n",
      "t2 = time.time()\n",
      "\n",
      "print \"Blitzed SOR method took {:.4f} seconds and {} iterations\\\n",
      " at tolerance {} with omega = {:.4f}\".format(t2 - t1, iterations, eps, omega)"
     ],
     "language": "python",
     "metadata": {},
     "outputs": [
      {
       "output_type": "stream",
       "stream": "stdout",
       "text": [
        "Blitzed SOR method took 0.2696 seconds and 1324 iterations at tolerance 1e-08 with omega = 1.9521\n"
       ]
      }
     ],
     "prompt_number": 24
    },
    {
     "cell_type": "markdown",
     "metadata": {},
     "source": [
      "Wow!  That's *very* fast.  Also, $\\omega$ is very close to the upper limit of 2.  SOR tends to work fastest when $\\omega$ approaches 2, but don't be tempted to push it.  Set $\\omega = 2$ and the walls will come crumbling down.  \n",
      "\n",
      "How does the L2 error look with only 1324 iterations?"
     ]
    },
    {
     "cell_type": "code",
     "collapsed": false,
     "input": [
      "L2_rel_error(p,pan)"
     ],
     "language": "python",
     "metadata": {},
     "outputs": [
      {
       "metadata": {},
       "output_type": "pyout",
       "prompt_number": 22,
       "text": [
        "7.7861275841523294e-05"
       ]
      }
     ],
     "prompt_number": 22
    },
    {
     "cell_type": "markdown",
     "metadata": {},
     "source": [
      "Looking very good, indeed.  \n",
      "\n",
      "We didn't explain it in any detail, but notice the very interesting implication of Equation $(5)$: the ideal relaxation factor is a function of the grid size.  "
     ]
    },
    {
     "cell_type": "heading",
     "level": 2,
     "metadata": {},
     "source": [
      "Scheduled Relaxation Jacobi (SRJ)"
     ]
    },
    {
     "cell_type": "markdown",
     "metadata": {},
     "source": [
      "The Scheduled Relaxation Jacobi method is the newest addition to the realm of iterative solver methods by a long shot.  In fact, it was published just last year, in June of 2014 in the [Journal of Computational Physics](http://www.sciencedirect.com/science/article/pii/S0021999114004173).  There's also a preprint of the paper [here](http://engineering.jhu.edu/fsag/wp-content/uploads/sites/23/2013/10/JCP_revised_WebPost.pdf) that isn't behind a paywall.  "
     ]
    },
    {
     "cell_type": "markdown",
     "metadata": {},
     "source": [
      "SRJ works in much the same way as the SOR method, but where SOR used a single tuned value of $\\omega$, SRJ uses a schedule of over- and under-relaxations.  "
     ]
    },
    {
     "cell_type": "markdown",
     "metadata": {},
     "source": [
      "Each SRJ scheme is characterized by the number of levels $P$ which are the number of separate over- or under-relaxation parameters used ($\\omega_i$) with"
     ]
    },
    {
     "cell_type": "markdown",
     "metadata": {},
     "source": [
      "\\begin{align}\n",
      "\\overrightarrow{\\Omega} &= \\{\\omega_1, \\omega_2, ..., \\omega_p\\}\\\\\n",
      "\\overrightarrow{Q} &= \\{q_1, q_2, ..., q_p\\}\\\\\n",
      "\\end{align}\n",
      "\n",
      "where $q_i$ is the number of times the value $\\omega_i$ is repeated in one SRJ cycle, which consists of M total iterations where \n",
      "$$M = \\sum_{i=1}^p q_i$$"
     ]
    },
    {
     "cell_type": "markdown",
     "metadata": {},
     "source": [
      "$$p^{n+1}_{i,j} = (1 - \\omega)p^n_{i,j} + \\frac{\\omega}{4} \\left(p^{n}_{i,j-1} + p^n_{i,j+1} + p^{n}_{i-1,j} + p^n_{i+1,j} \\right)$$\n",
      "\n",
      "In theory, the order sequencing of various $\\omega$s doesn't matter, but in practice, roundoff error and arithmetic overflow cause issues if proper sequencing isn't performed.  "
     ]
    },
    {
     "cell_type": "heading",
     "level": 3,
     "metadata": {},
     "source": [
      "SRJ with Numpy"
     ]
    },
    {
     "cell_type": "code",
     "collapsed": false,
     "input": [
      "srj = SRJScheduler()"
     ],
     "language": "python",
     "metadata": {},
     "outputs": [],
     "prompt_number": 44
    },
    {
     "cell_type": "code",
     "collapsed": false,
     "input": [
      "def laplace2d_SRJ_numpy(p, y, dx, dy, l2_target):\n",
      "    '''Solves the diffusion equation with forward-time, centered scheme\n",
      "    \n",
      "    Parameters:\n",
      "    ----------\n",
      "    p: 2D array of float\n",
      "        Initial potential distribution\n",
      "    y: array of float\n",
      "        Nodal coordinates in y\n",
      "    dx: float\n",
      "        Mesh size\n",
      "    dy: float\n",
      "        Mesh size\n",
      "    l2_target: float\n",
      "        Error target\n",
      "        \n",
      "    Returns:\n",
      "    -------\n",
      "    p: 2D array of float\n",
      "        Potential distribution after relaxation\n",
      "    '''\n",
      "    nx = len(y)\n",
      "    \n",
      "    w, q = srj.get_relaxation_vectors(5, nx)\n",
      "    wt = srj.get_relaxation_schedule(w,q)\n",
      "    \n",
      "    l2norm = 1\n",
      "    pn = numpy.empty_like(p)\n",
      "    iteration_count = 0\n",
      "    \n",
      "    \n",
      "    while l2norm > l2_target:\n",
      "        for omega in wt:\n",
      "            pn = p.copy()\n",
      "            p[1:-1,1:-1] = (1 - omega) * pn[1:-1,1:-1] + .25 * omega * (pn[1:-1,2:]+pn[1:-1,:-2]+pn[2:,1:-1]+pn[:-2,1:-1])\n",
      "                       \n",
      "            \n",
      "            #p[:,-1] = p[:,-2]\n",
      "            \n",
      "            p[1:-1,-1] = (1 - omega) * pn[1:-1,-1] + .25 * omega *\\\n",
      "                        (2*pn[1:-1,-2]+pn[2:,-1]+pn[:-2,-1])\n",
      "            l2norm = numpy.sqrt(numpy.sum((p - pn)**2)/numpy.sum(pn**2))\n",
      "            \n",
      "            if l2norm < l2_target:\n",
      "                break\n",
      "            iteration_count += 1\n",
      "     \n",
      "    return p, iteration_count"
     ],
     "language": "python",
     "metadata": {},
     "outputs": [],
     "prompt_number": 79
    },
    {
     "cell_type": "code",
     "collapsed": false,
     "input": [
      "len(y)"
     ],
     "language": "python",
     "metadata": {},
     "outputs": [
      {
       "metadata": {},
       "output_type": "pyout",
       "prompt_number": 80,
       "text": [
        "128"
       ]
      }
     ],
     "prompt_number": 80
    },
    {
     "cell_type": "code",
     "collapsed": false,
     "input": [
      "p = p0.copy()\n",
      "t1 = time.time()\n",
      "\n",
      "eps = 1e-8\n",
      "p, iterations = laplace2d_SRJ_numpy(p, y, dx, dy, eps)\n",
      "\n",
      "t2 = time.time()\n",
      "\n",
      "print \"SRJ method took {:.4f} seconds and {} iterations\\\n",
      " at tolerance {}\".format(t2 - t1, iterations, eps)"
     ],
     "language": "python",
     "metadata": {},
     "outputs": [
      {
       "output_type": "stream",
       "stream": "stdout",
       "text": [
        "SRJ method took 1.1384 seconds and 2279 iterations at tolerance 1e-08\n"
       ]
      }
     ],
     "prompt_number": 81
    },
    {
     "cell_type": "code",
     "collapsed": false,
     "input": [
      "L2_rel_error(p,pan)"
     ],
     "language": "python",
     "metadata": {},
     "outputs": [
      {
       "metadata": {},
       "output_type": "pyout",
       "prompt_number": 82,
       "text": [
        "9.4938325251274283e-05"
       ]
      }
     ],
     "prompt_number": 82
    },
    {
     "cell_type": "markdown",
     "metadata": {},
     "source": [
      "References\n",
      "\n",
      "http://wiki.scipy.org/PerformancePython\n",
      "\n",
      "http://www.physics.buffalo.edu/phy410-505/2011/topic3/app1/index.html\n",
      "\n",
      "Thomas, James William. Numerical partial differential equations: conservation laws and elliptic equations. Vol. 3. Berlin: Springer, 1999."
     ]
    },
    {
     "cell_type": "code",
     "collapsed": false,
     "input": [
      "from IPython.core.display import HTML\n",
      "css_file = '../../styles/numericalmoocstyle.css'\n",
      "HTML(open(css_file, \"r\").read())"
     ],
     "language": "python",
     "metadata": {},
     "outputs": [
      {
       "html": [
        "<link href='http://fonts.googleapis.com/css?family=Alegreya+Sans:100,300,400,500,700,800,900,100italic,300italic,400italic,500italic,700italic,800italic,900italic' rel='stylesheet' type='text/css'>\n",
        "<link href='http://fonts.googleapis.com/css?family=Arvo:400,700,400italic' rel='stylesheet' type='text/css'>\n",
        "<link href='http://fonts.googleapis.com/css?family=PT+Mono' rel='stylesheet' type='text/css'>\n",
        "<link href='http://fonts.googleapis.com/css?family=Shadows+Into+Light' rel='stylesheet' type='text/css'>\n",
        "<link href='http://fonts.googleapis.com/css?family=Nixie+One' rel='stylesheet' type='text/css'>\n",
        "<style>\n",
        "\n",
        "@font-face {\n",
        "    font-family: \"Computer Modern\";\n",
        "    src: url('http://mirrors.ctan.org/fonts/cm-unicode/fonts/otf/cmunss.otf');\n",
        "}\n",
        "\n",
        "#notebook_panel { /* main background */\n",
        "    background: rgb(245,245,245);\n",
        "}\n",
        "\n",
        "div.cell { /* set cell width */\n",
        "    width: 750px;\n",
        "}\n",
        "\n",
        "div #notebook { /* centre the content */\n",
        "    background: #fff; /* white background for content */\n",
        "    width: 1000px;\n",
        "    margin: auto;\n",
        "    padding-left: 0em;\n",
        "}\n",
        "\n",
        "#notebook li { /* More space between bullet points */\n",
        "margin-top:0.8em;\n",
        "}\n",
        "\n",
        "/* draw border around running cells */\n",
        "div.cell.border-box-sizing.code_cell.running { \n",
        "    border: 1px solid #111;\n",
        "}\n",
        "\n",
        "/* Put a solid color box around each cell and its output, visually linking them*/\n",
        "div.cell.code_cell {\n",
        "    background-color: rgb(256,256,256); \n",
        "    border-radius: 0px; \n",
        "    padding: 0.5em;\n",
        "    margin-left:1em;\n",
        "    margin-top: 1em;\n",
        "}\n",
        "\n",
        "div.text_cell_render{\n",
        "    font-family: 'Alegreya Sans' sans-serif;\n",
        "    line-height: 140%;\n",
        "    font-size: 125%;\n",
        "    font-weight: 400;\n",
        "    width:600px;\n",
        "    margin-left:auto;\n",
        "    margin-right:auto;\n",
        "}\n",
        "\n",
        "\n",
        "/* Formatting for header cells */\n",
        ".text_cell_render h1 {\n",
        "    font-family: 'Nixie One', serif;\n",
        "    font-style:regular;\n",
        "    font-weight: 400;    \n",
        "    font-size: 45pt;\n",
        "    line-height: 100%;\n",
        "    color: rgb(0,51,102);\n",
        "    margin-bottom: 0.5em;\n",
        "    margin-top: 0.5em;\n",
        "    display: block;\n",
        "}\t\n",
        ".text_cell_render h2 {\n",
        "    font-family: 'Nixie One', serif;\n",
        "    font-weight: 400;\n",
        "    font-size: 30pt;\n",
        "    line-height: 100%;\n",
        "    color: rgb(0,51,102);\n",
        "    margin-bottom: 0.1em;\n",
        "    margin-top: 0.3em;\n",
        "    display: block;\n",
        "}\t\n",
        "\n",
        ".text_cell_render h3 {\n",
        "    font-family: 'Nixie One', serif;\n",
        "    margin-top:16px;\n",
        "\tfont-size: 22pt;\n",
        "    font-weight: 600;\n",
        "    margin-bottom: 3px;\n",
        "    font-style: regular;\n",
        "    color: rgb(102,102,0);\n",
        "}\n",
        "\n",
        ".text_cell_render h4 {    /*Use this for captions*/\n",
        "    font-family: 'Nixie One', serif;\n",
        "    font-size: 14pt;\n",
        "    text-align: center;\n",
        "    margin-top: 0em;\n",
        "    margin-bottom: 2em;\n",
        "    font-style: regular;\n",
        "}\n",
        "\n",
        ".text_cell_render h5 {  /*Use this for small titles*/\n",
        "    font-family: 'Nixie One', sans-serif;\n",
        "    font-weight: 400;\n",
        "    font-size: 16pt;\n",
        "    color: rgb(163,0,0);\n",
        "    font-style: italic;\n",
        "    margin-bottom: .1em;\n",
        "    margin-top: 0.8em;\n",
        "    display: block;\n",
        "}\n",
        "\n",
        ".text_cell_render h6 { /*use this for copyright note*/\n",
        "    font-family: 'PT Mono', sans-serif;\n",
        "    font-weight: 300;\n",
        "    font-size: 9pt;\n",
        "    line-height: 100%;\n",
        "    color: grey;\n",
        "    margin-bottom: 1px;\n",
        "    margin-top: 1px;\n",
        "}\n",
        "\n",
        ".CodeMirror{\n",
        "        font-family: \"PT Mono\";\n",
        "        font-size: 90%;\n",
        "}\n",
        "\n",
        "</style>\n",
        "<script>\n",
        "    MathJax.Hub.Config({\n",
        "                        TeX: {\n",
        "                           extensions: [\"AMSmath.js\"],\n",
        "                           equationNumbers: { autoNumber: \"AMS\", useLabelIds: true}\n",
        "                           },\n",
        "                tex2jax: {\n",
        "                    inlineMath: [ ['$','$'], [\"\\\\(\",\"\\\\)\"] ],\n",
        "                    displayMath: [ ['$$','$$'], [\"\\\\[\",\"\\\\]\"] ]\n",
        "                },\n",
        "                displayAlign: 'center', // Change this to 'center' to center equations.\n",
        "                \"HTML-CSS\": {\n",
        "                    styles: {'.MathJax_Display': {\"margin\": 4}}\n",
        "                }\n",
        "        });\n",
        "</script>\n"
       ],
       "metadata": {},
       "output_type": "pyout",
       "prompt_number": 10,
       "text": [
        "<IPython.core.display.HTML at 0x7f32d04f9750>"
       ]
      }
     ],
     "prompt_number": 10
    },
    {
     "cell_type": "code",
     "collapsed": false,
     "input": [
      "\"\"\"Robust Scheduler for the SRJ scheme\n",
      "\n",
      "This code is adapted from the MATLAB version provided by the authors\n",
      "in the reference paper \"Acceleration of the Jacobi iterative method by\n",
      "factors exceeding 100 using scheduled relaxation\", 2014, JCP, 274, pp\n",
      "695--708\n",
      "\n",
      "\"\"\"\n",
      "# NumPy\n",
      "import numpy\n",
      "\n",
      "class SRJScheduler(object):\n",
      "    \"\"\"Scheduler object\"\"\"\n",
      "\n",
      "    def __init__(self, size=512):\n",
      "        \"\"\"Constructor.\n",
      "\n",
      "        Parameters:\n",
      "        \n",
      "        size : int\n",
      "            Mesh size to be used\n",
      "\n",
      "        Notes:\n",
      "        \n",
      "        The mesh size is used to determine the minimum admissible\n",
      "        wavenumbers on the grid. \n",
      "\n",
      "        \"\"\"\n",
      "        # store the mesh size and compute kappa_min\n",
      "        self.size = size\n",
      "        self.kmin = kmin = numpy.sin(numpy.pi/2/size)**2\n",
      "\n",
      "        # use arange to generate the k array initially\n",
      "        self.k = numpy.arange( kmin, 2.0, kmin )\n",
      "        \n",
      "    def set_size(self, size):\n",
      "        \"\"\"Set the size and associated kappa_min parameter\"\"\"\n",
      "        self.size = size\n",
      "        self.kmin = kmin = numpy.sin(numpy.pi/2/size)**2\n",
      "        self.k = numpy.arange( kmin, 2.0, kmin )\n",
      "\n",
      "    @classmethod\n",
      "    def get_relaxation_vectors(self, p=5, size=None):\n",
      "        \"\"\"Return the relaxation parameter 'w' and frequency 'q' vectors\"\"\"\n",
      "        if size is None:\n",
      "            size = self.size\n",
      "        \n",
      "        if p == 5:\n",
      "            if size == 32:\n",
      "                w = numpy.array( [330.57, 82.172, 13.441, 2.2402, 0.60810] )\n",
      "                q = numpy.array( [1, 2, 7, 20, 46], int )\n",
      "\n",
      "            if size == 64:\n",
      "                w = numpy.array( [1228.8, 220.14, 26.168, 3.1668, 0.63890] )\n",
      "                q = numpy.array( [1, 3, 10, 38, 106], int )\n",
      "\n",
      "            if size == 128:\n",
      "                w = numpy.array( [4522.0, 580.86, 50.729, 4.5018, 0.67161] )\n",
      "                q = numpy.array( [1, 3, 16, 73, 250], int )\n",
      "\n",
      "            if size == 256:\n",
      "                w = numpy.array( [16459, 1513.4, 97.832, 6.4111, 0.70531] )\n",
      "                q = numpy.array( [1, 4, 26, 142, 605], int )\n",
      "\n",
      "            # FIXME Verify that this is legal\n",
      "            if size >= 512:\n",
      "                w = numpy.array( [59226, 3900.56, 187.53, 9.1194, 0.73905] )\n",
      "                q = numpy.array( [1, 6, 40, 277, 1500], int )\n",
      "\n",
      "        elif p == 4:\n",
      "            if size == 16:\n",
      "                w = numpy.array( [80.154, 17.217, 2.6201, 0.62230] )\n",
      "                q = numpy.array( [1, 2, 8, 20], int )\n",
      "                \n",
      "            if size == 32:\n",
      "                w = numpy.array( [289.46, 40.791, 4.0877, 0.66277] )\n",
      "                q = numpy.array( [1, 3, 14, 46], int )\n",
      "\n",
      "            if size == 64:\n",
      "                w = numpy.array( [1029.4, 95.007, 6.3913, 0.70513] )\n",
      "                q = numpy.array( [1, 5, 26, 114], int )\n",
      "\n",
      "            if size == 128:\n",
      "                w = numpy.array( [3596.4, 217.80, 9.9666, 0.74755] )\n",
      "                q = numpy.array( [1, 7, 50, 285], int )\n",
      "\n",
      "            if size == 256:\n",
      "                w = numpy.array( [12329, 492.05, 15.444, 0.78831] )\n",
      "                q = numpy.array( [1, 9, 86, 664], int )\n",
      "\n",
      "            if size >= 512:\n",
      "                w = numpy.array( [41459, 1096.3, 23.730, 0.82597] )\n",
      "                q = numpy.array( [1, 12, 155, 1650], int )\n",
      "\n",
      "        elif p == 3:\n",
      "            if size == 16:\n",
      "                w = numpy.array( [64.66, 6.215, 0.7042] )\n",
      "                q = numpy.array( [1, 5, 21], int)\n",
      "\n",
      "            if size == 32:\n",
      "                w = numpy.array( [213.8, 11.45, 0.7616] )\n",
      "                q = numpy.array( [1, 7, 45], int )\n",
      "\n",
      "            if size == 64:\n",
      "                w = numpy.array( [684.3, 20.73, 0.8149] )\n",
      "                q = numpy.array( [1, 11, 106], int )\n",
      "\n",
      "            if size == 128:\n",
      "                w = numpy.array( [2114, 36.78, 0.8611] )\n",
      "                q = numpy.array( [1, 17, 252], int )\n",
      "                \n",
      "            if size == 256:\n",
      "                w = numpy.array( [6319, 63.99, 0.8989] )\n",
      "                q = numpy.array( [1, 27, 625], int )\n",
      "\n",
      "            if size == 512:\n",
      "                w = numpy.array( [18278, 109.2, 0.9282] )\n",
      "                q = numpy.array( [1, 43, 1571], int )\n",
      "\n",
      "            if size >= 1024:\n",
      "                w = numpy.array( [51769.1, 184.31, 0.95025] )\n",
      "                q = numpy.array( [1, 68, 3955], int )\n",
      "\n",
      "        else:\n",
      "            raise ValueError(\"P level %d not currently supported\"%p)\n",
      "\n",
      "        return w, q\n",
      "                \n",
      "    def get_relaxation_schedule(self, w, q, size=None, write2file=False):\n",
      "        \"\"\"Return the relaxation schedule for a chosen scheme\n",
      "\n",
      "        Parameter:\n",
      "        \n",
      "        w : Array or list\n",
      "            Input vector containing the distinct relaxation \n",
      "            factors in descending order\n",
      "\n",
      "        q : Python iterable\n",
      "            Iteration counts for each relaxation parameter\n",
      "\n",
      "        size : int\n",
      "            Optional argument to re-compute the mesh size \n",
      "            and associated parameters\n",
      "\n",
      "        write2file : bool\n",
      "            Flag to write the relaxation sequence to /tmp/wt.txt\n",
      "\n",
      "        Returns:\n",
      "\n",
      "        wt : numpy.ndarray (dim=1)\n",
      "            Relaxation schedule for the chosen scheme.\n",
      "\n",
      "        \"\"\"\n",
      "        # update mesh size if needed\n",
      "        if size is not None:\n",
      "            self.set_size(size)\n",
      "\n",
      "        # convert the input w and q to numpy arrays\n",
      "        w = numpy.asarray( w.copy() )\n",
      "        q = numpy.asarray( q.copy() )\n",
      "\n",
      "        k = self.k\n",
      "\n",
      "        # compute the relaxation schedule\n",
      "        m = numpy.sum(q)\n",
      "        wt = numpy.zeros(m)\n",
      "        g = numpy.ones(k.size)\n",
      "\n",
      "        wt[0] = w[0]\n",
      "        q[0] = q[0] - 1\n",
      "        g = g * numpy.abs(1 - k*wt[0])\n",
      "        \n",
      "        # begin iterations\n",
      "        counter = 1; totPerc = 100\n",
      "        while( sum( q!=0 ) ):\n",
      "            if ( sum( q==0 ) != 0 ):\n",
      "                index = numpy.where( q==0 )[0]\n",
      "                if index == 0:\n",
      "                    w = w[1:]\n",
      "                    q = q[1:]\n",
      "                elif index == q.size-1:\n",
      "                    w = w[:-1]\n",
      "                    q = q[:-1]\n",
      "                else:\n",
      "                    w[index:-1] = w[index+1:]\n",
      "                    w = w[:-1]\n",
      "                    \n",
      "                    q[index:-1] = q[index+1:]\n",
      "                    q = q[:-1]\n",
      "            \n",
      "            ww = 1./k[ numpy.where( g == numpy.max(g) )[0] ]\n",
      "            dis = numpy.abs(w - ww)\n",
      "            index = numpy.where( dis==numpy.min(dis) )[0][0]\n",
      "            wt[counter] = w[index]\n",
      "            g = g*numpy.abs( 1 - k*wt[counter] )\n",
      "            q[index] = q[index] - 1\n",
      "\n",
      "            # increment counter\n",
      "            counter += 1\n",
      "            perc = numpy.sum(q)/wt.size\n",
      "            \n",
      "        # write the output to file\n",
      "        if write2file:\n",
      "            fname = '/tmp/wt.dat'\n",
      "            print 'Writing scheduling sequence to %s'%fname\n",
      "            self.write2file( wt, fname )\n",
      "\n",
      "        # return the relaxation schedule\n",
      "        return wt\n",
      "\n",
      "    def write2file(self, data, filename):\n",
      "        \"\"\"Save the data to an ASCII txt file\"\"\"\n",
      "        numpy.savetxt( filename, data )\n",
      "\n",
      "def test_scheduler(p=3):\n",
      "    \"\"\"Simple test for the SRJScheduler \n",
      "\n",
      "    We use the input input provided by the authors in the MATLAB\n",
      "    script for a P=3 scheme on a 16 X 16 grid\n",
      "\n",
      "    \"\"\"\n",
      "    # the srj scheduler object. The data was generated using N=512 for\n",
      "    # the Matlab script and we follow the same here as well.\n",
      "    scheduler = SRJScheduler(size=512)\n",
      "    \n",
      "    w = numpy.array( [ 64.66, 6.215, 0.7042] )\n",
      "    q = numpy.array( [1, 5, 21] )\n",
      "\n",
      "    # get the relaxation schedule generated by this script\n",
      "    wt = scheduler.get_relaxation_schedule(w, q)\n",
      "\n",
      "    # compare with sample data\n",
      "    #data = numpy.loadtxt('data/p316.dat')\n",
      "    \n",
      "    #assert( numpy.alltrue( data == wt ) )\n",
      "\n",
      "#if __name__ == '__main__':\n",
      "#    print 'Testing for P=3, N=16'\n",
      "#    test_scheduler()\n",
      "    #print 'OK'"
     ],
     "language": "python",
     "metadata": {},
     "outputs": [],
     "prompt_number": 43
    },
    {
     "cell_type": "code",
     "collapsed": false,
     "input": [],
     "language": "python",
     "metadata": {},
     "outputs": []
    }
   ],
   "metadata": {}
  }
 ]
}