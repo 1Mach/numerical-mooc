{
 "metadata": {
  "name": "",
  "signature": "sha256:2213e8a1452e240288c621552cb9f97f508aa181fa723e84e2f5758464a10616"
 },
 "nbformat": 3,
 "nbformat_minor": 0,
 "worksheets": [
  {
   "cells": [
    {
     "cell_type": "heading",
     "level": 6,
     "metadata": {},
     "source": [
      "Content under Creative Commons Attribution license CC-BY 4.0, code under MIT license (c)2014 L.A. Barba, C.D. Cooper, G.F. Forsyth.  "
     ]
    },
    {
     "cell_type": "heading",
     "level": 1,
     "metadata": {},
     "source": [
      "Iterate This!"
     ]
    },
    {
     "cell_type": "markdown",
     "metadata": {},
     "source": [
      "In [Lesson 1](./2D_Laplace_Equation.ipynb) and [Lesson 2](./2D_Poisson_Equation.ipynb) of this module we used the Jacobi method to iteratively solve for solutions to elliptic PDEs.  \n",
      "\n",
      "And it worked, so why are we still talking about it?  Because it's slow.  Very, very slow.  It might not have seemed that way in the first two notebooks because our domains were quite tiny, but consider this:  for a domain with $nx = ny = 128$, the Jacobi method will require nearly *70000* iterations before the residual dips below $10^{-8}$.\n",
      "\n",
      "Using one core of an Intel i7 1.9 GHz processor, that takes 12.7 seconds.  Now consider this:  an incompressible Navier Stokes solver has to ensure that the pressure field is divergence-free at every timestep.  One of the most common ways to ensure that the pressure field is divergence-free is to *relax* the pressure field using *iterative methods*!  \n",
      "\n",
      "In fact, the pressure condition is responsible for the majority of the computational expense of a Navier Stokes solver.  And with the current set up, each timestep could require 12.7 seconds of CPU time just to satisfy the pressure constraints!  We'll grow old and die before we ever get cavity flow working!\n",
      "\n",
      "There has to be a better way.  And, of course, there is.  There are several!\n"
     ]
    },
    {
     "cell_type": "markdown",
     "metadata": {},
     "source": [
      "Same Laplace problem:\n",
      "\n",
      "\\begin{equation}\n",
      "  \\begin{gathered}\n",
      "p=0 \\text{ at } x=0\\\\\n",
      "\\frac{\\partial p}{\\partial x}=0 \\text{ at }x=1\\\\\n",
      "p = 0 \\text{ at }y = 0 \\\\\n",
      "p = \\sin \\left(  \\frac{\\frac{3}{2}\\pi x}{L} \\right) \\text{ at } y = 1\n",
      "  \\end{gathered}\n",
      "\\end{equation}"
     ]
    },
    {
     "cell_type": "code",
     "collapsed": false,
     "input": [
      "import numpy\n",
      "import matplotlib.pyplot as plt\n",
      "from mpl_toolkits.mplot3d import Axes3D\n",
      "from matplotlib import cm\n",
      "import time\n",
      "%matplotlib inline"
     ],
     "language": "python",
     "metadata": {},
     "outputs": []
    },
    {
     "cell_type": "code",
     "collapsed": false,
     "input": [
      "from laplace_helper import L2_rel_error, laplace2d_jacobi, p_analytical, plot2D"
     ],
     "language": "python",
     "metadata": {},
     "outputs": []
    },
    {
     "cell_type": "code",
     "collapsed": false,
     "input": [
      "nx = 128\n",
      "ny = 128\n",
      "\n",
      "L = 5.\n",
      "H = 5.\n",
      "\n",
      "x = numpy.linspace(0,L,nx)\n",
      "y = numpy.linspace(0,H,ny)\n",
      "\n",
      "dx = L/(nx-1)\n",
      "dy = H/(ny-1)\n",
      "\n",
      "p0 = numpy.zeros((ny, nx))\n",
      "\n",
      "p0[:,0] = 0\n",
      "p0[:,-1] = p0[:,-2]\n",
      "p0[0,:] = 0\n",
      "p0[-1,:] = numpy.sin(1.5*numpy.pi*x/x[-1])"
     ],
     "language": "python",
     "metadata": {},
     "outputs": []
    },
    {
     "cell_type": "code",
     "collapsed": false,
     "input": [
      "help(laplace2d_jacobi)"
     ],
     "language": "python",
     "metadata": {},
     "outputs": []
    },
    {
     "cell_type": "code",
     "collapsed": false,
     "input": [
      "p = p0.copy()\n",
      "t1 = time.time()\n",
      "eps = 1e-8\n",
      "p, iterations = laplace2d_jacobi(p, y, dx, dy, eps)\n",
      "t2 = time.time()\n",
      "\n",
      "print \"Jacobi method took {} seconds and {} iterations at tolerance {}\".\\\n",
      "    format(t2 - t1, iterations, eps)"
     ],
     "language": "python",
     "metadata": {},
     "outputs": []
    },
    {
     "cell_type": "heading",
     "level": 2,
     "metadata": {},
     "source": [
      "Gauss-Seidel"
     ]
    },
    {
     "cell_type": "markdown",
     "metadata": {},
     "source": [
      "You will recall from [Lesson 1](./2D_Laplace_Equation.ipynb) that a single Jacobi iteration is written as:\n",
      "\n",
      "\\begin{equation}\n",
      "p^{n+1}_{i,j} = \\frac{1}{4} \\left(p^{n}_{i,j-1} + p^n_{i,j+1} + p^{n}_{i-1,j} + p^n_{i+1,j} \\right)\n",
      "\\end{equation}\n",
      "\n",
      "The Gauss-Seidel method is a simple tweak to this idea -- use updated values as soon as they are available.  \n",
      "\n",
      "If you imagine that we progress through an array in the following order:\n",
      "\n",
      "<img src=\"./figures/solvepath.svg\" width=350>\n",
      "\n",
      "\n",
      "Then you can see that the values $p^{n+1}_{i-1,j}$ and $p^{n+1}_{i,j-1}$ can be used to calculate $p^{n+1}_{i,j}$, so the iteration formula will now read as:\n",
      "\n",
      "\\begin{equation}\n",
      "p^{n+1}_{i,j} = \\frac{1}{4} \\left(p^{n+1}_{i,j-1} + p^n_{i,j+1} + p^{n+1}_{i-1,j} + p^n_{i+1,j} \\right)\n",
      "\\end{equation}"
     ]
    },
    {
     "cell_type": "markdown",
     "metadata": {},
     "source": [
      "But there's a problem.  You can't use NumPy's array operations to evaluate that.  Since Gauss-Seidel requires using values immediately after they're updated, we have to abandon our beloved array operations and return to nested `for` loops.  \n",
      "\n",
      "That's not ideal, but if it saves us a bunch of time, then we can manage.  "
     ]
    },
    {
     "cell_type": "code",
     "collapsed": false,
     "input": [
      "def laplace2d_gauss_seidel(p, y, dx, dy, nx, ny, eps):\n",
      "    \n",
      "    iterations = 0\n",
      "    error = 2*eps\n",
      "    \n",
      "    while error > eps:\n",
      "        pn = p.copy()\n",
      "        error = 0.0\n",
      "        for j in range(1,ny-1):\n",
      "            for i in range(1,nx-1):\n",
      "                p[j,i] = .25 * (p[j,i-1] + p[j,i+1] + p[j-1,i] + p[j+1,i])\n",
      "                error += abs(p[j,i] - pn[j,i])\n",
      "                \n",
      "        for j in range(ny):\n",
      "            p[j,-1] = p[j,-2]\n",
      "        iterations += 1\n",
      "        \n",
      "        \n",
      "    return p, iterations"
     ],
     "language": "python",
     "metadata": {},
     "outputs": []
    },
    {
     "cell_type": "markdown",
     "metadata": {},
     "source": [
      "And then we would run this via:\n",
      "\n",
      "```Python\n",
      "p, iterations = laplace2d_gauss_seidel(p0, y, dx, dy, nx, ny, 1e-8)\n",
      "```\n",
      "\n",
      "<br>\n",
      "But **don't do it**.  We did it so that you don't have to.  \n",
      "\n",
      "The Gauss-Seidel method needs fewer than half the iterations of the traditional Jacobi method (32023, to be exact!), but it took nearly *16 minutes* to run.  \n",
      "\n",
      "And we were complaining about 12 seconds!?"
     ]
    },
    {
     "cell_type": "heading",
     "level": 5,
     "metadata": {},
     "source": [
      "What happened?"
     ]
    },
    {
     "cell_type": "markdown",
     "metadata": {},
     "source": [
      "If you think back to the far off days when you first learned about array operations, you might recall that we discovered that NumPy array operations could drastically improve code performance compared with nested `for` loops.  NumPy operations are largely written in compiled C code and they are *much* faster than vanilla Python.  But the Jacobi method is old and it takes forever.  What can we do?"
     ]
    },
    {
     "cell_type": "heading",
     "level": 3,
     "metadata": {},
     "source": [
      "Blitz it"
     ]
    },
    {
     "cell_type": "markdown",
     "metadata": {},
     "source": [
      "Enter `weave.blitz`\n",
      "\n",
      "`weave.blitz` takes an existing NumPy expression, converts it into C++ code and uses the C++ blitz++ library to compile it.  Then it repacks it into a Python function and it's ready for you to use.  \n",
      "\n",
      "But didn't we just explain that array operations don't work with Gauss-Seidel because we can't use immediately updated values?  Yes we did and that is true.  \n",
      "\n",
      "*Except*, when `weave.blitz` converts the code it doesn't use any temporary arrays to store a previous solution.  What does that mean for us?  It means that it will perform the array operation but in the underlying C++ code, it will use the most recently updated values as it evaluates our array.  \n",
      "\n",
      "In other words, it will implement Gauss-Seidel for us!\n",
      "\n",
      "Let's get to it.  First, we need to import the `weave` library from SciPy.  \n"
     ]
    },
    {
     "cell_type": "code",
     "collapsed": false,
     "input": [
      "from scipy import weave"
     ],
     "language": "python",
     "metadata": {},
     "outputs": []
    },
    {
     "cell_type": "markdown",
     "metadata": {},
     "source": [
      "We only make a few changes to our original Jacobi method code and they seem a little strange.  \n",
      "\n",
      "Make the array operation for calculating $p^{n+1}_{i,j}$ into a string.  Then send that string to `weave.blitz` along with the keyword `check_size=0`.  \n",
      "\n",
      "The `check_size` keyword performs a few sanity checks if it's set equal to 1, but we can skip those in exchange for an extra speedup.  If you have bugs in your code, you can set it equal to 1 to help track them down.  "
     ]
    },
    {
     "cell_type": "code",
     "collapsed": false,
     "input": [
      "def laplace2d_gauss_seidel_blitz(p, y, dx, dy, eps):\n",
      "    \n",
      "    iterations = 0\n",
      "    error = 2*eps\n",
      "    \n",
      "    while error > eps:\n",
      "        pn = p.copy()\n",
      "        error = 0.0\n",
      "        \n",
      "        expr = \"p[1:-1,1:-1] = \\\n",
      "                .25 * (p[1:-1,:-2] + p[1:-1,2:] + p[:-2,1:-1] + p[2:,1:-1])\"\n",
      "        \n",
      "        weave.blitz(expr, check_size=0)\n",
      "        p[:,-1] = p[:,-2]\n",
      "        \n",
      "        error = numpy.sum(numpy.abs(p-pn))\n",
      "        \n",
      "        iterations += 1\n",
      "        \n",
      "        \n",
      "    return p, iterations"
     ],
     "language": "python",
     "metadata": {},
     "outputs": []
    },
    {
     "cell_type": "code",
     "collapsed": false,
     "input": [
      "p = p0.copy()\n",
      "t1 = time.time()\n",
      "eps = 1e-8\n",
      "p, iterations = laplace2d_gauss_seidel_blitz(p, y, dx, dy, eps)\n",
      "t2 = time.time()\n",
      "\n",
      "print \"Blitzed GS method took {:.4f} seconds and {} iterations at tolerance {}\".\\\n",
      "    format(t2 - t1, iterations, eps)"
     ],
     "language": "python",
     "metadata": {},
     "outputs": []
    },
    {
     "cell_type": "markdown",
     "metadata": {},
     "source": [
      "Nice!  We're under 6 seconds now!  Not bad for 2 extra lines of code.  Think we can do any better?  "
     ]
    },
    {
     "cell_type": "heading",
     "level": 2,
     "metadata": {},
     "source": [
      "Successive Over-Relaxation (SOR)"
     ]
    },
    {
     "cell_type": "markdown",
     "metadata": {},
     "source": [
      "Successive over-relaxation is an extension of the Gauss-Seidel method.  We take the existing Gauss-Seidel method and use a linear combination of the previous and the current solution to accelerate convergence.  \n",
      "\n",
      "\\begin{equation}\n",
      "p^{n+1}_{i,j} = (1 - \\omega)p^n_{i,j} + \\frac{\\omega}{4} \\left(p^{n+1}_{i,j-1} + p^n_{i,j+1} + p^{n+1}_{i-1,j} + p^n_{i+1,j} \\right)\n",
      "\\end{equation}\n",
      "\n",
      "SOR iterations are only stable for $0 < \\omega < 2$.  \n",
      "\n",
      "If $\\omega < 1$, that is technically an \"under-relaxation\" and it will be slower than Gauss-Seidel.  \n",
      "\n",
      "If $\\omega > 1$, that's the over-relaxation and it should converge faster than Gauss-Seidel.  \n",
      "\n",
      "Also note that for $\\omega = 1$, the equation collapses into the Gauss-Seidel method.  \n",
      "\n",
      "Everything we did above using `weave.blitz` still applies here -- the only things we need to do are implement the array operation for $p^{n+1}_{i,j}$ and add $\\omega$ to the function inputs.  "
     ]
    },
    {
     "cell_type": "code",
     "collapsed": false,
     "input": [
      "def laplace2d_SOR_blitz(p, y, dx, dy, eps, omega):\n",
      "    \n",
      "    iterations = 0\n",
      "    error = 2*eps\n",
      "    \n",
      "    while error > eps:\n",
      "        pn = p.copy()\n",
      "        error = 0.0\n",
      "        \n",
      "        expr = \"p[1:-1,1:-1] = (1 - omega) * p[1:-1,1:-1] +\\\n",
      "        .25 * omega * (p[1:-1,2:]+p[1:-1,:-2]+p[2:,1:-1]+p[:-2,1:-1])\"\n",
      "        \n",
      "        weave.blitz(expr, check_size=0)\n",
      "        p[:,-1] = p[:,-2]\n",
      "        \n",
      "        error = numpy.sum(numpy.abs(p-pn))\n",
      "        \n",
      "        iterations += 1\n",
      "        \n",
      "        \n",
      "    return p, iterations"
     ],
     "language": "python",
     "metadata": {},
     "outputs": []
    },
    {
     "cell_type": "markdown",
     "metadata": {},
     "source": [
      "That wasn't too bad at all.  Let's try this our first with $\\omega = 1$ and make sure it matches the Gauss-Seidel results from above.  "
     ]
    },
    {
     "cell_type": "code",
     "collapsed": false,
     "input": [
      "p = p0.copy()\n",
      "t1 = time.time()\n",
      "\n",
      "eps = 1e-8\n",
      "omega = 1\n",
      "p, iterations = laplace2d_SOR_blitz(p, y, dx, dy, eps, omega)\n",
      "\n",
      "t2 = time.time()\n",
      "\n",
      "print \"Blitzed SOR method took {} seconds and {} iterations\\\n",
      " at tolerance {} with omega = {}\".format(t2 - t1, iterations, eps, omega)"
     ],
     "language": "python",
     "metadata": {},
     "outputs": []
    },
    {
     "cell_type": "markdown",
     "metadata": {},
     "source": [
      "The time is going to vary depending on what else the computer is up to at the moment, but we have the exact same number of iterations as Gauss-Seidel.  That's a good sign that things are working as expected.  \n",
      "\n",
      "Now let's try to over-relax the solution and see what happens.  To start, let's try $\\omega = 1.5$."
     ]
    },
    {
     "cell_type": "code",
     "collapsed": false,
     "input": [
      "p = p0.copy()\n",
      "t1 = time.time()\n",
      "\n",
      "eps = 1e-8\n",
      "omega = 1.5\n",
      "p, iterations = laplace2d_SOR_blitz(p, y, dx, dy, eps, omega)\n",
      "\n",
      "t2 = time.time()\n",
      "\n",
      "print \"Blitzed SOR method took {} seconds and {} iterations\\\n",
      " at tolerance {} with omega = {}\".format(t2 - t1, iterations, eps, omega)"
     ],
     "language": "python",
     "metadata": {},
     "outputs": []
    },
    {
     "cell_type": "markdown",
     "metadata": {},
     "source": [
      "Wow!  That really did the trick!  Under 2 seconds!  And we dropped from 34821 iterations down to 12547.  Now we're really cooking!"
     ]
    },
    {
     "cell_type": "heading",
     "level": 3,
     "metadata": {},
     "source": [
      "Tuned SOR"
     ]
    },
    {
     "cell_type": "markdown",
     "metadata": {},
     "source": [
      "We picked $\\omega=1.5$ somewhat arbitrarily.  Ideally, we would like to over-relax the solution as much as possible without introducing instability, as that will give us the fewest number of iterations.  \n",
      "\n",
      "For square domains, it turns out that the ideal factor $\\omega$ can be computed as a function of the number of nodes in one direction, e.g. `nx`.  \n",
      "\n",
      "\\begin{equation}\n",
      "\\omega \\approx \\frac{2}{1+\\frac{\\pi}{nx}}\n",
      "\\end{equation}\n",
      "\n",
      "This is not some arbitrary formula, but its derivation lies outside the scope of this class.  For now, let's try it out and see how it works.  "
     ]
    },
    {
     "cell_type": "code",
     "collapsed": false,
     "input": [
      "p = p0.copy()\n",
      "t1 = time.time()\n",
      "\n",
      "eps = 1e-8\n",
      "omega = 2./(1 + numpy.pi/nx)\n",
      "p, iterations = laplace2d_SOR_blitz(p, y, dx, dy, eps, omega)\n",
      "\n",
      "t2 = time.time()\n",
      "\n",
      "print \"Blitzed SOR method took {:.4f} seconds and {} iterations\\\n",
      " at tolerance {} with omega = {:.4f}\".format(t2 - t1, iterations, eps, omega)"
     ],
     "language": "python",
     "metadata": {},
     "outputs": []
    },
    {
     "cell_type": "markdown",
     "metadata": {},
     "source": [
      "Wow!  That's *very* fast.  And although we didn't explain it in any detail, notice the very interesting implication of Equation (): the ideal relaxation factor is a function of the grid size.  "
     ]
    },
    {
     "cell_type": "heading",
     "level": 2,
     "metadata": {},
     "source": [
      "Scheduled Relaxation Jacobi (SRJ)"
     ]
    },
    {
     "cell_type": "markdown",
     "metadata": {},
     "source": [
      "The Scheduled Relaxation Jacobi method is the newest addition to the realm of iterative solver methods by a long shot.  In fact, it was published just last year, in June of 2014 in the [Journal of Computational Physics](http://www.sciencedirect.com/science/article/pii/S0021999114004173).  There's also a preprint of the paper [here](http://engineering.jhu.edu/fsag/wp-content/uploads/sites/23/2013/10/JCP_revised_WebPost.pdf) that isn't behind a paywall.  "
     ]
    },
    {
     "cell_type": "markdown",
     "metadata": {},
     "source": [
      "SRJ works in much the same way as the SOR method, but where SOR used a single tuned value of $\\omega$, SRJ uses a schedule of over- and under-relaxations.  "
     ]
    },
    {
     "cell_type": "markdown",
     "metadata": {},
     "source": [
      "Each SRJ scheme is characterized by the number of levels $P$ which are the number of separate over- or under-relaxation parameters used ($\\omega_i$) with"
     ]
    },
    {
     "cell_type": "markdown",
     "metadata": {},
     "source": [
      "\\begin{align}\n",
      "\\overrightarrow{\\Omega} &= \\{\\omega_1, \\omega_2, ..., \\omega_p\\}\\\\\n",
      "\\overrightarrow{Q} &= \\{q_1, q_2, ..., q_p\\}\\\\\n",
      "\\end{align}\n",
      "\n",
      "where $q_i$ is the number of times the value $\\omega_i$ is repeated in one SRJ cycle, which consists of M total iterations where \n",
      "$$M = \\sum_{i=1}^p q_i$$"
     ]
    },
    {
     "cell_type": "markdown",
     "metadata": {},
     "source": [
      "$$p^{n+1}_{i,j} = (1 - \\omega)p^n_{i,j} + \\frac{\\omega}{4} \\left(p^{n}_{i,j-1} + p^n_{i,j+1} + p^{n}_{i-1,j} + p^n_{i+1,j} \\right)$$\n",
      "\n",
      "In theory, the order sequencing of various $\\omega$s doesn't matter, but in practice, roundoff error and arithmetic overflow cause issues if proper sequencing isn't performed.  "
     ]
    },
    {
     "cell_type": "heading",
     "level": 3,
     "metadata": {},
     "source": [
      "SRJ with Numpy"
     ]
    },
    {
     "cell_type": "code",
     "collapsed": false,
     "input": [
      "def laplace2d_SRJ_numpy(p, y, dx, dy, l2_target):\n",
      "    '''Solves the diffusion equation with forward-time, centered scheme\n",
      "    \n",
      "    Parameters:\n",
      "    ----------\n",
      "    p: 2D array of float\n",
      "        Initial potential distribution\n",
      "    y: array of float\n",
      "        Nodal coordinates in y\n",
      "    dx: float\n",
      "        Mesh size\n",
      "    dy: float\n",
      "        Mesh size\n",
      "    l2_target: float\n",
      "        Error target\n",
      "        \n",
      "    Returns:\n",
      "    -------\n",
      "    p: 2D array of float\n",
      "        Potential distribution after relaxation\n",
      "    '''\n",
      "    nx = len(y)\n",
      "    \n",
      "    w, q = srj.get_relaxation_vectors(5, nx)\n",
      "    wt = srj.get_relaxation_schedule(w,q)\n",
      "    \n",
      "    l2norm = 1\n",
      "    pn = numpy.empty_like(p)\n",
      "    iteration_count = 0\n",
      "\n",
      "    while l2norm > l2_target:\n",
      "        for omega in wt:\n",
      "            pn = p.copy()\n",
      "            p[1:-1,1:-1] = (1 - omega) * pn[1:-1,1:-1] + .25 * omega * (pn[1:-1,2:]+pn[1:-1,:-2]+pn[2:,1:-1]+pn[:-2,1:-1])\n",
      "\n",
      "            p[:,-1] = p[:,-2]\n",
      "\n",
      "            l2norm = numpy.sum(numpy.abs(p[1:-1,1:-1] - pn[1:-1,1:-1]))\n",
      "\n",
      "            iteration_count += 1\n",
      "     \n",
      "    return p, iteration_count"
     ],
     "language": "python",
     "metadata": {},
     "outputs": []
    },
    {
     "cell_type": "code",
     "collapsed": false,
     "input": [
      "nx_vals = [32, 64, 128]\n",
      "\n",
      "for nx in nx_vals:\n",
      "\n",
      "    ny = nx\n",
      "\n",
      "    L = 5.\n",
      "    H = 5.\n",
      "\n",
      "    x = numpy.linspace(0,L,nx)\n",
      "    y = numpy.linspace(0,H,ny)\n",
      "\n",
      "    dx = L/(nx-1)\n",
      "    dy = H/(ny-1)\n",
      "\n",
      "    p = numpy.zeros((ny, nx))\n",
      "\n",
      "    p[:,0] = 0\n",
      "    p[:,-1] = p[:,-2]\n",
      "    p[0,:] = 0\n",
      "    p[-1,:] = numpy.sin(1.5*numpy.pi*x/x[-1])\n",
      "\n",
      "    t1srj = time.time()    \n",
      "    pSRJ, iterations = laplace2d_SRJ_numpy(p, y, dx, dy, 1e-8)\n",
      "    t2srj = time.time()\n",
      "\n",
      "    print \"SRJ: Grid size: {}x{}  Numpy time: {} s for {} iterations\".format(nx, nx, t2srj-t1srj, iterations)"
     ],
     "language": "python",
     "metadata": {},
     "outputs": []
    },
    {
     "cell_type": "markdown",
     "metadata": {},
     "source": [
      "| Method       | Grid size | Iterations | Time             |\n",
      "|--------------|-----------|------------|------------------|\n",
      "| Jacobi       | 128x128   | 69145      | 5.148 s  |\n",
      "| Gauss Seidel | 128x128   | 32023      | 4.103 s  |\n",
      "| SOR 1.5      | 128x128   | 13579      | 1.992 s  |\n",
      "| SOR Tuned    | 128x128   | 1448       | 0.210 s |\n",
      "| SRJ          | 128x128   | 4193       | 0.832 s |"
     ]
    },
    {
     "cell_type": "markdown",
     "metadata": {},
     "source": [
      "References\n",
      "\n",
      "http://wiki.scipy.org/PerformancePython\n",
      "\n",
      "http://www.physics.buffalo.edu/phy410-505/2011/topic3/app1/index.html"
     ]
    },
    {
     "cell_type": "code",
     "collapsed": false,
     "input": [
      "from IPython.core.display import HTML\n",
      "css_file = '../../styles/numericalmoocstyle.css'\n",
      "HTML(open(css_file, \"r\").read())"
     ],
     "language": "python",
     "metadata": {},
     "outputs": []
    },
    {
     "cell_type": "code",
     "collapsed": false,
     "input": [
      "\"\"\"Robust Scheduler for the SRJ scheme\n",
      "\n",
      "This code is adapted from the MATLAB version provided by the authors\n",
      "in the reference paper \"Acceleration of the Jacobi iterative method by\n",
      "factors exceeding 100 using scheduled relaxation\", 2014, JCP, 274, pp\n",
      "695--708\n",
      "\n",
      "\"\"\"\n",
      "# NumPy\n",
      "import numpy\n",
      "\n",
      "class SRJScheduler(object):\n",
      "    \"\"\"Scheduler object\"\"\"\n",
      "\n",
      "    def __init__(self, size=512):\n",
      "        \"\"\"Constructor.\n",
      "\n",
      "        Parameters:\n",
      "        \n",
      "        size : int\n",
      "            Mesh size to be used\n",
      "\n",
      "        Notes:\n",
      "        \n",
      "        The mesh size is used to determine the minimum admissible\n",
      "        wavenumbers on the grid. \n",
      "\n",
      "        \"\"\"\n",
      "        # store the mesh size and compute kappa_min\n",
      "        self.size = size\n",
      "        self.kmin = kmin = numpy.sin(numpy.pi/2/size)**2\n",
      "\n",
      "        # use arange to generate the k array initially\n",
      "        self.k = numpy.arange( kmin, 2.0, kmin )\n",
      "        \n",
      "    def set_size(self, size):\n",
      "        \"\"\"Set the size and associated kappa_min parameter\"\"\"\n",
      "        self.size = size\n",
      "        self.kmin = kmin = numpy.sin(numpy.pi/2/size)**2\n",
      "        self.k = numpy.arange( kmin, 2.0, kmin )\n",
      "\n",
      "    @classmethod\n",
      "    def get_relaxation_vectors(self, p=5, size=None):\n",
      "        \"\"\"Return the relaxation parameter 'w' and frequency 'q' vectors\"\"\"\n",
      "        if size is None:\n",
      "            size = self.size\n",
      "        \n",
      "        if p == 5:\n",
      "            if size == 32:\n",
      "                w = numpy.array( [330.57, 82.172, 13.441, 2.2402, 0.60810] )\n",
      "                q = numpy.array( [1, 2, 7, 20, 46], int )\n",
      "\n",
      "            if size == 64:\n",
      "                w = numpy.array( [1228.8, 220.14, 26.168, 3.1668, 0.63890] )\n",
      "                q = numpy.array( [1, 3, 10, 38, 106], int )\n",
      "\n",
      "            if size == 128:\n",
      "                w = numpy.array( [4522.0, 580.86, 50.729, 4.5018, 0.67161] )\n",
      "                q = numpy.array( [1, 3, 16, 73, 250], int )\n",
      "\n",
      "            if size == 256:\n",
      "                w = numpy.array( [16459, 1513.4, 97.832, 6.4111, 0.70531] )\n",
      "                q = numpy.array( [1, 4, 26, 142, 605], int )\n",
      "\n",
      "            # FIXME Verify that this is legal\n",
      "            if size >= 512:\n",
      "                w = numpy.array( [59226, 3900.56, 187.53, 9.1194, 0.73905] )\n",
      "                q = numpy.array( [1, 6, 40, 277, 1500], int )\n",
      "\n",
      "        elif p == 4:\n",
      "            if size == 16:\n",
      "                w = numpy.array( [80.154, 17.217, 2.6201, 0.62230] )\n",
      "                q = numpy.array( [1, 2, 8, 20], int )\n",
      "                \n",
      "            if size == 32:\n",
      "                w = numpy.array( [289.46, 40.791, 4.0877, 0.66277] )\n",
      "                q = numpy.array( [1, 3, 14, 46], int )\n",
      "\n",
      "            if size == 64:\n",
      "                w = numpy.array( [1029.4, 95.007, 6.3913, 0.70513] )\n",
      "                q = numpy.array( [1, 5, 26, 114], int )\n",
      "\n",
      "            if size == 128:\n",
      "                w = numpy.array( [3596.4, 217.80, 9.9666, 0.74755] )\n",
      "                q = numpy.array( [1, 7, 50, 285], int )\n",
      "\n",
      "            if size == 256:\n",
      "                w = numpy.array( [12329, 492.05, 15.444, 0.78831] )\n",
      "                q = numpy.array( [1, 9, 86, 664], int )\n",
      "\n",
      "            if size >= 512:\n",
      "                w = numpy.array( [41459, 1096.3, 23.730, 0.82597] )\n",
      "                q = numpy.array( [1, 12, 155, 1650], int )\n",
      "\n",
      "        elif p == 3:\n",
      "            if size == 16:\n",
      "                w = numpy.array( [64.66, 6.215, 0.7042] )\n",
      "                q = numpy.array( [1, 5, 21], int)\n",
      "\n",
      "            if size == 32:\n",
      "                w = numpy.array( [213.8, 11.45, 0.7616] )\n",
      "                q = numpy.array( [1, 7, 45], int )\n",
      "\n",
      "            if size == 64:\n",
      "                w = numpy.array( [684.3, 20.73, 0.8149] )\n",
      "                q = numpy.array( [1, 11, 106], int )\n",
      "\n",
      "            if size == 128:\n",
      "                w = numpy.array( [2114, 36.78, 0.8611] )\n",
      "                q = numpy.array( [1, 17, 252], int )\n",
      "                \n",
      "            if size == 256:\n",
      "                w = numpy.array( [6319, 63.99, 0.8989] )\n",
      "                q = numpy.array( [1, 27, 625], int )\n",
      "\n",
      "            if size == 512:\n",
      "                w = numpy.array( [18278, 109.2, 0.9282] )\n",
      "                q = numpy.array( [1, 43, 1571], int )\n",
      "\n",
      "            if size >= 1024:\n",
      "                w = numpy.array( [51769.1, 184.31, 0.95025] )\n",
      "                q = numpy.array( [1, 68, 3955], int )\n",
      "\n",
      "        else:\n",
      "            raise ValueError(\"P level %d not currently supported\"%p)\n",
      "\n",
      "        return w, q\n",
      "                \n",
      "    def get_relaxation_schedule(self, w, q, size=None, write2file=False):\n",
      "        \"\"\"Return the relaxation schedule for a chosen scheme\n",
      "\n",
      "        Parameter:\n",
      "        \n",
      "        w : Array or list\n",
      "            Input vector containing the distinct relaxation \n",
      "            factors in descending order\n",
      "\n",
      "        q : Python iterable\n",
      "            Iteration counts for each relaxation parameter\n",
      "\n",
      "        size : int\n",
      "            Optional argument to re-compute the mesh size \n",
      "            and associated parameters\n",
      "\n",
      "        write2file : bool\n",
      "            Flag to write the relaxation sequence to /tmp/wt.txt\n",
      "\n",
      "        Returns:\n",
      "\n",
      "        wt : numpy.ndarray (dim=1)\n",
      "            Relaxation schedule for the chosen scheme.\n",
      "\n",
      "        \"\"\"\n",
      "        # update mesh size if needed\n",
      "        if size is not None:\n",
      "            self.set_size(size)\n",
      "\n",
      "        # convert the input w and q to numpy arrays\n",
      "        w = numpy.asarray( w.copy() )\n",
      "        q = numpy.asarray( q.copy() )\n",
      "\n",
      "        k = self.k\n",
      "\n",
      "        # compute the relaxation schedule\n",
      "        m = numpy.sum(q)\n",
      "        wt = numpy.zeros(m)\n",
      "        g = numpy.ones(k.size)\n",
      "\n",
      "        wt[0] = w[0]\n",
      "        q[0] = q[0] - 1\n",
      "        g = g * numpy.abs(1 - k*wt[0])\n",
      "        \n",
      "        # begin iterations\n",
      "        counter = 1; totPerc = 100\n",
      "        while( sum( q!=0 ) ):\n",
      "            if ( sum( q==0 ) != 0 ):\n",
      "                index = numpy.where( q==0 )[0]\n",
      "                if index == 0:\n",
      "                    w = w[1:]\n",
      "                    q = q[1:]\n",
      "                elif index == q.size-1:\n",
      "                    w = w[:-1]\n",
      "                    q = q[:-1]\n",
      "                else:\n",
      "                    w[index:-1] = w[index+1:]\n",
      "                    w = w[:-1]\n",
      "                    \n",
      "                    q[index:-1] = q[index+1:]\n",
      "                    q = q[:-1]\n",
      "            \n",
      "            ww = 1./k[ numpy.where( g == numpy.max(g) )[0] ]\n",
      "            dis = numpy.abs(w - ww)\n",
      "            index = numpy.where( dis==numpy.min(dis) )[0][0]\n",
      "            wt[counter] = w[index]\n",
      "            g = g*numpy.abs( 1 - k*wt[counter] )\n",
      "            q[index] = q[index] - 1\n",
      "\n",
      "            # increment counter\n",
      "            counter += 1\n",
      "            perc = numpy.sum(q)/wt.size\n",
      "            \n",
      "        # write the output to file\n",
      "        if write2file:\n",
      "            fname = '/tmp/wt.dat'\n",
      "            print 'Writing scheduling sequence to %s'%fname\n",
      "            self.write2file( wt, fname )\n",
      "\n",
      "        # return the relaxation schedule\n",
      "        return wt\n",
      "\n",
      "    def write2file(self, data, filename):\n",
      "        \"\"\"Save the data to an ASCII txt file\"\"\"\n",
      "        numpy.savetxt( filename, data )\n",
      "\n",
      "def test_scheduler(p=3):\n",
      "    \"\"\"Simple test for the SRJScheduler \n",
      "\n",
      "    We use the input input provided by the authors in the MATLAB\n",
      "    script for a P=3 scheme on a 16 X 16 grid\n",
      "\n",
      "    \"\"\"\n",
      "    # the srj scheduler object. The data was generated using N=512 for\n",
      "    # the Matlab script and we follow the same here as well.\n",
      "    scheduler = SRJScheduler(size=512)\n",
      "    \n",
      "    w = numpy.array( [ 64.66, 6.215, 0.7042] )\n",
      "    q = numpy.array( [1, 5, 21] )\n",
      "\n",
      "    # get the relaxation schedule generated by this script\n",
      "    wt = scheduler.get_relaxation_schedule(w, q)\n",
      "\n",
      "    # compare with sample data\n",
      "    #data = numpy.loadtxt('data/p316.dat')\n",
      "    \n",
      "    #assert( numpy.alltrue( data == wt ) )\n",
      "\n",
      "#if __name__ == '__main__':\n",
      "#    print 'Testing for P=3, N=16'\n",
      "#    test_scheduler()\n",
      "    #print 'OK'"
     ],
     "language": "python",
     "metadata": {},
     "outputs": [],
     "prompt_number": 1
    },
    {
     "cell_type": "code",
     "collapsed": false,
     "input": [],
     "language": "python",
     "metadata": {},
     "outputs": []
    }
   ],
   "metadata": {}
  }
 ]
}