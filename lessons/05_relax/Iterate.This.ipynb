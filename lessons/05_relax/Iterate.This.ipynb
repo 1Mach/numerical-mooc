{
 "metadata": {
  "name": "",
  "signature": "sha256:8750c3918f6203ca333f5ce2b2dac5a9c7761a0cae8eec81d8e7f846a50740b9"
 },
 "nbformat": 3,
 "nbformat_minor": 0,
 "worksheets": [
  {
   "cells": [
    {
     "cell_type": "markdown",
     "metadata": {},
     "source": [
      "Content under Creative Commons Attribution license CC-BY 4.0, code under MIT license (c)2014 L.A. Barba, C.D. Cooper, G.F. Forsyth.  "
     ]
    },
    {
     "cell_type": "markdown",
     "metadata": {},
     "source": [
      "Same Laplace problem:\n",
      "\n",
      "\\begin{equation}\n",
      "  \\begin{gathered}\n",
      "p=0 \\text{ at } x=0\\\\\n",
      "\\frac{\\partial p}{\\partial x}=0 \\text{ at }x=1\\\\\n",
      "p = 0 \\text{ at }y = 0 \\\\\n",
      "p = \\sin \\left(  \\frac{\\frac{3}{2}\\pi x}{L} \\right) \\text{ at } y = 1\n",
      "  \\end{gathered}\n",
      "\\end{equation}"
     ]
    },
    {
     "cell_type": "code",
     "collapsed": false,
     "input": [
      "import numpy\n",
      "import matplotlib.pyplot as plt\n",
      "from mpl_toolkits.mplot3d import Axes3D\n",
      "from matplotlib import cm\n",
      "%matplotlib inline"
     ],
     "language": "python",
     "metadata": {},
     "outputs": [],
     "prompt_number": 2
    },
    {
     "cell_type": "code",
     "collapsed": false,
     "input": [
      "def L2_rel_error(p, pn):\n",
      "    ''' Compute the relative L2 norm of the difference\n",
      "    Parameters:\n",
      "    ----------\n",
      "    p : array of float\n",
      "        array 1\n",
      "    pn: array of float\n",
      "        array 2\n",
      "    Returns:\n",
      "    -------\n",
      "    Relative L2 norm of the difference\n",
      "    '''\n",
      "    return numpy.sqrt(numpy.sum((p - pn)**2)/numpy.sum(pn**2))"
     ],
     "language": "python",
     "metadata": {},
     "outputs": [],
     "prompt_number": 3
    },
    {
     "cell_type": "code",
     "collapsed": false,
     "input": [
      "def plot2D(x, y, p):\n",
      "    '''Creates 3D projection plot with appropriate limits and viewing angle\n",
      "    \n",
      "    Parameters:\n",
      "    ----------\n",
      "    x: array of float\n",
      "        nodal coordinates in x\n",
      "    y: array of float\n",
      "        nodal coordinates in y\n",
      "    p: 2D array of float\n",
      "        calculated potential field\n",
      "    \n",
      "    '''\n",
      "    fig = plt.figure(figsize=(11,7), dpi=100)\n",
      "    ax = fig.gca(projection='3d')\n",
      "    X,Y = numpy.meshgrid(x,y)\n",
      "    surf = ax.plot_surface(X,Y,p[:], rstride=1, cstride=1, cmap=cm.coolwarm,\n",
      "            linewidth=0, antialiased=False)\n",
      "\n",
      "    ax.set_xlim(0,x[-1])\n",
      "    ax.set_ylim(0,y[-1])\n",
      "    ax.set_xlabel('$x$')\n",
      "    ax.set_ylabel('$y$')\n",
      "    ax.set_zlabel('$z$')\n",
      "    ax.view_init(30,45)"
     ],
     "language": "python",
     "metadata": {},
     "outputs": [],
     "prompt_number": 4
    },
    {
     "cell_type": "code",
     "collapsed": false,
     "input": [
      "def laplace2d_jacobi(p, y, dx, dy, l2_target):\n",
      "    '''Solves the diffusion equation with forward-time, centered scheme\n",
      "    \n",
      "    Parameters:\n",
      "    ----------\n",
      "    p: 2D array of float\n",
      "        Initial potential distribution\n",
      "    y: array of float\n",
      "        Nodal coordinates in y\n",
      "    dx: float\n",
      "        Mesh size\n",
      "    dy: float\n",
      "        Mesh size\n",
      "    l2_target: float\n",
      "        Error target\n",
      "        \n",
      "    Returns:\n",
      "    -------\n",
      "    p: 2D array of float\n",
      "        Potential distribution after relaxation\n",
      "    '''\n",
      "    \n",
      "    l2norm = 1\n",
      "    pn = numpy.empty_like(p)\n",
      "    iteration_count = 0\n",
      "\n",
      "    while l2norm > l2_target:\n",
      "        pn = p.copy()\n",
      "        p[1:-1,1:-1] = .25 * (pn[1:-1,2:]+pn[1:-1,:-2]+pn[2:,1:-1]+pn[:-2,1:-1])\n",
      "            \n",
      "        #p[:,0] = 0\n",
      "        #p[0,:] = 0\n",
      "        #p[-1,:] = numpy.sin(1.5*numpy.pi*x/x[-1])\n",
      "        p[:,-1] = p[:,-2]\n",
      "        \n",
      "        l2norm = numpy.sum(numpy.abs(p[1:-1,1:-1] - pn[1:-1,1:-1]))\n",
      "        \n",
      "        iteration_count += 1\n",
      "     \n",
      "    return p, iteration_count"
     ],
     "language": "python",
     "metadata": {},
     "outputs": [],
     "prompt_number": 5
    },
    {
     "cell_type": "code",
     "collapsed": false,
     "input": [
      "def p_analytical(x, y):\n",
      "    X, Y = numpy.meshgrid(x,y)\n",
      "    pxy = numpy.sinh(1.5*numpy.pi*Y / x[-1]) /\\\n",
      "    (numpy.sinh(1.5*numpy.pi*y[-1]/x[-1]))*numpy.sin(1.5*numpy.pi*X/x[-1])\n",
      "    \n",
      "    return pxy"
     ],
     "language": "python",
     "metadata": {},
     "outputs": [],
     "prompt_number": 6
    },
    {
     "cell_type": "code",
     "collapsed": false,
     "input": [
      "nx = 128\n",
      "ny = 128\n",
      "\n",
      "L = 5.\n",
      "H = 5.\n",
      "\n",
      "x = numpy.linspace(0,L,nx)\n",
      "y = numpy.linspace(0,H,ny)\n",
      "\n",
      "dx = L/(nx-1)\n",
      "dy = H/(ny-1)\n",
      "\n",
      "p = numpy.zeros((ny, nx))\n",
      "\n",
      "p[:,0] = 0\n",
      "p[:,-1] = p[:,-2]\n",
      "p[0,:] = 0\n",
      "p[-1,:] = numpy.sin(1.5*numpy.pi*x/x[-1])"
     ],
     "language": "python",
     "metadata": {},
     "outputs": [],
     "prompt_number": 7
    },
    {
     "cell_type": "code",
     "collapsed": false,
     "input": [
      "%load_ext cythonmagic"
     ],
     "language": "python",
     "metadata": {},
     "outputs": [],
     "prompt_number": 8
    },
    {
     "cell_type": "code",
     "collapsed": false,
     "input": [
      "%%cython\n",
      "cimport numpy\n",
      "cimport cython\n",
      "ctypedef numpy.float_t FTYPE_t\n",
      "\n",
      "import numpy\n",
      "\n",
      "@cython.boundscheck(False)\n",
      "def laplace2d_jacobi_cython(numpy.ndarray[FTYPE_t, ndim=2] p, \n",
      "                            numpy.ndarray[FTYPE_t, ndim=1] y, \n",
      "                            double dx, \n",
      "                            double dy, \n",
      "                            int nx, \n",
      "                            int ny, \n",
      "                            double eps):\n",
      "    cdef int iterations, i, j\n",
      "    cdef double error\n",
      "    cdef numpy.ndarray[FTYPE_t, ndim=2] pn\n",
      "    \n",
      "    iterations = 0\n",
      "    error = 2*eps\n",
      "    \n",
      "    while error > eps:\n",
      "        pn = p.copy()\n",
      "        error = 0.0\n",
      "        for j in range(1,ny-1):\n",
      "            for i in range(1,nx-1):\n",
      "                p[j,i] = .25 * (pn[j,i-1] + pn[j,i+1] + pn[j-1,i] + pn[j+1,i])\n",
      "                error += abs(p[j,i] - pn[j,i])\n",
      "                \n",
      "        for j in range(ny):\n",
      "            p[j,-1] = p[j,-2]\n",
      "        iterations += 1\n",
      "        \n",
      "    return p, iterations"
     ],
     "language": "python",
     "metadata": {},
     "outputs": [],
     "prompt_number": 9
    },
    {
     "cell_type": "code",
     "collapsed": false,
     "input": [
      "import time"
     ],
     "language": "python",
     "metadata": {},
     "outputs": [],
     "prompt_number": 10
    },
    {
     "cell_type": "code",
     "collapsed": false,
     "input": [
      "nx_vals = [32, 64, 128]\n",
      "\n",
      "for nx in nx_vals:\n",
      "\n",
      "    ny = nx\n",
      "\n",
      "    L = 5.\n",
      "    H = 5.\n",
      "\n",
      "    x = numpy.linspace(0,L,nx)\n",
      "    y = numpy.linspace(0,H,ny)\n",
      "\n",
      "    dx = L/(nx-1)\n",
      "    dy = H/(ny-1)\n",
      "\n",
      "    p = numpy.zeros((ny, nx))\n",
      "\n",
      "    p[:,0] = 0\n",
      "    p[:,-1] = p[:,-2]\n",
      "    p[0,:] = 0\n",
      "    p[-1,:] = numpy.sin(1.5*numpy.pi*x/x[-1])\n",
      "    \n",
      "    t1c = time.time()\n",
      "    pjaccyth, itercyth = laplace2d_jacobi_cython(p, y, dx, dy, nx, ny, 1e-8)\n",
      "    t2c = time.time()\n",
      "    #print t2-t1\n",
      "    \n",
      "    p = numpy.zeros((ny, nx))\n",
      "\n",
      "    p[:,0] = 0\n",
      "    p[:,-1] = p[:,-2]\n",
      "    p[0,:] = 0\n",
      "    p[-1,:] = numpy.sin(1.5*numpy.pi*x/x[-1])\n",
      "    \n",
      "    t1n = time.time()\n",
      "    pjac, iternumpy = laplace2d_jacobi(p, y, dx, dy, 1e-8)\n",
      "    t2n = time.time()\n",
      "    #print t2-t1\n",
      "    \n",
      "    assert numpy.allclose(pjac, pjaccyth)\n",
      "    \n",
      "    print \"Grid size: {}x{}    Numpy time: {} s for {} iterations\".format(nx,nx, t2n-t1n, iternumpy)\n",
      "    print \"Grid size: {}x{}    Cython time: {} s for {} iterations\".format(nx, nx, t2c-t1c, itercyth)\n",
      "    "
     ],
     "language": "python",
     "metadata": {},
     "outputs": [
      {
       "output_type": "stream",
       "stream": "stdout",
       "text": [
        "Grid size: 32x32    Numpy time: 0.200093984604 s for 4533 iterations\n",
        "Grid size: 32x32    Cython time: 0.0555410385132 s for 4533 iterations\n",
        "Grid size: 64x64    Numpy time: 1.38340306282 s for 17886 iterations"
       ]
      },
      {
       "output_type": "stream",
       "stream": "stdout",
       "text": [
        "\n",
        "Grid size: 64x64    Cython time: 0.399453878403 s for 17886 iterations\n",
        "Grid size: 128x128    Numpy time: 13.3393850327 s for 69145 iterations"
       ]
      },
      {
       "output_type": "stream",
       "stream": "stdout",
       "text": [
        "\n",
        "Grid size: 128x128    Cython time: 6.03577804565 s for 69145 iterations\n"
       ]
      }
     ],
     "prompt_number": 11
    },
    {
     "cell_type": "code",
     "collapsed": false,
     "input": [
      "pan = p_analytical(x,y)"
     ],
     "language": "python",
     "metadata": {},
     "outputs": [],
     "prompt_number": 12
    },
    {
     "cell_type": "code",
     "collapsed": false,
     "input": [
      "L2_rel_error(pan,pjaccyth)"
     ],
     "language": "python",
     "metadata": {},
     "outputs": [
      {
       "metadata": {},
       "output_type": "pyout",
       "prompt_number": 13,
       "text": [
        "0.0072019606804022617"
       ]
      }
     ],
     "prompt_number": 13
    },
    {
     "cell_type": "heading",
     "level": 3,
     "metadata": {},
     "source": [
      "Gauss Seidel"
     ]
    },
    {
     "cell_type": "markdown",
     "metadata": {},
     "source": [
      "Same as Jacobi method but use most recent value available:\n",
      "\n",
      "$$p^{n+1}_{i,j} = \\frac{1}{4} \\left(p^{n+1}_{i,j-1} + p^n_{i,j+1} + p^{n+1}_{i-1,j} + p^n_{i+1,j} \\right)$$"
     ]
    },
    {
     "cell_type": "code",
     "collapsed": false,
     "input": [
      "%%cython\n",
      "cimport numpy\n",
      "cimport cython\n",
      "ctypedef numpy.float_t FTYPE_t\n",
      "\n",
      "import numpy\n",
      "\n",
      "@cython.boundscheck(False)\n",
      "def laplace2d_gauss_seidel_cython(numpy.ndarray[FTYPE_t, ndim=2] p, \n",
      "                            numpy.ndarray[FTYPE_t, ndim=1] y, \n",
      "                            double dx, \n",
      "                            double dy, \n",
      "                            int nx, \n",
      "                            int ny, \n",
      "                            double eps):\n",
      "    cdef int iterations, i, j\n",
      "    cdef double error\n",
      "    cdef numpy.ndarray[FTYPE_t, ndim=2] pn\n",
      "    \n",
      "    iterations = 0\n",
      "    error = 2*eps\n",
      "    \n",
      "    while error > eps:\n",
      "        pn = p.copy()\n",
      "        error = 0.0\n",
      "        for j in range(1,ny-1):\n",
      "            for i in range(1,nx-1):\n",
      "                p[j,i] = .25 * (p[j,i-1] + p[j,i+1] + p[j-1,i] + p[j+1,i])\n",
      "                error += abs(p[j,i] - pn[j,i])\n",
      "                \n",
      "        for j in range(ny):\n",
      "            p[j,-1] = p[j,-2]\n",
      "        iterations += 1\n",
      "        \n",
      "        \n",
      "    return p, iterations"
     ],
     "language": "python",
     "metadata": {},
     "outputs": [],
     "prompt_number": 14
    },
    {
     "cell_type": "code",
     "collapsed": false,
     "input": [
      "nx_vals = [32, 64, 128]\n",
      "\n",
      "for nx in nx_vals:\n",
      "\n",
      "    ny = nx\n",
      "\n",
      "    L = 5.\n",
      "    H = 5.\n",
      "\n",
      "    x = numpy.linspace(0,L,nx)\n",
      "    y = numpy.linspace(0,H,ny)\n",
      "\n",
      "    dx = L/(nx-1)\n",
      "    dy = H/(ny-1)\n",
      "\n",
      "    p = numpy.zeros((ny, nx))\n",
      "\n",
      "    p[:,0] = 0\n",
      "    p[:,-1] = p[:,-2]\n",
      "    p[0,:] = 0\n",
      "    p[-1,:] = numpy.sin(1.5*numpy.pi*x/x[-1])\n",
      "    \n",
      "    t1c = time.time()\n",
      "    pgscyth, itercyth = laplace2d_gauss_seidel_cython(p, y, dx, dy, nx, ny, 1e-8)\n",
      "    t2c = time.time()\n",
      "    \n",
      "    print \"Gauss Seidel: Grid size: {}x{}  Cython time: {} s for {} iterations\".format(nx, nx, t2c-t1c, itercyth)\n",
      "    "
     ],
     "language": "python",
     "metadata": {},
     "outputs": [
      {
       "output_type": "stream",
       "stream": "stdout",
       "text": [
        "Gauss Seidel: Grid size: 32x32  Cython time: 0.023756980896 s for 2176 iterations\n",
        "Gauss Seidel: Grid size: 64x64  Cython time: 0.264950990677 s for 8398 iterations"
       ]
      },
      {
       "output_type": "stream",
       "stream": "stdout",
       "text": [
        "\n",
        "Gauss Seidel: Grid size: 128x128  Cython time: 4.12347388268 s for 32023 iterations"
       ]
      },
      {
       "output_type": "stream",
       "stream": "stdout",
       "text": [
        "\n"
       ]
      }
     ],
     "prompt_number": 15
    },
    {
     "cell_type": "code",
     "collapsed": false,
     "input": [
      "L2_rel_error(pan,pgscyth)"
     ],
     "language": "python",
     "metadata": {},
     "outputs": [
      {
       "metadata": {},
       "output_type": "pyout",
       "prompt_number": 16,
       "text": [
        "0.00720196788052217"
       ]
      }
     ],
     "prompt_number": 16
    },
    {
     "cell_type": "heading",
     "level": 3,
     "metadata": {},
     "source": [
      "SOR"
     ]
    },
    {
     "cell_type": "markdown",
     "metadata": {},
     "source": [
      "$$p^{n+1}_{i,j} = (1 - \\omega)p^n_{i,j} + \\frac{\\omega}{4} \\left(p^{n+1}_{i,j-1} + p^n_{i,j+1} + p^{n+1}_{i-1,j} + p^n_{i+1,j} \\right)$$"
     ]
    },
    {
     "cell_type": "markdown",
     "metadata": {},
     "source": [
      "*  only convergent for $0 < \\omega < 2$\n",
      "*  faster than Gauss-Seidel only if $1 < \\omega < 2$\n"
     ]
    },
    {
     "cell_type": "code",
     "collapsed": false,
     "input": [
      "%%cython\n",
      "cimport numpy\n",
      "cimport cython\n",
      "ctypedef numpy.float_t FTYPE_t\n",
      "\n",
      "import numpy\n",
      "\n",
      "@cython.boundscheck(False)\n",
      "def laplace2d_SOR_cython(numpy.ndarray[FTYPE_t, ndim=2] p, \n",
      "                            numpy.ndarray[FTYPE_t, ndim=1] y, \n",
      "                            double dx, \n",
      "                            double dy, \n",
      "                            int nx, \n",
      "                            int ny, \n",
      "                            double eps, \n",
      "                            double omega):\n",
      "    cdef int iterations, i, j\n",
      "    cdef double error\n",
      "    cdef numpy.ndarray[FTYPE_t, ndim=2] pn\n",
      "    \n",
      "    iterations = 0\n",
      "    error = 2*eps\n",
      "    \n",
      "    while error > eps:\n",
      "        pn = p.copy()\n",
      "        error = 0.0\n",
      "        for j in range(1,ny-1):\n",
      "            for i in range(1,nx-1):\n",
      "                p[j,i] = (1 - omega) * p[j,i] +\\\n",
      "                .25 * omega * (p[j,i-1] + p[j,i+1] + p[j-1,i] + p[j+1,i])\n",
      "                error += abs(p[j,i] - pn[j,i])\n",
      "                \n",
      "        for j in range(ny):\n",
      "            p[j,-1] = p[j,-2]\n",
      "        iterations += 1\n",
      "        #error /= float(nx*ny)\n",
      "        \n",
      "    return p, iterations"
     ],
     "language": "python",
     "metadata": {},
     "outputs": [],
     "prompt_number": 17
    },
    {
     "cell_type": "heading",
     "level": 3,
     "metadata": {},
     "source": [
      "Check that with $\\omega=1$ this is same as Gauss Seidel"
     ]
    },
    {
     "cell_type": "code",
     "collapsed": false,
     "input": [
      "nx_vals = [32, 64, 128]\n",
      "\n",
      "omega = 1.\n",
      "\n",
      "for nx in nx_vals:\n",
      "\n",
      "    ny = nx\n",
      "\n",
      "    L = 5.\n",
      "    H = 5.\n",
      "\n",
      "    x = numpy.linspace(0,L,nx)\n",
      "    y = numpy.linspace(0,H,ny)\n",
      "\n",
      "    dx = L/(nx-1)\n",
      "    dy = H/(ny-1)\n",
      "\n",
      "    p = numpy.zeros((ny, nx))\n",
      "\n",
      "    p[:,0] = 0\n",
      "    p[:,-1] = p[:,-2]\n",
      "    p[0,:] = 0\n",
      "    p[-1,:] = numpy.sin(1.5*numpy.pi*x/x[-1])\n",
      "    \n",
      "    t1c = time.time()\n",
      "    psorcyth, itercyth = laplace2d_SOR_cython(p, y, dx, dy, nx, ny, 1e-8, omega)\n",
      "    t2c = time.time()\n",
      "    \n",
      "    print \"SOR: Grid size: {}x{}  Cython time: {} s for {} iterations\".format(nx, nx, t2c-t1c, itercyth)\n",
      "    "
     ],
     "language": "python",
     "metadata": {},
     "outputs": [
      {
       "output_type": "stream",
       "stream": "stdout",
       "text": [
        "SOR: Grid size: 32x32  Cython time: 0.0322098731995 s for 2176 iterations\n",
        "SOR: Grid size: 64x64  Cython time: 0.301855802536 s for 8398 iterations"
       ]
      },
      {
       "output_type": "stream",
       "stream": "stdout",
       "text": [
        "\n",
        "SOR: Grid size: 128x128  Cython time: 4.66229391098 s for 32023 iterations"
       ]
      },
      {
       "output_type": "stream",
       "stream": "stdout",
       "text": [
        "\n"
       ]
      }
     ],
     "prompt_number": 18
    },
    {
     "cell_type": "code",
     "collapsed": false,
     "input": [
      "psorcyth == pgscyth"
     ],
     "language": "python",
     "metadata": {},
     "outputs": [
      {
       "metadata": {},
       "output_type": "pyout",
       "prompt_number": 19,
       "text": [
        "array([[ True,  True,  True, ...,  True,  True,  True],\n",
        "       [ True,  True,  True, ...,  True,  True,  True],\n",
        "       [ True,  True,  True, ...,  True,  True,  True],\n",
        "       ..., \n",
        "       [ True,  True,  True, ...,  True,  True,  True],\n",
        "       [ True,  True,  True, ...,  True,  True,  True],\n",
        "       [ True,  True,  True, ...,  True,  True,  True]], dtype=bool)"
       ]
      }
     ],
     "prompt_number": 19
    },
    {
     "cell_type": "heading",
     "level": 3,
     "metadata": {},
     "source": [
      "Now with $\\omega = 1.5$"
     ]
    },
    {
     "cell_type": "code",
     "collapsed": false,
     "input": [
      "nx_vals = [32, 64, 128]\n",
      "\n",
      "omega = 1.5\n",
      "\n",
      "for nx in nx_vals:\n",
      "\n",
      "    ny = nx\n",
      "\n",
      "    L = 5.\n",
      "    H = 5.\n",
      "\n",
      "    x = numpy.linspace(0,L,nx)\n",
      "    y = numpy.linspace(0,H,ny)\n",
      "\n",
      "    dx = L/(nx-1)\n",
      "    dy = H/(ny-1)\n",
      "\n",
      "    p = numpy.zeros((ny, nx))\n",
      "\n",
      "    p[:,0] = 0\n",
      "    p[:,-1] = p[:,-2]\n",
      "    p[0,:] = 0\n",
      "    p[-1,:] = numpy.sin(1.5*numpy.pi*x/x[-1])\n",
      "    \n",
      "    t1c = time.time()\n",
      "    psorcyth, itercyth = laplace2d_SOR_cython(p, y, dx, dy, nx, ny, 1e-8, omega)\n",
      "    t2c = time.time()\n",
      "    \n",
      "    print \"SOR: Grid size: {}x{}  Cython time: {} s for {} iterations\".format(nx, nx, t2c-t1c, itercyth)\n",
      "    "
     ],
     "language": "python",
     "metadata": {},
     "outputs": [
      {
       "output_type": "stream",
       "stream": "stdout",
       "text": [
        "SOR: Grid size: 32x32  Cython time: 0.0142049789429 s for 903 iterations\n",
        "SOR: Grid size: 64x64  Cython time: 0.131134986877 s for 3522 iterations"
       ]
      },
      {
       "output_type": "stream",
       "stream": "stdout",
       "text": [
        "\n",
        "SOR: Grid size: 128x128  Cython time: 1.95789313316 s for 13579 iterations"
       ]
      },
      {
       "output_type": "stream",
       "stream": "stdout",
       "text": [
        "\n"
       ]
      }
     ],
     "prompt_number": 20
    },
    {
     "cell_type": "code",
     "collapsed": false,
     "input": [
      "L2_rel_error(pan, psorcyth)"
     ],
     "language": "python",
     "metadata": {},
     "outputs": [
      {
       "metadata": {},
       "output_type": "pyout",
       "prompt_number": 21,
       "text": [
        "0.0072019774932289603"
       ]
      }
     ],
     "prompt_number": 21
    },
    {
     "cell_type": "heading",
     "level": 3,
     "metadata": {},
     "source": [
      "Now with tuned $\\omega$"
     ]
    },
    {
     "cell_type": "markdown",
     "metadata": {},
     "source": [
      "\n",
      "$$\\omega \\approx \\frac{2}{1+\\frac{\\pi}{nx}}$$\n",
      "\n",
      "for a square lattice\n",
      "\n",
      "cite: http://www.physics.buffalo.edu/phy410-505/2011/topic3/app1/index.html\n",
      "\n",
      "this is the fastest method available in serial"
     ]
    },
    {
     "cell_type": "code",
     "collapsed": false,
     "input": [
      "nx_vals = [32, 64, 128]\n",
      "\n",
      "for nx in nx_vals:\n",
      "    \n",
      "    omega = 2. / (1 + numpy.pi/nx)\n",
      "    \n",
      "    ny = nx\n",
      "\n",
      "    L = 5.\n",
      "    H = 5.\n",
      "\n",
      "    x = numpy.linspace(0,L,nx)\n",
      "    y = numpy.linspace(0,H,ny)\n",
      "\n",
      "    dx = L/(nx-1)\n",
      "    dy = H/(ny-1)\n",
      "\n",
      "    p = numpy.zeros((ny, nx))\n",
      "\n",
      "    p[:,0] = 0\n",
      "    p[:,-1] = p[:,-2]\n",
      "    p[0,:] = 0\n",
      "    p[-1,:] = numpy.sin(1.5*numpy.pi*x/x[-1])\n",
      "    \n",
      "    t1c = time.time()\n",
      "    psortunecyth, itercyth = laplace2d_SOR_cython(p, y, dx, dy, nx, ny, 1e-8, omega)\n",
      "    t2c = time.time()\n",
      "    \n",
      "    print \"SOR: Grid size: {}x{}  Cython time: {} s for {} iterations\".format(nx, nx, t2c-t1c, itercyth)\n",
      "    "
     ],
     "language": "python",
     "metadata": {},
     "outputs": [
      {
       "output_type": "stream",
       "stream": "stdout",
       "text": [
        "SOR: Grid size: 32x32  Cython time: 0.00522494316101 s for 321 iterations\n",
        "SOR: Grid size: 64x64  Cython time: 0.0301489830017 s for 688 iterations\n",
        "SOR: Grid size: 128x128  Cython time: 0.220567941666 s for 1448 iterations"
       ]
      },
      {
       "output_type": "stream",
       "stream": "stdout",
       "text": [
        "\n"
       ]
      }
     ],
     "prompt_number": 22
    },
    {
     "cell_type": "code",
     "collapsed": false,
     "input": [
      "L2_rel_error(pan, psortunecyth)"
     ],
     "language": "python",
     "metadata": {},
     "outputs": [
      {
       "metadata": {},
       "output_type": "pyout",
       "prompt_number": 23,
       "text": [
        "0.0072019752521402724"
       ]
      }
     ],
     "prompt_number": 23
    },
    {
     "cell_type": "heading",
     "level": 3,
     "metadata": {},
     "source": [
      "Scheduled relaxed Jacobi"
     ]
    },
    {
     "cell_type": "markdown",
     "metadata": {},
     "source": [
      "Works the same as SOR but instead of a single tuned value of $\\omega$, we apply a schedule of over- and under-relaxations that are specific to the grid dimensions.  \n",
      "\n",
      "Over-relaxation of Jacobi damps low wavenumber residual but amplifies high wavenumber error.\n",
      "\n",
      "Under-relaxation damps high wavenumber error but is ineffective at reducing low wavenumber error\n",
      "\n",
      "Each SRJ scheme is characterized by the number of levels $P$ which are the number of separate over- or under-relaxation parameters used ($\\omega$)"
     ]
    },
    {
     "cell_type": "markdown",
     "metadata": {},
     "source": [
      "\\begin{align}\n",
      "\\overrightarrow{\\Omega} &= \\{\\omega_1, \\omega_2, ..., \\omega_p\\}\\\\\n",
      "\\overrightarrow{Q} &= \\{q_1, q_2, ..., q_p\\}\\\\\n",
      "\\end{align}\n",
      "\n",
      "where $q_i$ is the number of times the value $\\omega_i$ is repeated in one SRJ cycle, which consists of M total iterations where \n",
      "$$M = \\sum_{i=1}^p q_i$$\n",
      "\n",
      "\\begin{equation}\n",
      "\\overrightarrow{\\beta} = \\{\\beta_1, \\beta_2, ..., \\beta_p\\}\n",
      "\\end{equation}\n",
      "\n",
      "where $\\beta_i = q_i / M$\n",
      "\n",
      "$P$, $\\overrightarrow{\\Omega}$, and $\\overrightarrow{Q}$ (or $\\overrightarrow{\\beta}$) define an SRJ scheme"
     ]
    },
    {
     "cell_type": "markdown",
     "metadata": {},
     "source": [
      "$$p^{n+1}_{i,j} = (1 - \\omega)p^n_{i,j} + \\frac{\\omega}{4} \\left(p^{n}_{i,j-1} + p^n_{i,j+1} + p^{n}_{i-1,j} + p^n_{i+1,j} \\right)$$\n",
      "\n",
      "In theory, the order sequencing of various $\\omega$s doesn't matter, but in practice, roundoff error and arithmetic overflow cause issues if proper sequencing isn't performed.  "
     ]
    },
    {
     "cell_type": "code",
     "collapsed": false,
     "input": [
      "srj = SRJScheduler()"
     ],
     "language": "python",
     "metadata": {},
     "outputs": [],
     "prompt_number": 24
    },
    {
     "cell_type": "code",
     "collapsed": false,
     "input": [
      "%%cython\n",
      "cimport numpy\n",
      "cimport cython\n",
      "ctypedef numpy.float_t FTYPE_t\n",
      "\n",
      "import numpy\n",
      "\n",
      "@cython.boundscheck(False)\n",
      "def laplace2d_SRJ_cython(numpy.ndarray[FTYPE_t, ndim=2] p, \n",
      "                            numpy.ndarray[FTYPE_t, ndim=1] y, \n",
      "                            numpy.ndarray[FTYPE_t, ndim=1] wt,\n",
      "                            double dx, \n",
      "                            double dy, \n",
      "                            int nx, \n",
      "                            int ny, \n",
      "                            double eps, ):\n",
      "    cdef int iterations, i, j\n",
      "    cdef double error\n",
      "    cdef numpy.ndarray[FTYPE_t, ndim=2] pn\n",
      "    cdef double omega\n",
      "    \n",
      "    iterations = 0\n",
      "    error = 2*eps\n",
      "    \n",
      "    while error > eps:\n",
      "        for omega in wt:\n",
      "            iterations += 1\n",
      "            \n",
      "            pn = p.copy()\n",
      "            error = 0.0\n",
      "            for j in range(1,ny-1):\n",
      "                for i in range(1,nx-1):\n",
      "                    p[j,i] = (1 - omega) * pn[j,i] +\\\n",
      "                    .25 * omega * (pn[j,i-1] + pn[j,i+1] + pn[j-1,i] + pn[j+1,i])\n",
      "                    error += abs(p[j,i] - pn[j,i])\n",
      "\n",
      "            for j in range(ny):\n",
      "                p[j,-1] = p[j,-2]\n",
      "\n",
      "            \n",
      "                \n",
      "            if error <= eps:\n",
      "                return p, iterations\n",
      "            #error /= float(nx*ny)\n",
      "        \n",
      "    return p, iterations"
     ],
     "language": "python",
     "metadata": {},
     "outputs": [],
     "prompt_number": 25
    },
    {
     "cell_type": "code",
     "collapsed": false,
     "input": [
      "nx_vals = [32, 64, 128]\n",
      "\n",
      "for nx in nx_vals:\n",
      "\n",
      "    ny = nx\n",
      "\n",
      "    L = 5.\n",
      "    H = 5.\n",
      "\n",
      "    x = numpy.linspace(0,L,nx)\n",
      "    y = numpy.linspace(0,H,ny)\n",
      "\n",
      "    dx = L/(nx-1)\n",
      "    dy = H/(ny-1)\n",
      "\n",
      "    p = numpy.zeros((ny, nx))\n",
      "\n",
      "    p[:,0] = 0\n",
      "    p[:,-1] = p[:,-2]\n",
      "    p[0,:] = 0\n",
      "    p[-1,:] = numpy.sin(1.5*numpy.pi*x/x[-1])\n",
      "\n",
      "    t1srj = time.time()\n",
      "    w, q = srj.get_relaxation_vectors(5, nx)\n",
      "    wt = srj.get_relaxation_schedule(w,q)\n",
      "    \n",
      "    pSRJ, iterations = laplace2d_SRJ_cython(p, y,wt, dx, dy, nx, ny, 1e-8)\n",
      "    t2srj = time.time()\n",
      "\n",
      "    print \"SRJ: Grid size: {}x{}  Cython time: {} s for {} iterations\".format(nx, nx, t2srj-t1srj, iterations)"
     ],
     "language": "python",
     "metadata": {},
     "outputs": [
      {
       "output_type": "stream",
       "stream": "stdout",
       "text": [
        "SRJ: Grid size: 32x32  Cython time: 0.116473913193 s for 515 iterations\n",
        "SRJ: Grid size: 64x64  Cython time: 0.283061027527 s for 1570 iterations"
       ]
      },
      {
       "output_type": "stream",
       "stream": "stdout",
       "text": [
        "\n",
        "SRJ: Grid size: 128x128  Cython time: 0.890748977661 s for 4193 iterations"
       ]
      },
      {
       "output_type": "stream",
       "stream": "stdout",
       "text": [
        "\n"
       ]
      }
     ],
     "prompt_number": 26
    },
    {
     "cell_type": "markdown",
     "metadata": {},
     "source": [
      "Compare to regular jacobi!!  128x128 from ~70000 iterations -> 4200"
     ]
    },
    {
     "cell_type": "code",
     "collapsed": false,
     "input": [
      "L2_rel_error(pan, pSRJ)"
     ],
     "language": "python",
     "metadata": {},
     "outputs": [
      {
       "metadata": {},
       "output_type": "pyout",
       "prompt_number": 27,
       "text": [
        "0.0072019724028793341"
       ]
      }
     ],
     "prompt_number": 27
    },
    {
     "cell_type": "heading",
     "level": 3,
     "metadata": {},
     "source": [
      "SRJ with Numpy"
     ]
    },
    {
     "cell_type": "code",
     "collapsed": false,
     "input": [
      "def laplace2d_SRJ_numpy(p, y, dx, dy, l2_target):\n",
      "    '''Solves the diffusion equation with forward-time, centered scheme\n",
      "    \n",
      "    Parameters:\n",
      "    ----------\n",
      "    p: 2D array of float\n",
      "        Initial potential distribution\n",
      "    y: array of float\n",
      "        Nodal coordinates in y\n",
      "    dx: float\n",
      "        Mesh size\n",
      "    dy: float\n",
      "        Mesh size\n",
      "    l2_target: float\n",
      "        Error target\n",
      "        \n",
      "    Returns:\n",
      "    -------\n",
      "    p: 2D array of float\n",
      "        Potential distribution after relaxation\n",
      "    '''\n",
      "    nx = len(y)\n",
      "    \n",
      "    w, q = srj.get_relaxation_vectors(5, nx)\n",
      "    wt = srj.get_relaxation_schedule(w,q)\n",
      "    \n",
      "    l2norm = 1\n",
      "    pn = numpy.empty_like(p)\n",
      "    iteration_count = 0\n",
      "\n",
      "    while l2norm > l2_target:\n",
      "        for omega in wt:\n",
      "            pn = p.copy()\n",
      "            p[1:-1,1:-1] = (1 - omega) * pn[1:-1,1:-1] + .25 * omega * (pn[1:-1,2:]+pn[1:-1,:-2]+pn[2:,1:-1]+pn[:-2,1:-1])\n",
      "\n",
      "            p[:,-1] = p[:,-2]\n",
      "\n",
      "            l2norm = numpy.sum(numpy.abs(p[1:-1,1:-1] - pn[1:-1,1:-1]))\n",
      "\n",
      "            iteration_count += 1\n",
      "     \n",
      "    return p, iteration_count"
     ],
     "language": "python",
     "metadata": {},
     "outputs": [],
     "prompt_number": 28
    },
    {
     "cell_type": "code",
     "collapsed": false,
     "input": [
      "nx_vals = [32, 64, 128]\n",
      "\n",
      "for nx in nx_vals:\n",
      "\n",
      "    ny = nx\n",
      "\n",
      "    L = 5.\n",
      "    H = 5.\n",
      "\n",
      "    x = numpy.linspace(0,L,nx)\n",
      "    y = numpy.linspace(0,H,ny)\n",
      "\n",
      "    dx = L/(nx-1)\n",
      "    dy = H/(ny-1)\n",
      "\n",
      "    p = numpy.zeros((ny, nx))\n",
      "\n",
      "    p[:,0] = 0\n",
      "    p[:,-1] = p[:,-2]\n",
      "    p[0,:] = 0\n",
      "    p[-1,:] = numpy.sin(1.5*numpy.pi*x/x[-1])\n",
      "\n",
      "    t1srj = time.time()    \n",
      "    pSRJ, iterations = laplace2d_SRJ_numpy(p, y, dx, dy, 1e-8)\n",
      "    t2srj = time.time()\n",
      "\n",
      "    print \"SRJ: Grid size: {}x{}  Numpy time: {} s for {} iterations\".format(nx, nx, t2srj-t1srj, iterations)"
     ],
     "language": "python",
     "metadata": {},
     "outputs": [
      {
       "output_type": "stream",
       "stream": "stdout",
       "text": [
        "SRJ: Grid size: 32x32  Numpy time: 0.141558170319 s for 532 iterations\n",
        "SRJ: Grid size: 64x64  Numpy time: 0.434709072113 s for 1580 iterations"
       ]
      },
      {
       "output_type": "stream",
       "stream": "stdout",
       "text": [
        "\n",
        "SRJ: Grid size: 128x128  Numpy time: 1.64569211006 s for 4459 iterations"
       ]
      },
      {
       "output_type": "stream",
       "stream": "stdout",
       "text": [
        "\n"
       ]
      }
     ],
     "prompt_number": 29
    },
    {
     "cell_type": "code",
     "collapsed": false,
     "input": [
      "L2_rel_error(pan, pSRJ)"
     ],
     "language": "python",
     "metadata": {},
     "outputs": [
      {
       "metadata": {},
       "output_type": "pyout",
       "prompt_number": 30,
       "text": [
        "0.0072019742717347943"
       ]
      }
     ],
     "prompt_number": 30
    },
    {
     "cell_type": "markdown",
     "metadata": {},
     "source": [
      "| Method       | Grid size | Iterations | Time             |\n",
      "|--------------|-----------|------------|------------------|\n",
      "| Jacobi       | 128x128   | 69145      | 5.148 s  |\n",
      "| Gauss Seidel | 128x128   | 32023      | 4.103 s  |\n",
      "| SOR 1.5      | 128x128   | 13579      | 1.992 s  |\n",
      "| SOR Tuned    | 128x128   | 1448       | 0.210 s |\n",
      "| SRJ          | 128x128   | 4193       | 0.832 s |"
     ]
    },
    {
     "cell_type": "code",
     "collapsed": false,
     "input": [
      "nx_vals = [256, 512]\n",
      "\n",
      "for nx in nx_vals:\n",
      "    \n",
      "    omega = 2. / (1 + numpy.pi/nx)\n",
      "    \n",
      "    ny = nx\n",
      "\n",
      "    L = 5.\n",
      "    H = 5.\n",
      "\n",
      "    x = numpy.linspace(0,L,nx)\n",
      "    y = numpy.linspace(0,H,ny)\n",
      "\n",
      "    dx = L/(nx-1)\n",
      "    dy = H/(ny-1)\n",
      "\n",
      "    p = numpy.zeros((ny, nx))\n",
      "\n",
      "    p[:,0] = 0\n",
      "    p[:,-1] = p[:,-2]\n",
      "    p[0,:] = 0\n",
      "    p[-1,:] = numpy.sin(1.5*numpy.pi*x/x[-1])\n",
      "    \n",
      "    t1c = time.time()\n",
      "    psortunecyth, itercyth = laplace2d_SOR_cython(p, y, dx, dy, nx, ny, 1e-8, omega)\n",
      "    t2c = time.time()\n",
      "    \n",
      "    print \"SOR: Grid size: {}x{}  Cython time: {} s for {} iterations\".format(nx, nx, t2c-t1c, itercyth)\n",
      "    "
     ],
     "language": "python",
     "metadata": {},
     "outputs": [
      {
       "output_type": "stream",
       "stream": "stdout",
       "text": [
        "SOR: Grid size: 256x256  Cython time: 1.84624695778 s for 3017 iterations\n",
        "SOR: Grid size: 512x512  Cython time: 15.9190499783 s for 6249 iterations"
       ]
      },
      {
       "output_type": "stream",
       "stream": "stdout",
       "text": [
        "\n"
       ]
      }
     ],
     "prompt_number": 31
    },
    {
     "cell_type": "code",
     "collapsed": false,
     "input": [
      "nx_vals = [256, 512]\n",
      "\n",
      "for nx in nx_vals:\n",
      "\n",
      "    ny = nx\n",
      "\n",
      "    L = 5.\n",
      "    H = 5.\n",
      "\n",
      "    x = numpy.linspace(0,L,nx)\n",
      "    y = numpy.linspace(0,H,ny)\n",
      "\n",
      "    dx = L/(nx-1)\n",
      "    dy = H/(ny-1)\n",
      "\n",
      "    p = numpy.zeros((ny, nx))\n",
      "\n",
      "    p[:,0] = 0\n",
      "    p[:,-1] = p[:,-2]\n",
      "    p[0,:] = 0\n",
      "    p[-1,:] = numpy.sin(1.5*numpy.pi*x/x[-1])\n",
      "\n",
      "    t1srj = time.time()\n",
      "    w, q = srj.get_relaxation_vectors(5, nx)\n",
      "    wt = srj.get_relaxation_schedule(w,q)\n",
      "    \n",
      "    pSRJ, iterations = laplace2d_SRJ_cython(p, y,wt, dx, dy, nx, ny, 1e-8)\n",
      "    t2srj = time.time()\n",
      "\n",
      "    print \"SRJ: Grid size: {}x{}  Cython time: {} s for {} iterations\".format(nx, nx, t2srj-t1srj, iterations)"
     ],
     "language": "python",
     "metadata": {},
     "outputs": [
      {
       "output_type": "stream",
       "stream": "stdout",
       "text": [
        "SRJ: Grid size: 256x256  Cython time: 4.55140089989 s for 10676 iterations\n",
        "SRJ: Grid size: 512x512  Cython time: 53.4618558884 s for 34219 iterations"
       ]
      },
      {
       "output_type": "stream",
       "stream": "stdout",
       "text": [
        "\n"
       ]
      }
     ],
     "prompt_number": 32
    },
    {
     "cell_type": "code",
     "collapsed": false,
     "input": [],
     "language": "python",
     "metadata": {},
     "outputs": [],
     "prompt_number": 32
    },
    {
     "cell_type": "code",
     "collapsed": false,
     "input": [],
     "language": "python",
     "metadata": {},
     "outputs": [],
     "prompt_number": 32
    },
    {
     "cell_type": "code",
     "collapsed": false,
     "input": [
      "from IPython.core.display import HTML\n",
      "css_file = '../../styles/numericalmoocstyle.css'\n",
      "HTML(open(css_file, \"r\").read())"
     ],
     "language": "python",
     "metadata": {},
     "outputs": [
      {
       "html": [
        "<link href='http://fonts.googleapis.com/css?family=Alegreya+Sans:100,300,400,500,700,800,900,100italic,300italic,400italic,500italic,700italic,800italic,900italic' rel='stylesheet' type='text/css'>\n",
        "<link href='http://fonts.googleapis.com/css?family=Arvo:400,700,400italic' rel='stylesheet' type='text/css'>\n",
        "<link href='http://fonts.googleapis.com/css?family=PT+Mono' rel='stylesheet' type='text/css'>\n",
        "<link href='http://fonts.googleapis.com/css?family=Shadows+Into+Light' rel='stylesheet' type='text/css'>\n",
        "<link href='http://fonts.googleapis.com/css?family=Nixie+One' rel='stylesheet' type='text/css'>\n",
        "<style>\n",
        "\n",
        "@font-face {\n",
        "    font-family: \"Computer Modern\";\n",
        "    src: url('http://mirrors.ctan.org/fonts/cm-unicode/fonts/otf/cmunss.otf');\n",
        "}\n",
        "\n",
        "#notebook_panel { /* main background */\n",
        "    background: rgb(245,245,245);\n",
        "}\n",
        "\n",
        "div.cell { /* set cell width */\n",
        "    width: 750px;\n",
        "}\n",
        "\n",
        "div #notebook { /* centre the content */\n",
        "    background: #fff; /* white background for content */\n",
        "    width: 1000px;\n",
        "    margin: auto;\n",
        "    padding-left: 0em;\n",
        "}\n",
        "\n",
        "#notebook li { /* More space between bullet points */\n",
        "margin-top:0.8em;\n",
        "}\n",
        "\n",
        "/* draw border around running cells */\n",
        "div.cell.border-box-sizing.code_cell.running { \n",
        "    border: 1px solid #111;\n",
        "}\n",
        "\n",
        "/* Put a solid color box around each cell and its output, visually linking them*/\n",
        "div.cell.code_cell {\n",
        "    background-color: rgb(256,256,256); \n",
        "    border-radius: 0px; \n",
        "    padding: 0.5em;\n",
        "    margin-left:1em;\n",
        "    margin-top: 1em;\n",
        "}\n",
        "\n",
        "div.text_cell_render{\n",
        "    font-family: 'Alegreya Sans' sans-serif;\n",
        "    line-height: 140%;\n",
        "    font-size: 125%;\n",
        "    font-weight: 400;\n",
        "    width:600px;\n",
        "    margin-left:auto;\n",
        "    margin-right:auto;\n",
        "}\n",
        "\n",
        "\n",
        "/* Formatting for header cells */\n",
        ".text_cell_render h1 {\n",
        "    font-family: 'Nixie One', serif;\n",
        "    font-style:regular;\n",
        "    font-weight: 400;    \n",
        "    font-size: 45pt;\n",
        "    line-height: 100%;\n",
        "    color: rgb(0,51,102);\n",
        "    margin-bottom: 0.5em;\n",
        "    margin-top: 0.5em;\n",
        "    display: block;\n",
        "}\t\n",
        ".text_cell_render h2 {\n",
        "    font-family: 'Nixie One', serif;\n",
        "    font-weight: 400;\n",
        "    font-size: 30pt;\n",
        "    line-height: 100%;\n",
        "    color: rgb(0,51,102);\n",
        "    margin-bottom: 0.1em;\n",
        "    margin-top: 0.3em;\n",
        "    display: block;\n",
        "}\t\n",
        "\n",
        ".text_cell_render h3 {\n",
        "    font-family: 'Nixie One', serif;\n",
        "    margin-top:16px;\n",
        "\tfont-size: 22pt;\n",
        "    font-weight: 600;\n",
        "    margin-bottom: 3px;\n",
        "    font-style: regular;\n",
        "    color: rgb(102,102,0);\n",
        "}\n",
        "\n",
        ".text_cell_render h4 {    /*Use this for captions*/\n",
        "    font-family: 'Nixie One', serif;\n",
        "    font-size: 14pt;\n",
        "    text-align: center;\n",
        "    margin-top: 0em;\n",
        "    margin-bottom: 2em;\n",
        "    font-style: regular;\n",
        "}\n",
        "\n",
        ".text_cell_render h5 {  /*Use this for small titles*/\n",
        "    font-family: 'Nixie One', sans-serif;\n",
        "    font-weight: 400;\n",
        "    font-size: 16pt;\n",
        "    color: rgb(163,0,0);\n",
        "    font-style: italic;\n",
        "    margin-bottom: .1em;\n",
        "    margin-top: 0.8em;\n",
        "    display: block;\n",
        "}\n",
        "\n",
        ".text_cell_render h6 { /*use this for copyright note*/\n",
        "    font-family: 'PT Mono', sans-serif;\n",
        "    font-weight: 300;\n",
        "    font-size: 9pt;\n",
        "    line-height: 100%;\n",
        "    color: grey;\n",
        "    margin-bottom: 1px;\n",
        "    margin-top: 1px;\n",
        "}\n",
        "\n",
        ".CodeMirror{\n",
        "        font-family: \"PT Mono\";\n",
        "        font-size: 90%;\n",
        "}\n",
        "\n",
        "</style>\n",
        "<script>\n",
        "    MathJax.Hub.Config({\n",
        "                        TeX: {\n",
        "                           extensions: [\"AMSmath.js\"],\n",
        "                           equationNumbers: { autoNumber: \"AMS\", useLabelIds: true}\n",
        "                           },\n",
        "                tex2jax: {\n",
        "                    inlineMath: [ ['$','$'], [\"\\\\(\",\"\\\\)\"] ],\n",
        "                    displayMath: [ ['$$','$$'], [\"\\\\[\",\"\\\\]\"] ]\n",
        "                },\n",
        "                displayAlign: 'center', // Change this to 'center' to center equations.\n",
        "                \"HTML-CSS\": {\n",
        "                    styles: {'.MathJax_Display': {\"margin\": 4}}\n",
        "                }\n",
        "        });\n",
        "</script>\n"
       ],
       "metadata": {},
       "output_type": "pyout",
       "prompt_number": 33,
       "text": [
        "<IPython.core.display.HTML at 0x7fb9db0ba990>"
       ]
      }
     ],
     "prompt_number": 33
    },
    {
     "cell_type": "code",
     "collapsed": false,
     "input": [
      "\"\"\"Robust Scheduler for the SRJ scheme\n",
      "\n",
      "This code is adapted from the MATLAB version provided by the authors\n",
      "in the reference paper \"Acceleration of the Jacobi iterative method by\n",
      "factors exceeding 100 using scheduled relaxation\", 2014, JCP, 274, pp\n",
      "695--708\n",
      "\n",
      "\"\"\"\n",
      "# NumPy\n",
      "import numpy\n",
      "\n",
      "class SRJScheduler(object):\n",
      "    \"\"\"Scheduler object\"\"\"\n",
      "\n",
      "    def __init__(self, size=512):\n",
      "        \"\"\"Constructor.\n",
      "\n",
      "        Parameters:\n",
      "        \n",
      "        size : int\n",
      "            Mesh size to be used\n",
      "\n",
      "        Notes:\n",
      "        \n",
      "        The mesh size is used to determine the minimum admissible\n",
      "        wavenumbers on the grid. \n",
      "\n",
      "        \"\"\"\n",
      "        # store the mesh size and compute kappa_min\n",
      "        self.size = size\n",
      "        self.kmin = kmin = numpy.sin(numpy.pi/2/size)**2\n",
      "\n",
      "        # use arange to generate the k array initially\n",
      "        self.k = numpy.arange( kmin, 2.0, kmin )\n",
      "        \n",
      "    def set_size(self, size):\n",
      "        \"\"\"Set the size and associated kappa_min parameter\"\"\"\n",
      "        self.size = size\n",
      "        self.kmin = kmin = numpy.sin(numpy.pi/2/size)**2\n",
      "        self.k = numpy.arange( kmin, 2.0, kmin )\n",
      "\n",
      "    @classmethod\n",
      "    def get_relaxation_vectors(self, p=5, size=None):\n",
      "        \"\"\"Return the relaxation parameter 'w' and frequency 'q' vectors\"\"\"\n",
      "        if size is None:\n",
      "            size = self.size\n",
      "        \n",
      "        if p == 5:\n",
      "            if size == 32:\n",
      "                w = numpy.array( [330.57, 82.172, 13.441, 2.2402, 0.60810] )\n",
      "                q = numpy.array( [1, 2, 7, 20, 46], int )\n",
      "\n",
      "            if size == 64:\n",
      "                w = numpy.array( [1228.8, 220.14, 26.168, 3.1668, 0.63890] )\n",
      "                q = numpy.array( [1, 3, 10, 38, 106], int )\n",
      "\n",
      "            if size == 128:\n",
      "                w = numpy.array( [4522.0, 580.86, 50.729, 4.5018, 0.67161] )\n",
      "                q = numpy.array( [1, 3, 16, 73, 250], int )\n",
      "\n",
      "            if size == 256:\n",
      "                w = numpy.array( [16459, 1513.4, 97.832, 6.4111, 0.70531] )\n",
      "                q = numpy.array( [1, 4, 26, 142, 605], int )\n",
      "\n",
      "            # FIXME Verify that this is legal\n",
      "            if size >= 512:\n",
      "                w = numpy.array( [59226, 3900.56, 187.53, 9.1194, 0.73905] )\n",
      "                q = numpy.array( [1, 6, 40, 277, 1500], int )\n",
      "\n",
      "        elif p == 4:\n",
      "            if size == 16:\n",
      "                w = numpy.array( [80.154, 17.217, 2.6201, 0.62230] )\n",
      "                q = numpy.array( [1, 2, 8, 20], int )\n",
      "                \n",
      "            if size == 32:\n",
      "                w = numpy.array( [289.46, 40.791, 4.0877, 0.66277] )\n",
      "                q = numpy.array( [1, 3, 14, 46], int )\n",
      "\n",
      "            if size == 64:\n",
      "                w = numpy.array( [1029.4, 95.007, 6.3913, 0.70513] )\n",
      "                q = numpy.array( [1, 5, 26, 114], int )\n",
      "\n",
      "            if size == 128:\n",
      "                w = numpy.array( [3596.4, 217.80, 9.9666, 0.74755] )\n",
      "                q = numpy.array( [1, 7, 50, 285], int )\n",
      "\n",
      "            if size == 256:\n",
      "                w = numpy.array( [12329, 492.05, 15.444, 0.78831] )\n",
      "                q = numpy.array( [1, 9, 86, 664], int )\n",
      "\n",
      "            if size >= 512:\n",
      "                w = numpy.array( [41459, 1096.3, 23.730, 0.82597] )\n",
      "                q = numpy.array( [1, 12, 155, 1650], int )\n",
      "\n",
      "        elif p == 3:\n",
      "            if size == 16:\n",
      "                w = numpy.array( [64.66, 6.215, 0.7042] )\n",
      "                q = numpy.array( [1, 5, 21], int)\n",
      "\n",
      "            if size == 32:\n",
      "                w = numpy.array( [213.8, 11.45, 0.7616] )\n",
      "                q = numpy.array( [1, 7, 45], int )\n",
      "\n",
      "            if size == 64:\n",
      "                w = numpy.array( [684.3, 20.73, 0.8149] )\n",
      "                q = numpy.array( [1, 11, 106], int )\n",
      "\n",
      "            if size == 128:\n",
      "                w = numpy.array( [2114, 36.78, 0.8611] )\n",
      "                q = numpy.array( [1, 17, 252], int )\n",
      "                \n",
      "            if size == 256:\n",
      "                w = numpy.array( [6319, 63.99, 0.8989] )\n",
      "                q = numpy.array( [1, 27, 625], int )\n",
      "\n",
      "            if size == 512:\n",
      "                w = numpy.array( [18278, 109.2, 0.9282] )\n",
      "                q = numpy.array( [1, 43, 1571], int )\n",
      "\n",
      "            if size >= 1024:\n",
      "                w = numpy.array( [51769.1, 184.31, 0.95025] )\n",
      "                q = numpy.array( [1, 68, 3955], int )\n",
      "\n",
      "        else:\n",
      "            raise ValueError(\"P level %d not currently supported\"%p)\n",
      "\n",
      "        return w, q\n",
      "                \n",
      "    def get_relaxation_schedule(self, w, q, size=None, write2file=False):\n",
      "        \"\"\"Return the relaxation schedule for a chosen scheme\n",
      "\n",
      "        Parameter:\n",
      "        \n",
      "        w : Array or list\n",
      "            Input vector containing the distinct relaxation \n",
      "            factors in descending order\n",
      "\n",
      "        q : Python iterable\n",
      "            Iteration counts for each relaxation parameter\n",
      "\n",
      "        size : int\n",
      "            Optional argument to re-compute the mesh size \n",
      "            and associated parameters\n",
      "\n",
      "        write2file : bool\n",
      "            Flag to write the relaxation sequence to /tmp/wt.txt\n",
      "\n",
      "        Returns:\n",
      "\n",
      "        wt : numpy.ndarray (dim=1)\n",
      "            Relaxation schedule for the chosen scheme.\n",
      "\n",
      "        \"\"\"\n",
      "        # update mesh size if needed\n",
      "        if size is not None:\n",
      "            self.set_size(size)\n",
      "\n",
      "        # convert the input w and q to numpy arrays\n",
      "        w = numpy.asarray( w.copy() )\n",
      "        q = numpy.asarray( q.copy() )\n",
      "\n",
      "        k = self.k\n",
      "\n",
      "        # compute the relaxation schedule\n",
      "        m = numpy.sum(q)\n",
      "        wt = numpy.zeros(m)\n",
      "        g = numpy.ones(k.size)\n",
      "\n",
      "        wt[0] = w[0]\n",
      "        q[0] = q[0] - 1\n",
      "        g = g * numpy.abs(1 - k*wt[0])\n",
      "        \n",
      "        # begin iterations\n",
      "        counter = 1; totPerc = 100\n",
      "        while( sum( q!=0 ) ):\n",
      "            if ( sum( q==0 ) != 0 ):\n",
      "                index = numpy.where( q==0 )[0]\n",
      "                if index == 0:\n",
      "                    w = w[1:]\n",
      "                    q = q[1:]\n",
      "                elif index == q.size-1:\n",
      "                    w = w[:-1]\n",
      "                    q = q[:-1]\n",
      "                else:\n",
      "                    w[index:-1] = w[index+1:]\n",
      "                    w = w[:-1]\n",
      "                    \n",
      "                    q[index:-1] = q[index+1:]\n",
      "                    q = q[:-1]\n",
      "            \n",
      "            ww = 1./k[ numpy.where( g == numpy.max(g) )[0] ]\n",
      "            dis = numpy.abs(w - ww)\n",
      "            index = numpy.where( dis==numpy.min(dis) )[0][0]\n",
      "            wt[counter] = w[index]\n",
      "            g = g*numpy.abs( 1 - k*wt[counter] )\n",
      "            q[index] = q[index] - 1\n",
      "\n",
      "            # increment counter\n",
      "            counter += 1\n",
      "            perc = numpy.sum(q)/wt.size\n",
      "            \n",
      "        # write the output to file\n",
      "        if write2file:\n",
      "            fname = '/tmp/wt.dat'\n",
      "            print 'Writing scheduling sequence to %s'%fname\n",
      "            self.write2file( wt, fname )\n",
      "\n",
      "        # return the relaxation schedule\n",
      "        return wt\n",
      "\n",
      "    def write2file(self, data, filename):\n",
      "        \"\"\"Save the data to an ASCII txt file\"\"\"\n",
      "        numpy.savetxt( filename, data )\n",
      "\n",
      "def test_scheduler(p=3):\n",
      "    \"\"\"Simple test for the SRJScheduler \n",
      "\n",
      "    We use the input input provided by the authors in the MATLAB\n",
      "    script for a P=3 scheme on a 16 X 16 grid\n",
      "\n",
      "    \"\"\"\n",
      "    # the srj scheduler object. The data was generated using N=512 for\n",
      "    # the Matlab script and we follow the same here as well.\n",
      "    scheduler = SRJScheduler(size=512)\n",
      "    \n",
      "    w = numpy.array( [ 64.66, 6.215, 0.7042] )\n",
      "    q = numpy.array( [1, 5, 21] )\n",
      "\n",
      "    # get the relaxation schedule generated by this script\n",
      "    wt = scheduler.get_relaxation_schedule(w, q)\n",
      "\n",
      "    # compare with sample data\n",
      "    #data = numpy.loadtxt('data/p316.dat')\n",
      "    \n",
      "    #assert( numpy.alltrue( data == wt ) )\n",
      "\n",
      "#if __name__ == '__main__':\n",
      "#    print 'Testing for P=3, N=16'\n",
      "#    test_scheduler()\n",
      "    #print 'OK'"
     ],
     "language": "python",
     "metadata": {},
     "outputs": [],
     "prompt_number": 34
    },
    {
     "cell_type": "code",
     "collapsed": false,
     "input": [],
     "language": "python",
     "metadata": {},
     "outputs": []
    }
   ],
   "metadata": {}
  }
 ]
}