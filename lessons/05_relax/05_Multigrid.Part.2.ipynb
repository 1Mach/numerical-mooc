{
 "cells": [
  {
   "cell_type": "markdown",
   "metadata": {},
   "source": [
    "###### Content under Creative Commons Attribution license CC-BY 4.0, code under MIT license (c)2015 L.A. Barba, G.F. Forsyth, P.Y. Chuang. "
   ]
  },
  {
   "cell_type": "markdown",
   "metadata": {},
   "source": [
    "# Relax and hold steady"
   ]
  },
  {
   "cell_type": "markdown",
   "metadata": {},
   "source": [
    "Welcome to the fifth notebook of *Relax and hold steady: elliptic problems*, the fifth module of [**\"Practical Numerical Methods with Python\"**](http://openedx.seas.gwu.edu/courses/GW/MAE6286/2014_fall/about).\n",
    "\n",
    "We have a collection of multigrid tools and now it's time to put them to use.  Note that all of the functions created in the previous notebook have been dropped into a 'helper' file called `multigrid_helper.py`.  "
   ]
  },
  {
   "cell_type": "code",
   "execution_count": null,
   "metadata": {
    "collapsed": false
   },
   "outputs": [],
   "source": [
    "import numpy\n",
    "import time\n",
    "from numba import jit\n",
    "from multigrid_helper import RMS, full_weighting_1d, interpolation_1d, \\\n",
    "                                poisson1d_GS_SingleItr, residual"
   ]
  },
  {
   "cell_type": "markdown",
   "metadata": {},
   "source": [
    "Now that we have all of the tools we need for multigrid, let's go through the exact procedure for putting them to use.  \n",
    "\n",
    "The two-grid procedure detailed below assumes (you guessed it) that we have two grids where the coarse grid has half as many points as the fine grid.  "
   ]
  },
  {
   "cell_type": "markdown",
   "metadata": {},
   "source": [
    "### Two-grid correction scheme: detailed procedure"
   ]
  },
  {
   "cell_type": "markdown",
   "metadata": {},
   "source": [
    "**Note:** superscripts here represent the order of ***cycle*** rather than the total number of iterations.  \n",
    "\n",
    "1. Relax the original Laplace/Poisson equation on the fine grid with $n_f$ iterations and initial guess $p{^0_i}$.\n",
    "2. Compute the residual $r_{i,f}$ on the fine grid.\n",
    "3. Transfer $r_{i,f}$ to the coarse grid by restriction and obtain $r_{i,c}$.\n",
    "4. Relax the residual equation on the coarse grid with $n_c$ iterations and initial guess $e_{i,c}=0$.\n",
    "5. Transfer relaxed $e_{i,c}$ to the fine grid by interpolation and obtain $e_{i,f}$.\n",
    "6. Calculate a new approximate solution by $p{^{0'}_i}=p{^0_i}+e_{i,f}$.\n",
    "7. Relax the original Laplace/Poisson equation on the fine grid with $n_f$ iterations and $p{^{0'}_i}$ to obtain the final approximated solution of this cycle, i.e. $p{^1_i}$\n",
    "8. Repeat until specified tolerance is met or maximum cycle count is reached.\n",
    "\n",
    "For the example problem we are using a fine grid with $N_{x,f}=513$.  The initial guess $p^0_i$ is a wave constructed with a mixture of wavenumbers. "
   ]
  },
  {
   "cell_type": "markdown",
   "metadata": {},
   "source": [
    "In the first run, the number of internal iterations for steps $1$, $4$ and $7$ ($n_f$ and $n_c$) will be set equal to $1$"
   ]
  },
  {
   "cell_type": "markdown",
   "metadata": {},
   "source": [
    "The criteria for the loop to stop is that the relative $L_2$ error reaches $10^{-8}$ or the number of cycles reaches $10^{10}$."
   ]
  },
  {
   "cell_type": "markdown",
   "metadata": {},
   "source": [
    "### Example 1: 1D Poisson Equation"
   ]
  },
  {
   "cell_type": "markdown",
   "metadata": {},
   "source": [
    "Recall that the example problem that we used to develop the multigrid tools was a 1D Poisson problem with Dirichlet boundary conditions.  "
   ]
  },
  {
   "cell_type": "markdown",
   "metadata": {},
   "source": [
    "\\begin{equation}\n",
    "\\frac{p_{i+1}-2p_i+p_{i-1}}{\\Delta x^2}=b_i ,\\ \\ \\ \\ \\ 0 \\le i \\le N_x-1\n",
    "\\end{equation}"
   ]
  },
  {
   "cell_type": "code",
   "execution_count": null,
   "metadata": {
    "collapsed": false
   },
   "outputs": [],
   "source": [
    "def laplace1d_mixed_IC(nx, k):\n",
    "    '''\n",
    "    Generates initial guess for Laplace 1D eq. under a given number \n",
    "    of grid points (nx) and a mixture of wavenumbers within the domain [0,1]x[0,1]\n",
    "    \n",
    "    Parameters:\n",
    "    ----------\n",
    "    nx: int, number of grid points in x direction\n",
    "    k:  1D list or numpy array, wavenumbers\n",
    "    \n",
    "    Returns:\n",
    "    -------\n",
    "    p: float, 1D array, unknowns in the Poisson eq.\n",
    "    b: float, 1D array, 0th-order derivatives term in the Poisson eq.\n",
    "    x: float, 1D array, linspace coordinates in x\n",
    "    dx: float, grid spacing in x\n",
    "    '''\n",
    "    \n",
    "    dx = 1.0 / (nx - 1)\n",
    "    \n",
    "    ##initial conditions\n",
    "    p = numpy.zeros(nx)\n",
    "    i = numpy.arange(0, nx)\n",
    "    for ki in k:\n",
    "        p += numpy.sin(i * ki * numpy.pi / (nx-1))\n",
    "\n",
    "    p /= numpy.size(k)\n",
    "    b = numpy.zeros(nx)\n",
    "    \n",
    "    return p, b, dx"
   ]
  },
  {
   "cell_type": "code",
   "execution_count": null,
   "metadata": {
    "collapsed": false
   },
   "outputs": [],
   "source": [
    "def L2_error(p, pn):\n",
    "    '''\n",
    "    Calculate relative L2 error between p and pn.\n",
    "    '''\n",
    "    return numpy.sqrt(numpy.sum((p - pn)**2)/numpy.sum(pn**2))"
   ]
  },
  {
   "cell_type": "code",
   "execution_count": null,
   "metadata": {
    "collapsed": false
   },
   "outputs": [],
   "source": [
    "# set up the # of grid points on the fine grid\n",
    "nxf = 513\n",
    "\n",
    "# set up the wavenumbers\n",
    "k = [1, (nxf-1)/4, (nxf-1)/2, (nxf-1)*3/4, (nxf-2)]\n",
    "\n",
    "# initialize the mixture-wavenumber IC\n",
    "p, b, dxf = laplace1d_mixed_IC(nxf, k)\n",
    "\n",
    "# set up the # of grid points and spacing on the coarse grid\n",
    "nxc = (nxf + 1) / 2\n",
    "dxc = dxf * 2\n",
    "\n",
    "# initialize the memory space for residual and errors on the both grids\n",
    "rf = numpy.zeros(nxf)\n",
    "rc = numpy.zeros(nxc)\n",
    "ef = numpy.zeros(nxf)\n",
    "ec = numpy.zeros(nxc)\n",
    "\n",
    "# set up the criteria for the loop to stop\n",
    "tol = 1e-8\n",
    "NitrMax = 1e10\n",
    "\n",
    "# start to relax\n",
    "err = 10.\n",
    "itr = 0\n",
    "t1 = time.time()\n",
    "while err > tol and itr < NitrMax:\n",
    "    \n",
    "    # save previous approximated solution\n",
    "    pn = p.copy()\n",
    "    \n",
    "    # relax p on fine grid\n",
    "    p = poisson1d_GS_SingleItr(nxf, dxf, p, b)\n",
    "    \n",
    "    # calculate residual\n",
    "    rf = residual(dxf, p, b, rf)\n",
    "    \n",
    "    # transfer residual to the coarse grid\n",
    "    rc = full_weighting_1d(rf, rc)\n",
    "    \n",
    "    # relax the error on the coarse grid\n",
    "    ec[...] = 0\n",
    "    ec = poisson1d_GS_SingleItr(nxc, dxc, ec, rc)\n",
    "    \n",
    "    # transfer the error to the fine grid\n",
    "    ef = interpolation_1d(ec, ef)\n",
    "    \n",
    "    # add the error back to p\n",
    "    p += ef\n",
    "    \n",
    "    # relax p on the fine grid\n",
    "    p = poisson1d_GS_SingleItr(nxf, dxf, p, b)\n",
    "\n",
    "    # update L2 error and # of cycle\n",
    "    err = L2_error(p, pn)\n",
    "    itr += 1\n",
    "\n",
    "t2 = time.time()\n",
    "\n",
    "print(\"# of Grid points: {}\".format(nxf))\n",
    "print(\"Runtime (multigrid, two-grid correction): {:.4f} sec\".format(t2-t1))\n",
    "print(\"Root mean square of exact error: {:.4} \".format(RMS(p)))"
   ]
  },
  {
   "cell_type": "markdown",
   "metadata": {},
   "source": [
    "Ok!  A fine grid with 513 points took around 15 seconds to finish on a 1.9 GHz processor.\n",
    "\n",
    "Is that any good?  Time to find out!\n",
    "\n",
    "Let's try the same problem using a single-grid relaxation.  Recall that the Poisson iteration function uses Gauss-Seidel, so the \"single-grid\" relaxation is the same thing as Gauss-Seidel from Lesson 3!"
   ]
  },
  {
   "cell_type": "code",
   "execution_count": null,
   "metadata": {
    "collapsed": false
   },
   "outputs": [],
   "source": [
    "# set up the # of grid points on the fine grid\n",
    "nx = 513\n",
    "\n",
    "# set up the wavenumbers\n",
    "k = [1, (nx-1)/4, (nx-1)/2, (nx-1)*3/4, (nx-2)]\n",
    "\n",
    "# initialize the mixture-wavenumber IC\n",
    "p, b, dx = laplace1d_mixed_IC(nx, k)\n",
    "\n",
    "# set up the criteria for the loop to stop\n",
    "tol = 1e-8\n",
    "NitrMax = 1e10\n",
    "\n",
    "# start to relax\n",
    "err = 10.\n",
    "itr = 0\n",
    "t1 = time.time()\n",
    "while err > tol and itr < NitrMax:\n",
    "    \n",
    "    # save previous approximated solution\n",
    "    pn = p.copy()\n",
    "    \n",
    "    # solve p on fine grid\n",
    "    p = poisson1d_GS_SingleItr(nx, dx, p, b)\n",
    "    \n",
    "    # update L2 error and # of iteration\n",
    "    err = L2_error(p, pn)\n",
    "    itr += 1\n",
    "\n",
    "t2 = time.time()\n",
    "\n",
    "print(\"# of Grid points: {}\".format(nxf))\n",
    "print(\"Runtime (multigrid, two-grid correction): {:.4f} sec\".format(t2-t1))\n",
    "print(\"Root mean square of exact error: {:.4} \".format(RMS(p)))"
   ]
  },
  {
   "cell_type": "markdown",
   "metadata": {},
   "source": [
    "That was *slow*.  But that's why we have multigrid!  Also, with the two-grid scheme, if we have a more accurate \"guess\" for the error relaxation, the method should converge faster.  How do we achieve a better guess for the error?  Simple.  Run the relaxation routine a few more times.  Try it out!  Wrap the line\n",
    "\n",
    "```Python\n",
    "ec = poisson1d_GS_SingleItr(nxc, dxc, ec, rc)\n",
    "```\n",
    "\n",
    "in a `for` loop and try running it 10 times (or more!) before interpolating back up to the fine mesh.  \n",
    "\n"
   ]
  },
  {
   "cell_type": "code",
   "execution_count": null,
   "metadata": {
    "collapsed": false
   },
   "outputs": [],
   "source": [
    "internal_itercount = 10\n",
    "\n",
    "# set up the # of grid points on the fine grid\n",
    "nxf = 513\n",
    "\n",
    "# set up the wavenumbers\n",
    "k = [1, (nxf-1)/4, (nxf-1)/2, (nxf-1)*3/4, (nxf-2)]\n",
    "\n",
    "# initialize the mixture-wavenumber IC\n",
    "p, b, dxf = laplace1d_mixed_IC(nxf, k)\n",
    "\n",
    "# set up the # of grid points and spacing on the coarse grid\n",
    "nxc = (nxf + 1) / 2\n",
    "dxc = dxf * 2\n",
    "\n",
    "# initialize the memory space for residual and errors on the both grids\n",
    "rf = numpy.zeros(nxf)\n",
    "rc = numpy.zeros(nxc)\n",
    "ef = numpy.zeros(nxf)\n",
    "ec = numpy.zeros(nxc)\n",
    "\n",
    "# set up the criteria for the loop to stop\n",
    "tol = 1e-8\n",
    "NitrMax = 1e10\n",
    "\n",
    "# start to relax\n",
    "err = 10.\n",
    "itr = 0\n",
    "t1 = time.time()\n",
    "while err > tol and itr < NitrMax:\n",
    "\n",
    "    # save previous approximated solution\n",
    "    pn = p.copy()\n",
    "\n",
    "    # relax p on fine grid\n",
    "    p = poisson1d_GS_SingleItr(nxf, dxf, p, b)\n",
    "\n",
    "    # calculate residual\n",
    "    rf = residual(dxf, p, b, rf)\n",
    "\n",
    "    # transfer residual to the coarse grid\n",
    "    rc = full_weighting_1d(rf, rc)\n",
    "\n",
    "    # relax the error on the coarse grid\n",
    "    ec[...] = 0\n",
    "    for i in range(internal_itercount):\n",
    "        ec = poisson1d_GS_SingleItr(nxc, dxc, ec, rc)\n",
    "\n",
    "    # transfe the error to the fine grid\n",
    "    ef = interpolation_1d(ec, ef)\n",
    "\n",
    "    # add the error back to p\n",
    "    p += ef\n",
    "\n",
    "    # relax p on the fine grid\n",
    "    p = poisson1d_GS_SingleItr(nxf, dxf, p, b)\n",
    "\n",
    "    # update L2 error and # of cycle\n",
    "    err = L2_error(p, pn)\n",
    "    itr += 1\n",
    "\n",
    "t2 = time.time()\n",
    "\n",
    "print(\"# of Grid points: {}\".format(nxf))\n",
    "print(\"Runtime (multigrid, two-grid correction): {:.4f} sec\".format(t2-t1))\n",
    "print(\"Root mean square of exact error: {:.4} \".format(RMS(p)))"
   ]
  },
  {
   "cell_type": "markdown",
   "metadata": {},
   "source": [
    "That made a pretty significant difference!  "
   ]
  },
  {
   "cell_type": "markdown",
   "metadata": {},
   "source": [
    "##### Dig Deeper"
   ]
  },
  {
   "cell_type": "markdown",
   "metadata": {},
   "source": [
    "Experiment with using different numbers of iterations for the inner-loop relaxations.  Change the grid-size of the fine and coarse grids and again experiment with different iteration counts."
   ]
  },
  {
   "cell_type": "markdown",
   "metadata": {},
   "source": [
    "### Example 2: 2D Laplace equation with Neumann boundary conditions"
   ]
  },
  {
   "cell_type": "markdown",
   "metadata": {},
   "source": [
    "Let's revisit the example Laplace problem from Lesson 1 and apply the two-grid multigrid scheme. \n",
    "\n",
    "\\begin{equation}\n",
    "\\frac{\\partial ^2 p}{\\partial x^2} + \\frac{\\partial ^2 p}{\\partial y^2} = 0\n",
    "\\end{equation}\n",
    "\n",
    "Recall that the boundary conditions were given as\n",
    "\n",
    "\\begin{equation}\n",
    "\\begin{array}{llll}\n",
    "p&=&0 & \\text{ at } x=0 \\\\\n",
    "\\frac{\\partial p}{\\partial x} &=& 0 & \\text{ at } x = L \\\\\n",
    "p &=& 0 & \\text{ at }y = 0 \\\\\n",
    "p &=& \\sin \\left(  \\frac{\\frac{3}{2}\\pi x}{L} \\right) & \\text{ at } y = H\n",
    "\\end{array}\n",
    "\\end{equation}\n",
    "\n",
    "where $L=1$ and $H=1$ are the sizes of the domain in the $x$ and $y$ directions, respectively.\n",
    "\n",
    "We can use both single-grid and multigrid schemes to solve this problem and compare how they stack up.  \n",
    "\n",
    "The analytical solution is\n",
    "\n",
    "\\begin{equation}\n",
    "p(x,y) = \\frac{\\sinh \\left( \\frac{\\frac{3}{2} \\pi y}{L}\\right)}{\\sinh \\left(  \\frac{\\frac{3}{2} \\pi H}{L}\\right)} \\sin \\left( \\frac{\\frac{3}{2} \\pi x}{L} \\right)\n",
    "\\end{equation}"
   ]
  },
  {
   "cell_type": "code",
   "execution_count": null,
   "metadata": {
    "collapsed": false
   },
   "outputs": [],
   "source": [
    "def p_analytical(x, y):\n",
    "    '''\n",
    "    Analytical solution of the model problem: \n",
    "    2D Laplace equation with Neumann BC.\n",
    "    '''\n",
    "    X, Y = numpy.meshgrid(x,y)\n",
    "    \n",
    "    p_an = numpy.sinh(1.5 * numpy.pi * Y / x[-1]) / \\\n",
    "           (numpy.sinh(1.5 * numpy.pi * y[-1] / x[-1])) * \\\n",
    "           numpy.sin(1.5 * numpy.pi * X / x[-1])\n",
    "    \n",
    "    return p_an"
   ]
  },
  {
   "cell_type": "markdown",
   "metadata": {},
   "source": [
    "### Residual"
   ]
  },
  {
   "cell_type": "markdown",
   "metadata": {},
   "source": [
    "In the previous lesson we calculated the residual in 1D using a 2nd-order central difference equation\n",
    "\n",
    "\\begin{equation}\n",
    "r^k_i = b_i - \\frac{p{^k_{i+1}}-2p{^k_i}+p{^k_{i-1}}}{\\Delta x^2}\n",
    "\\end{equation}\n",
    "\n",
    "We can extend the same residual formulation to 2D to get\n",
    "\n",
    "\\begin{equation}\n",
    "r^k_i = b_i - \\frac{p^{k}_{i,j-1} + p^k_{i,j+1} + p^{k}_{i-1,j} + p^k_{i+1,j}  - 4p^{k+1}_{i,j}}{\\Delta x^2}\n",
    "\\end{equation}\n",
    "\n",
    "For a Laplace problem, $b_i$ is always going to be zero, but we can include it here and then use the resulting code for both Laplace and Poisson problems.  "
   ]
  },
  {
   "cell_type": "markdown",
   "metadata": {},
   "source": [
    "### Neumann Boundaries"
   ]
  },
  {
   "cell_type": "markdown",
   "metadata": {},
   "source": [
    "The boundaries in the Poisson example were all Dirichlet boundaries, but now we have a Neumann boundary.  Not a problem.  The residual along the Dirichlet boundaries will remain zero and we calculate the residual along the Neumann boundary using the 2nd-order approximation introduced in Lesson 1.  "
   ]
  },
  {
   "cell_type": "code",
   "execution_count": null,
   "metadata": {
    "collapsed": false
   },
   "outputs": [],
   "source": [
    "def residual2d_neumann(dx, pn, b, r):\n",
    "    '''\n",
    "    Calculate the residual for the 2D Poisson equation with Neumann BC.\n",
    "    Only applicable when nx=ny and dx=dy.\n",
    "    \n",
    "    Parameters:\n",
    "    ----------\n",
    "    pn: 2D array, approximated solution at a certain iteration n\n",
    "    b:  2D array, the b(x) in the Poisson eq.\n",
    "    \n",
    "    Return:\n",
    "    ----------\n",
    "    The residual r\n",
    "    '''\n",
    "    \n",
    "    # Again, we assume the boundary values of the array pn have already been 0\n",
    "    # r[0, :] = 0\n",
    "    # r[:, 0] = 0\n",
    "    # r[nx-1, :] = 0\n",
    "    \n",
    "    r[1:-1, 1:-1] = b[1:-1, 1:-1] - (pn[1:-1, :-2] + pn[1:-1, 2:] + \\\n",
    "                    pn[:-2, 1:-1] + pn[2:, 1:-1] - 4 * pn[1:-1, 1:-1]) / dx**2\n",
    "    r[1:-1, -1] = b[1:-1, -1] - (2 * pn[1:-1, -2] + pn[:-2, -1] +\\\n",
    "                    pn[2:, -1] - 4 * pn[1:-1, -1]) / dx**2\n",
    "        \n",
    "    return r"
   ]
  },
  {
   "cell_type": "markdown",
   "metadata": {},
   "source": [
    "### Restriction and interpolation in 2D"
   ]
  },
  {
   "cell_type": "markdown",
   "metadata": {},
   "source": [
    "In 2D, the full weighting restriction operator is given as\n",
    "\n",
    "\\begin{align}\n",
    "v_{(i,j),c} &=\\frac{1}{16} \\left[v_{(2i-1,2j-1),f} +v_{(2i-1,2j+1),f}\\right.\\notag \\\\ \n",
    "&\\ +v_{(2i+1,2j-1),f}  +v_{(2i+1,2j+1),f}\\notag \\\\\n",
    "&\\ + 2\\left(v_{(2i,2j-1),f}  +v_{(2i,2j+1),f}\\right.\\notag \\\\\n",
    "&\\ \\left.+v_{(2i-1,2j),f}  +v_{(2i+1,2j),f} \\right) + \\left.4v_{(2i,2j),f} \\right]\n",
    "\\end{align}\n",
    "\n",
    "for $1 \\le i,j \\le N_{x,c}-2$."
   ]
  },
  {
   "cell_type": "markdown",
   "metadata": {},
   "source": [
    "That can be a bit hard to parse, but consider the figure below where a weighted average of 9 points in the fine grid is used to calculate the value of the corresponding coarse grid point.\n",
    "\n",
    "<img src=\"./figures/2d_full_weighting.svg\" width=600>"
   ]
  },
  {
   "cell_type": "markdown",
   "metadata": {},
   "source": [
    "#### Figure 1. Full weighting restriction in 2D"
   ]
  },
  {
   "cell_type": "markdown",
   "metadata": {},
   "source": [
    "<img src=\"./figures/2d_full_weighting_detail.svg\" width=600>"
   ]
  },
  {
   "cell_type": "markdown",
   "metadata": {},
   "source": [
    "#### Figure 2. Full weighting restriction point weights"
   ]
  },
  {
   "cell_type": "markdown",
   "metadata": {},
   "source": [
    "Shown in Figure $(2)$ is the weighting of the individual points in the 9-point stencil."
   ]
  },
  {
   "cell_type": "code",
   "execution_count": null,
   "metadata": {
    "collapsed": false
   },
   "outputs": [],
   "source": [
    "def full_weighting_2d(vF, vC):\n",
    "    '''\n",
    "    2D full weighting restriction. Only applicable when nx=ny and dx=dy.\n",
    "    \n",
    "    Parameters\n",
    "    ----------\n",
    "    vF: nF x nF array, the array on the fine grid\n",
    "    vC: nC x nC array, the array on the coarse grid\n",
    "    \n",
    "    Return\n",
    "    ----------\n",
    "    vC: nC x nC array, the array on the coarse grid\n",
    "    '''\n",
    "    vC[0, :] = vF[0, ::2]\n",
    "    vC[-1, :] = vF[-1, ::2]\n",
    "    vC[:, 0] = vF[::2, 0]\n",
    "    vC[:, -1] = vF[::2, -1]\n",
    "    vC[1:-1, 1:-1] = (vF[1:-3:2, 1:-3:2] + vF[1:-3:2, 3:-1:2] +\\\n",
    "                        vF[3:-1:2, 1:-3:2] + vF[3:-1:2, 3:-1:2] +\\\n",
    "                        2. * (vF[2:-2:2, 1:-3:2] + vF[2:-2:2, 3:-1:2] +\\\n",
    "                        vF[1:-3:2, 2:-2:2] + vF[3:-1:2, 2:-2:2]) +\\\n",
    "                        4. * vF[2:-2:2, 2:-2:2]) / 16.0\n",
    "    \n",
    "    return vC"
   ]
  },
  {
   "cell_type": "markdown",
   "metadata": {},
   "source": [
    "In the current example we continue to inject boundary values between the fine and coarse grids.  This will return the correct answer but by \"ignoring\" the Neumann boundary condition the multigrid algorithm will have to cycle many more times to reduce the error sufficiently.  \n",
    "\n",
    "To improve this, we can implement a more appropriate weighted calculation along the Neumann boundary.  Recall the implementation of the 2nd-order Neumann boundary condition from [Lesson 1](./01_2D_Laplace.ipynb).  If we extend the domain to include \"ghost points\" along the Neumann boundary we can then substitute values for the ghost points using the 2nd-order central difference approximation."
   ]
  },
  {
   "cell_type": "markdown",
   "metadata": {},
   "source": [
    "<img src=\"./figures/2d_full_weighting_neumann.svg\" width=600>"
   ]
  },
  {
   "cell_type": "markdown",
   "metadata": {},
   "source": [
    "#### Figure 3. Neumann Boundary Interpolation"
   ]
  },
  {
   "cell_type": "code",
   "execution_count": null,
   "metadata": {
    "collapsed": false
   },
   "outputs": [],
   "source": [
    "def full_weighting_2d_neumann(vF, vC):\n",
    "    '''\n",
    "    2D full weighting restriction. Only applicable when nx=ny and dx=dy.\n",
    "    \n",
    "    Parameters\n",
    "    ----------\n",
    "    vF: nF x nF array, the array on the fine grid\n",
    "    vC: nC x nC array, the array on the coarse grid\n",
    "    \n",
    "    Return\n",
    "    ----------\n",
    "    vC: nC x nC array, the array on the coarse grid\n",
    "    '''\n",
    "    vC[0, :] = vF[0, ::2]\n",
    "    vC[-1, :] = vF[-1, ::2]\n",
    "    vC[:, 0] = vF[::2, 0]\n",
    "    \n",
    "    vC[1:-1, -1] = (4*vF[2:-2:2, -1] + 4*vF[2:-2:2,-2] +\\\n",
    "                    2*(vF[1:-3:2,-1] + vF[1:-3:2,-2] +\\\n",
    "                       vF[3:-1:2,-1] + vF[3:-1:2,-2]))/16.\n",
    "    \n",
    "    vC[1:-1, 1:-1] = (vF[1:-3:2, 1:-3:2] + vF[1:-3:2, 3:-1:2] +\\\n",
    "                        vF[3:-1:2, 1:-3:2] + vF[3:-1:2, 3:-1:2] +\\\n",
    "                        2. * (vF[2:-2:2, 1:-3:2] + vF[2:-2:2, 3:-1:2] +\\\n",
    "                        vF[1:-3:2, 2:-2:2] + vF[3:-1:2, 2:-2:2]) +\\\n",
    "                        4. * vF[2:-2:2, 2:-2:2]) / 16.0\n",
    "    \n",
    "    return vC"
   ]
  },
  {
   "cell_type": "markdown",
   "metadata": {},
   "source": [
    "The **interpolation in 2D** is\n",
    "\n",
    "\\begin{equation}\n",
    "\\begin{array}{ll}\n",
    "v_{(2i,2j),f}=v_{(i,j),c}, & 0 \\le i,j \\le N_{x,c}-1\\\\\n",
    "v_{(2i+1,2j),f}=\\frac{1}{2}\\left(v_{(i,j),c}+v_{(i+1,j),c}\\right),\\ \\ \\ \\ \\ \\ \\ \\ \\ \\ \\ \\ 0 \\le i \\le N_{x,c}-2, & 0 \\le j \\le N_{x,c}-1\\\\\n",
    "v_{(2i,2j+1),f}=\\frac{1}{2}\\left(v_{(i,j),c}+v_{(i,j+1),c}\\right),\\ \\ \\ \\ \\ \\ \\ \\ \\ \\ \\ \\ 0 \\le i \\le N_{x,c}-1, & 0 \\le j \\le N_{x,c}-2\\\\\n",
    "v_{(2i+1,2j+1),f}=\\frac{1}{4}\\left(v_{(i,j),c}+v_{(i+1,j),c}+v_{(i,j+1),c}+v_{(i+1,j+1),c}\\right), & 0 \\le i,j \\le N_{x,c}-2\n",
    "\\end{array}\n",
    "\\nonumber\n",
    "\\end{equation}"
   ]
  },
  {
   "cell_type": "markdown",
   "metadata": {},
   "source": [
    "<img src=\"./figures/2d_interpolation.svg\" width=500>"
   ]
  },
  {
   "cell_type": "markdown",
   "metadata": {},
   "source": [
    "#### Figure 4. 2D Interpolation Weights"
   ]
  },
  {
   "cell_type": "code",
   "execution_count": null,
   "metadata": {
    "collapsed": false
   },
   "outputs": [],
   "source": [
    "def interpolation_2d(vC, vF):\n",
    "    '''\n",
    "    2D interpolation. Only applicable when nx=ny and dx=dy.\n",
    "    \n",
    "    Parameters\n",
    "    ----------\n",
    "    vC: 2D array, the array on the coarse grid\n",
    "    vF: 2D array, the array on the fine grid\n",
    "    \n",
    "    Return\n",
    "    ----------\n",
    "    vF: 2D array, the array on the fine grid\n",
    "    '''\n",
    "    vF[::2, ::2] = vC[:, :]\n",
    "    vF[1:-1:2, ::2] = 0.5 * (vC[:-1, :] + vC[1:, :])\n",
    "    vF[::2, 1:-1:2] = 0.5 * (vC[:, :-1] + vC[:, 1:])\n",
    "    vF[1:-1:2, 1:-1:2] = 0.25 * (vC[:-1, :-1] +\\\n",
    "                                 vC[1:, :-1] + vC[:-1, 1:] + vC[1:, 1:])\n",
    "    \n",
    "    return vF"
   ]
  },
  {
   "cell_type": "markdown",
   "metadata": {},
   "source": [
    "### Gauss-Seidel method for 2D Poisson equation"
   ]
  },
  {
   "cell_type": "markdown",
   "metadata": {},
   "source": [
    "We will again use Gauss-Seidel as the relaxation function. Don't forget the 2nd-order approximation of the Neumann boundary condition!"
   ]
  },
  {
   "cell_type": "code",
   "execution_count": null,
   "metadata": {
    "collapsed": false
   },
   "outputs": [],
   "source": [
    "@jit(nopython=True)\n",
    "def poisson2d_GS_neumann_SingleItr(nx, dx, p, b):\n",
    "    '''\n",
    "    Solves the 2D Poisson equation with one Neumann boundary. \n",
    "    Gauss-Seidel method is used. Only applicable when nx=ny and dx=dy.\n",
    "    \n",
    "    Parameters:\n",
    "    ----------\n",
    "    nx: integer, the leading size of p\n",
    "    dx: float, the spacing between two grid points\n",
    "    p: nx by nx array, unknowns in the 2D Poisson eq.\n",
    "    b: nx by nx array, 0th-order derivative term in the Poisson eq.\n",
    "        \n",
    "    Returns:\n",
    "    -------\n",
    "    p: nx by nx array, approximated soln. of unknowns in the 2D Poisson eq.\n",
    "    '''\n",
    "        \n",
    "    nx, ny = p.shape\n",
    "    for j in range(1,ny-1):\n",
    "        for i in range(1,nx-1):\n",
    "            p[j,i] = .25 * (p[j,i-1] + p[j,i+1] + p[j-1,i] + p[j+1,i] -\\\n",
    "                            dx**2 * b[j,i])\n",
    "        p[j,-1] = .25 * (2 * p[j,-2] + p[j+1,-1] + p[j-1,-1] - \\\n",
    "                        dx**2 * b[j,-1])\n",
    "        \n",
    "    return p"
   ]
  },
  {
   "cell_type": "markdown",
   "metadata": {},
   "source": [
    "### Initialization"
   ]
  },
  {
   "cell_type": "markdown",
   "metadata": {},
   "source": [
    "Before we start to calculate, we will need a function to initialize the calculation."
   ]
  },
  {
   "cell_type": "code",
   "execution_count": null,
   "metadata": {
    "collapsed": false
   },
   "outputs": [],
   "source": [
    "def laplace2d_IC_neumann(nx):\n",
    "    '''\n",
    "    Initialize the 2D Laplace problem with one Neumann boundary \n",
    "    condition. Only applicable when nx=ny and dx=dy.\n",
    "    \n",
    "    Parameters:\n",
    "    ----------\n",
    "    nx: integer, the number of grid points on the x direction.\n",
    "    \n",
    "    Return:\n",
    "    ----------\n",
    "    p: nx by nx array, unknowns in the 2D Poisson eq.\n",
    "    b: nx by nx array, 0th-order derivative term in the Poisson eq.\n",
    "    x: nx by 1 array, x coordinates of grid points\n",
    "    y: nx by 1 array, y coordinates of grid points\n",
    "    dx, dy: spacing between points\n",
    "    '''\n",
    "    dx = 1.0 / (nx - 1)\n",
    "    dy = dx\n",
    "    \n",
    "    ##plotting aids\n",
    "    x = numpy.linspace(0, 1, nx)\n",
    "    y = x.copy()\n",
    "\n",
    "    ##initial conditions\n",
    "    p = numpy.zeros((nx, nx))\n",
    "\n",
    "    ##Dirichlet boundary conditions\n",
    "    p[-1,:] = numpy.sin(1.5 * numpy.pi * x / x[-1])\n",
    "    \n",
    "    b = numpy.zeros((nx, nx))\n",
    "    \n",
    "    return p, b, x, y, dx, dy"
   ]
  },
  {
   "cell_type": "markdown",
   "metadata": {},
   "source": [
    "### Solve the 2D Poisson model problem now!"
   ]
  },
  {
   "cell_type": "markdown",
   "metadata": {},
   "source": [
    "The first one here is the single-grid calculation. We use `257` grid points in the example."
   ]
  },
  {
   "cell_type": "code",
   "execution_count": null,
   "metadata": {
    "collapsed": false
   },
   "outputs": [],
   "source": [
    "# set up the # of grid points, nx = ny\n",
    "nx = 257\n",
    "\n",
    "# initialize the problem\n",
    "p, b, x, y, dx, dy = laplace2d_IC_neumann(nx)\n",
    "\n",
    "# obtain the exact solution\n",
    "p_exact = p_analytical(x, y)\n",
    "\n",
    "# set up the criteria for the iteration to stop\n",
    "tol = 1e-8\n",
    "NitrMax = 1e10\n",
    "\n",
    "# start the calculation\n",
    "err = 10.\n",
    "itr = 0\n",
    "t1 = time.time()\n",
    "while err > tol and itr < NitrMax:\n",
    "    \n",
    "    # save the old solution\n",
    "    pn = p.copy()\n",
    "    \n",
    "    # relax p\n",
    "    p = poisson2d_GS_neumann_SingleItr(nx, dx, p, b)\n",
    "    \n",
    "    # update the L2 error and the # of iteration\n",
    "    err = L2_error(p, pn)\n",
    "    itr += 1\n",
    "    \n",
    "t2 = time.time()"
   ]
  },
  {
   "cell_type": "code",
   "execution_count": null,
   "metadata": {
    "collapsed": false
   },
   "outputs": [],
   "source": [
    "print(\"# of Grid points: {}\".format(nx*nx))\n",
    "print(\"Runtime (single grid): {:.4f} sec\".format(t2-t1))\n",
    "print(\"Root mean square of exact error: {:.4} \".format(RMS(p - p_exact)))"
   ]
  },
  {
   "cell_type": "markdown",
   "metadata": {},
   "source": [
    "Now let's see whether the multigrid scheme can accelerate the convergence. Don't forget to initialize the residual array with `numpy.zeros`, since we assume that the Dirichlet boundary values of the residual array are always `0`."
   ]
  },
  {
   "cell_type": "code",
   "execution_count": null,
   "metadata": {
    "collapsed": false
   },
   "outputs": [],
   "source": [
    "internal_itercount = 10\n",
    "\n",
    "# set up the # of grid points, nx = ny\n",
    "nxf = 257\n",
    "\n",
    "# initialize the problem\n",
    "p, b, x, y, dxf, dyf = laplace2d_IC_neumann(nxf)\n",
    "\n",
    "# obtain the exact solution\n",
    "p_exact = p_analytical(x, y)\n",
    "\n",
    "# set up the # of grid points and spacing on the coarse grid\n",
    "nxc = (nxf + 1) / 2\n",
    "dxc = dxf * 2\n",
    "\n",
    "# initialize the memory space for residual and errors on the both grids\n",
    "rf = numpy.zeros((nxf, nxf))\n",
    "rc = numpy.zeros((nxc, nxc))\n",
    "ef = numpy.zeros((nxf, nxf))\n",
    "ec = numpy.zeros((nxc, nxc))\n",
    "\n",
    "# set up the criteria for the iteration to stop\n",
    "tol = 1e-8\n",
    "NitrMax = 1e10\n",
    "\n",
    "# start the calculation\n",
    "err = 10.\n",
    "itr = 0\n",
    "t1 = time.time()\n",
    "while err > tol and itr < NitrMax:\n",
    "    \n",
    "    # save previous approximated solution\n",
    "    pn = p.copy()\n",
    "    \n",
    "    # relax p on fine grid\n",
    "    p = poisson2d_GS_neumann_SingleItr(nxf, dxf, p, b)\n",
    "    \n",
    "    # calculate residual\n",
    "    rf = residual2d_neumann(dxf, p, b, rf)\n",
    "    \n",
    "    # transfer residual to the coarse grid\n",
    "    rC = full_weighting_2d_neumann(rf, rc)\n",
    "    \n",
    "    # relax the error on the coarse grid\n",
    "    ec[...] = 0\n",
    "    for i in range(internal_itercount):\n",
    "        ec = poisson2d_GS_neumann_SingleItr(nxc, dxc, ec, rc)\n",
    "    \n",
    "    # transfe the error to the fine grid\n",
    "    ef = interpolation_2d(ec, ef)\n",
    "    \n",
    "    # add the error back to p\n",
    "    p += ef\n",
    "    \n",
    "    # relax p on the fine grid\n",
    "    p = poisson2d_GS_neumann_SingleItr(nxf, dxf, p, b)\n",
    "\n",
    "    # update L2 error and # of cycle\n",
    "    err = L2_error(p, pn)\n",
    "    itr += 1\n",
    "    \n",
    "t2 = time.time()"
   ]
  },
  {
   "cell_type": "code",
   "execution_count": null,
   "metadata": {
    "collapsed": false
   },
   "outputs": [],
   "source": [
    "print(\"# of Grid points: {}\".format(nx*nx))\n",
    "print(\"Runtime (multigrid, two-grid correction): {:.4f} sec\".format(t2-t1))\n",
    "print(\"Root mean square of exact error: {:.4} \".format(RMS(p - p_exact)))"
   ]
  },
  {
   "cell_type": "markdown",
   "metadata": {},
   "source": [
    "Nice! We've accelerated the solution of the Laplace problem by a factor of 4 compared to the single grid method!"
   ]
  },
  {
   "cell_type": "markdown",
   "metadata": {},
   "source": [
    "##### Challenge"
   ]
  },
  {
   "cell_type": "markdown",
   "metadata": {},
   "source": [
    "*Try to develop your own multigrid code to solve the 2D Poisson model problem we used in the Lesson 2.*"
   ]
  },
  {
   "cell_type": "markdown",
   "metadata": {},
   "source": [
    "##### Dig Deeper"
   ]
  },
  {
   "cell_type": "markdown",
   "metadata": {},
   "source": [
    "The two-grid method is the simplest multigrid method.  It uses only two grids and, as a consequence, does not show off the full computational power of multigrid.\n",
    "\n",
    "Case in point: you can go back to [Lesson 3](./Iterate.This.ipynb) and compare the performance between Optimized-SOR and the code above.  (Spoiler alert: SOR is faster).  \n",
    "\n",
    "However, multigrid becomes more efficient as more grids are added.  As you will see in the next module on Performance Computing, full multigrid leaves everything else in the dust.  "
   ]
  },
  {
   "cell_type": "markdown",
   "metadata": {},
   "source": [
    "## Reference"
   ]
  },
  {
   "cell_type": "markdown",
   "metadata": {},
   "source": [
    "1. David Ketcheson, Aron Ahmadia, [Aliasing](http://nbviewer.ipython.org/github/ketch/teaching-numerics-with-notebooks/blob/master/Aliasing.ipynb)  from [*Teaching Numerics with Notebooks*](https://github.com/ketch/teaching-numerics-with-notebooks), 2014\n",
    "2. William L. Griggs, Van Emden Henson, and Steve F. McCormick, [*A Multigrid Tutorial*](https://play.google.com/store/books/details/William_L_Briggs_A_Multigrid_Tutorial?id=ahklDynzz8cC), SIAM, Philadephia, 2000 \n",
    "3. U. Trottenberg, C. W. Oosterlee, Anton Schüller, [*Multigrid*](https://play.google.com/store/books/details/Ulrich_Trottenberg_Multigrid?id=9ysyNPZoR24C), Academic press, 2000\n",
    "\n",
    "4. Jonathan Shewchuk, [*An Introduction to the Conjugate Gradient Method without the Agonizing Pain*](http://www.cs.cmu.edu/~quake-papers/painless-conjugate-gradient.pdf), 1994"
   ]
  },
  {
   "cell_type": "code",
   "execution_count": null,
   "metadata": {
    "collapsed": false
   },
   "outputs": [],
   "source": [
    "from IPython.core.display import HTML\n",
    "css_file = '../../styles/numericalmoocstyle.css'\n",
    "HTML(open(css_file, \"r\").read())"
   ]
  }
 ],
 "metadata": {
  "kernelspec": {
   "display_name": "Python 3",
   "language": "python",
   "name": "python3"
  },
  "language_info": {
   "codemirror_mode": {
    "name": "ipython",
    "version": 3
   },
   "file_extension": ".py",
   "mimetype": "text/x-python",
   "name": "python",
   "nbconvert_exporter": "python",
   "pygments_lexer": "ipython3",
   "version": "3.4.3"
  }
 },
 "nbformat": 4,
 "nbformat_minor": 0
}
