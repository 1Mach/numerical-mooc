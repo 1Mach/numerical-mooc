{
 "metadata": {
  "name": "",
  "signature": "sha256:cea92524b4f89899f13bd8d0bef3b850bfba5fcec85c219f3ad6645495900814"
 },
 "nbformat": 3,
 "nbformat_minor": 0,
 "worksheets": [
  {
   "cells": [
    {
     "cell_type": "heading",
     "level": 6,
     "metadata": {},
     "source": [
      "Content under Creative Commons Attribution license CC-BY 4.0, code under MIT license (c)2014 L.A. Barba, C.D. Cooper, G.F. Forsyth.  Based on [CFDPython](https://github.com/barbagroup/CFDPython), (c)2013 L.A. Barba, also under CC-BY license."
     ]
    },
    {
     "cell_type": "heading",
     "level": 1,
     "metadata": {},
     "source": [
      "Relax and hold steady"
     ]
    },
    {
     "cell_type": "markdown",
     "metadata": {},
     "source": [
      "Welcome to the fourth notebook of *Relax and hold steady: elliptic problems*, the fifth module of [**\"Practical Numerical Methods with Python\"**](http://openedx.seas.gwu.edu/courses/GW/MAE6286/2014_fall/about).\n",
      "\n",
      "In the previous notebooks, we taught you some basic relaxation methods (iterative methods). We also showed you the convergence rate of them. While the number of grid points becomes larger and larger, the convergence becomes slower and slower. We may ask ourselves, how to accelerate the convergence of relaxation methods?\n",
      "\n",
      "In this notebook, we'll teach you a scheme to accelerate the convergence: the multigrid method."
     ]
    },
    {
     "cell_type": "heading",
     "level": 2,
     "metadata": {},
     "source": [
      "Fundamental: convergence rate of errors"
     ]
    },
    {
     "cell_type": "markdown",
     "metadata": {},
     "source": [
      "Consider the discretized 1D Poisson equation:\n",
      "\n",
      "\\begin{equation}\n",
      "\\frac{p_{i-1}-2p_i+p_{i+1}}{\\Delta x^2}=b_i ,\\ \\ \\ \\ \\ 0 \\le i \\le N_p-1\n",
      "\\end{equation}\n",
      "\n",
      "where $N_p$ is the number of grid points. Since the indices of the grid points start from $0$, the index of the last point is $N_p-1$. And $p_i$ represents the exact solution on each grid point of the above discretized equation. The boundary conditions are $p_0=p_{N_p-1}= 0$.\n",
      "\n",
      "If $p{^n_i}$ denotes the approximated solution at **n-th iteration** in a relaxation method, we can define the error at this iteration as\n",
      "\n",
      "\\begin{equation}\n",
      "e{^n_i} = p_i - p{^n_i} ,\\ \\ \\ \\ \\ 0 \\le i \\le N_p-1\n",
      "\\end{equation}\n",
      "\n",
      "When we assign an initial guess, $p{^0_i}$, to a relaxation method, the initial error will be $e{^0_i} = p_i - p{^0_i}$, and we are trying to eliminate this initial error through successive iterations, i.e. relaxing them.\n",
      "\n",
      "Applying Fourier transform on the errors, we can find that the errors are actually composed of many different single-wavenumber waves (or errers). This yeilds an interesting question: when we are eliminating errors by a relaxation method, do these wavenumbers make impacts on the convergence rate? We can find out the answer through some simple tests.\n",
      "\n",
      "Let's take the 1D Laplace equation as an example. Since the exact solution is $p_i=0$, this gives us that $e{^n_i}=-p{^n_i}$. And in order to check the convergence of errors with different wavenumbers, we use several different single-wavenumber waves as our initial error (i.e. initial guess in our current example). Thus the initial guess is\n",
      "\n",
      "\\begin{equation}\n",
      "p{^0_i} = \\sin{(\\frac{ik\\pi}{N_p-1})} ,\\ \\ \\ \\ \\ 0 \\le i \\le N_p-1\n",
      "\\end{equation}\n",
      "\n",
      "$k$ is the wavenumber. Five different $k$ are tested: 1) $k=1$, 2) $k=16$, 3) $k=31$, 4) $k=48$, and 5) $k=63$. We also carry out the tests using two different $N_p$: $N_p=65$ and $N_p=33$. In each case, a total of $100$ iterations will be executed. The selected relaxation method is the Gauss-Seidel method.\n",
      "\n",
      "First, we have to define some frequently used functions."
     ]
    },
    {
     "cell_type": "code",
     "collapsed": false,
     "input": [
      "from matplotlib import pyplot\n",
      "from matplotlib import cm\n",
      "from matplotlib import rcParams\n",
      "from mpl_toolkits.mplot3d import Axes3D\n",
      "from scipy import weave\n",
      "import numpy\n",
      "import time\n",
      "%matplotlib inline\n",
      "\n",
      "rcParams['font.family'] = 'serif'\n",
      "rcParams['font.size'] = 16"
     ],
     "language": "python",
     "metadata": {},
     "outputs": [],
     "prompt_number": 1
    },
    {
     "cell_type": "code",
     "collapsed": false,
     "input": [
      "def laplace1d_IC(nx, k):\n",
      "    '''\n",
      "    Generates initial guess for Laplace 1D eq. under a given number \n",
      "    of grid points (nx) and wavenumber k within domain [0,1]x[0,1]\n",
      "    \n",
      "    Parameters:\n",
      "    ----------\n",
      "    nx: int, number of grid points in x direction\n",
      "    k:  float, wavenumber    \n",
      "    \n",
      "    Returns:\n",
      "    -------\n",
      "    p: 1D array of float, initial guess of the unknowns\n",
      "    b: 1D array of float, discretized 0th-order derivative term in Poisson eq.\n",
      "    x: 1D array of float, linspace coordinates in x\n",
      "    dx: float, grid spacing in x\n",
      "    '''\n",
      "    \n",
      "    dx = 1.0/(nx-1)\n",
      "    x = numpy.linspace(0,1,nx)\n",
      "    \n",
      "    ##initial conditions\n",
      "    p = numpy.array([numpy.sin(float(i * k) * numpy.pi / float(nx-1))\n",
      "                     for i in range(nx)])\n",
      "    b = numpy.zeros(nx)\n",
      "    \n",
      "    return p, b, x, dx"
     ],
     "language": "python",
     "metadata": {},
     "outputs": [],
     "prompt_number": 2
    },
    {
     "cell_type": "code",
     "collapsed": false,
     "input": [
      "def poisson1d_GS_SingleItr(nx, dx, p, b):\n",
      "    '''\n",
      "    Gauss-Seidel method for 1D Poisson eq. with Dirichlet BCs at both ends.\n",
      "    Only a single iteration is executed. **blitz** is used.\n",
      "    \n",
      "    Parameters:\n",
      "    ----------\n",
      "    nx: int, number of grid points in x direction\n",
      "    dx: float, grid spacing in x\n",
      "    p: 1D array of float, approximated soln. in last iteration\n",
      "    b: 1D array of float, discretized 0th-order derivative term in Poisson eq.\n",
      "    \n",
      "    Returns:\n",
      "    -------\n",
      "    p: 1D array of float, approximated soln. in current iteration\n",
      "    '''\n",
      "    \n",
      "    expr = \"p[1:-1] = 0.5 * (p[:-2] + p[2:] - dx * dx * b[1:-1])\"\n",
      "    weave.blitz(expr, check_size=0)\n",
      "    \n",
      "    return p"
     ],
     "language": "python",
     "metadata": {},
     "outputs": [],
     "prompt_number": 3
    },
    {
     "cell_type": "markdown",
     "metadata": {},
     "source": [
      "Each grid point has its own error. We used $L_2$-norm to represent an overall error in the previous notebooks. However, comparing $L_2$-norm of the solutions with different numbers of grid points is not fair. In order to have an even comparision for different $N_p$, we use *root mean square* to calculate the overall errors."
     ]
    },
    {
     "cell_type": "code",
     "collapsed": false,
     "input": [
      "def RMSerr(nx, p):\n",
      "    '''\n",
      "    Return the root mean square error of p.\n",
      "    \n",
      "    Parameters:\n",
      "    ----------\n",
      "    nx:  int, number of grid points\n",
      "    p:   1D float array, the solution of 1D Laplace eq.\n",
      "        \n",
      "    Returns:\n",
      "    -------\n",
      "    Root mean square error of p\n",
      "    '''\n",
      "    return numpy.sqrt(numpy.sum(p[1:-1]**2) / nx)"
     ],
     "language": "python",
     "metadata": {},
     "outputs": [],
     "prompt_number": 4
    },
    {
     "cell_type": "markdown",
     "metadata": {},
     "source": [
      "Now let's start the tests."
     ]
    },
    {
     "cell_type": "code",
     "collapsed": false,
     "input": [
      "# define different Np\n",
      "np = [65, 33]\n",
      "# define wavenumbers\n",
      "k = [1, 16, 31, 48, 63]\n",
      "# number of iterations we will run\n",
      "Nitr = 100\n",
      "# initialize a space to store root mean square errors\n",
      "err = {npi: {ki: numpy.empty(Nitr+1) for ki in k} for npi in np}\n",
      "# start iteration\n",
      "for npi in np:\n",
      "    for ki in k:\n",
      "        p, b, x, dx = laplace1d_IC(npi, ki)\n",
      "        err[npi][ki][0] = RMSerr(npi, p)\n",
      "        for itr in range(Nitr):\n",
      "            pn = p.copy()\n",
      "            p = poisson1d_GS_SingleItr(npi, dx, p, b)\n",
      "            err[npi][ki][itr+1] = RMSerr(npi, p)"
     ],
     "language": "python",
     "metadata": {},
     "outputs": [],
     "prompt_number": 5
    },
    {
     "cell_type": "code",
     "collapsed": false,
     "input": [
      "# plot errors in each case and at each iteration\n",
      "pyplot.figure(figsize=(10, 4.1))\n",
      "for n, npi in enumerate(np):\n",
      "    pyplot.subplot(1, 2, n+1)\n",
      "    for ki in k:\n",
      "        pyplot.semilogy(numpy.array(range(Nitr+1)), err[npi][ki], \n",
      "                        lw=2, label='k='+str(ki))\n",
      "\n",
      "        pyplot.legend(loc=3, fontsize='small', ncol=3, mode='expand')\n",
      "        pyplot.xlabel('Iteration'); pyplot.ylabel('RMS Error');\n",
      "        pyplot.title('Np = '+str(npi))\n",
      "        pyplot.ylim((1e-8, 1))\n",
      "pyplot.tight_layout();"
     ],
     "language": "python",
     "metadata": {},
     "outputs": [
      {
       "metadata": {},
       "output_type": "display_data",
       "png": "[encoded data removed]",
       "text": [
        "<matplotlib.figure.Figure at 0x7ff62fedc950>"
       ]
      }
     ],
     "prompt_number": 17
    },
    {
     "cell_type": "markdown",
     "metadata": {},
     "source": [
      "The first thing we notice is that there are only three lines in the case of $N_p=33$. In fact, there are indeed five lines. Because of the phenomenon of [***aliasing***](http://nbviewer.ipython.org/github/ketch/teaching-numerics-with-notebooks/blob/master/Aliasing.ipynb)[1], waves of wavnumbers $k=48$ and $k=63$ on the grid $N_p=33$ became $k=16$ and $k=1$ respectively. Thus the lines of $k=48$ and $k=63$ on the figure of $N_p=33$ overlap the lines of $k=16$ and $k=1$. This implies that in the case of $N_p=33$, there will no errors with wavenumbers larger than $32$, i.e. $N_p-1$.\n",
      "\n",
      "Second, if we compare the results of $k=1$, $k=16$, and $k=31$ in both figures, we can see that the errors with smaller $k$ converge slower.\n",
      "\n",
      "Third, the comparison of the same $k$ (for the cases of $k=1$, $k=16$, and $k=31$) under the different $N_p$ shows that $N_p=33$ eliminates the errors more efficiently than $N_p=65$ does.\n",
      "\n",
      "Finally, back to the cases of $k=48$ and $k=63$, since these two cases fall back to low wavenumber cases on the coarse grid ($N_p=33$), their convergence are faster on the fine grid ($N_p=65$) than they are on the coarse grid.\n",
      "\n",
      "These observations suggest that it is difficult for errors with wavenumbers smaller than $(N_p-1)/2$ to converge on a grid with $N_p$ points. When we use a single grid and the Gauss-Seidel method, these low-wavenumber errors is the key factor that dominates the convergence rate. Here we call the errors with wavenumbers smaller than $(N_p-1)/2$ as low-wavenumber errors; and the errors with wavenumbers larger than $(N_p-1)/2$ as high-wavenumber errors.\n",
      "\n",
      "The concept of the multigrid therefore emerges. If we have a grid with $N_p$ points on it, we can first use this grid to eliminate high-wavenumber errors and then transfer low-wavenumber errors to another grid with $(N_p+1)/2$ points in order to eliminate those low-wavenumber errors."
     ]
    },
    {
     "cell_type": "heading",
     "level": 5,
     "metadata": {},
     "source": [
      "Dig deeper"
     ]
    },
    {
     "cell_type": "markdown",
     "metadata": {},
     "source": [
      "In our tests, we use the Gauss-Seidel method and obtain the above observations. How if we use other relaxation methods, such as the Jacobi method, the weighted Jacobi method etc.? Do you think they all behavior the same? Try to do some tests by yourself! More details can be found in reference [2]."
     ]
    },
    {
     "cell_type": "heading",
     "level": 2,
     "metadata": {},
     "source": [
      "Basic multigrid scheme: use 1D Laplace equation as an example"
     ]
    },
    {
     "cell_type": "markdown",
     "metadata": {},
     "source": [
      "Here we present a simple multigrid scheme based on the basic multigrid concept described in the last section. This scheme is called *two-grid correction scheme* [2]: In this scheme, we\n",
      "\n",
      "1. relax unknown $p{^n_i}$ directly on a fine grid first to eliminate high-wavenumber errors, and then \n",
      "2. relax the error on a coarse grid to eliminate the low-wavenumber errors.\n",
      "\n",
      "If the number of points on the fine grid is $N_{p,f}$, then that on the coarse grid is choosen to be $N_{p,c}=(N_{p,f}+1)/2$.\n",
      "\n",
      "We said that we want to relax errors on the coarse grid, but can we actually iterate the error directly on it? Of course yes. And once we obtain the error directly, we can simply add the error back to the approximated solution, $p{^n_i}$, to obtain the exact solution, $p_i$.  "
     ]
    },
    {
     "cell_type": "heading",
     "level": 4,
     "metadata": {},
     "source": [
      "Residual and residual equation"
     ]
    },
    {
     "cell_type": "markdown",
     "metadata": {},
     "source": [
      "First, we introduce **residual** here.\n",
      "\n",
      "\\begin{equation}\n",
      "r{^n_i} = \\frac{p_{i-1}-2p_i+p_{i+1}}{\\Delta x^2}-\\frac{p{^n_{i-1}}-2p{^n_i}+p{^n_{i+1}}}{\\Delta x^2}=b_i-\\frac{p{^n_{i-1}}-2p{^n_i}+p{^n_{i+1}}}{\\Delta x^2}\n",
      "\\end{equation}\n",
      "\n",
      "Note that $p_i$ still represents the exact solution of the discretized equation. \n",
      "\n",
      "Then, we can find that the original equation turns into a new one: **residual equation**.\n",
      "\n",
      "\\begin{equation}\n",
      "\\frac{e{^n_{i-1}}-2e{^n_i}+e{^n_{i+1}}}{\\Delta x^2}=r{^n_i}\n",
      "\\end{equation}\n",
      "\n",
      "This residual equation gives us a way to relax the error $e{^n_i}$, and then obtain the exact solution $p_i$ by $p_i=p{^n_i}+e{^n_i}$ once we have the exact value of $e{^n_i}$.\n",
      "\n",
      "We define a Python function to calculate the residual for the 1D Poisson equation. Because of the ***Dirichlet boundary conditions*** at both end points, we already have had their exact values, and their errors and residual thus are always zero."
     ]
    },
    {
     "cell_type": "code",
     "collapsed": false,
     "input": [
      "def residual(dx, pn, b, r):\n",
      "    '''\n",
      "    Calculate the residual for the 1D Poisson equation.\n",
      "    \n",
      "    Parameters:\n",
      "    ----------\n",
      "    pn: 1D array, approximated solution at a certain iteration n\n",
      "    b:  1D array, the b(x) in the Poisson eq.\n",
      "    \n",
      "    Return:\n",
      "    ----------\n",
      "    The residual r\n",
      "    '''\n",
      "    r[0] = 0\n",
      "    expr = \"r[1:-1] = b[1:-1] - (pn[:-2] - 2 * pn[1:-1] + pn[2:]) / (dx * dx)\"\n",
      "    weave.blitz(expr, check_size=0)\n",
      "    r[-1] = 0\n",
      "    \n",
      "    return r"
     ],
     "language": "python",
     "metadata": {},
     "outputs": [],
     "prompt_number": 18
    },
    {
     "cell_type": "markdown",
     "metadata": {},
     "source": [
      "Next, since we will need the residual on the coarse grid in order to relax the residual equation and obtain the errors, we will talk about how to transfer the residual on the fine grid to the coarse grid."
     ]
    },
    {
     "cell_type": "heading",
     "level": 4,
     "metadata": {},
     "source": [
      "Restriction"
     ]
    },
    {
     "cell_type": "markdown",
     "metadata": {},
     "source": [
      "Transfering data from a fine grid to a coarse grid is called restriction. There are many ways to implement restriction. Here we introduce two restriction operators. One is **injection**, and the other one is **full weighting**.\n",
      "\n",
      "**Injection**  \n",
      "It simply takes the values of corresponding points on the fine grid as the values of the points on the coarse grid. That is,\n",
      "\n",
      "\\begin{equation}\n",
      "v{^n_{i, c}} = v{^n_{2i, f}} ,\\ \\ \\ \\ \\ 1 \\le i \\le N_{p,c}-2\n",
      "\\end{equation}\n",
      "\n",
      "Assuming $v$ denotes the values that we want to transfer.\n",
      "\n",
      "When we are dealing with the Dirichlet boundary conditions, the values at the end points are the same on both grids.\n",
      "\n",
      "\\begin{equation}\n",
      "\\left\\{\n",
      "\\begin{array}{l}\n",
      "v{^n_{0,c}} = v{^n_{0,f}} \\\\\n",
      "v{^n_{N_{p,c}-1,c}} = v{^n_{N_{p,f}-1,f}}\n",
      "\\end{array}\n",
      "\\right.\n",
      "\\end{equation}\n",
      "\n",
      "**Full weighting**  \n",
      "Injection doesn't consider the values of the points that do not appear as grid points on the coarse grid (i.e. $2i+1$-th grid point on the fine grid). On the contrary to the injection, full weighting considers the contributions of the values of these points, as shown below,\n",
      "\n",
      "\\begin{equation}\n",
      "v{^n_{i,c}}=\\frac{1}{4}\\left(v{^n_{2i-1,f}}+2v{^n_{2i,f}}+v{^n_{2i+1,f}}\\right) ,\\ \\ \\ \\ \\ 1 \\le i \\le N_{p,c}-2\n",
      "\\end{equation}\n",
      "\n",
      "Again, because of the Dirichlet boundary conditions, we use $1 \\le i \\le N_{p,c}-2$ instead of $0 \\le i \\le N_{p,c}-1$ in the above equations.\n",
      "\n",
      "Different restriction operators are applicable for different problems. In this notebook, we will use full weighting. The Python function for the full weighting is:"
     ]
    },
    {
     "cell_type": "code",
     "collapsed": false,
     "input": [
      "def F2C1D(vF, vC):\n",
      "    '''\n",
      "    Transfer a vector on a fine grids to a coarse grid by full weighting \n",
      "    operator. The number of elements (not points) of the coarse grid is \n",
      "    a half of that of the fine grid.\n",
      "    \n",
      "    Parameters:\n",
      "    ----------\n",
      "    vF: 1D numpy array, the vector on the fine grid\n",
      "    vC: 1D numpy array, the vector on the coarse grid,\n",
      "        size(vC) = (size(vF) + 1) / 2\n",
      "    \n",
      "    Output: vC\n",
      "    '''\n",
      "    vC[0] = vF[0]\n",
      "    expr = \"vC[1:-1] = 0.25 * (vF[1:-3:2] + 2. * vF[2:-2:2] + vF[3:-1:2]);\"\n",
      "    weave.blitz(expr, check_size=0)\n",
      "    vC[-1] = vF[-1]\n",
      "    \n",
      "    return vC"
     ],
     "language": "python",
     "metadata": {},
     "outputs": [],
     "prompt_number": 20
    },
    {
     "cell_type": "markdown",
     "metadata": {},
     "source": [
      "After we relax the residual equation on the coarse grid, we also need an operation that can transfer the obtained errors on the coarse grid to the fine grid."
     ]
    },
    {
     "cell_type": "heading",
     "level": 4,
     "metadata": {},
     "source": [
      "Interpolation or prolongation"
     ]
    },
    {
     "cell_type": "markdown",
     "metadata": {},
     "source": [
      "The simplest way to transfer solved errors from the coarse grid to the fine grid is **linear interpolation**.  While the values of the points that are shared by the both two grids remain the same, the values at the remaining points on the fine grid are calculated from linear interpolation, as show below.\n",
      "\n",
      "\\begin{equation}\n",
      "\\begin{array}{c}\n",
      "v{^n_{2i,f}}=v{^n_{i, c}} ,\\ \\ \\ \\ \\ 0 \\le i \\le N_{p,c}-1  \\\\\n",
      "v{^n_{2i+1,f}}=\\frac{1}{2}\\left(v{^n_{i,c}}+v{^n_{i+1,c}}\\right) ,\\ \\ \\ \\ \\ 0 \\le i \\le N_{p,c}-2\n",
      "\\end{array}\n",
      "\\end{equation}\n",
      "\n",
      "Be careful on the range of index $i$! And Dirichlet boundary conditions are again applied on the end points.\n",
      "\n",
      "Below shows the Python function of this interpolation."
     ]
    },
    {
     "cell_type": "code",
     "collapsed": false,
     "input": [
      "def C2F1D(vC, vF):\n",
      "    '''\n",
      "    Transfer a vector on a coarse grids to a fine grid by linear interpolation \n",
      "    The number of elements (not points) of the coarse grid is a half of that \n",
      "    of the fine grid.\n",
      "    \n",
      "    Parameters:\n",
      "    ----------\n",
      "    vC: 1D numpy array, the vector on the coarse grid,\n",
      "    vF: 1D numpy array, the vector on the fine grid\n",
      "        size(vF) = size(vC) * 2 - 1\n",
      "    \n",
      "    Output: vF\n",
      "    '''\n",
      "    expr = \"vF[::2] = vC[:];\" + \"vF[1:-1:2] = 0.5 * (vC[:-1] + vC[1:])\"\n",
      "    weave.blitz(expr, check_size=0)\n",
      "    \n",
      "    return vF"
     ],
     "language": "python",
     "metadata": {},
     "outputs": [],
     "prompt_number": 21
    },
    {
     "cell_type": "markdown",
     "metadata": {},
     "source": [
      "Now we can start to develop codes for the two-grid correction scheme."
     ]
    },
    {
     "cell_type": "heading",
     "level": 4,
     "metadata": {},
     "source": [
      "Two-grid correction scheme: detailed procedure"
     ]
    },
    {
     "cell_type": "markdown",
     "metadata": {},
     "source": [
      "For this scheme, the superscript now means the order of ***cycle*** rather than that of iteration as we did in the previous sections. A cycle will contain several interations.\n",
      "\n",
      "1. Relax the original Poisson equation on the fine grid with $n_f$ iterations and initial guess $p{^0_i}$.\n",
      "2. Compute the residual $r_{i,f}$ on the fine grid.\n",
      "3. Transfer $r_{i,f}$ to the coarse grid by restriction and obtain $r_{i,c}$.\n",
      "4. Relax the residual equation on the coarse grid with $n_c$ iterations and initial guess $e{^0_{i,c}}=0$.\n",
      "5. Transfer relaxed $e{^0_{i,c}}$ to the fine grid by interpolation and obtain $e{^0_{i,f}}$.\n",
      "6. Calculate a new approximated solution by $p{^{0'}_i}=p{^0_i}+e{^0_{i,f}}$.\n",
      "7. Relax the original Poisson equation on the fine grid with $n_f$ iterations and $p{^{0'}_i}$ to obtain the final approximated solution of this cycle, $p{^1_i}$\n",
      "8. Go to the $1$st step and keep running until it reaches a specified tolerence or a maximum cycle number.\n",
      "\n",
      "We use a fine grid with $N_{p,f}=65$ for an exaqmple. And the initial guess will be a wave with mixture wavenumbers. The numbers for internal iteration, $n_f$ and $n_c$, are set to be $1$ for simplicity. We also time the comptational time in order to make a comparison with that of using only one grid."
     ]
    },
    {
     "cell_type": "markdown",
     "metadata": {},
     "source": [
      "The criteria for the loop to stop is that the relative $L_2$ error reaches $10^{-14}$ or the number of cycles reaches $10^{15}$."
     ]
    },
    {
     "cell_type": "code",
     "collapsed": false,
     "input": [
      "def laplace1d_mixed_IC(nx, k):\n",
      "    '''\n",
      "    Generates initial guess for Laplace 1D eq. under a given number \n",
      "    of grid points (nx) and mixture wavenumbers within domain [0,1]x[0,1]\n",
      "    \n",
      "    Parameters:\n",
      "    ----------\n",
      "    nx: int, number of grid points in x direction\n",
      "    k:  1D list or numpy array, wavenumbers\n",
      "    \n",
      "    Returns:\n",
      "    -------\n",
      "    p: float, 1D array, unknowns in the Poisson eq.\n",
      "    b: float, 1D array, 0th-order derivatives term in the Poisson eq.\n",
      "    x: float, 1D array, linspace coordinates in x\n",
      "    dx: float, grid spacing in x\n",
      "    '''\n",
      "    dx = 1.0 / (nx - 1)\n",
      "    x = numpy.linspace(0,1,nx)\n",
      "    ##initial conditions\n",
      "    p = numpy.zeros(nx)\n",
      "    for ki in k:\n",
      "        p += numpy.array([numpy.sin(float(i * ki) * numpy.pi / float(nx-1))\n",
      "                 for i in range(nx)])\n",
      "    p = p / numpy.size(k)\n",
      "    b = numpy.zeros(nx)\n",
      "    \n",
      "    return p, b, x, dx"
     ],
     "language": "python",
     "metadata": {},
     "outputs": [],
     "prompt_number": 22
    },
    {
     "cell_type": "code",
     "collapsed": false,
     "input": [
      "def L2_error(p, pn):\n",
      "    '''\n",
      "    Calculate relative L2 error between p and pn.\n",
      "    '''\n",
      "    return numpy.sqrt(numpy.sum((p - pn)**2)/numpy.sum(pn**2))"
     ],
     "language": "python",
     "metadata": {},
     "outputs": [],
     "prompt_number": 23
    },
    {
     "cell_type": "code",
     "collapsed": false,
     "input": [
      "# set up the # of grid points on the fine grid\n",
      "npf = 513\n",
      "\n",
      "# set up the wavenumbers\n",
      "k = [1, (npf-1)/4, (npf-1)/2, (npf-1)*3/4, (npf-2)]\n",
      "\n",
      "# initialize the mixture-wavenumber IC\n",
      "p, b, x, dxf = laplace1d_mixed_IC(npf, k)\n",
      "\n",
      "# set up the # of grid points and spacing on the coarse grid\n",
      "npc = int((npf + 1) / 2)\n",
      "dxc = dxf * 2\n",
      "\n",
      "# initialize the memory space for residual and errors on the both grids\n",
      "rf = numpy.zeros(npf)\n",
      "rc = numpy.zeros(npc)\n",
      "ef = numpy.zeros(npf)\n",
      "ec = numpy.zeros(npc)\n",
      "\n",
      "# set up the criteria for the loop to stop\n",
      "tol = 1e-14\n",
      "itr = 0\n",
      "\n",
      "# start to relax\n",
      "err = 10.\n",
      "t1 = time.time()\n",
      "while ((err > tol) and (itr < 1e15)):\n",
      "    \n",
      "    # save previous approximated solution\n",
      "    pn = p.copy()\n",
      "    \n",
      "    # relax p on fine grid\n",
      "    p = poisson1d_GS_SingleItr(npf, dxf, p, b)\n",
      "    \n",
      "    # calculate residual\n",
      "    rf = residual(dxf, p, b, rf)\n",
      "    \n",
      "    # transfer residual to the coarse grid\n",
      "    rC = F2C1D(rf, rc)\n",
      "    \n",
      "    # relax the error on the coarse grid\n",
      "    ec[:] = 0\n",
      "    ec = poisson1d_GS_SingleItr(npc, dxc, ec, rc)\n",
      "    \n",
      "    # transfe the error to the fine grid\n",
      "    ef = C2F1D(ec, ef)\n",
      "    \n",
      "    # add the error back to p\n",
      "    p += ef\n",
      "    \n",
      "    # relax p on the fine grid\n",
      "    p = poisson1d_GS_SingleItr(npf, dxf, p, b)\n",
      "\n",
      "    # update L2 error and # of cycle\n",
      "    err = L2_error(p, pn)\n",
      "    itr += 1\n",
      "\n",
      "t2 = time.time()"
     ],
     "language": "python",
     "metadata": {},
     "outputs": [],
     "prompt_number": 24
    },
    {
     "cell_type": "markdown",
     "metadata": {},
     "source": [
      "Let's see how long this multigrid scheme takes and the exact root mean square error after it converge."
     ]
    },
    {
     "cell_type": "code",
     "collapsed": false,
     "input": [
      "print \"# of Grid points: \", npf\n",
      "print \"Computing time (multigrid, two-grid correction): \", t2-t1, \" sec\"\n",
      "print \"Root mean square of exact error: \", RMSerr(npf, p)"
     ],
     "language": "python",
     "metadata": {},
     "outputs": [
      {
       "output_type": "stream",
       "stream": "stdout",
       "text": [
        "# of Grid points:  513\n",
        "Computing time (multigrid, two-grid correction):  8.70337510109  sec\n",
        "Root mean square of exact error:  8.25644837256e-15\n"
       ]
      }
     ],
     "prompt_number": 25
    },
    {
     "cell_type": "markdown",
     "metadata": {},
     "source": [
      "It costs $8.7$ seconds. Now we want to know if this multigrid scheme improve the efficiency. We perform a single-grid relaxation as shown below."
     ]
    },
    {
     "cell_type": "code",
     "collapsed": false,
     "input": [
      "# set up the # of grid points on the fine grid\n",
      "np = 513\n",
      "\n",
      "# set up the wavenumbers\n",
      "k = [1, (np-1)/4, (np-1)/2, (np-1)*3/4, (np-2)]\n",
      "\n",
      "# initialize the mixture-wavenumber IC\n",
      "p, b, x, dx = laplace1d_mixed_IC(np, k)\n",
      "\n",
      "# set up the criteria for the loop to stop\n",
      "tol = 1e-14\n",
      "itr = 0\n",
      "\n",
      "# start to relax\n",
      "err = 10.\n",
      "t1 = time.time()\n",
      "while ((err > tol) and (itr < 1e10)):\n",
      "    \n",
      "    # save previous approximated solution\n",
      "    pn = p.copy()\n",
      "    \n",
      "    # solve p on fine grid\n",
      "    p = poisson1d_GS_SingleItr(np, dx, p, b)\n",
      "    \n",
      "    # update L2 error and # of iteration\n",
      "    err = L2_error(p, pn)\n",
      "    itr += 1\n",
      "\n",
      "t2 = time.time()\n",
      "\n",
      "print \"# of Grid points: \", np\n",
      "print \"Computing time (singlegrid): \", t2-t1, \" sec\"\n",
      "print \"Root mean square of exact error: \", RMSerr(npf, p)"
     ],
     "language": "python",
     "metadata": {},
     "outputs": [
      {
       "output_type": "stream",
       "stream": "stdout",
       "text": [
        "# of Grid points:  513\n",
        "Computing time (singlegrid):  22.3975429535  sec\n",
        "Root mean square of exact error:  8.25644837399e-15\n"
       ]
      }
     ],
     "prompt_number": 26
    },
    {
     "cell_type": "markdown",
     "metadata": {},
     "source": [
      "Good! The single-grid relaxation takes $22$ seconds to converge to the same criterion. This means our simplest multigrid scheme indeed works!!!"
     ]
    },
    {
     "cell_type": "heading",
     "level": 5,
     "metadata": {},
     "source": [
      "Dig deeper"
     ]
    },
    {
     "cell_type": "markdown",
     "metadata": {},
     "source": [
      "This is just the simplest scheme. There are more other schemes waiting for you to dig! Read the reference [2]."
     ]
    },
    {
     "cell_type": "heading",
     "level": 2,
     "metadata": {},
     "source": [
      "Reference"
     ]
    },
    {
     "cell_type": "markdown",
     "metadata": {},
     "source": [
      "[1] [Aliasing](http://nbviewer.ipython.org/github/ketch/teaching-numerics-with-notebooks/blob/master/Aliasing.ipynb), http://nbviewer.ipython.org/github/ketch/teaching-numerics-with-notebooks/blob/master/Aliasing.ipynb\n",
      "\n",
      "[2] William L. Griggs, Van Emden Henson, and Steve F. McCormick, *A Multigrid Tutorial*, SIAM, Philadephia, 2000 "
     ]
    },
    {
     "cell_type": "code",
     "collapsed": false,
     "input": [
      "from IPython.core.display import HTML\n",
      "css_file = '../../styles/numericalmoocstyle.css'\n",
      "HTML(open(css_file, \"r\").read())"
     ],
     "language": "python",
     "metadata": {},
     "outputs": [
      {
       "html": [
        "<link href='http://fonts.googleapis.com/css?family=Alegreya+Sans:100,300,400,500,700,800,900,100italic,300italic,400italic,500italic,700italic,800italic,900italic' rel='stylesheet' type='text/css'>\n",
        "<link href='http://fonts.googleapis.com/css?family=Arvo:400,700,400italic' rel='stylesheet' type='text/css'>\n",
        "<link href='http://fonts.googleapis.com/css?family=PT+Mono' rel='stylesheet' type='text/css'>\n",
        "<link href='http://fonts.googleapis.com/css?family=Shadows+Into+Light' rel='stylesheet' type='text/css'>\n",
        "<link href='http://fonts.googleapis.com/css?family=Nixie+One' rel='stylesheet' type='text/css'>\n",
        "<style>\n",
        "\n",
        "@font-face {\n",
        "    font-family: \"Computer Modern\";\n",
        "    src: url('http://mirrors.ctan.org/fonts/cm-unicode/fonts/otf/cmunss.otf');\n",
        "}\n",
        "\n",
        "#notebook_panel { /* main background */\n",
        "    background: rgb(245,245,245);\n",
        "}\n",
        "\n",
        "div.cell { /* set cell width */\n",
        "    width: 750px;\n",
        "}\n",
        "\n",
        "div #notebook { /* centre the content */\n",
        "    background: #fff; /* white background for content */\n",
        "    width: 1000px;\n",
        "    margin: auto;\n",
        "    padding-left: 0em;\n",
        "}\n",
        "\n",
        "#notebook li { /* More space between bullet points */\n",
        "margin-top:0.8em;\n",
        "}\n",
        "\n",
        "/* draw border around running cells */\n",
        "div.cell.border-box-sizing.code_cell.running { \n",
        "    border: 1px solid #111;\n",
        "}\n",
        "\n",
        "/* Put a solid color box around each cell and its output, visually linking them*/\n",
        "div.cell.code_cell {\n",
        "    background-color: rgb(256,256,256); \n",
        "    border-radius: 0px; \n",
        "    padding: 0.5em;\n",
        "    margin-left:1em;\n",
        "    margin-top: 1em;\n",
        "}\n",
        "\n",
        "div.text_cell_render{\n",
        "    font-family: 'Alegreya Sans' sans-serif;\n",
        "    line-height: 140%;\n",
        "    font-size: 125%;\n",
        "    font-weight: 400;\n",
        "    width:600px;\n",
        "    margin-left:auto;\n",
        "    margin-right:auto;\n",
        "}\n",
        "\n",
        "\n",
        "/* Formatting for header cells */\n",
        ".text_cell_render h1 {\n",
        "    font-family: 'Nixie One', serif;\n",
        "    font-style:regular;\n",
        "    font-weight: 400;    \n",
        "    font-size: 45pt;\n",
        "    line-height: 100%;\n",
        "    color: rgb(0,51,102);\n",
        "    margin-bottom: 0.5em;\n",
        "    margin-top: 0.5em;\n",
        "    display: block;\n",
        "}\t\n",
        ".text_cell_render h2 {\n",
        "    font-family: 'Nixie One', serif;\n",
        "    font-weight: 400;\n",
        "    font-size: 30pt;\n",
        "    line-height: 100%;\n",
        "    color: rgb(0,51,102);\n",
        "    margin-bottom: 0.1em;\n",
        "    margin-top: 0.3em;\n",
        "    display: block;\n",
        "}\t\n",
        "\n",
        ".text_cell_render h3 {\n",
        "    font-family: 'Nixie One', serif;\n",
        "    margin-top:16px;\n",
        "\tfont-size: 22pt;\n",
        "    font-weight: 600;\n",
        "    margin-bottom: 3px;\n",
        "    font-style: regular;\n",
        "    color: rgb(102,102,0);\n",
        "}\n",
        "\n",
        ".text_cell_render h4 {    /*Use this for captions*/\n",
        "    font-family: 'Nixie One', serif;\n",
        "    font-size: 14pt;\n",
        "    text-align: center;\n",
        "    margin-top: 0em;\n",
        "    margin-bottom: 2em;\n",
        "    font-style: regular;\n",
        "}\n",
        "\n",
        ".text_cell_render h5 {  /*Use this for small titles*/\n",
        "    font-family: 'Nixie One', sans-serif;\n",
        "    font-weight: 400;\n",
        "    font-size: 16pt;\n",
        "    color: rgb(163,0,0);\n",
        "    font-style: italic;\n",
        "    margin-bottom: .1em;\n",
        "    margin-top: 0.8em;\n",
        "    display: block;\n",
        "}\n",
        "\n",
        ".text_cell_render h6 { /*use this for copyright note*/\n",
        "    font-family: 'PT Mono', sans-serif;\n",
        "    font-weight: 300;\n",
        "    font-size: 9pt;\n",
        "    line-height: 100%;\n",
        "    color: grey;\n",
        "    margin-bottom: 1px;\n",
        "    margin-top: 1px;\n",
        "}\n",
        "\n",
        ".CodeMirror{\n",
        "        font-family: \"PT Mono\";\n",
        "        font-size: 90%;\n",
        "}\n",
        "\n",
        "</style>\n",
        "<script>\n",
        "    MathJax.Hub.Config({\n",
        "                        TeX: {\n",
        "                           extensions: [\"AMSmath.js\"],\n",
        "                           equationNumbers: { autoNumber: \"AMS\", useLabelIds: true}\n",
        "                           },\n",
        "                tex2jax: {\n",
        "                    inlineMath: [ ['$','$'], [\"\\\\(\",\"\\\\)\"] ],\n",
        "                    displayMath: [ ['$$','$$'], [\"\\\\[\",\"\\\\]\"] ]\n",
        "                },\n",
        "                displayAlign: 'center', // Change this to 'center' to center equations.\n",
        "                \"HTML-CSS\": {\n",
        "                    styles: {'.MathJax_Display': {\"margin\": 4}}\n",
        "                }\n",
        "        });\n",
        "</script>\n"
       ],
       "metadata": {},
       "output_type": "pyout",
       "prompt_number": 28,
       "text": [
        "<IPython.core.display.HTML at 0x7fc37323cd50>"
       ]
      }
     ],
     "prompt_number": 28
    },
    {
     "cell_type": "code",
     "collapsed": false,
     "input": [],
     "language": "python",
     "metadata": {},
     "outputs": []
    }
   ],
   "metadata": {}
  }
 ]
}