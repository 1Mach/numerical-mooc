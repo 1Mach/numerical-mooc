{
 "metadata": {
  "name": "",
  "signature": "sha256:0c0ef651f06fcbef2e66307cf54752be309e7623adf60f098b420f96832b53d8"
 },
 "nbformat": 3,
 "nbformat_minor": 0,
 "worksheets": [
  {
   "cells": [
    {
     "cell_type": "heading",
     "level": 6,
     "metadata": {},
     "source": [
      "Content under Creative Commons Attribution license CC-BY 4.0, code under MIT license (c)2014 L.A. Barba, C.D. Cooper, G.F. Forsyth.  Based on [CFDPython](https://github.com/barbagroup/CFDPython), (c)2013 L.A. Barba, also under CC-BY license."
     ]
    },
    {
     "cell_type": "heading",
     "level": 1,
     "metadata": {},
     "source": [
      "Relax and hold steady"
     ]
    },
    {
     "cell_type": "markdown",
     "metadata": {},
     "source": [
      "Welcome to the fourth notebook of *Relax and hold steady: elliptic problems*, the fifth module of [**\"Practical Numerical Methods with Python\"**](http://openedx.seas.gwu.edu/courses/GW/MAE6286/2014_fall/about).\n",
      "\n",
      "In the previous notebooks, we taught you two iterative methods (relaxation methods): Jacobi method and Gauss-Seidel method. We also showed you the convergence rate of them. While the number of grid points becomes larger and larger, the convergence rate becomes slower and slower. New question is, how to accelerate the convergence rate of iterative methods (relaxation methods) ?\n",
      "\n",
      "In this notebook, we'll teach you a scheme to accelerate the convergence rate: the multigrid method."
     ]
    },
    {
     "cell_type": "heading",
     "level": 2,
     "metadata": {},
     "source": [
      "1D Poisson equation using multigrid method"
     ]
    },
    {
     "cell_type": "heading",
     "level": 3,
     "metadata": {},
     "source": [
      "Convergence of Errors"
     ]
    },
    {
     "cell_type": "markdown",
     "metadata": {},
     "source": [
      "Consider the discretized 1D Poisson equation:\n",
      "\n",
      "\\begin{equation}\n",
      "\\frac{p_{i-1}-2p_i+p_{i+1}}{\\Delta x^2}=b_i ,\\ \\ \\ \\ \\ 0 \\le i \\le N_p-1\n",
      "\\end{equation}\n",
      "\n",
      "where $N_p$ is the number of grid points. Since the indices of the grid points start from $0$, the index of the last point is $N_p-1$. And $p_i$ represents the exact solution on each grid point of the above discretized equation. The boundary conditions are $p_0=p_{N_p-1}= 0$.\n",
      "\n",
      "If $p{^n_i}$ denotes the solution at **n-th iteration** in iterative method, such as Jacobi method, we can define the error as\n",
      "\n",
      "\\begin{equation}\n",
      "e{^n_i} = p_i - p{^n_i} ,\\ \\ \\ \\ \\ 0 \\le i \\le N_p-1\n",
      "\\end{equation}\n",
      "\n",
      "When we assign an initial guess, $p{^0_i}$, to an iterative method, the initial error will be $e{^0_i} = p_i - p{^0_i}$, and we are actually trying to eliminate this initial error to zero through the iterative method.\n",
      "\n",
      "Applying Fourier transform on the errors, we can find that the errors are actually composed of many different single-frequency waves (or errers). This yeilds an interesting question: when we are eliminating errors by an iterative method, do waves (or errors) with different frequencies have different convergence rates? We'll find out the answer through some simple tests.\n",
      "\n",
      "Let's take 1D Laplace equation as an example. Since the exact solution is $p_i=0$, this gives us that $e{^n_i}=-p{^n_i}$. And in order to check the convergence of errors with different frequency, we use 3 different single-frequency waves as our initial error (i.e. initial guess in our current example). Thus the initial guess is\n",
      "\n",
      "\\begin{equation}\n",
      "p{^0_i} = \\sin{(\\frac{ik\\pi}{N_p-1})} ,\\ \\ \\ \\ \\ 0 \\le i \\le N_p-1\n",
      "\\end{equation}\n",
      "\n",
      "$k$ is the wavenumber. Higher wavenumers means higher frequencies. Three different $k$ are tested: 1) $k=3$, 2) $k=15$, and 3) $k=31$.\n",
      "\n",
      "We also carry out the tests using two different $N_p$: $N_p=65$ and $N_p=33$.\n",
      "\n",
      "Let's start the tests."
     ]
    },
    {
     "cell_type": "code",
     "collapsed": false,
     "input": [
      "from matplotlib import pyplot\n",
      "from matplotlib import cm\n",
      "from matplotlib import rcParams\n",
      "from mpl_toolkits.mplot3d import Axes3D\n",
      "from scipy import weave\n",
      "import numpy\n",
      "import time\n",
      "%matplotlib inline\n",
      "\n",
      "rcParams['font.family'] = 'serif'\n",
      "rcParams['font.size'] = 16"
     ],
     "language": "python",
     "metadata": {},
     "outputs": [],
     "prompt_number": 1
    },
    {
     "cell_type": "code",
     "collapsed": false,
     "input": [
      "def laplace1d_IC(nx, k):\n",
      "    '''\n",
      "    Generates initial guess for Laplace 1D eq. under a given number \n",
      "    of grid points (nx) and wavenumber k within domain [0,1]x[0,1]\n",
      "    \n",
      "    Parameters:\n",
      "    ----------\n",
      "    nx: int, number of grid points in x direction\n",
      "    k:  float, wavenumber    \n",
      "    \n",
      "    Returns:\n",
      "    -------\n",
      "    p: 1D array of float\n",
      "        Pressure distribution after relaxation\n",
      "    x: array of float\n",
      "        linspace coordinates in x\n",
      "    dx: float\n",
      "        grid spacing in x\n",
      "    '''\n",
      "    dx = 1.0/(nx-1)\n",
      "    x = numpy.linspace(0,1,nx)\n",
      "    \n",
      "    ##initial conditions\n",
      "    p = numpy.array([numpy.sin(float(i * k) * numpy.pi / float(nx-1))\n",
      "                 for i in range(nx)])\n",
      "    b = numpy.zeros(nx)\n",
      "    \n",
      "    return p, b, x, dx"
     ],
     "language": "python",
     "metadata": {},
     "outputs": [],
     "prompt_number": 2
    },
    {
     "cell_type": "code",
     "collapsed": false,
     "input": [
      "def poisson1d_GS_SingleItr(nx, dx, p, b):\n",
      "    '''\n",
      "    Gauss-Seidel method for 1D Laplace eq. with Dirichlet BCs at both ends.\n",
      "    Only a single iteration is executed. blitz is used.\n",
      "    '''\n",
      "    expr = \"p[1:-1] = 0.5 * (p[:-2] + p[2:] - dx * dx * b[1:-1])\"\n",
      "    weave.blitz(expr, check_size=0)\n",
      "    return p"
     ],
     "language": "python",
     "metadata": {},
     "outputs": [],
     "prompt_number": 3
    },
    {
     "cell_type": "markdown",
     "metadata": {},
     "source": [
      "Each grid point has its own error. We used $L_2-norm$ to represent an overall error in the previous notebooks. In order to have an even comparision for different $N_p$, we use *root mean square* to calculate the overall errors."
     ]
    },
    {
     "cell_type": "code",
     "collapsed": false,
     "input": [
      "def RMSerr(nx, p):\n",
      "    '''\n",
      "    Return the root mean square error of p.\n",
      "    \n",
      "    Parameters:\n",
      "    ----------\n",
      "    nx:  int, number of grid points\n",
      "    p:   1D float array, the solution of 1D Laplace eq.\n",
      "        \n",
      "    Returns:\n",
      "    -------\n",
      "    Root mean square error of p\n",
      "    '''\n",
      "    return numpy.sqrt(numpy.sum(p[1:-1]**2) / nx)"
     ],
     "language": "python",
     "metadata": {},
     "outputs": [],
     "prompt_number": 4
    },
    {
     "cell_type": "code",
     "collapsed": false,
     "input": [
      "np = [65, 33]\n",
      "k = [1, 16, 31, 48, 63]\n",
      "\n",
      "Nitr = 100\n",
      "err = {npi: {ki: numpy.empty(Nitr+1) for ki in k} for npi in np}\n",
      "\n",
      "for npi in np:\n",
      "    for ki in k:\n",
      "        p, b, x, dx = laplace1d_IC(npi, ki)\n",
      "        err[npi][ki][0] = RMSerr(npi, p)\n",
      "        for itr in range(Nitr):\n",
      "            pn = p.copy()\n",
      "            p = poisson1d_GS_SingleItr(npi, dx, p, b)\n",
      "            err[npi][ki][itr+1] = RMSerr(npi, p)"
     ],
     "language": "python",
     "metadata": {},
     "outputs": [],
     "prompt_number": 5
    },
    {
     "cell_type": "code",
     "collapsed": false,
     "input": [
      "pyplot.figure(figsize=(10, 4))\n",
      "for n, npi in enumerate(np):\n",
      "    pyplot.subplot(1, 2, n+1)\n",
      "    for ki in k:\n",
      "        pyplot.semilogy(numpy.array(range(Nitr+1)), err[npi][ki], \n",
      "                        lw=2, label='k='+str(ki))\n",
      "\n",
      "        pyplot.legend(loc=0, fontsize='small')\n",
      "        pyplot.xlabel('Iteration'); pyplot.ylabel('RMS Error');\n",
      "        pyplot.title('Np = '+str(npi))\n",
      "        pyplot.ylim((1e-5, 1))\n",
      "pyplot.tight_layout();"
     ],
     "language": "python",
     "metadata": {},
     "outputs": [
      {
       "metadata": {},
       "output_type": "display_data",
       "png": "[encoded data removed]",
       "text": [
        "<matplotlib.figure.Figure at 0x7f5bd39373d0>"
       ]
      }
     ],
     "prompt_number": 6
    },
    {
     "cell_type": "markdown",
     "metadata": {},
     "source": [
      "We can observe that in both cases, the Jacobi method eliminates higher-frequency error faster. We can also see that the coarser grid eliminates errors faster than fine grid does.\n",
      "\n",
      "In discretized world, the number of wavenumbers of errors on a specific grid is limited by the number of grid points. And the highest wavenumber is $N_p-1$. In the above test, only $k=1,3,6$ were tested. Comparing to the highest wavenumbers of both grids, the tested wavenumers are very low. In fact, there are plenty of funs if we try to carry out tests on more wavenumbers and use different iterative methods. For more details, please refer to the Chapter 2 in the reference [1]. Here we directly point out some important characteristics:\n",
      "\n",
      "1. With **Jacobi method**, if $k\\lt N_p/2$, errors with higher frequency are eliminated faster on a specific grid but on the contrary if $k\\gt N_p/2$. In other words, errors with wavenumbers close to $N_p/2$ are eliminated more effectively.\n",
      "\n",
      "2. If there are a coarse grid and a fine grid, where the number of grid points on the coarse grid, $N_{p, c}$, is a half of that on the fine grid, $N_{p,f}$, \n",
      "\n",
      "    a). the errors that are more difficult to be eliminated on the fine grid (i.e. $k$ close to $1$ and to $N_{p,f}$) can be eliminated more effectively on the coarse grid. \n",
      "\n",
      "    b). the errors close to $N_{p, c}$($\\approx N_{p, f}/2$) can be eliminated more effectively on the fine grid than on the coarse grid.\n",
      "\n",
      "These imply a way to accelarate the convergence: ***use coarser grids to eliminate the errors that are not easy to be elinimated on the original grid!***"
     ]
    },
    {
     "cell_type": "heading",
     "level": 3,
     "metadata": {},
     "source": [
      "The Simplest Multigrid Scheme: Two Grid Correction Scheme"
     ]
    },
    {
     "cell_type": "markdown",
     "metadata": {},
     "source": [
      "Here we present a simple multigrid scheme -- two-grid correction scheme: \n",
      "\n",
      "Step 1. relax on a fine grid first, and then \n",
      "Step 2. relax on a coarse grid to eliminate the errors that are not easy to be elinimated on the fine grid.\n",
      "\n",
      "We said that we want to eliminate errors on the coarse grid, but can we actually solve the error directly on it? Of course yes! And once we solve and obtain the error directly, we can simply add the error back to the approximated solution, $p{^n_i}$, to obtain the exact solution, $p_i$.  "
     ]
    },
    {
     "cell_type": "heading",
     "level": 4,
     "metadata": {},
     "source": [
      "Residual and residual equation"
     ]
    },
    {
     "cell_type": "markdown",
     "metadata": {},
     "source": [
      "First, we introduce **residual** here.\n",
      "\n",
      "\\begin{equation}\n",
      "r{^n_i} = \\frac{p_{i-1}-2p_i+p_{i+1}}{\\Delta x^2}-\\frac{p{^n_{i-1}}-2p{^n_i}+p{^n_{i+1}}}{\\Delta x^2}=b_i-\\frac{p{^n_{i-1}}-2p{^n_i}+p{^n_{i+1}}}{\\Delta x^2}\n",
      "\\end{equation}\n",
      "\n",
      "Then, we can find that the original equation turns into a new one: **residual equation**.\n",
      "\n",
      "\\begin{equation}\n",
      "\\frac{e{^n_{i-1}}-2e{^n_i}+e{^n_{i+1}}}{\\Delta x^2}=r{^n_i}\n",
      "\\end{equation}\n",
      "\n",
      "This residual equation gives us a way to solve the error, $e{^n_i}$, and then obtain the exact solution $p_i$ by $p_i=p{^n_i}+e{^n_i}$.\n",
      "\n",
      "We define a Python function to calculate the residual for the 1D Poisson equation. Because of the Dirichlet boundary conditions at both end points, we already have had their exact values, and their residual thus are zero."
     ]
    },
    {
     "cell_type": "code",
     "collapsed": false,
     "input": [
      "def residual(dx, pn, b, r):\n",
      "    '''\n",
      "    Calculate the residual for the 1D Poisson equation.\n",
      "    \n",
      "    Parameters:\n",
      "    ----------\n",
      "    pn: 1D array, approximated solution at a certain iteration n\n",
      "    \n",
      "    b:  1D array, the b(x) in the Poisson eq.\n",
      "    \n",
      "    Return:\n",
      "    ----------\n",
      "    The residual\n",
      "    '''\n",
      "    r[0] = 0\n",
      "    expr = \"r[1:-1] = b[1:-1] - (pn[:-2] - 2 * pn[1:-1] + pn[2:]) / (dx * dx)\"\n",
      "    weave.blitz(expr, check_size=0)\n",
      "    r[-1] = 0\n",
      "    return r"
     ],
     "language": "python",
     "metadata": {},
     "outputs": [],
     "prompt_number": 7
    },
    {
     "cell_type": "markdown",
     "metadata": {},
     "source": [
      "Next, since we will need the residual on the coarse grid in order to solve the residual equation and obtain the error, we will talk about how to transfer the residual on a fine grid to a coarse grid."
     ]
    },
    {
     "cell_type": "heading",
     "level": 4,
     "metadata": {},
     "source": [
      "Restriction"
     ]
    },
    {
     "cell_type": "markdown",
     "metadata": {},
     "source": [
      "Transfering data from a fine grid to a coarse grid is called restriction. There are many ways to implement restriction. Here we introduce two restriction operators. One is **injection**, and the other one is **full weighting**.\n",
      "\n",
      "**Injection**  \n",
      "It simply takes the values at corresponding locations in the fine grid as the values of points on the coarse grid. That is,\n",
      "\n",
      "\\begin{equation}\n",
      "v{^n_{i, c}} = v{^n_{2i, f}} ,\\ \\ \\ \\ \\ 1 \\le i \\le N_{p,c}-2\n",
      "\\end{equation}\n",
      "\n",
      "Assuming $v$ denotes the values that we want to transfer.\n",
      "\n",
      "Injection doesn't consider the values at the locations that do not appear as grid points on the coarse grid (i.e. $2i+1$-th grid point on the fine grid). \n",
      "\n",
      "**Full weighting**  \n",
      "On the contrary to the injection, full weighting considers the contributions of the values at these locations, as shown below,\n",
      "\n",
      "\\begin{equation}\n",
      "v{^n_{i,c}}=\\frac{1}{4}\\left(v{^n_{2i-1,f}}+2v{^n_{2i,f}}+v{^n_{2i+1,f}}\\right) ,\\ \\ \\ \\ \\ 1 \\le i \\le N_{p,c}-2\n",
      "\\end{equation}\n",
      "\n",
      "Note that we use $1 \\le i \\le N_{p,c}-2$ instead of $0 \\le i \\le N_{p,c}-1$ in the above equations. $i=0$ and $i=N_{p,c}-1$ are boundary points. Since we are using **Dirichlet boundary conditions** here, and we are not goint to perform the calculations on the end points, we can keep them the same, i.e.,\n",
      "\n",
      "\\begin{equation}\n",
      "\\left\\{\n",
      "\\begin{array}{l}\n",
      "v{^n_{0,c}} = v{^n_{0,f}} \\\\\n",
      "v{^n_{N_{p,c}-1,c}} = v{^n_{N_{p,f}-1,f}}\n",
      "\\end{array}\n",
      "\\right.\n",
      "\\end{equation}\n",
      "\n",
      "Different restriction operators are applicable for different problems. In this notebook, we will use full weighting. The Python function for the full weighting is:"
     ]
    },
    {
     "cell_type": "code",
     "collapsed": false,
     "input": [
      "def F2C1D(vF, vC):\n",
      "    '''\n",
      "        Map a vector on a fine grids to a coarse grid by full weighting operator.\n",
      "    \n",
      "        Input:\n",
      "            NF: the number of elements of the input vector (integer)\n",
      "            vF: the vector on the fine grid (1D array)\n",
      "        \n",
      "        Output:\n",
      "            NC: the number of elements of the output vector (integer)\n",
      "            vC: the vector on the fine grid (1D array)\n",
      "    '''\n",
      "    vC[0] = vF[0]\n",
      "    expr = \"vC[1:-1] = 0.25 * (vF[1:-3:2] + 2. * vF[2:-2:2] + vF[3:-1:2]);\"\n",
      "    weave.blitz(expr, check_size=0)\n",
      "    vC[-1] = vF[-1]\n",
      "    return vC"
     ],
     "language": "python",
     "metadata": {},
     "outputs": [],
     "prompt_number": 8
    },
    {
     "cell_type": "markdown",
     "metadata": {},
     "source": [
      "Next, after we solve the residual equation on the coarse grid, we also need an operation that can transfer the obtained errors on the coarse grid to the fine grid."
     ]
    },
    {
     "cell_type": "heading",
     "level": 4,
     "metadata": {},
     "source": [
      "Interpolation or prolongation"
     ]
    },
    {
     "cell_type": "markdown",
     "metadata": {},
     "source": [
      "The simplest way to transfer solved errors from the coarse grid to the fine grid is **linear interpolation**.  While the values on the points that are shared by both two grids remain the same, the values at the remaining points on the fine grid are calculated from linear interpolation, as show below.\n",
      "\n",
      "\\begin{equation}\n",
      "\\begin{array}{c}\n",
      "v{^n_{2i,f}}=v{^n_{i, c}} ,\\ \\ \\ \\ \\ 0 \\le i \\le N_{p,c}-1  \\\\\n",
      "v{^n_{2i+1,f}}=\\frac{1}{2}\\left(v{^n_{i,c}}+v{^n_{i+1,c}}\\right) ,\\ \\ \\ \\ \\ 0 \\le i \\le N_{p,c}-2\n",
      "\\end{array}\n",
      "\\end{equation}\n",
      "\n",
      "Be careful on the range of index $i$! And Dirichlet boundary conditions are again applied on the end points.\n",
      "\n",
      "Below shows the Python function of this interpolation."
     ]
    },
    {
     "cell_type": "code",
     "collapsed": false,
     "input": [
      "def C2F1D(vC, vF):\n",
      "    '''\n",
      "        Map a vector on a coarse grids to a fine grid by linear interpolation.\n",
      "    \n",
      "        Input:\n",
      "            NC: the number of elements of the input vector (integer)\n",
      "            vC: the vector on the coarse grid (1D array)\n",
      "        \n",
      "        Output:\n",
      "            NF: the number of elements of the output vector (integer)\n",
      "            vF: the vector on the fine grid (1D array)\n",
      "    '''\n",
      "    expr = \"vF[::2] = vC[:];\" + \"vF[1:-1:2] = 0.5 * (vC[:-1] + vC[1:])\"\n",
      "    weave.blitz(expr, check_size=0)\n",
      "    return vF"
     ],
     "language": "python",
     "metadata": {},
     "outputs": [],
     "prompt_number": 9
    },
    {
     "cell_type": "heading",
     "level": 4,
     "metadata": {},
     "source": [
      "Two-grid correction scheme: pseudo code"
     ]
    },
    {
     "cell_type": "markdown",
     "metadata": {},
     "source": [
      "1. Solve the original Poisson equation on the fine grid with $n_f$ iterations and initial guess $p{^0_i}$.\n",
      "2. Compute the residual $r_{i,f}$ on the fine grid.\n",
      "3. Transfer $r_{i,f}$ to the coarse grid by restriction operator and obtain $r_{i,c}$.\n",
      "4. Solve the residual equation on the coarse grid with $n_c$ iterations and initial guess $e{^0_{i,c}}=0$.\n",
      "5. Transfer $e{^0_{i,c}}$ to the fine grid by interpolation operator and obtain $e{^0_{i,f}}$.\n",
      "6. Calculate a new approximated solution by $p{^{0'}_i}=p{^0_i}+e{^0_{i,f}}$.\n",
      "7. Solve the original Poisson equation on the fine grid with $n_f$ iterations and guessed solution $p{^{0'}_i}$ to obtain the final approximated solution of this cycle, $p{^1_i}$\n",
      "8. Go to the 1st step and keep running until it reaches a specified tolerence or a maximum cycle number.\n",
      "\n",
      "Here we use a fine grid with $N_{p,f}=65$ for an exaqmple. And the initial guess will be a wave with mixture wavenumbers. The numbers for internal iteration, $n_f$ and $n_c$, are set to be $1$ for simplicity. We also time the comptational time in order to make a comparison with that of using only one grid."
     ]
    },
    {
     "cell_type": "code",
     "collapsed": false,
     "input": [
      "def laplace1d_mixed_IC(nx, k):\n",
      "    '''\n",
      "    Generates initial guess for Laplace 1D eq. under a given number \n",
      "    of grid points (nx) and mixture wavenumbers within domain [0,1]x[0,1]\n",
      "    \n",
      "    Parameters:\n",
      "    ----------\n",
      "    nx: int, number of grid points in x direction\n",
      "    k:  1D list or numpy array, wavenumbers\n",
      "    \n",
      "    Returns:\n",
      "    -------\n",
      "    p: 1D array of float\n",
      "        Pressure distribution after relaxation\n",
      "    x: array of float\n",
      "        linspace coordinates in x\n",
      "    dx: float\n",
      "        grid spacing in x\n",
      "    '''\n",
      "    dx = 1.0/(nx-1)\n",
      "    x = numpy.linspace(0,1,nx)\n",
      "    \n",
      "    ##initial conditions\n",
      "    p = numpy.zeros(nx)\n",
      "    for ki in k:\n",
      "        p += numpy.array([numpy.sin(float(i * ki) * numpy.pi / float(nx-1))\n",
      "                 for i in range(nx)])\n",
      "    p = p / numpy.size(k)\n",
      "    b = numpy.zeros(nx)\n",
      "    return p, b, x, dx"
     ],
     "language": "python",
     "metadata": {},
     "outputs": [],
     "prompt_number": 10
    },
    {
     "cell_type": "code",
     "collapsed": false,
     "input": [
      "def L2_error(p, pn):\n",
      "    return numpy.sqrt(numpy.sum((p - pn)**2)/numpy.sum(pn**2))"
     ],
     "language": "python",
     "metadata": {},
     "outputs": [],
     "prompt_number": 11
    },
    {
     "cell_type": "code",
     "collapsed": false,
     "input": [
      "npf = 513\n",
      "k = [1, (npf-1)/4, (npf-1)/2, (npf-1)*3/4, (npf-2)]\n",
      "\n",
      "tol = 1e-14\n",
      "err = 10.\n",
      "itr = 0\n",
      "\n",
      "p, b, x, dxf = laplace1d_mixed_IC(npf, k)\n",
      "\n",
      "npc = int((npf + 1) / 2)\n",
      "dxc = dxf * 2\n",
      "\n",
      "rf = numpy.zeros(npf)\n",
      "rc = numpy.zeros(npc)\n",
      "ef = numpy.zeros(npf)\n",
      "ec = numpy.zeros(npc)\n",
      "\n",
      "t1 = time.time()\n",
      "while ((err > tol) and (itr < 1e10)):\n",
      "    \n",
      "    # save previous approximated solution\n",
      "    pn = p.copy()\n",
      "    \n",
      "    # solve p on fine grid\n",
      "    p = poisson1d_GS_SingleItr(npf, dxf, p, b)\n",
      "    \n",
      "    # calculate residual\n",
      "    rf = residual(dxf, p, b, rf)\n",
      "    \n",
      "    # transfer residual to the coarse grid\n",
      "    rC = F2C1D(rf, rc)\n",
      "    \n",
      "    # solve the error on the coarse grid\n",
      "    ec[:] = 0\n",
      "    ec = poisson1d_GS_SingleItr(npc, dxc, ec, rc)\n",
      "    \n",
      "    # transfe the error to the fine grid\n",
      "    ef = C2F1D(ec, ef)\n",
      "    \n",
      "    # add the error back to p\n",
      "    p += ef\n",
      "    \n",
      "    # solve on the fine grid\n",
      "    p = poisson1d_GS_SingleItr(npf, dxf, p, b)\n",
      "\n",
      "    # update L2 error and # of iteration\n",
      "    err = L2_error(p, pn)\n",
      "    itr += 1\n",
      "\n",
      "t2 = time.time()\n",
      "print \"# of Grid points: \", npf\n",
      "print \"Computing time (multigrid, two-grid correction): \", t2-t1, \" sec\"\n",
      "print \"Root mean square of exact error: \", RMSerr(npf, p)"
     ],
     "language": "python",
     "metadata": {},
     "outputs": [
      {
       "output_type": "stream",
       "stream": "stdout",
       "text": [
        "# of Grid points:  513\n",
        "Computing time (multigrid, two-grid correction):  9.42854380608  sec\n",
        "Root mean square of exact error:  8.25644837256e-15\n"
       ]
      }
     ],
     "prompt_number": 16
    },
    {
     "cell_type": "code",
     "collapsed": false,
     "input": [
      "np = 513\n",
      "k = [1, (np-1)/4, (np-1)/2, (np-1)*3/4, (np-2)]\n",
      "\n",
      "tol = 1e-14\n",
      "err = 10.\n",
      "itr = 0\n",
      "\n",
      "p, b, x, dx = laplace1d_mixed_IC(np, k)\n",
      "\n",
      "t1 = time.time()\n",
      "while ((err > tol) and (itr < 1e10)):\n",
      "    \n",
      "    # save previous approximated solution\n",
      "    pn = p.copy()\n",
      "    \n",
      "    # solve p on fine grid\n",
      "    p = poisson1d_GS_SingleItr(np, dx, p, b)\n",
      "    \n",
      "    # update L2 error and # of iteration\n",
      "    err = L2_error(p, pn)\n",
      "    itr += 1\n",
      "\n",
      "t2 = time.time()\n",
      "print \"# of Grid points: \", np\n",
      "print \"Computing time (singlegrid): \", t2-t1, \" sec\"\n",
      "print \"Root mean square of exact error: \", RMSerr(npf, p)"
     ],
     "language": "python",
     "metadata": {},
     "outputs": [
      {
       "output_type": "stream",
       "stream": "stdout",
       "text": [
        "# of Grid points:  513\n",
        "Computing time (singlegrid):  24.390832901  sec\n",
        "Root mean square of exact error:  8.25644837399e-15\n"
       ]
      }
     ],
     "prompt_number": 17
    },
    {
     "cell_type": "code",
     "collapsed": false,
     "input": [
      "def C2F2D(NC, vC):\n",
      "    '''\n",
      "        Map a vector on a 2D coarse grids to a 2D fine grid \n",
      "        by linear interpolation.\n",
      "        \n",
      "        The numbers of elements in both x and y direction \n",
      "        must be the same.\n",
      "    \n",
      "        Input:\n",
      "            NC: the number of elements on the edge of the coarse grid (integer)\n",
      "            vC: the source array on the coarse grid (2D array)\n",
      "        \n",
      "        Output:\n",
      "            NF: the number of elements of the output grid (integer)\n",
      "            vF: the target array on the fine grid (2D array)\n",
      "    '''\n",
      "    NF = 2 * NC - 1\n",
      "    vF = numpy.zeros((NF, NF))\n",
      "    \n",
      "    vF[::2, ::2] = vC.copy()\n",
      "    vF[1:-1:2, ::2] = 0.5 * (vC[:-1, :] + vC[1:, :])\n",
      "    vF[::2, 1:-1:2] = 0.5 * (vC[:, :-1] + vC[:, 1:])\n",
      "    vF[1:-1:2, 1:-1:2] = 0.25 * (vC[:-1, :-1] + vC[1:, :-1] + \n",
      "                             vC[:-1, 1:] + vC[1:, 1:])\n",
      "    \n",
      "    return vF.copy(), NF"
     ],
     "language": "python",
     "metadata": {},
     "outputs": [],
     "prompt_number": 12
    },
    {
     "cell_type": "code",
     "collapsed": false,
     "input": [
      "def F2C2D(NF, vF):\n",
      "    '''\n",
      "        Map a vector on a 2D fine grids to a 2D coarse grid \n",
      "        by linear interpolation.\n",
      "        \n",
      "        The numbers of elements in both x and y direction \n",
      "        must be the same.\n",
      "    \n",
      "        Input:\n",
      "            NF: the number of elements on the edge of the fine grid (integer)\n",
      "            vF: the source array on the fine grid (2D array)\n",
      "        \n",
      "        Output:\n",
      "            NC: the number of elements of the output grid (integer)\n",
      "            vC: the target array on the coarse grid (2D array)\n",
      "    '''\n",
      "    NC = (NF + 1) / 2\n",
      "    vC = numpy.empty((NC, NC))\n",
      "\n",
      "    vC[0, :] = vF[0, ::2]\n",
      "    vC[-1, :] = vF[-1, ::2]\n",
      "    vC[:, 0] = vF[::2, 0]\n",
      "    \n",
      "    \n",
      "    vC[1:-1, -1] = (vF[1:-3:2, -2] + vF[1:-3:2, -2] + \n",
      "                    vF[3:-1:2, -2] + vF[3:-1:2, -2] + \n",
      "                    2. * (vF[2:-2:2, -2] + vF[2:-2:2, -2] + \n",
      "                          vF[1:-3:2, -1] + vF[3:-1:2,-1]) +\n",
      "                    4. * vF[2:-2:2, -1]\n",
      "                    ) / 16.0\n",
      "    \n",
      "    \n",
      "    vC[1:-1, 1:-1] = (vF[1:-3:2, 1:-3:2] + vF[1:-3:2, 3:-1:2] + \n",
      "                      vF[3:-1:2, 1:-3:2] + vF[3:-1:2, 3:-1:2] + \n",
      "                      2. * (vF[2:-2:2, 1:-3:2] + vF[2:-2:2, 3:-1:2] + \n",
      "                           vF[1:-3:2, 2:-2:2] + vF[3:-1:2,2:-2:2]) +\n",
      "                      4. * vF[2:-2:2, 2:-2:2]\n",
      "                      ) / 16.0\n",
      "    \n",
      "    return vC.copy(), NC"
     ],
     "language": "python",
     "metadata": {},
     "outputs": [],
     "prompt_number": 13
    },
    {
     "cell_type": "code",
     "collapsed": false,
     "input": [
      "def laplace2d_neumann_1itr(p):\n",
      "    '''Solves the diffusion equation with forward-time, centered scheme\n",
      "    \n",
      "    Parameters:\n",
      "    ----------\n",
      "    p: 2D array of float\n",
      "        Initial potential distribution\n",
      "        \n",
      "    Returns:\n",
      "    -------\n",
      "    p: 2D array of float\n",
      "        Potential distribution after relaxation\n",
      "    '''\n",
      "\n",
      "    pn = p.copy()\n",
      "    p[1:-1,1:-1] = .25 * (pn[1:-1,2:] + pn[1:-1, :-2] + \n",
      "                          pn[2:, 1:-1] + pn[:-2, 1:-1])\n",
      "        \n",
      "    ##2nd-order Neumann B.C. along x = L\n",
      "    p[1:-1,-1] = .25 * (2*pn[1:-1,-2] + pn[2:, -1] + pn[:-2, -1])\n",
      "        \n",
      "    return p    "
     ],
     "language": "python",
     "metadata": {},
     "outputs": [],
     "prompt_number": 14
    },
    {
     "cell_type": "code",
     "collapsed": false,
     "input": [
      "def p_analytical(x, y):\n",
      "    X, Y = numpy.meshgrid(x,y)\n",
      "    \n",
      "    p_an = numpy.sinh(1.5*numpy.pi*Y / x[-1]) /\\\n",
      "    (numpy.sinh(1.5*numpy.pi*y[-1]/x[-1]))*numpy.sin(1.5*numpy.pi*X/x[-1])\n",
      "    \n",
      "    return p_an"
     ],
     "language": "python",
     "metadata": {},
     "outputs": [],
     "prompt_number": 15
    },
    {
     "cell_type": "code",
     "collapsed": false,
     "input": [
      "def L2_error(p, pn):\n",
      "    return numpy.sqrt(numpy.sum((p - pn)**2)/numpy.sum(pn**2))"
     ],
     "language": "python",
     "metadata": {},
     "outputs": [],
     "prompt_number": 16
    },
    {
     "cell_type": "code",
     "collapsed": false,
     "input": [
      "def laplace_IC(nx):\n",
      "    '''\n",
      "    Generates initial conditions for Laplace 2D problem for a \n",
      "    given number of grid points (nx) within the domain [0,1]x[0,1]\n",
      "    \n",
      "    Parameters:\n",
      "    ----------\n",
      "    nx: int\n",
      "        number of grid points in x (and implicitly y) direction\n",
      "        \n",
      "    Returns:\n",
      "    -------\n",
      "    p: 2D array of float\n",
      "        Pressure distribution after relaxation\n",
      "    x: array of float\n",
      "        linspace coordinates in x\n",
      "    y: array of float\n",
      "        linspace coordinates in y\n",
      "    dx: float\n",
      "        grid spacing in x\n",
      "    dy: float\n",
      "        grid spacing in y\n",
      "    '''\n",
      "    dx = 1.0/(nx-1)\n",
      "\n",
      "    ##initial conditions\n",
      "    p = numpy.zeros((nx,nx)) ##create a XxY vector of 0's\n",
      "\n",
      "    ##plotting aids\n",
      "    x = numpy.linspace(0,1,nx)\n",
      "    y = x\n",
      "    dy = dx\n",
      "\n",
      "    ##Dirichlet boundary conditions\n",
      "    p[:,0] = 0\n",
      "    p[0,:] = 0\n",
      "    p[-1,:] = numpy.sin(1.5*numpy.pi*x/x[-1])\n",
      "    \n",
      "    return p, x, y, dx, dy"
     ],
     "language": "python",
     "metadata": {},
     "outputs": [],
     "prompt_number": 17
    },
    {
     "cell_type": "code",
     "collapsed": false,
     "input": [
      "def plot2D(x, y, p):\n",
      "    '''Creates 3D projection plot with appropriate limits and viewing angle\n",
      "    \n",
      "    Parameters:\n",
      "    ----------\n",
      "    x: array of float\n",
      "        nodal coordinates in x\n",
      "    y: array of float\n",
      "        nodal coordinates in y\n",
      "    p: 2D array of float\n",
      "        calculated potential field\n",
      "    \n",
      "    '''\n",
      "    fig = pyplot.figure(figsize=(11,7), dpi=100)\n",
      "    ax = fig.gca(projection='3d')\n",
      "    X,Y = numpy.meshgrid(x,y)\n",
      "    surf = ax.plot_surface(X,Y,p[:], rstride=1, cstride=1, cmap=cm.coolwarm,\n",
      "            linewidth=0, antialiased=False)\n",
      "\n",
      "    ax.set_xlim(0,1)\n",
      "    ax.set_ylim(0,1)\n",
      "    ax.set_xlabel('$x$')\n",
      "    ax.set_ylabel('$y$')\n",
      "    ax.set_zlabel('$z$')\n",
      "    ax.view_init(30,45)"
     ],
     "language": "python",
     "metadata": {},
     "outputs": [],
     "prompt_number": 18
    },
    {
     "cell_type": "code",
     "collapsed": false,
     "input": [
      "def err_rms_2D(p, p_analy, nx, ny):\n",
      "    return numpy.sqrt(numpy.sum((p[1:-1, 1:-1] - p_analy[1:-1, 1:-1])**2) / \n",
      "                          (nx*ny))"
     ],
     "language": "python",
     "metadata": {},
     "outputs": [],
     "prompt_number": 19
    },
    {
     "cell_type": "code",
     "collapsed": false,
     "input": [
      "import time"
     ],
     "language": "python",
     "metadata": {},
     "outputs": [],
     "prompt_number": 20
    },
    {
     "cell_type": "code",
     "collapsed": false,
     "input": [
      "nx = 65\n",
      "\n",
      "Nitr = 10000000\n",
      "err65_2D = numpy.zeros(Nitr)\n",
      "\n",
      "p, x, y, dx, dy = laplace_IC(nx)\n",
      "p_analy = p_analytical(x, y)\n",
      "\n",
      "L2_target = 1e-15\n",
      "L2 = 1.\n",
      "itr = 0\n",
      "t1 = time.time()\n",
      "while L2 > L2_target and itr < Nitr:\n",
      "    pn = p.copy()\n",
      "    p = laplace2d_neumann_1itr(p)\n",
      "    L2 = L2_error(p, pn)\n",
      "    itr += 1\n",
      "t2 = time.time()\n",
      "print L2, itr, t2-t1"
     ],
     "language": "python",
     "metadata": {},
     "outputs": [
      {
       "output_type": "stream",
       "stream": "stdout",
       "text": [
        "9.98011151603e-16 13998 0.793234825134\n"
       ]
      }
     ],
     "prompt_number": 21
    },
    {
     "cell_type": "code",
     "collapsed": false,
     "input": [
      "print L2_error(p, p_analy)"
     ],
     "language": "python",
     "metadata": {},
     "outputs": [
      {
       "output_type": "stream",
       "stream": "stdout",
       "text": [
        "0.000301380398407\n"
       ]
      }
     ],
     "prompt_number": 22
    },
    {
     "cell_type": "code",
     "collapsed": false,
     "input": [
      "'''\n",
      "pyplot.semilogy(numpy.array(range(Nitr)), err65_2D, \n",
      "                    label='nx='+str(nx))\n",
      "pyplot.legend(loc=0, fontsize='small')\n",
      "'''"
     ],
     "language": "python",
     "metadata": {},
     "outputs": [
      {
       "metadata": {},
       "output_type": "pyout",
       "prompt_number": 23,
       "text": [
        "\"\\npyplot.semilogy(numpy.array(range(Nitr)), err65_2D, \\n                    label='nx='+str(nx))\\npyplot.legend(loc=0, fontsize='small')\\n\""
       ]
      }
     ],
     "prompt_number": 23
    },
    {
     "cell_type": "code",
     "collapsed": false,
     "input": [
      "v0 = 1\n",
      "v1 = 1\n",
      "Nv = v0 + 2 * v1\n",
      "\n",
      "p, x, y, dx, dy = laplace_IC(nx)\n",
      "\n",
      "L2_target = 1e-15\n",
      "L2 = 1.\n",
      "itr = 0\n",
      "t1 = time.time()\n",
      "while L2 > L2_target and itr < Nitr:\n",
      "    \n",
      "    pn = p.copy()\n",
      "         \n",
      "    pC1, nxC1 = F2C2D(nx, p)\n",
      "    \n",
      "    for i in range(v0):\n",
      "        pC1 = laplace2d_neumann_1itr(pC1)\n",
      "    \n",
      "    p[1:-1, 1:] = C2F2D(nxC1, pC1)[0][1:-1, 1:]\n",
      "    for i in range(v1):\n",
      "        p = laplace2d_neumann_1itr(p)\n",
      "    \n",
      "    L2 = L2_error(p, pn)\n",
      "    itr += 1 \n",
      "t2 = time.time()\n",
      "print L2, itr, t2-t1"
     ],
     "language": "python",
     "metadata": {},
     "outputs": [
      {
       "output_type": "stream",
       "stream": "stdout",
       "text": [
        "9.96457090556e-16 2140 0.334636211395\n"
       ]
      }
     ],
     "prompt_number": 37
    },
    {
     "cell_type": "code",
     "collapsed": false,
     "input": [
      "print L2_error(p, p_analy)"
     ],
     "language": "python",
     "metadata": {},
     "outputs": [
      {
       "output_type": "stream",
       "stream": "stdout",
       "text": [
        "0.000849083682644\n"
       ]
      }
     ],
     "prompt_number": 38
    },
    {
     "cell_type": "code",
     "collapsed": false,
     "input": [
      "v0 = 1\n",
      "v1 = 1\n",
      "Nv = v0 + 2 * v1\n",
      "\n",
      "p, x, y, dx, dy = laplace_IC(nx)\n",
      "\n",
      "L2_target = 1e-15\n",
      "L2 = 1.\n",
      "itr = 0\n",
      "t1 = time.time()\n",
      "while L2 > L2_target and itr < Nitr:\n",
      "    \n",
      "    pn = p.copy()\n",
      "         \n",
      "    pC1, nxC1 = F2C2D(nx, p)\n",
      "    pC2, nxC2 = F2C2D(nxC1, pC1)\n",
      "    \n",
      "    for i in range(v0):\n",
      "        pC2 = laplace2d_neumann_1itr(pC2)\n",
      "    \n",
      "    pC1[1:-1, 1:] = C2F2D(nxC2, pC2)[0][1:-1, 1:]\n",
      "    for i in range(v0):\n",
      "        pC1 = laplace2d_neumann_1itr(pC1)\n",
      "    \n",
      "    p[1:-1, 1:] = C2F2D(nxC1, pC1)[0][1:-1, 1:]\n",
      "    for i in range(v1):\n",
      "        p = laplace2d_neumann_1itr(p)\n",
      "    \n",
      "    L2 = L2_error(p, pn)\n",
      "    itr += 1 \n",
      "t2 = time.time()\n",
      "print L2, itr, t2-t1"
     ],
     "language": "python",
     "metadata": {},
     "outputs": [
      {
       "output_type": "stream",
       "stream": "stdout",
       "text": [
        "9.54295706241e-16 507 0.114150047302\n"
       ]
      }
     ],
     "prompt_number": 32
    },
    {
     "cell_type": "code",
     "collapsed": false,
     "input": [
      "print L2_error(p, p_analy)"
     ],
     "language": "python",
     "metadata": {},
     "outputs": [
      {
       "output_type": "stream",
       "stream": "stdout",
       "text": [
        "0.00308517205797\n"
       ]
      }
     ],
     "prompt_number": 33
    },
    {
     "cell_type": "code",
     "collapsed": false,
     "input": [
      "v0 = 1\n",
      "v1 = 1\n",
      "Nv = v0 + 2 * v1\n",
      "\n",
      "p, x, y, dx, dy = laplace_IC(nx)\n",
      "\n",
      "L2_target = 1e-15\n",
      "L2 = 1.\n",
      "itr = 0\n",
      "t1 = time.time()\n",
      "while L2 > L2_target and itr < Nitr:\n",
      "    \n",
      "    pn = p.copy()\n",
      "         \n",
      "    pC1, nxC1 = F2C2D(nx, p)\n",
      "    pC2, nxC2 = F2C2D(nxC1, pC1)\n",
      "    pC3, nxC3 = F2C2D(nxC2, pC2)\n",
      "    \n",
      "    for i in range(v0):\n",
      "        pC3 = laplace2d_neumann_1itr(pC3)\n",
      "    \n",
      "    pC2[1:-1, 1:] = C2F2D(nxC3, pC3)[0][1:-1, 1:]\n",
      "    for i in range(v0):\n",
      "        pC2 = laplace2d_neumann_1itr(pC2)\n",
      "    \n",
      "    pC1[1:-1, 1:] = C2F2D(nxC2, pC2)[0][1:-1, 1:]\n",
      "    for i in range(v0):\n",
      "        pC1 = laplace2d_neumann_1itr(pC1)\n",
      "    \n",
      "    p[1:-1, 1:] = C2F2D(nxC1, pC1)[0][1:-1, 1:]\n",
      "    for i in range(v1):\n",
      "        p = laplace2d_neumann_1itr(p)\n",
      "    \n",
      "    L2 = L2_error(p, pn)\n",
      "    itr += 1 \n",
      "t2 = time.time()\n",
      "print L2, itr, t2-t1"
     ],
     "language": "python",
     "metadata": {},
     "outputs": [
      {
       "output_type": "stream",
       "stream": "stdout",
       "text": [
        "8.76601574123e-16 128 0.041825056076\n"
       ]
      }
     ],
     "prompt_number": 35
    },
    {
     "cell_type": "code",
     "collapsed": false,
     "input": [
      "print L2_error(p, p_analy)"
     ],
     "language": "python",
     "metadata": {},
     "outputs": [
      {
       "output_type": "stream",
       "stream": "stdout",
       "text": [
        "0.0119555424922\n"
       ]
      }
     ],
     "prompt_number": 36
    },
    {
     "cell_type": "code",
     "collapsed": false,
     "input": [],
     "language": "python",
     "metadata": {},
     "outputs": []
    },
    {
     "cell_type": "code",
     "collapsed": false,
     "input": [
      "from IPython.core.display import HTML\n",
      "css_file = '../../styles/numericalmoocstyle.css'\n",
      "HTML(open(css_file, \"r\").read())"
     ],
     "language": "python",
     "metadata": {},
     "outputs": [
      {
       "html": [
        "<link href='http://fonts.googleapis.com/css?family=Alegreya+Sans:100,300,400,500,700,800,900,100italic,300italic,400italic,500italic,700italic,800italic,900italic' rel='stylesheet' type='text/css'>\n",
        "<link href='http://fonts.googleapis.com/css?family=Arvo:400,700,400italic' rel='stylesheet' type='text/css'>\n",
        "<link href='http://fonts.googleapis.com/css?family=PT+Mono' rel='stylesheet' type='text/css'>\n",
        "<link href='http://fonts.googleapis.com/css?family=Shadows+Into+Light' rel='stylesheet' type='text/css'>\n",
        "<link href='http://fonts.googleapis.com/css?family=Nixie+One' rel='stylesheet' type='text/css'>\n",
        "<style>\n",
        "\n",
        "@font-face {\n",
        "    font-family: \"Computer Modern\";\n",
        "    src: url('http://mirrors.ctan.org/fonts/cm-unicode/fonts/otf/cmunss.otf');\n",
        "}\n",
        "\n",
        "#notebook_panel { /* main background */\n",
        "    background: rgb(245,245,245);\n",
        "}\n",
        "\n",
        "div.cell { /* set cell width */\n",
        "    width: 750px;\n",
        "}\n",
        "\n",
        "div #notebook { /* centre the content */\n",
        "    background: #fff; /* white background for content */\n",
        "    width: 1000px;\n",
        "    margin: auto;\n",
        "    padding-left: 0em;\n",
        "}\n",
        "\n",
        "#notebook li { /* More space between bullet points */\n",
        "margin-top:0.8em;\n",
        "}\n",
        "\n",
        "/* draw border around running cells */\n",
        "div.cell.border-box-sizing.code_cell.running { \n",
        "    border: 1px solid #111;\n",
        "}\n",
        "\n",
        "/* Put a solid color box around each cell and its output, visually linking them*/\n",
        "div.cell.code_cell {\n",
        "    background-color: rgb(256,256,256); \n",
        "    border-radius: 0px; \n",
        "    padding: 0.5em;\n",
        "    margin-left:1em;\n",
        "    margin-top: 1em;\n",
        "}\n",
        "\n",
        "div.text_cell_render{\n",
        "    font-family: 'Alegreya Sans' sans-serif;\n",
        "    line-height: 140%;\n",
        "    font-size: 125%;\n",
        "    font-weight: 400;\n",
        "    width:600px;\n",
        "    margin-left:auto;\n",
        "    margin-right:auto;\n",
        "}\n",
        "\n",
        "\n",
        "/* Formatting for header cells */\n",
        ".text_cell_render h1 {\n",
        "    font-family: 'Nixie One', serif;\n",
        "    font-style:regular;\n",
        "    font-weight: 400;    \n",
        "    font-size: 45pt;\n",
        "    line-height: 100%;\n",
        "    color: rgb(0,51,102);\n",
        "    margin-bottom: 0.5em;\n",
        "    margin-top: 0.5em;\n",
        "    display: block;\n",
        "}\t\n",
        ".text_cell_render h2 {\n",
        "    font-family: 'Nixie One', serif;\n",
        "    font-weight: 400;\n",
        "    font-size: 30pt;\n",
        "    line-height: 100%;\n",
        "    color: rgb(0,51,102);\n",
        "    margin-bottom: 0.1em;\n",
        "    margin-top: 0.3em;\n",
        "    display: block;\n",
        "}\t\n",
        "\n",
        ".text_cell_render h3 {\n",
        "    font-family: 'Nixie One', serif;\n",
        "    margin-top:16px;\n",
        "\tfont-size: 22pt;\n",
        "    font-weight: 600;\n",
        "    margin-bottom: 3px;\n",
        "    font-style: regular;\n",
        "    color: rgb(102,102,0);\n",
        "}\n",
        "\n",
        ".text_cell_render h4 {    /*Use this for captions*/\n",
        "    font-family: 'Nixie One', serif;\n",
        "    font-size: 14pt;\n",
        "    text-align: center;\n",
        "    margin-top: 0em;\n",
        "    margin-bottom: 2em;\n",
        "    font-style: regular;\n",
        "}\n",
        "\n",
        ".text_cell_render h5 {  /*Use this for small titles*/\n",
        "    font-family: 'Nixie One', sans-serif;\n",
        "    font-weight: 400;\n",
        "    font-size: 16pt;\n",
        "    color: rgb(163,0,0);\n",
        "    font-style: italic;\n",
        "    margin-bottom: .1em;\n",
        "    margin-top: 0.8em;\n",
        "    display: block;\n",
        "}\n",
        "\n",
        ".text_cell_render h6 { /*use this for copyright note*/\n",
        "    font-family: 'PT Mono', sans-serif;\n",
        "    font-weight: 300;\n",
        "    font-size: 9pt;\n",
        "    line-height: 100%;\n",
        "    color: grey;\n",
        "    margin-bottom: 1px;\n",
        "    margin-top: 1px;\n",
        "}\n",
        "\n",
        ".CodeMirror{\n",
        "        font-family: \"PT Mono\";\n",
        "        font-size: 90%;\n",
        "}\n",
        "\n",
        "</style>\n",
        "<script>\n",
        "    MathJax.Hub.Config({\n",
        "                        TeX: {\n",
        "                           extensions: [\"AMSmath.js\"],\n",
        "                           equationNumbers: { autoNumber: \"AMS\", useLabelIds: true}\n",
        "                           },\n",
        "                tex2jax: {\n",
        "                    inlineMath: [ ['$','$'], [\"\\\\(\",\"\\\\)\"] ],\n",
        "                    displayMath: [ ['$$','$$'], [\"\\\\[\",\"\\\\]\"] ]\n",
        "                },\n",
        "                displayAlign: 'center', // Change this to 'center' to center equations.\n",
        "                \"HTML-CSS\": {\n",
        "                    styles: {'.MathJax_Display': {\"margin\": 4}}\n",
        "                }\n",
        "        });\n",
        "</script>\n"
       ],
       "metadata": {},
       "output_type": "pyout",
       "prompt_number": 28,
       "text": [
        "<IPython.core.display.HTML at 0x7fc37323cd50>"
       ]
      }
     ],
     "prompt_number": 28
    },
    {
     "cell_type": "code",
     "collapsed": false,
     "input": [],
     "language": "python",
     "metadata": {},
     "outputs": []
    }
   ],
   "metadata": {}
  }
 ]
}