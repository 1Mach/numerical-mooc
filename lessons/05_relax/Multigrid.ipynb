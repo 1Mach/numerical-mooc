{
 "metadata": {
  "name": "",
  "signature": "sha256:1bb2657d35ce4adbb72c58c13c278cea38d97f3b23bafc6f1a56964980fe21cb"
 },
 "nbformat": 3,
 "nbformat_minor": 0,
 "worksheets": [
  {
   "cells": [
    {
     "cell_type": "heading",
     "level": 6,
     "metadata": {},
     "source": [
      "Content under Creative Commons Attribution license CC-BY 4.0, code under MIT license (c)2014 L.A. Barba, C.D. Cooper, G.F. Forsyth.  Based on [CFDPython](https://github.com/barbagroup/CFDPython), (c)2013 L.A. Barba, also under CC-BY license."
     ]
    },
    {
     "cell_type": "heading",
     "level": 1,
     "metadata": {},
     "source": [
      "Multigrid and Converge Faster"
     ]
    },
    {
     "cell_type": "markdown",
     "metadata": {},
     "source": []
    },
    {
     "cell_type": "code",
     "collapsed": false,
     "input": [
      "from matplotlib import pyplot\n",
      "import numpy\n",
      "%matplotlib inline\n",
      "from matplotlib import rcParams\n",
      "rcParams['font.family'] = 'serif'\n",
      "rcParams['font.size'] = 16"
     ],
     "language": "python",
     "metadata": {},
     "outputs": [],
     "prompt_number": 1
    },
    {
     "cell_type": "code",
     "collapsed": false,
     "input": [
      "from mpl_toolkits.mplot3d import Axes3D\n",
      "from matplotlib import cm"
     ],
     "language": "python",
     "metadata": {},
     "outputs": [],
     "prompt_number": 2
    },
    {
     "cell_type": "code",
     "collapsed": false,
     "input": [
      "def laplace1d_IC(nx, k):\n",
      "    '''Generates initial conditions for Laplace 1D problem for a \n",
      "    given number of grid points (nx) and wavenumber k \n",
      "    within the domain [0,1]x[0,1]\n",
      "    \n",
      "    Parameters:\n",
      "    ----------\n",
      "    nx: int\n",
      "        number of grid points in x direction\n",
      "        \n",
      "    Returns:\n",
      "    -------\n",
      "    p: 1D array of float\n",
      "        Pressure distribution after relaxation\n",
      "    x: array of float\n",
      "        linspace coordinates in x\n",
      "    dx: float\n",
      "        grid spacing in x\n",
      "    '''\n",
      "    dx = 1.0/(nx-1)\n",
      "    x = numpy.linspace(0,1,nx)\n",
      "    \n",
      "    ##initial conditions\n",
      "    p = numpy.array([numpy.sin(float(i * k) * numpy.pi / float(nx-1))\n",
      "                 for i in range(nx)])\n",
      "    \n",
      "    return p, x, dx"
     ],
     "language": "python",
     "metadata": {},
     "outputs": [],
     "prompt_number": 3
    },
    {
     "cell_type": "code",
     "collapsed": false,
     "input": [
      "nx = 65\n",
      "k = [3, 15, 31]\n",
      "\n",
      "Nitr = 100\n",
      "err65 = numpy.empty((3, Nitr))\n",
      "\n",
      "for i, ki in enumerate(k):\n",
      "    \n",
      "    p, x, dx = laplace1d_IC(nx, ki)\n",
      "    for itr in range(Nitr):\n",
      "        p[1:-1] = 0.5 * (p[2:] + p[:-2])\n",
      "        err65[i, itr] = numpy.sqrt(numpy.sum(p[1:-1]**2) / nx)\n",
      "    pyplot.semilogy(numpy.array(range(Nitr)), err65[i, :], \n",
      "                    lw=2, label='k='+str(ki))\n",
      "\n",
      "pyplot.legend(loc=0);"
     ],
     "language": "python",
     "metadata": {},
     "outputs": [
      {
       "metadata": {},
       "output_type": "display_data",
       "png": "[encoded data removed]",
       "text": [
        "<matplotlib.figure.Figure at 0x7f0bc8235cd0>"
       ]
      }
     ],
     "prompt_number": 4
    },
    {
     "cell_type": "code",
     "collapsed": false,
     "input": [
      "nx = 33\n",
      "k = [3, 15, 31]\n",
      "\n",
      "Nitr = 100\n",
      "err33 = numpy.empty((3, Nitr))\n",
      "\n",
      "for i, ki in enumerate(k):\n",
      "    \n",
      "    p, x, dx = laplace1d_IC(nx, ki)\n",
      "    for itr in range(Nitr):\n",
      "        p[1:-1] = 0.5 * (p[2:] + p[:-2])\n",
      "        err33[i, itr] = numpy.sqrt(numpy.sum(p[1:-1]**2) / nx)\n",
      "\n",
      "    pyplot.semilogy(numpy.array(range(Nitr)), err33[i, :], \n",
      "                    lw=2, label='k='+str(ki))\n",
      "\n",
      "pyplot.legend(loc=0);"
     ],
     "language": "python",
     "metadata": {},
     "outputs": [
      {
       "metadata": {},
       "output_type": "display_data",
       "png": "[encoded data removed]",
       "text": [
        "<matplotlib.figure.Figure at 0x7f0bc81c2250>"
       ]
      }
     ],
     "prompt_number": 5
    },
    {
     "cell_type": "code",
     "collapsed": false,
     "input": [
      "pyplot.figure(figsize=(12, 4))\n",
      "for i in range(3):\n",
      "    pyplot.subplot(1, 3, i+1)\n",
      "    pyplot.semilogy(numpy.array(range(Nitr)), err33[i, :], \n",
      "                    lw=2, label='nx=33')\n",
      "    pyplot.semilogy(numpy.array(range(Nitr)), err65[i, :], \n",
      "                    lw=2, label='nx=65')\n",
      "    pyplot.legend(loc=0, fontsize='small')\n",
      "pyplot.tight_layout()"
     ],
     "language": "python",
     "metadata": {},
     "outputs": [
      {
       "metadata": {},
       "output_type": "display_data",
       "png": "[encoded data removed]",
       "text": [
        "<matplotlib.figure.Figure at 0x7f0bc822bc50>"
       ]
      }
     ],
     "prompt_number": 6
    },
    {
     "cell_type": "code",
     "collapsed": false,
     "input": [
      "def laplace1d_mix_IC(nx, k):\n",
      "    '''Generates initial conditions for Laplace 1D problem for a \n",
      "    given number of grid points (nx) with mix wavenumbers\n",
      "    within the domain [0,1]x[0,1]\n",
      "    \n",
      "    Parameters:\n",
      "    ----------\n",
      "    nx: int\n",
      "        number of grid points in x direction\n",
      "    k: a list or a numpy array\n",
      "        wavenumbers that are going to be mixed in the IC\n",
      "    Returns:\n",
      "    -------\n",
      "    p: 1D array of float\n",
      "        Pressure distribution after relaxation\n",
      "    x: array of float\n",
      "        linspace coordinates in x\n",
      "    dx: float\n",
      "        grid spacing in x\n",
      "    '''\n",
      "    dx = 1.0/(nx-1)\n",
      "    x = numpy.linspace(0,1,nx)\n",
      "    \n",
      "    ##initial conditions\n",
      "    p = numpy.zeros(nx)\n",
      "    for ki in k:\n",
      "        p += numpy.array([numpy.sin(float(i * ki) * numpy.pi / float(nx-1))\n",
      "                         for i in range(nx)])\n",
      "    \n",
      "    return p, x, dx"
     ],
     "language": "python",
     "metadata": {},
     "outputs": [],
     "prompt_number": 7
    },
    {
     "cell_type": "code",
     "collapsed": false,
     "input": [
      "nx = 65\n",
      "k = [1, 15, 31]\n",
      "\n",
      "Nitr = 100\n",
      "err65_mix = numpy.empty(Nitr)\n",
      "\n",
      "p, x, dx = laplace1d_mix_IC(nx, k)\n",
      "for itr in range(Nitr):\n",
      "    p[1:-1] = 0.5 * (p[2:] + p[:-2])\n",
      "    err65_mix[itr] = numpy.sqrt(numpy.sum(p[1:-1]**2) / nx)\n",
      "\n",
      "pyplot.semilogy(numpy.array(range(Nitr)), err65_mix, \n",
      "                lw=2, label='nx='+str(nx))\n",
      "\n",
      "pyplot.legend(loc=0);"
     ],
     "language": "python",
     "metadata": {},
     "outputs": [
      {
       "metadata": {},
       "output_type": "display_data",
       "png": "[encoded data removed]",
       "text": [
        "<matplotlib.figure.Figure at 0x7f0bc7c95450>"
       ]
      }
     ],
     "prompt_number": 8
    },
    {
     "cell_type": "markdown",
     "metadata": {},
     "source": [
      "### 1-1-1 Mapping the Initial Guesses From Coarse Grids to Fine Grids\n",
      "We can map the initial guess from a coarse grid to a fine grid through interpolation. Many interpolation methods can be used. For most multigrid purposes, the simplest way is linear interpolation. If $v_j^{2h}$ and $v_j^h$ represent the approximated solutions on $\\Omega^{2h}$ and $\\Omega^{h}$, then the linear interpolation is as shown below:\n",
      "$$\n",
      "v_{2j}^h=v_j^{2h}\\text{,and}\\\\\n",
      "v_{2j+1}^h=\\frac{1}{2}\\left(v_j^{2h}+v_{j+1}^{2h}\\right)\\text{, }0\\le j\\le \\frac{N_p^h-1}{2}-1\n",
      "$$\n",
      "where $N_p^h$ is the number of points on $\\Omega^h$. The index of points starts from $0$ in order to follow the convention of the numpy array in Python.\n",
      "\n",
      "We write a Python function for this linear interpolation for convenience."
     ]
    },
    {
     "cell_type": "code",
     "collapsed": false,
     "input": [
      "def C2F1D(NC, vC):\n",
      "    '''\n",
      "        Map a vector on a coarse grids to a fine grid by linear interpolation.\n",
      "    \n",
      "        Input:\n",
      "            NC: the number of elements of the input vector (integer)\n",
      "            vC: the vector on the coarse grid (1D array)\n",
      "        \n",
      "        Output:\n",
      "            NF: the number of elements of the output vector (integer)\n",
      "            vF: the vector on the fine grid (1D array)\n",
      "    '''\n",
      "    NF = 2 * NC - 1\n",
      "    vF = numpy.empty(NF)\n",
      "    for i in range(NC-1):\n",
      "        vF[2*i] = vC[i]\n",
      "        vF[2*i+1] = (vC[i] + vC[i+1]) * 0.5\n",
      "    vF[-1] = vC[-1]\n",
      "    return vF.copy(), NF"
     ],
     "language": "python",
     "metadata": {},
     "outputs": [],
     "prompt_number": 9
    },
    {
     "cell_type": "markdown",
     "metadata": {},
     "source": [
      "### 1-1-2 Mapping the Initial Guesses From Fine Grids to Coarse Grids\n",
      "Now we have a new question. From the brief description of this nested iteration, it implies that we have to determine the initial guesses for those coarse girds. Mapping the initial guess on $\\Omega^h$, which is the original grid we have for the problem, seems to be a good idea. We thus need methods to deal with this kind of operations. They are generally called *restriction*. In fact, this operation also gives us the idea of a V-cycle scheme for nested iteration, which we will talk about in the next section.\n",
      "\n",
      "The most obvious method is *injection*. It is\n",
      "$$\n",
      "v_j^{2h}=v_{2j}^h\n",
      "$$\n",
      "\n",
      "In this notebook, we use another method called *full weighting*, which is defined as\n",
      "$$\n",
      "v_j^{2h}=\\frac{1}{4}\\left(v_{2j-1}^h+2v_{2j}^h+v_{2j+1}^h\\right)\\text{, } 1 \\le j \\le \\frac{N_p-1}{2}-1\n",
      "$$\n",
      "\n",
      "The Python function for this restriction operation is:"
     ]
    },
    {
     "cell_type": "code",
     "collapsed": false,
     "input": [
      "def F2C1D(NF, vF):\n",
      "    '''\n",
      "        Map a vector on a fine grids to a coarse grid by linear interpolation.\n",
      "    \n",
      "        Input:\n",
      "            NF: the number of elements of the input vector (integer)\n",
      "            vF: the vector on the fine grid (1D array)\n",
      "        \n",
      "        Output:\n",
      "            NC: the number of elements of the output vector (integer)\n",
      "            vC: the vector on the fine grid (1D array)\n",
      "    '''\n",
      "    NC = (NF + 1) / 2\n",
      "    vC = numpy.empty(NC)\n",
      "    vC[0] = vF[0]\n",
      "    for i in range(1, NC-1):\n",
      "        vC[i] = 0.25 * (vF[2*i-1] + 2. * vF[2*i] + vF[2*i+1])\n",
      "    vC[-1] = vF[-1]\n",
      "    return vC.copy(), NC"
     ],
     "language": "python",
     "metadata": {},
     "outputs": [],
     "prompt_number": 10
    },
    {
     "cell_type": "code",
     "collapsed": false,
     "input": [
      "nx = 65\n",
      "k = [1, 15, 31]\n",
      "\n",
      "Nitr = 100\n",
      "errMG = numpy.empty(Nitr)\n",
      "\n",
      "p, x, dx = laplace1d_mix_IC(nx, k)\n",
      "\n",
      "for i in range(25):\n",
      "    \n",
      "    pC1, nxC1 = F2C1D(nx, p)\n",
      "    pC2, nxC2 = F2C1D(nxC1, pC1)\n",
      "    pC3, nxC3 = F2C1D(nxC2, pC2)\n",
      "    \n",
      "    pC3[1:-1] = 0.5 * (pC3[2:] + pC3[:-2])\n",
      "    errMG[4*i] = numpy.sqrt(numpy.sum(pC3[1:-1]**2) / nxC3)\n",
      "    pC2, nxC2 = C2F1D(nxC3, pC3)\n",
      "    \n",
      "    pC2[1:-1] = 0.5 * (pC2[2:] + pC2[:-2])\n",
      "    errMG[4*i+1] = numpy.sqrt(numpy.sum(pC2[1:-1]**2) / nxC2)\n",
      "    pC1, nxC1 = C2F1D(nxC2, pC2)\n",
      "    \n",
      "    pC1[1:-1] = 0.5 * (pC1[2:] + pC1[:-2])\n",
      "    errMG[4*i+2] = numpy.sqrt(numpy.sum(pC1[1:-1]**2) / nxC1)\n",
      "    p, nx = C2F1D(nxC1, pC1)\n",
      "    \n",
      "    p[1:-1] = 0.5 * (p[2:] + p[:-2])\n",
      "    errMG[4*i+3] = numpy.sqrt(numpy.sum(p[1:-1]**2) / nx)\n",
      "\n",
      "\n",
      "pyplot.semilogy(numpy.array(range(Nitr)), errMG, \n",
      "                lw=2, label='MG')\n",
      "pyplot.semilogy(numpy.array(range(Nitr)), err65_mix, \n",
      "                lw=2, label='non-MG')\n",
      "\n",
      "pyplot.legend(loc=0);"
     ],
     "language": "python",
     "metadata": {},
     "outputs": [
      {
       "metadata": {},
       "output_type": "display_data",
       "png": "[encoded data removed]",
       "text": [
        "<matplotlib.figure.Figure at 0x7f0bc7dcc610>"
       ]
      }
     ],
     "prompt_number": 11
    },
    {
     "cell_type": "code",
     "collapsed": false,
     "input": [
      "def C2F2D(NC, vC):\n",
      "    '''\n",
      "        Map a vector on a 2D coarse grids to a 2D fine grid \n",
      "        by linear interpolation.\n",
      "        \n",
      "        The numbers of elements in both x and y direction \n",
      "        must be the same.\n",
      "    \n",
      "        Input:\n",
      "            NC: the number of elements on the edge of the coarse grid (integer)\n",
      "            vC: the source array on the coarse grid (2D array)\n",
      "        \n",
      "        Output:\n",
      "            NF: the number of elements of the output grid (integer)\n",
      "            vF: the target array on the fine grid (2D array)\n",
      "    '''\n",
      "    NF = 2 * NC - 1\n",
      "    vF = numpy.zeros((NF, NF))\n",
      "    \n",
      "    vF[::2, ::2] = vC.copy()\n",
      "    vF[1:-1:2, ::2] = 0.5 * (vC[:-1, :] + vC[1:, :])\n",
      "    vF[::2, 1:-1:2] = 0.5 * (vC[:, :-1] + vC[:, 1:])\n",
      "    vF[1:-1:2, 1:-1:2] = 0.25 * (vC[:-1, :-1] + vC[1:, :-1] + \n",
      "                             vC[:-1, 1:] + vC[1:, 1:])\n",
      "    \n",
      "    return vF.copy(), NF"
     ],
     "language": "python",
     "metadata": {},
     "outputs": [],
     "prompt_number": 12
    },
    {
     "cell_type": "code",
     "collapsed": false,
     "input": [
      "def F2C2D(NF, vF):\n",
      "    '''\n",
      "        Map a vector on a 2D fine grids to a 2D coarse grid \n",
      "        by linear interpolation.\n",
      "        \n",
      "        The numbers of elements in both x and y direction \n",
      "        must be the same.\n",
      "    \n",
      "        Input:\n",
      "            NF: the number of elements on the edge of the fine grid (integer)\n",
      "            vF: the source array on the fine grid (2D array)\n",
      "        \n",
      "        Output:\n",
      "            NC: the number of elements of the output grid (integer)\n",
      "            vC: the target array on the coarse grid (2D array)\n",
      "    '''\n",
      "    NC = (NF + 1) / 2\n",
      "    vC = numpy.empty((NC, NC))\n",
      "\n",
      "    vC[0, :] = vF[0, ::2]\n",
      "    vC[-1, :] = vF[-1, ::2]\n",
      "    vC[:, 0] = vF[::2, 0]\n",
      "    \n",
      "    \n",
      "    vC[1:-1, -1] = (vF[1:-3:2, -2] + vF[1:-3:2, -2] + \n",
      "                    vF[3:-1:2, -2] + vF[3:-1:2, -2] + \n",
      "                    2. * (vF[2:-2:2, -2] + vF[2:-2:2, -2] + \n",
      "                          vF[1:-3:2, -1] + vF[3:-1:2,-1]) +\n",
      "                    4. * vF[2:-2:2, -1]\n",
      "                    ) / 16.0\n",
      "    \n",
      "    \n",
      "    vC[1:-1, 1:-1] = (vF[1:-3:2, 1:-3:2] + vF[1:-3:2, 3:-1:2] + \n",
      "                      vF[3:-1:2, 1:-3:2] + vF[3:-1:2, 3:-1:2] + \n",
      "                      2. * (vF[2:-2:2, 1:-3:2] + vF[2:-2:2, 3:-1:2] + \n",
      "                           vF[1:-3:2, 2:-2:2] + vF[3:-1:2,2:-2:2]) +\n",
      "                      4. * vF[2:-2:2, 2:-2:2]\n",
      "                      ) / 16.0\n",
      "    \n",
      "    return vC.copy(), NC"
     ],
     "language": "python",
     "metadata": {},
     "outputs": [],
     "prompt_number": 13
    },
    {
     "cell_type": "code",
     "collapsed": false,
     "input": [
      "def laplace2d_neumann_1itr(p):\n",
      "    '''Solves the diffusion equation with forward-time, centered scheme\n",
      "    \n",
      "    Parameters:\n",
      "    ----------\n",
      "    p: 2D array of float\n",
      "        Initial potential distribution\n",
      "        \n",
      "    Returns:\n",
      "    -------\n",
      "    p: 2D array of float\n",
      "        Potential distribution after relaxation\n",
      "    '''\n",
      "\n",
      "    pn = p.copy()\n",
      "    p[1:-1,1:-1] = .25 * (pn[1:-1,2:] + pn[1:-1, :-2] + \n",
      "                          pn[2:, 1:-1] + pn[:-2, 1:-1])\n",
      "        \n",
      "    ##2nd-order Neumann B.C. along x = L\n",
      "    p[1:-1,-1] = .25 * (2*pn[1:-1,-2] + pn[2:, -1] + pn[:-2, -1])\n",
      "        \n",
      "    return p    "
     ],
     "language": "python",
     "metadata": {},
     "outputs": [],
     "prompt_number": 14
    },
    {
     "cell_type": "code",
     "collapsed": false,
     "input": [
      "def p_analytical(x, y):\n",
      "    X, Y = numpy.meshgrid(x,y)\n",
      "    \n",
      "    p_an = numpy.sinh(1.5*numpy.pi*Y / x[-1]) /\\\n",
      "    (numpy.sinh(1.5*numpy.pi*y[-1]/x[-1]))*numpy.sin(1.5*numpy.pi*X/x[-1])\n",
      "    \n",
      "    return p_an"
     ],
     "language": "python",
     "metadata": {},
     "outputs": [],
     "prompt_number": 15
    },
    {
     "cell_type": "code",
     "collapsed": false,
     "input": [
      "def L2_error(p, pn):\n",
      "    return numpy.sqrt(numpy.sum((p - pn)**2)/numpy.sum(pn**2))"
     ],
     "language": "python",
     "metadata": {},
     "outputs": [],
     "prompt_number": 16
    },
    {
     "cell_type": "code",
     "collapsed": false,
     "input": [
      "def laplace_IC(nx):\n",
      "    '''\n",
      "    Generates initial conditions for Laplace 2D problem for a \n",
      "    given number of grid points (nx) within the domain [0,1]x[0,1]\n",
      "    \n",
      "    Parameters:\n",
      "    ----------\n",
      "    nx: int\n",
      "        number of grid points in x (and implicitly y) direction\n",
      "        \n",
      "    Returns:\n",
      "    -------\n",
      "    p: 2D array of float\n",
      "        Pressure distribution after relaxation\n",
      "    x: array of float\n",
      "        linspace coordinates in x\n",
      "    y: array of float\n",
      "        linspace coordinates in y\n",
      "    dx: float\n",
      "        grid spacing in x\n",
      "    dy: float\n",
      "        grid spacing in y\n",
      "    '''\n",
      "    dx = 1.0/(nx-1)\n",
      "\n",
      "    ##initial conditions\n",
      "    p = numpy.zeros((nx,nx)) ##create a XxY vector of 0's\n",
      "\n",
      "    ##plotting aids\n",
      "    x = numpy.linspace(0,1,nx)\n",
      "    y = x\n",
      "    dy = dx\n",
      "\n",
      "    ##Dirichlet boundary conditions\n",
      "    p[:,0] = 0\n",
      "    p[0,:] = 0\n",
      "    p[-1,:] = numpy.sin(1.5*numpy.pi*x/x[-1])\n",
      "    \n",
      "    return p, x, y, dx, dy"
     ],
     "language": "python",
     "metadata": {},
     "outputs": [],
     "prompt_number": 17
    },
    {
     "cell_type": "code",
     "collapsed": false,
     "input": [
      "def plot2D(x, y, p):\n",
      "    '''Creates 3D projection plot with appropriate limits and viewing angle\n",
      "    \n",
      "    Parameters:\n",
      "    ----------\n",
      "    x: array of float\n",
      "        nodal coordinates in x\n",
      "    y: array of float\n",
      "        nodal coordinates in y\n",
      "    p: 2D array of float\n",
      "        calculated potential field\n",
      "    \n",
      "    '''\n",
      "    fig = pyplot.figure(figsize=(11,7), dpi=100)\n",
      "    ax = fig.gca(projection='3d')\n",
      "    X,Y = numpy.meshgrid(x,y)\n",
      "    surf = ax.plot_surface(X,Y,p[:], rstride=1, cstride=1, cmap=cm.coolwarm,\n",
      "            linewidth=0, antialiased=False)\n",
      "\n",
      "    ax.set_xlim(0,1)\n",
      "    ax.set_ylim(0,1)\n",
      "    ax.set_xlabel('$x$')\n",
      "    ax.set_ylabel('$y$')\n",
      "    ax.set_zlabel('$z$')\n",
      "    ax.view_init(30,45)"
     ],
     "language": "python",
     "metadata": {},
     "outputs": [],
     "prompt_number": 18
    },
    {
     "cell_type": "code",
     "collapsed": false,
     "input": [
      "def err_rms_2D(p, p_analy, nx, ny):\n",
      "    return numpy.sqrt(numpy.sum((p[1:-1, 1:-1] - p_analy[1:-1, 1:-1])**2) / \n",
      "                          (nx*ny))"
     ],
     "language": "python",
     "metadata": {},
     "outputs": [],
     "prompt_number": 19
    },
    {
     "cell_type": "code",
     "collapsed": false,
     "input": [
      "import time"
     ],
     "language": "python",
     "metadata": {},
     "outputs": [],
     "prompt_number": 20
    },
    {
     "cell_type": "code",
     "collapsed": false,
     "input": [
      "nx = 65\n",
      "\n",
      "Nitr = 10000000\n",
      "err65_2D = numpy.zeros(Nitr)\n",
      "\n",
      "p, x, y, dx, dy = laplace_IC(nx)\n",
      "p_analy = p_analytical(x, y)\n",
      "\n",
      "L2_target = 1e-15\n",
      "L2 = 1.\n",
      "itr = 0\n",
      "t1 = time.time()\n",
      "while L2 > L2_target and itr < Nitr:\n",
      "    pn = p.copy()\n",
      "    p = laplace2d_neumann_1itr(p)\n",
      "    L2 = L2_error(p, pn)\n",
      "    itr += 1\n",
      "t2 = time.time()\n",
      "print L2, itr, t2-t1"
     ],
     "language": "python",
     "metadata": {},
     "outputs": [
      {
       "output_type": "stream",
       "stream": "stdout",
       "text": [
        "9.98011151603e-16 13998 0.793234825134\n"
       ]
      }
     ],
     "prompt_number": 21
    },
    {
     "cell_type": "code",
     "collapsed": false,
     "input": [
      "print L2_error(p, p_analy)"
     ],
     "language": "python",
     "metadata": {},
     "outputs": [
      {
       "output_type": "stream",
       "stream": "stdout",
       "text": [
        "0.000301380398407\n"
       ]
      }
     ],
     "prompt_number": 22
    },
    {
     "cell_type": "code",
     "collapsed": false,
     "input": [
      "'''\n",
      "pyplot.semilogy(numpy.array(range(Nitr)), err65_2D, \n",
      "                    label='nx='+str(nx))\n",
      "pyplot.legend(loc=0, fontsize='small')\n",
      "'''"
     ],
     "language": "python",
     "metadata": {},
     "outputs": [
      {
       "metadata": {},
       "output_type": "pyout",
       "prompt_number": 23,
       "text": [
        "\"\\npyplot.semilogy(numpy.array(range(Nitr)), err65_2D, \\n                    label='nx='+str(nx))\\npyplot.legend(loc=0, fontsize='small')\\n\""
       ]
      }
     ],
     "prompt_number": 23
    },
    {
     "cell_type": "code",
     "collapsed": false,
     "input": [
      "v0 = 1\n",
      "v1 = 1\n",
      "Nv = v0 + 2 * v1\n",
      "\n",
      "p, x, y, dx, dy = laplace_IC(nx)\n",
      "\n",
      "L2_target = 1e-15\n",
      "L2 = 1.\n",
      "itr = 0\n",
      "t1 = time.time()\n",
      "while L2 > L2_target and itr < Nitr:\n",
      "    \n",
      "    pn = p.copy()\n",
      "         \n",
      "    pC1, nxC1 = F2C2D(nx, p)\n",
      "    \n",
      "    for i in range(v0):\n",
      "        pC1 = laplace2d_neumann_1itr(pC1)\n",
      "    \n",
      "    p[1:-1, 1:] = C2F2D(nxC1, pC1)[0][1:-1, 1:]\n",
      "    for i in range(v1):\n",
      "        p = laplace2d_neumann_1itr(p)\n",
      "    \n",
      "    L2 = L2_error(p, pn)\n",
      "    itr += 1 \n",
      "t2 = time.time()\n",
      "print L2, itr, t2-t1"
     ],
     "language": "python",
     "metadata": {},
     "outputs": [
      {
       "output_type": "stream",
       "stream": "stdout",
       "text": [
        "9.96457090556e-16 2140 0.334636211395\n"
       ]
      }
     ],
     "prompt_number": 37
    },
    {
     "cell_type": "code",
     "collapsed": false,
     "input": [
      "print L2_error(p, p_analy)"
     ],
     "language": "python",
     "metadata": {},
     "outputs": [
      {
       "output_type": "stream",
       "stream": "stdout",
       "text": [
        "0.000849083682644\n"
       ]
      }
     ],
     "prompt_number": 38
    },
    {
     "cell_type": "code",
     "collapsed": false,
     "input": [
      "v0 = 1\n",
      "v1 = 1\n",
      "Nv = v0 + 2 * v1\n",
      "\n",
      "p, x, y, dx, dy = laplace_IC(nx)\n",
      "\n",
      "L2_target = 1e-15\n",
      "L2 = 1.\n",
      "itr = 0\n",
      "t1 = time.time()\n",
      "while L2 > L2_target and itr < Nitr:\n",
      "    \n",
      "    pn = p.copy()\n",
      "         \n",
      "    pC1, nxC1 = F2C2D(nx, p)\n",
      "    pC2, nxC2 = F2C2D(nxC1, pC1)\n",
      "    \n",
      "    for i in range(v0):\n",
      "        pC2 = laplace2d_neumann_1itr(pC2)\n",
      "    \n",
      "    pC1[1:-1, 1:] = C2F2D(nxC2, pC2)[0][1:-1, 1:]\n",
      "    for i in range(v0):\n",
      "        pC1 = laplace2d_neumann_1itr(pC1)\n",
      "    \n",
      "    p[1:-1, 1:] = C2F2D(nxC1, pC1)[0][1:-1, 1:]\n",
      "    for i in range(v1):\n",
      "        p = laplace2d_neumann_1itr(p)\n",
      "    \n",
      "    L2 = L2_error(p, pn)\n",
      "    itr += 1 \n",
      "t2 = time.time()\n",
      "print L2, itr, t2-t1"
     ],
     "language": "python",
     "metadata": {},
     "outputs": [
      {
       "output_type": "stream",
       "stream": "stdout",
       "text": [
        "9.54295706241e-16 507 0.114150047302\n"
       ]
      }
     ],
     "prompt_number": 32
    },
    {
     "cell_type": "code",
     "collapsed": false,
     "input": [
      "print L2_error(p, p_analy)"
     ],
     "language": "python",
     "metadata": {},
     "outputs": [
      {
       "output_type": "stream",
       "stream": "stdout",
       "text": [
        "0.00308517205797\n"
       ]
      }
     ],
     "prompt_number": 33
    },
    {
     "cell_type": "code",
     "collapsed": false,
     "input": [
      "v0 = 1\n",
      "v1 = 1\n",
      "Nv = v0 + 2 * v1\n",
      "\n",
      "p, x, y, dx, dy = laplace_IC(nx)\n",
      "\n",
      "L2_target = 1e-15\n",
      "L2 = 1.\n",
      "itr = 0\n",
      "t1 = time.time()\n",
      "while L2 > L2_target and itr < Nitr:\n",
      "    \n",
      "    pn = p.copy()\n",
      "         \n",
      "    pC1, nxC1 = F2C2D(nx, p)\n",
      "    pC2, nxC2 = F2C2D(nxC1, pC1)\n",
      "    pC3, nxC3 = F2C2D(nxC2, pC2)\n",
      "    \n",
      "    for i in range(v0):\n",
      "        pC3 = laplace2d_neumann_1itr(pC3)\n",
      "    \n",
      "    pC2[1:-1, 1:] = C2F2D(nxC3, pC3)[0][1:-1, 1:]\n",
      "    for i in range(v0):\n",
      "        pC2 = laplace2d_neumann_1itr(pC2)\n",
      "    \n",
      "    pC1[1:-1, 1:] = C2F2D(nxC2, pC2)[0][1:-1, 1:]\n",
      "    for i in range(v0):\n",
      "        pC1 = laplace2d_neumann_1itr(pC1)\n",
      "    \n",
      "    p[1:-1, 1:] = C2F2D(nxC1, pC1)[0][1:-1, 1:]\n",
      "    for i in range(v1):\n",
      "        p = laplace2d_neumann_1itr(p)\n",
      "    \n",
      "    L2 = L2_error(p, pn)\n",
      "    itr += 1 \n",
      "t2 = time.time()\n",
      "print L2, itr, t2-t1"
     ],
     "language": "python",
     "metadata": {},
     "outputs": [
      {
       "output_type": "stream",
       "stream": "stdout",
       "text": [
        "8.76601574123e-16 128 0.041825056076\n"
       ]
      }
     ],
     "prompt_number": 35
    },
    {
     "cell_type": "code",
     "collapsed": false,
     "input": [
      "print L2_error(p, p_analy)"
     ],
     "language": "python",
     "metadata": {},
     "outputs": [
      {
       "output_type": "stream",
       "stream": "stdout",
       "text": [
        "0.0119555424922\n"
       ]
      }
     ],
     "prompt_number": 36
    },
    {
     "cell_type": "code",
     "collapsed": false,
     "input": [],
     "language": "python",
     "metadata": {},
     "outputs": []
    },
    {
     "cell_type": "code",
     "collapsed": false,
     "input": [
      "from IPython.core.display import HTML\n",
      "css_file = '../../styles/numericalmoocstyle.css'\n",
      "HTML(open(css_file, \"r\").read())"
     ],
     "language": "python",
     "metadata": {},
     "outputs": [
      {
       "html": [
        "<link href='http://fonts.googleapis.com/css?family=Alegreya+Sans:100,300,400,500,700,800,900,100italic,300italic,400italic,500italic,700italic,800italic,900italic' rel='stylesheet' type='text/css'>\n",
        "<link href='http://fonts.googleapis.com/css?family=Arvo:400,700,400italic' rel='stylesheet' type='text/css'>\n",
        "<link href='http://fonts.googleapis.com/css?family=PT+Mono' rel='stylesheet' type='text/css'>\n",
        "<link href='http://fonts.googleapis.com/css?family=Shadows+Into+Light' rel='stylesheet' type='text/css'>\n",
        "<link href='http://fonts.googleapis.com/css?family=Nixie+One' rel='stylesheet' type='text/css'>\n",
        "<style>\n",
        "\n",
        "@font-face {\n",
        "    font-family: \"Computer Modern\";\n",
        "    src: url('http://mirrors.ctan.org/fonts/cm-unicode/fonts/otf/cmunss.otf');\n",
        "}\n",
        "\n",
        "#notebook_panel { /* main background */\n",
        "    background: rgb(245,245,245);\n",
        "}\n",
        "\n",
        "div.cell { /* set cell width */\n",
        "    width: 750px;\n",
        "}\n",
        "\n",
        "div #notebook { /* centre the content */\n",
        "    background: #fff; /* white background for content */\n",
        "    width: 1000px;\n",
        "    margin: auto;\n",
        "    padding-left: 0em;\n",
        "}\n",
        "\n",
        "#notebook li { /* More space between bullet points */\n",
        "margin-top:0.8em;\n",
        "}\n",
        "\n",
        "/* draw border around running cells */\n",
        "div.cell.border-box-sizing.code_cell.running { \n",
        "    border: 1px solid #111;\n",
        "}\n",
        "\n",
        "/* Put a solid color box around each cell and its output, visually linking them*/\n",
        "div.cell.code_cell {\n",
        "    background-color: rgb(256,256,256); \n",
        "    border-radius: 0px; \n",
        "    padding: 0.5em;\n",
        "    margin-left:1em;\n",
        "    margin-top: 1em;\n",
        "}\n",
        "\n",
        "div.text_cell_render{\n",
        "    font-family: 'Alegreya Sans' sans-serif;\n",
        "    line-height: 140%;\n",
        "    font-size: 125%;\n",
        "    font-weight: 400;\n",
        "    width:600px;\n",
        "    margin-left:auto;\n",
        "    margin-right:auto;\n",
        "}\n",
        "\n",
        "\n",
        "/* Formatting for header cells */\n",
        ".text_cell_render h1 {\n",
        "    font-family: 'Nixie One', serif;\n",
        "    font-style:regular;\n",
        "    font-weight: 400;    \n",
        "    font-size: 45pt;\n",
        "    line-height: 100%;\n",
        "    color: rgb(0,51,102);\n",
        "    margin-bottom: 0.5em;\n",
        "    margin-top: 0.5em;\n",
        "    display: block;\n",
        "}\t\n",
        ".text_cell_render h2 {\n",
        "    font-family: 'Nixie One', serif;\n",
        "    font-weight: 400;\n",
        "    font-size: 30pt;\n",
        "    line-height: 100%;\n",
        "    color: rgb(0,51,102);\n",
        "    margin-bottom: 0.1em;\n",
        "    margin-top: 0.3em;\n",
        "    display: block;\n",
        "}\t\n",
        "\n",
        ".text_cell_render h3 {\n",
        "    font-family: 'Nixie One', serif;\n",
        "    margin-top:16px;\n",
        "\tfont-size: 22pt;\n",
        "    font-weight: 600;\n",
        "    margin-bottom: 3px;\n",
        "    font-style: regular;\n",
        "    color: rgb(102,102,0);\n",
        "}\n",
        "\n",
        ".text_cell_render h4 {    /*Use this for captions*/\n",
        "    font-family: 'Nixie One', serif;\n",
        "    font-size: 14pt;\n",
        "    text-align: center;\n",
        "    margin-top: 0em;\n",
        "    margin-bottom: 2em;\n",
        "    font-style: regular;\n",
        "}\n",
        "\n",
        ".text_cell_render h5 {  /*Use this for small titles*/\n",
        "    font-family: 'Nixie One', sans-serif;\n",
        "    font-weight: 400;\n",
        "    font-size: 16pt;\n",
        "    color: rgb(163,0,0);\n",
        "    font-style: italic;\n",
        "    margin-bottom: .1em;\n",
        "    margin-top: 0.8em;\n",
        "    display: block;\n",
        "}\n",
        "\n",
        ".text_cell_render h6 { /*use this for copyright note*/\n",
        "    font-family: 'PT Mono', sans-serif;\n",
        "    font-weight: 300;\n",
        "    font-size: 9pt;\n",
        "    line-height: 100%;\n",
        "    color: grey;\n",
        "    margin-bottom: 1px;\n",
        "    margin-top: 1px;\n",
        "}\n",
        "\n",
        ".CodeMirror{\n",
        "        font-family: \"PT Mono\";\n",
        "        font-size: 90%;\n",
        "}\n",
        "\n",
        "</style>\n",
        "<script>\n",
        "    MathJax.Hub.Config({\n",
        "                        TeX: {\n",
        "                           extensions: [\"AMSmath.js\"],\n",
        "                           equationNumbers: { autoNumber: \"AMS\", useLabelIds: true}\n",
        "                           },\n",
        "                tex2jax: {\n",
        "                    inlineMath: [ ['$','$'], [\"\\\\(\",\"\\\\)\"] ],\n",
        "                    displayMath: [ ['$$','$$'], [\"\\\\[\",\"\\\\]\"] ]\n",
        "                },\n",
        "                displayAlign: 'center', // Change this to 'center' to center equations.\n",
        "                \"HTML-CSS\": {\n",
        "                    styles: {'.MathJax_Display': {\"margin\": 4}}\n",
        "                }\n",
        "        });\n",
        "</script>\n"
       ],
       "metadata": {},
       "output_type": "pyout",
       "prompt_number": 28,
       "text": [
        "<IPython.core.display.HTML at 0x7fc37323cd50>"
       ]
      }
     ],
     "prompt_number": 28
    }
   ],
   "metadata": {}
  }
 ]
}