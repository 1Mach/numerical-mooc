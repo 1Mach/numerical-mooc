{
 "metadata": {
  "name": "",
  "signature": "sha256:921a6f14fdbe04bc5a712ce01927c3f9e85ab933154aab4d27e386fd4861f8b6"
 },
 "nbformat": 3,
 "nbformat_minor": 0,
 "worksheets": [
  {
   "cells": [
    {
     "cell_type": "heading",
     "level": 6,
     "metadata": {},
     "source": [
      "Content under Creative Commons Attribution license CC-BY 4.0, code under MIT license (c)2015 L.A. Barba, G.F. Forsyth, P.Y. Chuang. "
     ]
    },
    {
     "cell_type": "heading",
     "level": 1,
     "metadata": {},
     "source": [
      "Relax and hold steady"
     ]
    },
    {
     "cell_type": "markdown",
     "metadata": {},
     "source": [
      "Welcome to the fourth notebook of *Relax and hold steady: elliptic problems*, the fifth module of [**\"Practical Numerical Methods with Python\"**](http://openedx.seas.gwu.edu/courses/GW/MAE6286/2014_fall/about).\n",
      "\n",
      "In the previous notebooks, we examined traditional relaxation methods (iterative methods).  Modern engineering problems often involve millions of grid points and as the number of grid points grows, the convergence rate of iterative methods starts to suffer.  Enter multigrid.    "
     ]
    },
    {
     "cell_type": "heading",
     "level": 2,
     "metadata": {},
     "source": [
      "Multigrid basics: convergence of errors"
     ]
    },
    {
     "cell_type": "markdown",
     "metadata": {},
     "source": [
      "Consider the discretized 1D Poisson equation:\n",
      "\n",
      "\\begin{equation}\n",
      "\\frac{p_{i+1}-2p_i+p_{i-1}}{\\Delta x^2}=b_i ,\\ \\ \\ \\ \\ 0 \\le i \\le N_x-1\n",
      "\\end{equation}\n",
      "\n",
      "where $N_x$ is the number of grid points. Since the indices of the grid points start from $0$, the index of the last point is $N_x-1$. We start with Dirichlet boundary conditions: $$p_0=p_{N_x-1}= 0$$\n",
      "\n",
      "If $p{^n_i}$ and $p{^{exact}_i}$ denote the approximated solution at the **n-th iteration** in a relaxation method and the exact solution, respectively, we can define the error at this iteration as\n",
      "\n",
      "\\begin{equation}\n",
      "e{^n_i} = p{^{exact}_i} - p{^n_i} ,\\ \\ \\ \\ \\ 0 \\le i \\le N_x-1\n",
      "\\end{equation}\n",
      "\n",
      "That is, the error is the difference between the exact and the estimated solution.  \n",
      "\n",
      "When we specify an initial guess, $p{^0_i}$, the initial error will be given by \n",
      "\n",
      "$$e{^0_i} = p{^{exact}_i} - p{^0_i}$$\n",
      "\n",
      "When we solve an elliptic PDE by any iterative method we try to eliminate this error."
     ]
    },
    {
     "cell_type": "markdown",
     "metadata": {},
     "source": [
      "If we were to apply a Fourier transform to the errors $e^n_i$, we would find that the errors are actually composed of many different single-wavenumber waves. This yields an interesting question: \n",
      "\n",
      "When we eliminate errors using a relaxation method, do these wavenumbers make an impact on the convergence rate? \n",
      "\n",
      "We can answer this with some simple tests."
     ]
    },
    {
     "cell_type": "heading",
     "level": 3,
     "metadata": {},
     "source": [
      "Wavenumbers"
     ]
    },
    {
     "cell_type": "markdown",
     "metadata": {},
     "source": [
      "For simplicity, consider the 1D Laplace equation with Dirichlet boundaries\n",
      "\n",
      "$$p_0=p_{N_x-1}= 0$$\n",
      "\n",
      "The exact solution is $p{^{exact}_i}=0$ and Equation $()$ now simplifies to \n",
      "\n",
      "\\begin{equation}\n",
      "e{^n_i}=-p{^n_i}\n",
      "\\end{equation}\n",
      "\n",
      "We want to examine error convergence as a function of wavenumber so we need a function that is dependent on wavenumber.  We can define $p^0_i$ as follows:\n",
      "\n",
      "\\begin{equation}\n",
      "p{^0_i} = \\sin{\\left(\\frac{ik\\pi}{N_x-1} \\right)} ,\\ \\ \\ \\ \\ 0 \\le i \\le N_x-1\n",
      "\\end{equation}\n",
      "\n",
      "where $k$ is the wavenumber.  Let's take a look at our initial condition for a few different values of $k$.  \n",
      "\n",
      "<!---\n",
      "\n",
      "In order to check the convergence of errors with different wavenumbers, we use several different single-wavenumber waves as our initial error (i.e. initial guess in our current example). Thus the initial guess is\n",
      "\n",
      "\\begin{equation}\n",
      "p{^0_i} = \\sin{(\\frac{ik\\pi}{N_x-1})} ,\\ \\ \\ \\ \\ 0 \\le i \\le N_x-1\n",
      "\\end{equation}\n",
      "\n",
      "$k$ is the wavenumber. Five different $k$ are tested: 1) $k=1$, 2) $k=16$, 3) $k=31$, 4) $k=48$, and 5) $k=63$. We also carry out the tests using two different $N_x$: $N_x=65$ and $N_x=33$. In each case, a total of $100$ iterations will be executed. The selected relaxation method is the Gauss-Seidel method.\n",
      "\n",
      "First, we have to define some frequently used functions.\n",
      "--->"
     ]
    },
    {
     "cell_type": "code",
     "collapsed": false,
     "input": [
      "import numpy\n",
      "from matplotlib import pyplot, rcParams\n",
      "%matplotlib inline\n",
      "\n",
      "rcParams['font.family'] = 'serif'\n",
      "rcParams['font.size'] = 16"
     ],
     "language": "python",
     "metadata": {},
     "outputs": []
    },
    {
     "cell_type": "code",
     "collapsed": false,
     "input": [
      "k_values = [1, 16, 31, 48, 63]\n",
      "nx = 65\n",
      "i = numpy.arange(nx-1)\n",
      "\n",
      "pyplot.figure(figsize=(10,6))\n",
      "\n",
      "for j,k in enumerate(k_values):\n",
      "    pyplot.subplot(2,3,j+1)\n",
      "    p = numpy.sin(i * k * numpy.pi / (nx-1))\n",
      "    pyplot.plot(numpy.linspace(0,1,nx-1), p)\n",
      "    pyplot.title(\"$k = $\"+str(k));\n",
      "pyplot.tight_layout();"
     ],
     "language": "python",
     "metadata": {},
     "outputs": []
    },
    {
     "cell_type": "markdown",
     "metadata": {},
     "source": [
      "Those are certainly different!  Now we want to investigate how the error decreases for each of these different initial conditions!"
     ]
    },
    {
     "cell_type": "heading",
     "level": 3,
     "metadata": {},
     "source": [
      "Error Analysis"
     ]
    },
    {
     "cell_type": "markdown",
     "metadata": {},
     "source": [
      "We have a few functions to help streamline the error analysis.  "
     ]
    },
    {
     "cell_type": "code",
     "collapsed": false,
     "input": [
      "def laplace1d_IC(nx, k):\n",
      "    '''\n",
      "    Generates initial guess for Laplace 1D eq. under a given number \n",
      "    of grid points (nx) and wavenumber k within domain [0,1]x[0,1]\n",
      "    \n",
      "    Parameters:\n",
      "    ----------\n",
      "    nx: int, number of grid points in x direction\n",
      "    k:  float, wavenumber    \n",
      "    \n",
      "    Returns:\n",
      "    -------\n",
      "    p: 1D array of float, initial guess of the unknowns\n",
      "    b: 1D array of float, 0th-order derivative term in Poisson eq.\n",
      "    x: 1D array of float, linspace coordinates in x\n",
      "    dx: float, grid spacing in x\n",
      "    '''\n",
      "    \n",
      "    dx = 1.0/(nx-1)\n",
      "    x = numpy.linspace(0,1,nx)\n",
      "    \n",
      "    ##initial conditions\n",
      "    i = numpy.arange(0, nx)\n",
      "    p = numpy.sin(i * k * numpy.pi / (nx-1))\n",
      "    b = numpy.zeros(nx)\n",
      "    \n",
      "    return p, b, x, dx"
     ],
     "language": "python",
     "metadata": {},
     "outputs": []
    },
    {
     "cell_type": "markdown",
     "metadata": {},
     "source": [
      "To solve our example problem we'll once again use Gauss-Seidel with `weave.blitz`.  You will notice that in contrast to the previous notebook, the Poisson and Laplace solving functions perform only a single iteration per function call.  The reason for this will become clear as we delve deeper into multigrid methods.  "
     ]
    },
    {
     "cell_type": "code",
     "collapsed": false,
     "input": [
      "from scipy import weave"
     ],
     "language": "python",
     "metadata": {},
     "outputs": []
    },
    {
     "cell_type": "code",
     "collapsed": false,
     "input": [
      "def poisson1d_GS_SingleItr(nx, dx, p, b):\n",
      "    '''\n",
      "    Gauss-Seidel method for 1D Poisson eq. with Dirichlet BCs at both \n",
      "    ends. Only a single iteration is executed. **blitz** is used.\n",
      "    \n",
      "    Parameters:\n",
      "    ----------\n",
      "    nx: int, number of grid points in x direction\n",
      "    dx: float, grid spacing in x\n",
      "    p: 1D array of float, approximated soln. in last iteration\n",
      "    b: 1D array of float, 0th-order derivative term in Poisson eq.\n",
      "    \n",
      "    Returns:\n",
      "    -------\n",
      "    p: 1D array of float, approximated soln. in current iteration\n",
      "    '''\n",
      "    \n",
      "    expr = \"p[1:-1] = 0.5 * (p[:-2] + p[2:] - dx * dx * b[1:-1])\"\n",
      "    weave.blitz(expr, check_size=0)\n",
      "    \n",
      "    return p"
     ],
     "language": "python",
     "metadata": {},
     "outputs": []
    },
    {
     "cell_type": "heading",
     "level": 3,
     "metadata": {},
     "source": [
      "Error comparison"
     ]
    },
    {
     "cell_type": "markdown",
     "metadata": {},
     "source": [
      "We used a relative $L_2$-norm to calculate the error in the previous notebooks, but that doesn't work very well when the exact solution is a line of zeros.  Instead of $L_2$, we can use the *root-mean-square* of the difference of two solutions to compare error between different grid sizes in a meaningful way.  "
     ]
    },
    {
     "cell_type": "code",
     "collapsed": false,
     "input": [
      "def RMS(p):\n",
      "    '''\n",
      "    Return the root mean square of p.\n",
      "    \n",
      "    Parameters:\n",
      "    ----------\n",
      "    p:   array\n",
      "        \n",
      "    Returns:\n",
      "    -------\n",
      "    Root mean square of p\n",
      "    '''\n",
      "    return numpy.sqrt(numpy.sum(p**2) / p.size)"
     ],
     "language": "python",
     "metadata": {},
     "outputs": []
    },
    {
     "cell_type": "markdown",
     "metadata": {},
     "source": [
      "Time to get started!  We will examine the error associated with the wavenumbers\n",
      "\n",
      "$$k = [1, 16, 31, 48, 63 ]$$\n",
      "\n",
      "for two different grid sizes, \n",
      "\n",
      "$$nx = [65, 33]$$"
     ]
    },
    {
     "cell_type": "markdown",
     "metadata": {},
     "source": [
      "**Note**: We are storing the error for each wavenumber-grid combination in a [dictionary](https://docs.python.org/2/tutorial/datastructures.html#dictionaries).  A dictionary is an unordered collection with *keys* and *values*.  Each key in our dictionary is a [tuple](https://docs.python.org/2/tutorial/datastructures.html#tuples-and-sequences) comprised of the grid-size and the wavenumber.  The corresponding value for a given key (in the code below) is a NumPy array containing the RMS error for each iteration.  "
     ]
    },
    {
     "cell_type": "code",
     "collapsed": false,
     "input": [
      "# define different Np\n",
      "nx = [65, 33]\n",
      "# define wavenumbers\n",
      "k = [1, 16, 31, 48, 63]\n",
      "# number of iterations we will run\n",
      "Nitr = 100\n",
      "# initialize a space to store root mean square errors\n",
      "err = {}\n",
      "\n",
      "# start iteration\n",
      "for nxi in nx:\n",
      "    for ki in k:\n",
      "        key = (nxi, ki)\n",
      "        err[key] = numpy.empty(Nitr+1)\n",
      "        p, b, x, dx = laplace1d_IC(nxi, ki)\n",
      "        err[key][0] = RMS(p)\n",
      "        for itr in range(1, Nitr+1):\n",
      "            p = poisson1d_GS_SingleItr(nxi, dx, p, b)\n",
      "            err[key][itr] = RMS(p)"
     ],
     "language": "python",
     "metadata": {},
     "outputs": []
    },
    {
     "cell_type": "code",
     "collapsed": false,
     "input": [
      "# plot errors in each case and at each iteration\n",
      "pyplot.figure(figsize=(9, 4.1))\n",
      "for n, nxi in enumerate(nx):\n",
      "    pyplot.subplot(1, 2, n+1)\n",
      "    for ki in k:\n",
      "        pyplot.semilogy(numpy.array(range(Nitr+1)), err[(nxi, ki)], \n",
      "                        lw=2, label='k='+str(ki))\n",
      "\n",
      "        pyplot.legend(loc=3, fontsize='small', ncol=3, mode='expand')\n",
      "        pyplot.xlabel('Iteration') \n",
      "        pyplot.ylabel('RMS Error')\n",
      "        pyplot.title('Nx = '+str(nxi))\n",
      "        pyplot.ylim((1e-8, 1))\n",
      "pyplot.tight_layout();"
     ],
     "language": "python",
     "metadata": {},
     "outputs": []
    },
    {
     "cell_type": "heading",
     "level": 3,
     "metadata": {},
     "source": [
      "Aliasing"
     ]
    },
    {
     "cell_type": "markdown",
     "metadata": {},
     "source": [
      "Why are there only three lines in the $N_x=33$ plot?  In fact, there are five lines, but two of them are hiding.  What's happening?\n",
      "\n",
      "Any grid has a limited resolution and if we try to resolve a rapidly oscillating function on a coarser grid, we encounter a phenomenon called [aliasing](http://nbviewer.ipython.org/github/ketch/teaching-numerics-with-notebooks/blob/master/Aliasing.ipynb).  The high wavenumber error can't be fully resolved in the domain, so it wraps around.  "
     ]
    },
    {
     "cell_type": "markdown",
     "metadata": {},
     "source": [
      "In the example above, the error for wavenumbers $k = [48, 63]$ is exactly the same as for wavenumbers $k=[16, 1]$, respectively.  That's a visual observation, but we also check the numbers using the error dictionary."
     ]
    },
    {
     "cell_type": "code",
     "collapsed": false,
     "input": [
      "numpy.allclose(err[(33,1)],err[(33,63)])"
     ],
     "language": "python",
     "metadata": {},
     "outputs": []
    },
    {
     "cell_type": "code",
     "collapsed": false,
     "input": [
      "numpy.allclose(err[(33,16)],err[(33,48)])"
     ],
     "language": "python",
     "metadata": {},
     "outputs": []
    },
    {
     "cell_type": "markdown",
     "metadata": {},
     "source": [
      "The implication here is that no error can have a wavenumber greater than $N_x-1$.  "
     ]
    },
    {
     "cell_type": "heading",
     "level": 3,
     "metadata": {},
     "source": [
      "Convergence Rate"
     ]
    },
    {
     "cell_type": "markdown",
     "metadata": {},
     "source": [
      "Another important observation in the plots above is the rate of convergence.  \n",
      "\n",
      "Compare the rate of convergence for wavenumbers $k=[1,16,31]$ in both plots above.  What do you see?  The error converges more quickly for these wavenumbers in the $N_x=33$ plot.  \n",
      "\n",
      "But what about the wavenumbers $k = [48, 63]$?  They clearly converge faster in the $N_x=65$ domain.  \n",
      "\n",
      "These observations are at the heart of multigrid.  "
     ]
    },
    {
     "cell_type": "markdown",
     "metadata": {},
     "source": [
      "<!---We call the errors with wavenumbers smaller than $(N_x-1)/2$ low-wavenumber errors; the errors with wavenumbers larger than $(N_x-1)/2$ are high-wavenumber errors.\n",
      "\n",
      "If we have a grid with $N_x$ points on it, we can first use this grid to eliminate high-wavenumber errors, then transfer low-wavenumber errors to another grid with $(N_x+1)/2$ points to accelerate convergence.  --->"
     ]
    },
    {
     "cell_type": "heading",
     "level": 2,
     "metadata": {},
     "source": [
      "Multigrid tools"
     ]
    },
    {
     "cell_type": "heading",
     "level": 3,
     "metadata": {},
     "source": [
      "The residual"
     ]
    },
    {
     "cell_type": "markdown",
     "metadata": {},
     "source": [
      "If we assume that a solution exists to the Poisson equation\n",
      "\n",
      "\\begin{equation}\n",
      "\\nabla^2 p = b\n",
      "\\end{equation}\n",
      "\n",
      "then we know that at each point in the domain, there will be some error between the calculated value, $p^n_i$ and the exact solution $p^{exact}_i$.  We may not know what the exact solution is, but we know it's out there.  Earlier, we defined the error at any point $i$ as\n",
      "\n",
      "\\begin{equation}\n",
      "e^n_i = p^{exact}_i - p^n_i\n",
      "\\end{equation}\n",
      "\n",
      "**Note:** We are talking about error at a specific point, not a measure of error across the entire domain.  \n",
      "\n",
      "What if we recast the Poisson equation in terms of a not-perfectly-relaxed $p^n$?\n",
      "\n",
      "\\begin{equation}\n",
      "\\nabla^2 p^n \\approx b\n",
      "\\end{equation}\n",
      "\n",
      "Equation $(7)$ is an approximation because $p^n \\neq p$.  To \"fix\" the equation, we need to add an extra term to account for the difference in the Poisson equation -- that extra term is called the residual.  We can write out the modified Poisson equation like this:\n",
      "\n",
      "\\begin{equation}\n",
      "r^n + \\nabla^2 p^n = b\n",
      "\\end{equation}\n",
      "\n",
      "Rearranging and discretizing with 2nd-order central difference yields \n",
      "\n",
      "\\begin{equation}\n",
      "r^n_i = b_i - \\frac{p{^n_{i+1}}-2p{^n_i}+p{^n_{i-1}}}{\\Delta x^2}\n",
      "\\end{equation}\n",
      "\n",
      "If we combine Equation (6) with Equation (9), it gives us the following result:\n",
      "\n",
      "\\begin{equation}\n",
      "r^n_i = \\frac{e{^n_{i+1}}-2e{^n_i}+e{^n_{i-1}}}{\\Delta x^2}\n",
      "\\end{equation}"
     ]
    },
    {
     "cell_type": "markdown",
     "metadata": {},
     "source": [
      "Still with us?  What sort of system does Equation $(10)$ look like?  The residual can be used as a source term to *relax* the **error** itself.  Then, according to Equation $(6)$, we can add this relaxed error back to the corresponding $p_i$ term to increase the accuracy of the solution.  "
     ]
    },
    {
     "cell_type": "code",
     "collapsed": false,
     "input": [
      "def residual(dx, pn, b, r):\n",
      "    '''\n",
      "    Calculate the residual for the 1D Poisson equation.\n",
      "    \n",
      "    Parameters:\n",
      "    ----------\n",
      "    pn: 1D array, approximated solution at a certain iteration n\n",
      "    b:  1D array, the b(x) in the Poisson eq.\n",
      "    \n",
      "    Return:\n",
      "    ----------\n",
      "    The residual r\n",
      "    '''\n",
      "    \n",
      "    # r[0] = 0\n",
      "    expr = \"r[1:-1] = b[1:-1] - (pn[:-2] - 2 * pn[1:-1] + pn[2:]) / (dx * dx)\"\n",
      "    weave.blitz(expr, check_size=0)\n",
      "    # r[-1] = 0\n",
      "    \n",
      "    return r"
     ],
     "language": "python",
     "metadata": {},
     "outputs": []
    },
    {
     "cell_type": "heading",
     "level": 3,
     "metadata": {},
     "source": [
      "Example 1: 1D Laplace equation with Dirichlet BC"
     ]
    },
    {
     "cell_type": "markdown",
     "metadata": {},
     "source": [
      "Next, since we will need the residuals on the coarse grid in order to relax the residual equation and obtain the errors, we will talk about how to transfer the residual on the fine grid to the coarse grid."
     ]
    },
    {
     "cell_type": "heading",
     "level": 3,
     "metadata": {},
     "source": [
      "Restriction"
     ]
    },
    {
     "cell_type": "markdown",
     "metadata": {},
     "source": [
      "Transfering data from a fine grid to a coarse grid is called restriction. There are many ways to implement restriction. Here we introduce two restriction operators. One is **injection**, and the other one is **full weighting**.\n",
      "\n",
      "**Injection**  \n",
      "It simply takes the values of corresponding points on the fine grid as the values of the points on the coarse grid. That is,\n",
      "\n",
      "\\begin{equation}\n",
      "v_{i, c} = v_{2i, f} ,\\ \\ \\ \\ \\ 1 \\le i \\le N_{x,c}-2\n",
      "\\end{equation}\n",
      "\n",
      "Assuming the symbol $v$ denotes the values that we want to transfer.\n",
      "\n",
      "When we are dealing with the Dirichlet boundary conditions, the values at the end points are the same on the both grids.\n",
      "\n",
      "\\begin{equation}\n",
      "\\left\\{\n",
      "\\begin{array}{l}\n",
      "v_{0,c} = v_{0,f} \\\\\n",
      "v_{N_{p,c}-1,c} = v_{N_{p,f}-1,f}\n",
      "\\end{array}\n",
      "\\right.\n",
      "\\end{equation}"
     ]
    },
    {
     "cell_type": "markdown",
     "metadata": {},
     "source": [
      "<img src=\"./figures/injection.svg\">"
     ]
    },
    {
     "cell_type": "markdown",
     "metadata": {},
     "source": [
      "**Full weighting**  \n",
      "Injection doesn't consider the values of the points that do not appear as grid points on the coarse grid (i.e. $2i+1$-th point on the fine grid). On the contrary to the injection, full weighting considers the contributions of these points, as shown below,\n",
      "\n",
      "\\begin{equation}\n",
      "v_{i,c}=\\frac{1}{4}\\left(v_{2i-1,f}+2v_{2i,f}+v_{2i+1,f}\\right) ,\\ \\ \\ \\ \\ 1 \\le i \\le N_{x,c}-2\n",
      "\\end{equation}\n",
      "\n",
      "Again, because of the Dirichlet boundary conditions, we use $1 \\le i \\le N_{x,c}-2$ instead of $0 \\le i \\le N_{p,c}-1$ in the above equations."
     ]
    },
    {
     "cell_type": "markdown",
     "metadata": {},
     "source": [
      "<img src=\"./figures/full_weighting.svg\">"
     ]
    },
    {
     "cell_type": "markdown",
     "metadata": {},
     "source": [
      "Different restriction operators are applicable for different problems. In this notebook, we will use full weighting."
     ]
    },
    {
     "cell_type": "markdown",
     "metadata": {},
     "source": [
      "The following code block shows the Python function for the full weighting. Note that we use **slicing with a step** here. The third number in the index of a slicing is the step that we want to skip. For example, `x[1:10:2]` means that we only want the values of `x[1]`, `x[3]`, `x[5]`, `x[7]`, and `x[9]`."
     ]
    },
    {
     "cell_type": "code",
     "collapsed": false,
     "input": [
      "def full_weighting_1d(vF, vC):\n",
      "    '''\n",
      "    Transfer a vector on a fine grids to a coarse grid by full weighting \n",
      "    operator. The number of elements (not points) of the coarse grid is \n",
      "    a half of that of the fine grid.\n",
      "    \n",
      "    Parameters:\n",
      "    ----------\n",
      "    vF: 1D numpy array, the vector on the fine grid\n",
      "    vC: 1D numpy array, the vector on the coarse grid,\n",
      "        size(vC) = (size(vF) + 1) / 2\n",
      "    \n",
      "    Output: vC\n",
      "    '''\n",
      "    \n",
      "    vC[0] = vF[0]\n",
      "    expr = \"vC[1:-1] = 0.25 * (vF[1:-3:2] + 2. * vF[2:-2:2] + vF[3:-1:2]);\"\n",
      "    weave.blitz(expr, check_size=0)\n",
      "    vC[-1] = vF[-1]\n",
      "    \n",
      "    return vC"
     ],
     "language": "python",
     "metadata": {},
     "outputs": []
    },
    {
     "cell_type": "markdown",
     "metadata": {},
     "source": [
      "After we relax the residual equation on the coarse grid, we also need an operation that can transfer the relaxed errors on the coarse grid to the fine grid."
     ]
    },
    {
     "cell_type": "heading",
     "level": 3,
     "metadata": {},
     "source": [
      "Interpolation or prolongation"
     ]
    },
    {
     "cell_type": "markdown",
     "metadata": {},
     "source": [
      "The simplest way to transfer solved errors from the coarse grid to the fine grid is **linear interpolation**.  While the values of the points that are shared by the both grids keep the same, the values at the remaining points on the fine grid are calculated from linear interpolation, as show below.\n",
      "\n",
      "\\begin{equation}\n",
      "\\begin{array}{c}\n",
      "v_{2i,f}=v_{i, c} ,\\ \\ \\ \\ \\ 0 \\le i \\le N_{x,c}-1  \\\\\n",
      "v_{2i+1,f}=\\frac{1}{2}\\left(v_{i,c}+v_{i+1,c}\\right) ,\\ \\ \\ \\ \\ 0 \\le i \\le N_{x,c}-2\n",
      "\\end{array}\n",
      "\\end{equation}\n",
      "\n",
      "Be careful the range of the index $i$!!\n",
      "\n",
      "Below shows the Python function of this interpolation."
     ]
    },
    {
     "cell_type": "code",
     "collapsed": false,
     "input": [
      "def interpolation_1d(vC, vF):\n",
      "    '''\n",
      "    Transfer a vector on a coarse grids to a fine grid by linear \n",
      "    interpolation. The number of elements (not points) of the coarse \n",
      "    grid is a half of that of the fine grid.\n",
      "    \n",
      "    Parameters:\n",
      "    ----------\n",
      "    vC: 1D numpy array, the vector on the coarse grid,\n",
      "    vF: 1D numpy array, the vector on the fine grid\n",
      "        size(vF) = size(vC) * 2 - 1\n",
      "    \n",
      "    Output: vF\n",
      "    '''\n",
      "    \n",
      "    expr = \"vF[::2] = vC[:];\" + \"vF[1:-1:2] = 0.5 * (vC[:-1] + vC[1:])\"\n",
      "    weave.blitz(expr, check_size=0)\n",
      "    \n",
      "    return vF"
     ],
     "language": "python",
     "metadata": {},
     "outputs": []
    },
    {
     "cell_type": "markdown",
     "metadata": {},
     "source": [
      "Now we can start to develop codes for the two-grid correction scheme."
     ]
    },
    {
     "cell_type": "heading",
     "level": 3,
     "metadata": {},
     "source": [
      "Two-grid correction scheme: detailed procedure"
     ]
    },
    {
     "cell_type": "markdown",
     "metadata": {},
     "source": [
      "For this scheme, the superscript now means the order of ***cycle*** rather than that of iteration as we did in the previous sections. A cycle will contain several interations. The procedure is:\n",
      "\n",
      "1. Relax the original Laplace/Poisson equation on the fine grid with $n_f$ iterations and initial guess $p{^0_i}$.\n",
      "2. Compute the residual $r_{i,f}$ on the fine grid.\n",
      "3. Transfer $r_{i,f}$ to the coarse grid by restriction and obtain $r_{i,c}$.\n",
      "4. Relax the residual equation on the coarse grid with $n_c$ iterations and initial guess $e_{i,c}=0$.\n",
      "5. Transfer relaxed $e_{i,c}$ to the fine grid by interpolation and obtain $e_{i,f}$.\n",
      "6. Calculate a new approximated solution by $p{^{0'}_i}=p{^0_i}+e_{i,f}$.\n",
      "7. Relax the original Laplace/Poisson equation on the fine grid with $n_f$ iterations and $p{^{0'}_i}$ to obtain the final approximated solution of this cycle, i.e. $p{^1_i}$\n",
      "8. Go to the $1$st step and keep running until it reaches a specified tolerence or a maximum cycle number.\n",
      "\n",
      "We use a fine grid with $N_{x,f}=513$ for an exaqmple. And the initial guess will be a wave with mixture wavenumbers. The numbers for internal iteration, $n_f$ and $n_c$, are set to be $1$ for simplicity. We also time the comptational time in order to make a comparison with that of using only one grid."
     ]
    },
    {
     "cell_type": "markdown",
     "metadata": {},
     "source": [
      "The criteria for the loop to stop is that the relative $L_2$ error reaches $10^{-14}$ or the number of cycles reaches $10^{10}$."
     ]
    },
    {
     "cell_type": "code",
     "collapsed": false,
     "input": [
      "def laplace1d_mixed_IC(nx, k):\n",
      "    '''\n",
      "    Generates initial guess for Laplace 1D eq. under a given number \n",
      "    of grid points (nx) and mixture wavenumbers within domain [0,1]x[0,1]\n",
      "    \n",
      "    Parameters:\n",
      "    ----------\n",
      "    nx: int, number of grid points in x direction\n",
      "    k:  1D list or numpy array, wavenumbers\n",
      "    \n",
      "    Returns:\n",
      "    -------\n",
      "    p: float, 1D array, unknowns in the Poisson eq.\n",
      "    b: float, 1D array, 0th-order derivatives term in the Poisson eq.\n",
      "    x: float, 1D array, linspace coordinates in x\n",
      "    dx: float, grid spacing in x\n",
      "    '''\n",
      "    \n",
      "    dx = 1.0 / (nx - 1)\n",
      "    x = numpy.linspace(0,1,nx)\n",
      "    \n",
      "    ##initial conditions\n",
      "    p = numpy.zeros(nx)\n",
      "    i = numpy.arange(0, nx)\n",
      "    for ki in k:\n",
      "        p += numpy.sin(i * ki * numpy.pi / (nx-1))\n",
      "\n",
      "    p /= numpy.size(k)\n",
      "    b = numpy.zeros(nx)\n",
      "    \n",
      "    return p, b, x, dx"
     ],
     "language": "python",
     "metadata": {},
     "outputs": []
    },
    {
     "cell_type": "markdown",
     "metadata": {},
     "source": [
      "We use notations `+=` and `/=` here. The notation `a += b` means `a = a + b`. And `a /= b` represents `a = a / b`."
     ]
    },
    {
     "cell_type": "code",
     "collapsed": false,
     "input": [
      "def L2_error(p, pn):\n",
      "    '''\n",
      "    Calculate relative L2 error between p and pn.\n",
      "    '''\n",
      "    return numpy.sqrt(numpy.sum((p - pn)**2)/numpy.sum(pn**2))"
     ],
     "language": "python",
     "metadata": {},
     "outputs": []
    },
    {
     "cell_type": "code",
     "collapsed": false,
     "input": [
      "# set up the # of grid points on the fine grid\n",
      "nxf = 513\n",
      "\n",
      "# set up the wavenumbers\n",
      "k = [1, (nxf-1)/4, (nxf-1)/2, (nxf-1)*3/4, (nxf-2)]\n",
      "\n",
      "# initialize the mixture-wavenumber IC\n",
      "p, b, x, dxf = laplace1d_mixed_IC(nxf, k)\n",
      "\n",
      "# set up the # of grid points and spacing on the coarse grid\n",
      "nxc = int((nxf + 1) / 2)\n",
      "dxc = dxf * 2\n",
      "\n",
      "# initialize the memory space for residual and errors on the both grids\n",
      "rf = numpy.zeros(nxf)\n",
      "rc = numpy.zeros(nxc)\n",
      "ef = numpy.zeros(nxf)\n",
      "ec = numpy.zeros(nxc)\n",
      "\n",
      "# set up the criteria for the loop to stop\n",
      "tol = 1e-14\n",
      "NitrMax = int(1e10)\n",
      "\n",
      "# start to relax\n",
      "err = 10.\n",
      "itr = 0\n",
      "t1 = time.time()\n",
      "while err > tol and itr < NitrMax:\n",
      "    \n",
      "    # save previous approximated solution\n",
      "    pn = p.copy()\n",
      "    \n",
      "    # relax p on fine grid\n",
      "    p = poisson1d_GS_SingleItr(nxf, dxf, p, b)\n",
      "    \n",
      "    # calculate residual\n",
      "    rf = residual(dxf, p, b, rf)\n",
      "    \n",
      "    # transfer residual to the coarse grid\n",
      "    rC = full_weighting_1d(rf, rc)\n",
      "    \n",
      "    # relax the error on the coarse grid\n",
      "    ec[...] = 0\n",
      "    ec = poisson1d_GS_SingleItr(nxc, dxc, ec, rc)\n",
      "    \n",
      "    # transfe the error to the fine grid\n",
      "    ef = interpolation_1d(ec, ef)\n",
      "    \n",
      "    # add the error back to p\n",
      "    p += ef\n",
      "    \n",
      "    # relax p on the fine grid\n",
      "    p = poisson1d_GS_SingleItr(nxf, dxf, p, b)\n",
      "\n",
      "    # update L2 error and # of cycle\n",
      "    err = L2_error(p, pn)\n",
      "    itr += 1\n",
      "\n",
      "t2 = time.time()"
     ],
     "language": "python",
     "metadata": {},
     "outputs": []
    },
    {
     "cell_type": "markdown",
     "metadata": {},
     "source": [
      "Let's see how long this multigrid scheme takes and the exact root mean square error after it converge."
     ]
    },
    {
     "cell_type": "code",
     "collapsed": false,
     "input": [
      "print \"# of Grid points: \", nxf\n",
      "print \"Computing time (multigrid, two-grid correction): \", t2-t1, \" sec\"\n",
      "print \"Root mean square of exact error: \", RMS(p)"
     ],
     "language": "python",
     "metadata": {},
     "outputs": []
    },
    {
     "cell_type": "markdown",
     "metadata": {},
     "source": [
      "It costs about $8$ seconds. Now we want to know if this multigrid scheme improve the efficiency. We perform a single-grid relaxation as shown below."
     ]
    },
    {
     "cell_type": "heading",
     "level": 3,
     "metadata": {},
     "source": [
      "Don't forget to explain the machine used."
     ]
    },
    {
     "cell_type": "code",
     "collapsed": false,
     "input": [
      "# set up the # of grid points on the fine grid\n",
      "nx = 513\n",
      "\n",
      "# set up the wavenumbers\n",
      "k = [1, (nx-1)/4, (nx-1)/2, (nx-1)*3/4, (nx-2)]\n",
      "\n",
      "# initialize the mixture-wavenumber IC\n",
      "p, b, x, dx = laplace1d_mixed_IC(nx, k)\n",
      "\n",
      "# set up the criteria for the loop to stop\n",
      "tol = 1e-14\n",
      "NitrMax = int(1e10)\n",
      "\n",
      "# start to relax\n",
      "err = 10.\n",
      "itr = 0\n",
      "t1 = time.time()\n",
      "while err > tol and itr < NitrMax:\n",
      "    \n",
      "    # save previous approximated solution\n",
      "    pn = p.copy()\n",
      "    \n",
      "    # solve p on fine grid\n",
      "    p = poisson1d_GS_SingleItr(nx, dx, p, b)\n",
      "    \n",
      "    # update L2 error and # of iteration\n",
      "    err = L2_error(p, pn)\n",
      "    itr += 1\n",
      "\n",
      "t2 = time.time()\n",
      "\n",
      "print \"# of Grid points: \", nx\n",
      "print \"Computing time (singlegrid): \", t2-t1, \" sec\"\n",
      "print \"Root mean square of exact error: \", RMS(p)"
     ],
     "language": "python",
     "metadata": {},
     "outputs": []
    },
    {
     "cell_type": "markdown",
     "metadata": {},
     "source": [
      "Good! The single-grid relaxation takes about $20$ seconds to converge to the same criterion. This means our simplest multigrid scheme indeed works!!!"
     ]
    },
    {
     "cell_type": "heading",
     "level": 3,
     "metadata": {},
     "source": [
      "Example 2: 2D Laplace equation with Nuemann BC"
     ]
    },
    {
     "cell_type": "heading",
     "level": 4,
     "metadata": {},
     "source": [
      "Problem description"
     ]
    },
    {
     "cell_type": "markdown",
     "metadata": {},
     "source": [
      "let's try more on this simplest multigrid scheme. Consider the same 2D Laplace problem provided previously:\n",
      "\n",
      "\\begin{equation}\n",
      "\\frac{\\partial ^2 p}{\\partial x^2} + \\frac{\\partial ^2 p}{\\partial y^2} = 0\n",
      "\\end{equation}\n",
      "\n",
      "and the same boundary conditions\n",
      "\n",
      "\\begin{equation}\n",
      "\\left\\{\n",
      "\\begin{array}{ll}\n",
      "p=0 && \\text{ at } x=0 \\\\\n",
      "\\frac{\\partial p}{\\partial x} = 0 && \\text{ at } x = L \\\\\n",
      "p = 0 && \\text{ at }y = 0 \\\\\n",
      "p = \\sin \\left(  \\frac{\\frac{3}{2}\\pi x}{L} \\right) && \\text{ at } y = H\n",
      "\\end{array}\n",
      "\\right.\n",
      "\\end{equation}\n",
      "\n",
      "where $L=1$ and $H=1$ are the sizes of the domain in the $x$ and $y$ directions, respectively.\n",
      "\n",
      "The initial condition is\n",
      "\n",
      "\\begin{equation}\n",
      "p = \\sin \\left(  \\frac{\\frac{3}{2}\\pi x}{L} \\right) \\text{ at } y=H\n",
      "\\end{equation}\n",
      "\n",
      "We will again use both single-grid and multigrid scheme to solve this problem and then make a comparison of the computing time between them. The Laplace equation is actually a special case of the Poisson equation, we thus use the Poisson solver directly. In this notebook, we only consider the case that the numbers of grid points on both x and y directions are the same, that is, $N_x=N_y$, which also implies $dx=dy$ since $L=H$.\n",
      "\n",
      "The analytical solution is\n",
      "\n",
      "\\begin{equation}\n",
      "p(x,y) = \\frac{\\sinh \\left( \\frac{\\frac{3}{2} \\pi y}{L}\\right)}{\\sinh \\left(  \\frac{\\frac{3}{2} \\pi H}{L}\\right)} \\sin \\left( \\frac{\\frac{3}{2} \\pi x}{L} \\right)\n",
      "\\end{equation}"
     ]
    },
    {
     "cell_type": "code",
     "collapsed": false,
     "input": [
      "def p_analytical(x, y):\n",
      "    '''\n",
      "    Analytical solution of the model problem: \n",
      "    2D Laplace equation with Neumann BC.\n",
      "    '''\n",
      "    X, Y = numpy.meshgrid(x,y)\n",
      "    \n",
      "    p_an = numpy.sinh(1.5 * numpy.pi * Y / x[-1]) / \\\n",
      "           (numpy.sinh(1.5 * numpy.pi * y[-1] / x[-1])) * \\\n",
      "           numpy.sin(1.5 * numpy.pi * X / x[-1])\n",
      "    \n",
      "    return p_an"
     ],
     "language": "python",
     "metadata": {},
     "outputs": []
    },
    {
     "cell_type": "heading",
     "level": 4,
     "metadata": {},
     "source": [
      "Residual"
     ]
    },
    {
     "cell_type": "markdown",
     "metadata": {},
     "source": [
      "Since now the points on one of the boundaries are unknowns, their residuals should also be calculated. Notice that the *2nd-order approximation of the Neumann boundary condition* is applied here.\n",
      "\n",
      "Another thing needs our attention is that `blitz` feature does not accept using `-1` as an index, thus we will need to input the upper limit of an array in the following functions. (However, `blitz` accepts `-1` in `slicing`. For example, `p[1:-1]` is acceptale, while `p[-1]` is not.)"
     ]
    },
    {
     "cell_type": "code",
     "collapsed": false,
     "input": [
      "def residual2d_neumann(nx, dx, pn, b, r):\n",
      "    '''\n",
      "    Calculate the residual for the 2D Poisson equation with Neumann BC.\n",
      "    Only applicable when nx=ny and dx=dy.\n",
      "    \n",
      "    Parameters:\n",
      "    ----------\n",
      "    pn: 2D array, approximated solution at a certain iteration n\n",
      "    b:  2D array, the b(x) in the Poisson eq.\n",
      "    \n",
      "    Return:\n",
      "    ----------\n",
      "    The residual r\n",
      "    '''\n",
      "    \n",
      "    # Again, we assume the boundary values of the array pn have already been 0\n",
      "    # r[0, :] = 0\n",
      "    # r[:, 0] = 0\n",
      "    # r[nx-1, :] = 0\n",
      "    \n",
      "    expr = (\"r[1:-1, 1:-1] = b[1:-1, 1:-1] - \" \n",
      "                            \"(pn[1:-1, :-2] + pn[1:-1, 2:] + \"\n",
      "                             \"pn[:-2, 1:-1] + pn[2:, 1:-1] - \"\n",
      "                             \"4 * pn[1:-1, 1:-1]) / (dx * dx);\"\n",
      "            \"r[1:-1, nx-1] = b[1:-1, nx-1] - \"\n",
      "                            \"(2 * pn[1:-1, nx-2] + \"\n",
      "                             \"pn[:-2, nx-1] + pn[2:, nx-1] - \"\n",
      "                             \"4 * pn[1:-1, nx-1]) / (dx * dx)\")\n",
      "    weave.blitz(expr, check_size=0)\n",
      "    \n",
      "    return r"
     ],
     "language": "python",
     "metadata": {},
     "outputs": []
    },
    {
     "cell_type": "markdown",
     "metadata": {},
     "source": [
      "Do you notice that there are actually two commands in `expr`? Yes, as you noticed, if we want the `blitz` to execute more than one command, we can separate the commands by a semicolon `;`. Also, since the way to pass a command to the `blitz` is through a string, we can use a pair of parenthesis to split a tring into multi-lines, if the command is too long."
     ]
    },
    {
     "cell_type": "heading",
     "level": 4,
     "metadata": {},
     "source": [
      "Restriction and interpolation in 2D"
     ]
    },
    {
     "cell_type": "markdown",
     "metadata": {},
     "source": [
      "The **full weighting restriction in 2D** case is\n",
      "\n",
      "\\begin{equation}\n",
      "v_{(i,j),c}=\n",
      "\\frac{1}{16}\n",
      "\\left[\n",
      "v_{(2i-1,2j-1),f}+v_{(2i-1,2j+1),f}+v_{(2i+1,2j-1),f}+v_{(2i+1,2j+1),f}+\n",
      "2\\left(\n",
      "v_{(2i,2j-1),f}+v_{(2i,2j+1),f}+v_{(2i-1,2j),f}+v_{(2i+1,2j),f}\n",
      "\\right)+\n",
      "4v_{(2i,2j),f}\n",
      "\\right]\n",
      "\\end{equation}\n",
      "\n",
      "and $1 \\le i,j \\le N_{x,c}-2$."
     ]
    },
    {
     "cell_type": "code",
     "collapsed": false,
     "input": [
      "def full_weighting_2d(nF, vF, nC, vC):\n",
      "    '''\n",
      "    2D full weighting restriction. Only applicable when nx=ny and dx=dy.\n",
      "    \n",
      "    Parameters\n",
      "    ----------\n",
      "    nF: integer, size of vF\n",
      "    vF: nF x nF array, the array on the fine grid\n",
      "    nC: integer, size of vC\n",
      "    vC: nC x nC array, the array on the caorse grid\n",
      "    \n",
      "    Return\n",
      "    ----------\n",
      "    vC: nC x nC array, the array on the caorse grid\n",
      "    '''\n",
      "    expr = (\"vC[0, :] = vF[0, ::2];\"\n",
      "           \"vC[nC-1, :] = vF[nF-1, ::2];\"\n",
      "           \"vC[:, 0] = vF[::2, 0];\"\n",
      "           \"vC[:, nC-1] = vF[::2, nF-1];\"\n",
      "           \"vC[1:-1, 1:-1] = (vF[1:-3:2, 1:-3:2] + vF[1:-3:2, 3:-1:2] + \"\n",
      "                   \"vF[3:-1:2, 1:-3:2] + vF[3:-1:2, 3:-1:2] + \"\n",
      "                   \"2. * (vF[2:-2:2, 1:-3:2] + vF[2:-2:2, 3:-1:2] + \"\n",
      "                         \"vF[1:-3:2, 2:-2:2] + vF[3:-1:2, 2:-2:2]) + \"\n",
      "                   \"4. * vF[2:-2:2, 2:-2:2]) / 16.0\")\n",
      "    weave.blitz(expr, check_size=0)\n",
      "    \n",
      "    return vC"
     ],
     "language": "python",
     "metadata": {},
     "outputs": []
    },
    {
     "cell_type": "markdown",
     "metadata": {},
     "source": [
      "The **interpolation in 2D** is\n",
      "\n",
      "\\begin{equation}\n",
      "\\left\\{\n",
      "\\begin{array}{ll}\n",
      "v_{(2i,2j),f}=v_{(i,j),c}, & 0 \\le i,j \\le N_{x,c}-1\\\\\n",
      "v_{(2i+1,2j),f}=\\frac{1}{2}\\left(v_{(i,j),c}+v_{(i+1,j),c}\\right),\\ \\ \\ \\ \\ \\ \\ \\ \\ \\ \\ \\ 0 \\le i \\le N_{x,c}-2, & 0 \\le j \\le N_{x,c}-1\\\\\n",
      "v_{(2i,2j+1),f}=\\frac{1}{2}\\left(v_{(i,j),c}+v_{(i,j+1),c}\\right),\\ \\ \\ \\ \\ \\ \\ \\ \\ \\ \\ \\ 0 \\le i \\le N_{x,c}-1, & 0 \\le j \\le N_{x,c}-2\\\\\n",
      "v_{(2i+1,2j+1),f}=\\frac{1}{4}\\left(v_{(i,j),c}+v_{(i+1,j),c}+v_{(i,j+1),c}+v_{(i+1,j+1),c}\\right), & 0 \\le i,j \\le N_{x,c}-2\n",
      "\\end{array}\n",
      "\\right.\n",
      "\\end{equation}"
     ]
    },
    {
     "cell_type": "code",
     "collapsed": false,
     "input": [
      "def interpolation_2d(vC, vF):\n",
      "    '''\n",
      "    2D interpolation. Only applicable when nx=ny and dx=dy.\n",
      "    \n",
      "    Parameters\n",
      "    ----------\n",
      "    vC: 2D array, the array on the caorse grid\n",
      "    vF: 2D array, the array on the fine grid\n",
      "    \n",
      "    Return\n",
      "    ----------\n",
      "    vF: 2D array, the array on the fine grid\n",
      "    '''\n",
      "    expr = (\"vF[::2, ::2] = vC[:, :];\"\n",
      "            \"vF[1:-1:2, ::2] = 0.5 * (vC[:-1, :] + vC[1:, :]);\"\n",
      "            \"vF[::2, 1:-1:2] = 0.5 * (vC[:, :-1] + vC[:, 1:]);\"\n",
      "            \"vF[1:-1:2, 1:-1:2] = 0.25 * (vC[:-1, :-1] + \"\n",
      "                                         \"vC[1:, :-1] + \"\n",
      "                                         \"vC[:-1, 1:] + vC[1:, 1:])\")\n",
      "    weave.blitz(expr, check_size=0)\n",
      "    return vF"
     ],
     "language": "python",
     "metadata": {},
     "outputs": []
    },
    {
     "cell_type": "heading",
     "level": 5,
     "metadata": {},
     "source": [
      "Challenge"
     ]
    },
    {
     "cell_type": "markdown",
     "metadata": {},
     "source": [
      "*In our current example, directly transfering boundary values, as it is for the Dirichlet boundary condition, doesn't make obvious impact, but can you derive a new version of restriction and interpolation for the Neumann boundary condition? (Hint 1: consider 2nd-order approximation of the Neumann boundary condition; Hint2: see reference [3])*"
     ]
    },
    {
     "cell_type": "heading",
     "level": 4,
     "metadata": {},
     "source": [
      "Gauss-Seidel method for 2D Poisson equation"
     ]
    },
    {
     "cell_type": "markdown",
     "metadata": {},
     "source": [
      "We still use the Gauss-Seidel method here. Don't forget the 2nd-order approxomation of the Neumann boundary condition!"
     ]
    },
    {
     "cell_type": "code",
     "collapsed": false,
     "input": [
      "def poisson2d_GS_neumann_SingleItr(nx, dx, p, b):\n",
      "    '''\n",
      "    Solves the 2D Poisson equation with one Neumann boundary. \n",
      "    Gauss-Seidel method is used. Only applicable when nx=ny and dx=dy.\n",
      "    \n",
      "    Parameters:\n",
      "    ----------\n",
      "    nx: integer, the leading size of p\n",
      "    dx: float, the spacing between two grid points\n",
      "    p: nx by nx array, unknowns in the 2D Poisson eq.\n",
      "    b: nx by nx array, 0th-order derivative term in the Poisson eq.\n",
      "        \n",
      "    Returns:\n",
      "    -------\n",
      "    p: nx by nx array, approximated soln. of unknowns in the 2D Poisson eq.\n",
      "    '''\n",
      "    expr = (\"p[1:-1, 1:-1] = .25 * (p[1:-1, 2:] + p[1:-1, :-2] + \"\n",
      "                                   \"p[2:, 1:-1] + p[:-2, 1:-1] - \"\n",
      "                                   \"dx * dx * b[1:-1, 1:-1]);\"\n",
      "            \"p[1:-1, nx-1] = .25 * (2 * p[1:-1, nx-2] + \"\n",
      "                                   \"p[2:, nx-1] + p[:-2, nx-1] - \"\n",
      "                                   \"dx * dx * b[1:-1, nx-1])\")\n",
      "    weave.blitz(expr, check_size=0)\n",
      "    \n",
      "    return p "
     ],
     "language": "python",
     "metadata": {},
     "outputs": []
    },
    {
     "cell_type": "heading",
     "level": 4,
     "metadata": {},
     "source": [
      "Initialization"
     ]
    },
    {
     "cell_type": "markdown",
     "metadata": {},
     "source": [
      "Before we start to calculate, we will need a function to initialize the calculation."
     ]
    },
    {
     "cell_type": "code",
     "collapsed": false,
     "input": [
      "def laplace2d_IC_neumann(nx):\n",
      "    '''\n",
      "    Initialize the 2D Laplace problem with one Neumann boundary \n",
      "    condition. Only applicable when nx=ny and dx=dy.\n",
      "    \n",
      "    Parameters:\n",
      "    ----------\n",
      "    nx: integer, the number of grid points on the x direction.\n",
      "    \n",
      "    Return:\n",
      "    ----------\n",
      "    p: nx by nx array, unknowns in the 2D Poisson eq.\n",
      "    b: nx by nx array, 0th-order derivative term in the Poisson eq.\n",
      "    x: nx by 1 array, x coordinates of grid points\n",
      "    y: nx by 1 array, y coordinates of grid points\n",
      "    dx, dy: spacing between points\n",
      "    '''\n",
      "    dx = 1.0 / (nx - 1)\n",
      "    dy = dx\n",
      "    \n",
      "    ##plotting aids\n",
      "    x = numpy.linspace(0, 1, nx)\n",
      "    y = x.copy()\n",
      "\n",
      "    ##initial conditions\n",
      "    p = numpy.zeros((nx, nx))\n",
      "\n",
      "    ##Dirichlet boundary conditions\n",
      "    p[-1,:] = numpy.sin(1.5 * numpy.pi * x / x[-1])\n",
      "    \n",
      "    b = numpy.zeros((nx, nx))\n",
      "    \n",
      "    return p, b, x, y, dx, dy"
     ],
     "language": "python",
     "metadata": {},
     "outputs": []
    },
    {
     "cell_type": "heading",
     "level": 4,
     "metadata": {},
     "source": [
      "Solve the 2D Poisson model problem now!"
     ]
    },
    {
     "cell_type": "markdown",
     "metadata": {},
     "source": [
      "The first one here is the single-grid calculation. We use `257` grid points in the example."
     ]
    },
    {
     "cell_type": "code",
     "collapsed": false,
     "input": [
      "# set up the # of grid points, nx = ny\n",
      "nx = 257\n",
      "\n",
      "# initialize the problem\n",
      "p, b, x, y, dx, dy = laplace2d_IC_neumann(nx)\n",
      "\n",
      "# obtain the exact solution\n",
      "p_exact = p_analytical(x, y)\n",
      "\n",
      "# set up the criteria for the iteration to stop\n",
      "tol = 1e-15\n",
      "NitrMax = 1e10\n",
      "\n",
      "# start the calculation\n",
      "err = 10.\n",
      "itr = 0\n",
      "t1 = time.time()\n",
      "while err > tol and itr < NitrMax:\n",
      "    \n",
      "    # save the old solution\n",
      "    pn = p.copy()\n",
      "    \n",
      "    # relax p\n",
      "    p = poisson2d_GS_neumann_SingleItr(nx, dx, p, b)\n",
      "    \n",
      "    # update the L2 error and the # of iteration\n",
      "    err = L2_error(p, pn)\n",
      "    itr += 1\n",
      "    \n",
      "t2 = time.time()"
     ],
     "language": "python",
     "metadata": {},
     "outputs": []
    },
    {
     "cell_type": "code",
     "collapsed": false,
     "input": [
      "print \"# of Grid points: \", nx\n",
      "print \"Computing time (singlegrid): \", t2-t1, \" sec\"\n",
      "print \"Root mean square of exact error: \", RMS(p - p_exact)"
     ],
     "language": "python",
     "metadata": {},
     "outputs": []
    },
    {
     "cell_type": "markdown",
     "metadata": {},
     "source": [
      "Now let's see whether our multigrid scheme can accelarate the convergence. Don't forget to initialize the residual array with `numpy.zeros`, since we assume the boundary values of the residual array are always `0`."
     ]
    },
    {
     "cell_type": "code",
     "collapsed": false,
     "input": [
      "# set up the # of grid points, nx = ny\n",
      "nxf = 257\n",
      "\n",
      "# initialize the problem\n",
      "p, b, x, y, dxf, dyf = laplace2d_IC_neumann(nxf)\n",
      "\n",
      "# obtain the exact solution\n",
      "p_exact = p_analytical(x, y)\n",
      "\n",
      "# set up the # of grid points and spacing on the coarse grid\n",
      "nxc = int((nxf + 1) / 2)\n",
      "dxc = dxf * 2\n",
      "\n",
      "# initialize the memory space for residual and errors on the both grids\n",
      "rf = numpy.zeros((nxf, nxf))\n",
      "rc = numpy.zeros((nxc, nxc))\n",
      "ef = numpy.zeros((nxf, nxf))\n",
      "ec = numpy.zeros((nxc, nxc))\n",
      "\n",
      "# set up the criteria for the iteration to stop\n",
      "tol = 1e-15\n",
      "NitrMax = 1e10\n",
      "\n",
      "# start the calculation\n",
      "err = 10.\n",
      "itr = 0\n",
      "t1 = time.time()\n",
      "while err > tol and itr < NitrMax:\n",
      "    \n",
      "    # save previous approximated solution\n",
      "    pn = p.copy()\n",
      "    \n",
      "    # relax p on fine grid\n",
      "    p = poisson2d_GS_neumann_SingleItr(nxf, dxf, p, b)\n",
      "    \n",
      "    # calculate residual\n",
      "    rf = residual2d_neumann(nxf, dxf, p, b, rf)\n",
      "    \n",
      "    # transfer residual to the coarse grid\n",
      "    rC = full_weighting_2d(nxf, rf, nxc, rc)\n",
      "    \n",
      "    # relax the error on the coarse grid\n",
      "    ec[...] = 0\n",
      "    ec = poisson2d_GS_neumann_SingleItr(nxc, dxc, ec, rc)\n",
      "    \n",
      "    # transfe the error to the fine grid\n",
      "    ef = interpolation_2d(ec, ef)\n",
      "    \n",
      "    # add the error back to p\n",
      "    p += ef\n",
      "    \n",
      "    # relax p on the fine grid\n",
      "    p = poisson2d_GS_neumann_SingleItr(nxf, dxf, p, b)\n",
      "\n",
      "    # update L2 error and # of cycle\n",
      "    err = L2_error(p, pn)\n",
      "    itr += 1\n",
      "    \n",
      "t2 = time.time()"
     ],
     "language": "python",
     "metadata": {},
     "outputs": []
    },
    {
     "cell_type": "code",
     "collapsed": false,
     "input": [
      "print \"# of Grid points: \", nxf\n",
      "print \"Computing time (singlegrid): \", t2-t1, \" sec\"\n",
      "print \"Root mean square of exact error: \", RMS(p - p_exact)"
     ],
     "language": "python",
     "metadata": {},
     "outputs": []
    },
    {
     "cell_type": "markdown",
     "metadata": {},
     "source": [
      "Nice! We again show the power of multigrid! Using multigrid scheme, we accelarate the speed by a factor of two!"
     ]
    },
    {
     "cell_type": "heading",
     "level": 5,
     "metadata": {},
     "source": [
      "Challenge"
     ]
    },
    {
     "cell_type": "markdown",
     "metadata": {},
     "source": [
      "*Try to develop your own codes that can deal with the case that has different `nx` and `ny` or has different `dx` and `dy`.*"
     ]
    },
    {
     "cell_type": "heading",
     "level": 5,
     "metadata": {},
     "source": [
      "Challenge"
     ]
    },
    {
     "cell_type": "markdown",
     "metadata": {},
     "source": [
      "*Try to develop your own multigrid codes that can solve the 2D Poisson model problem we used in the previous notebook.*"
     ]
    },
    {
     "cell_type": "heading",
     "level": 5,
     "metadata": {},
     "source": [
      "Dig deeper"
     ]
    },
    {
     "cell_type": "markdown",
     "metadata": {},
     "source": [
      "*What we taught here is the simplest multigrid scheme. Based on the same basic concept, there are still many other schemes. You can always search them on the internet or read the references if you are willing to learn more!*"
     ]
    },
    {
     "cell_type": "heading",
     "level": 2,
     "metadata": {},
     "source": [
      "Reference"
     ]
    },
    {
     "cell_type": "markdown",
     "metadata": {},
     "source": [
      "1. [Aliasing](http://nbviewer.ipython.org/github/ketch/teaching-numerics-with-notebooks/blob/master/Aliasing.ipynb)  http://nbviewer.ipython.org/github/ketch/teaching-numerics-with-notebooks/blob/master/Aliasing.ipynb\n",
      "2. William L. Griggs, Van Emden Henson, and Steve F. McCormick, [*A Multigrid Tutorial*](https://play.google.com/store/books/details/William_L_Briggs_A_Multigrid_Tutorial?id=ahklDynzz8cC), SIAM, Philadephia, 2000 \n",
      "3. U. Trottenberg, C. W. Oosterlee, Anton Schu\u0308ller, [*Multigrid*](https://play.google.com/store/books/details/Ulrich_Trottenberg_Multigrid?id=9ysyNPZoR24C), Academic press, 2000\n",
      "\n",
      "4. Painless Conjugate Gradient"
     ]
    },
    {
     "cell_type": "code",
     "collapsed": false,
     "input": [
      "from IPython.core.display import HTML\n",
      "css_file = '../../styles/numericalmoocstyle.css'\n",
      "HTML(open(css_file, \"r\").read())"
     ],
     "language": "python",
     "metadata": {},
     "outputs": []
    },
    {
     "cell_type": "code",
     "collapsed": false,
     "input": [],
     "language": "python",
     "metadata": {},
     "outputs": []
    }
   ],
   "metadata": {}
  }
 ]
}