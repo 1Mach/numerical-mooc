{
 "metadata": {
  "name": "",
  "signature": "sha256:922a9498203e5733596fddabe6ffb12177d0272edce5e268d43f336a6cd179c8"
 },
 "nbformat": 3,
 "nbformat_minor": 0,
 "worksheets": [
  {
   "cells": [
    {
     "cell_type": "heading",
     "level": 6,
     "metadata": {},
     "source": [
      "Content under Creative Commons Attribution license CC-BY 4.0, code under MIT license (c)2014 L.A. Barba, C.D. Cooper, G.F. Forsyth, P.Y. Chuang.  Based on [CFDPython](https://github.com/barbagroup/CFDPython), (c)2013 L.A. Barba, also under CC-BY license."
     ]
    },
    {
     "cell_type": "heading",
     "level": 1,
     "metadata": {},
     "source": [
      "Relax and hold steady"
     ]
    },
    {
     "cell_type": "markdown",
     "metadata": {},
     "source": [
      "Welcome to the fourth notebook of *Relax and hold steady: elliptic problems*, the fifth module of [**\"Practical Numerical Methods with Python\"**](http://openedx.seas.gwu.edu/courses/GW/MAE6286/2014_fall/about).\n",
      "\n",
      "In the previous notebooks, we taught you some basic relaxation methods (iterative methods). While the number of grid points becomes larger and larger, the convergence of these basic relaxation methods becomes slower and slower. As engineers, we may ask ourselves, how to improve the efficiency of the relaxation methods?\n",
      "\n",
      "In this notebook, we'll teach you a scheme to accelerate the convergence: the multigrid method. After we introduce the basic concept of the multigrid method, two examples are provided: 1) 1D Laplace equation with Dirichlet B.C. and 2) 2D Laplace equation with Neumann B.C."
     ]
    },
    {
     "cell_type": "heading",
     "level": 2,
     "metadata": {},
     "source": [
      "Basic of multigrid: convergence of errors"
     ]
    },
    {
     "cell_type": "markdown",
     "metadata": {},
     "source": [
      "Consider the discretized 1D Poisson equation:\n",
      "\n",
      "\\begin{equation}\n",
      "\\frac{p_{i-1}-2p_i+p_{i+1}}{\\Delta x^2}=b_i ,\\ \\ \\ \\ \\ 0 \\le i \\le N_x-1\n",
      "\\end{equation}\n",
      "\n",
      "where $N_x$ is the number of grid points. Since the indices of the grid points start from $0$, the index of the last point is $N_x-1$. And $p_i$ ($i=0\\text{~}N_x-1$) are unknowns and are what we are going to solve. The boundary conditions are $p_0=p_{N_x-1}= 0$.\n",
      "\n",
      "If $p{^n_i}$ and $p{^{exact}_i}$ denote the approximated solution at **n-th iteration** in a relaxation method and the exact solution respectively, we can define the error at this iteration as\n",
      "\n",
      "\\begin{equation}\n",
      "e{^n_i} = p{^{exact}_i} - p{^n_i} ,\\ \\ \\ \\ \\ 0 \\le i \\le N_x-1\n",
      "\\end{equation}\n",
      "\n",
      "When we specify an initial guess, $p{^0_i}$, to a relaxation method, the initial error will be $e{^0_i} = p{^{exact}_i} - p{^0_i}$, and we are trying to eliminate this initial error through successive iterations, i.e. relaxing them.\n",
      "\n",
      "Applying Fourier transform on the errors, we can find that the errors are actually composed of many different single-wavenumber waves (or errers). This yeilds an interesting question: when we are eliminating errors by a relaxation method, do these wavenumbers make impacts on the convergence rate? We can find out the answer through some simple tests.\n",
      "\n",
      "Let's make some numerical experiments on the 1D Laplace equation. Since the exact solution is $p{^{exact}_i}=0$, this gives us that $e{^n_i}=-p{^n_i}$. In order to check the convergence of errors with different wavenumbers, we use several different single-wavenumber waves as our initial error (i.e. initial guess in our current example). Thus the initial guess is\n",
      "\n",
      "\\begin{equation}\n",
      "p{^0_i} = \\sin{(\\frac{ik\\pi}{N_x-1})} ,\\ \\ \\ \\ \\ 0 \\le i \\le N_x-1\n",
      "\\end{equation}\n",
      "\n",
      "$k$ is the wavenumber. Five different $k$ are tested: 1) $k=1$, 2) $k=16$, 3) $k=31$, 4) $k=48$, and 5) $k=63$. We also carry out the tests using two different $N_x$: $N_x=65$ and $N_x=33$. In each case, a total of $100$ iterations will be executed. The selected relaxation method is the Gauss-Seidel method.\n",
      "\n",
      "First, we have to define some frequently used functions."
     ]
    },
    {
     "cell_type": "code",
     "collapsed": false,
     "input": [
      "from matplotlib import pyplot, cm, rcParams\n",
      "from mpl_toolkits.mplot3d import Axes3D\n",
      "from scipy import weave\n",
      "import numpy\n",
      "import time\n",
      "%matplotlib inline\n",
      "\n",
      "rcParams['font.family'] = 'serif'\n",
      "rcParams['font.size'] = 16"
     ],
     "language": "python",
     "metadata": {},
     "outputs": [],
     "prompt_number": 1
    },
    {
     "cell_type": "code",
     "collapsed": false,
     "input": [
      "def laplace1d_IC(nx, k):\n",
      "    '''\n",
      "    Generates initial guess for Laplace 1D eq. under a given number \n",
      "    of grid points (nx) and wavenumber k within domain [0,1]x[0,1]\n",
      "    \n",
      "    Parameters:\n",
      "    ----------\n",
      "    nx: int, number of grid points in x direction\n",
      "    k:  float, wavenumber    \n",
      "    \n",
      "    Returns:\n",
      "    -------\n",
      "    p: 1D array of float, initial guess of the unknowns\n",
      "    b: 1D array of float, 0th-order derivative term in Poisson eq.\n",
      "    x: 1D array of float, linspace coordinates in x\n",
      "    dx: float, grid spacing in x\n",
      "    '''\n",
      "    \n",
      "    dx = 1.0/(nx-1)\n",
      "    x = numpy.linspace(0,1,nx)\n",
      "    \n",
      "    ##initial conditions\n",
      "    i = numpy.arange(0, nx)\n",
      "    p = numpy.sin(i * k * numpy.pi / (nx-1))\n",
      "    b = numpy.zeros(nx)\n",
      "    \n",
      "    return p, b, x, dx"
     ],
     "language": "python",
     "metadata": {},
     "outputs": [],
     "prompt_number": 2
    },
    {
     "cell_type": "code",
     "collapsed": false,
     "input": [
      "def poisson1d_GS_SingleItr(nx, dx, p, b):\n",
      "    '''\n",
      "    Gauss-Seidel method for 1D Poisson eq. with Dirichlet BCs at both \n",
      "    ends. Only a single iteration is executed. **blitz** is used.\n",
      "    \n",
      "    Parameters:\n",
      "    ----------\n",
      "    nx: int, number of grid points in x direction\n",
      "    dx: float, grid spacing in x\n",
      "    p: 1D array of float, approximated soln. in last iteration\n",
      "    b: 1D array of float, 0th-order derivative term in Poisson eq.\n",
      "    \n",
      "    Returns:\n",
      "    -------\n",
      "    p: 1D array of float, approximated soln. in current iteration\n",
      "    '''\n",
      "    \n",
      "    expr = \"p[1:-1] = 0.5 * (p[:-2] + p[2:] - dx * dx * b[1:-1])\"\n",
      "    weave.blitz(expr, check_size=0)\n",
      "    \n",
      "    return p"
     ],
     "language": "python",
     "metadata": {},
     "outputs": [],
     "prompt_number": 3
    },
    {
     "cell_type": "markdown",
     "metadata": {},
     "source": [
      "Each grid point has its own error. We used $L_2$-norm to represent an overall error in the previous notebooks. However, comparing $L_2$-norm of the solutions with different $N_x$ is not fair. In order to have an even comparision between different $N_x$, we use *root mean square* to calculate the overall errors."
     ]
    },
    {
     "cell_type": "code",
     "collapsed": false,
     "input": [
      "def RMS(p):\n",
      "    '''\n",
      "    Return the root mean square of p.\n",
      "    \n",
      "    Parameters:\n",
      "    ----------\n",
      "    p:   array\n",
      "        \n",
      "    Returns:\n",
      "    -------\n",
      "    Root mean square of p\n",
      "    '''\n",
      "    return numpy.sqrt(numpy.sum(p**2) / p.size)"
     ],
     "language": "python",
     "metadata": {},
     "outputs": [],
     "prompt_number": 4
    },
    {
     "cell_type": "markdown",
     "metadata": {},
     "source": [
      "Now let's start our numerical experiments. We use a data structure called `dictionary` to store our results. If you are not familiar with the `dictionary`, please spend some time reading the [official tutorial](http://www.tutorialspoint.com/python/python_dictionary.htm). Also, [`tuple`](http://www.tutorialspoint.com/python/python_tuples.htm) is used here."
     ]
    },
    {
     "cell_type": "code",
     "collapsed": false,
     "input": [
      "# define different Np\n",
      "nx = [65, 33]\n",
      "# define wavenumbers\n",
      "k = [1, 16, 31, 48, 63]\n",
      "# number of iterations we will run\n",
      "Nitr = 100\n",
      "# initialize a space to store root mean square errors\n",
      "err = {}\n",
      "\n",
      "# start iteration\n",
      "for nxi in nx:\n",
      "    for ki in k:\n",
      "        key = (nxi, ki)\n",
      "        err[key] = numpy.empty(Nitr+1)\n",
      "        p, b, x, dx = laplace1d_IC(nxi, ki)\n",
      "        err[key][0] = RMS(p)\n",
      "        for itr in range(1, Nitr+1):\n",
      "            p = poisson1d_GS_SingleItr(nxi, dx, p, b)\n",
      "            err[key][itr] = RMS(p)"
     ],
     "language": "python",
     "metadata": {},
     "outputs": [],
     "prompt_number": 5
    },
    {
     "cell_type": "code",
     "collapsed": false,
     "input": [
      "# plot errors in each case and at each iteration\n",
      "pyplot.figure(figsize=(10, 4.1))\n",
      "for n, nxi in enumerate(nx):\n",
      "    pyplot.subplot(1, 2, n+1)\n",
      "    for ki in k:\n",
      "        pyplot.semilogy(numpy.array(range(Nitr+1)), err[(nxi, ki)], \n",
      "                        lw=2, label='k='+str(ki))\n",
      "\n",
      "        pyplot.legend(loc=3, fontsize='small', ncol=3, mode='expand')\n",
      "        pyplot.xlabel('Iteration') \n",
      "        pyplot.ylabel('RMS Error')\n",
      "        pyplot.title('Nx = '+str(nxi))\n",
      "        pyplot.ylim((1e-8, 1))\n",
      "pyplot.tight_layout();"
     ],
     "language": "python",
     "metadata": {},
     "outputs": [
      {
       "metadata": {},
       "output_type": "display_data",
       "png": "[encoded data removed]",
       "text": [
        "<matplotlib.figure.Figure at 0x7f6b1690a550>"
       ]
      }
     ],
     "prompt_number": 6
    },
    {
     "cell_type": "markdown",
     "metadata": {},
     "source": [
      "The first thing we notice is that there are only three lines in the case of $N_x=33$. In fact, there are indeed five lines. Because of the phenomenon of [***aliasing***](http://nbviewer.ipython.org/github/ketch/teaching-numerics-with-notebooks/blob/master/Aliasing.ipynb)[1], waves of wavnumbers $k=48$ and $k=63$ on the grid $N_x=33$ became $k=16$ and $k=1$ respectively. Thus the lines of $k=48$ and $k=63$ on the figure of $N_x=33$ overlap the lines of $k=16$ and $k=1$. This implies that there will no errors can have wavenumbers larger than $N_x-1$ on a grid.\n",
      "\n",
      "Second, if we compare the results of $k=1$, $k=16$, and $k=31$ in both figures, we can see that the errors with smaller $k$ converge slower.\n",
      "\n",
      "Third, the comparison of the same $k$ (for the cases of $k=1$, $k=16$, and $k=31$) under the different $N_x$ shows that $N_x=33$ eliminates the errors more efficiently than $N_p=65$ does.\n",
      "\n",
      "Finally, back to the cases of $k=48$ and $k=63$, since these two cases fall back to low wavenumber cases on the coarse grid ($N_x=33$), their convergence are faster on the fine grid ($N_x=65$) than they are on the coarse grid.\n",
      "\n",
      "These observations suggest that it is difficult for errors with wavenumbers smaller than $(N_x-1)/2$ to converge on a grid with $N_x$ points. When we use a single grid and the Gauss-Seidel method, these low-wavenumber errors is the key factor that dominates the convergence rate. Here we call the errors with wavenumbers smaller than $(N_x-1)/2$ as low-wavenumber errors; and the errors with wavenumbers larger than $(N_x-1)/2$ as high-wavenumber errors.\n",
      "\n",
      "The concept of the multigrid therefore emerges. If we have a grid with $N_x$ points on it, we can first use this grid to eliminate high-wavenumber errors and then transfer low-wavenumber errors to another grid with $(N_x+1)/2$ points in order to eliminate those low-wavenumber errors."
     ]
    },
    {
     "cell_type": "heading",
     "level": 5,
     "metadata": {},
     "source": [
      "Dig deeper"
     ]
    },
    {
     "cell_type": "markdown",
     "metadata": {},
     "source": [
      "*In our experiments, we use the Gauss-Seidel method and obtain the above observations. How if we use other relaxation methods, such as the Jacobi method, the weighted Jacobi method etc.? Do you think they all behavior the same? Try to do some experiments by yourself! More details can be found in reference [2].*"
     ]
    },
    {
     "cell_type": "heading",
     "level": 2,
     "metadata": {},
     "source": [
      "The simplest multigrid scheme"
     ]
    },
    {
     "cell_type": "heading",
     "level": 3,
     "metadata": {},
     "source": [
      "Example 1: 1D Laplace equation with Dirichlet BC"
     ]
    },
    {
     "cell_type": "markdown",
     "metadata": {},
     "source": [
      "Here we present a simple multigrid scheme based on the basic multigrid concept described in the last section. This scheme is called ***two-grid correction scheme*** [2]: In this scheme, we\n",
      "\n",
      "1. relax unknown $p_i$ directly on a fine grid first to eliminate high-wavenumber errors, and then \n",
      "2. relax the error on a coarse grid to eliminate the low-wavenumber errors.\n",
      "\n",
      "If the number of points on the fine grid is $N_{x,f}$, then that on the coarse grid is choosen to be $N_{x,c}=(N_{x,f}+1)/2$.\n",
      "\n",
      "We said that we want to relax errors on the coarse grid, but can we relax the errors directly on it? Of course yes. We will talk about this next."
     ]
    },
    {
     "cell_type": "heading",
     "level": 4,
     "metadata": {},
     "source": [
      "Residual and residual equation"
     ]
    },
    {
     "cell_type": "markdown",
     "metadata": {},
     "source": [
      "First, we introduce **residual** here.\n",
      "\n",
      "\\begin{equation}\n",
      "\\begin{split}\n",
      "r{^n_i} = &\\frac{p{^{exact}_{i-1}}-2p{^{exact}_i}+p{^{exact}_{i+1}}}{\\Delta x^2}-\\frac{p{^n_{i-1}}-2p{^n_i}+p{^n_{i+1}}}{\\Delta x^2}\\\\\n",
      "= & b_i-\\frac{p{^n_{i-1}}-2p{^n_i}+p{^n_{i+1}}}{\\Delta x^2}\n",
      "\\end{split}\n",
      "\\end{equation}\n",
      "\n",
      "Then, we can find that the original equation turns into a new one: the **residual equation**:\n",
      "\n",
      "\\begin{equation}\n",
      "\\frac{e{^n_{i-1}}-2e{^n_i}+e{^n_{i+1}}}{\\Delta x^2}=r{^n_i}\n",
      "\\end{equation}\n",
      "\n",
      "This residual equation gives us a way to relax the error $e{^n_i}$. Through some iterations, we can obtain approximated error at the `n`-th iteration. Adding this approximated error back to the approximated solution, we will get a new approximated solution that is closer to the exact solution.\n",
      "\n",
      "We define a Python function to calculate the residual for the 1D Poisson equation (The Laplace equation is just a special case of the Poisson equation). Because of the ***Dirichlet boundary conditions*** at both end points, we already have had their exact values, and their errors and residuals thus are always zero."
     ]
    },
    {
     "cell_type": "code",
     "collapsed": false,
     "input": [
      "def residual(dx, pn, b, r):\n",
      "    '''\n",
      "    Calculate the residual for the 1D Poisson equation.\n",
      "    \n",
      "    Parameters:\n",
      "    ----------\n",
      "    pn: 1D array, approximated solution at a certain iteration n\n",
      "    b:  1D array, the b(x) in the Poisson eq.\n",
      "    \n",
      "    Return:\n",
      "    ----------\n",
      "    The residual r\n",
      "    '''\n",
      "    \n",
      "    # we assuem that the end points of the array pn have alread been 0\n",
      "    # If not, please uncomment the lines of r[0]=0 and r[-1]=0\n",
      "    # r[0] = 0\n",
      "    expr = \"r[1:-1] = b[1:-1] - (pn[:-2] - 2 * pn[1:-1] + pn[2:]) / (dx * dx)\"\n",
      "    weave.blitz(expr, check_size=0)\n",
      "    # r[-1] = 0\n",
      "    \n",
      "    return r"
     ],
     "language": "python",
     "metadata": {},
     "outputs": [],
     "prompt_number": 7
    },
    {
     "cell_type": "markdown",
     "metadata": {},
     "source": [
      "**Be careful** that we don't actually assign `0` to the end points of the array `pn` in the above codes. We will create a `numpy.zeros` array for the residual `r` later in the main program, and the values at the end points are therefore always `0`."
     ]
    },
    {
     "cell_type": "markdown",
     "metadata": {},
     "source": [
      "Next, since we will need the residuals on the coarse grid in order to relax the residual equation and obtain the errors, we will talk about how to transfer the residual on the fine grid to the coarse grid."
     ]
    },
    {
     "cell_type": "heading",
     "level": 4,
     "metadata": {},
     "source": [
      "Restriction"
     ]
    },
    {
     "cell_type": "markdown",
     "metadata": {},
     "source": [
      "Transfering data from a fine grid to a coarse grid is called restriction. There are many ways to implement restriction. Here we introduce two restriction operators. One is **injection**, and the other one is **full weighting**.\n",
      "\n",
      "**Injection**  \n",
      "It simply takes the values of corresponding points on the fine grid as the values of the points on the coarse grid. That is,\n",
      "\n",
      "\\begin{equation}\n",
      "v_{i, c} = v_{2i, f} ,\\ \\ \\ \\ \\ 1 \\le i \\le N_{x,c}-2\n",
      "\\end{equation}\n",
      "\n",
      "Assuming the symbol $v$ denotes the values that we want to transfer.\n",
      "\n",
      "When we are dealing with the Dirichlet boundary conditions, the values at the end points are the same on the both grids.\n",
      "\n",
      "\\begin{equation}\n",
      "\\left\\{\n",
      "\\begin{array}{l}\n",
      "v_{0,c} = v_{0,f} \\\\\n",
      "v_{N_{p,c}-1,c} = v_{N_{p,f}-1,f}\n",
      "\\end{array}\n",
      "\\right.\n",
      "\\end{equation}\n",
      "\n",
      "**Full weighting**  \n",
      "Injection doesn't consider the values of the points that do not appear as grid points on the coarse grid (i.e. $2i+1$-th point on the fine grid). On the contrary to the injection, full weighting considers the contributions of these points, as shown below,\n",
      "\n",
      "\\begin{equation}\n",
      "v_{i,c}=\\frac{1}{4}\\left(v_{2i-1,f}+2v_{2i,f}+v_{2i+1,f}\\right) ,\\ \\ \\ \\ \\ 1 \\le i \\le N_{x,c}-2\n",
      "\\end{equation}\n",
      "\n",
      "Again, because of the Dirichlet boundary conditions, we use $1 \\le i \\le N_{x,c}-2$ instead of $0 \\le i \\le N_{p,c}-1$ in the above equations.\n",
      "\n",
      "Different restriction operators are applicable for different problems. In this notebook, we will use full weighting."
     ]
    },
    {
     "cell_type": "markdown",
     "metadata": {},
     "source": [
      "The following code block shows the Python function for the full weighting. Note that we use **slicing with a step** here. The third number in the index of a slicing is the step that we want to skip. For example, `x[1:10:2]` means that we only want the values of `x[1]`, `x[3]`, `x[5]`, `x[7]`, and `x[9]`."
     ]
    },
    {
     "cell_type": "code",
     "collapsed": false,
     "input": [
      "def full_weighting_1d(vF, vC):\n",
      "    '''\n",
      "    Transfer a vector on a fine grids to a coarse grid by full weighting \n",
      "    operator. The number of elements (not points) of the coarse grid is \n",
      "    a half of that of the fine grid.\n",
      "    \n",
      "    Parameters:\n",
      "    ----------\n",
      "    vF: 1D numpy array, the vector on the fine grid\n",
      "    vC: 1D numpy array, the vector on the coarse grid,\n",
      "        size(vC) = (size(vF) + 1) / 2\n",
      "    \n",
      "    Output: vC\n",
      "    '''\n",
      "    \n",
      "    vC[0] = vF[0]\n",
      "    expr = \"vC[1:-1] = 0.25 * (vF[1:-3:2] + 2. * vF[2:-2:2] + vF[3:-1:2]);\"\n",
      "    weave.blitz(expr, check_size=0)\n",
      "    vC[-1] = vF[-1]\n",
      "    \n",
      "    return vC"
     ],
     "language": "python",
     "metadata": {},
     "outputs": [],
     "prompt_number": 8
    },
    {
     "cell_type": "markdown",
     "metadata": {},
     "source": [
      "After we relax the residual equation on the coarse grid, we also need an operation that can transfer the relaxed errors on the coarse grid to the fine grid."
     ]
    },
    {
     "cell_type": "heading",
     "level": 4,
     "metadata": {},
     "source": [
      "Interpolation or prolongation"
     ]
    },
    {
     "cell_type": "markdown",
     "metadata": {},
     "source": [
      "The simplest way to transfer solved errors from the coarse grid to the fine grid is **linear interpolation**.  While the values of the points that are shared by the both grids keep the same, the values at the remaining points on the fine grid are calculated from linear interpolation, as show below.\n",
      "\n",
      "\\begin{equation}\n",
      "\\begin{array}{c}\n",
      "v_{2i,f}=v_{i, c} ,\\ \\ \\ \\ \\ 0 \\le i \\le N_{x,c}-1  \\\\\n",
      "v_{2i+1,f}=\\frac{1}{2}\\left(v_{i,c}+v_{i+1,c}\\right) ,\\ \\ \\ \\ \\ 0 \\le i \\le N_{x,c}-2\n",
      "\\end{array}\n",
      "\\end{equation}\n",
      "\n",
      "Be careful the range of the index $i$!!\n",
      "\n",
      "Below shows the Python function of this interpolation."
     ]
    },
    {
     "cell_type": "code",
     "collapsed": false,
     "input": [
      "def interpolation_1d(vC, vF):\n",
      "    '''\n",
      "    Transfer a vector on a coarse grids to a fine grid by linear \n",
      "    interpolation. The number of elements (not points) of the coarse \n",
      "    grid is a half of that of the fine grid.\n",
      "    \n",
      "    Parameters:\n",
      "    ----------\n",
      "    vC: 1D numpy array, the vector on the coarse grid,\n",
      "    vF: 1D numpy array, the vector on the fine grid\n",
      "        size(vF) = size(vC) * 2 - 1\n",
      "    \n",
      "    Output: vF\n",
      "    '''\n",
      "    \n",
      "    expr = \"vF[::2] = vC[:];\" + \"vF[1:-1:2] = 0.5 * (vC[:-1] + vC[1:])\"\n",
      "    weave.blitz(expr, check_size=0)\n",
      "    \n",
      "    return vF"
     ],
     "language": "python",
     "metadata": {},
     "outputs": [],
     "prompt_number": 9
    },
    {
     "cell_type": "markdown",
     "metadata": {},
     "source": [
      "Now we can start to develop codes for the two-grid correction scheme."
     ]
    },
    {
     "cell_type": "heading",
     "level": 4,
     "metadata": {},
     "source": [
      "Two-grid correction scheme: detailed procedure"
     ]
    },
    {
     "cell_type": "markdown",
     "metadata": {},
     "source": [
      "For this scheme, the superscript now means the order of ***cycle*** rather than that of iteration as we did in the previous sections. A cycle will contain several interations. The procedure is:\n",
      "\n",
      "1. Relax the original Laplace/Poisson equation on the fine grid with $n_f$ iterations and initial guess $p{^0_i}$.\n",
      "2. Compute the residual $r_{i,f}$ on the fine grid.\n",
      "3. Transfer $r_{i,f}$ to the coarse grid by restriction and obtain $r_{i,c}$.\n",
      "4. Relax the residual equation on the coarse grid with $n_c$ iterations and initial guess $e_{i,c}=0$.\n",
      "5. Transfer relaxed $e_{i,c}$ to the fine grid by interpolation and obtain $e_{i,f}$.\n",
      "6. Calculate a new approximated solution by $p{^{0'}_i}=p{^0_i}+e_{i,f}$.\n",
      "7. Relax the original Laplace/Poisson equation on the fine grid with $n_f$ iterations and $p{^{0'}_i}$ to obtain the final approximated solution of this cycle, i.e. $p{^1_i}$\n",
      "8. Go to the $1$st step and keep running until it reaches a specified tolerence or a maximum cycle number.\n",
      "\n",
      "We use a fine grid with $N_{x,f}=513$ for an exaqmple. And the initial guess will be a wave with mixture wavenumbers. The numbers for internal iteration, $n_f$ and $n_c$, are set to be $1$ for simplicity. We also time the comptational time in order to make a comparison with that of using only one grid."
     ]
    },
    {
     "cell_type": "markdown",
     "metadata": {},
     "source": [
      "The criteria for the loop to stop is that the relative $L_2$ error reaches $10^{-14}$ or the number of cycles reaches $10^{10}$."
     ]
    },
    {
     "cell_type": "code",
     "collapsed": false,
     "input": [
      "def laplace1d_mixed_IC(nx, k):\n",
      "    '''\n",
      "    Generates initial guess for Laplace 1D eq. under a given number \n",
      "    of grid points (nx) and mixture wavenumbers within domain [0,1]x[0,1]\n",
      "    \n",
      "    Parameters:\n",
      "    ----------\n",
      "    nx: int, number of grid points in x direction\n",
      "    k:  1D list or numpy array, wavenumbers\n",
      "    \n",
      "    Returns:\n",
      "    -------\n",
      "    p: float, 1D array, unknowns in the Poisson eq.\n",
      "    b: float, 1D array, 0th-order derivatives term in the Poisson eq.\n",
      "    x: float, 1D array, linspace coordinates in x\n",
      "    dx: float, grid spacing in x\n",
      "    '''\n",
      "    \n",
      "    dx = 1.0 / (nx - 1)\n",
      "    x = numpy.linspace(0,1,nx)\n",
      "    \n",
      "    ##initial conditions\n",
      "    p = numpy.zeros(nx)\n",
      "    i = numpy.arange(0, nx)\n",
      "    for ki in k:\n",
      "        p += numpy.sin(i * ki * numpy.pi / (nx-1))\n",
      "\n",
      "    p /= numpy.size(k)\n",
      "    b = numpy.zeros(nx)\n",
      "    \n",
      "    return p, b, x, dx"
     ],
     "language": "python",
     "metadata": {},
     "outputs": [],
     "prompt_number": 10
    },
    {
     "cell_type": "markdown",
     "metadata": {},
     "source": [
      "We use notations `+=` and `/=` here. The notation `a += b` means `a = a + b`. And `a /= b` represents `a = a / b`."
     ]
    },
    {
     "cell_type": "code",
     "collapsed": false,
     "input": [
      "def L2_error(p, pn):\n",
      "    '''\n",
      "    Calculate relative L2 error between p and pn.\n",
      "    '''\n",
      "    return numpy.sqrt(numpy.sum((p - pn)**2)/numpy.sum(pn**2))"
     ],
     "language": "python",
     "metadata": {},
     "outputs": [],
     "prompt_number": 11
    },
    {
     "cell_type": "code",
     "collapsed": false,
     "input": [
      "# set up the # of grid points on the fine grid\n",
      "nxf = 513\n",
      "\n",
      "# set up the wavenumbers\n",
      "k = [1, (nxf-1)/4, (nxf-1)/2, (nxf-1)*3/4, (nxf-2)]\n",
      "\n",
      "# initialize the mixture-wavenumber IC\n",
      "p, b, x, dxf = laplace1d_mixed_IC(nxf, k)\n",
      "\n",
      "# set up the # of grid points and spacing on the coarse grid\n",
      "nxc = int((nxf + 1) / 2)\n",
      "dxc = dxf * 2\n",
      "\n",
      "# initialize the memory space for residual and errors on the both grids\n",
      "rf = numpy.zeros(nxf)\n",
      "rc = numpy.zeros(nxc)\n",
      "ef = numpy.zeros(nxf)\n",
      "ec = numpy.zeros(nxc)\n",
      "\n",
      "# set up the criteria for the loop to stop\n",
      "tol = 1e-14\n",
      "NitrMax = int(1e10)\n",
      "\n",
      "# start to relax\n",
      "err = 10.\n",
      "itr = 0\n",
      "t1 = time.time()\n",
      "while err > tol and itr < NitrMax:\n",
      "    \n",
      "    # save previous approximated solution\n",
      "    pn = p.copy()\n",
      "    \n",
      "    # relax p on fine grid\n",
      "    p = poisson1d_GS_SingleItr(nxf, dxf, p, b)\n",
      "    \n",
      "    # calculate residual\n",
      "    rf = residual(dxf, p, b, rf)\n",
      "    \n",
      "    # transfer residual to the coarse grid\n",
      "    rC = full_weighting_1d(rf, rc)\n",
      "    \n",
      "    # relax the error on the coarse grid\n",
      "    ec[...] = 0\n",
      "    ec = poisson1d_GS_SingleItr(nxc, dxc, ec, rc)\n",
      "    \n",
      "    # transfe the error to the fine grid\n",
      "    ef = interpolation_1d(ec, ef)\n",
      "    \n",
      "    # add the error back to p\n",
      "    p += ef\n",
      "    \n",
      "    # relax p on the fine grid\n",
      "    p = poisson1d_GS_SingleItr(nxf, dxf, p, b)\n",
      "\n",
      "    # update L2 error and # of cycle\n",
      "    err = L2_error(p, pn)\n",
      "    itr += 1\n",
      "\n",
      "t2 = time.time()"
     ],
     "language": "python",
     "metadata": {},
     "outputs": [],
     "prompt_number": 12
    },
    {
     "cell_type": "markdown",
     "metadata": {},
     "source": [
      "Let's see how long this multigrid scheme takes and the exact root mean square error after it converge."
     ]
    },
    {
     "cell_type": "code",
     "collapsed": false,
     "input": [
      "print \"# of Grid points: \", nxf\n",
      "print \"Computing time (multigrid, two-grid correction): \", t2-t1, \" sec\"\n",
      "print \"Root mean square of exact error: \", RMS(p)"
     ],
     "language": "python",
     "metadata": {},
     "outputs": [
      {
       "output_type": "stream",
       "stream": "stdout",
       "text": [
        "# of Grid points:  513\n",
        "Computing time (multigrid, two-grid correction):  8.45287203789  sec\n",
        "Root mean square of exact error:  8.28067267674e-15\n"
       ]
      }
     ],
     "prompt_number": 13
    },
    {
     "cell_type": "markdown",
     "metadata": {},
     "source": [
      "It costs about $8$ seconds. Now we want to know if this multigrid scheme improve the efficiency. We perform a single-grid relaxation as shown below."
     ]
    },
    {
     "cell_type": "heading",
     "level": 3,
     "metadata": {},
     "source": [
      "Don't forget to explain the machine used."
     ]
    },
    {
     "cell_type": "code",
     "collapsed": false,
     "input": [
      "# set up the # of grid points on the fine grid\n",
      "nx = 513\n",
      "\n",
      "# set up the wavenumbers\n",
      "k = [1, (nx-1)/4, (nx-1)/2, (nx-1)*3/4, (nx-2)]\n",
      "\n",
      "# initialize the mixture-wavenumber IC\n",
      "p, b, x, dx = laplace1d_mixed_IC(nx, k)\n",
      "\n",
      "# set up the criteria for the loop to stop\n",
      "tol = 1e-14\n",
      "NitrMax = int(1e10)\n",
      "\n",
      "# start to relax\n",
      "err = 10.\n",
      "itr = 0\n",
      "t1 = time.time()\n",
      "while err > tol and itr < NitrMax:\n",
      "    \n",
      "    # save previous approximated solution\n",
      "    pn = p.copy()\n",
      "    \n",
      "    # solve p on fine grid\n",
      "    p = poisson1d_GS_SingleItr(nx, dx, p, b)\n",
      "    \n",
      "    # update L2 error and # of iteration\n",
      "    err = L2_error(p, pn)\n",
      "    itr += 1\n",
      "\n",
      "t2 = time.time()\n",
      "\n",
      "print \"# of Grid points: \", nx\n",
      "print \"Computing time (singlegrid): \", t2-t1, \" sec\"\n",
      "print \"Root mean square of exact error: \", RMS(p)"
     ],
     "language": "python",
     "metadata": {},
     "outputs": [
      {
       "output_type": "stream",
       "stream": "stdout",
       "text": [
        "# of Grid points:  513\n",
        "Computing time (singlegrid):  21.4068191051  sec\n",
        "Root mean square of exact error:  8.28067267817e-15\n"
       ]
      }
     ],
     "prompt_number": 14
    },
    {
     "cell_type": "markdown",
     "metadata": {},
     "source": [
      "Good! The single-grid relaxation takes about $20$ seconds to converge to the same criterion. This means our simplest multigrid scheme indeed works!!!"
     ]
    },
    {
     "cell_type": "heading",
     "level": 3,
     "metadata": {},
     "source": [
      "Example 2: 2D Laplace equation with Nuemann BC"
     ]
    },
    {
     "cell_type": "heading",
     "level": 4,
     "metadata": {},
     "source": [
      "Problem description"
     ]
    },
    {
     "cell_type": "markdown",
     "metadata": {},
     "source": [
      "let's try more on this simplest multigrid scheme. Consider the same 2D Laplace problem provided previously:\n",
      "\n",
      "\\begin{equation}\n",
      "\\frac{\\partial ^2 p}{\\partial x^2} + \\frac{\\partial ^2 p}{\\partial y^2} = 0\n",
      "\\end{equation}\n",
      "\n",
      "and the same boundary conditions\n",
      "\n",
      "\\begin{equation}\n",
      "\\left\\{\n",
      "\\begin{array}{ll}\n",
      "p=0 && \\text{ at } x=0 \\\\\n",
      "\\frac{\\partial p}{\\partial x} = 0 && \\text{ at } x = L \\\\\n",
      "p = 0 && \\text{ at }y = 0 \\\\\n",
      "p = \\sin \\left(  \\frac{\\frac{3}{2}\\pi x}{L} \\right) && \\text{ at } y = H\n",
      "\\end{array}\n",
      "\\right.\n",
      "\\end{equation}\n",
      "\n",
      "where $L=1$ and $H=1$ are the sizes of the domain in the $x$ and $y$ directions, respectively.\n",
      "\n",
      "The initial condition is\n",
      "\n",
      "\\begin{equation}\n",
      "p = \\sin \\left(  \\frac{\\frac{3}{2}\\pi x}{L} \\right) \\text{ at } y=H\n",
      "\\end{equation}\n",
      "\n",
      "We will again use both single-grid and multigrid scheme to solve this problem and then make a comparison of the computing time between them. The Laplace equation is actually a special case of the Poisson equation, we thus use the Poisson solver directly. In this notebook, we only consider the case that the numbers of grid points on both x and y directions are the same, that is, $N_x=N_y$, which also implies $dx=dy$ since $L=H$.\n",
      "\n",
      "The analytical solution is\n",
      "\n",
      "\\begin{equation}\n",
      "p(x,y) = \\frac{\\sinh \\left( \\frac{\\frac{3}{2} \\pi y}{L}\\right)}{\\sinh \\left(  \\frac{\\frac{3}{2} \\pi H}{L}\\right)} \\sin \\left( \\frac{\\frac{3}{2} \\pi x}{L} \\right)\n",
      "\\end{equation}"
     ]
    },
    {
     "cell_type": "code",
     "collapsed": false,
     "input": [
      "def p_analytical(x, y):\n",
      "    '''\n",
      "    Analytical solution of the model problem: \n",
      "    2D Laplace equation with Neumann BC.\n",
      "    '''\n",
      "    X, Y = numpy.meshgrid(x,y)\n",
      "    \n",
      "    p_an = numpy.sinh(1.5 * numpy.pi * Y / x[-1]) / \\\n",
      "           (numpy.sinh(1.5 * numpy.pi * y[-1] / x[-1])) * \\\n",
      "           numpy.sin(1.5 * numpy.pi * X / x[-1])\n",
      "    \n",
      "    return p_an"
     ],
     "language": "python",
     "metadata": {},
     "outputs": [],
     "prompt_number": 15
    },
    {
     "cell_type": "heading",
     "level": 4,
     "metadata": {},
     "source": [
      "Residual"
     ]
    },
    {
     "cell_type": "markdown",
     "metadata": {},
     "source": [
      "Since now the points on one of the boundaries are unknowns, their residuals should also be calculated. Notice that the *2nd-order approximation of the Neumann boundary condition* is applied here.\n",
      "\n",
      "Another thing needs our attention is that `blitz` feature does not accept using `-1` as an index, thus we will need to input the upper limit of an array in the following functions. (However, `blitz` accepts `-1` in `slicing`. For example, `p[1:-1]` is acceptale, while `p[-1]` is not.)"
     ]
    },
    {
     "cell_type": "code",
     "collapsed": false,
     "input": [
      "def residual2d_neumann(nx, dx, pn, b, r):\n",
      "    '''\n",
      "    Calculate the residual for the 2D Poisson equation with Neumann BC.\n",
      "    Only applicable when nx=ny and dx=dy.\n",
      "    \n",
      "    Parameters:\n",
      "    ----------\n",
      "    pn: 2D array, approximated solution at a certain iteration n\n",
      "    b:  2D array, the b(x) in the Poisson eq.\n",
      "    \n",
      "    Return:\n",
      "    ----------\n",
      "    The residual r\n",
      "    '''\n",
      "    \n",
      "    # Again, we assume the boundary values of the array pn have already been 0\n",
      "    # r[0, :] = 0\n",
      "    # r[:, 0] = 0\n",
      "    # r[nx-1, :] = 0\n",
      "    \n",
      "    expr = (\"r[1:-1, 1:-1] = b[1:-1, 1:-1] - \" \n",
      "                            \"(pn[1:-1, :-2] + pn[1:-1, 2:] + \"\n",
      "                             \"pn[:-2, 1:-1] + pn[2:, 1:-1] - \"\n",
      "                             \"4 * pn[1:-1, 1:-1]) / (dx * dx);\"\n",
      "            \"r[1:-1, nx-1] = b[1:-1, nx-1] - \"\n",
      "                            \"(2 * pn[1:-1, nx-2] + \"\n",
      "                             \"pn[:-2, nx-1] + pn[2:, nx-1] - \"\n",
      "                             \"4 * pn[1:-1, nx-1]) / (dx * dx)\")\n",
      "    weave.blitz(expr, check_size=0)\n",
      "    \n",
      "    return r"
     ],
     "language": "python",
     "metadata": {},
     "outputs": [],
     "prompt_number": 16
    },
    {
     "cell_type": "markdown",
     "metadata": {},
     "source": [
      "Do you notice that there are actually two commands in `expr`? Yes, as you noticed, if we want the `blitz` to execute more than one command, we can separate the commands by a semicolon `;`. Also, since the way to pass a command to the `blitz` is through a string, we can use a pair of parenthesis to split a tring into multi-lines, if the command is too long."
     ]
    },
    {
     "cell_type": "heading",
     "level": 4,
     "metadata": {},
     "source": [
      "Restriction and interpolation in 2D"
     ]
    },
    {
     "cell_type": "markdown",
     "metadata": {},
     "source": [
      "The **full weighting restriction in 2D** case is\n",
      "\n",
      "\\begin{equation}\n",
      "v_{(i,j),c}=\n",
      "\\frac{1}{16}\n",
      "\\left[\n",
      "v_{(2i-1,2j-1),f}+v_{(2i-1,2j+1),f}+v_{(2i+1,2j-1),f}+v_{(2i+1,2j+1),f}+\n",
      "2\\left(\n",
      "v_{(2i,2j-1),f}+v_{(2i,2j+1),f}+v_{(2i-1,2j),f}+v_{(2i+1,2j),f}\n",
      "\\right)+\n",
      "4v_{(2i,2j),f}\n",
      "\\right]\n",
      "\\end{equation}\n",
      "\n",
      "and $1 \\le i,j \\le N_{x,c}-2$."
     ]
    },
    {
     "cell_type": "code",
     "collapsed": false,
     "input": [
      "def full_weighting_2d(nF, vF, nC, vC):\n",
      "    '''\n",
      "    2D full weighting restriction. Only applicable when nx=ny and dx=dy.\n",
      "    \n",
      "    Parameters\n",
      "    ----------\n",
      "    nF: integer, size of vF\n",
      "    vF: nF x nF array, the array on the fine grid\n",
      "    nC: integer, size of vC\n",
      "    vC: nC x nC array, the array on the caorse grid\n",
      "    \n",
      "    Return\n",
      "    ----------\n",
      "    vC: nC x nC array, the array on the caorse grid\n",
      "    '''\n",
      "    expr = (\"vC[0, :] = vF[0, ::2];\"\n",
      "           \"vC[nC-1, :] = vF[nF-1, ::2];\"\n",
      "           \"vC[:, 0] = vF[::2, 0];\"\n",
      "           \"vC[:, nC-1] = vF[::2, nF-1];\"\n",
      "           \"vC[1:-1, 1:-1] = (vF[1:-3:2, 1:-3:2] + vF[1:-3:2, 3:-1:2] + \"\n",
      "                   \"vF[3:-1:2, 1:-3:2] + vF[3:-1:2, 3:-1:2] + \"\n",
      "                   \"2. * (vF[2:-2:2, 1:-3:2] + vF[2:-2:2, 3:-1:2] + \"\n",
      "                         \"vF[1:-3:2, 2:-2:2] + vF[3:-1:2, 2:-2:2]) + \"\n",
      "                   \"4. * vF[2:-2:2, 2:-2:2]) / 16.0\")\n",
      "    weave.blitz(expr, check_size=0)\n",
      "    \n",
      "    return vC"
     ],
     "language": "python",
     "metadata": {},
     "outputs": [],
     "prompt_number": 17
    },
    {
     "cell_type": "markdown",
     "metadata": {},
     "source": [
      "The **interpolation in 2D** is\n",
      "\n",
      "\\begin{equation}\n",
      "\\left\\{\n",
      "\\begin{array}{ll}\n",
      "v_{(2i,2j),f}=v_{(i,j),c}, & 0 \\le i,j \\le N_{x,c}-1\\\\\n",
      "v_{(2i+1,2j),f}=\\frac{1}{2}\\left(v_{(i,j),c}+v_{(i+1,j),c}\\right),\\ \\ \\ \\ \\ \\ \\ \\ \\ \\ \\ \\ 0 \\le i \\le N_{x,c}-2, & 0 \\le j \\le N_{x,c}-1\\\\\n",
      "v_{(2i,2j+1),f}=\\frac{1}{2}\\left(v_{(i,j),c}+v_{(i,j+1),c}\\right),\\ \\ \\ \\ \\ \\ \\ \\ \\ \\ \\ \\ 0 \\le i \\le N_{x,c}-1, & 0 \\le j \\le N_{x,c}-2\\\\\n",
      "v_{(2i+1,2j+1),f}=\\frac{1}{4}\\left(v_{(i,j),c}+v_{(i+1,j),c}+v_{(i,j+1),c}+v_{(i+1,j+1),c}\\right), & 0 \\le i,j \\le N_{x,c}-2\n",
      "\\end{array}\n",
      "\\right.\n",
      "\\end{equation}"
     ]
    },
    {
     "cell_type": "code",
     "collapsed": false,
     "input": [
      "def interpolation_2d(vC, vF):\n",
      "    '''\n",
      "    2D interpolation. Only applicable when nx=ny and dx=dy.\n",
      "    \n",
      "    Parameters\n",
      "    ----------\n",
      "    vC: 2D array, the array on the caorse grid\n",
      "    vF: 2D array, the array on the fine grid\n",
      "    \n",
      "    Return\n",
      "    ----------\n",
      "    vF: 2D array, the array on the fine grid\n",
      "    '''\n",
      "    expr = (\"vF[::2, ::2] = vC[:, :];\"\n",
      "            \"vF[1:-1:2, ::2] = 0.5 * (vC[:-1, :] + vC[1:, :]);\"\n",
      "            \"vF[::2, 1:-1:2] = 0.5 * (vC[:, :-1] + vC[:, 1:]);\"\n",
      "            \"vF[1:-1:2, 1:-1:2] = 0.25 * (vC[:-1, :-1] + \"\n",
      "                                         \"vC[1:, :-1] + \"\n",
      "                                         \"vC[:-1, 1:] + vC[1:, 1:])\")\n",
      "    weave.blitz(expr, check_size=0)\n",
      "    return vF"
     ],
     "language": "python",
     "metadata": {},
     "outputs": [],
     "prompt_number": 18
    },
    {
     "cell_type": "heading",
     "level": 5,
     "metadata": {},
     "source": [
      "Challenge"
     ]
    },
    {
     "cell_type": "markdown",
     "metadata": {},
     "source": [
      "*In our current example, directly transfering boundary values, as it is for the Dirichlet boundary condition, doesn't make obvious impact, but can you derive a new version of restriction and interpolation for the Neumann boundary condition? (Hint 1: consider 2nd-order approximation of the Neumann boundary condition; Hint2: see reference [3])*"
     ]
    },
    {
     "cell_type": "heading",
     "level": 4,
     "metadata": {},
     "source": [
      "Gauss-Seidel method for 2D Poisson equation"
     ]
    },
    {
     "cell_type": "markdown",
     "metadata": {},
     "source": [
      "We still use the Gauss-Seidel method here. Don't forget the 2nd-order approxomation of the Neumann boundary condition!"
     ]
    },
    {
     "cell_type": "code",
     "collapsed": false,
     "input": [
      "def poisson2d_GS_neumann_SingleItr(nx, dx, p, b):\n",
      "    '''\n",
      "    Solves the 2D Poisson equation with one Neumann boundary. \n",
      "    Gauss-Seidel method is used. Only applicable when nx=ny and dx=dy.\n",
      "    \n",
      "    Parameters:\n",
      "    ----------\n",
      "    nx: integer, the leading size of p\n",
      "    dx: float, the spacing between two grid points\n",
      "    p: nx by nx array, unknowns in the 2D Poisson eq.\n",
      "    b: nx by nx array, 0th-order derivative term in the Poisson eq.\n",
      "        \n",
      "    Returns:\n",
      "    -------\n",
      "    p: nx by nx array, approximated soln. of unknowns in the 2D Poisson eq.\n",
      "    '''\n",
      "    expr = (\"p[1:-1, 1:-1] = .25 * (p[1:-1, 2:] + p[1:-1, :-2] + \"\n",
      "                                   \"p[2:, 1:-1] + p[:-2, 1:-1] - \"\n",
      "                                   \"dx * dx * b[1:-1, 1:-1]);\"\n",
      "            \"p[1:-1, nx-1] = .25 * (2 * p[1:-1, nx-2] + \"\n",
      "                                   \"p[2:, nx-1] + p[:-2, nx-1] - \"\n",
      "                                   \"dx * dx * b[1:-1, nx-1])\")\n",
      "    weave.blitz(expr, check_size=0)\n",
      "    \n",
      "    return p "
     ],
     "language": "python",
     "metadata": {},
     "outputs": [],
     "prompt_number": 19
    },
    {
     "cell_type": "heading",
     "level": 4,
     "metadata": {},
     "source": [
      "Initialization"
     ]
    },
    {
     "cell_type": "markdown",
     "metadata": {},
     "source": [
      "Before we start to calculate, we will need a function to initialize the calculation."
     ]
    },
    {
     "cell_type": "code",
     "collapsed": false,
     "input": [
      "def laplace2d_IC_neumann(nx):\n",
      "    '''\n",
      "    Initialize the 2D Laplace problem with one Neumann boundary \n",
      "    condition. Only applicable when nx=ny and dx=dy.\n",
      "    \n",
      "    Parameters:\n",
      "    ----------\n",
      "    nx: integer, the number of grid points on the x direction.\n",
      "    \n",
      "    Return:\n",
      "    ----------\n",
      "    p: nx by nx array, unknowns in the 2D Poisson eq.\n",
      "    b: nx by nx array, 0th-order derivative term in the Poisson eq.\n",
      "    x: nx by 1 array, x coordinates of grid points\n",
      "    y: nx by 1 array, y coordinates of grid points\n",
      "    dx, dy: spacing between points\n",
      "    '''\n",
      "    dx = 1.0 / (nx - 1)\n",
      "    dy = dx\n",
      "    \n",
      "    ##plotting aids\n",
      "    x = numpy.linspace(0, 1, nx)\n",
      "    y = x.copy()\n",
      "\n",
      "    ##initial conditions\n",
      "    p = numpy.zeros((nx, nx))\n",
      "\n",
      "    ##Dirichlet boundary conditions\n",
      "    p[-1,:] = numpy.sin(1.5 * numpy.pi * x / x[-1])\n",
      "    \n",
      "    b = numpy.zeros((nx, nx))\n",
      "    \n",
      "    return p, b, x, y, dx, dy"
     ],
     "language": "python",
     "metadata": {},
     "outputs": [],
     "prompt_number": 20
    },
    {
     "cell_type": "heading",
     "level": 4,
     "metadata": {},
     "source": [
      "Solve the 2D Poisson model problem now!"
     ]
    },
    {
     "cell_type": "markdown",
     "metadata": {},
     "source": [
      "The first one here is the single-grid calculation. We use `257` grid points in the example."
     ]
    },
    {
     "cell_type": "code",
     "collapsed": false,
     "input": [
      "# set up the # of grid points, nx = ny\n",
      "nx = 257\n",
      "\n",
      "# initialize the problem\n",
      "p, b, x, y, dx, dy = laplace2d_IC_neumann(nx)\n",
      "\n",
      "# obtain the exact solution\n",
      "p_exact = p_analytical(x, y)\n",
      "\n",
      "# set up the criteria for the iteration to stop\n",
      "tol = 1e-15\n",
      "NitrMax = 1e10\n",
      "\n",
      "# start the calculation\n",
      "err = 10.\n",
      "itr = 0\n",
      "t1 = time.time()\n",
      "while err > tol and itr < NitrMax:\n",
      "    \n",
      "    # save the old solution\n",
      "    pn = p.copy()\n",
      "    \n",
      "    # relax p\n",
      "    p = poisson2d_GS_neumann_SingleItr(nx, dx, p, b)\n",
      "    \n",
      "    # update the L2 error and the # of iteration\n",
      "    err = L2_error(p, pn)\n",
      "    itr += 1\n",
      "    \n",
      "t2 = time.time()"
     ],
     "language": "python",
     "metadata": {},
     "outputs": [],
     "prompt_number": 21
    },
    {
     "cell_type": "code",
     "collapsed": false,
     "input": [
      "print \"# of Grid points: \", nx\n",
      "print \"Computing time (singlegrid): \", t2-t1, \" sec\"\n",
      "print \"Root mean square of exact error: \", RMS(p - p_exact)"
     ],
     "language": "python",
     "metadata": {},
     "outputs": [
      {
       "output_type": "stream",
       "stream": "stdout",
       "text": [
        "# of Grid points:  257\n",
        "Computing time (singlegrid):  105.431947947  sec\n",
        "Root mean square of exact error:  4.48918285027e-06\n"
       ]
      }
     ],
     "prompt_number": 22
    },
    {
     "cell_type": "markdown",
     "metadata": {},
     "source": [
      "Now let's see whether our multigrid scheme can accelarate the convergence. Don't forget to initialize the residual array with `numpy.zeros`, since we assume the boundary values of the residual array are always `0`."
     ]
    },
    {
     "cell_type": "code",
     "collapsed": false,
     "input": [
      "# set up the # of grid points, nx = ny\n",
      "nxf = 257\n",
      "\n",
      "# initialize the problem\n",
      "p, b, x, y, dxf, dyf = laplace2d_IC_neumann(nxf)\n",
      "\n",
      "# obtain the exact solution\n",
      "p_exact = p_analytical(x, y)\n",
      "\n",
      "# set up the # of grid points and spacing on the coarse grid\n",
      "nxc = int((nxf + 1) / 2)\n",
      "dxc = dxf * 2\n",
      "\n",
      "# initialize the memory space for residual and errors on the both grids\n",
      "rf = numpy.zeros((nxf, nxf))\n",
      "rc = numpy.zeros((nxc, nxc))\n",
      "ef = numpy.zeros((nxf, nxf))\n",
      "ec = numpy.zeros((nxc, nxc))\n",
      "\n",
      "# set up the criteria for the iteration to stop\n",
      "tol = 1e-15\n",
      "NitrMax = 1e10\n",
      "\n",
      "# start the calculation\n",
      "err = 10.\n",
      "itr = 0\n",
      "t1 = time.time()\n",
      "while err > tol and itr < NitrMax:\n",
      "    \n",
      "    # save previous approximated solution\n",
      "    pn = p.copy()\n",
      "    \n",
      "    # relax p on fine grid\n",
      "    p = poisson2d_GS_neumann_SingleItr(nxf, dxf, p, b)\n",
      "    \n",
      "    # calculate residual\n",
      "    rf = residual2d_neumann(nxf, dxf, p, b, rf)\n",
      "    \n",
      "    # transfer residual to the coarse grid\n",
      "    rC = full_weighting_2d(nxf, rf, nxc, rc)\n",
      "    \n",
      "    # relax the error on the coarse grid\n",
      "    ec[...] = 0\n",
      "    ec = poisson2d_GS_neumann_SingleItr(nxc, dxc, ec, rc)\n",
      "    \n",
      "    # transfe the error to the fine grid\n",
      "    ef = interpolation_2d(ec, ef)\n",
      "    \n",
      "    # add the error back to p\n",
      "    p += ef\n",
      "    \n",
      "    # relax p on the fine grid\n",
      "    p = poisson2d_GS_neumann_SingleItr(nxf, dxf, p, b)\n",
      "\n",
      "    # update L2 error and # of cycle\n",
      "    err = L2_error(p, pn)\n",
      "    itr += 1\n",
      "    \n",
      "t2 = time.time()"
     ],
     "language": "python",
     "metadata": {},
     "outputs": [],
     "prompt_number": 23
    },
    {
     "cell_type": "code",
     "collapsed": false,
     "input": [
      "print \"# of Grid points: \", nxf\n",
      "print \"Computing time (singlegrid): \", t2-t1, \" sec\"\n",
      "print \"Root mean square of exact error: \", RMS(p - p_exact)"
     ],
     "language": "python",
     "metadata": {},
     "outputs": [
      {
       "output_type": "stream",
       "stream": "stdout",
       "text": [
        "# of Grid points:  257\n",
        "Computing time (singlegrid):  50.9536218643  sec\n",
        "Root mean square of exact error:  4.48918285411e-06\n"
       ]
      }
     ],
     "prompt_number": 24
    },
    {
     "cell_type": "markdown",
     "metadata": {},
     "source": [
      "Nice! We again show the power of multigrid! Using multigrid scheme, we accelarate the speed by a factor of two!"
     ]
    },
    {
     "cell_type": "heading",
     "level": 5,
     "metadata": {},
     "source": [
      "Challenge"
     ]
    },
    {
     "cell_type": "markdown",
     "metadata": {},
     "source": [
      "*Try to develop your own codes that can deal with the case that has different `nx` and `ny` or has different `dx` and `dy`.*"
     ]
    },
    {
     "cell_type": "heading",
     "level": 5,
     "metadata": {},
     "source": [
      "Challenge"
     ]
    },
    {
     "cell_type": "markdown",
     "metadata": {},
     "source": [
      "*Try to develop your own multigrid codes that can solve the 2D Poisson model problem we used in the previous notebook.*"
     ]
    },
    {
     "cell_type": "heading",
     "level": 5,
     "metadata": {},
     "source": [
      "Dig deeper"
     ]
    },
    {
     "cell_type": "markdown",
     "metadata": {},
     "source": [
      "*What we taught here is the simplest multigrid scheme. Based on the same basic concept, there are still many other schemes. You can always search them on the internet or read the references if you are willing to learn more!*"
     ]
    },
    {
     "cell_type": "heading",
     "level": 2,
     "metadata": {},
     "source": [
      "Reference"
     ]
    },
    {
     "cell_type": "markdown",
     "metadata": {},
     "source": [
      "1. [Aliasing](http://nbviewer.ipython.org/github/ketch/teaching-numerics-with-notebooks/blob/master/Aliasing.ipynb)  \n",
      "2. William L. Griggs, Van Emden Henson, and Steve F. McCormick, [*A Multigrid Tutorial*](https://play.google.com/store/books/details/William_L_Briggs_A_Multigrid_Tutorial?id=ahklDynzz8cC), SIAM, Philadephia, 2000 \n",
      "3. U. Trottenberg, C. W. Oosterlee, Anton Schu\u0308ller, [*Multigrid*](https://play.google.com/store/books/details/Ulrich_Trottenberg_Multigrid?id=9ysyNPZoR24C), Academic press, 2000"
     ]
    },
    {
     "cell_type": "code",
     "collapsed": false,
     "input": [
      "from IPython.core.display import HTML\n",
      "css_file = '../../styles/numericalmoocstyle.css'\n",
      "HTML(open(css_file, \"r\").read())"
     ],
     "language": "python",
     "metadata": {},
     "outputs": [
      {
       "html": [
        "<link href='http://fonts.googleapis.com/css?family=Alegreya+Sans:100,300,400,500,700,800,900,100italic,300italic,400italic,500italic,700italic,800italic,900italic' rel='stylesheet' type='text/css'>\n",
        "<link href='http://fonts.googleapis.com/css?family=Arvo:400,700,400italic' rel='stylesheet' type='text/css'>\n",
        "<link href='http://fonts.googleapis.com/css?family=PT+Mono' rel='stylesheet' type='text/css'>\n",
        "<link href='http://fonts.googleapis.com/css?family=Shadows+Into+Light' rel='stylesheet' type='text/css'>\n",
        "<link href='http://fonts.googleapis.com/css?family=Nixie+One' rel='stylesheet' type='text/css'>\n",
        "<style>\n",
        "\n",
        "@font-face {\n",
        "    font-family: \"Computer Modern\";\n",
        "    src: url('http://mirrors.ctan.org/fonts/cm-unicode/fonts/otf/cmunss.otf');\n",
        "}\n",
        "\n",
        "#notebook_panel { /* main background */\n",
        "    background: rgb(245,245,245);\n",
        "}\n",
        "\n",
        "div.cell { /* set cell width */\n",
        "    width: 750px;\n",
        "}\n",
        "\n",
        "div #notebook { /* centre the content */\n",
        "    background: #fff; /* white background for content */\n",
        "    width: 1000px;\n",
        "    margin: auto;\n",
        "    padding-left: 0em;\n",
        "}\n",
        "\n",
        "#notebook li { /* More space between bullet points */\n",
        "margin-top:0.8em;\n",
        "}\n",
        "\n",
        "/* draw border around running cells */\n",
        "div.cell.border-box-sizing.code_cell.running { \n",
        "    border: 1px solid #111;\n",
        "}\n",
        "\n",
        "/* Put a solid color box around each cell and its output, visually linking them*/\n",
        "div.cell.code_cell {\n",
        "    background-color: rgb(256,256,256); \n",
        "    border-radius: 0px; \n",
        "    padding: 0.5em;\n",
        "    margin-left:1em;\n",
        "    margin-top: 1em;\n",
        "}\n",
        "\n",
        "div.text_cell_render{\n",
        "    font-family: 'Alegreya Sans' sans-serif;\n",
        "    line-height: 140%;\n",
        "    font-size: 125%;\n",
        "    font-weight: 400;\n",
        "    width:600px;\n",
        "    margin-left:auto;\n",
        "    margin-right:auto;\n",
        "}\n",
        "\n",
        "\n",
        "/* Formatting for header cells */\n",
        ".text_cell_render h1 {\n",
        "    font-family: 'Nixie One', serif;\n",
        "    font-style:regular;\n",
        "    font-weight: 400;    \n",
        "    font-size: 45pt;\n",
        "    line-height: 100%;\n",
        "    color: rgb(0,51,102);\n",
        "    margin-bottom: 0.5em;\n",
        "    margin-top: 0.5em;\n",
        "    display: block;\n",
        "}\t\n",
        ".text_cell_render h2 {\n",
        "    font-family: 'Nixie One', serif;\n",
        "    font-weight: 400;\n",
        "    font-size: 30pt;\n",
        "    line-height: 100%;\n",
        "    color: rgb(0,51,102);\n",
        "    margin-bottom: 0.1em;\n",
        "    margin-top: 0.3em;\n",
        "    display: block;\n",
        "}\t\n",
        "\n",
        ".text_cell_render h3 {\n",
        "    font-family: 'Nixie One', serif;\n",
        "    margin-top:16px;\n",
        "\tfont-size: 22pt;\n",
        "    font-weight: 600;\n",
        "    margin-bottom: 3px;\n",
        "    font-style: regular;\n",
        "    color: rgb(102,102,0);\n",
        "}\n",
        "\n",
        ".text_cell_render h4 {    /*Use this for captions*/\n",
        "    font-family: 'Nixie One', serif;\n",
        "    font-size: 14pt;\n",
        "    text-align: center;\n",
        "    margin-top: 0em;\n",
        "    margin-bottom: 2em;\n",
        "    font-style: regular;\n",
        "}\n",
        "\n",
        ".text_cell_render h5 {  /*Use this for small titles*/\n",
        "    font-family: 'Nixie One', sans-serif;\n",
        "    font-weight: 400;\n",
        "    font-size: 16pt;\n",
        "    color: rgb(163,0,0);\n",
        "    font-style: italic;\n",
        "    margin-bottom: .1em;\n",
        "    margin-top: 0.8em;\n",
        "    display: block;\n",
        "}\n",
        "\n",
        ".text_cell_render h6 { /*use this for copyright note*/\n",
        "    font-family: 'PT Mono', sans-serif;\n",
        "    font-weight: 300;\n",
        "    font-size: 9pt;\n",
        "    line-height: 100%;\n",
        "    color: grey;\n",
        "    margin-bottom: 1px;\n",
        "    margin-top: 1px;\n",
        "}\n",
        "\n",
        ".CodeMirror{\n",
        "        font-family: \"PT Mono\";\n",
        "        font-size: 90%;\n",
        "}\n",
        "\n",
        "</style>\n",
        "<script>\n",
        "    MathJax.Hub.Config({\n",
        "                        TeX: {\n",
        "                           extensions: [\"AMSmath.js\"],\n",
        "                           equationNumbers: { autoNumber: \"AMS\", useLabelIds: true}\n",
        "                           },\n",
        "                tex2jax: {\n",
        "                    inlineMath: [ ['$','$'], [\"\\\\(\",\"\\\\)\"] ],\n",
        "                    displayMath: [ ['$$','$$'], [\"\\\\[\",\"\\\\]\"] ]\n",
        "                },\n",
        "                displayAlign: 'center', // Change this to 'center' to center equations.\n",
        "                \"HTML-CSS\": {\n",
        "                    styles: {'.MathJax_Display': {\"margin\": 4}}\n",
        "                }\n",
        "        });\n",
        "</script>\n"
       ],
       "metadata": {},
       "output_type": "pyout",
       "prompt_number": 25,
       "text": [
        "<IPython.core.display.HTML at 0x7f6b159ff550>"
       ]
      }
     ],
     "prompt_number": 25
    }
   ],
   "metadata": {}
  }
 ]
}