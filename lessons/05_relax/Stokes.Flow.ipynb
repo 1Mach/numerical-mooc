{
 "metadata": {
  "name": "",
  "signature": "sha256:eda03a9a0ebc19c8b0cc83ff810808e4770254d9c239344f5f248d5a270e1b53"
 },
 "nbformat": 3,
 "nbformat_minor": 0,
 "worksheets": [
  {
   "cells": [
    {
     "cell_type": "heading",
     "level": 1,
     "metadata": {},
     "source": [
      "Relax and Hold Steady"
     ]
    },
    {
     "cell_type": "heading",
     "level": 2,
     "metadata": {},
     "source": [
      "Stokes Flow"
     ]
    },
    {
     "cell_type": "markdown",
     "metadata": {},
     "source": [
      "Stokes Flow refers to flows which are dominated by viscous forces and not by the advective/convective forces which usually rule the roost.  Also known as creeping flow, the Stokes Flow assumptions work well for flows which have a Reynolds number that approaches zero -- that is, very slow flows.  \n",
      "\n",
      "Have you ever tried pouring molasses out of a bottle?  Stokes Flow.  \n",
      "\n",
      "One benefit of examining Stokes Flow is that it allows us to simplify the Navier-Stokes equations.  Let's run through a quick derivation of the vorticity-transport equation with Stokes Flow assumptions.  "
     ]
    },
    {
     "cell_type": "heading",
     "level": 3,
     "metadata": {},
     "source": [
      "Vorticity"
     ]
    },
    {
     "cell_type": "markdown",
     "metadata": {},
     "source": []
    },
    {
     "cell_type": "heading",
     "level": 3,
     "metadata": {},
     "source": [
      "Vorticity"
     ]
    },
    {
     "cell_type": "markdown",
     "metadata": {},
     "source": [
      "We start with the Navier-Stokes equations for incompressible flow\n",
      "\n",
      "\n",
      "\\begin{equation}\n",
      "\\frac{\\partial u}{\\partial t} + u \\cdot \\nabla u = - \\frac{1}{\\rho} \\nabla p + \\nu \\nabla^2 u\n",
      "\\end{equation}"
     ]
    },
    {
     "cell_type": "markdown",
     "metadata": {},
     "source": [
      "Since we are examining Stokes Flow, we can remove the nonlinear component (as the velocity times the derivative of the velocity approaches zero for low Reynolds number flows).  \n",
      "\n",
      "\\begin{equation}\n",
      "\\frac{\\partial u}{\\partial t} = - \\frac{1}{\\rho} \\nabla p + \\nu \\nabla^2 u\n",
      "\\end{equation}"
     ]
    },
    {
     "cell_type": "markdown",
     "metadata": {},
     "source": [
      "That simplified things!  Now we take the curl of both sides and examine each element separately:\n",
      "\n",
      "\\begin{equation}\n",
      "\\omega \\times \\left(\\frac{\\partial u}{\\partial t} = - \\frac{1}{\\rho} \\nabla p + \\nu \\nabla^2 u\\right)\n",
      "\\end{equation}"
     ]
    },
    {
     "cell_type": "markdown",
     "metadata": {},
     "source": [
      "On the left-hand side\n",
      "\n",
      "\\begin{equation}\n",
      "\\nabla \\times \\frac{\\partial u}{\\partial t} = \\frac{\\partial \\omega}{\\partial t}\n",
      "\\end{equation}\n",
      "\n",
      "because $\\omega = \\nabla \\times \\vec{u}$ is the vorticity"
     ]
    },
    {
     "cell_type": "markdown",
     "metadata": {},
     "source": [
      "The first term on the right-hand side"
     ]
    },
    {
     "cell_type": "markdown",
     "metadata": {},
     "source": [
      "\\begin{equation}\n",
      "\\nabla \\times - \\frac{1}{\\rho} \\nabla p = 0\n",
      "\\end{equation}\n",
      "\n",
      "because $\\nabla \\times \\nabla \\phi = 0$ where $\\phi$ is a scalar."
     ]
    },
    {
     "cell_type": "markdown",
     "metadata": {},
     "source": [
      "Finally\n",
      "\n",
      "\\begin{equation}\n",
      "\\nabla \\times \\nu \\nabla^2 u = \\nu \\nabla^2\\omega\n",
      "\\end{equation}"
     ]
    },
    {
     "cell_type": "markdown",
     "metadata": {},
     "source": [
      "Combining all of these, we arrive at the vorticity transport equation for Stokes Flow\n",
      "\n",
      "\\begin{equation}\n",
      "\\frac{d \\omega}{d t} = \\nu \\nabla^2 \\omega\n",
      "\\end{equation}"
     ]
    },
    {
     "cell_type": "markdown",
     "metadata": {},
     "source": [
      "We will be examining steady state flows.  If we know that vorticity isn't changing in time, then the final vorticity equation is given as\n",
      "\n",
      "\\begin{equation}\n",
      "\\nabla ^2 \\omega = 0\n",
      "\\end{equation}"
     ]
    },
    {
     "cell_type": "markdown",
     "metadata": {},
     "source": [
      "Does that look familiar?"
     ]
    },
    {
     "cell_type": "heading",
     "level": 3,
     "metadata": {},
     "source": [
      "Stream function"
     ]
    },
    {
     "cell_type": "markdown",
     "metadata": {},
     "source": [
      "Define the stream function $\\psi$, such that\n",
      "\n",
      "\\begin{equation}\n",
      "u = \\frac{\\partial \\psi}{\\partial y} \\text{   and   } v = - \\frac{\\partial \\psi}{\\partial x}\n",
      "\\end{equation}"
     ]
    },
    {
     "cell_type": "markdown",
     "metadata": {},
     "source": [
      "In 2D, we can write out the vorticity as\n",
      "\n",
      "\\begin{equation}\n",
      "\\omega = \\frac{\\partial u}{\\partial y} - \\frac{\\partial v}{\\partial x}\n",
      "\\end{equation}"
     ]
    },
    {
     "cell_type": "markdown",
     "metadata": {},
     "source": [
      "which, combined with the previous equation yields another familiar looking equation:\n",
      "\n",
      "\\begin{equation}\n",
      "\\nabla^2 \\psi = \\omega\n",
      "\\end{equation}"
     ]
    },
    {
     "cell_type": "markdown",
     "metadata": {},
     "source": [
      "We have two equations that can describe the fluid flow in a lid driven cavity at very low Reynolds numbers.  \n",
      "\n",
      "\\begin{equation}\n",
      "\\nabla^2 \\omega = 0\n",
      "\\end{equation}\n",
      "\n",
      "\\begin{equation}\n",
      "\\nabla^2 \\psi = \\omega\n",
      "\\end{equation}"
     ]
    },
    {
     "cell_type": "markdown",
     "metadata": {},
     "source": [
      "Note that by substituting Equation $(13)$ into $(12)$, we arrive at a new equation -- the biharmonic equation:\n",
      "\n",
      "\\begin{equation}\n",
      "\\nabla^4 \\psi= 0\n",
      "\\end{equation}"
     ]
    },
    {
     "cell_type": "heading",
     "level": 3,
     "metadata": {},
     "source": [
      "Solving the biharmonic equation"
     ]
    },
    {
     "cell_type": "markdown",
     "metadata": {},
     "source": [
      "Is it possible to discretize a 4th-order partial differential equation?  Of course!  Are we going to?  No!\n",
      "\n",
      "There's nothing wrong with a 4th-order discretization, but we just learned about the Poisson equation and that's what we're going to use.  "
     ]
    },
    {
     "cell_type": "heading",
     "level": 3,
     "metadata": {},
     "source": [
      "Cavity Flow"
     ]
    },
    {
     "cell_type": "markdown",
     "metadata": {},
     "source": [
      "The problem we're solving in this assessment is lid-driven cavity flow.  This is a common test problem for Navier-Stokes solvers -- we'll be using it to examine Stokes flow.  \n",
      "\n",
      "The lid of a square cavity moves at a constant velocity of $u=1$.  Assuming that no fluid leaks out past the moving lid, we want to visualize what the flow field inside the cavity looks like at steady state.  \n",
      "\n",
      "All of the surfaces, including the lid, are assumed to have no-slip boundary conditions.  \n",
      "\n",
      "The boundary conditions are all specified in terms of the streamfunction $\\psi$ as shown below in Figure $(1)$.  "
     ]
    },
    {
     "cell_type": "markdown",
     "metadata": {},
     "source": [
      "<img src=\"./figures/drivencavity.svg\" width=400px>"
     ]
    },
    {
     "cell_type": "heading",
     "level": 4,
     "metadata": {},
     "source": [
      "Figure 1. Lid-driven Cavity Flow"
     ]
    },
    {
     "cell_type": "heading",
     "level": 3,
     "metadata": {},
     "source": [
      "Boundary conditions"
     ]
    },
    {
     "cell_type": "markdown",
     "metadata": {},
     "source": [
      "One of the major hurdles with the vorticity-streamfunction formulation is the treatment of boundary conditions.  \n",
      "\n",
      "The boundary conditions are all specified in terms of $\\psi$ and its derivatives, but the Laplace equation\n",
      "\n",
      "$$\\nabla \\omega^2 = 0$$\n",
      "\n",
      "has no $\\psi$ value.  Instead, we need a way to represent the boundary conditions for $\\omega$ in terms of $\\psi$.  "
     ]
    },
    {
     "cell_type": "markdown",
     "metadata": {},
     "source": []
    },
    {
     "cell_type": "markdown",
     "metadata": {},
     "source": [
      "$$\\omega_j = \\frac{\\psi_{j+1} - 2\\psi_j + \\psi_{j-1}}{\\Delta h^2}$$\n",
      "\n",
      "$$\\left.\\frac{\\partial \\psi}{\\partial y}\\right|_j = \\frac{2\\psi_{j+1} + 3\\psi_j - 6\\psi_{j-1} + \\psi_{j-2}}{6 \\Delta h}$$\n",
      "\n",
      "$$\\left.\\frac{\\partial \\psi}{\\partial y}\\right|_j = u_j$$\n",
      "\n",
      "$$\\psi_{j+1} = \\frac{6\\Delta y u_j - 3\\psi_j + 6 \\psi_{j-1} - \\psi_{j-2}}{2}$$"
     ]
    },
    {
     "cell_type": "markdown",
     "metadata": {},
     "source": [
      "\\begin{equation}\n",
      "\\omega_{i,j} = \\frac{1}{2 \\Delta h^2} (8\\psi_{i, j-1} - \\psi_{i, j-2}) + \\frac{3u_j}{\\Delta h} + \\mathcal{O}(\\Delta h^2)\n",
      "\\end{equation}"
     ]
    },
    {
     "cell_type": "markdown",
     "metadata": {},
     "source": [
      "<img src=\"./figures/contour.svg\">"
     ]
    },
    {
     "cell_type": "heading",
     "level": 3,
     "metadata": {},
     "source": [
      "References"
     ]
    },
    {
     "cell_type": "markdown",
     "metadata": {},
     "source": [
      "*  Fletcher, C. A. (1988). Computational Techniques for Fluid Dynamics: Volume 2: Specific Techniques for Different Flow Categories.\n",
      "\n",
      "*  Ghia, U. K. N. G., Ghia, K. N., & Shin, C. T. (1982). High-Re solutions for incompressible flow using the Navier-Stokes equations and a multigrid method. Journal of computational physics, 48(3), 387-411.\n",
      "\n",
      "* http://www.maths.manchester.ac.uk/~mheil/Lectures/Fluids/Material/Vorticity.pdf"
     ]
    },
    {
     "cell_type": "code",
     "collapsed": false,
     "input": [
      "from IPython.core.display import HTML\n",
      "css_file = '../../styles/numericalmoocstyle.css'\n",
      "HTML(open(css_file, \"r\").read())"
     ],
     "language": "python",
     "metadata": {},
     "outputs": [
      {
       "html": [
        "<link href='http://fonts.googleapis.com/css?family=Alegreya+Sans:100,300,400,500,700,800,900,100italic,300italic,400italic,500italic,700italic,800italic,900italic' rel='stylesheet' type='text/css'>\n",
        "<link href='http://fonts.googleapis.com/css?family=Arvo:400,700,400italic' rel='stylesheet' type='text/css'>\n",
        "<link href='http://fonts.googleapis.com/css?family=PT+Mono' rel='stylesheet' type='text/css'>\n",
        "<link href='http://fonts.googleapis.com/css?family=Shadows+Into+Light' rel='stylesheet' type='text/css'>\n",
        "<link href='http://fonts.googleapis.com/css?family=Nixie+One' rel='stylesheet' type='text/css'>\n",
        "<style>\n",
        "\n",
        "@font-face {\n",
        "    font-family: \"Computer Modern\";\n",
        "    src: url('http://mirrors.ctan.org/fonts/cm-unicode/fonts/otf/cmunss.otf');\n",
        "}\n",
        "\n",
        "#notebook_panel { /* main background */\n",
        "    background: rgb(245,245,245);\n",
        "}\n",
        "\n",
        "div.cell { /* set cell width */\n",
        "    width: 750px;\n",
        "}\n",
        "\n",
        "div #notebook { /* centre the content */\n",
        "    background: #fff; /* white background for content */\n",
        "    width: 1000px;\n",
        "    margin: auto;\n",
        "    padding-left: 0em;\n",
        "}\n",
        "\n",
        "#notebook li { /* More space between bullet points */\n",
        "margin-top:0.8em;\n",
        "}\n",
        "\n",
        "/* draw border around running cells */\n",
        "div.cell.border-box-sizing.code_cell.running { \n",
        "    border: 1px solid #111;\n",
        "}\n",
        "\n",
        "/* Put a solid color box around each cell and its output, visually linking them*/\n",
        "div.cell.code_cell {\n",
        "    background-color: rgb(256,256,256); \n",
        "    border-radius: 0px; \n",
        "    padding: 0.5em;\n",
        "    margin-left:1em;\n",
        "    margin-top: 1em;\n",
        "}\n",
        "\n",
        "div.text_cell_render{\n",
        "    font-family: 'Alegreya Sans' sans-serif;\n",
        "    line-height: 140%;\n",
        "    font-size: 125%;\n",
        "    font-weight: 400;\n",
        "    width:600px;\n",
        "    margin-left:auto;\n",
        "    margin-right:auto;\n",
        "}\n",
        "\n",
        "\n",
        "/* Formatting for header cells */\n",
        ".text_cell_render h1 {\n",
        "    font-family: 'Nixie One', serif;\n",
        "    font-style:regular;\n",
        "    font-weight: 400;    \n",
        "    font-size: 45pt;\n",
        "    line-height: 100%;\n",
        "    color: rgb(0,51,102);\n",
        "    margin-bottom: 0.5em;\n",
        "    margin-top: 0.5em;\n",
        "    display: block;\n",
        "}\t\n",
        ".text_cell_render h2 {\n",
        "    font-family: 'Nixie One', serif;\n",
        "    font-weight: 400;\n",
        "    font-size: 30pt;\n",
        "    line-height: 100%;\n",
        "    color: rgb(0,51,102);\n",
        "    margin-bottom: 0.1em;\n",
        "    margin-top: 0.3em;\n",
        "    display: block;\n",
        "}\t\n",
        "\n",
        ".text_cell_render h3 {\n",
        "    font-family: 'Nixie One', serif;\n",
        "    margin-top:16px;\n",
        "\tfont-size: 22pt;\n",
        "    font-weight: 600;\n",
        "    margin-bottom: 3px;\n",
        "    font-style: regular;\n",
        "    color: rgb(102,102,0);\n",
        "}\n",
        "\n",
        ".text_cell_render h4 {    /*Use this for captions*/\n",
        "    font-family: 'Nixie One', serif;\n",
        "    font-size: 14pt;\n",
        "    text-align: center;\n",
        "    margin-top: 0em;\n",
        "    margin-bottom: 2em;\n",
        "    font-style: regular;\n",
        "}\n",
        "\n",
        ".text_cell_render h5 {  /*Use this for small titles*/\n",
        "    font-family: 'Nixie One', sans-serif;\n",
        "    font-weight: 400;\n",
        "    font-size: 16pt;\n",
        "    color: rgb(163,0,0);\n",
        "    font-style: italic;\n",
        "    margin-bottom: .1em;\n",
        "    margin-top: 0.8em;\n",
        "    display: block;\n",
        "}\n",
        "\n",
        ".text_cell_render h6 { /*use this for copyright note*/\n",
        "    font-family: 'PT Mono', sans-serif;\n",
        "    font-weight: 300;\n",
        "    font-size: 9pt;\n",
        "    line-height: 100%;\n",
        "    color: grey;\n",
        "    margin-bottom: 1px;\n",
        "    margin-top: 1px;\n",
        "}\n",
        "\n",
        ".CodeMirror{\n",
        "        font-family: \"PT Mono\";\n",
        "        font-size: 90%;\n",
        "}\n",
        "\n",
        "</style>\n",
        "<script>\n",
        "    MathJax.Hub.Config({\n",
        "                        TeX: {\n",
        "                           extensions: [\"AMSmath.js\"],\n",
        "                           equationNumbers: { autoNumber: \"AMS\", useLabelIds: true}\n",
        "                           },\n",
        "                tex2jax: {\n",
        "                    inlineMath: [ ['$','$'], [\"\\\\(\",\"\\\\)\"] ],\n",
        "                    displayMath: [ ['$$','$$'], [\"\\\\[\",\"\\\\]\"] ]\n",
        "                },\n",
        "                displayAlign: 'center', // Change this to 'center' to center equations.\n",
        "                \"HTML-CSS\": {\n",
        "                    styles: {'.MathJax_Display': {\"margin\": 4}}\n",
        "                }\n",
        "        });\n",
        "</script>\n"
       ],
       "metadata": {},
       "output_type": "pyout",
       "prompt_number": 1,
       "text": [
        "<IPython.core.display.HTML at 0x7fd08841a650>"
       ]
      }
     ],
     "prompt_number": 1
    }
   ],
   "metadata": {}
  }
 ]
}