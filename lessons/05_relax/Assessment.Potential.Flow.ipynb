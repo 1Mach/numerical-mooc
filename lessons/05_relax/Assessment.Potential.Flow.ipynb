{
 "metadata": {
  "name": "",
  "signature": "sha256:fb657b594c68b82c311e4fcfb55676575a12dc3e5c3bd12b3d8af0155024dc29"
 },
 "nbformat": 3,
 "nbformat_minor": 0,
 "worksheets": [
  {
   "cells": [
    {
     "cell_type": "heading",
     "level": 1,
     "metadata": {},
     "source": [
      "Relax and Hold Steady"
     ]
    },
    {
     "cell_type": "heading",
     "level": 2,
     "metadata": {},
     "source": [
      "Stokes Flow"
     ]
    },
    {
     "cell_type": "markdown",
     "metadata": {},
     "source": [
      "Stokes Flow refers to flows which are dominated by viscous forces and not by the advective/convective forces which usually rule the roost.  Also known as creeping flow, the Stokes Flow assumptions work well for flows which have a Reynolds number that approaches zero -- that is, very slow flows.  \n",
      "\n",
      "Have you ever tried pouring molasses out of a bottle?  Stokes Flow.  \n",
      "\n",
      "One benefit of examining Stokes Flow is that it allows us to simplify the Navier-Stokes equations.  Let's run through a quick derivation of the vorticity-transport equation with Stokes Flow assumptions.  "
     ]
    },
    {
     "cell_type": "heading",
     "level": 3,
     "metadata": {},
     "source": [
      "Vorticity"
     ]
    },
    {
     "cell_type": "markdown",
     "metadata": {},
     "source": []
    },
    {
     "cell_type": "heading",
     "level": 3,
     "metadata": {},
     "source": [
      "Vorticity"
     ]
    },
    {
     "cell_type": "markdown",
     "metadata": {},
     "source": [
      "We start with the Navier-Stokes equations for incompressible flow\n",
      "\n",
      "\n",
      "\\begin{equation}\n",
      "\\frac{\\partial u}{\\partial t} + \\vec{u} \\cdot \\nabla \\vec{u} = - \\frac{1}{\\rho} \\nabla p + \\nu \\nabla^2 \\vec{u}\n",
      "\\end{equation}"
     ]
    },
    {
     "cell_type": "markdown",
     "metadata": {},
     "source": [
      "Since we are examining Stokes Flow, we can remove the nonlinear component (as the velocity times the derivative of the velocity approaches zero for low Reynolds number flows).  \n",
      "\n",
      "\\begin{equation}\n",
      "\\frac{\\partial u}{\\partial t} = - \\frac{1}{\\rho} \\nabla p + \\nu \\nabla^2 \\vec{u}\n",
      "\\end{equation}"
     ]
    },
    {
     "cell_type": "markdown",
     "metadata": {},
     "source": [
      "That simplified things!  Now we take the curl of both sides and examine each element separately:\n",
      "\n",
      "\\begin{equation}\n",
      "\\vec{\\omega} \\times \\left(\\frac{\\partial u}{\\partial t} = - \\frac{1}{\\rho} \\nabla p + \\nu \\nabla^2 \\vec{u}\\right)\n",
      "\\end{equation}"
     ]
    },
    {
     "cell_type": "markdown",
     "metadata": {},
     "source": [
      "On the left-hand side\n",
      "\n",
      "\\begin{equation}\n",
      "\\nabla \\times \\frac{\\partial u}{\\partial t} = \\frac{\\partial \\vec{\\omega}}{\\partial t}\n",
      "\\end{equation}\n",
      "\n",
      "because $\\omega = \\nabla \\times \\vec{u}$ is the vorticity"
     ]
    },
    {
     "cell_type": "markdown",
     "metadata": {},
     "source": [
      "The first term on the right-hand side"
     ]
    },
    {
     "cell_type": "markdown",
     "metadata": {},
     "source": [
      "\\begin{equation}\n",
      "\\nabla \\times - \\frac{1}{\\rho} \\nabla p = 0\n",
      "\\end{equation}\n",
      "\n",
      "because $\\nabla \\times \\nabla \\phi = 0$ where $\\phi$ is a scalar."
     ]
    },
    {
     "cell_type": "markdown",
     "metadata": {},
     "source": [
      "Finally\n",
      "\n",
      "\\begin{equation}\n",
      "\\nabla \\times \\nu \\nabla^2 \\vec{u} = \\nu \\nabla^2\\vec{\\omega}\n",
      "\\end{equation}"
     ]
    },
    {
     "cell_type": "markdown",
     "metadata": {},
     "source": [
      "Combining all of these, we arrive at the vorticity transport equation for Stokes Flow\n",
      "\n",
      "\\begin{equation}\n",
      "\\frac{d \\vec{\\omega}}{d t} = \\nu \\nabla^2 \\vec{\\omega}\n",
      "\\end{equation}"
     ]
    },
    {
     "cell_type": "markdown",
     "metadata": {},
     "source": [
      "We will be examining steady state flows.  If we know that vorticity isn't changing in time, then the final vorticity equation is given as\n",
      "\n",
      "\\begin{equation}\n",
      "\\nabla ^2 \\vec{\\omega} = 0\n",
      "\\end{equation}"
     ]
    },
    {
     "cell_type": "markdown",
     "metadata": {},
     "source": [
      "Does that look familiar?"
     ]
    },
    {
     "cell_type": "heading",
     "level": 3,
     "metadata": {},
     "source": [
      "Stream function"
     ]
    },
    {
     "cell_type": "markdown",
     "metadata": {},
     "source": [
      "Define the stream function $\\psi$, such that\n",
      "\n",
      "\\begin{equation}\n",
      "u = \\frac{\\partial \\psi}{\\partial y} \\text{   and   } v = - \\frac{\\partial \\psi}{\\partial x}\n",
      "\\end{equation}"
     ]
    },
    {
     "cell_type": "markdown",
     "metadata": {},
     "source": [
      "In 2D, we can write out the vorticity as\n",
      "\n",
      "\\begin{equation}\n",
      "\\vec{\\omega} = \\frac{\\partial u}{\\partial y} - \\frac{\\partial v}{\\partial x}\n",
      "\\end{equation}"
     ]
    },
    {
     "cell_type": "markdown",
     "metadata": {},
     "source": [
      "which, combined with the previous equation yields another familiar looking equation:\n",
      "\n",
      "\\begin{equation}\n",
      "\\nabla^2 \\psi = \\vec{\\omega}\n",
      "\\end{equation}"
     ]
    },
    {
     "cell_type": "markdown",
     "metadata": {},
     "source": [
      "We have two equations that can describe the fluid flow in a lid driven cavity at very low Reynolds numbers.  \n",
      "\n",
      "\\begin{equation}\n",
      "\\nabla^2 \\vec{\\omega} = 0\n",
      "\\end{equation}\n",
      "\n",
      "\\begin{equation}\n",
      "\\nabla^2 \\psi = \\vec{\\omega}\n",
      "\\end{equation}"
     ]
    },
    {
     "cell_type": "markdown",
     "metadata": {},
     "source": [
      "Note that by substituting Equation $(13)$ into $(12)$, we arrive at a new equation -- the biharmonic equation:\n",
      "\n",
      "\\begin{equation}\n",
      "\\nabla^4 \\psi= 0\n",
      "\\end{equation}"
     ]
    },
    {
     "cell_type": "heading",
     "level": 3,
     "metadata": {},
     "source": [
      "Solving the biharmonic equation"
     ]
    },
    {
     "cell_type": "code",
     "collapsed": false,
     "input": [],
     "language": "python",
     "metadata": {},
     "outputs": []
    },
    {
     "cell_type": "markdown",
     "metadata": {},
     "source": [
      "<img src=\"./figures/drivencavity.svg\" width=400px>"
     ]
    },
    {
     "cell_type": "code",
     "collapsed": false,
     "input": [],
     "language": "python",
     "metadata": {},
     "outputs": []
    },
    {
     "cell_type": "markdown",
     "metadata": {},
     "source": [
      "<img src=\"./figures/contour.svg\">"
     ]
    },
    {
     "cell_type": "code",
     "collapsed": false,
     "input": [
      "from IPython.core.display import HTML\n",
      "css_file = '../../styles/numericalmoocstyle.css'\n",
      "HTML(open(css_file, \"r\").read())"
     ],
     "language": "python",
     "metadata": {},
     "outputs": []
    },
    {
     "cell_type": "code",
     "collapsed": false,
     "input": [],
     "language": "python",
     "metadata": {},
     "outputs": []
    }
   ],
   "metadata": {}
  }
 ]
}