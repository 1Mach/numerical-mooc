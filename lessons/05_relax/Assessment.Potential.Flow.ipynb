{
 "metadata": {
  "name": "",
  "signature": "sha256:331ab9847ef87568b73e4c6c7f5f2ba7f347d4fc7f28e5b704b0a0e61fdcb65e"
 },
 "nbformat": 3,
 "nbformat_minor": 0,
 "worksheets": [
  {
   "cells": [
    {
     "cell_type": "markdown",
     "metadata": {},
     "source": [
      "Navier Stokes equations for incompressible flow\n",
      "\n",
      "\n",
      "\\begin{equation}\n",
      "\\frac{\\partial u}{\\partial t} + \\vec{u} \\cdot \\nabla \\vec{u} = - \\frac{1}{\\rho} \\nabla p + \\nu \\nabla^2 \\vec{u}\n",
      "\\end{equation}"
     ]
    },
    {
     "cell_type": "markdown",
     "metadata": {},
     "source": [
      "Now take the curl of both sides and treat each element separately:\n",
      "\n",
      "\\begin{equation}\n",
      "\\nabla \\times \\frac{\\partial u}{\\partial t} = \\frac{\\partial \\vec{\\omega}}{\\partial t}\n",
      "\\end{equation}\n",
      "\n",
      "where $\\omega = \\nabla \\times \\vec{u}$ is the vorticity"
     ]
    },
    {
     "cell_type": "markdown",
     "metadata": {},
     "source": [
      "\\begin{equation}\n",
      "\\vec{u} \\cdot \\nabla \\vec{u} = \\frac{1}{2} \\nabla (\\vec{u} \\cdot \\vec{u}) - \\vec{u} \\times (\\nabla \\times \\vec{u}) = \\frac{1}{2}\\nabla \\vec{u} \\cdot \\vec{u} - \\vec{u} \\times \\vec{\\omega}\n",
      "\\end{equation}"
     ]
    },
    {
     "cell_type": "markdown",
     "metadata": {},
     "source": [
      "Because $\\nabla \\times \\nabla \\vec{u} = 0$\n",
      "\n",
      "\\begin{align}\n",
      "\\nabla \\times (\\vec{u} \\cdot \\nabla)\\vec{u} &= (\\vec{u} \\cdot \\nabla)\\vec{\\omega} - (\\vec{\\omega} \\cdot \\nabla ) \\vec{u} + \\vec{\\omega} (\\nabla \\cdot \\vec{u}) + \\vec{u}(\\nabla \\cdot \\vec{\\omega})\\\\\n",
      "&= (\\vec{u} \\cdot \\nabla)\\vec{\\omega} - (\\vec{\\omega} \\cdot \\nabla ) \\vec{u}\n",
      "\\end{align}"
     ]
    },
    {
     "cell_type": "markdown",
     "metadata": {},
     "source": [
      "because\n",
      "\\begin{align}\n",
      "\\nabla \\cdot \\vec{u} &= 0 \\\\\n",
      "\\nabla \\cdot \\vec{\\omega} = \\nabla \\cdot \\nabla \\times \\vec{u} &= 0\n",
      "\\end{align}"
     ]
    },
    {
     "cell_type": "markdown",
     "metadata": {},
     "source": [
      "\\begin{equation}\n",
      "\\nabla \\times - \\frac{1}{\\rho} \\nabla p = 0\n",
      "\\end{equation}\n",
      "\n",
      "because $\\nabla \\times \\nabla \\phi = 0$ where $\\phi$ is a scalar"
     ]
    },
    {
     "cell_type": "markdown",
     "metadata": {},
     "source": [
      "Finally\n",
      "\n",
      "\\begin{equation}\n",
      "\\nabla \\times \\nu \\nabla^2 \\vec{u} = \\nu \\nabla^2\\vec{\\omega}\n",
      "\\end{equation}"
     ]
    },
    {
     "cell_type": "markdown",
     "metadata": {},
     "source": [
      "Combining all of these, we arrive at the vorticity transport equation\n",
      "\n",
      "\\begin{equation}\n",
      "\\frac{D \\vec{\\omega}}{D t} = (\\vec{\\omega} \\cdot \\nabla)\\vec{u} + \\nu \\nabla^2 \\vec{\\omega}\n",
      "\\end{equation}"
     ]
    },
    {
     "cell_type": "markdown",
     "metadata": {},
     "source": [
      "where $\\frac{D\\vec{\\omega}}{Dt}$ is the [material derivative](http://en.wikipedia.org/wiki/Material_derivative)."
     ]
    },
    {
     "cell_type": "markdown",
     "metadata": {},
     "source": [
      "For 2D flows, like those we examine in this assessment, \n",
      "\n",
      "\\begin{align}\n",
      "\\omega_x &= 0 \\\\ \n",
      "\\omega_y &= 0 \\\\\n",
      "\\frac{\\partial}{\\partial x} &= 0\n",
      "\\end{align}"
     ]
    },
    {
     "cell_type": "markdown",
     "metadata": {},
     "source": [
      "Therefore Equation $()$ becomes\n",
      "\n",
      "\\begin{equation}\n",
      "\\frac{D \\vec{\\omega}}{D t} = \\nu \\nabla^2 \\vec{\\omega}\n",
      "\\end{equation}"
     ]
    },
    {
     "cell_type": "markdown",
     "metadata": {},
     "source": [
      "As the Reynolds number approaches zero (very slow moving flows) the material derivative goes to zero, leaving a familiar looking equation for the vorticity:\n",
      "\n",
      "\\begin{equation}\n",
      "\\nabla^2 \\vec{\\omega} = 0\n",
      "\\end{equation}"
     ]
    },
    {
     "cell_type": "markdown",
     "metadata": {},
     "source": [
      "Define the stream function $\\psi$, such that\n",
      "\n",
      "\\begin{equation}\n",
      "u = \\frac{\\partial \\psi}{\\partial y} \\text{   and   } v = - \\frac{\\partial \\psi}{\\partial x}\n",
      "\\end{equation}"
     ]
    },
    {
     "cell_type": "markdown",
     "metadata": {},
     "source": [
      "In 2D, we can write out the vorticity as\n",
      "\n",
      "\\begin{equation}\n",
      "\\vec{\\omega} = \\frac{\\partial u}{\\partial y} - \\frac{\\partial v}{\\partial x}\n",
      "\\end{equation}"
     ]
    },
    {
     "cell_type": "markdown",
     "metadata": {},
     "source": [
      "which, combined with the previous equation yields another familiar looking equation:\n",
      "\n",
      "\\begin{equation}\n",
      "\\nabla^2 \\psi = \\vec{\\omega}\n",
      "\\end{equation}"
     ]
    },
    {
     "cell_type": "markdown",
     "metadata": {},
     "source": [
      "<img src=\"./figures/drivencavity.svg\">"
     ]
    },
    {
     "cell_type": "code",
     "collapsed": false,
     "input": [
      "<img src=\""
     ],
     "language": "python",
     "metadata": {},
     "outputs": [],
     "prompt_number": 4
    },
    {
     "cell_type": "code",
     "collapsed": false,
     "input": [
      "from IPython.core.display import HTML\n",
      "css_file = '../../styles/numericalmoocstyle.css'\n",
      "HTML(open(css_file, \"r\").read())"
     ],
     "language": "python",
     "metadata": {},
     "outputs": [
      {
       "html": [
        "<link href='http://fonts.googleapis.com/css?family=Alegreya+Sans:100,300,400,500,700,800,900,100italic,300italic,400italic,500italic,700italic,800italic,900italic' rel='stylesheet' type='text/css'>\n",
        "<link href='http://fonts.googleapis.com/css?family=Arvo:400,700,400italic' rel='stylesheet' type='text/css'>\n",
        "<link href='http://fonts.googleapis.com/css?family=PT+Mono' rel='stylesheet' type='text/css'>\n",
        "<link href='http://fonts.googleapis.com/css?family=Shadows+Into+Light' rel='stylesheet' type='text/css'>\n",
        "<link href='http://fonts.googleapis.com/css?family=Nixie+One' rel='stylesheet' type='text/css'>\n",
        "<style>\n",
        "\n",
        "@font-face {\n",
        "    font-family: \"Computer Modern\";\n",
        "    src: url('http://mirrors.ctan.org/fonts/cm-unicode/fonts/otf/cmunss.otf');\n",
        "}\n",
        "\n",
        "#notebook_panel { /* main background */\n",
        "    background: rgb(245,245,245);\n",
        "}\n",
        "\n",
        "div.cell { /* set cell width */\n",
        "    width: 750px;\n",
        "}\n",
        "\n",
        "div #notebook { /* centre the content */\n",
        "    background: #fff; /* white background for content */\n",
        "    width: 1000px;\n",
        "    margin: auto;\n",
        "    padding-left: 0em;\n",
        "}\n",
        "\n",
        "#notebook li { /* More space between bullet points */\n",
        "margin-top:0.8em;\n",
        "}\n",
        "\n",
        "/* draw border around running cells */\n",
        "div.cell.border-box-sizing.code_cell.running { \n",
        "    border: 1px solid #111;\n",
        "}\n",
        "\n",
        "/* Put a solid color box around each cell and its output, visually linking them*/\n",
        "div.cell.code_cell {\n",
        "    background-color: rgb(256,256,256); \n",
        "    border-radius: 0px; \n",
        "    padding: 0.5em;\n",
        "    margin-left:1em;\n",
        "    margin-top: 1em;\n",
        "}\n",
        "\n",
        "div.text_cell_render{\n",
        "    font-family: 'Alegreya Sans' sans-serif;\n",
        "    line-height: 140%;\n",
        "    font-size: 125%;\n",
        "    font-weight: 400;\n",
        "    width:600px;\n",
        "    margin-left:auto;\n",
        "    margin-right:auto;\n",
        "}\n",
        "\n",
        "\n",
        "/* Formatting for header cells */\n",
        ".text_cell_render h1 {\n",
        "    font-family: 'Nixie One', serif;\n",
        "    font-style:regular;\n",
        "    font-weight: 400;    \n",
        "    font-size: 45pt;\n",
        "    line-height: 100%;\n",
        "    color: rgb(0,51,102);\n",
        "    margin-bottom: 0.5em;\n",
        "    margin-top: 0.5em;\n",
        "    display: block;\n",
        "}\t\n",
        ".text_cell_render h2 {\n",
        "    font-family: 'Nixie One', serif;\n",
        "    font-weight: 400;\n",
        "    font-size: 30pt;\n",
        "    line-height: 100%;\n",
        "    color: rgb(0,51,102);\n",
        "    margin-bottom: 0.1em;\n",
        "    margin-top: 0.3em;\n",
        "    display: block;\n",
        "}\t\n",
        "\n",
        ".text_cell_render h3 {\n",
        "    font-family: 'Nixie One', serif;\n",
        "    margin-top:16px;\n",
        "\tfont-size: 22pt;\n",
        "    font-weight: 600;\n",
        "    margin-bottom: 3px;\n",
        "    font-style: regular;\n",
        "    color: rgb(102,102,0);\n",
        "}\n",
        "\n",
        ".text_cell_render h4 {    /*Use this for captions*/\n",
        "    font-family: 'Nixie One', serif;\n",
        "    font-size: 14pt;\n",
        "    text-align: center;\n",
        "    margin-top: 0em;\n",
        "    margin-bottom: 2em;\n",
        "    font-style: regular;\n",
        "}\n",
        "\n",
        ".text_cell_render h5 {  /*Use this for small titles*/\n",
        "    font-family: 'Nixie One', sans-serif;\n",
        "    font-weight: 400;\n",
        "    font-size: 16pt;\n",
        "    color: rgb(163,0,0);\n",
        "    font-style: italic;\n",
        "    margin-bottom: .1em;\n",
        "    margin-top: 0.8em;\n",
        "    display: block;\n",
        "}\n",
        "\n",
        ".text_cell_render h6 { /*use this for copyright note*/\n",
        "    font-family: 'PT Mono', sans-serif;\n",
        "    font-weight: 300;\n",
        "    font-size: 9pt;\n",
        "    line-height: 100%;\n",
        "    color: grey;\n",
        "    margin-bottom: 1px;\n",
        "    margin-top: 1px;\n",
        "}\n",
        "\n",
        ".CodeMirror{\n",
        "        font-family: \"PT Mono\";\n",
        "        font-size: 90%;\n",
        "}\n",
        "\n",
        "</style>\n",
        "<script>\n",
        "    MathJax.Hub.Config({\n",
        "                        TeX: {\n",
        "                           extensions: [\"AMSmath.js, cancel.js\"],\n",
        "                           equationNumbers: { autoNumber: \"AMS\", useLabelIds: true}\n",
        "                           },\n",
        "                tex2jax: {\n",
        "                    inlineMath: [ ['$','$'], [\"\\\\(\",\"\\\\)\"] ],\n",
        "                    displayMath: [ ['$$','$$'], [\"\\\\[\",\"\\\\]\"] ]\n",
        "                },\n",
        "                displayAlign: 'center', // Change this to 'center' to center equations.\n",
        "                \"HTML-CSS\": {\n",
        "                    styles: {'.MathJax_Display': {\"margin\": 4}}\n",
        "                }\n",
        "        });\n",
        "</script>\n"
       ],
       "metadata": {},
       "output_type": "pyout",
       "prompt_number": 2,
       "text": [
        "<IPython.core.display.HTML at 0x7f54e1ddd490>"
       ]
      }
     ],
     "prompt_number": 2
    },
    {
     "cell_type": "code",
     "collapsed": false,
     "input": [],
     "language": "python",
     "metadata": {},
     "outputs": []
    }
   ],
   "metadata": {}
  }
 ]
}