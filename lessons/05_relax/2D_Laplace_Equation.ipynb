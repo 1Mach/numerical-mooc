{
 "metadata": {
  "name": "",
  "signature": "sha256:676e310baeacbb4090c94cc8b6f3109da0c94f606efc2bb38b4166c6626af0ce"
 },
 "nbformat": 3,
 "nbformat_minor": 0,
 "worksheets": [
  {
   "cells": [
    {
     "cell_type": "heading",
     "level": 6,
     "metadata": {},
     "source": [
      "Content under Creative Commons Attribution license CC-BY 4.0, code under MIT license (c)2014 L.A. Barba, C.D. Cooper, G.F. Forsyth.  Based on [CFDPython](https://github.com/barbagroup/CFDPython), (c)2013 L.A. Barba, also under CC-BY license."
     ]
    },
    {
     "cell_type": "heading",
     "level": 1,
     "metadata": {},
     "source": [
      "Relax and hold steady"
     ]
    },
    {
     "cell_type": "markdown",
     "metadata": {},
     "source": [
      "You've reached the fifth module of the open course [**\"Practical Numerical Methods with Python\"**](http://openedx.seas.gwu.edu/courses/GW/MAE6286/2014_fall/about), titled *Relax and hold steady: elliptic problems*. We hope that you are enjoying the ride of [#numericalmooc](https://twitter.com/hashtag/numericalmooc) so far!\n",
      "\n",
      "We introduced finite-difference methods for partial differential equations (PDEs) in the [second module](http://nbviewer.ipython.org/github/numerical-mooc/numerical-mooc/tree/master/lessons/02_spacetime/), and looked at convection problems in more depth in [module 3](http://nbviewer.ipython.org/github/numerical-mooc/numerical-mooc/tree/master/lessons/03_wave/). \n",
      "\n",
      "In [module 4](http://nbviewer.ipython.org/github/numerical-mooc/numerical-mooc/tree/master/lessons/04_spreadout/) we explored diffusion-dominated problems.  It's been quite a trip so far and now it's time to stop worrying about **time** and relax.  "
     ]
    },
    {
     "cell_type": "heading",
     "level": 2,
     "metadata": {},
     "source": [
      "Laplace's Equation"
     ]
    },
    {
     "cell_type": "markdown",
     "metadata": {},
     "source": [
      "Here is Laplace's equation in 2D:\n",
      "\n",
      "\\begin{equation}\n",
      "\\frac{\\partial ^2 p}{\\partial x^2} + \\frac{\\partial ^2 p}{\\partial y^2} = 0\n",
      "\\end{equation}\n",
      "\n",
      "See anything familiar?  What should jump out at you right away is the *strong* similarity to the diffusion equation that was the focus of [module 4](http://nbviewer.ipython.org/github/numerical-mooc/numerical-mooc/tree/master/lessons/04_spreadout/), but what's different?\n",
      "\n",
      "The Laplace Equation does not have a time dependence \u2014 there is no $p^{n+1}$.  Instead of tracking a wave through time as in previous modules, the Laplace equation calculates the equilibrium state of a system under the supplied boundary conditions.  \n",
      "\n",
      "If you have taken coursework in Heat Transfer, you will recognize the Laplace Equation as the steady-state heat equation."
     ]
    },
    {
     "cell_type": "markdown",
     "metadata": {},
     "source": [
      "Laplace's equation has the features typical of diffusion phenomena. For this reason, it has to be discretized with *central differences*, so that the discretization is consistent with the physics we want to simulate. \n",
      "\n",
      "You should be able to write out a second-order central difference scheme by now.  \n",
      "\n",
      "\\begin{equation}\n",
      "\\frac{p_{i+1, j}^n - 2p_{i,j}^n + p_{i-1,j}^n}{\\Delta x^2} + \\frac{p_{i,j+1}^n - 2p_{i,j}^n + p_{i, j-1}^n}{\\Delta y^2} = 0\n",
      "\\end{equation}"
     ]
    },
    {
     "cell_type": "markdown",
     "metadata": {},
     "source": [
      "Since there is no time dependence in the Laplace Equation, instead of calculating where the system will be at some time $t$, we will iteratively solve for $p_{i,j}^{n}$ until it meets a condition that we specify.  The system will reach equilibrium only as the number of iterations tends to $\\infty$, but we can approximate the equilibrium state by iterating until the change between one iteration and the next is *very* small.  \n",
      "\n",
      "Let's rearrange the discretized equation, solving for $p_{i,j}^n$:\n",
      "\n",
      "\\begin{equation}\n",
      "p_{i,j}^n = \\frac{\\Delta y^2(p_{i+1,j}^n+p_{i-1,j}^n)+\\Delta x^2(p_{i,j+1}^n + p_{i,j-1}^n)}{2(\\Delta x^2 + \\Delta y^2)}\n",
      "\\end{equation}\n",
      "\n",
      "Using second-order central-difference schemes in both directions is the most widely applied method for the Laplace operator. It is also known as the **five-point difference operator**, alluding to its stencil.\n",
      "\n",
      "<br>"
     ]
    },
    {
     "cell_type": "markdown",
     "metadata": {},
     "source": [
      "<img src=\"./figures/laplace.svg\">"
     ]
    },
    {
     "cell_type": "heading",
     "level": 4,
     "metadata": {},
     "source": [
      "Figure 1: Laplace five-point stencil"
     ]
    },
    {
     "cell_type": "markdown",
     "metadata": {},
     "source": [
      "We are going to solve Laplace's equation numerically by assuming an initial state of $p=0$ everywhere and then add the following boundary conditions:\n",
      "\n",
      "\\begin{equation}\n",
      "  \\begin{gathered}\n",
      "p=0 \\text{ at } x=0\\\\\n",
      "\\frac{\\partial p}{\\partial x}=0 \\text{ at }x=1\\\\\n",
      "p = 0 \\text{ at }y = 0 \\\\\n",
      "p = \\sin \\left(  \\frac{\\frac{3}{2}\\pi x}{L} \\right) \\text{ at } y = 1\n",
      "  \\end{gathered}\n",
      "\\end{equation}\n"
     ]
    },
    {
     "cell_type": "markdown",
     "metadata": {},
     "source": [
      "One of the defining features of elliptic PDEs is that they are \"driven\" by the boundary conditions.  The boundaries are set to specific values and the solution relaxes to join the boundaries together.  \n",
      "\n"
     ]
    },
    {
     "cell_type": "code",
     "collapsed": false,
     "input": [
      "from mpl_toolkits.mplot3d import Axes3D\n",
      "from matplotlib import cm\n",
      "import matplotlib.pyplot as plt\n",
      "import numpy\n",
      "%matplotlib inline\n",
      "from matplotlib import rcParams\n",
      "rcParams['font.family'] = 'serif'\n",
      "rcParams['font.size'] = 16"
     ],
     "language": "python",
     "metadata": {},
     "outputs": []
    },
    {
     "cell_type": "markdown",
     "metadata": {},
     "source": [
      "Rather than repeatedly setting up a 3D plotting environment to visualize each result, we can define a function to save time later.  "
     ]
    },
    {
     "cell_type": "code",
     "collapsed": false,
     "input": [
      "def plot2D(x, y, p):\n",
      "    '''Creates 3D projection plot with appropriate limits and viewing angle\n",
      "    \n",
      "    Parameters:\n",
      "    ----------\n",
      "    x: array of float\n",
      "        nodal coordinates in x\n",
      "    y: array of float\n",
      "        nodal coordinates in y\n",
      "    p: 2D array of float\n",
      "        calculated potential field\n",
      "    \n",
      "    '''\n",
      "    fig = plt.figure(figsize=(11,7), dpi=100)\n",
      "    ax = fig.gca(projection='3d')\n",
      "    X,Y = numpy.meshgrid(x,y)\n",
      "    surf = ax.plot_surface(X,Y,p[:], rstride=1, cstride=1, cmap=cm.coolwarm,\n",
      "            linewidth=0, antialiased=False)\n",
      "\n",
      "    ax.set_xlim(0,1)\n",
      "    ax.set_ylim(0,1)\n",
      "    ax.set_xlabel('$x$')\n",
      "    ax.set_ylabel('$y$')\n",
      "    ax.set_zlabel('$z$')\n",
      "    ax.view_init(30,45)\n"
     ],
     "language": "python",
     "metadata": {},
     "outputs": []
    },
    {
     "cell_type": "markdown",
     "metadata": {},
     "source": [
      "We noted above that there is no time dependence in the Laplace equation.  Given that, using a `for` loop with `nt` iterations doesn't make a lot of sense.  \n",
      "\n",
      "Instead we can use a `while` loop that continues to iteratively solve for the solution until the difference between two successive iterations is small enough.  \n",
      "\n",
      "How small is small enough?  That's a good question.  We'll try to work that out as we go along.  \n",
      "\n",
      "How can we best compare two successive potential fields?  The [L2 norm][1] is a good option.  It's defined as\n",
      "\n",
      "\\begin{equation}\n",
      "|\\textbf{x}| = \\sqrt{\\sum_{i=0}^n |x_i|^2}\n",
      "\\end{equation}\n",
      "\n",
      "[1]:http://en.wikipedia.org/wiki/Norm_%28mathematics%29#Euclidean_norm"
     ]
    },
    {
     "cell_type": "code",
     "collapsed": false,
     "input": [
      "def L2_error(p, pn):\n",
      "    return numpy.sqrt(numpy.sum((p - pn)**2))"
     ],
     "language": "python",
     "metadata": {},
     "outputs": []
    },
    {
     "cell_type": "code",
     "collapsed": false,
     "input": [
      "def laplace2d(p, y, dx, dy, l2_target):\n",
      "    '''Solves the diffusion equation with forward-time, centered scheme\n",
      "    \n",
      "    Parameters:\n",
      "    ----------\n",
      "    p: 2D array of float\n",
      "        Initial potential distribution\n",
      "    y: array of float\n",
      "        Nodal coordinates in y\n",
      "    dx: float\n",
      "        Mesh size\n",
      "    dy: float\n",
      "        Mesh size\n",
      "    l2_target: float\n",
      "        Error target\n",
      "        \n",
      "    Returns:\n",
      "    -------\n",
      "    p: 2D array of float\n",
      "        Potential distribution after relaxation\n",
      "    '''\n",
      "    \n",
      "    l2norm = 1\n",
      "    pn = numpy.empty_like(p)\n",
      "\n",
      "    while l2norm > l2_target:\n",
      "        pn = p.copy()\n",
      "        p[1:-1,1:-1] = (dy**2*(pn[2:,1:-1] + pn[0:-2,1:-1])\\\n",
      "                        + dx**2 * (pn[1:-1,2:] + pn[1:-1,0:-2]))\\\n",
      "                        /(2*(dx**2 + dy**2)) \n",
      "            \n",
      "        p[:,0] = 0\n",
      "        p[0,:] = 0\n",
      "        p[-1,:] = numpy.sin(1.5*pi*x/x[-1])\n",
      "        p[:,-1] = p[:,-2]\n",
      "        \n",
      "        l2norm = L2_error(p, pn)\n",
      "     \n",
      "    return p"
     ],
     "language": "python",
     "metadata": {},
     "outputs": []
    },
    {
     "cell_type": "heading",
     "level": 3,
     "metadata": {},
     "source": [
      "Initial conditions"
     ]
    },
    {
     "cell_type": "code",
     "collapsed": false,
     "input": [
      "##variable declarations\n",
      "nx = 81\n",
      "ny = 81\n",
      "dx = 1.0/(nx-1)\n",
      "dy = 1.0/(ny-1)\n",
      "\n",
      "\n",
      "##initial conditions\n",
      "p = numpy.zeros((ny,nx)) ##create a XxY vector of 0's\n",
      "\n",
      "\n",
      "##plotting aids\n",
      "x = numpy.linspace(0,1,nx)\n",
      "y = numpy.linspace(0,1,ny)\n",
      "\n",
      "##boundary conditions\n",
      "p[:,0] = 0\n",
      "p[:,-1] = p[:,-2]\n",
      "p[0,:] = 0\n",
      "p[-1,:] = numpy.sin(1.5*pi*x/x[-1])\n"
     ],
     "language": "python",
     "metadata": {},
     "outputs": []
    },
    {
     "cell_type": "heading",
     "level": 3,
     "metadata": {},
     "source": [
      "Analytical Solution"
     ]
    },
    {
     "cell_type": "markdown",
     "metadata": {},
     "source": [
      "The boundary conditions listed in $(4)$ have an analytical solution, given by\n",
      "\n",
      "\\begin{equation}\n",
      "p(x,y) = \\frac{\\sinh \\left( \\frac{\\frac{3}{2} \\pi y}{L}\\right)}{\\sinh \\left(  \\frac{\\frac{3}{2} \\pi H}{L}\\right)} \\sin \\left( \\frac{\\frac{3}{2} \\pi x}{L} \\right)\n",
      "\\end{equation}\n",
      "\n",
      "where $L$ and $H$ are the length of the domain in the $x$ and $y$ directions, respectively."
     ]
    },
    {
     "cell_type": "code",
     "collapsed": false,
     "input": [
      "def p_analytical(p, x, y):\n",
      "    X, Y = numpy.meshgrid(x,y)\n",
      "    pxy = numpy.sinh(1.5*numpy.pi*Y / x[-1]) /\\\n",
      "    (numpy.sinh(1.5*numpy.pi*y[-1]/x[-1]))*numpy.sin(1.5*numpy.pi*X/x[-1])\n",
      "    \n",
      "    return pxy"
     ],
     "language": "python",
     "metadata": {},
     "outputs": []
    },
    {
     "cell_type": "code",
     "collapsed": false,
     "input": [
      "pxy = p_analytical(p, x, y)\n",
      "plot2D(x, y, pxy)"
     ],
     "language": "python",
     "metadata": {},
     "outputs": []
    },
    {
     "cell_type": "markdown",
     "metadata": {},
     "source": [
      "It worked!  This is what the solution *should* look like.  \n",
      "\n",
      "Now let's visualize the initial conditions.\n"
     ]
    },
    {
     "cell_type": "code",
     "collapsed": false,
     "input": [
      "plot2D(x, y, p)"
     ],
     "language": "python",
     "metadata": {},
     "outputs": []
    },
    {
     "cell_type": "markdown",
     "metadata": {},
     "source": [
      "The `p` array is equal to zero everywhere, except along the boundary $y = 1$.  Hopefully you can see how the relaxed solution and this initial condition are related.  \n",
      "\n",
      "Now run the iterative solver -- we can start with an L2 tolerance of $1e-2$."
     ]
    },
    {
     "cell_type": "code",
     "collapsed": false,
     "input": [
      "p = laplace2d(p, y, dx, dy,1e-2)"
     ],
     "language": "python",
     "metadata": {},
     "outputs": []
    },
    {
     "cell_type": "markdown",
     "metadata": {},
     "source": [
      "Now try plotting this new value of `p` with the newly minted `plot2D` function."
     ]
    },
    {
     "cell_type": "code",
     "collapsed": false,
     "input": [
      "plot2D(x,y,p)"
     ],
     "language": "python",
     "metadata": {},
     "outputs": []
    },
    {
     "cell_type": "markdown",
     "metadata": {},
     "source": [
      "That looks about right!  We'll need more than a simple visual check, though."
     ]
    },
    {
     "cell_type": "heading",
     "level": 2,
     "metadata": {},
     "source": [
      "Relaxation & Convergence"
     ]
    },
    {
     "cell_type": "markdown",
     "metadata": {},
     "source": [
      "Distinguish between convergence to exact solution as $\\Delta x \\rightarrow 0$ and relaxation to solution with successive iterations"
     ]
    },
    {
     "cell_type": "markdown",
     "metadata": {},
     "source": [
      "Redo initial conditions for varying grid size"
     ]
    },
    {
     "cell_type": "code",
     "collapsed": false,
     "input": [
      "def laplace_IC(nx):\n",
      "    '''Generates initial conditions for Laplace 2D problem for a \n",
      "    given number of grid points (nx) within the domain [0,1]x[0,1]\n",
      "    \n",
      "    Parameters:\n",
      "    ----------\n",
      "    nx: int\n",
      "        number of grid points in x (and implicitly y) direction\n",
      "        \n",
      "    Returns:\n",
      "    -------\n",
      "    p: 2D array of float\n",
      "        Pressure distribution after relaxation\n",
      "    x: array of float\n",
      "        linspace coordinates in x\n",
      "    y: array of float\n",
      "        linspace coordinates in y\n",
      "    dx: float\n",
      "        grid spacing in x\n",
      "    dy: float\n",
      "        grid spacing in y\n",
      "    '''\n",
      "    \n",
      "    \n",
      "    dx = 1.0/(nx-1)\n",
      "\n",
      "    ##initial conditions\n",
      "    p = numpy.zeros((nx,nx)) ##create a XxY vector of 0's\n",
      "\n",
      "    ##plotting aids\n",
      "    x = numpy.linspace(0,1,nx)\n",
      "\n",
      "    ##boundary conditions\n",
      "    p[:,0] = 0\n",
      "    p[:,-1] = p[:,-2]\n",
      "    p[0,:] = 0\n",
      "    p[-1,:] = numpy.sin(1.5*pi*x/x[-1])\n",
      "    \n",
      "    y = x\n",
      "    dy = dx\n",
      "    \n",
      "    return p, x, y, dx, dy"
     ],
     "language": "python",
     "metadata": {},
     "outputs": []
    },
    {
     "cell_type": "code",
     "collapsed": false,
     "input": [
      "p, x, y, dx, dy = laplace_IC(81)\n",
      "\n",
      "plt.plot(y, p[:,nx/2]);"
     ],
     "language": "python",
     "metadata": {},
     "outputs": []
    },
    {
     "cell_type": "code",
     "collapsed": false,
     "input": [
      "nx_values = numpy.array([11, 21, 41, 81])\n",
      "\n",
      "\n",
      "fig = plt.figure(figsize=(11,8))\n",
      "\n",
      "for i, nx in enumerate(nx_values):\n",
      "    l2_target = 1e-2\n",
      "    \n",
      "    p, x, y, dx, dy = laplace_IC(nx)\n",
      "    \n",
      "    p = laplace2d(p, y, dx, dy,l2_target)\n",
      "    \n",
      "    plt.plot(y, p[:,nx/2], label='$nx$ = {}'.format(nx))\n",
      "    pxy = p_analytical(p, x, y)\n",
      "\n",
      "plt.plot(y, pxy[:,nx/2], label='Analytical')\n",
      "\n",
      "plt.legend(loc='best');"
     ],
     "language": "python",
     "metadata": {},
     "outputs": []
    },
    {
     "cell_type": "code",
     "collapsed": false,
     "input": [
      "l2_targets = numpy.array([1e-2, 1e-3, 1e-4, 1e-5])"
     ],
     "language": "python",
     "metadata": {},
     "outputs": []
    },
    {
     "cell_type": "markdown",
     "metadata": {},
     "source": [
      "***"
     ]
    },
    {
     "cell_type": "code",
     "collapsed": false,
     "input": [
      "nx_values = numpy.asarray([11,21,41, 81, 161])\n",
      "\n",
      "error = numpy.zeros(len(nx_values))\n",
      "\n",
      "for i, nx in enumerate(nx_values):\n",
      "    ##variable declarations\n",
      "    ny = nx\n",
      "    dx = 1.0/(nx-1)\n",
      "    dy = 1.0/(ny-1)\n",
      "\n",
      "\n",
      "    ##initial conditions\n",
      "    p = numpy.zeros((ny,nx)) ##create a XxY vector of 0's\n",
      "\n",
      "\n",
      "    ##plotting aids\n",
      "    x = numpy.linspace(0,1,nx)\n",
      "    y = numpy.linspace(0,1,ny)\n",
      "\n",
      "    ##boundary conditions\n",
      "    p[:,0] = 0\n",
      "    p[:,-1] = p[:,-2]\n",
      "    p[0,:] = 0\n",
      "    p[-1,:] = numpy.sin(1.5*pi*x/x[-1])\n",
      "    \n",
      "    p = laplace2d(p, y, dx, dy,1e-8)\n",
      "    \n",
      "    X, Y = numpy.meshgrid(x,y)\n",
      "    pxy = numpy.sinh(1.5*pi*Y / x[-1]) / (sinh(1.5*pi*y[-1]/x[-1]))*numpy.sin(1.5*pi*X/x[-1])\n",
      "    \n",
      "    error[i] = L2_error(p,pxy)"
     ],
     "language": "python",
     "metadata": {},
     "outputs": []
    },
    {
     "cell_type": "code",
     "collapsed": false,
     "input": [
      "error"
     ],
     "language": "python",
     "metadata": {},
     "outputs": []
    },
    {
     "cell_type": "code",
     "collapsed": false,
     "input": [
      "plt.figure(figsize=(6,6))\n",
      "plt.grid(True)\n",
      "plt.xlabel(r'$n_x$', fontsize=18)\n",
      "plt.ylabel(r'$L_2$-norm of the error', fontsize=18)\n",
      "#plt.xlim(1e-7,1)\n",
      "#plt.ylim(1e-7,1)\n",
      "#plt.axis('equal')\n",
      "plt.loglog(nx_values, error, color='k', ls='--', lw=2, marker='o')\n",
      "plt.axis('equal');"
     ],
     "language": "python",
     "metadata": {},
     "outputs": []
    },
    {
     "cell_type": "heading",
     "level": 2,
     "metadata": {},
     "source": [
      "Learn More"
     ]
    },
    {
     "cell_type": "markdown",
     "metadata": {},
     "source": [
      "And for a detailed walk-through of the discretization of Laplace and Poisson equations (steps 9 and 10), watch **Video Lesson 12** on You Tube:"
     ]
    },
    {
     "cell_type": "code",
     "collapsed": false,
     "input": [
      "from IPython.display import YouTubeVideo\n",
      "YouTubeVideo('iwL8ashXhWU')"
     ],
     "language": "python",
     "metadata": {},
     "outputs": []
    },
    {
     "cell_type": "code",
     "collapsed": false,
     "input": [
      "from IPython.core.display import HTML\n",
      "css_file = '../../styles/numericalmoocstyle.css'\n",
      "HTML(open(css_file, \"r\").read())"
     ],
     "language": "python",
     "metadata": {},
     "outputs": []
    }
   ],
   "metadata": {}
  }
 ]
}