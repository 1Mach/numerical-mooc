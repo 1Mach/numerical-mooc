{
 "metadata": {
  "name": "",
  "signature": "sha256:cfe87c6be70b71b0d80c9c0f3389d67b6ff0deabe7675acd69675d23999b48a1"
 },
 "nbformat": 3,
 "nbformat_minor": 0,
 "worksheets": [
  {
   "cells": [
    {
     "cell_type": "markdown",
     "metadata": {},
     "source": [
      "Install numba and Cython\n",
      "\n",
      "With Anaconda\n",
      "\n",
      "```Bash\n",
      "conda install numba cython\n",
      "```"
     ]
    },
    {
     "cell_type": "code",
     "collapsed": false,
     "input": [
      "import numba\n",
      "import numpy"
     ],
     "language": "python",
     "metadata": {},
     "outputs": [],
     "prompt_number": 2
    },
    {
     "cell_type": "code",
     "collapsed": false,
     "input": [
      "%%timeit\n",
      "N = 1000\n",
      "x = numpy.random.random((N,N))\n",
      "y = numpy.random.random((N,N))\n",
      "\n",
      "numpy.dot(x,y)"
     ],
     "language": "python",
     "metadata": {},
     "outputs": [
      {
       "output_type": "stream",
       "stream": "stdout",
       "text": [
        "1 loops, best of 3: 209 ms per loop\n"
       ]
      }
     ],
     "prompt_number": 3
    },
    {
     "cell_type": "code",
     "collapsed": false,
     "input": [
      "@numba.jit(nopython=True)\n",
      "def matrix_multiply(A,B,C):\n",
      "    r1, c1 = A.shape\n",
      "    r2, c2 = B.shape\n",
      "    \n",
      "#    if c1 != r2:\n",
      "#        return \"Dimension mismatch\"\n",
      "    \n",
      "    for i in range(r1):\n",
      "        for j in range(c2):\n",
      "            for k in range(c1):\n",
      "                C[i,j] += A[i,k]*B[k,j]"
     ],
     "language": "python",
     "metadata": {},
     "outputs": [],
     "prompt_number": 23
    },
    {
     "cell_type": "code",
     "collapsed": false,
     "input": [
      "x = numpy.random.random((5,5))\n",
      "y = numpy.random.random((5,5))\n",
      "z = numpy.zeros((5,5))\n",
      "matrix_multiply(x,y,z)"
     ],
     "language": "python",
     "metadata": {},
     "outputs": [],
     "prompt_number": 24
    },
    {
     "cell_type": "code",
     "collapsed": false,
     "input": [
      "z"
     ],
     "language": "python",
     "metadata": {},
     "outputs": [
      {
       "metadata": {},
       "output_type": "pyout",
       "prompt_number": 25,
       "text": [
        "array([[ 2.11807875,  1.9580951 ,  2.66711143,  1.73752038,  1.35065653],\n",
        "       [ 2.0172545 ,  1.8025241 ,  2.2426145 ,  1.3665229 ,  1.01745811],\n",
        "       [ 1.47842379,  1.03906672,  1.71867467,  1.1851279 ,  0.56819759],\n",
        "       [ 1.1344244 ,  1.62948319,  1.58421566,  0.68794935,  1.14707072],\n",
        "       [ 0.59997628,  0.59721295,  0.94893668,  0.68866314,  0.36207093]])"
       ]
      }
     ],
     "prompt_number": 25
    },
    {
     "cell_type": "code",
     "collapsed": false,
     "input": [
      "numpy.dot(x,y)"
     ],
     "language": "python",
     "metadata": {},
     "outputs": [
      {
       "metadata": {},
       "output_type": "pyout",
       "prompt_number": 26,
       "text": [
        "array([[ 2.11807875,  1.9580951 ,  2.66711143,  1.73752038,  1.35065653],\n",
        "       [ 2.0172545 ,  1.8025241 ,  2.2426145 ,  1.3665229 ,  1.01745811],\n",
        "       [ 1.47842379,  1.03906672,  1.71867467,  1.1851279 ,  0.56819759],\n",
        "       [ 1.1344244 ,  1.62948319,  1.58421566,  0.68794935,  1.14707072],\n",
        "       [ 0.59997628,  0.59721295,  0.94893668,  0.68866314,  0.36207093]])"
       ]
      }
     ],
     "prompt_number": 26
    },
    {
     "cell_type": "code",
     "collapsed": false,
     "input": [
      "import time"
     ],
     "language": "python",
     "metadata": {},
     "outputs": [],
     "prompt_number": 27
    },
    {
     "cell_type": "code",
     "collapsed": false,
     "input": [
      "t = numpy.zeros(3)\n",
      "N = 1000\n",
      "x = numpy.random.random((N,N))\n",
      "y = numpy.random.random((N,N))\n",
      "z = numpy.zeros((N,N))\n",
      "for i in range(3):\n",
      "    t1 = time.time()\n",
      "    matrix_multiply(x,y,z)\n",
      "    t2 = time.time()\n",
      "    t[i] = t2-t1\n",
      "\n",
      "print \"Numba: {}\".format(t.mean())\n",
      "\n",
      "for i in range(3):\n",
      "    t1 = time.time()\n",
      "    z = numpy.dot(x,y)\n",
      "    t2 = time.time()\n",
      "    t[i] = t2-t1\n",
      "\n",
      "print \"Numpy: {}\".format(t.mean())"
     ],
     "language": "python",
     "metadata": {},
     "outputs": [
      {
       "output_type": "stream",
       "stream": "stdout",
       "text": [
        "Numba: 3.06324299177\n",
        "Numpy: 0.185827891032"
       ]
      },
      {
       "output_type": "stream",
       "stream": "stdout",
       "text": [
        "\n"
       ]
      }
     ],
     "prompt_number": 36
    },
    {
     "cell_type": "code",
     "collapsed": false,
     "input": [
      "t = numpy.zeros(3)\n",
      "N = 500\n",
      "x = numpy.random.random((N,N))\n",
      "y = numpy.random.random((N,N))\n",
      "z = numpy.zeros((N,N))\n",
      "for i in range(3):\n",
      "    t1 = time.time()\n",
      "    matrix_multiply(x,y,z)\n",
      "    t2 = time.time()\n",
      "    t[i] = t2-t1\n",
      "\n",
      "print \"Numba: {}\".format(t.mean())\n",
      "\n",
      "for i in range(3):\n",
      "    t1 = time.time()\n",
      "    z = numpy.dot(x,y)\n",
      "    t2 = time.time()\n",
      "    t[i] = t2-t1\n",
      "\n",
      "print \"Numpy: {}\".format(t.mean())"
     ],
     "language": "python",
     "metadata": {},
     "outputs": [
      {
       "output_type": "stream",
       "stream": "stdout",
       "text": [
        "Numba: 0.287485996882\n",
        "Numpy: 0.0239149729411"
       ]
      },
      {
       "output_type": "stream",
       "stream": "stdout",
       "text": [
        "\n"
       ]
      }
     ],
     "prompt_number": 37
    },
    {
     "cell_type": "code",
     "collapsed": false,
     "input": [
      "t = numpy.zeros(3)\n",
      "N = 200\n",
      "x = numpy.random.random((N,N))\n",
      "y = numpy.random.random((N,N))\n",
      "z = numpy.zeros((N,N))\n",
      "for i in range(3):\n",
      "    t1 = time.time()\n",
      "    matrix_multiply(x,y,z)\n",
      "    t2 = time.time()\n",
      "    t[i] = t2-t1\n",
      "\n",
      "print \"Numba: {}\".format(t.mean())\n",
      "\n",
      "for i in range(3):\n",
      "    t1 = time.time()\n",
      "    z = numpy.dot(x,y)\n",
      "    t2 = time.time()\n",
      "    t[i] = t2-t1\n",
      "\n",
      "print \"Numpy: {}\".format(t.mean())"
     ],
     "language": "python",
     "metadata": {},
     "outputs": [
      {
       "output_type": "stream",
       "stream": "stdout",
       "text": [
        "Numba: 0.0187826951345\n",
        "Numpy: 0.00232402483622\n"
       ]
      }
     ],
     "prompt_number": 38
    },
    {
     "cell_type": "code",
     "collapsed": false,
     "input": [
      "t = numpy.zeros(3)\n",
      "N = 2000\n",
      "x = numpy.random.random((N,N))\n",
      "y = numpy.random.random((N,N))\n",
      "z = numpy.zeros((N,N))\n",
      "for i in range(3):\n",
      "    t1 = time.time()\n",
      "    matrix_multiply(x,y,z)\n",
      "    t2 = time.time()\n",
      "    t[i] = t2-t1\n",
      "\n",
      "print \"Numba: {}\".format(t.mean())\n",
      "\n",
      "for i in range(3):\n",
      "    t1 = time.time()\n",
      "    z = numpy.dot(x,y)\n",
      "    t2 = time.time()\n",
      "    t[i] = t2-t1\n",
      "\n",
      "print \"Numpy: {}\".format(t.mean())"
     ],
     "language": "python",
     "metadata": {},
     "outputs": [
      {
       "output_type": "stream",
       "stream": "stdout",
       "text": [
        "Numba: 32.0607153575\n",
        "Numpy: 1.45985762278"
       ]
      },
      {
       "output_type": "stream",
       "stream": "stdout",
       "text": [
        "\n"
       ]
      }
     ],
     "prompt_number": 39
    },
    {
     "cell_type": "code",
     "collapsed": false,
     "input": [
      "s"
     ],
     "language": "python",
     "metadata": {},
     "outputs": []
    }
   ],
   "metadata": {}
  }
 ]
}