{
 "metadata": {
  "name": "",
  "notify_time": "10",
  "signature": "sha256:a9c63e743bfb01dcecdd92c0b835272d03c6aadff99386b53dfbaf45740cb8b1"
 },
 "nbformat": 3,
 "nbformat_minor": 0,
 "worksheets": [
  {
   "cells": [
    {
     "cell_type": "code",
     "collapsed": false,
     "input": [
      "import numpy\n",
      "from matplotlib import pyplot\n",
      "from mpl_toolkits.mplot3d import Axes3D\n",
      "from matplotlib import cm\n",
      "%matplotlib inline"
     ],
     "language": "python",
     "metadata": {},
     "outputs": [],
     "prompt_number": 1
    },
    {
     "cell_type": "code",
     "collapsed": false,
     "input": [
      "import time"
     ],
     "language": "python",
     "metadata": {},
     "outputs": [],
     "prompt_number": 2
    },
    {
     "cell_type": "code",
     "collapsed": false,
     "input": [
      "import numba\n",
      "#import llvm"
     ],
     "language": "python",
     "metadata": {},
     "outputs": [
      {
       "ename": "ImportError",
       "evalue": "No module named llvm",
       "output_type": "pyerr",
       "traceback": [
        "\u001b[1;31m---------------------------------------------------------------------------\u001b[0m\n\u001b[1;31mImportError\u001b[0m                               Traceback (most recent call last)",
        "\u001b[1;32m<ipython-input-5-90dba67343b6>\u001b[0m in \u001b[0;36m<module>\u001b[1;34m()\u001b[0m\n\u001b[0;32m      1\u001b[0m \u001b[1;32mimport\u001b[0m \u001b[0mnumba\u001b[0m\u001b[1;33m\u001b[0m\u001b[0m\n\u001b[1;32m----> 2\u001b[1;33m \u001b[1;32mimport\u001b[0m \u001b[0mllvm\u001b[0m\u001b[1;33m\u001b[0m\u001b[0m\n\u001b[0m",
        "\u001b[1;31mImportError\u001b[0m: No module named llvm"
       ]
      }
     ],
     "prompt_number": 5
    },
    {
     "cell_type": "code",
     "collapsed": false,
     "input": [
      "print \"NumPy version: {} \\nnumba version: {} \\nllvm version: \"\\\n",
      ".format(numpy.__version__,numba.__version__)#,llvm.__version__)"
     ],
     "language": "python",
     "metadata": {},
     "outputs": [
      {
       "output_type": "stream",
       "stream": "stdout",
       "text": [
        "NumPy version: 1.9.2 \n",
        "numba version: 0.17.0 \n",
        "llvm version: \n"
       ]
      }
     ],
     "prompt_number": 7
    },
    {
     "cell_type": "markdown",
     "metadata": {},
     "source": [
      "##Numba version"
     ]
    },
    {
     "cell_type": "code",
     "collapsed": false,
     "input": [
      "@numba.jit(nopython=True)\n",
      "def jacobi_numba(p, pn, l2):\n",
      "    r, c = p.shape\n",
      "    err = 1.\n",
      "    iterations = 0\n",
      "    maxiter = 1e6\n",
      "    while err > l2:\n",
      "        numba_copy(pn,p)\n",
      "        for j in range(1,r-1):\n",
      "            for i in range(1,c-1):\n",
      "                p[j,i] = .25 * (pn[i+1,j]+pn[i-1,j]+pn[i,j+1]+pn[i,j-1])\n",
      "\n",
      "        for j in range(1,r-1):\n",
      "            p[j,-1] = .25 * (2*pn[j,-2] + pn[j+1,-1] + pn[j-1,-1])\n",
      "        \n",
      "        iterations+=1\n",
      "        err = L2_numba(p, pn)\n",
      "    \n",
      "    return p, iterations\n",
      "        \n",
      "@numba.jit(nopython=True)\n",
      "def L2_numba(p, pn):\n",
      "    r, c = p.shape\n",
      "    err = 0\n",
      "    pnsum = 0\n",
      "    for i in range(r):\n",
      "        for j in range(c):\n",
      "            err += (p[i,j]-pn[i,j])**2\n",
      "            pnsum += pn[i,j]**2\n",
      "            \n",
      "    return numpy.sqrt(err/pnsum)\n",
      "\n",
      "@numba.jit(nopython=True)\n",
      "def numba_copy(pn, p):\n",
      "    r, c = p.shape\n",
      "    for i in range(r):\n",
      "        for j in range(c):\n",
      "            pn[i,j]=p[i,j]"
     ],
     "language": "python",
     "metadata": {},
     "outputs": [],
     "prompt_number": 8
    },
    {
     "cell_type": "markdown",
     "metadata": {},
     "source": [
      "##Numpy Version"
     ]
    },
    {
     "cell_type": "code",
     "collapsed": false,
     "input": [
      "def jacobi_numpy(p, pn, l2_target):\n",
      "    '''Solves the diffusion equation with forward-time, centered scheme\n",
      "    \n",
      "    Parameters:\n",
      "    ----------\n",
      "    p: 2D array of float\n",
      "        Initial potential distribution\n",
      "    y: array of float\n",
      "        Nodal coordinates in y\n",
      "    dx: float\n",
      "        Mesh size\n",
      "    dy: float\n",
      "        Mesh size\n",
      "    l2_target: float\n",
      "        Error target\n",
      "        \n",
      "    Returns:\n",
      "    -------\n",
      "    p: 2D array of float\n",
      "        Potential distribution after relaxation\n",
      "    '''\n",
      "    \n",
      "    l2norm = 1\n",
      "    #pn = numpy.empty_like(p)\n",
      "    iterations = 0\n",
      "\n",
      "    while l2norm > l2_target:\n",
      "        pn = p.copy()\n",
      "        p[1:-1,1:-1] = .25 * (pn[1:-1,2:] + pn[1:-1,:-2] +\\\n",
      "                              pn[2:,1:-1] + pn[:-2,1:-1])\n",
      "        \n",
      "        ##Neumann B.C. along x = L\n",
      "        p[1:-1,-1] = .25 * (2*pn[1:-1,-2] + pn[2:,-1] + pn[:-2, -1])\n",
      "        \n",
      "        l2norm = numpy.sqrt(numpy.sum((p - pn)**2)/numpy.sum(pn**2))\n",
      "        iterations += 1\n",
      "     \n",
      "    return p, iterations"
     ],
     "language": "python",
     "metadata": {},
     "outputs": [],
     "prompt_number": 9
    },
    {
     "cell_type": "markdown",
     "metadata": {},
     "source": [
      "##Cython Version"
     ]
    },
    {
     "cell_type": "code",
     "collapsed": false,
     "input": [
      "%load_ext cythonmagic"
     ],
     "language": "python",
     "metadata": {},
     "outputs": [],
     "prompt_number": 11
    },
    {
     "cell_type": "code",
     "collapsed": false,
     "input": [
      "%%cython\n",
      "cimport numpy\n",
      "cimport cython\n",
      "\n",
      "import numpy\n",
      "\n",
      "@cython.boundscheck(False)\n",
      "def jacobi_cython(numpy.ndarray[numpy.float_t, ndim=2] p, \n",
      "                            numpy.ndarray[numpy.float_t, ndim=2] pn,\n",
      "                            double eps):\n",
      "    cdef int iterations, i, j, nx, ny\n",
      "    cdef double error\n",
      "    ##assumes square matrix\n",
      "    nx = len(p)\n",
      "    ny = len(p)\n",
      "    \n",
      "    \n",
      "    iterations = 0\n",
      "    error = 2*eps\n",
      "    \n",
      "    while error > eps:\n",
      "        pn = p.copy()\n",
      "        error = 0.0\n",
      "        for j in range(1,ny-1):\n",
      "            for i in range(1,nx-1):\n",
      "                p[j,i] = .25 * (pn[j,i-1] + pn[j,i+1] + pn[j-1,i] + pn[j+1,i])\n",
      "                #error += abs(p[j,i] - pn[j,i])\n",
      "                \n",
      "        for j in range(1,ny-1):\n",
      "            p[j,-1] = .25 * (2*pn[j,-2] + pn[j+1,-1] + pn[j-1,-1])\n",
      "        \n",
      "        #error = numpy.sqrt(numpy.sum((p - pn)**2)/numpy.sum(pn**2))\n",
      "        error = L2_Cython(p, pn, nx, ny)\n",
      "        iterations += 1\n",
      "        \n",
      "        #error = L2_rel_error(p, pn)\n",
      "        \n",
      "    return p, iterations\n",
      "\n",
      "@cython.boundscheck(False)\n",
      "def L2_Cython(numpy.ndarray[numpy.float_t, ndim=2] p, \\\n",
      "              numpy.ndarray[numpy.float_t, ndim=2] pn, int nx, int ny):\n",
      "    cdef double error = 0\n",
      "    cdef double pnsum = 0\n",
      "    for i in range(nx):\n",
      "        for j in range(ny):\n",
      "            error += (p[i,j]-pn[i,j])**2\n",
      "            pnsum += pn[i,j]**2\n",
      "            \n",
      "    return numpy.sqrt(error/pnsum)"
     ],
     "language": "python",
     "metadata": {},
     "outputs": [],
     "prompt_number": 12
    },
    {
     "cell_type": "markdown",
     "metadata": {},
     "source": [
      "##Numba, check L2 infrequently"
     ]
    },
    {
     "cell_type": "code",
     "collapsed": false,
     "input": [
      "@numba.jit(nopython=True)\n",
      "def jacobi_numba_infrequent(p, pn, l2):\n",
      "    r, c = p.shape\n",
      "    err = 1.\n",
      "    iterations = 0\n",
      "    maxiter = 1e6\n",
      "    while err > l2:\n",
      "        numba_copy(pn,p)\n",
      "        for i in range(1,r-1):\n",
      "            for j in range(1,c-1):\n",
      "                p[i,j] = .25 * (pn[i+1,j]+pn[i-1,j]+pn[i,j+1]+pn[i,j-1])\n",
      "\n",
      "        for i in range(1,r-1):\n",
      "            p[i,-1] = .25 * (2*pn[i,-2] + pn[i+1,-1] + pn[i-1,-1])\n",
      "        \n",
      "        iterations+=1\n",
      "        if iterations % 100 == 0:\n",
      "            err = L2_numba(p, pn)\n",
      "    \n",
      "    return p, iterations"
     ],
     "language": "python",
     "metadata": {},
     "outputs": [],
     "prompt_number": 13
    },
    {
     "cell_type": "code",
     "collapsed": false,
     "input": [
      "def test_jacobi(jacobi_func, nx):\n",
      "    '''\n",
      "    Times the jacobi method function -- assuming square domains throughout\n",
      "    '''\n",
      "    print(30 * '-')\n",
      "    print(\"testing {}\".format(jacobi_func.__name__))\n",
      "    x = numpy.linspace(0,5,nx)\n",
      "    p0 = numpy.zeros((nx, nx))\n",
      "    p0[-1,:] = numpy.sin(1.5*numpy.pi*x/x[-1])\n",
      "    \n",
      "    \n",
      "    l2 = 1e-8\n",
      "    times = []\n",
      "    for i in range(3):\n",
      "        p = p0.copy()\n",
      "        pn = p.copy()\n",
      "        t1 = time.time()\n",
      "        p, iterations = jacobi_func(p, pn, l2)\n",
      "        t2 = time.time()\n",
      "        times.append(t2-t1)\n",
      "    print \"Execution time (nx={}): {} sec\".format(nx, numpy.mean(times))\n",
      "    print iterations"
     ],
     "language": "python",
     "metadata": {},
     "outputs": [],
     "prompt_number": 14
    },
    {
     "cell_type": "code",
     "collapsed": false,
     "input": [
      "test_jacobi(jacobi_cython, 65)\n",
      "test_jacobi(jacobi_numpy, 65)\n",
      "test_jacobi(jacobi_numba, 65)"
     ],
     "language": "python",
     "metadata": {},
     "outputs": [
      {
       "output_type": "stream",
       "stream": "stdout",
       "text": [
        "------------------------------\n",
        "testing jacobi_cython\n",
        "Execution time (nx=65): 0.160083055496 sec"
       ]
      },
      {
       "output_type": "stream",
       "stream": "stdout",
       "text": [
        "\n",
        "5766\n",
        "------------------------------\n",
        "testing jacobi_numpy\n",
        "Execution time (nx=65): 0.460974295934 sec"
       ]
      },
      {
       "output_type": "stream",
       "stream": "stdout",
       "text": [
        "\n",
        "5766\n",
        "------------------------------\n",
        "testing jacobi_numba\n",
        "Execution time (nx=65): 0.221161921819 sec"
       ]
      },
      {
       "output_type": "stream",
       "stream": "stdout",
       "text": [
        "\n",
        "9350\n"
       ]
      }
     ],
     "prompt_number": 15
    },
    {
     "cell_type": "code",
     "collapsed": false,
     "input": [
      "test_jacobi(jacobi_cython,129)\n",
      "test_jacobi(jacobi_numpy, 129)\n",
      "test_jacobi(jacobi_numba, 129)"
     ],
     "language": "python",
     "metadata": {},
     "outputs": [
      {
       "output_type": "stream",
       "stream": "stdout",
       "text": [
        "------------------------------\n",
        "testing jacobi_cython\n",
        "Execution time (nx=129): 1.90632796288 sec"
       ]
      },
      {
       "output_type": "stream",
       "stream": "stdout",
       "text": [
        "\n",
        "20278\n",
        "------------------------------\n",
        "testing jacobi_numpy\n",
        "Execution time (nx=129): 4.67682290077 sec"
       ]
      },
      {
       "output_type": "stream",
       "stream": "stdout",
       "text": [
        "\n",
        "20278\n",
        "------------------------------\n",
        "testing jacobi_numba\n",
        "Execution time (nx=129): 1.16352200508 sec"
       ]
      },
      {
       "output_type": "stream",
       "stream": "stdout",
       "text": [
        "\n",
        "20278\n"
       ]
      }
     ],
     "prompt_number": 12
    },
    {
     "cell_type": "code",
     "collapsed": false,
     "input": [
      "test_jacobi(jacobi_cython,257)\n",
      "test_jacobi(jacobi_numba, 257)"
     ],
     "language": "python",
     "metadata": {},
     "outputs": [
      {
       "output_type": "stream",
       "stream": "stdout",
       "text": [
        "------------------------------\n",
        "testing jacobi_cython\n",
        "Execution time (nx=257): 24.6775891781 sec"
       ]
      },
      {
       "output_type": "stream",
       "stream": "stdout",
       "text": [
        "\n",
        "69862\n",
        "------------------------------\n",
        "testing jacobi_numba\n",
        "Execution time (nx=257): 16.6042950153 sec"
       ]
      },
      {
       "output_type": "stream",
       "stream": "stdout",
       "text": [
        "\n",
        "69862\n"
       ]
      }
     ],
     "prompt_number": 23
    },
    {
     "cell_type": "code",
     "collapsed": false,
     "input": [
      "test_jacobi(jacobi_cython, 385)\n",
      "test_jacobi(jacobi_numba, 385)"
     ],
     "language": "python",
     "metadata": {},
     "outputs": [
      {
       "output_type": "stream",
       "stream": "stdout",
       "text": [
        "------------------------------\n",
        "testing jacobi_cython\n",
        "Execution time (nx=385): 117.818691969 sec"
       ]
      },
      {
       "output_type": "stream",
       "stream": "stdout",
       "text": [
        "\n",
        "142336\n",
        "------------------------------\n",
        "testing jacobi_numba\n",
        "Execution time (nx=385): 76.9288299084 sec"
       ]
      },
      {
       "output_type": "stream",
       "stream": "stdout",
       "text": [
        "\n",
        "142336\n"
       ]
      }
     ],
     "prompt_number": 14
    },
    {
     "cell_type": "code",
     "collapsed": false,
     "input": [
      "cythontimes = [0.161356925964, 1.90632796288, 24.6775891781, 117.818691969]\n",
      "numbatimes = [0.0851399898529, 1.16352200508, 16.6042950153, 76.9288299084]\n",
      "nx_vals = numpy.array([65, 129, 257, 385])\n"
     ],
     "language": "python",
     "metadata": {},
     "outputs": [],
     "prompt_number": 18
    },
    {
     "cell_type": "code",
     "collapsed": false,
     "input": [
      "import seaborn; seaborn.set()"
     ],
     "language": "python",
     "metadata": {},
     "outputs": [],
     "prompt_number": 16
    },
    {
     "cell_type": "code",
     "collapsed": false,
     "input": [
      "pyplot.loglog(nx_vals**2, numbatimes, label='numba')\n",
      "pyplot.loglog(nx_vals**2, cythontimes, label='cython')\n",
      "pyplot.legend();"
     ],
     "language": "python",
     "metadata": {},
     "outputs": [
      {
       "metadata": {},
       "output_type": "display_data",
       "png": "[encoded data removed]",
       "text": [
        "<matplotlib.figure.Figure at 0x7f56dfdb1050>"
       ]
      }
     ],
     "prompt_number": 19
    },
    {
     "cell_type": "code",
     "collapsed": false,
     "input": [
      "test_jacobi(jacobi_numba, 129)\n",
      "test_jacobi(jacobi_numba_nogil, 129)"
     ],
     "language": "python",
     "metadata": {},
     "outputs": [
      {
       "output_type": "stream",
       "stream": "stdout",
       "text": [
        "------------------------------\n",
        "testing jacobi_numba\n",
        "Execution time (nx=129): 1.14774513245 sec"
       ]
      },
      {
       "output_type": "stream",
       "stream": "stdout",
       "text": [
        "\n",
        "20278\n",
        "------------------------------\n",
        "testing jacobi_numba_nogil\n",
        "Execution time (nx=129): 1.12517499924 sec"
       ]
      },
      {
       "output_type": "stream",
       "stream": "stdout",
       "text": [
        "\n",
        "20278\n"
       ]
      }
     ],
     "prompt_number": 15
    },
    {
     "cell_type": "code",
     "collapsed": false,
     "input": [],
     "language": "python",
     "metadata": {},
     "outputs": []
    },
    {
     "cell_type": "code",
     "collapsed": false,
     "input": [],
     "language": "python",
     "metadata": {},
     "outputs": []
    },
    {
     "cell_type": "code",
     "collapsed": false,
     "input": [
      "%load_ext line_profiler"
     ],
     "language": "python",
     "metadata": {},
     "outputs": [],
     "prompt_number": 16
    },
    {
     "cell_type": "code",
     "collapsed": false,
     "input": [
      "nx = 129\n",
      "ny = 129\n",
      "L = 5.\n",
      "H = 5.\n",
      "\n",
      "x = numpy.linspace(0,L,nx)\n",
      "y = numpy.linspace(0,H,ny)\n",
      "\n",
      "dx = L/(nx-1)\n",
      "dy = H/(ny-1)\n",
      "\n",
      "p0 = numpy.zeros((ny, nx))\n",
      "\n",
      "p0[-1,:] = numpy.sin(1.5*numpy.pi*x/x[-1])"
     ],
     "language": "python",
     "metadata": {},
     "outputs": [],
     "prompt_number": 17
    },
    {
     "cell_type": "code",
     "collapsed": false,
     "input": [
      "p = p0.copy()\n",
      "pn = p.copy()"
     ],
     "language": "python",
     "metadata": {},
     "outputs": [],
     "prompt_number": 18
    },
    {
     "cell_type": "markdown",
     "metadata": {},
     "source": [
      "line profiler maybe doesn't work with numba?"
     ]
    },
    {
     "cell_type": "code",
     "collapsed": false,
     "input": [
      "%lprun -f jacobi_numpy jacobi_numpy(p, pn, 1e-8)"
     ],
     "language": "python",
     "metadata": {},
     "outputs": [],
     "prompt_number": 19
    },
    {
     "cell_type": "markdown",
     "metadata": {},
     "source": [
      "##Numpy + Numba version"
     ]
    },
    {
     "cell_type": "code",
     "collapsed": false,
     "input": [
      "def jacobi_numpy_numba(p, pn, l2_target):\n",
      "    '''Solves the diffusion equation with forward-time, centered scheme\n",
      "    \n",
      "    Parameters:\n",
      "    ----------\n",
      "    p: 2D array of float\n",
      "        Initial potential distribution\n",
      "    y: array of float\n",
      "        Nodal coordinates in y\n",
      "    dx: float\n",
      "        Mesh size\n",
      "    dy: float\n",
      "        Mesh size\n",
      "    l2_target: float\n",
      "        Error target\n",
      "        \n",
      "    Returns:\n",
      "    -------\n",
      "    p: 2D array of float\n",
      "        Potential distribution after relaxation\n",
      "    '''\n",
      "    \n",
      "    l2norm = 1\n",
      "    #pn = numpy.empty_like(p)\n",
      "    iterations = 0\n",
      "\n",
      "    while l2norm > l2_target:\n",
      "        pn = p.copy()\n",
      "        p = jacobi_numba_single(p, pn)\n",
      "        #junk\n",
      "        l2norm = L2_numba(p, pn)\n",
      "        iterations += 1\n",
      "     \n",
      "    return p, iterations\n",
      "\n",
      "@numba.jit(nopython=True)\n",
      "def jacobi_numba_single(p, pn):\n",
      "    r, c = p.shape\n",
      "    for i in range(1,r-1):\n",
      "        for j in range(1,c-1):\n",
      "            p[i,j] = .25 * (pn[i+1,j]+pn[i-1,j]+pn[i,j+1]+pn[i,j-1])\n",
      "\n",
      "    for i in range(1,r-1):\n",
      "        p[i,-1] = .25 * (2*pn[i,-2] + pn[i+1,-1] + pn[i-1,-1])\n",
      "        \n",
      "    return p"
     ],
     "language": "python",
     "metadata": {},
     "outputs": [],
     "prompt_number": 36
    },
    {
     "cell_type": "code",
     "collapsed": false,
     "input": [
      "test_jacobi(jacobi_numpy_numba, 129)"
     ],
     "language": "python",
     "metadata": {},
     "outputs": [
      {
       "output_type": "stream",
       "stream": "stdout",
       "text": [
        "------------------------------\n",
        "testing jacobi_numpy_numba\n",
        "Execution time (nx=129): 1.28026390076 sec"
       ]
      },
      {
       "output_type": "stream",
       "stream": "stdout",
       "text": [
        "\n",
        "20278\n"
       ]
      }
     ],
     "prompt_number": 38
    },
    {
     "cell_type": "code",
     "collapsed": false,
     "input": [],
     "language": "python",
     "metadata": {},
     "outputs": []
    },
    {
     "cell_type": "code",
     "collapsed": false,
     "input": [
      "# Execute this cell to load the notebook's style sheet, then ignore it\n",
      "from IPython.core.display import HTML\n",
      "css_file = '../../styles/numericalmoocstyle.css'\n",
      "HTML(open(css_file, \"r\").read())"
     ],
     "language": "python",
     "metadata": {},
     "outputs": [
      {
       "html": [
        "<link href='http://fonts.googleapis.com/css?family=Alegreya+Sans:100,300,400,500,700,800,900,100italic,300italic,400italic,500italic,700italic,800italic,900italic' rel='stylesheet' type='text/css'>\n",
        "<link href='http://fonts.googleapis.com/css?family=Arvo:400,700,400italic' rel='stylesheet' type='text/css'>\n",
        "<link href='http://fonts.googleapis.com/css?family=PT+Mono' rel='stylesheet' type='text/css'>\n",
        "<link href='http://fonts.googleapis.com/css?family=Shadows+Into+Light' rel='stylesheet' type='text/css'>\n",
        "<link href='http://fonts.googleapis.com/css?family=Nixie+One' rel='stylesheet' type='text/css'>\n",
        "<style>\n",
        "\n",
        "@font-face {\n",
        "    font-family: \"Computer Modern\";\n",
        "    src: url('http://mirrors.ctan.org/fonts/cm-unicode/fonts/otf/cmunss.otf');\n",
        "}\n",
        "\n",
        "#notebook_panel { /* main background */\n",
        "    background: rgb(245,245,245);\n",
        "}\n",
        "\n",
        "div.cell { /* set cell width */\n",
        "    width: 750px;\n",
        "}\n",
        "\n",
        "div #notebook { /* centre the content */\n",
        "    background: #fff; /* white background for content */\n",
        "    width: 1000px;\n",
        "    margin: auto;\n",
        "    padding-left: 0em;\n",
        "}\n",
        "\n",
        "#notebook li { /* More space between bullet points */\n",
        "margin-top:0.8em;\n",
        "}\n",
        "\n",
        "/* draw border around running cells */\n",
        "div.cell.border-box-sizing.code_cell.running { \n",
        "    border: 1px solid #111;\n",
        "}\n",
        "\n",
        "/* Put a solid color box around each cell and its output, visually linking them*/\n",
        "div.cell.code_cell {\n",
        "    background-color: rgb(256,256,256); \n",
        "    border-radius: 0px; \n",
        "    padding: 0.5em;\n",
        "    margin-left:1em;\n",
        "    margin-top: 1em;\n",
        "}\n",
        "\n",
        "div.text_cell_render{\n",
        "    font-family: 'Alegreya Sans' sans-serif;\n",
        "    line-height: 140%;\n",
        "    font-size: 125%;\n",
        "    font-weight: 400;\n",
        "    width:600px;\n",
        "    margin-left:auto;\n",
        "    margin-right:auto;\n",
        "}\n",
        "\n",
        "\n",
        "/* Formatting for header cells */\n",
        ".text_cell_render h1 {\n",
        "    font-family: 'Nixie One', serif;\n",
        "    font-style:regular;\n",
        "    font-weight: 400;    \n",
        "    font-size: 45pt;\n",
        "    line-height: 100%;\n",
        "    color: rgb(0,51,102);\n",
        "    margin-bottom: 0.5em;\n",
        "    margin-top: 0.5em;\n",
        "    display: block;\n",
        "}\t\n",
        ".text_cell_render h2 {\n",
        "    font-family: 'Nixie One', serif;\n",
        "    font-weight: 400;\n",
        "    font-size: 30pt;\n",
        "    line-height: 100%;\n",
        "    color: rgb(0,51,102);\n",
        "    margin-bottom: 0.1em;\n",
        "    margin-top: 0.3em;\n",
        "    display: block;\n",
        "}\t\n",
        "\n",
        ".text_cell_render h3 {\n",
        "    font-family: 'Nixie One', serif;\n",
        "    margin-top:16px;\n",
        "\tfont-size: 22pt;\n",
        "    font-weight: 600;\n",
        "    margin-bottom: 3px;\n",
        "    font-style: regular;\n",
        "    color: rgb(102,102,0);\n",
        "}\n",
        "\n",
        ".text_cell_render h4 {    /*Use this for captions*/\n",
        "    font-family: 'Nixie One', serif;\n",
        "    font-size: 14pt;\n",
        "    text-align: center;\n",
        "    margin-top: 0em;\n",
        "    margin-bottom: 2em;\n",
        "    font-style: regular;\n",
        "}\n",
        "\n",
        ".text_cell_render h5 {  /*Use this for small titles*/\n",
        "    font-family: 'Nixie One', sans-serif;\n",
        "    font-weight: 400;\n",
        "    font-size: 16pt;\n",
        "    color: rgb(163,0,0);\n",
        "    font-style: italic;\n",
        "    margin-bottom: .1em;\n",
        "    margin-top: 0.8em;\n",
        "    display: block;\n",
        "}\n",
        "\n",
        ".text_cell_render h6 { /*use this for copyright note*/\n",
        "    font-family: 'PT Mono', sans-serif;\n",
        "    font-weight: 300;\n",
        "    font-size: 9pt;\n",
        "    line-height: 100%;\n",
        "    color: grey;\n",
        "    margin-bottom: 1px;\n",
        "    margin-top: 1px;\n",
        "}\n",
        "\n",
        ".CodeMirror{\n",
        "        font-family: \"PT Mono\";\n",
        "        font-size: 90%;\n",
        "}\n",
        "\n",
        "</style>\n",
        "<script>\n",
        "    MathJax.Hub.Config({\n",
        "                        TeX: {\n",
        "                           extensions: [\"AMSmath.js\"],\n",
        "                           equationNumbers: { autoNumber: \"AMS\", useLabelIds: true}\n",
        "                           },\n",
        "                tex2jax: {\n",
        "                    inlineMath: [ ['$','$'], [\"\\\\(\",\"\\\\)\"] ],\n",
        "                    displayMath: [ ['$$','$$'], [\"\\\\[\",\"\\\\]\"] ]\n",
        "                },\n",
        "                displayAlign: 'center', // Change this to 'center' to center equations.\n",
        "                \"HTML-CSS\": {\n",
        "                    styles: {'.MathJax_Display': {\"margin\": 4}}\n",
        "                }\n",
        "        });\n",
        "</script>\n"
       ],
       "metadata": {},
       "output_type": "pyout",
       "prompt_number": 29,
       "text": [
        "<IPython.core.display.HTML at 0x7f8e779748d0>"
       ]
      }
     ],
     "prompt_number": 29
    }
   ],
   "metadata": {}
  }
 ]
}