{
 "metadata": {
  "name": "",
  "notify_time": "10",
  "signature": "sha256:70c6b7db6283958bd6f00944171e468e4014ec8b3234958d3d00ef5616bcfcad"
 },
 "nbformat": 3,
 "nbformat_minor": 0,
 "worksheets": [
  {
   "cells": [
    {
     "cell_type": "code",
     "collapsed": false,
     "input": [
      "import numpy\n",
      "from matplotlib import pyplot\n",
      "from mpl_toolkits.mplot3d import Axes3D\n",
      "from matplotlib import cm\n",
      "%matplotlib inline"
     ],
     "language": "python",
     "metadata": {},
     "outputs": [],
     "prompt_number": 1
    },
    {
     "cell_type": "code",
     "collapsed": false,
     "input": [
      "import time"
     ],
     "language": "python",
     "metadata": {},
     "outputs": [],
     "prompt_number": 2
    },
    {
     "cell_type": "code",
     "collapsed": false,
     "input": [
      "import numba\n",
      "import llvm"
     ],
     "language": "python",
     "metadata": {},
     "outputs": [],
     "prompt_number": 3
    },
    {
     "cell_type": "code",
     "collapsed": false,
     "input": [
      "print \"NumPy version: {} \\nnumba version: {} \\nllvm version: {}\"\\\n",
      ".format(numpy.__version__,numba.__version__,llvm.__version__)"
     ],
     "language": "python",
     "metadata": {},
     "outputs": [
      {
       "output_type": "stream",
       "stream": "stdout",
       "text": [
        "NumPy version: 1.9.2 \n",
        "numba version: 0.17.0 \n",
        "llvm version: 0.12.7\n"
       ]
      }
     ],
     "prompt_number": 4
    },
    {
     "cell_type": "markdown",
     "metadata": {},
     "source": [
      "##Numba version"
     ]
    },
    {
     "cell_type": "code",
     "collapsed": false,
     "input": [
      "@numba.jit(nopython=True)\n",
      "def jacobi_numba(p, pn, l2):\n",
      "    r, c = p.shape\n",
      "    err = 1.\n",
      "    iterations = 0\n",
      "    maxiter = 1e6\n",
      "    while err > l2:\n",
      "        numba_copy(pn,p)\n",
      "        for i in range(1,r-1):\n",
      "            for j in range(1,c-1):\n",
      "                p[i,j] = .25 * (pn[i+1,j]+pn[i-1,j]+pn[i,j+1]+pn[i,j-1])\n",
      "\n",
      "        for i in range(1,r-1):\n",
      "            p[i,-1] = .25 * (2*pn[i,-2] + pn[i+1,-1] + pn[i-1,-1])\n",
      "        \n",
      "        iterations+=1\n",
      "        err = L2_numba(p, pn)\n",
      "    \n",
      "    return p, iterations\n",
      "        \n",
      "@numba.jit(nopython=True)\n",
      "def L2_numba(p, pn):\n",
      "    r, c = p.shape\n",
      "    err = 0\n",
      "    pnsum = 0\n",
      "    for i in range(r):\n",
      "        for j in range(c):\n",
      "            err += (p[i,j]-pn[i,j])**2\n",
      "            pnsum += pn[i,j]**2\n",
      "            \n",
      "    return numpy.sqrt(err/pnsum)\n",
      "\n",
      "@numba.jit(nopython=True)\n",
      "def numba_copy(pn, p):\n",
      "    r, c = p.shape\n",
      "    for i in range(r):\n",
      "        for j in range(c):\n",
      "            pn[i,j]=p[i,j]"
     ],
     "language": "python",
     "metadata": {},
     "outputs": [],
     "prompt_number": 5
    },
    {
     "cell_type": "markdown",
     "metadata": {},
     "source": [
      "##Numpy Version"
     ]
    },
    {
     "cell_type": "code",
     "collapsed": false,
     "input": [
      "def jacobi_numpy(p, pn, l2_target):\n",
      "    '''Solves the diffusion equation with forward-time, centered scheme\n",
      "    \n",
      "    Parameters:\n",
      "    ----------\n",
      "    p: 2D array of float\n",
      "        Initial potential distribution\n",
      "    y: array of float\n",
      "        Nodal coordinates in y\n",
      "    dx: float\n",
      "        Mesh size\n",
      "    dy: float\n",
      "        Mesh size\n",
      "    l2_target: float\n",
      "        Error target\n",
      "        \n",
      "    Returns:\n",
      "    -------\n",
      "    p: 2D array of float\n",
      "        Potential distribution after relaxation\n",
      "    '''\n",
      "    \n",
      "    l2norm = 1\n",
      "    #pn = numpy.empty_like(p)\n",
      "    iterations = 0\n",
      "\n",
      "    while l2norm > l2_target:\n",
      "        pn = p.copy()\n",
      "        p[1:-1,1:-1] = .25 * (pn[1:-1,2:] + pn[1:-1,:-2] +\\\n",
      "                              pn[2:,1:-1] + pn[:-2,1:-1])\n",
      "        \n",
      "        ##Neumann B.C. along x = L\n",
      "        p[1:-1,-1] = .25 * (2*pn[1:-1,-2] + pn[2:,-1] + pn[:-2, -1])\n",
      "        \n",
      "        l2norm = numpy.sqrt(numpy.sum((p - pn)**2)/numpy.sum(pn**2))\n",
      "        iterations += 1\n",
      "     \n",
      "    return p, iterations"
     ],
     "language": "python",
     "metadata": {},
     "outputs": [],
     "prompt_number": 6
    },
    {
     "cell_type": "markdown",
     "metadata": {},
     "source": [
      "##Cython Version"
     ]
    },
    {
     "cell_type": "code",
     "collapsed": false,
     "input": [
      "%load_ext cythonmagic"
     ],
     "language": "python",
     "metadata": {},
     "outputs": [],
     "prompt_number": 7
    },
    {
     "cell_type": "code",
     "collapsed": false,
     "input": [
      "%%cython\n",
      "cimport numpy\n",
      "cimport cython\n",
      "\n",
      "import numpy\n",
      "\n",
      "@cython.boundscheck(False)\n",
      "def jacobi_cython(numpy.ndarray[numpy.float_t, ndim=2] p, \n",
      "                            numpy.ndarray[numpy.float_t, ndim=2] pn,\n",
      "                            double eps):\n",
      "    cdef int iterations, i, j, nx, ny\n",
      "    cdef double error\n",
      "    ##assumes square matrix\n",
      "    nx = len(p)\n",
      "    ny = len(p)\n",
      "    \n",
      "    \n",
      "    iterations = 0\n",
      "    error = 2*eps\n",
      "    \n",
      "    while error > eps:\n",
      "        pn = p.copy()\n",
      "        error = 0.0\n",
      "        for j in range(1,ny-1):\n",
      "            for i in range(1,nx-1):\n",
      "                p[j,i] = .25 * (pn[j,i-1] + pn[j,i+1] + pn[j-1,i] + pn[j+1,i])\n",
      "                #error += abs(p[j,i] - pn[j,i])\n",
      "                \n",
      "        for j in range(1,ny-1):\n",
      "            p[j,-1] = .25 * (2*pn[j,-2] + pn[j+1,-1] + pn[j-1,-1])\n",
      "        \n",
      "        #error = numpy.sqrt(numpy.sum((p - pn)**2)/numpy.sum(pn**2))\n",
      "        error = L2_Cython(p, pn, nx, ny)\n",
      "        iterations += 1\n",
      "        \n",
      "        #error = L2_rel_error(p, pn)\n",
      "        \n",
      "    return p, iterations\n",
      "\n",
      "@cython.boundscheck(False)\n",
      "def L2_Cython(numpy.ndarray[numpy.float_t, ndim=2] p, numpy.ndarray[numpy.float_t, ndim=2] pn, int nx, int ny):\n",
      "    cdef double error = 0\n",
      "    cdef double pnsum = 0\n",
      "    for i in range(nx):\n",
      "        for j in range(ny):\n",
      "            error += (p[i,j]-pn[i,j])**2\n",
      "            pnsum += pn[i,j]**2\n",
      "            \n",
      "    return numpy.sqrt(error/pnsum)"
     ],
     "language": "python",
     "metadata": {},
     "outputs": [],
     "prompt_number": 8
    },
    {
     "cell_type": "markdown",
     "metadata": {},
     "source": [
      "##Numba, check L2 infrequently"
     ]
    },
    {
     "cell_type": "code",
     "collapsed": false,
     "input": [
      "@numba.jit(nopython=True)\n",
      "def jacobi_numba_infrequent(p, pn, l2):\n",
      "    r, c = p.shape\n",
      "    err = 1.\n",
      "    iterations = 0\n",
      "    maxiter = 1e6\n",
      "    while err > l2:\n",
      "        numba_copy(pn,p)\n",
      "        for i in range(1,r-1):\n",
      "            for j in range(1,c-1):\n",
      "                p[i,j] = .25 * (pn[i+1,j]+pn[i-1,j]+pn[i,j+1]+pn[i,j-1])\n",
      "\n",
      "        for i in range(1,r-1):\n",
      "            p[i,-1] = .25 * (2*pn[i,-2] + pn[i+1,-1] + pn[i-1,-1])\n",
      "        \n",
      "        iterations+=1\n",
      "        if iterations % 100 == 0:\n",
      "            err = L2_numba(p, pn)\n",
      "    \n",
      "    return p, iterations"
     ],
     "language": "python",
     "metadata": {},
     "outputs": [],
     "prompt_number": 27
    },
    {
     "cell_type": "code",
     "collapsed": false,
     "input": [
      "def test_jacobi(jacobi_func, nx):\n",
      "    '''\n",
      "    Times the jacobi method function -- assuming square domains throughout\n",
      "    '''\n",
      "    print(30 * '-')\n",
      "    print(\"testing {}\".format(jacobi_func.__name__))\n",
      "    x = numpy.linspace(0,5,nx)\n",
      "    p0 = numpy.zeros((nx, nx))\n",
      "    p0[-1,:] = numpy.sin(1.5*numpy.pi*x/x[-1])\n",
      "    \n",
      "    \n",
      "    l2 = 1e-8\n",
      "    times = []\n",
      "    for i in range(3):\n",
      "        p = p0.copy()\n",
      "        pn = p.copy()\n",
      "        t1 = time.time()\n",
      "        p, iterations = jacobi_func(p, pn, l2)\n",
      "        t2 = time.time()\n",
      "        times.append(t2-t1)\n",
      "    print \"Execution time (nx={}): {} sec\".format(nx, numpy.median(times))\n",
      "    print iterations"
     ],
     "language": "python",
     "metadata": {},
     "outputs": [],
     "prompt_number": 24
    },
    {
     "cell_type": "code",
     "collapsed": false,
     "input": [
      "test_jacobi(jacobi_cython, 65)\n",
      "test_jacobi(jacobi_numpy, 65)\n",
      "test_jacobi(jacobi_numba, 65)"
     ],
     "language": "python",
     "metadata": {},
     "outputs": [
      {
       "output_type": "stream",
       "stream": "stdout",
       "text": [
        "------------------------------\n",
        "testing jacobi_cython\n",
        "Execution time (nx=65): 0.156183958054 sec"
       ]
      },
      {
       "output_type": "stream",
       "stream": "stdout",
       "text": [
        "\n",
        "5766\n",
        "------------------------------\n",
        "testing jacobi_numpy\n",
        "Execution time (nx=65): 0.546686887741 sec"
       ]
      },
      {
       "output_type": "stream",
       "stream": "stdout",
       "text": [
        "\n",
        "5766\n",
        "------------------------------\n",
        "testing jacobi_numba\n",
        "Execution time (nx=65): 0.0781018733978 sec"
       ]
      },
      {
       "output_type": "stream",
       "stream": "stdout",
       "text": [
        "\n",
        "5766\n"
       ]
      }
     ],
     "prompt_number": 10
    },
    {
     "cell_type": "code",
     "collapsed": false,
     "input": [
      "test_jacobi(jacobi_cython,129)\n",
      "test_jacobi(jacobi_numpy, 129)\n",
      "test_jacobi(jacobi_numba, 129)"
     ],
     "language": "python",
     "metadata": {},
     "outputs": [
      {
       "output_type": "stream",
       "stream": "stdout",
       "text": [
        "------------------------------\n",
        "testing jacobi_cython\n",
        "Execution time (nx=129): 1.84957408905 sec"
       ]
      },
      {
       "output_type": "stream",
       "stream": "stdout",
       "text": [
        "\n",
        "20278\n",
        "------------------------------\n",
        "testing jacobi_numpy\n",
        "Execution time (nx=129): 4.60914683342 sec"
       ]
      },
      {
       "output_type": "stream",
       "stream": "stdout",
       "text": [
        "\n",
        "20278\n",
        "------------------------------\n",
        "testing jacobi_numba\n",
        "Execution time (nx=129): 1.10226893425 sec"
       ]
      },
      {
       "output_type": "stream",
       "stream": "stdout",
       "text": [
        "\n",
        "20278\n"
       ]
      }
     ],
     "prompt_number": 11
    },
    {
     "cell_type": "code",
     "collapsed": false,
     "input": [
      "test_jacobi(jacobi_cython,257)\n",
      "test_jacobi(jacobi_numba, 257)"
     ],
     "language": "python",
     "metadata": {},
     "outputs": [
      {
       "output_type": "stream",
       "stream": "stdout",
       "text": [
        "------------------------------\n",
        "testing jacobi_cython\n",
        "Execution time (nx=257): 24.6775891781 sec"
       ]
      },
      {
       "output_type": "stream",
       "stream": "stdout",
       "text": [
        "\n",
        "69862\n",
        "------------------------------\n",
        "testing jacobi_numba\n",
        "Execution time (nx=257): 16.6042950153 sec"
       ]
      },
      {
       "output_type": "stream",
       "stream": "stdout",
       "text": [
        "\n",
        "69862\n"
       ]
      }
     ],
     "prompt_number": 23
    },
    {
     "cell_type": "code",
     "collapsed": false,
     "input": [
      "test_jacobi(jacobi_numba, 193)\n",
      "test_jacobi(jacobi_numba_infrequent, 193)"
     ],
     "language": "python",
     "metadata": {},
     "outputs": [
      {
       "output_type": "stream",
       "stream": "stdout",
       "text": [
        "------------------------------\n",
        "testing jacobi_numba\n",
        "Execution time (nx=193): 5.25295710564 sec"
       ]
      },
      {
       "output_type": "stream",
       "stream": "stdout",
       "text": [
        "\n",
        "41927\n",
        "------------------------------\n",
        "testing jacobi_numba_infrequent\n",
        "Execution time (nx=193): 3.67941188812 sec"
       ]
      },
      {
       "output_type": "stream",
       "stream": "stdout",
       "text": [
        "\n",
        "42000\n"
       ]
      }
     ],
     "prompt_number": 28
    },
    {
     "cell_type": "code",
     "collapsed": false,
     "input": [
      "(1100*.5+11*.3)\n"
     ],
     "language": "python",
     "metadata": {},
     "outputs": [
      {
       "metadata": {},
       "output_type": "pyout",
       "prompt_number": 33,
       "text": [
        "553.3"
       ]
      }
     ],
     "prompt_number": 33
    },
    {
     "cell_type": "code",
     "collapsed": false,
     "input": [
      "import seaborn; seaborn.set()"
     ],
     "language": "python",
     "metadata": {},
     "outputs": [],
     "prompt_number": 14
    },
    {
     "cell_type": "code",
     "collapsed": false,
     "input": [
      "nx_vals = numpy.array(nx_vals)\n",
      "pyplot.loglog(nx_vals**2, numbatimes, label=\"numba\")\n",
      "pyplot.loglog(nx_vals**2, numpytimes, label=\"numpy\")\n",
      "pyplot.loglog(nx_vals**2, cythontimes, label=\"cython\")\n",
      "pyplot.ylabel('Time(sec)')\n",
      "pyplot.xlabel('Number of elements')\n",
      "pyplot.legend(loc='upper left');"
     ],
     "language": "python",
     "metadata": {},
     "outputs": [
      {
       "metadata": {},
       "output_type": "display_data",
       "png": "[encoded data removed]",
       "text": [
        "<matplotlib.figure.Figure at 0x7f7f6b8af990>"
       ]
      }
     ],
     "prompt_number": 15
    },
    {
     "cell_type": "code",
     "collapsed": false,
     "input": [
      "%load_ext line_profiler"
     ],
     "language": "python",
     "metadata": {},
     "outputs": [],
     "prompt_number": 15
    },
    {
     "cell_type": "code",
     "collapsed": false,
     "input": [
      "nx = 129\n",
      "ny = 129\n",
      "L = 5.\n",
      "H = 5.\n",
      "\n",
      "x = numpy.linspace(0,L,nx)\n",
      "y = numpy.linspace(0,H,ny)\n",
      "\n",
      "dx = L/(nx-1)\n",
      "dy = H/(ny-1)\n",
      "\n",
      "p0 = numpy.zeros((ny, nx))\n",
      "\n",
      "p0[-1,:] = numpy.sin(1.5*numpy.pi*x/x[-1])"
     ],
     "language": "python",
     "metadata": {},
     "outputs": [],
     "prompt_number": 19
    },
    {
     "cell_type": "code",
     "collapsed": false,
     "input": [
      "p = p0.copy()\n",
      "pn = p.copy()"
     ],
     "language": "python",
     "metadata": {},
     "outputs": [],
     "prompt_number": 20
    },
    {
     "cell_type": "markdown",
     "metadata": {},
     "source": [
      "line profiler maybe doesn't work with numba?"
     ]
    },
    {
     "cell_type": "code",
     "collapsed": false,
     "input": [
      "%lprun -f jacobi_numpy jacobi_numpy(p, pn, 1e-8)"
     ],
     "language": "python",
     "metadata": {},
     "outputs": [],
     "prompt_number": 22
    },
    {
     "cell_type": "code",
     "collapsed": false,
     "input": [],
     "language": "python",
     "metadata": {},
     "outputs": []
    }
   ],
   "metadata": {}
  }
 ]
}