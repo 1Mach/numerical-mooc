{
 "metadata": {
  "name": "",
  "signature": "sha256:f5a09735072686fa2482b180cc7778bb8f6a494c3ce686ed5bd5e211eaf4bd66"
 },
 "nbformat": 3,
 "nbformat_minor": 0,
 "worksheets": [
  {
   "cells": [
    {
     "cell_type": "code",
     "collapsed": false,
     "input": [
      "import numba\n",
      "print numba.__version__"
     ],
     "language": "python",
     "metadata": {},
     "outputs": [
      {
       "output_type": "stream",
       "stream": "stdout",
       "text": [
        "0.17.0\n"
       ]
      }
     ],
     "prompt_number": 1
    },
    {
     "cell_type": "code",
     "collapsed": false,
     "input": [
      "import numbapro\n",
      "print numbapro.__version__"
     ],
     "language": "python",
     "metadata": {},
     "outputs": [
      {
       "output_type": "stream",
       "stream": "stdout",
       "text": [
        "0.17.1\n"
       ]
      }
     ],
     "prompt_number": 2
    },
    {
     "cell_type": "code",
     "collapsed": false,
     "input": [
      "import numba.cuda\n",
      "\n",
      "my_gpu = numba.cuda.get_current_device()\n",
      "print \"Running on GPU:\", my_gpu.name\n",
      "cores_per_capability = {\n",
      "    1: 8,\n",
      "    2: 32,\n",
      "    3: 192,\n",
      "}\n",
      "cc = my_gpu.compute_capability\n",
      "print \"Compute capability: \", \"%d.%d\" % cc, \"(Numba requires >= 2.0)\"\n",
      "majorcc = cc[0]\n",
      "print \"Number of streaming multiprocessor:\", my_gpu.MULTIPROCESSOR_COUNT\n",
      "cores_per_multiprocessor = cores_per_capability[majorcc]\n",
      "print \"Number of cores per mutliprocessor:\", cores_per_multiprocessor\n",
      "total_cores = cores_per_multiprocessor * my_gpu.MULTIPROCESSOR_COUNT\n",
      "print \"Number of cores on GPU:\", total_cores\n",
      "thread_ct = my_gpu.WARP_SIZE\n",
      "print \"Threads per block (max): {}\".format(thread_ct)"
     ],
     "language": "python",
     "metadata": {},
     "outputs": [
      {
       "output_type": "stream",
       "stream": "stdout",
       "text": [
        "Running on GPU: Tesla C2075\n",
        "Compute capability:  2.0 (Numba requires >= 2.0)\n",
        "Number of streaming multiprocessor: 14\n",
        "Number of cores per mutliprocessor: 32\n",
        "Number of cores on GPU: 448\n",
        "Threads per block (max): 32\n"
       ]
      }
     ],
     "prompt_number": 50
    },
    {
     "cell_type": "code",
     "collapsed": false,
     "input": [
      "import numpy\n",
      "from numbapro import cuda\n",
      "import time"
     ],
     "language": "python",
     "metadata": {},
     "outputs": [],
     "prompt_number": 4
    },
    {
     "cell_type": "code",
     "collapsed": false,
     "input": [
      "import matplotlib.pyplot as plt\n",
      "from matplotlib import cm\n",
      "from mpl_toolkits.mplot3d import axes3d\n",
      "%matplotlib inline"
     ],
     "language": "python",
     "metadata": {},
     "outputs": [],
     "prompt_number": 11
    },
    {
     "cell_type": "code",
     "collapsed": false,
     "input": [
      "@cuda.jit(argtypes=[numba.f8[:,:], numba.f8[:,:]])\n",
      "def numbapro_neumann(p, pn):\n",
      "    row = p.shape[0]\n",
      "    col = p.shape[1]\n",
      "    \n",
      "    i, j = cuda.grid(2)\n",
      "    \n",
      "    if j >= 1 and j < row-1 and i == col-1:\n",
      "        pn[j, i] = 0.25 * (2*p[j,i-1] + p[j+1,i] + p[j-1,i])"
     ],
     "language": "python",
     "metadata": {},
     "outputs": [],
     "prompt_number": 87
    },
    {
     "cell_type": "code",
     "collapsed": false,
     "input": [
      "@cuda.jit(argtypes=[numba.f8[:,:], numba.f8[:,:]])\n",
      "def jacobi_numbapro(p, pn):\n",
      "    \n",
      "    row = p.shape[0]\n",
      "    col = p.shape[1]\n",
      "    \n",
      "    i, j = cuda.grid(2)\n",
      "    \n",
      "    if j >= 1 and j < row-1 and i >= 1 and i <= col - 2:\n",
      "        pn[j, i] = 0.25 * (p[j+1,i]+p[j-1,i]+p[j,i+1]+p[j,i-1])\n",
      "        #l2[j, i] = pn[j,i] - p[j,i]\n",
      " "
     ],
     "language": "python",
     "metadata": {},
     "outputs": [],
     "prompt_number": 91
    },
    {
     "cell_type": "code",
     "collapsed": false,
     "input": [
      "@cuda.jit(argtypes=[numba.f8[:,:], numba.f8[:,:], numba.f8[:]])\n",
      "def L2_numbapro(p, pn, l2):\n",
      "    row = p.shape[0]\n",
      "    col = p.shape[1]\n",
      "    sPsum = cuda.shared.array(shape=(1), dtype=numba.float32)\n",
      "    sPnsum = cuda.shared.array(shape=(1), dtype=numba.float32)\n",
      "    i, j = cuda.grid(2)\n",
      "    \n",
      "    sPsum = 0\n",
      "    sPnsum = 0\n",
      "    if j < row and i < col:\n",
      "        sPsum += (p[j,i]-pn[j,i])**2\n",
      "        sPnsum += pn[j,i]**2\n",
      "        \n",
      "    cuda.syncthreads()\n",
      "    \n",
      "    l2 = sPsum/sPnsum"
     ],
     "language": "python",
     "metadata": {},
     "outputs": [],
     "prompt_number": 143
    },
    {
     "cell_type": "code",
     "collapsed": false,
     "input": [
      "def main(ny, nx):\n",
      "    p = numpy.zeros((ny, nx), dtype=numpy.float64)\n",
      "    \n",
      "    iter_max = 200000\n",
      "    l2_target = 1e-8\n",
      "    l2err = 1.0\n",
      "    \n",
      "    x = numpy.linspace(0,5,nx)\n",
      "    p[-1,:] = numpy.sin(1.5*numpy.pi*x/x[-1])\n",
      "    pn = p.copy()\n",
      "    \n",
      "    t1 = time.time()\n",
      "    iter = 0\n",
      "    \n",
      "    blockdim = (32, 32)\n",
      "    griddim = (ny/blockdim[0], nx/blockdim[1])\n",
      "    \n",
      "    stream = cuda.stream()\n",
      "    dP = cuda.to_device(p, stream)\n",
      "    dPn = cuda.to_device(pn, stream)\n",
      "    \n",
      "    while l2err > l2_target and iter < iter_max:\n",
      "                \n",
      "        jacobi_numbapro[griddim, blockdim, stream](dP, dPn)\n",
      "        \n",
      "        numbapro_neumann[griddim, blockdim, stream](dP, dPn)\n",
      "              \n",
      "        stream.synchronize()\n",
      "        \n",
      "              \n",
      "        tmp = dP\n",
      "        dP = dPn\n",
      "        dPn = tmp\n",
      "        if iter % 5000 == 0:\n",
      "            dP.to_host(stream)\n",
      "            dPn.to_host(stream)\n",
      "            l2err = numpy.sqrt(numpy.sum((p - pn)**2)/numpy.sum(pn**2))\n",
      "            print \"{:.1f}, {:.8f} (elapsed: {} s)\".format(iter, l2err, time.time()-t1)\n",
      "            \n",
      "        \n",
      "        iter += 1\n",
      "        #print iter\n",
      "    dP.to_host(stream)\n",
      "    dPn.to_host(stream)\n",
      "    runtime = time.time() - t1\n",
      "    print \"runtime: {}\".format(runtime)\n",
      "    \n",
      "    return p, pn\n",
      "        "
     ],
     "language": "python",
     "metadata": {},
     "outputs": [],
     "prompt_number": 174
    },
    {
     "cell_type": "code",
     "collapsed": false,
     "input": [
      "nx = 384\n",
      "ny = 384\n",
      "p, pn = main(ny, nx)"
     ],
     "language": "python",
     "metadata": {},
     "outputs": [
      {
       "output_type": "stream",
       "stream": "stdout",
       "text": [
        "0.0, 0.24253563 (elapsed: 0.00499200820923 s)\n",
        "5000.0, 0.00006632 (elapsed: 0.836918830872 s)"
       ]
      },
      {
       "output_type": "stream",
       "stream": "stdout",
       "text": [
        "\n",
        "10000.0, 0.00002864 (elapsed: 1.66901683807 s)"
       ]
      },
      {
       "output_type": "stream",
       "stream": "stdout",
       "text": [
        "\n",
        "15000.0, 0.00001641 (elapsed: 2.50195598602 s)"
       ]
      },
      {
       "output_type": "stream",
       "stream": "stdout",
       "text": [
        "\n",
        "20000.0, 0.00001054 (elapsed: 3.33531785011 s)"
       ]
      },
      {
       "output_type": "stream",
       "stream": "stdout",
       "text": [
        "\n",
        "25000.0, 0.00000721 (elapsed: 4.16706395149 s)"
       ]
      },
      {
       "output_type": "stream",
       "stream": "stdout",
       "text": [
        "\n",
        "30000.0, 0.00000511 (elapsed: 4.99978899956 s)"
       ]
      },
      {
       "output_type": "stream",
       "stream": "stdout",
       "text": [
        "\n",
        "35000.0, 0.00000372 (elapsed: 5.83140301704 s)"
       ]
      },
      {
       "output_type": "stream",
       "stream": "stdout",
       "text": [
        "\n",
        "40000.0, 0.00000275 (elapsed: 6.66490578651 s)"
       ]
      },
      {
       "output_type": "stream",
       "stream": "stdout",
       "text": [
        "\n",
        "45000.0, 0.00000205 (elapsed: 7.49714994431 s)"
       ]
      },
      {
       "output_type": "stream",
       "stream": "stdout",
       "text": [
        "\n",
        "50000.0, 0.00000154 (elapsed: 8.33008599281 s)"
       ]
      },
      {
       "output_type": "stream",
       "stream": "stdout",
       "text": [
        "\n",
        "55000.0, 0.00000116 (elapsed: 9.16251897812 s)"
       ]
      },
      {
       "output_type": "stream",
       "stream": "stdout",
       "text": [
        "\n",
        "60000.0, 0.00000088 (elapsed: 9.99719691277 s)"
       ]
      },
      {
       "output_type": "stream",
       "stream": "stdout",
       "text": [
        "\n",
        "65000.0, 0.00000067 (elapsed: 10.8294918537 s)"
       ]
      },
      {
       "output_type": "stream",
       "stream": "stdout",
       "text": [
        "\n",
        "70000.0, 0.00000051 (elapsed: 11.6620798111 s)"
       ]
      },
      {
       "output_type": "stream",
       "stream": "stdout",
       "text": [
        "\n",
        "75000.0, 0.00000038 (elapsed: 12.4948949814 s)"
       ]
      },
      {
       "output_type": "stream",
       "stream": "stdout",
       "text": [
        "\n",
        "80000.0, 0.00000029 (elapsed: 13.3281488419 s)"
       ]
      },
      {
       "output_type": "stream",
       "stream": "stdout",
       "text": [
        "\n",
        "85000.0, 0.00000022 (elapsed: 14.1606349945 s)"
       ]
      },
      {
       "output_type": "stream",
       "stream": "stdout",
       "text": [
        "\n",
        "90000.0, 0.00000017 (elapsed: 14.9934709072 s)"
       ]
      },
      {
       "output_type": "stream",
       "stream": "stdout",
       "text": [
        "\n",
        "95000.0, 0.00000013 (elapsed: 15.8256328106 s)"
       ]
      },
      {
       "output_type": "stream",
       "stream": "stdout",
       "text": [
        "\n",
        "100000.0, 0.00000010 (elapsed: 16.6588008404 s)"
       ]
      },
      {
       "output_type": "stream",
       "stream": "stdout",
       "text": [
        "\n",
        "105000.0, 0.00000007 (elapsed: 17.4901559353 s)"
       ]
      },
      {
       "output_type": "stream",
       "stream": "stdout",
       "text": [
        "\n",
        "110000.0, 0.00000006 (elapsed: 18.3233218193 s)"
       ]
      },
      {
       "output_type": "stream",
       "stream": "stdout",
       "text": [
        "\n",
        "115000.0, 0.00000004 (elapsed: 19.1552050114 s)"
       ]
      },
      {
       "output_type": "stream",
       "stream": "stdout",
       "text": [
        "\n",
        "120000.0, 0.00000003 (elapsed: 19.9883108139 s)"
       ]
      },
      {
       "output_type": "stream",
       "stream": "stdout",
       "text": [
        "\n",
        "125000.0, 0.00000002 (elapsed: 20.8205199242 s)"
       ]
      },
      {
       "output_type": "stream",
       "stream": "stdout",
       "text": [
        "\n",
        "130000.0, 0.00000002 (elapsed: 21.6531360149 s)"
       ]
      },
      {
       "output_type": "stream",
       "stream": "stdout",
       "text": [
        "\n",
        "135000.0, 0.00000001 (elapsed: 22.4854199886 s)"
       ]
      },
      {
       "output_type": "stream",
       "stream": "stdout",
       "text": [
        "\n",
        "140000.0, 0.00000001 (elapsed: 23.317786932 s)"
       ]
      },
      {
       "output_type": "stream",
       "stream": "stdout",
       "text": [
        "\n",
        "145000.0, 0.00000001 (elapsed: 24.1492009163 s)"
       ]
      },
      {
       "output_type": "stream",
       "stream": "stdout",
       "text": [
        "\n",
        "runtime: 24.1505708694\n"
       ]
      }
     ],
     "prompt_number": 175
    },
    {
     "cell_type": "code",
     "collapsed": false,
     "input": [
      "Blas().nrm2(p.flatten()-pn.flatten())/Blas().nrm2(pn.flatten())"
     ],
     "language": "python",
     "metadata": {},
     "outputs": [
      {
       "metadata": {},
       "output_type": "pyout",
       "prompt_number": 176,
       "text": [
        "8.344496824900262e-09"
       ]
      }
     ],
     "prompt_number": 176
    },
    {
     "cell_type": "code",
     "collapsed": false,
     "input": [
      "? numpy.linalg.norm"
     ],
     "language": "python",
     "metadata": {},
     "outputs": [],
     "prompt_number": 123
    },
    {
     "cell_type": "code",
     "collapsed": false,
     "input": [
      "%timeit numpy.linalg.norm((p-pn), 2)/numpy.linalg.norm(pn, 2)"
     ],
     "language": "python",
     "metadata": {},
     "outputs": [
      {
       "output_type": "stream",
       "stream": "stdout",
       "text": [
        "10 loops, best of 3: 79.8 ms per loop\n"
       ]
      }
     ],
     "prompt_number": 177
    },
    {
     "cell_type": "code",
     "collapsed": false,
     "input": [
      "%timeit numpy.sqrt(numpy.sum((p - pn)**2)/numpy.sum(pn**2))"
     ],
     "language": "python",
     "metadata": {},
     "outputs": [
      {
       "output_type": "stream",
       "stream": "stdout",
       "text": [
        "1000 loops, best of 3: 402 \u00b5s per loop\n"
       ]
      }
     ],
     "prompt_number": 178
    },
    {
     "cell_type": "code",
     "collapsed": false,
     "input": [
      "x = numpy.linspace(0,5,nx)\n",
      "y = numpy.linspace(0,5,ny)\n",
      "\n",
      "fig = plt.figure(figsize=(11,7), dpi=100)\n",
      "ax = fig.gca(projection='3d')\n",
      "X,Y = numpy.meshgrid(x,y)\n",
      "surf = ax.plot_surface(X,Y,p, rstride=1, cstride=1, cmap=cm.coolwarm,\n",
      "            linewidth=0, antialiased=False)\n",
      "ax.set_xlim(0,x[-1])\n",
      "ax.set_ylim(0,y[-1])\n",
      "ax.set_xlabel('$x$')\n",
      "ax.set_ylabel('$y$')\n",
      "ax.set_zlabel('$z$')\n",
      "ax.view_init(30,45)"
     ],
     "language": "python",
     "metadata": {},
     "outputs": [
      {
       "metadata": {},
       "output_type": "display_data",
       "png": "[encoded data removed]",
       "text": [
        "<matplotlib.figure.Figure at 0x7fdda687c610>"
       ]
      }
     ],
     "prompt_number": 150
    },
    {
     "cell_type": "code",
     "collapsed": false,
     "input": [],
     "language": "python",
     "metadata": {},
     "outputs": []
    }
   ],
   "metadata": {}
  }
 ]
}