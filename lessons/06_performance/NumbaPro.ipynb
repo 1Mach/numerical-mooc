{
 "metadata": {
  "name": "",
  "signature": "sha256:aaace801fb2a066dca151ebc1023f4a20c15a88ee22580d1ca4086a6b9915cec"
 },
 "nbformat": 3,
 "nbformat_minor": 0,
 "worksheets": [
  {
   "cells": [
    {
     "cell_type": "code",
     "collapsed": false,
     "input": [
      "import numba\n",
      "print numba.__version__"
     ],
     "language": "python",
     "metadata": {},
     "outputs": [
      {
       "output_type": "stream",
       "stream": "stdout",
       "text": [
        "0.17.0\n"
       ]
      }
     ],
     "prompt_number": 1
    },
    {
     "cell_type": "code",
     "collapsed": false,
     "input": [
      "import numbapro\n",
      "print numbapro.__version__"
     ],
     "language": "python",
     "metadata": {},
     "outputs": [
      {
       "output_type": "stream",
       "stream": "stdout",
       "text": [
        "0.17.1\n"
       ]
      }
     ],
     "prompt_number": 2
    },
    {
     "cell_type": "code",
     "collapsed": false,
     "input": [
      "import numba.cuda\n",
      "\n",
      "my_gpu = numba.cuda.get_current_device()\n",
      "print \"Running on GPU:\", my_gpu.name\n",
      "cores_per_capability = {\n",
      "    1: 8,\n",
      "    2: 32,\n",
      "    3: 192,\n",
      "}\n",
      "cc = my_gpu.compute_capability\n",
      "print \"Compute capability: \", \"%d.%d\" % cc, \"(Numba requires >= 2.0)\"\n",
      "majorcc = cc[0]\n",
      "print \"Number of streaming multiprocessor:\", my_gpu.MULTIPROCESSOR_COUNT\n",
      "cores_per_multiprocessor = cores_per_capability[majorcc]\n",
      "print \"Number of cores per mutliprocessor:\", cores_per_multiprocessor\n",
      "total_cores = cores_per_multiprocessor * my_gpu.MULTIPROCESSOR_COUNT\n",
      "print \"Number of cores on GPU:\", total_cores\n",
      "thread_ct = my_gpu.WARP_SIZE\n",
      "print \"Threads per block (max): {}\".format(thread_ct)"
     ],
     "language": "python",
     "metadata": {},
     "outputs": [
      {
       "output_type": "stream",
       "stream": "stdout",
       "text": [
        "Running on GPU: Tesla C2075\n",
        "Compute capability:  2.0 (Numba requires >= 2.0)\n",
        "Number of streaming multiprocessor: 14\n",
        "Number of cores per mutliprocessor: 32\n",
        "Number of cores on GPU: 448\n",
        "Threads per block (max): 32\n"
       ]
      }
     ],
     "prompt_number": 50
    },
    {
     "cell_type": "code",
     "collapsed": false,
     "input": [
      "import numpy\n",
      "from numbapro import cuda\n",
      "import time"
     ],
     "language": "python",
     "metadata": {},
     "outputs": [],
     "prompt_number": 4
    },
    {
     "cell_type": "code",
     "collapsed": false,
     "input": [
      "import matplotlib.pyplot as plt\n",
      "from matplotlib import cm\n",
      "from mpl_toolkits.mplot3d import axes3d\n",
      "%matplotlib inline"
     ],
     "language": "python",
     "metadata": {},
     "outputs": [],
     "prompt_number": 11
    },
    {
     "cell_type": "code",
     "collapsed": false,
     "input": [
      "@cuda.jit(argtypes=[numba.f8[:,:], numba.f8[:,:]])\n",
      "def numbapro_neumann(p, pn):\n",
      "    row = p.shape[0]\n",
      "    col = p.shape[1]\n",
      "    \n",
      "    i, j = cuda.grid(2)\n",
      "    \n",
      "    if j >= 1 and j < row-1 and i == col-1:\n",
      "        pn[j, i] = 0.25 * (2*p[j,i-1] + p[j+1,i] + p[j-1,i])"
     ],
     "language": "python",
     "metadata": {},
     "outputs": [],
     "prompt_number": 87
    },
    {
     "cell_type": "code",
     "collapsed": false,
     "input": [
      "@cuda.jit(argtypes=[numba.f8[:,:], numba.f8[:,:]])\n",
      "def jacobi_numbapro(p, pn, l2):\n",
      "    \n",
      "    row = p.shape[0]\n",
      "    col = p.shape[1]\n",
      "    \n",
      "    i, j = cuda.grid(2)\n",
      "    \n",
      "    if j >= 1 and j < row-1 and i >= 1 and i <= col - 2:\n",
      "        pn[j, i] = 0.25 * (p[j+1,i]+p[j-1,i]+p[j,i+1]+p[j,i-1])\n",
      "        l2[j, i] = pn[j,i] - p[j,i]\n",
      " "
     ],
     "language": "python",
     "metadata": {},
     "outputs": [],
     "prompt_number": 88
    },
    {
     "cell_type": "code",
     "collapsed": false,
     "input": [
      "@cuda.jit(argtypes=[numba.f8[:,:], numba.f8[:,:], numba.f8[:]])\n",
      "def L2_numbapro(p, pn, l2):\n",
      "    row = p.shape[0]\n",
      "    col = p.shape[1]\n",
      "    \n",
      "    i, j = cuda.grid(2)\n",
      "    \n",
      "    psum = 0\n",
      "    pnsum = 0\n",
      "    if j < row and i < col:\n",
      "        psum += (p[j,i]-pn[j,i])\n",
      "        pnsum += pn[j,i]\n",
      "        \n",
      "    cuda.syncthreads()\n",
      "    \n",
      "    l2[0] = psum/pnsum"
     ],
     "language": "python",
     "metadata": {},
     "outputs": [],
     "prompt_number": 89
    },
    {
     "cell_type": "code",
     "collapsed": false,
     "input": [
      "def main(ny, nx):\n",
      "    p = numpy.zeros((ny, nx), dtype=numpy.float64)\n",
      "    l2 = numpy.zeros_like(p)\n",
      "    \n",
      "    iter_max = 80000\n",
      "    l2_target = 1e-8\n",
      "    err = 1.0\n",
      "    \n",
      "    x = numpy.linspace(0,5,nx)\n",
      "    p[-1,:] = numpy.sin(1.5*numpy.pi*x/x[-1])\n",
      "    pn = p.copy()\n",
      "    \n",
      "    t1 = time.time()\n",
      "    iter = 0\n",
      "    \n",
      "    blockdim = (32, 32)\n",
      "    griddim = (ny/blockdim[0], nx/blockdim[1])\n",
      "    \n",
      "    stream = cuda.stream()\n",
      "    dP = cuda.to_device(p, stream)\n",
      "    dPn = cuda.to_device(pn, stream)\n",
      "    dL2 = cuda.to_device(l2, stream)\n",
      "    \n",
      "    while err > l2_target and iter < iter_max:\n",
      "        assert l2.dtype == numpy.float64\n",
      "        \n",
      "        jacobi_numbapro[griddim, blockdim, stream](dP, dPn, dL2)\n",
      "        #stream.synchronize()\n",
      "        numbapro_neumann[griddim, blockdim, stream](dP, dPn)\n",
      "        \n",
      "        \n",
      "        \n",
      "        stream.synchronize()\n",
      "        \n",
      "              \n",
      "        tmp = dP\n",
      "        dP = dPn\n",
      "        dPn = tmp\n",
      "        if iter % 500 == 0:\n",
      "            print \"%5d, %0.6f (elapsed: %f s)\" % (iter, err, time.time()-t1)\n",
      "            #err = numbapro.cudalib.cublas.Blas.norm2(p - pn)\n",
      "            #dL2.to_host(stream)\n",
      "            err = numpy.abs(l2).max()\n",
      "        \n",
      "        iter += 1\n",
      "        #print iter\n",
      "    dP.to_host(stream)\n",
      "    dPn.to_host(stream)\n",
      "    runtime = time.time() - t1\n",
      "    print \"runtime: {}\".format(runtime)\n",
      "    \n",
      "    return p, pn\n",
      "        "
     ],
     "language": "python",
     "metadata": {},
     "outputs": [],
     "prompt_number": 84
    },
    {
     "cell_type": "code",
     "collapsed": false,
     "input": [
      "numpy.linalg.norm((p-pn))/numpy.linalg.norm(pn)"
     ],
     "language": "python",
     "metadata": {},
     "outputs": [
      {
       "metadata": {},
       "output_type": "pyout",
       "prompt_number": 83,
       "text": [
        "2.0505143569819751e-06"
       ]
      }
     ],
     "prompt_number": 83
    },
    {
     "cell_type": "code",
     "collapsed": false,
     "input": [
      "nx = 384\n",
      "ny = 384\n",
      "p, pn = main(ny, nx)"
     ],
     "language": "python",
     "metadata": {},
     "outputs": [
      {
       "output_type": "stream",
       "stream": "stdout",
       "text": [
        "    0, 1.000000 (elapsed: 0.002628 s)\n",
        "  500, 0.249998 (elapsed: 0.093778 s)"
       ]
      },
      {
       "output_type": "stream",
       "stream": "stdout",
       "text": [
        "\n",
        " 1000, 0.000474 (elapsed: 0.184220 s)"
       ]
      },
      {
       "output_type": "stream",
       "stream": "stdout",
       "text": [
        "\n",
        " 1500, 0.000233 (elapsed: 0.274593 s)"
       ]
      },
      {
       "output_type": "stream",
       "stream": "stdout",
       "text": [
        "\n",
        " 2000, 0.000152 (elapsed: 0.364814 s)"
       ]
      },
      {
       "output_type": "stream",
       "stream": "stdout",
       "text": [
        "\n",
        " 2500, 0.000112 (elapsed: 0.454858 s)"
       ]
      },
      {
       "output_type": "stream",
       "stream": "stdout",
       "text": [
        "\n",
        " 3000, 0.000088 (elapsed: 0.544907 s)"
       ]
      },
      {
       "output_type": "stream",
       "stream": "stdout",
       "text": [
        "\n",
        " 3500, 0.000072 (elapsed: 0.634863 s)"
       ]
      },
      {
       "output_type": "stream",
       "stream": "stdout",
       "text": [
        "\n",
        " 4000, 0.000061 (elapsed: 0.725025 s)"
       ]
      },
      {
       "output_type": "stream",
       "stream": "stdout",
       "text": [
        "\n",
        " 4500, 0.000052 (elapsed: 0.815271 s)"
       ]
      },
      {
       "output_type": "stream",
       "stream": "stdout",
       "text": [
        "\n",
        " 5000, 0.000045 (elapsed: 0.905338 s)"
       ]
      },
      {
       "output_type": "stream",
       "stream": "stdout",
       "text": [
        "\n",
        " 5500, 0.000040 (elapsed: 0.995393 s)"
       ]
      },
      {
       "output_type": "stream",
       "stream": "stdout",
       "text": [
        "\n",
        " 6000, 0.000036 (elapsed: 1.085475 s)"
       ]
      },
      {
       "output_type": "stream",
       "stream": "stdout",
       "text": [
        "\n",
        " 6500, 0.000032 (elapsed: 1.175565 s)"
       ]
      },
      {
       "output_type": "stream",
       "stream": "stdout",
       "text": [
        "\n",
        " 7000, 0.000029 (elapsed: 1.265672 s)"
       ]
      },
      {
       "output_type": "stream",
       "stream": "stdout",
       "text": [
        "\n",
        " 7500, 0.000027 (elapsed: 1.356104 s)"
       ]
      },
      {
       "output_type": "stream",
       "stream": "stdout",
       "text": [
        "\n",
        " 8000, 0.000024 (elapsed: 1.446291 s)"
       ]
      },
      {
       "output_type": "stream",
       "stream": "stdout",
       "text": [
        "\n",
        " 8500, 0.000022 (elapsed: 1.536479 s)"
       ]
      },
      {
       "output_type": "stream",
       "stream": "stdout",
       "text": [
        "\n",
        " 9000, 0.000021 (elapsed: 1.626523 s)"
       ]
      },
      {
       "output_type": "stream",
       "stream": "stdout",
       "text": [
        "\n",
        " 9500, 0.000019 (elapsed: 1.716555 s)"
       ]
      },
      {
       "output_type": "stream",
       "stream": "stdout",
       "text": [
        "\n",
        "10000, 0.000018 (elapsed: 1.806809 s)"
       ]
      },
      {
       "output_type": "stream",
       "stream": "stdout",
       "text": [
        "\n",
        "10500, 0.000017 (elapsed: 1.896960 s)"
       ]
      },
      {
       "output_type": "stream",
       "stream": "stdout",
       "text": [
        "\n",
        "11000, 0.000015 (elapsed: 1.987020 s)"
       ]
      },
      {
       "output_type": "stream",
       "stream": "stdout",
       "text": [
        "\n",
        "11500, 0.000015 (elapsed: 2.077029 s)"
       ]
      },
      {
       "output_type": "stream",
       "stream": "stdout",
       "text": [
        "\n",
        "12000, 0.000014 (elapsed: 2.167036 s)"
       ]
      },
      {
       "output_type": "stream",
       "stream": "stdout",
       "text": [
        "\n",
        "12500, 0.000013 (elapsed: 2.257167 s)"
       ]
      },
      {
       "output_type": "stream",
       "stream": "stdout",
       "text": [
        "\n",
        "13000, 0.000012 (elapsed: 2.347218 s)"
       ]
      },
      {
       "output_type": "stream",
       "stream": "stdout",
       "text": [
        "\n",
        "13500, 0.000011 (elapsed: 2.437237 s)"
       ]
      },
      {
       "output_type": "stream",
       "stream": "stdout",
       "text": [
        "\n",
        "14000, 0.000011 (elapsed: 2.527728 s)"
       ]
      },
      {
       "output_type": "stream",
       "stream": "stdout",
       "text": [
        "\n",
        "14500, 0.000010 (elapsed: 2.617980 s)"
       ]
      },
      {
       "output_type": "stream",
       "stream": "stdout",
       "text": [
        "\n",
        "15000, 0.000010 (elapsed: 2.708049 s)"
       ]
      },
      {
       "output_type": "stream",
       "stream": "stdout",
       "text": [
        "\n",
        "15500, 0.000009 (elapsed: 2.798236 s)"
       ]
      },
      {
       "output_type": "stream",
       "stream": "stdout",
       "text": [
        "\n",
        "16000, 0.000009 (elapsed: 2.888375 s)"
       ]
      },
      {
       "output_type": "stream",
       "stream": "stdout",
       "text": [
        "\n",
        "16500, 0.000008 (elapsed: 2.978408 s)"
       ]
      },
      {
       "output_type": "stream",
       "stream": "stdout",
       "text": [
        "\n",
        "17000, 0.000008 (elapsed: 3.068456 s)"
       ]
      },
      {
       "output_type": "stream",
       "stream": "stdout",
       "text": [
        "\n",
        "17500, 0.000007 (elapsed: 3.158516 s)"
       ]
      },
      {
       "output_type": "stream",
       "stream": "stdout",
       "text": [
        "\n",
        "18000, 0.000007 (elapsed: 3.248635 s)"
       ]
      },
      {
       "output_type": "stream",
       "stream": "stdout",
       "text": [
        "\n",
        "18500, 0.000007 (elapsed: 3.338709 s)"
       ]
      },
      {
       "output_type": "stream",
       "stream": "stdout",
       "text": [
        "\n",
        "19000, 0.000006 (elapsed: 3.429030 s)"
       ]
      },
      {
       "output_type": "stream",
       "stream": "stdout",
       "text": [
        "\n",
        "19500, 0.000006 (elapsed: 3.519216 s)"
       ]
      },
      {
       "output_type": "stream",
       "stream": "stdout",
       "text": [
        "\n",
        "20000, 0.000006 (elapsed: 3.609226 s)"
       ]
      },
      {
       "output_type": "stream",
       "stream": "stdout",
       "text": [
        "\n",
        "20500, 0.000006 (elapsed: 3.699196 s)"
       ]
      },
      {
       "output_type": "stream",
       "stream": "stdout",
       "text": [
        "\n",
        "21000, 0.000005 (elapsed: 3.789394 s)"
       ]
      },
      {
       "output_type": "stream",
       "stream": "stdout",
       "text": [
        "\n",
        "21500, 0.000005 (elapsed: 3.879475 s)"
       ]
      },
      {
       "output_type": "stream",
       "stream": "stdout",
       "text": [
        "\n",
        "22000, 0.000005 (elapsed: 3.969568 s)"
       ]
      },
      {
       "output_type": "stream",
       "stream": "stdout",
       "text": [
        "\n",
        "22500, 0.000005 (elapsed: 4.059666 s)"
       ]
      },
      {
       "output_type": "stream",
       "stream": "stdout",
       "text": [
        "\n",
        "23000, 0.000005 (elapsed: 4.150566 s)"
       ]
      },
      {
       "output_type": "stream",
       "stream": "stdout",
       "text": [
        "\n",
        "23500, 0.000004 (elapsed: 4.240587 s)"
       ]
      },
      {
       "output_type": "stream",
       "stream": "stdout",
       "text": [
        "\n",
        "24000, 0.000004 (elapsed: 4.330668 s)"
       ]
      },
      {
       "output_type": "stream",
       "stream": "stdout",
       "text": [
        "\n",
        "24500, 0.000004 (elapsed: 4.420723 s)"
       ]
      },
      {
       "output_type": "stream",
       "stream": "stdout",
       "text": [
        "\n",
        "25000, 0.000004 (elapsed: 4.510782 s)"
       ]
      },
      {
       "output_type": "stream",
       "stream": "stdout",
       "text": [
        "\n",
        "25500, 0.000004 (elapsed: 4.600889 s)"
       ]
      },
      {
       "output_type": "stream",
       "stream": "stdout",
       "text": [
        "\n",
        "26000, 0.000004 (elapsed: 4.690984 s)"
       ]
      },
      {
       "output_type": "stream",
       "stream": "stdout",
       "text": [
        "\n",
        "26500, 0.000003 (elapsed: 4.781162 s)"
       ]
      },
      {
       "output_type": "stream",
       "stream": "stdout",
       "text": [
        "\n",
        "27000, 0.000003 (elapsed: 4.871400 s)"
       ]
      },
      {
       "output_type": "stream",
       "stream": "stdout",
       "text": [
        "\n",
        "27500, 0.000003 (elapsed: 4.961720 s)"
       ]
      },
      {
       "output_type": "stream",
       "stream": "stdout",
       "text": [
        "\n",
        "28000, 0.000003 (elapsed: 5.051835 s)"
       ]
      },
      {
       "output_type": "stream",
       "stream": "stdout",
       "text": [
        "\n",
        "28500, 0.000003 (elapsed: 5.141779 s)"
       ]
      },
      {
       "output_type": "stream",
       "stream": "stdout",
       "text": [
        "\n",
        "29000, 0.000003 (elapsed: 5.231754 s)"
       ]
      },
      {
       "output_type": "stream",
       "stream": "stdout",
       "text": [
        "\n",
        "29500, 0.000003 (elapsed: 5.321984 s)"
       ]
      },
      {
       "output_type": "stream",
       "stream": "stdout",
       "text": [
        "\n",
        "30000, 0.000003 (elapsed: 5.412219 s)"
       ]
      },
      {
       "output_type": "stream",
       "stream": "stdout",
       "text": [
        "\n",
        "30500, 0.000003 (elapsed: 5.502313 s)"
       ]
      },
      {
       "output_type": "stream",
       "stream": "stdout",
       "text": [
        "\n",
        "31000, 0.000003 (elapsed: 5.592394 s)"
       ]
      },
      {
       "output_type": "stream",
       "stream": "stdout",
       "text": [
        "\n",
        "31500, 0.000002 (elapsed: 5.682394 s)"
       ]
      },
      {
       "output_type": "stream",
       "stream": "stdout",
       "text": [
        "\n",
        "32000, 0.000002 (elapsed: 5.772541 s)"
       ]
      },
      {
       "output_type": "stream",
       "stream": "stdout",
       "text": [
        "\n",
        "32500, 0.000002 (elapsed: 5.862608 s)"
       ]
      },
      {
       "output_type": "stream",
       "stream": "stdout",
       "text": [
        "\n",
        "33000, 0.000002 (elapsed: 5.952636 s)"
       ]
      },
      {
       "output_type": "stream",
       "stream": "stdout",
       "text": [
        "\n",
        "33500, 0.000002 (elapsed: 6.042697 s)"
       ]
      },
      {
       "output_type": "stream",
       "stream": "stdout",
       "text": [
        "\n",
        "34000, 0.000002 (elapsed: 6.132771 s)"
       ]
      },
      {
       "output_type": "stream",
       "stream": "stdout",
       "text": [
        "\n",
        "34500, 0.000002 (elapsed: 6.222899 s)"
       ]
      },
      {
       "output_type": "stream",
       "stream": "stdout",
       "text": [
        "\n",
        "35000, 0.000002 (elapsed: 6.312938 s)"
       ]
      },
      {
       "output_type": "stream",
       "stream": "stdout",
       "text": [
        "\n",
        "35500, 0.000002 (elapsed: 6.402938 s)"
       ]
      },
      {
       "output_type": "stream",
       "stream": "stdout",
       "text": [
        "\n",
        "36000, 0.000002 (elapsed: 6.492939 s)"
       ]
      },
      {
       "output_type": "stream",
       "stream": "stdout",
       "text": [
        "\n",
        "36500, 0.000002 (elapsed: 6.582995 s)"
       ]
      },
      {
       "output_type": "stream",
       "stream": "stdout",
       "text": [
        "\n",
        "37000, 0.000002 (elapsed: 6.673058 s)"
       ]
      },
      {
       "output_type": "stream",
       "stream": "stdout",
       "text": [
        "\n",
        "37500, 0.000002 (elapsed: 6.763283 s)"
       ]
      },
      {
       "output_type": "stream",
       "stream": "stdout",
       "text": [
        "\n",
        "38000, 0.000002 (elapsed: 6.853526 s)"
       ]
      },
      {
       "output_type": "stream",
       "stream": "stdout",
       "text": [
        "\n",
        "38500, 0.000002 (elapsed: 6.943565 s)"
       ]
      },
      {
       "output_type": "stream",
       "stream": "stdout",
       "text": [
        "\n",
        "39000, 0.000001 (elapsed: 7.033528 s)"
       ]
      },
      {
       "output_type": "stream",
       "stream": "stdout",
       "text": [
        "\n",
        "39500, 0.000001 (elapsed: 7.123905 s)"
       ]
      },
      {
       "output_type": "stream",
       "stream": "stdout",
       "text": [
        "\n",
        "40000, 0.000001 (elapsed: 7.214109 s)"
       ]
      },
      {
       "output_type": "stream",
       "stream": "stdout",
       "text": [
        "\n",
        "40500, 0.000001 (elapsed: 7.304066 s)"
       ]
      },
      {
       "output_type": "stream",
       "stream": "stdout",
       "text": [
        "\n",
        "41000, 0.000001 (elapsed: 7.394126 s)"
       ]
      },
      {
       "output_type": "stream",
       "stream": "stdout",
       "text": [
        "\n",
        "41500, 0.000001 (elapsed: 7.484099 s)"
       ]
      },
      {
       "output_type": "stream",
       "stream": "stdout",
       "text": [
        "\n",
        "42000, 0.000001 (elapsed: 7.574307 s)"
       ]
      },
      {
       "output_type": "stream",
       "stream": "stdout",
       "text": [
        "\n",
        "42500, 0.000001 (elapsed: 7.664509 s)"
       ]
      },
      {
       "output_type": "stream",
       "stream": "stdout",
       "text": [
        "\n",
        "43000, 0.000001 (elapsed: 7.754891 s)"
       ]
      },
      {
       "output_type": "stream",
       "stream": "stdout",
       "text": [
        "\n",
        "43500, 0.000001 (elapsed: 7.844986 s)"
       ]
      },
      {
       "output_type": "stream",
       "stream": "stdout",
       "text": [
        "\n",
        "44000, 0.000001 (elapsed: 7.935045 s)"
       ]
      },
      {
       "output_type": "stream",
       "stream": "stdout",
       "text": [
        "\n",
        "44500, 0.000001 (elapsed: 8.025038 s)"
       ]
      },
      {
       "output_type": "stream",
       "stream": "stdout",
       "text": [
        "\n",
        "45000, 0.000001 (elapsed: 8.115148 s)"
       ]
      },
      {
       "output_type": "stream",
       "stream": "stdout",
       "text": [
        "\n",
        "45500, 0.000001 (elapsed: 8.205116 s)"
       ]
      },
      {
       "output_type": "stream",
       "stream": "stdout",
       "text": [
        "\n",
        "46000, 0.000001 (elapsed: 8.295171 s)"
       ]
      },
      {
       "output_type": "stream",
       "stream": "stdout",
       "text": [
        "\n",
        "46500, 0.000001 (elapsed: 8.385188 s)"
       ]
      },
      {
       "output_type": "stream",
       "stream": "stdout",
       "text": [
        "\n",
        "47000, 0.000001 (elapsed: 8.475146 s)"
       ]
      },
      {
       "output_type": "stream",
       "stream": "stdout",
       "text": [
        "\n",
        "47500, 0.000001 (elapsed: 8.565173 s)"
       ]
      },
      {
       "output_type": "stream",
       "stream": "stdout",
       "text": [
        "\n",
        "48000, 0.000001 (elapsed: 8.655289 s)"
       ]
      },
      {
       "output_type": "stream",
       "stream": "stdout",
       "text": [
        "\n",
        "48500, 0.000001 (elapsed: 8.745535 s)"
       ]
      },
      {
       "output_type": "stream",
       "stream": "stdout",
       "text": [
        "\n",
        "49000, 0.000001 (elapsed: 8.835799 s)"
       ]
      },
      {
       "output_type": "stream",
       "stream": "stdout",
       "text": [
        "\n",
        "49500, 0.000001 (elapsed: 8.925872 s)"
       ]
      },
      {
       "output_type": "stream",
       "stream": "stdout",
       "text": [
        "\n",
        "50000, 0.000001 (elapsed: 9.015943 s)"
       ]
      },
      {
       "output_type": "stream",
       "stream": "stdout",
       "text": [
        "\n",
        "50500, 0.000001 (elapsed: 9.106061 s)"
       ]
      },
      {
       "output_type": "stream",
       "stream": "stdout",
       "text": [
        "\n",
        "51000, 0.000001 (elapsed: 9.196053 s)"
       ]
      },
      {
       "output_type": "stream",
       "stream": "stdout",
       "text": [
        "\n",
        "51500, 0.000001 (elapsed: 9.286465 s)"
       ]
      },
      {
       "output_type": "stream",
       "stream": "stdout",
       "text": [
        "\n",
        "52000, 0.000001 (elapsed: 9.376926 s)"
       ]
      },
      {
       "output_type": "stream",
       "stream": "stdout",
       "text": [
        "\n",
        "52500, 0.000001 (elapsed: 9.466870 s)"
       ]
      },
      {
       "output_type": "stream",
       "stream": "stdout",
       "text": [
        "\n",
        "53000, 0.000001 (elapsed: 9.556898 s)"
       ]
      },
      {
       "output_type": "stream",
       "stream": "stdout",
       "text": [
        "\n",
        "53500, 0.000001 (elapsed: 9.646856 s)"
       ]
      },
      {
       "output_type": "stream",
       "stream": "stdout",
       "text": [
        "\n",
        "54000, 0.000001 (elapsed: 9.737129 s)"
       ]
      },
      {
       "output_type": "stream",
       "stream": "stdout",
       "text": [
        "\n",
        "54500, 0.000001 (elapsed: 9.827290 s)"
       ]
      },
      {
       "output_type": "stream",
       "stream": "stdout",
       "text": [
        "\n",
        "55000, 0.000001 (elapsed: 9.917412 s)"
       ]
      },
      {
       "output_type": "stream",
       "stream": "stdout",
       "text": [
        "\n",
        "55500, 0.000001 (elapsed: 10.007923 s)"
       ]
      },
      {
       "output_type": "stream",
       "stream": "stdout",
       "text": [
        "\n",
        "56000, 0.000001 (elapsed: 10.098196 s)"
       ]
      },
      {
       "output_type": "stream",
       "stream": "stdout",
       "text": [
        "\n",
        "56500, 0.000001 (elapsed: 10.188317 s)"
       ]
      },
      {
       "output_type": "stream",
       "stream": "stdout",
       "text": [
        "\n",
        "57000, 0.000000 (elapsed: 10.278347 s)"
       ]
      },
      {
       "output_type": "stream",
       "stream": "stdout",
       "text": [
        "\n",
        "57500, 0.000000 (elapsed: 10.368423 s)"
       ]
      },
      {
       "output_type": "stream",
       "stream": "stdout",
       "text": [
        "\n",
        "58000, 0.000000 (elapsed: 10.458477 s)"
       ]
      },
      {
       "output_type": "stream",
       "stream": "stdout",
       "text": [
        "\n",
        "58500, 0.000000 (elapsed: 10.548562 s)"
       ]
      },
      {
       "output_type": "stream",
       "stream": "stdout",
       "text": [
        "\n",
        "59000, 0.000000 (elapsed: 10.638592 s)"
       ]
      },
      {
       "output_type": "stream",
       "stream": "stdout",
       "text": [
        "\n",
        "59500, 0.000000 (elapsed: 10.728801 s)"
       ]
      },
      {
       "output_type": "stream",
       "stream": "stdout",
       "text": [
        "\n",
        "60000, 0.000000 (elapsed: 10.819259 s)"
       ]
      },
      {
       "output_type": "stream",
       "stream": "stdout",
       "text": [
        "\n",
        "60500, 0.000000 (elapsed: 10.909328 s)"
       ]
      },
      {
       "output_type": "stream",
       "stream": "stdout",
       "text": [
        "\n",
        "61000, 0.000000 (elapsed: 10.999407 s)"
       ]
      },
      {
       "output_type": "stream",
       "stream": "stdout",
       "text": [
        "\n",
        "61500, 0.000000 (elapsed: 11.089467 s)"
       ]
      },
      {
       "output_type": "stream",
       "stream": "stdout",
       "text": [
        "\n",
        "62000, 0.000000 (elapsed: 11.179581 s)"
       ]
      },
      {
       "output_type": "stream",
       "stream": "stdout",
       "text": [
        "\n",
        "62500, 0.000000 (elapsed: 11.269657 s)"
       ]
      },
      {
       "output_type": "stream",
       "stream": "stdout",
       "text": [
        "\n",
        "63000, 0.000000 (elapsed: 11.359792 s)"
       ]
      },
      {
       "output_type": "stream",
       "stream": "stdout",
       "text": [
        "\n",
        "63500, 0.000000 (elapsed: 11.450105 s)"
       ]
      },
      {
       "output_type": "stream",
       "stream": "stdout",
       "text": [
        "\n",
        "64000, 0.000000 (elapsed: 11.540417 s)"
       ]
      },
      {
       "output_type": "stream",
       "stream": "stdout",
       "text": [
        "\n",
        "64500, 0.000000 (elapsed: 11.630644 s)"
       ]
      },
      {
       "output_type": "stream",
       "stream": "stdout",
       "text": [
        "\n",
        "65000, 0.000000 (elapsed: 11.721021 s)"
       ]
      },
      {
       "output_type": "stream",
       "stream": "stdout",
       "text": [
        "\n",
        "65500, 0.000000 (elapsed: 11.811304 s)"
       ]
      },
      {
       "output_type": "stream",
       "stream": "stdout",
       "text": [
        "\n",
        "66000, 0.000000 (elapsed: 11.901452 s)"
       ]
      },
      {
       "output_type": "stream",
       "stream": "stdout",
       "text": [
        "\n",
        "66500, 0.000000 (elapsed: 11.991478 s)"
       ]
      },
      {
       "output_type": "stream",
       "stream": "stdout",
       "text": [
        "\n",
        "67000, 0.000000 (elapsed: 12.081539 s)"
       ]
      },
      {
       "output_type": "stream",
       "stream": "stdout",
       "text": [
        "\n",
        "67500, 0.000000 (elapsed: 12.171854 s)"
       ]
      },
      {
       "output_type": "stream",
       "stream": "stdout",
       "text": [
        "\n",
        "68000, 0.000000 (elapsed: 12.262008 s)"
       ]
      },
      {
       "output_type": "stream",
       "stream": "stdout",
       "text": [
        "\n",
        "68500, 0.000000 (elapsed: 12.352321 s)"
       ]
      },
      {
       "output_type": "stream",
       "stream": "stdout",
       "text": [
        "\n",
        "69000, 0.000000 (elapsed: 12.442398 s)"
       ]
      },
      {
       "output_type": "stream",
       "stream": "stdout",
       "text": [
        "\n",
        "69500, 0.000000 (elapsed: 12.532397 s)"
       ]
      },
      {
       "output_type": "stream",
       "stream": "stdout",
       "text": [
        "\n",
        "70000, 0.000000 (elapsed: 12.622751 s)"
       ]
      },
      {
       "output_type": "stream",
       "stream": "stdout",
       "text": [
        "\n",
        "70500, 0.000000 (elapsed: 12.712811 s)"
       ]
      },
      {
       "output_type": "stream",
       "stream": "stdout",
       "text": [
        "\n",
        "71000, 0.000000 (elapsed: 12.803033 s)"
       ]
      },
      {
       "output_type": "stream",
       "stream": "stdout",
       "text": [
        "\n",
        "71500, 0.000000 (elapsed: 12.893209 s)"
       ]
      },
      {
       "output_type": "stream",
       "stream": "stdout",
       "text": [
        "\n",
        "72000, 0.000000 (elapsed: 12.983569 s)"
       ]
      },
      {
       "output_type": "stream",
       "stream": "stdout",
       "text": [
        "\n",
        "72500, 0.000000 (elapsed: 13.073882 s)"
       ]
      },
      {
       "output_type": "stream",
       "stream": "stdout",
       "text": [
        "\n",
        "73000, 0.000000 (elapsed: 13.163967 s)"
       ]
      },
      {
       "output_type": "stream",
       "stream": "stdout",
       "text": [
        "\n",
        "73500, 0.000000 (elapsed: 13.254011 s)"
       ]
      },
      {
       "output_type": "stream",
       "stream": "stdout",
       "text": [
        "\n",
        "74000, 0.000000 (elapsed: 13.344451 s)"
       ]
      },
      {
       "output_type": "stream",
       "stream": "stdout",
       "text": [
        "\n",
        "74500, 0.000000 (elapsed: 13.434688 s)"
       ]
      },
      {
       "output_type": "stream",
       "stream": "stdout",
       "text": [
        "\n",
        "75000, 0.000000 (elapsed: 13.524739 s)"
       ]
      },
      {
       "output_type": "stream",
       "stream": "stdout",
       "text": [
        "\n",
        "75500, 0.000000 (elapsed: 13.614815 s)"
       ]
      },
      {
       "output_type": "stream",
       "stream": "stdout",
       "text": [
        "\n",
        "76000, 0.000000 (elapsed: 13.705106 s)"
       ]
      },
      {
       "output_type": "stream",
       "stream": "stdout",
       "text": [
        "\n",
        "76500, 0.000000 (elapsed: 13.795557 s)"
       ]
      },
      {
       "output_type": "stream",
       "stream": "stdout",
       "text": [
        "\n",
        "77000, 0.000000 (elapsed: 13.885645 s)"
       ]
      },
      {
       "output_type": "stream",
       "stream": "stdout",
       "text": [
        "\n",
        "77500, 0.000000 (elapsed: 13.975683 s)"
       ]
      },
      {
       "output_type": "stream",
       "stream": "stdout",
       "text": [
        "\n",
        "78000, 0.000000 (elapsed: 14.065815 s)"
       ]
      },
      {
       "output_type": "stream",
       "stream": "stdout",
       "text": [
        "\n",
        "78500, 0.000000 (elapsed: 14.155838 s)"
       ]
      },
      {
       "output_type": "stream",
       "stream": "stdout",
       "text": [
        "\n",
        "79000, 0.000000 (elapsed: 14.245927 s)"
       ]
      },
      {
       "output_type": "stream",
       "stream": "stdout",
       "text": [
        "\n",
        "79500, 0.000000 (elapsed: 14.335937 s)"
       ]
      },
      {
       "output_type": "stream",
       "stream": "stdout",
       "text": [
        "\n",
        "runtime: 14.4270641804"
       ]
      },
      {
       "output_type": "stream",
       "stream": "stdout",
       "text": [
        "\n"
       ]
      }
     ],
     "prompt_number": 85
    },
    {
     "cell_type": "code",
     "collapsed": false,
     "input": [
      "numpy.sqrt(numpy.sum((p - pn)**2)/numpy.sum(pn**2))"
     ],
     "language": "python",
     "metadata": {},
     "outputs": [
      {
       "metadata": {},
       "output_type": "pyout",
       "prompt_number": 86,
       "text": [
        "2.9234092402148335e-07"
       ]
      }
     ],
     "prompt_number": 86
    },
    {
     "cell_type": "code",
     "collapsed": false,
     "input": [
      "x = numpy.linspace(0,5,nx)\n",
      "y = numpy.linspace(0,5,ny)\n",
      "\n",
      "fig = plt.figure(figsize=(11,7), dpi=100)\n",
      "ax = fig.gca(projection='3d')\n",
      "X,Y = numpy.meshgrid(x,y)\n",
      "surf = ax.plot_surface(X,Y,p, rstride=1, cstride=1, cmap=cm.coolwarm,\n",
      "            linewidth=0, antialiased=False)\n",
      "ax.set_xlim(0,x[-1])\n",
      "ax.set_ylim(0,y[-1])\n",
      "ax.set_xlabel('$x$')\n",
      "ax.set_ylabel('$y$')\n",
      "ax.set_zlabel('$z$')\n",
      "ax.view_init(30,45)"
     ],
     "language": "python",
     "metadata": {},
     "outputs": [
      {
       "metadata": {},
       "output_type": "display_data",
       "png": "[encoded data removed]",
       "text": [
        "<matplotlib.figure.Figure at 0x7fddad6118d0>"
       ]
      }
     ],
     "prompt_number": 28
    },
    {
     "cell_type": "code",
     "collapsed": false,
     "input": [],
     "language": "python",
     "metadata": {},
     "outputs": []
    }
   ],
   "metadata": {}
  }
 ]
}