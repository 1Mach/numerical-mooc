{
 "metadata": {
  "name": "",
  "signature": "sha256:0ba9288118ef42c06c95eb4297ba52062f37dedb7eaa7ceeb644a756b3937d98"
 },
 "nbformat": 3,
 "nbformat_minor": 0,
 "worksheets": [
  {
   "cells": [
    {
     "cell_type": "heading",
     "level": 6,
     "metadata": {},
     "source": [
      "Content under Creative Commons Attribution license CC-BY 4.0, code under MIT license (c)2014 L.A. Barba, G.F. Forsyth, C.D. Cooper."
     ]
    },
    {
     "cell_type": "heading",
     "level": 1,
     "metadata": {},
     "source": [
      "Spreading out"
     ]
    },
    {
     "cell_type": "markdown",
     "metadata": {},
     "source": [
      "Welcome to the fifth, and last, notebook of \"_Spreading out: parabolic PDEs!\"_\n",
      "\n",
      "In this module, we have learned about explicit and implicit methods for parabolic equations in 1 and 2 dimensions. So far, all schemes have been first order in time and second order in space. Can we do any better? We certainly can: this notebook presents the Crank-Nicolson scheme, which is second order in both time and space! Once again, we will use the heat equation that you've seen throughout this module to guide the discussion. "
     ]
    },
    {
     "cell_type": "heading",
     "level": 2,
     "metadata": {},
     "source": [
      "Crank-Nicolson scheme"
     ]
    },
    {
     "cell_type": "markdown",
     "metadata": {},
     "source": [
      "The [Crank Nicolson scheme](http://en.wikipedia.org/wiki/Crank\u2013Nicolson_method) is a popular second-order, implicit method used with parabolic PDEs in particular. It was developed by John Crank and [Phyllis Nicolson](http://en.wikipedia.org/wiki/Phyllis_Nicolson). The main idea is to take the average between the solutions at $t=n$ and $t=n+1$ in the evaluation of the spatial derivative. Why bother doing it? Now, time is discretized with a centered scheme, which is second order accurate!\n",
      "\n",
      "Remember the 1D heat equation from the [first notebook](https://github.com/numerical-mooc/numerical-mooc/blob/master/lessons/04_spreadout/01_Heat_Equation_1D_Explicit.ipynb)? Just to refresh your memory:\n",
      "\n",
      "\\begin{equation}\n",
      "\\frac{\\partial T}{\\partial t} = \\alpha \\frac{\\partial^2T}{\\partial x^2}.\n",
      "\\end{equation}\n",
      "\n",
      "In this case, Crank Nicolson leads to the following discretized equation:\n",
      "\n",
      "\\begin{equation}\n",
      "\\frac{T^{n+1}_i - T^n_i}{\\Delta t} = \\alpha \\cdot \\frac{1}{2} \\left( \n",
      "\\frac{T^{n+1}_{i+1} - 2T^{n+1}_i + T^{n+1}_{i-1}}{\\Delta x^2} + \\frac{T^n_{i+1}-2T^n_i + T^n_{i-1}}{\\Delta x^2}\n",
      "\\right)\n",
      "\\end{equation}\n",
      "\n",
      "Look at the stencil, we are using a lot more information than before!\n",
      "\n",
      "![stencil-cranknicolson](./figures/stencil-cranknicolson.png)\n",
      "\n",
      "#### Figure 2. Stencil of the Crank-Nicolson scheme.\n",
      "\n",
      "Rearraning terms so that what we don't know is to the left and what we know to the right, we get\n",
      "\n",
      "\\begin{equation} \n",
      "-T^{n+1}_{i-1} + 2\\left(\\frac{\\Delta x^2}{\\alpha\\Delta t}+1\\right)T^{n+1}_i - T^{n+1}_{i+1} = T^{n}_{i-1} + 2\\left(\\frac{\\Delta x^2}{\\alpha\\Delta t}-1\\right)T^{n}_i + T^{n}_{i+1}\n",
      "\\end{equation}\n",
      "\n",
      "Again, we are left with a linear system of equations. Check out the left side of that equation: it looks a lot like the matrix from [notebook 2](https://github.com/numerical-mooc/numerical-mooc/blob/master/lessons/04_spreadout/02_Heat_Equation_1D_Implicit.ipynb), doesn't it? Apart from the slight modification in the $T_i^{n+1}$ term, the left side of the equation is pretty much the same. What about the right-hand side? Sure, it looks quite different, but that is not a problem, we know all those terms!\n",
      "\n",
      "Things don't change much for boundary conditions, either. Say $T_0^{n+1}$ is a Dirichlet boundary. The equation for $i=1$ becomes\n",
      "\n",
      "\\begin{equation} \n",
      " 2\\left(\\frac{\\Delta x^2}{\\alpha\\Delta t}+1\\right)T^{n+1}_1 - T^{n+1}_{2} = T^{n}_{0} + 2\\left(\\frac{\\Delta x^2}{\\alpha\\Delta t}-1\\right)T^{n}_1 + T^{n}_{2} + T^{n+1}_{0}\n",
      "\\end{equation}\n",
      "\n",
      "And if we have a Neumann boundary $\\left(\\left.\\frac{\\partial T}{\\partial x}\\right|_{x=L} = q\\right)$ at $T_{n_x-1}^{n+1}$? We know this stuff, right? For $i=n_x-2$ we get\n",
      "\n",
      "\\begin{equation} \n",
      "-T^{n+1}_{n_x-3} + \\left(2\\frac{\\Delta x^2}{\\alpha\\Delta t}+1\\right)T^{n+1}_{n_x-2} = T^{n}_{n_x-3} + 2\\left(\\frac{\\Delta x^2}{\\alpha\\Delta t}-1\\right)T^{n}_{n_x-2} + T^{n}_{n_x-1} + q\\Delta x\n",
      "\\end{equation}\n",
      "\n",
      "The code will look a lot like the implicit method from the [second notebook](https://github.com/numerical-mooc/numerical-mooc/blob/master/lessons/04_spreadout/02_Heat_Equation_1D_Implicit.ipynb)!"
     ]
    },
    {
     "cell_type": "heading",
     "level": 3,
     "metadata": {},
     "source": [
      "The linear system"
     ]
    },
    {
     "cell_type": "markdown",
     "metadata": {},
     "source": [
      "Just like in [notebook 2](https://github.com/numerical-mooc/numerical-mooc/blob/master/lessons/04_spreadout/02_Heat_Equation_1D_Implicit.ipynb), we need to solve a linear system in every time step. The matrix is very similar, but the right-hand side changes a lot:\n",
      "\n",
      "\\begin{align}\\left[ \\begin{array}{cccccc}\n",
      " 2\\left(\\frac{1}{\\sigma}+1\\right) & -1 & 0 & \\cdots & & 0 \\\\\n",
      " -1 & 2\\left(\\frac{1}{\\sigma}+1\\right) & -1 & 0 & \\cdots & 0 \\\\\n",
      " 0 & & \\ddots& & & \\vdots \\\\\n",
      " \\vdots & & & & 2\\left(\\frac{1}{\\sigma}+1\\right)& \\\\\n",
      " 0 & \\cdots & & & -1 & \\left(2\\frac{1}{\\sigma}+1\\right) \\end{array} \\right]\n",
      " \\cdot \n",
      " \\left[ \\begin{array}{c} \n",
      " T_1^{n+1} \\\\ T_2^{n+1} \\\\ \\vdots \\\\ \\\\ T_{N-2}^{n+1} \\end{array} \\right]\n",
      " =\n",
      " \\left[ \\begin{array}{c} \n",
      " T_0^n + 2\\left(\\frac{1}{\\sigma}-1\\right)T_1^n + T_2^n \\\\  T_1^n + 2\\left(\\frac{1}{\\sigma}-1\\right)T_2^n + T_3^n \\\\ \\vdots \\\\ \\\\  T_{n_x-3}^n + 2\\left(\\frac{1}{\\sigma}-1\\right)T_{n_x-2}^n + T_{n_x-1}^n \\end{array} \\right]\n",
      " +\n",
      " \\begin{bmatrix}\n",
      "  T_0^{n+1}\\\\\n",
      "  0\\\\\\\\\n",
      "  \\vdots\\\\\\\\\n",
      "  0\\\\\n",
      "  q\\Delta x\n",
      " \\end{bmatrix}\n",
      " \\end{align} \n"
     ]
    },
    {
     "cell_type": "markdown",
     "metadata": {},
     "source": [
      "Let's generate a function that will create the matrix and right-hand side for the heat conduction problem from [notebook 2](https://github.com/numerical-mooc/numerical-mooc/blob/master/lessons/04_spreadout/02_Heat_Equation_1D_Implicit.ipynb): Dirichlet at $x=0$ and zero-flux $(q=0)$ at $x=L$."
     ]
    },
    {
     "cell_type": "code",
     "collapsed": false,
     "input": [
      "import numpy\n",
      "from scipy.linalg import solve"
     ],
     "language": "python",
     "metadata": {},
     "outputs": []
    },
    {
     "cell_type": "code",
     "collapsed": false,
     "input": [
      "def generateMatrix(N, sigma):\n",
      "    \"\"\" Computes the matrix for the diffusion equation with Crank-Nicolson\n",
      "        Dirichlet condition at i=0, Neumann at i=-1\n",
      "    \n",
      "    Parameters:\n",
      "    ----------\n",
      "    N: int\n",
      "        Number of discretization points\n",
      "    sigma: float \n",
      "        alpha*dt/dx^2\n",
      "    \n",
      "    Returns:\n",
      "    -------\n",
      "    A: 2D numpy array of float\n",
      "        Matrix for diffusion equation\n",
      "    \"\"\"\n",
      "   \n",
      "    # Setup the diagonal\n",
      "    d = 2*numpy.diag(numpy.ones(N-2)*(1+1./sigma))\n",
      "    \n",
      "    # Consider Neumann BC\n",
      "    d[-1,-1] = 1+2./sigma\n",
      "    \n",
      "    # Setup upper diagonal\n",
      "    ud = numpy.diag(numpy.ones(N-3)*-1, 1)\n",
      "    \n",
      "    # Setup lower diagonal\n",
      "    ld = numpy.diag(numpy.ones(N-3)*-1, -1)\n",
      "    \n",
      "    A = d + ud + ld\n",
      "    \n",
      "    return A"
     ],
     "language": "python",
     "metadata": {},
     "outputs": []
    },
    {
     "cell_type": "code",
     "collapsed": false,
     "input": [
      "def generateRHS(T, sigma):\n",
      "    \"\"\" Computes right-hand side of linear system for diffusion equation\n",
      "        with backward Euler\n",
      "    \n",
      "    Parameters:\n",
      "    ----------\n",
      "    T: array of float\n",
      "        Temperature at current time step\n",
      "    sigma: float\n",
      "        alpha*dt/dx^2\n",
      "    \n",
      "    Returns:\n",
      "    -------\n",
      "    b: array of float\n",
      "        Right-hand side of diffusion equation with backward Euler\n",
      "    \"\"\"\n",
      "    \n",
      "    b = T[1:-1]*2*(1./sigma-1) + T[:-2] + T[2:]\n",
      "    # Consider Dirichlet BC\n",
      "    b[0] += T[0]\n",
      "    \n",
      "    return b"
     ],
     "language": "python",
     "metadata": {},
     "outputs": []
    },
    {
     "cell_type": "markdown",
     "metadata": {},
     "source": [
      "We will solve the linear system at every time step. Let's define a function to step in time:"
     ]
    },
    {
     "cell_type": "code",
     "collapsed": false,
     "input": [
      "def CrankNicolson(T, A, nt, sigma):\n",
      "    \"\"\" Advances diffusion equation in time with Crank-Nicolson\n",
      "   \n",
      "    Parameters:\n",
      "    ----------\n",
      "    T: array of float\n",
      "        initial temperature profile\n",
      "    A: 2D array of float\n",
      "        Matrix with discretized diffusion equation\n",
      "    nt: int\n",
      "        number of time steps\n",
      "    sigma: float\n",
      "        alpha*td/dx^2\n",
      "        \n",
      "    Returns:\n",
      "    -------\n",
      "    T: array of floats\n",
      "        temperature profile after nt time steps\n",
      "    \"\"\"\n",
      "    \n",
      "    for t in range(nt):\n",
      "        Tn = T.copy()\n",
      "        b = generateRHS(Tn, sigma)\n",
      "        # Use numpy.linalg.solve\n",
      "        T_interior = solve(A,b)\n",
      "        T[1:-1] = T_interior\n",
      "        # Enforce Neumann BC (Dirichlet is enforced automatically)\n",
      "        T[-1] = T[-2]\n",
      "\n",
      "    return T"
     ],
     "language": "python",
     "metadata": {},
     "outputs": []
    },
    {
     "cell_type": "markdown",
     "metadata": {},
     "source": [
      "And we are good to go! First, let's setup our initial conditions, and the matrix"
     ]
    },
    {
     "cell_type": "code",
     "collapsed": false,
     "input": [
      "L = 1.\n",
      "nx = 21.\n",
      "alpha = 1.22e-3\n",
      "\n",
      "dx = L/(nx-1)\n",
      "\n",
      "Ti = numpy.zeros(nx)\n",
      "Ti[0] = 100\n",
      "\n",
      "sigma = 0.5\n",
      "dt = sigma * dx*dx/alpha \n",
      "nt = 10\n",
      "\n",
      "A = generateMatrix(nx, sigma)"
     ],
     "language": "python",
     "metadata": {},
     "outputs": []
    },
    {
     "cell_type": "markdown",
     "metadata": {},
     "source": [
      "Check the matrix..."
     ]
    },
    {
     "cell_type": "code",
     "collapsed": false,
     "input": [
      "print A"
     ],
     "language": "python",
     "metadata": {},
     "outputs": []
    },
    {
     "cell_type": "markdown",
     "metadata": {},
     "source": [
      "Looks okay! Now, step in time"
     ]
    },
    {
     "cell_type": "code",
     "collapsed": false,
     "input": [
      "T = Ti.copy()\n",
      "T = CrankNicolson(T, A, nt, sigma)"
     ],
     "language": "python",
     "metadata": {},
     "outputs": []
    },
    {
     "cell_type": "markdown",
     "metadata": {},
     "source": [
      "And plot,"
     ]
    },
    {
     "cell_type": "code",
     "collapsed": false,
     "input": [
      "import matplotlib.pyplot as plt\n",
      "%matplotlib inline\n",
      "from matplotlib import rcParams\n",
      "rcParams['font.family'] = 'serif'\n",
      "rcParams['font.size'] = 16\n",
      "\n",
      "x = numpy.linspace(0,L,nx)\n",
      "\n",
      "plt.plot(x, T, color='#003366', ls='-', lw=3);"
     ],
     "language": "python",
     "metadata": {},
     "outputs": []
    },
    {
     "cell_type": "markdown",
     "metadata": {},
     "source": [
      "Works nicely! But wait! This method has elements of explicit and implicit discretizations. Is it *conditionally stable* like forward Euler, or *unconditionally stable* like backward Euler? Try out different values of `sigma`. You'll see Crank-Nicolson an *unconditionally stable scheme* for the diffusion equation!"
     ]
    },
    {
     "cell_type": "heading",
     "level": 2,
     "metadata": {},
     "source": [
      "Accuracy and Convergence"
     ]
    },
    {
     "cell_type": "markdown",
     "metadata": {},
     "source": [
      "Using some techniques you might have learned in your PDE class, such as separation of variables, you can get a closed expression for the rod problem:\n",
      "\n",
      "\\begin{equation}\n",
      "T(x,t) = 100 - \\sum_{n=1}^{\\infty} \\frac{400}{(2n-1)\\pi}\\sin\\left(\\frac{(2n-1)\\pi}{2L}x\\right) \\exp\\left[-\\alpha\\left(\\frac{(2n-1)\\pi}{2L}\\right)^2t\\right]\n",
      "\\end{equation}\n",
      "\n",
      "Unfortunately it is not a nice analytical solution, but at least gives a good approximation if we evaluate it for large $n$. Let's define a function that will calculate this for us"
     ]
    },
    {
     "cell_type": "code",
     "collapsed": false,
     "input": [
      "from math import pi\n",
      "def T_analytical(x, t, n_max, alpha, L):\n",
      "    \"\"\"Computes the exact solution for 1D diffusion with T=100 at x=0 and dT/dx=0 at x=L\n",
      "        \n",
      "    Paramters:\n",
      "    ---------\n",
      "    x    : array of float\n",
      "        Spatial position\n",
      "    t    : float\n",
      "        Evaluation time\n",
      "    n_max: int \n",
      "        Number of terms to evaluate expression\n",
      "    alpha: float\n",
      "        diffusion coefficient\n",
      "    L    : float\n",
      "        Size of rod\n",
      "        \n",
      "    Returns:\n",
      "    -------\n",
      "    T    : array of float\n",
      "        Temperature at each location x\n",
      "    \"\"\"\n",
      "    T = 100\n",
      "    for n in range(1,n_max+1):\n",
      "        k = (2*n-1)*pi/(2*L)\n",
      "        \n",
      "        summation = 400/((2*n-1)*pi) * numpy.sin(k*x) * numpy.exp(-alpha*k*k*t)\n",
      "        T -= summation\n",
      "\n",
      "    return T    "
     ],
     "language": "python",
     "metadata": {},
     "outputs": []
    },
    {
     "cell_type": "markdown",
     "metadata": {},
     "source": [
      "Let's see how that expression looks for the time where we left the numerical solution"
     ]
    },
    {
     "cell_type": "code",
     "collapsed": false,
     "input": [
      "T_exact = T_analytical(x, dt*nt, 100, alpha, L)\n",
      "plt.plot(x, T_exact, color='#003366', ls='-', lw=3);"
     ],
     "language": "python",
     "metadata": {},
     "outputs": []
    },
    {
     "cell_type": "code",
     "collapsed": false,
     "input": [
      "T1 = T_analytical(x, .2, 100, alpha, L)\n",
      "T2 = T_analytical(x, .2, 200, alpha, L)\n",
      "numpy.sqrt(numpy.sum((T1-T2)**2)/numpy.sum(T2**2))"
     ],
     "language": "python",
     "metadata": {},
     "outputs": []
    },
    {
     "cell_type": "markdown",
     "metadata": {},
     "source": [
      "That looks like it should. Let's use this to study the convergence of our numerical scheme."
     ]
    },
    {
     "cell_type": "heading",
     "level": 3,
     "metadata": {},
     "source": [
      "Time convergence"
     ]
    },
    {
     "cell_type": "markdown",
     "metadata": {},
     "source": [
      "We said this method was second order in time. Well, let's try that out! \n",
      "\n",
      "Leaving $\\Delta x$ constant, we'll run the code for different values of $\\Delta t$ and compare the result at the same physical time, say $t=n_t\\cdot\\Delta t=10$, with the analytical expression above.\n",
      "\n",
      "The initial condition of the rod problem has a very sharp gradient: it suddendly jumps from $0C$ to $100C$ on the boundary! To resolve that gradient to the point that it doesn't affect time convergence, we would need a very fine mesh, and computations would be very slow. To avoid this, rather than starting from $t=0$, we will start from $t=1$.\n",
      "\n",
      "First, let's define a function that will compute the $L_2$ norm of the error:"
     ]
    },
    {
     "cell_type": "code",
     "collapsed": false,
     "input": [
      "def L2_error(T, T_exact):\n",
      "    \"\"\"Computes L2 norm of error\n",
      "    \n",
      "    Parameters:\n",
      "    ----------\n",
      "    T      : array of float\n",
      "        array with numerical solution\n",
      "    T_exact: array of float\n",
      "        array with exact solution\n",
      "    Returns:\n",
      "    -------\n",
      "    e: L2 norm of error\n",
      "    \"\"\"\n",
      "    e = numpy.sqrt(numpy.sum((T-T_exact)**2)/numpy.sum(T_exact)**2)\n",
      "    return e"
     ],
     "language": "python",
     "metadata": {},
     "outputs": []
    },
    {
     "cell_type": "markdown",
     "metadata": {},
     "source": [
      "For fun, let's compare Crank Nicolson with backward Euler. We'll borrow some functions from [notebook 2](http://nbviewer.ipython.org/github/numerical-mooc/numerical-mooc/blob/master/lessons/04_spreadout/02_Heat_Equation_1D_Implicit.ipynb)!"
     ]
    },
    {
     "cell_type": "code",
     "collapsed": false,
     "input": [
      "def generateMatrix_ftcs(N, sigma):\n",
      "    \"\"\" Computes the matrix for the diffusion equation with backward Euler\n",
      "        Dirichlet condition at i=0, Neumann at i=-1\n",
      "    \n",
      "    Parameters:\n",
      "    ----------\n",
      "    T: array of float\n",
      "        Temperature at current time step\n",
      "    sigma: float \n",
      "        alpha*dt/dx^2\n",
      "    \n",
      "    Returns:\n",
      "    -------\n",
      "    A: 2D numpy array of float\n",
      "        Matrix for diffusion equation\n",
      "    \"\"\"\n",
      "   \n",
      "    # Setup the diagonal\n",
      "    d = numpy.diag(numpy.ones(N-2)*(2+1./sigma))\n",
      "    \n",
      "    # Consider Neumann BC\n",
      "    d[-1,-1] = 1+1./sigma\n",
      "    \n",
      "    # Setup upper diagonal\n",
      "    ud = numpy.diag(numpy.ones(N-3)*-1, 1)\n",
      "    \n",
      "    # Setup lower diagonal\n",
      "    ld = numpy.diag(numpy.ones(N-3)*-1, -1)\n",
      "    \n",
      "    A = d + ud + ld\n",
      "    \n",
      "    return A"
     ],
     "language": "python",
     "metadata": {},
     "outputs": []
    },
    {
     "cell_type": "code",
     "collapsed": false,
     "input": [
      "def generateRHS_ftcs(T, sigma):\n",
      "    \"\"\" Computes right-hand side of linear system for diffusion equation\n",
      "        with backward Euler\n",
      "    \n",
      "    Parameters:\n",
      "    ----------\n",
      "    T: array of float\n",
      "        Temperature at current time step\n",
      "    sigma: float\n",
      "        alpha*dt/dx^2\n",
      "    \n",
      "    Returns:\n",
      "    -------\n",
      "    b: array of float\n",
      "        Right-hand side of diffusion equation with backward Euler\n",
      "    \"\"\"\n",
      "    b = numpy.zeros_like(T)\n",
      "    \n",
      "    b = T[1:-1]*1./sigma\n",
      "    # Consider Dirichlet BC\n",
      "    b[0] += T[0]\n",
      "    \n",
      "    return b"
     ],
     "language": "python",
     "metadata": {},
     "outputs": []
    },
    {
     "cell_type": "code",
     "collapsed": false,
     "input": [
      "def implicit_ftcs(T, A, nt, sigma):\n",
      "    \"\"\" Advances diffusion equation in time with implicit central scheme\n",
      "   \n",
      "    Parameters:\n",
      "    ----------\n",
      "    T: array of float\n",
      "        initial temperature profile\n",
      "    A: 2D array of float\n",
      "        Matrix with discretized diffusion equation\n",
      "    nt: int\n",
      "        number of time steps\n",
      "    sigma: float\n",
      "        alpha*td/dx^2\n",
      "        \n",
      "    Returns:\n",
      "    -------\n",
      "    T: array of floats\n",
      "        temperature profile after nt time steps\n",
      "    \"\"\"\n",
      "    \n",
      "    for t in range(nt):\n",
      "        Tn = T.copy()\n",
      "        b = generateRHS_ftcs(Tn, sigma)\n",
      "        # Use numpy.linalg.solve\n",
      "        T_interior = solve(A,b)\n",
      "        T[1:-1] = T_interior\n",
      "        # Enforce Neumann BC (Dirichlet is enforced automatically)\n",
      "        T[-1] = T[-2]\n",
      "\n",
      "    return T"
     ],
     "language": "python",
     "metadata": {},
     "outputs": []
    },
    {
     "cell_type": "markdown",
     "metadata": {},
     "source": [
      "Now, let's do the runs!"
     ]
    },
    {
     "cell_type": "code",
     "collapsed": false,
     "input": [
      "nx = 1001\n",
      "dx = L/(nx-1)\n",
      "\n",
      "dt_values = numpy.asarray([1.0, 0.5, 0.25, 0.125])\n",
      "error = numpy.zeros(len(dt_values))\n",
      "error_ftcs = numpy.zeros(len(dt_values))\n",
      "\n",
      "t_final = 10.0 \n",
      "t_initial = 1.0\n",
      "\n",
      "x = numpy.linspace(0,L,nx)\n",
      "\n",
      "Ti =  T_analytical(x, t_initial, 100, alpha, L)\n",
      "T_exact = T_analytical(x, t_final, 100, alpha, L)\n",
      "\n",
      "for i,dt in enumerate(dt_values):\n",
      "    sigma = alpha*dt/(dx*dx)\n",
      "\n",
      "    nt = int((t_final-t_initial)/dt)\n",
      "    \n",
      "    A = generateMatrix(nx, sigma)\n",
      "    \n",
      "    A_ftcs = generateMatrix_ftcs(nx, sigma)\n",
      "\n",
      "    T = Ti.copy()\n",
      "    T = CrankNicolson(T, A, nt, sigma)\n",
      "    \n",
      "    error[i] = L2_error(T,T_exact)\n",
      "    \n",
      "    T = Ti.copy()\n",
      "    T = implicit_ftcs(T, A_ftcs, nt, sigma)\n",
      "    \n",
      "    error_ftcs[i] = L2_error(T,T_exact)\n",
      "    "
     ],
     "language": "python",
     "metadata": {},
     "outputs": []
    },
    {
     "cell_type": "markdown",
     "metadata": {},
     "source": [
      "And plot,"
     ]
    },
    {
     "cell_type": "code",
     "collapsed": false,
     "input": [
      "plt.figure(figsize=(6,6))\n",
      "plt.grid(True)\n",
      "plt.xlabel(r'$\\Delta t$', fontsize=18)\n",
      "plt.ylabel(r'$L_2$-norm of the error', fontsize=18)\n",
      "plt.xlim(1e-2,1)\n",
      "plt.ylim(1e-4,1)\n",
      "plt.axis('equal')\n",
      "plt.loglog(dt_values, error, color='k', ls='--', lw=2, marker='o')\n",
      "plt.loglog(dt_values, error_ftcs, color='k', ls='--', lw=2, marker='s');"
     ],
     "language": "python",
     "metadata": {},
     "outputs": []
    },
    {
     "cell_type": "code",
     "collapsed": false,
     "input": [
      "error"
     ],
     "language": "python",
     "metadata": {},
     "outputs": []
    },
    {
     "cell_type": "markdown",
     "metadata": {},
     "source": [
      "See how the error drops four times when the time step is halved? This method is second order in time!"
     ]
    },
    {
     "cell_type": "markdown",
     "metadata": {},
     "source": [
      "Clearly, Crank-Nicolson (circles) converges faster than backward Euler (squares)! Not only that, but also it is shifted down: Crank-Nicolson is more accurate.\n",
      "\n",
      "If you look closely, you'll realize that the error in Crank-Nicolson decays about twice as fast than backward Euler: it's a second versus first order method!"
     ]
    },
    {
     "cell_type": "heading",
     "level": 3,
     "metadata": {},
     "source": [
      "Spatial convergence"
     ]
    },
    {
     "cell_type": "markdown",
     "metadata": {},
     "source": [
      "To study spatial convergence, we will run the code for meshes with 21, 41, 81 and 161 points, and compare them at the same non-dimensional time, say $t=20$. \n",
      "\n",
      "Let's start by defining a function that will do everything for us"
     ]
    },
    {
     "cell_type": "code",
     "collapsed": false,
     "input": [
      "nx_values = numpy.asarray([11, 21, 41, 81, 161])\n",
      "\n",
      "dt = 0.1\n",
      "error = numpy.zeros(len(nx_values))\n",
      "\n",
      "t_final = 20.0 \n",
      "\n",
      "x = numpy.linspace(0,L,nx)\n",
      "\n",
      "for i,nx in enumerate(nx_values):\n",
      "    \n",
      "    dx = L/(nx-1)\n",
      "    x = numpy.linspace(0,L,nx)\n",
      "   \n",
      "    sigma = alpha*dt/(dx*dx)\n",
      "\n",
      "    nt = int(t_final/dt)\n",
      "    \n",
      "    A = generateMatrix(nx, sigma)\n",
      "\n",
      "    T = numpy.zeros(nx)\n",
      "    T[0] = 100\n",
      "      \n",
      "    T = CrankNicolson(T, A, nt, sigma)\n",
      "    \n",
      "    T_exact = T_analytical(x, t_final, 100, alpha, L)\n",
      "    \n",
      "    error[i] = L2_error(T,T_exact)"
     ],
     "language": "python",
     "metadata": {},
     "outputs": []
    },
    {
     "cell_type": "markdown",
     "metadata": {},
     "source": [
      "And plot!"
     ]
    },
    {
     "cell_type": "code",
     "collapsed": false,
     "input": [
      "plt.figure(figsize=(6,6))\n",
      "plt.grid(True)\n",
      "plt.xlabel(r'$n_x$', fontsize=18)\n",
      "plt.ylabel(r'$L_2$-norm of the error', fontsize=18)\n",
      "plt.xlim(1e-4,1)\n",
      "plt.ylim(1e-4,1)\n",
      "plt.axis('equal')\n",
      "plt.loglog(nx_values, error, color='k', ls='--', lw=2, marker='o');"
     ],
     "language": "python",
     "metadata": {},
     "outputs": []
    },
    {
     "cell_type": "markdown",
     "metadata": {},
     "source": [
      "That looks good! See how for each quadrant we go right, the error drops two quadrants going down (and even a bit better!)."
     ]
    },
    {
     "cell_type": "heading",
     "level": 5,
     "metadata": {},
     "source": [
      "Dig deeper"
     ]
    },
    {
     "cell_type": "markdown",
     "metadata": {},
     "source": [
      "Let's re-do the spatial convergence, but comparing at a much later time, say $t=1000$. "
     ]
    },
    {
     "cell_type": "code",
     "collapsed": false,
     "input": [
      "nx_values = numpy.asarray([11, 21, 41, 81, 161])\n",
      "\n",
      "dt = 0.1\n",
      "error = numpy.zeros(len(nx_values))\n",
      "\n",
      "t_final = 1000.0 \n",
      "\n",
      "x = numpy.linspace(0,L,nx)\n",
      "\n",
      "for i,nx in enumerate(nx_values):\n",
      "    \n",
      "    dx = L/(nx-1)\n",
      "    x = numpy.linspace(0,L,nx)\n",
      "   \n",
      "    sigma = alpha*dt/(dx*dx)\n",
      "\n",
      "    nt = int(t_final/dt)\n",
      "    \n",
      "    A = generateMatrix(nx, sigma)\n",
      "\n",
      "    T = numpy.zeros(nx)\n",
      "    T[0] = 100\n",
      "      \n",
      "    T = CrankNicolson(T, A, nt, sigma)\n",
      "    \n",
      "    T_exact = T_analytical(x, t_final, 100, alpha, L)\n",
      "    \n",
      "    error[i] = L2_error(T,T_exact)\n",
      "\n",
      "plt.figure(figsize=(6,6))\n",
      "plt.grid(True)\n",
      "plt.xlabel(r'$n_x$', fontsize=18)\n",
      "plt.ylabel(r'$L_2$-norm of the error', fontsize=18)\n",
      "#plt.xlim(1e-4,1)\n",
      "#plt.ylim(1e-4,1)\n",
      "plt.axis('equal')\n",
      "plt.loglog(nx_values, error, color='k', ls='--', lw=2, marker='o');"
     ],
     "language": "python",
     "metadata": {},
     "outputs": []
    },
    {
     "cell_type": "code",
     "collapsed": false,
     "input": [
      "error"
     ],
     "language": "python",
     "metadata": {},
     "outputs": []
    },
    {
     "cell_type": "markdown",
     "metadata": {},
     "source": [
      "Wait, convergence is not that great now! It's not as good as second order, but not as bad as first order. *What is going on?*\n",
      "\n",
      "Remember our implementation of the boundary conditions? We used\n",
      "\n",
      "\\begin{equation}\\frac{T^{n}_{N-1} - T^{n}_{N-2}}{\\Delta x} = q.\\end{equation}\n",
      "\n",
      "Well, that is a first order approximation! \n",
      "\n",
      "But, why this doesn't affect our solution at an earlier time? Initially, temperature on the right side of the rod is zero and the gradient is very small in that region, then, errors there were negligible. Once temperature starts picking up, we start having problems!"
     ]
    },
    {
     "cell_type": "markdown",
     "metadata": {},
     "source": [
      "---\n",
      "###### The cell below loads the style of the notebook"
     ]
    },
    {
     "cell_type": "code",
     "collapsed": false,
     "input": [
      "from IPython.core.display import HTML\n",
      "css_file = '../../styles/numericalmoocstyle.css'\n",
      "HTML(open(css_file, \"r\").read())"
     ],
     "language": "python",
     "metadata": {},
     "outputs": []
    }
   ],
   "metadata": {}
  }
 ]
}