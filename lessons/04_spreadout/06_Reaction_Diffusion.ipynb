{
 "metadata": {
  "name": "",
  "signature": "sha256:44c03fdf40638805687e80bbde47f4101e6ea38655ced756cb683fb69f44ecbb"
 },
 "nbformat": 3,
 "nbformat_minor": 0,
 "worksheets": [
  {
   "cells": [
    {
     "cell_type": "heading",
     "level": 6,
     "metadata": {},
     "source": [
      "Content under Creative Commons Attribution license CC-BY 4.0, code under MIT license (c)2014 L.A. Barba, C.D. Cooper, G.F. Forsyth."
     ]
    },
    {
     "cell_type": "heading",
     "level": 1,
     "metadata": {},
     "source": [
      "Reaction-diffusion model"
     ]
    },
    {
     "cell_type": "markdown",
     "metadata": {},
     "source": [
      "This IPython Notebook presents the context and set-up for the coding assignment of Module 4: _Spreading out: Diffusion problems_, of the course [**\"Practical Numerical Methods with Python\"**](https://github.com/numerical-mooc/numerical-mooc) (a.k.a., numericalmooc).\n",
      "\n",
      "So far in this module, we've studied diffusion in 1D and 2D. Now it's time to add in some more interesting physics.  You'll study a model represented by *reaction-diffusion* equations.  What are they?  The name says it all\u2014it's a system that has the physics of diffusion but also has some kind of reaction that adds different behaviors to the solution.\n",
      "\n",
      "We're going to look at the _Gray-Scott model_, which simulates the interaction of two \"virtual\" chemicals reacting and ... you guessed it ... diffusing! Some amazing patterns can emerge with simple reaction models, eerily reminiscent of patterns formed in nature. It's fascinating! Check out this simulation by Karl Sims posted on You Tube ... it looks like a growing coral reef, doesn't it?"
     ]
    },
    {
     "cell_type": "code",
     "collapsed": false,
     "input": [
      "from IPython.display import YouTubeVideo\n",
      "YouTubeVideo('8dTmUr5qKvI')"
     ],
     "language": "python",
     "metadata": {},
     "outputs": []
    },
    {
     "cell_type": "heading",
     "level": 3,
     "metadata": {},
     "source": [
      "Gray-Scott model"
     ]
    },
    {
     "cell_type": "markdown",
     "metadata": {},
     "source": [
      "The Gray Scott model follows some simple rules.  Given two sets of virtual particles $u$ and $v$:\n",
      "\n",
      "*  There's a constant feed rate of $u$ particles into the system\n",
      "*  If two $v$ particles meet a $u$ particle, they 'convert' it into another $v$ particle\n",
      "*  There's a constant kill rate that removes $v$ particles\n",
      "\n",
      "The Gray-Scott model results in the following system of partial differential equations:"
     ]
    },
    {
     "cell_type": "markdown",
     "metadata": {},
     "source": [
      "\\begin{align}\n",
      "\\frac{\\partial u}{\\partial t} &= D_u \\nabla ^2 u - uv^2 + F(1-u)\\\\\n",
      "\\frac{\\partial v}{\\partial t} &= D_v \\nabla ^2 v + uv^2 - (F + k)v\n",
      "\\end{align}"
     ]
    },
    {
     "cell_type": "markdown",
     "metadata": {},
     "source": [
      "You should see some familiar terms, and some unfamiliar ones.  \n",
      "\n",
      "First, if you aren't familiar with it, $\\nabla ^2$ is the Laplacian operator, where\n",
      "\n",
      "\\begin{equation}\n",
      "\\nabla ^2 u = \\frac{\\partial ^2 u}{\\partial x^2} + \\frac{\\partial ^2 u}{\\partial y^2}\n",
      "\\end{equation}\n",
      "\n",
      "We have 2D diffusion in both equations and instead of $\\alpha$ we have $D_u$ and $D_v$ as the respective rates of diffusion for particle fields $u$ and $v$.\n",
      "\n",
      "$uv^2$ is the probability that 1 particle of $u$ and 2 particles of $v$ are in the same vicinity.  This is the \"conversion\" part of the reaction (notice that it's subtracted from the $u$ equation and added to the $v$ equation).  \n",
      "\n",
      "The final terms in the two equations are the \"feed\" and \"kill\" rates, respectively."
     ]
    },
    {
     "cell_type": "heading",
     "level": 3,
     "metadata": {},
     "source": [
      "System setup"
     ]
    },
    {
     "cell_type": "markdown",
     "metadata": {},
     "source": [
      "The particle system is represented by two arrays, `U` and `V`.  These represent the concentration of $u$ and $v$ particles, respectively.  We start by setting U = 1 everywhere and V = 0 everywhere, then introduce areas of difference.  We then add a little noise to the whole system to help the $u$ and $v$ reactions along.  \n",
      "\n",
      "Below is the code segment we used to generate the initial conditions for `U` and `V`.  \n",
      "\n",
      "**NOTE**: *DO NOT USE THIS CODE IN YOUR ASSIGNMENT*.\n",
      "We are putting it here to help you understand how the system is constructed.  However, you must use the data we've supplied below as your starting condition or your answers will not match those that the grading system uses.\n",
      "\n",
      "```[Python]\n",
      "num_blocks = 30\n",
      "randx = numpy.random.randint(1, nx-1, num_blocks)\n",
      "randy = numpy.random.randint(1, nx-1, num_blocks)\n",
      "U = numpy.ones((n,n))\n",
      "V = numpy.zeros((n,n))\n",
      "\n",
      "r = 10\n",
      "U[:,:] = 1.0\n",
      "\n",
      "for i, j in zip(randx, randy):\n",
      "    U[i-r:i+r,j-r:j+r] = 0.50\n",
      "    V[i-r:i+r,j-r:j+r] = 0.25\n",
      "\n",
      "U += 0.05*numpy.random.random((n,n))\n",
      "V += 0.05*numpy.random.random((n,n))\n",
      "```"
     ]
    },
    {
     "cell_type": "heading",
     "level": 2,
     "metadata": {},
     "source": [
      "Your assignment"
     ]
    },
    {
     "cell_type": "markdown",
     "metadata": {},
     "source": [
      "*  Discretize the reaction diffusion equations using forward-time central-space and assume that $\\Delta x = \\Delta y = \\delta$.\n",
      "\n",
      "*  For your timestep, set \n",
      "$$\\Delta t = \\frac{9}{40}\\frac{\\delta^2}{max(D_u, D_v)}$$\n",
      "\n",
      "*  Use Neumann boundary conditions on all sides of the domain with $q_x=q_y = 0$\n",
      "\n",
      "The initial conditions and constants are all defined in the cell below.  They correspond to the following domain:\n",
      "\n",
      "*  Grid of points with dimension 192x192 points\n",
      "*  Domain is 5m x 5m\n",
      "*  Final time is 8000 seconds"
     ]
    },
    {
     "cell_type": "code",
     "collapsed": false,
     "input": [
      "import numpy\n",
      "import matplotlib.pyplot as plt\n",
      "import matplotlib.cm as cm\n",
      "%matplotlib inline"
     ],
     "language": "python",
     "metadata": {},
     "outputs": []
    },
    {
     "cell_type": "code",
     "collapsed": false,
     "input": [
      "n = 192\n",
      "\n",
      "Du, Dv, F, k = 0.00016, 0.00008, 0.035, 0.065 # Bacteria 1 \n",
      "\n",
      "dh = 5./(n-1)\n",
      "\n",
      "T = 8000\n",
      "\n",
      "dt = .9 * dh**2 / (4*max(Du,Dv))\n",
      "\n",
      "nt = int(T/dt)\n"
     ],
     "language": "python",
     "metadata": {},
     "outputs": []
    },
    {
     "cell_type": "heading",
     "level": 3,
     "metadata": {},
     "source": [
      "Initial condition data files"
     ]
    },
    {
     "cell_type": "markdown",
     "metadata": {},
     "source": [
      "In order to ensure that you start from the same initial conditions as we do, please download the file [uvinitial.npz](https://github.com/numerical-mooc/numerical-mooc/blob/parabolic_dev/lessons/04_spreadout/data/uvinitial.npz?raw=true)\n",
      "\n",
      "This is a NumPy save-file that contains two NumPy arrays, holding the initial values for `U` and `V`, respectively.  Once you have downloaded the file into your working directory, you can load the data using the following code snippet.  "
     ]
    },
    {
     "cell_type": "code",
     "collapsed": false,
     "input": [
      "import numpy\n",
      "uvinitial = numpy.load('./data/uvinitial.npz')\n",
      "U = uvinitial['U']\n",
      "V = uvinitial['V']"
     ],
     "language": "python",
     "metadata": {},
     "outputs": []
    },
    {
     "cell_type": "code",
     "collapsed": false,
     "input": [
      "fig = plt.figure(figsize=(8,5))\n",
      "plt.subplot(121)\n",
      "plt.imshow(U, cmap = cm.RdBu)\n",
      "plt.xticks([]), plt.yticks([]);\n",
      "plt.subplot(122)\n",
      "plt.imshow(V, cmap = cm.RdBu)\n",
      "plt.xticks([]), plt.yticks([]);\n"
     ],
     "language": "python",
     "metadata": {},
     "outputs": []
    },
    {
     "cell_type": "heading",
     "level": 2,
     "metadata": {},
     "source": [
      "Sample Solution"
     ]
    },
    {
     "cell_type": "markdown",
     "metadata": {},
     "source": [
      "Below is an animated gif showing the animated results of this solution for a different set of randomized initial block positions.  Each frame of the animation represents 100 timesteps.  "
     ]
    },
    {
     "cell_type": "markdown",
     "metadata": {},
     "source": [
      "<img src=\"./figures/celldivision.gif\">"
     ]
    },
    {
     "cell_type": "heading",
     "level": 2,
     "metadata": {},
     "source": [
      "Exploring extra patterns"
     ]
    },
    {
     "cell_type": "markdown",
     "metadata": {},
     "source": [
      "Once you have completed the graded assessment, you might want to explore a few more of the interesting patterns that can be created using the Gray-Scott model.  The conditions below will result in a variety of patterns and should work without any other changes to your existing code.\n",
      "\n",
      "This pattern is called \"Fingerprints\""
     ]
    },
    {
     "cell_type": "markdown",
     "metadata": {},
     "source": [
      "<img src=\"./figures/fingerprint.gif\">"
     ]
    },
    {
     "cell_type": "code",
     "collapsed": false,
     "input": [
      "#Du, Dv, F, k = 0.00014, 0.00006, 0.035, 0.065 # Bacteria 2\n",
      "#Du, Dv, F, k = 0.00016, 0.00008, 0.060, 0.062 # Coral\n",
      "#Du, Dv, F, k = 0.00019, 0.00005, 0.060, 0.062 # Fingerprint\n",
      "#Du, Dv, F, k = 0.00010, 0.00010, 0.018, 0.050 # Spirals\n",
      "#Du, Dv, F, k = 0.00012, 0.00008, 0.020, 0.050 # Spirals Dense\n",
      "#Du, Dv, F, k = 0.00010, 0.00016, 0.020, 0.050 # Spirals Fast\n",
      "#Du, Dv, F, k = 0.00016, 0.00008, 0.020, 0.055 # Unstable\n",
      "#Du, Dv, F, k = 0.00016, 0.00008, 0.050, 0.065 # Worms 1\n",
      "#Du, Dv, F, k = 0.00016, 0.00008, 0.054, 0.063 # Worms 2\n",
      "#Du, Dv, F, k = 0.00016, 0.00008, 0.035, 0.060 # Zebrafish"
     ],
     "language": "python",
     "metadata": {},
     "outputs": []
    },
    {
     "cell_type": "heading",
     "level": 2,
     "metadata": {},
     "source": [
      "References"
     ]
    },
    {
     "cell_type": "markdown",
     "metadata": {},
     "source": [
      "* Reaction-diffusion tutorial, by Karl Sims http://www.karlsims.com/rd.html\n",
      "\n",
      "* Pearson, J. E. (1993). [Complex patterns in a simple system](http://www.sciencemag.org/content/261/5118/189), _Science_, Vol. 261(5118), 189-192 // [PDF](http://www3.nd.edu/~powers/pearson.pdf) from nd.edu."
     ]
    },
    {
     "cell_type": "markdown",
     "metadata": {},
     "source": [
      "---\n",
      "###### The cell below loads the style of the notebook"
     ]
    },
    {
     "cell_type": "code",
     "collapsed": false,
     "input": [
      "from IPython.core.display import HTML\n",
      "css_file = '../../styles/numericalmoocstyle.css'\n",
      "HTML(open(css_file, \"r\").read())"
     ],
     "language": "python",
     "metadata": {},
     "outputs": []
    }
   ],
   "metadata": {}
  }
 ]
}