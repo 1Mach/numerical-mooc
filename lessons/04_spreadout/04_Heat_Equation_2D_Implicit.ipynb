{
 "metadata": {
  "name": "",
  "signature": "sha256:6094d062b17f7ff737028913a64ca02dbdda89cbbcdce41314891e57c9e67fd3"
 },
 "nbformat": 3,
 "nbformat_minor": 0,
 "worksheets": [
  {
   "cells": [
    {
     "cell_type": "heading",
     "level": 6,
     "metadata": {},
     "source": [
      "Content under Creative Commons Attribution license CC-BY 4.0, code under MIT license (c)2014 L.A. Barba, G.F. Forsyth, C.D. Cooper."
     ]
    },
    {
     "cell_type": "heading",
     "level": 1,
     "metadata": {},
     "source": [
      "Spreading out"
     ]
    },
    {
     "cell_type": "markdown",
     "metadata": {},
     "source": [
      "We're back! This is the fourth notebook of _Spreading out: parabolic PDEs,_  Module 4 of the course [**\"Practical Numerical Methods with Python\"**](http://openedx.seas.gwu.edu/courses/GW/MAE6286/2014_fall/about). \n",
      "\n",
      "In the [previous notebook](http://nbviewer.ipython.org/github/numerical-mooc/numerical-mooc/blob/master/lessons/04_spreadout/03_Heat_Equation_2D_Explicit.ipynb) we solved a 2D problem for the first time, using an explicit scheme. We know explicit schemes have stability constraints that might make them impractical in some cases. We presented implicit schemes, which are unconditionally stable, in [notebook 2](https://github.com/numerical-mooc/numerical-mooc/blob/master/lessons/04_spreadout/02_Heat_Equation_1D_Implicit.ipynb), looking only at 1D. Already, that was quite a lot of work: setting up a matrix of coefficients and a right-hand-side vector, while takign care of the boundary conditions, and then solving the linear system. And now, we want to do implicit schemes in 2D\u2014are you ready?"
     ]
    },
    {
     "cell_type": "heading",
     "level": 2,
     "metadata": {},
     "source": [
      "2D Heat conduction"
     ]
    },
    {
     "cell_type": "markdown",
     "metadata": {},
     "source": [
      "We already studied 2D heat conduction in the previous lesson, but now we want to work out how to build an implicit solution scheme. To refresh your memory, the heat equation is:\n",
      "\n",
      "\\begin{equation}\n",
      "\\frac{\\partial T}{\\partial t} = \\alpha \\left(\\frac{\\partial^2 T}{\\partial x^2} + \\frac{\\partial^2 T}{\\partial y^2} \\right)\n",
      "\\end{equation}\n",
      "\n",
      "Our previous solution used a Dirichlet boundary condition in the left and bottom boundaries $(T(x=0)=T(y=0)=100)$, and a Neumann boundary condition with zero flux in the top $\\left( \\left.\\frac{\\partial T}{\\partial y}\\right|_{y=0.1} = q_y \\right)$ and right $\\left( \\left.\\frac{\\partial T}{\\partial x}\\right|_{x=0.1} = q_x \\right)$ edges, with $q_x=q_y=0$."
     ]
    },
    {
     "cell_type": "markdown",
     "metadata": {},
     "source": [
      "<img src=\"./figures/2dchip.svg\" width=\"400px\">"
     ]
    },
    {
     "cell_type": "heading",
     "level": 4,
     "metadata": {},
     "source": [
      "Figure 1: Simplified Micro-chip Temperature Schematic"
     ]
    },
    {
     "cell_type": "heading",
     "level": 3,
     "metadata": {},
     "source": [
      "Implicit schemes in 2-D"
     ]
    },
    {
     "cell_type": "markdown",
     "metadata": {},
     "source": [
      "The 2D heat equation implicit discretization using forward time, central space is\n",
      "\n",
      "\\begin{equation}\n",
      "\\frac{T^{n+1}_{i,j} - T^n_{i,j}}{\\Delta t} = \\alpha \\left( \\frac{T^{n+1}_{i+1, j} - 2T^{n+1}_{i,j} + T^{n+1}_{i-1,j}}{\\Delta x^2} + \\frac{T^{n+1}_{i, j+1} - 2T^{n+1}_{i,j} + T^{n+1}_{i,j-1}}{\\Delta y^2}\\right)\n",
      "\\end{equation}\n",
      "\n",
      "But this equation looks better when we put what we *don't know* on the left and what we *do know* on the right:\n",
      "\n",
      "\\begin{equation}\n",
      "-\\frac{\\alpha\\Delta t}{\\Delta x^2} \\left(T^{n+1}_{i-1,j}+T^{n+1}_{i+1,j}\\right) + \\left(1 + 2\\frac{\\alpha\\Delta t}{\\Delta x^2} + 2\\frac{\\alpha\\Delta t}{\\Delta y^2}\\right) T^{n+1}_{i,j} -\\frac{\\alpha\\Delta t}{\\Delta y^2} \\left(T^{n+1}_{i,j-1}+T^{n+1}_{i,j+1}\\right) = T^n_{i,j}\n",
      "\\end{equation}\n",
      "\n",
      "To make this discussion easier, let's assume that the mesh spacing is the same in both directions and $\\Delta x=\\Delta y = \\delta$:\n",
      "\n",
      "\\begin{equation}\n",
      "-T^{n+1}_{i-1,j} - T^{n+1}_{i+1,j} + \\left(\\frac{\\delta^2}{\\alpha \\Delta t} + 4 \\right) T^{n+1}_{i,j} - T^{n+1}_{i,j-1}-T^{n+1}_{i,j+1} = \\frac{\\delta^2}{\\alpha \\Delta t}T^n_{i,j}\n",
      "\\end{equation}\n",
      "\n",
      "Just like in the one-dimensional case, $T_{i,j}$ appears in the equation for $T_{i-1,j}$, $T_{i+1,j}$, $T_{i,j+1}$ and $T_{i,j-1}$, and we can form a linear system to advance in time! But, how do we construct the matrix in this case? What are the $(i+1,j)$, $(i-1,j)$, $(i,j+1)$, and $(i,j-1)$ positions in the matrix?\n",
      "\n",
      "With explicit schemes we don't need to worry about these things. We can lay out the data just as it is in the physical problem.  We had an array `T` that was a 2-dimensional matrix. To fetch the temperature in the next node in the $x$ direction $(T_{i+1,j})$ we just did `T[j,i+1]`, and likewise in the $y$ direction $(T_{i,j+1})$ was in `T[j+1,i]`. In implicit schemes, we need to think a bit harder about how the data is mapped to the physical problem.\n",
      "\n",
      "Also, remember in the [1D-implicit notebook](https://github.com/numerical-mooc/numerical-mooc/blob/master/lessons/04_spreadout/02_Heat_Equation_1D_Implicit.ipynb), the linear system had $N-2$ elements? We applied boundary conditions on nodes $i=0$ and $i=N-1$, and they were not modified by the linear system. In 2D, this becomes a bit more complicated.  \n",
      "\n",
      "\n",
      "Let's use this figure to guide the discussion:"
     ]
    },
    {
     "cell_type": "markdown",
     "metadata": {},
     "source": [
      "<img src=\"./figures/2D_discretization.png\">"
     ]
    },
    {
     "cell_type": "heading",
     "level": 4,
     "metadata": {},
     "source": [
      "Figure 2: Layout of matrix elements in 2D problem"
     ]
    },
    {
     "cell_type": "markdown",
     "metadata": {},
     "source": [
      "Say we have the 2D domain of size $L_x\\times L_y$ discretized in $n_x$ and $n_y$ points. We can divide the nodes into boundary nodes (empty circles) and interior nodes (filled circles).\n",
      "\n",
      "The boundary nodes, as the name says, are on the boundary. They are the nodes with indices $(i=0,j)$, $(i=n_x-1,j)$, $(i,j=0)$, and $(i,j=n_y-1)$, and boundary conditions are enforced there.\n",
      "\n",
      "The interior nodes are not on the boundary, and the finite-difference equation acts on them. If we leave the boundary nodes aside for the moment, then the matrix in the 2D linear system will have $(n_x-2)\\cdot(n_y-2)$ elements.\n",
      "\n",
      "To construct the matrix, we will iterate over the nodes in an x-major order: index $i$ will run faster. The order will be \n",
      "\n",
      "*  $(i=1,j=1)$\n",
      "*  $(i=2,j=1)$ ...\n",
      "*  $(i=nx-2,j=1)$\n",
      "*  $(i=1,j=2)$\n",
      "*  $(i=2,j=2)$ ... \n",
      "*  $(i=n_x-2,j=n_y-2)$. \n",
      "\n",
      "That is the ordering represented by the arrow with the dotted line. Of course, if you prefer to organize the nodes differently, feel free to do so!\n",
      "\n",
      "Because we chose this ordering, the equation for nodes $(i-1,j)$ and $(i+1,j)$ will be just before and after $(i,j)$, respectively. But what about $(i,j-1)$ and $(i,j+1)$? Even though in the physical problem they are very close, the equations are $n_x-2$ places apart! "
     ]
    },
    {
     "cell_type": "heading",
     "level": 3,
     "metadata": {},
     "source": [
      "Boundary conditions"
     ]
    },
    {
     "cell_type": "markdown",
     "metadata": {},
     "source": [
      "Before we attempt to construct the matrix, we need to think about boundary conditions. There is some bookkeeping to be done here, so bear with us for a moment.\n",
      "\n",
      "Say, for example, that the left and bottom boundaries have Dirichlet boundary conditions, and the top and right boundaries have Neumann boundary conditions. Let's look at each case:\n",
      "\n",
      "**Bottom boundary:**\n",
      "    \n",
      "The equation for $j=1$ uses values from $j=0$, which are known. Let's put that on the right-hand side of the equation:\n",
      "\n",
      "\\begin{equation}\n",
      "-T^{n+1}_{i-1,1} - T^{n+1}_{i+1,1} + \\left(\\frac{\\delta^2}{\\alpha \\Delta t} + 4 \\right) T^{n+1}_{i,1}-T^{n+1}_{i,j+1} = \\frac{\\delta^2}{\\alpha \\Delta t}T^n_{i,1} + T^{n+1}_{i,0}\n",
      "\\end{equation}\n",
      "\n",
      "**Left boundary:**\n",
      "\n",
      "Like for the bottom boundary, the equation for $i=1$ uses known values from $i=0$, and we will put that on the right-hand side:\n",
      "\n",
      "\\begin{equation}\n",
      "- T^{n+1}_{2,j} + \\left(\\frac{\\delta^2}{\\alpha \\Delta t} + 4 \\right) T^{n+1}_{1,j} - T^{n+1}_{1,j-1}-T^{n+1}_{1,j+1} = \\frac{\\delta^2}{\\alpha \\Delta t}T^n_{1,j} + T^{n+1}_{0,j}\n",
      "\\end{equation}\n",
      "\n",
      "**Right boundary:**\n",
      "\n",
      "Say the boundary condition is $\\left. \\frac{\\partial T}{\\partial x} \\right|_{x=L_x} = q_x$. Its finite-difference approximation  is\n",
      "\n",
      "\\begin{equation}\n",
      "\\frac{T^{n+1}_{n_x-1,j} - T^{n+1}_{n_x-2,j}}{\\delta} = q_x\n",
      "\\end{equation}\n",
      "\n",
      "Then, we can write $T^{n+1}_{n_x-1,j} = \\delta^2 q_x + T^{n+1}_{n_x-2,j}$ to get the finite difference equation for $i=n_x-2$:\n",
      "\n",
      "\\begin{equation}\n",
      "-T^{n+1}_{n_x-3,j} + \\left(\\frac{\\delta^2}{\\alpha \\Delta t} + 3 \\right) T^{n+1}_{n_x-2,j} - T^{n+1}_{n_x-2,j-1}-T^{n+1}_{n_x-2,j+1} = \\frac{\\delta^2}{\\alpha \\Delta t}T^n_{n_x-2,j} + \\delta q_x\n",
      "\\end{equation}\n",
      "\n",
      "Not sure about this? Grab pen and paper! Please, check this yourself. It will help you understand!\n",
      "\n",
      "**Top boundary:**\n",
      "\n",
      "Neumann boundary conditions specify the derivative normal to the boundary: $\\left. \\frac{\\partial T}{\\partial y} \\right|_{y=L_y} = q_y$. No need to repeat what we did for the right boundary, right? The equation for $j=n_y-2$ is\n",
      "\n",
      "\\begin{equation}\n",
      "-T^{n+1}_{i-1,n_y-2} - T^{n+1}_{i+1,n_y-2} + \\left(\\frac{\\delta^2}{\\alpha \\Delta t} + 3 \\right) T^{n+1}_{i,n_y-2} - T^{n+1}_{i,n_y-3} = \\frac{\\delta^2}{\\alpha \\Delta t}T^n_{i,n_y-2} + \\delta q_y\n",
      "\\end{equation}\n",
      "\n",
      "So far, we have then 5 possible cases: bottom, left, right, top, and interior points. Does this cover everything? What about corners?"
     ]
    },
    {
     "cell_type": "markdown",
     "metadata": {},
     "source": [
      "**Bottom-left corner**\n",
      "\n",
      "At $T_{1,1}$ there is a Dirichlet boundary condition at $i=0$ and $j=0$. This equation is:\n",
      "\n",
      "\\begin{equation}\n",
      "- T^{n+1}_{2,1} + \\left(\\frac{\\delta^2}{\\alpha \\Delta t} + 4 \\right) T^{n+1}_{1,1} - T^{n+1}_{1,2} = \\frac{\\delta^2}{\\alpha \\Delta t}T^n_{1,1} + T^{n+1}_{0,1} + T^{n+1}_{1,0}\n",
      "\\end{equation}\n",
      "\n",
      "**Top-left corner:**\n",
      "\n",
      "At $T_{1,n_y-2}$ there is a Dirichlet boundary condition at $i=0$ and a Neumann boundary condition at $i=n_y-1$. This equation is:\n",
      "\n",
      "\\begin{equation}\n",
      "- T^{n+1}_{2,n_y-2} + \\left(\\frac{\\delta^2}{\\alpha \\Delta t} + 3 \\right) T^{n+1}_{1,n_y-2} - T^{n+1}_{1,n_y-3} = \\frac{\\delta^2}{\\alpha \\Delta t}T^n_{1,n_y-2} + T^{n+1}_{0,n_y-2} + \\delta q_y\n",
      "\\end{equation}\n",
      "\n",
      "**Top-right corner**\n",
      "\n",
      "At $T_{n_x-2,n_y-2}$, there are Neumann boundary conditions at both $i=n_x-1$ and $j=n_y-1$. The finite difference equation is then\n",
      "\n",
      "\\begin{equation}\n",
      "-T^{n+1}_{n_x-3,n_y-2} + \\left(\\frac{\\delta^2}{\\alpha \\Delta t} + 2 \\right) T^{n+1}_{n_x-2,n_y-2} - T^{n+1}_{n_x-2,n_y-3} = \\frac{\\delta^2}{\\alpha \\Delta t}T^n_{n_x-2,n_y-2} + \\delta(q_x + q_y)\n",
      "\\end{equation}\n",
      "\n",
      "**Bottom-right corner**\n",
      "\n",
      "To calculate $T_{n_x-2,1}$ we need to consider a Dirichlet boundary condition to the bottom and a Neumann boundary condition to the right. We will get a similar equation to the top-left corner!\n",
      "\n",
      "\\begin{equation}\n",
      "-T^{n+1}_{n_x-3,1} + \\left(\\frac{\\delta^2}{\\alpha \\Delta t} + 3 \\right) T^{n+1}_{n_x-2,1}-T^{n+1}_{n_x-2,2} = \\frac{\\delta^2}{\\alpha \\Delta t}T^n_{n_x-2,1} + T^{n+1}_{n_x-2,0} + \\delta q_x\n",
      "\\end{equation}\n",
      "\n",
      "Okay, now we are actually ready. We have checked every possible case!"
     ]
    },
    {
     "cell_type": "heading",
     "level": 3,
     "metadata": {},
     "source": [
      "The linear system"
     ]
    },
    {
     "cell_type": "markdown",
     "metadata": {},
     "source": [
      "Like in the previous notebook, we will solve a linear system at every time step:\n",
      "\n",
      "$$[A][T^{n+1}_\\text{int}] = [b]+[b]_{b.c.}$$"
     ]
    },
    {
     "cell_type": "markdown",
     "metadata": {},
     "source": [
      "Matrix $A$ is\n",
      "\n",
      "\\begin{align}\n",
      " &\\begin{array}{c c c c c c c c c c c c c c c c}\n",
      "& |\\leftarrow & & \\qquad\\quad &n_x-2 & \\qquad\\quad & & \\rightarrow | & & & & & & & &\n",
      "\\end{array}\\\\\n",
      "\\begin{array}{c}\n",
      "\\overline{\\uparrow} \\\\\n",
      "\\\\\n",
      "n_x-2 \\\\\n",
      "\\\\\n",
      "\\underline{\\downarrow} \\\\\n",
      "\\uparrow\\\\\n",
      "n_x-2\\\\\n",
      "\\\\\n",
      "\\underline{\\downarrow}\\\\\n",
      "\\\\\n",
      "\\\\\n",
      "\\end{array}\n",
      "&\\left[\n",
      "\\begin{array}{c c c c c c c c c c c c c c c c}\n",
      "\\sigma^\\prime + 4 & -1 & 0 & \\cdots & 0 & -1 & 0 & \\cdots & & & & & & & & 0 \\\\\n",
      "-1 & \\sigma^\\prime + 4 & -1 & 0 & \\cdots & 0 & -1 & 0 & \\cdots & & & & & & & 0 \\\\\n",
      "0 & -1 & \\sigma^\\prime + 4 & -1 & 0 & \\cdots & 0 & -1 & 0 & \\cdots & & & & & & 0 \\\\\n",
      "\\vdots & & & & & & & & & & & & & & & \\\\\n",
      "0 & \\cdots & 0 & -1 & \\sigma^\\prime + 4 & -1 & 0 & \\cdots & 0 & -1 & 0 & \\cdots & & & & 0 \\\\\n",
      "0 & \\cdots  & & 0 & -1 & \\sigma^\\prime + 3 & 0 & 0 & \\cdots & 0 & -1 & 0 & \\cdots & & & 0 \\\\\n",
      "-1 & 0 & \\cdots & & 0 & 0 & \\sigma^\\prime + 4 & -1 & 0 & \\cdots & 0 & -1 & 0 & \\cdots & & 0 \\\\\n",
      "0 & -1 & 0 & \\cdots & & 0 & 0 & \\sigma^\\prime + 4 & -1 & 0 & \\cdots & 0 & -1 & 0 & \\cdots & 0 \\\\\n",
      "\\vdots & & & & & & & & & & & & & & & \\\\\n",
      "0 & \\cdots & 0 & -1 & 0 & \\cdots & 0 & -1 & \\sigma^\\prime + 3 & 0 & \\cdots & 0 & -1 & 0 & \\cdots & 0 \\\\\n",
      "\\vdots & & & & & & & & & & & & & & & \\\\\n",
      "0 & \\cdots & & & & & & & 0 & -1 & 0 & \\cdots & & 0 & -1 & \\sigma^\\prime + 2 \\\\\n",
      "\\end{array}\n",
      "\\right]\n",
      "\\end{align} \n"
     ]
    },
    {
     "cell_type": "markdown",
     "metadata": {},
     "source": [
      "Matrix $A$ is:"
     ]
    },
    {
     "cell_type": "markdown",
     "metadata": {},
     "source": [
      "<img src=\"./figures/implicit_matrix.svg\">"
     ]
    },
    {
     "cell_type": "markdown",
     "metadata": {},
     "source": [
      "Vector $T^{n+1}_\\text{int}$ contains the temperature of the interior nodes in the next time step. It is:\n",
      "\n",
      "\\begin{equation}\n",
      "T^{n+1}_\\text{int} = \\left[\n",
      "\\begin{array}{c}\n",
      "T^{n+1}_{1,1}\\\\\n",
      "T^{n+1}_{2,1} \\\\\n",
      "\\vdots \\\\\n",
      "T^{n+1}_{n_x-2,1} \\\\\n",
      "T^{n+1}_{2,1} \\\\\n",
      "\\vdots \\\\\n",
      "T^{n+1}_{n_x-2,n_y-2}\n",
      "\\end{array}\\right]\n",
      "\\end{equation}\n",
      "\n",
      "Remember the x-major ordering we chose!"
     ]
    },
    {
     "cell_type": "markdown",
     "metadata": {},
     "source": [
      "Now, the right-hand side is\n",
      "\\begin{equation}\n",
      "[b]+[b]_{b.c.} = \n",
      "\\left[\\begin{array}{c}\n",
      "\\sigma^\\prime T^n_{1,1} + T^{n+1}_{0,1} + T^{n+1}_{1,0} \\\\\n",
      "\\sigma^\\prime T^n_{2,0} + T^{n+1}_{2,0} \\\\\n",
      "\\vdots \\\\\n",
      "\\sigma^\\prime T^n_{n_x-2,1} + T^{n+1}_{n_x-2,0} + \\delta q_x \\\\\n",
      "\\sigma^\\prime T^n_{1,2} + T^{n+1}_{0,2} \\\\\n",
      "\\vdots \\\\\n",
      "\\sigma^\\prime T^n_{n_x-2,n_y-2} + \\delta(q_x + q_y)\n",
      "\\end{array}\\right]\n",
      "\\end{equation}"
     ]
    },
    {
     "cell_type": "markdown",
     "metadata": {},
     "source": [
      "where $\\sigma^\\prime = 1/\\sigma = \\delta^2/\\alpha \\Delta t$. The matrix looks very ugly, but it is important you understand it! Think about it. Can you answer:\n",
      "   * Why a -1 factor appears $n_x-2$ columns after the diagonal? What about $n_x-2$ columns before the diagonal?\n",
      "   * Why in row $n_x-2$ the position after the diagonal contains a 0?\n",
      "   * Why in row $n_x-2$ the diagonal is $\\sigma^\\prime + 3$ rather than $\\sigma^\\prime + 4$?\n",
      "   * Why in the last row the diagonal is $\\sigma^\\prime + 2$ rather than $\\sigma^\\prime + 4$?\n",
      "   \n",
      "If you can answer those questions, you are in good shape to continue!"
     ]
    },
    {
     "cell_type": "markdown",
     "metadata": {},
     "source": [
      "Let's write a function that will generate the matrix and right-hand side for the heat conduction problem in the previous notebook. Remember, we had Dirichlet boundary conditions in the left and bottom, and zero-flux Neumann boundary condition on the top and right $(q_x=q_y=0)$. \n",
      "\n",
      "Also, we'll import `scipy.linalg.solve` because we need to solve a linear system."
     ]
    },
    {
     "cell_type": "code",
     "collapsed": false,
     "input": [
      "import numpy\n",
      "from scipy.linalg import solve"
     ],
     "language": "python",
     "metadata": {},
     "outputs": []
    },
    {
     "cell_type": "code",
     "collapsed": false,
     "input": [
      "def constructMatrix(nx, ny, sigma):\n",
      "    \"\"\" Generate implicit matrix for 2D heat equation with Dirichlet in bottom and right and Neumann in top and left\n",
      "        Assumes dx = dy\n",
      "    \n",
      "    Parameters:\n",
      "    ----------\n",
      "    nx   : int\n",
      "        number of discretization points in x\n",
      "    ny   : int\n",
      "        number of discretization points in y\n",
      "    sigma: float\n",
      "        alpha*dt/dx\n",
      "        \n",
      "    Returns:\n",
      "    -------\n",
      "    A: 2D array of floats\n",
      "        Matrix of implicit 2D heat equation\n",
      "    \"\"\"\n",
      "    \n",
      "    A = numpy.zeros(((nx-2)*(ny-2),(nx-2)*(ny-2)))\n",
      "    \n",
      "    row_number = 0 # row counter\n",
      "    for j in range(1,ny-1):\n",
      "        for i in range(1,nx-1):\n",
      "            \n",
      "            # Corners\n",
      "            if i==1 and j==1: # Bottom left corner (Dirichlet down and left)\n",
      "                A[row_number,row_number] = 1/sigma+4 # Set diagonal\n",
      "                A[row_number,row_number+1] = -1      # fetch i+1\n",
      "                A[row_number,row_number+nx-2] = -1   # fetch j+1\n",
      "                \n",
      "            elif i==nx-2 and j==1: # Bottom right corner (Dirichlet down, Neumann right)\n",
      "                A[row_number,row_number] = 1/sigma+3 # Set diagonal\n",
      "                A[row_number,row_number-1] = -1      # Fetch i-1\n",
      "                A[row_number,row_number+nx-2] = -1   # fetch j+1\n",
      "                \n",
      "            elif i==1 and j==ny-2: # Top left corner (Neumann up, Dirichlet left)\n",
      "                A[row_number,row_number] = 1/sigma+3   # Set diagonal\n",
      "                A[row_number,row_number+1] = -1        # fetch i+1\n",
      "                A[row_number,row_number-(nx-2)] = -1   # fetch j-1\n",
      "                \n",
      "            elif i==nx-2 and j==ny-2: # Top right corner (Neumann up and right)\n",
      "                A[row_number,row_number] = 1/sigma+2   # Set diagonal\n",
      "                A[row_number,row_number-1] = -1        # Fetch i-1\n",
      "                A[row_number,row_number-(nx-2)] = -1   # fetch j-1\n",
      "              \n",
      "            # Sides\n",
      "            elif i==1: # Left boundary (Dirichlet)\n",
      "                A[row_number,row_number] = 1/sigma+4 # Set diagonal\n",
      "                A[row_number,row_number+1] = -1      # fetch i+1\n",
      "                A[row_number,row_number+nx-2] = -1   # fetch j+1\n",
      "                A[row_number,row_number-(nx-2)] = -1 # fetch j-1\n",
      "            \n",
      "            elif i==nx-2: # Right boundary (Neumann)\n",
      "                A[row_number,row_number] = 1/sigma+3 # Set diagonal\n",
      "                A[row_number,row_number-1] = -1      # Fetch i-1\n",
      "                A[row_number,row_number+nx-2] = -1   # fetch j+1\n",
      "                A[row_number,row_number-(nx-2)] = -1 # fetch j-1\n",
      "                \n",
      "            elif j==1: # Bottom boundary (Dirichlet)\n",
      "                A[row_number,row_number] = 1/sigma+4 # Set diagonal\n",
      "                A[row_number,row_number+1] = -1      # fetch i+1\n",
      "                A[row_number,row_number-1] = -1      # fetch i-1\n",
      "                A[row_number,row_number+nx-2] = -1   # fetch j+1\n",
      "                \n",
      "            elif j==ny-2: # Top boundary (Neumann)\n",
      "                A[row_number,row_number] = 1/sigma+3 # Set diagonal\n",
      "                A[row_number,row_number+1] = -1      # fetch i+1\n",
      "                A[row_number,row_number-1] = -1      # fetch i-1\n",
      "                A[row_number,row_number-(nx-2)] = -1 # fetch j-1\n",
      "                \n",
      "            # Interior points\n",
      "            else:\n",
      "                A[row_number,row_number] = 1/sigma+4 # Set diagonal\n",
      "                A[row_number,row_number+1] = -1      # fetch i+1\n",
      "                A[row_number,row_number-1] = -1      # fetch i-1\n",
      "                A[row_number,row_number+nx-2] = -1   # fetch j+1\n",
      "                A[row_number,row_number-(nx-2)] = -1 # fetch j-1\n",
      "                \n",
      "            row_number += 1 # Jump to next row of the matrix!\n",
      "    \n",
      "    return A           "
     ],
     "language": "python",
     "metadata": {},
     "outputs": []
    },
    {
     "cell_type": "code",
     "collapsed": false,
     "input": [
      "def generateRHS(nx, ny, sigma, T, T_bc):\n",
      "    \"\"\" Generates right-hand side for 2D implicit heat equation with Dirichlet in bottom and left and Neumann in top and right\n",
      "        Assumes dx=dy, Neumann BCs = 0, and constant Dirichlet BCs\n",
      "        \n",
      "        Paramenters:\n",
      "        -----------\n",
      "        nx   : int\n",
      "            number of discretization points in x\n",
      "        ny   : int\n",
      "            number of discretization points in y\n",
      "        sigma: float\n",
      "            alpha*dt/dx\n",
      "        T    : array of float\n",
      "            Temperature in current time step\n",
      "        T_bc : float\n",
      "            Temperature in Dirichlet BC\n",
      "        \n",
      "        Returns:\n",
      "        -------\n",
      "        RHS  : array of float\n",
      "            Right hand side of 2D implicit heat equation\n",
      "    \"\"\"\n",
      "    RHS = numpy.zeros((nx-2)*(ny-2))\n",
      "    \n",
      "    row_number = 0 # row counter\n",
      "    for j in range(1,ny-1):\n",
      "        for i in range(1,nx-1):\n",
      "            \n",
      "            # Corners\n",
      "            if i==1 and j==1: # Bottom left corner (Dirichlet down and left)\n",
      "                RHS[row_number] = T[j,i]*1/sigma + 2*T_bc\n",
      "                \n",
      "            elif i==nx-2 and j==1: # Bottom right corner (Dirichlet down, Neumann right)\n",
      "                RHS[row_number] = T[j,i]*1/sigma + T_bc\n",
      "                           \n",
      "            elif i==1 and j==ny-2: # Top left corner (Neumann up, Dirichlet left)\n",
      "                RHS[row_number] = T[j,i]*1/sigma + T_bc\n",
      "                \n",
      "            elif i==nx-2 and j==ny-2: # Top right corner (Neumann up and right)\n",
      "                RHS[row_number] = T[j,i]*1/sigma \n",
      "              \n",
      "            # Sides\n",
      "            elif i==1: # Left boundary (Dirichlet)\n",
      "                RHS[row_number] = T[j,i]*1/sigma + T_bc\n",
      "            \n",
      "            elif i==nx-2: # Right boundary (Neumann)\n",
      "                RHS[row_number] = T[j,i]*1/sigma \n",
      "                \n",
      "            elif j==1: # Bottom boundary (Dirichlet)\n",
      "                RHS[row_number] = T[j,i]*1/sigma + T_bc\n",
      "                \n",
      "            elif j==ny-2: # Top boundary (Neumann)\n",
      "                RHS[row_number] = T[j,i]*1/sigma\n",
      "                \n",
      "            # Interior points\n",
      "            else:\n",
      "                RHS[row_number] = T[j,i]*1/sigma \n",
      "                \n",
      "            row_number += 1 # Jump to next row!\n",
      "    \n",
      "    return RHS"
     ],
     "language": "python",
     "metadata": {},
     "outputs": []
    },
    {
     "cell_type": "markdown",
     "metadata": {},
     "source": [
      "The solution of the linear system $(T^{n+1}_\\text{int})$ contains the temperatures of the interior points at the next time step in a 1D array. We will also create a function that will take the values of $T^{n+1}_\\text{int}$ and put them in a 2D array that resembles the physical domain."
     ]
    },
    {
     "cell_type": "code",
     "collapsed": false,
     "input": [
      "def map_1Dto2D(nx, ny, T_1D, T_bc):\n",
      "    \"\"\" Takes temperatures of solution of linear system, stored in 1D, \n",
      "    and puts them in a 2D array with the BCs\n",
      "    Valid for constant Dirichlet bottom and left, and Neumann with zero \n",
      "    flux top and right\n",
      "        \n",
      "    Parameters:\n",
      "    ----------\n",
      "        nx  : int\n",
      "            number of nodes in x direction\n",
      "        ny  : int\n",
      "            number of nodes in y direction\n",
      "        T_1D: array of floats\n",
      "            solution of linear system\n",
      "        T_bc: float\n",
      "            Dirichlet BC\n",
      "            \n",
      "    Returns:\n",
      "    -------\n",
      "        T: 2D array of float\n",
      "            Temperature stored in 2D array with BCs\n",
      "    \"\"\"\n",
      "    T = numpy.zeros((ny,nx))\n",
      "    \n",
      "    row_number = 0\n",
      "    for j in range(1,ny-1):\n",
      "        for i in range(1,nx-1):\n",
      "            T[j,i] = T_1D[row_number]\n",
      "            row_number += 1\n",
      "    # Dirichlet BC\n",
      "    T[0,:] = T_bc\n",
      "    T[:,0] = T_bc\n",
      "    #Neumann BC\n",
      "    T[-1,:] = T[-2,:]\n",
      "    T[:,-1] = T[:,-2]\n",
      "    \n",
      "    return T    "
     ],
     "language": "python",
     "metadata": {},
     "outputs": []
    },
    {
     "cell_type": "markdown",
     "metadata": {},
     "source": [
      "And to advance in time, we will use"
     ]
    },
    {
     "cell_type": "code",
     "collapsed": false,
     "input": [
      "def btcs_2D(T, A, nt, sigma, T_bc, nx, ny, dt):\n",
      "    \"\"\" Advances diffusion equation in time with backward Euler\n",
      "   \n",
      "    Parameters:\n",
      "    ----------\n",
      "    T: 2D array of float\n",
      "        initial temperature profile\n",
      "    A: 2D array of float\n",
      "        Matrix with discretized diffusion equation\n",
      "    nt: int\n",
      "        number of time steps\n",
      "    sigma: float\n",
      "        alpha*dt/dx^2\n",
      "    T_bc : float \n",
      "        Dirichlet BC temperature\n",
      "    nx   : int\n",
      "        Discretization points in x\n",
      "    ny   : int\n",
      "        Discretization points in y\n",
      "    dt   : float\n",
      "        Time step size\n",
      "        \n",
      "    Returns:\n",
      "    -------\n",
      "    T: 2D array of floats\n",
      "        temperature profile after nt time steps\n",
      "    \"\"\"\n",
      "    \n",
      "    j_mid = (numpy.shape(T)[0]+1)/2\n",
      "    i_mid = (numpy.shape(T)[1]+1)/2\n",
      "    \n",
      "    for t in range(nt):\n",
      "        Tn = T.copy()\n",
      "        b = generateRHS(nx, ny, sigma, Tn, T_bc)\n",
      "        # Use numpy.linalg.solve\n",
      "        T_interior = solve(A,b)\n",
      "        T = map_1Dto2D(nx, ny, T_interior, T_bc)\n",
      "        \n",
      "        # Check if we reached T=70C\n",
      "        if T[j_mid, i_mid] >= 70:\n",
      "            print (\"Center of plate reached 70C at time {0:.2f}s, in time step {1:d}.\".format(dt*t, t))\n",
      "            break\n",
      "        \n",
      "    if T[j_mid, i_mid]<70:\n",
      "        print (\"Center has not reached 70C yet, it is only {0:.2f}C.\".format(T[j_mid, i_mid]))\n",
      "        \n",
      "    return T"
     ],
     "language": "python",
     "metadata": {},
     "outputs": []
    },
    {
     "cell_type": "markdown",
     "metadata": {},
     "source": [
      "Remember, we want the function to tell us when the center of the plate reaches $70^\\circ C$."
     ]
    },
    {
     "cell_type": "heading",
     "level": 5,
     "metadata": {},
     "source": [
      "Dig deeper"
     ]
    },
    {
     "cell_type": "markdown",
     "metadata": {},
     "source": [
      "For demonstration purposes, these functions are very explicit. But you can see a trend here, right? \n",
      "\n",
      "Say we start with a matrix with a matrix with `1/sigma+4` in the main diagonal, and `-1` on the 4 other corresponding diagonals. Now, we have to modify the matrix only where the boundary conditions are affecting. We saw the impact of the Dirichlet and Neumann boundary condition on each position of the matrix, we just need to know in which position to perform those changes. \n",
      "\n",
      "A function that maps `i` and `j` into `row_number` would be handy, right? How about `row_number = (j-1)*(nx-2)+(i-1)`? By feeding `i` and `j` to that equation, you know exactly where to operate on the matrix. For example, `i=nx-2, j=2`, which is in row `row_number = 2*nx-5`, is next to a Neumann boundary condition: we have to substract one out of the main diagonal (`A[2*nx-5,2*nx-5]-=1`), and put a zero in the next column (`A[2*nx-5,2*nx-4]=0`). This way, the function can become much simpler!\n",
      "\n",
      "Can you use this information to construct a more general function `generateMatrix`? Can you make it such that the type of boundary condition is an input to the function? "
     ]
    },
    {
     "cell_type": "heading",
     "level": 2,
     "metadata": {},
     "source": [
      "Heat diffusion in 2D"
     ]
    },
    {
     "cell_type": "markdown",
     "metadata": {},
     "source": [
      "Let's recast the 2D heat conduction from the previous notebook, and solve it with an implicit scheme. "
     ]
    },
    {
     "cell_type": "code",
     "collapsed": false,
     "input": [
      "alpha = 1e-4\n",
      "\n",
      "L = 1.0e-2\n",
      "H = 1.0e-2\n",
      "\n",
      "nx = 21\n",
      "ny = 21\n",
      "nt = 300\n",
      "\n",
      "dx = L/(nx-1)\n",
      "dy = H/(ny-1)\n",
      "\n",
      "x = numpy.linspace(0,L,nx)\n",
      "y = numpy.linspace(0,H,ny)\n",
      "\n",
      "T_bc = 100\n",
      "\n",
      "Ti = numpy.ones((ny, nx))*20\n",
      "Ti[0,:]= T_bc\n",
      "Ti[:,0] = T_bc"
     ],
     "language": "python",
     "metadata": {},
     "outputs": []
    },
    {
     "cell_type": "markdown",
     "metadata": {},
     "source": [
      "Luckily, the matrix needs to be generated only once. We'll do that now"
     ]
    },
    {
     "cell_type": "code",
     "collapsed": false,
     "input": [
      "sigma = 0.25\n",
      "A = constructMatrix(nx, ny, sigma)"
     ],
     "language": "python",
     "metadata": {},
     "outputs": []
    },
    {
     "cell_type": "markdown",
     "metadata": {},
     "source": [
      "We are ready to go!"
     ]
    },
    {
     "cell_type": "code",
     "collapsed": false,
     "input": [
      "T = Ti.copy()\n",
      "dt = sigma * min(dx, dy)**2 / alpha\n",
      "T = btcs_2D(T, A, nt, sigma, T_bc, nx, ny, dt)"
     ],
     "language": "python",
     "metadata": {},
     "outputs": []
    },
    {
     "cell_type": "code",
     "collapsed": false,
     "input": [
      "361/21"
     ],
     "language": "python",
     "metadata": {},
     "outputs": []
    },
    {
     "cell_type": "markdown",
     "metadata": {},
     "source": [
      "And plot,"
     ]
    },
    {
     "cell_type": "code",
     "collapsed": false,
     "input": [
      "import matplotlib.pyplot as plt\n",
      "%matplotlib inline\n",
      "from matplotlib import rcParams\n",
      "rcParams['font.family'] = 'serif'\n",
      "rcParams['font.size'] = 16\n",
      "\n",
      "my, mx = numpy.meshgrid(y,x)\n",
      "plt.figure(figsize=(11,8))\n",
      "plt.contourf(my,mx,T,20);"
     ],
     "language": "python",
     "metadata": {},
     "outputs": []
    },
    {
     "cell_type": "markdown",
     "metadata": {},
     "source": [
      "Try this out with different values of `sigma`! You'll see that it will always give a stable solution!\n",
      "\n",
      "Does this result match the explicit scheme from the previous notebook? Do they take the same amount of time to reach $70^\\circ C$ in the center of the plate? Now that we can use higher values of `sigma`, we need fewer time steps for the center of the plate to reach $70^\\circ C$! Of course, we need to be careful that `dt` is small enough to resolve the physics correctly."
     ]
    },
    {
     "cell_type": "markdown",
     "metadata": {},
     "source": [
      "---\n",
      "###### The cell below loads the style of the notebook"
     ]
    },
    {
     "cell_type": "code",
     "collapsed": false,
     "input": [
      "from IPython.core.display import HTML\n",
      "css_file = '../../styles/numericalmoocstyle.css'\n",
      "HTML(open(css_file, \"r\").read())"
     ],
     "language": "python",
     "metadata": {},
     "outputs": []
    }
   ],
   "metadata": {}
  }
 ]
}