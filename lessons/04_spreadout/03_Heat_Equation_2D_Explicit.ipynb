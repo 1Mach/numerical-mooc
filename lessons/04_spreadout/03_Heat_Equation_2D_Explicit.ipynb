{
 "metadata": {
  "name": "",
  "signature": "sha256:82b9ca581d13bb6ff1115d33656176f73ccf482cd1978181d722d2cad07364f9"
 },
 "nbformat": 3,
 "nbformat_minor": 0,
 "worksheets": [
  {
   "cells": [
    {
     "cell_type": "heading",
     "level": 6,
     "metadata": {},
     "source": [
      "Content under Creative Commons Attribution license CC-BY 4.0, code under MIT license (c)2014 L.A. Barba, G.F. Forsyth, C.D. Cooper."
     ]
    },
    {
     "cell_type": "heading",
     "level": 1,
     "metadata": {},
     "source": [
      "Spreading out"
     ]
    },
    {
     "cell_type": "markdown",
     "metadata": {},
     "source": [
      "Welcome! This is the third lesson of the course module: \"_Spreading out: parabolic PDEs.\"_ \n",
      "\n",
      "So far, we've looked at the 1D heat equation, and solved it numerically using [*explicit*](https://github.com/numerical-mooc/numerical-mooc/blob/master/lessons/04_spreadout/01_Heat_Equation_1D_Explicit.ipynb) and [*implicit*](https://github.com/numerical-mooc/numerical-mooc/blob/master/lessons/04_spreadout/02_Heat_Equation_1D_Implicit.ipynb) schemes in the first two notebooks. We learned that implicit schemes are unconditionally stable, and we are free to choose any time step. Any time step? Remember, we still want to capture the physics of the problem accurately. \n",
      "\n",
      "We are ready to move on to 2D! In the remaining notebooks of this module, we will study 2D cases of the heat equation and the reaction-diffusion equation."
     ]
    },
    {
     "cell_type": "heading",
     "level": 2,
     "metadata": {},
     "source": [
      "2D Heat Conduction"
     ]
    },
    {
     "cell_type": "markdown",
     "metadata": {},
     "source": [
      "The heat conduction equation in 2D is given as:\n",
      "\n",
      "\\begin{equation}\n",
      "\\rho c_p \\frac{\\partial T}{\\partial t} = \\frac{\\partial}{\\partial x} \\left( \\kappa_x \\frac{\\partial T}{\\partial x} \\right) + \\frac{\\partial}{\\partial y} \\left(\\kappa_y \\frac{\\partial T}{\\partial y} \\right)\n",
      "\\end{equation}"
     ]
    },
    {
     "cell_type": "markdown",
     "metadata": {},
     "source": [
      "where $\\rho$ is the density, $c_p$ is the heat capacity and $\\kappa$ is the thermal conductivity."
     ]
    },
    {
     "cell_type": "markdown",
     "metadata": {},
     "source": [
      "If we assume that the thermal conductivity, $\\kappa$, is constant then we can take it outside of the partial derivative term and the conduction equation simplifies to\n",
      "\n",
      "\\begin{equation}\n",
      "\\frac{\\partial T}{\\partial t} = \\alpha \\left(\\frac{\\partial^2 T}{\\partial x^2} + \\frac{\\partial^2 T}{\\partial y^2} \\right)\n",
      "\\end{equation}\n",
      "\n",
      "where $\\alpha = \\frac{\\kappa}{\\rho C_p}$ is the thermal diffusivity.  The thermal diffusivity describes the ability of a material to conduct heat vs store it."
     ]
    },
    {
     "cell_type": "markdown",
     "metadata": {},
     "source": [
      "Does that equation have any familiar looking terms in it?  That's because it's the same as the diffusion equation.  There's a reason that $\\alpha$ is called the thermal *diffusivity*.  "
     ]
    },
    {
     "cell_type": "heading",
     "level": 2,
     "metadata": {},
     "source": [
      "Problem statement"
     ]
    },
    {
     "cell_type": "markdown",
     "metadata": {},
     "source": [
      "Removing heat out of micro-chips is a big problem in the computer industry. We are at the point that computers can't run much faster because the chips might start failing due to temperature! Let's study this problem more closely.\n",
      "\n",
      "We want to understand how heat is dissipated from the chip with a very simplified model. Say we consider the chip as a 2D plate $(1cm\\times 1cm)$ made of silicon $(\\kappa = 159W/m ^\\circ C, c_p = 0.712\\cdot 10^3 J/kg^\\circ C, \\rho = 2329kg/m^3)$, with diffusivity $\\alpha \\approx 10^{-4}$. Silicon melts at $1414^\\circ C$, but it is recommended that chips not operate at more than $\\sim70^\\circ C$ (need to find better source for this number)\n",
      "\n",
      "Say the chip is in a position where on two edges (top and right) it is in contact with insulating material.  On the other two edges the chip is touching other components that have a constant temperature of $T=100^\\circ C$ when the machine is operating. Initially, the chip is at room temperature $(20^\\circ C)$. *How long does it take for the center of the chip to reach $70^\\circ C?$*"
     ]
    },
    {
     "cell_type": "markdown",
     "metadata": {},
     "source": [
      "<img src='./figures/2dchip.svg' width='400px'>"
     ]
    },
    {
     "cell_type": "heading",
     "level": 4,
     "metadata": {},
     "source": [
      "Figure 1: Simplified Micro-chip Temperature Schematic"
     ]
    },
    {
     "cell_type": "markdown",
     "metadata": {},
     "source": [
      "Let's use what we have learned to tackle this problem!"
     ]
    },
    {
     "cell_type": "heading",
     "level": 2,
     "metadata": {},
     "source": [
      "2D Finite-differences"
     ]
    },
    {
     "cell_type": "markdown",
     "metadata": {},
     "source": [
      "Everything you learned about Finite-differences in [Module 2, Notebook 1](http://nbviewer.ipython.org/github/numerical-mooc/numerical-mooc/blob/master/lessons/02_spacetime/02_01_1DConvection.ipynb) still applies, but now there are two spatial dimensions.  \n",
      "\n",
      "Spatial nodes in the $x$ direction are discretized into $i$ points, while spatial nodes in the $y$ direction are discretized into $j$ points.  \n",
      "\n",
      "A given node will now have two spatial coordinates.  The middle point in the figure below we can call $T_{i,j}$."
     ]
    },
    {
     "cell_type": "markdown",
     "metadata": {},
     "source": [
      "<img src=\"./figures/2dgrid.svg\">"
     ]
    },
    {
     "cell_type": "heading",
     "level": 4,
     "metadata": {},
     "source": [
      "Figure 2. Nodal coordinates in 2 dimensions"
     ]
    },
    {
     "cell_type": "heading",
     "level": 3,
     "metadata": {},
     "source": [
      "Explicit scheme in 2D"
     ]
    },
    {
     "cell_type": "markdown",
     "metadata": {},
     "source": [
      "Recall from above that the 2D heat equation is \n",
      "\n",
      "$$\\frac{\\partial T}{\\partial t} = \\alpha \\left(\\frac{\\partial^2 T}{\\partial x^2} + \\frac{\\partial^2 T}{\\partial y^2} \\right)$$"
     ]
    },
    {
     "cell_type": "markdown",
     "metadata": {},
     "source": [
      "Let's attempt to write this out using an explicit scheme, discretized using forward time, central space\n",
      "\n",
      "\\begin{equation}\n",
      "\\frac{T^{n+1}_{i,j} - T^n_{i,j}}{\\Delta t} = \\alpha \\left( \\frac{T^n_{i+1, j} - 2T^n_{i,j} + T^n_{i-1,j}}{\\Delta x^2} + \\frac{T^n_{i, j+1} - 2T^n_{i,j} + T^n_{i,j-1}}{\\Delta y^2}\\right)\n",
      "\\end{equation}"
     ]
    },
    {
     "cell_type": "markdown",
     "metadata": {},
     "source": [
      "Rearranging the equation to solve for $T^{n+1}_{i,j}$ yields\n",
      "\n",
      "\\begin{equation}\n",
      "T^{n+1}_{i,j}= T^n_{i,j} + \\alpha \\left( \\frac{\\Delta t}{\\Delta x^2} (T^n_{i+1, j} - 2T^n_{i,j} + T^n_{i-1,j}) + \\frac{\\Delta t}{\\Delta y^2} (T^n_{i, j+1} - 2T^n_{i,j} + T^n_{i,j-1})\\right)\n",
      "\\end{equation}\n",
      "\n",
      "That's a little messier than 1D, but still recognizable.  \n",
      "\n",
      "Up until now, we've used stencils to help visualize how a scheme will advance the solution for one timestep.  Stencils in 2D are a little harder to draw, but hopefully the figure below will guide your understanding of this method."
     ]
    },
    {
     "cell_type": "markdown",
     "metadata": {},
     "source": [
      "<img src=\"./figures/2d_stencil.svg\">"
     ]
    },
    {
     "cell_type": "heading",
     "level": 4,
     "metadata": {},
     "source": [
      "Figure 3: 2D Explicit Stencil"
     ]
    },
    {
     "cell_type": "markdown",
     "metadata": {},
     "source": [
      "Similar to all of the 1D explicit methods we've used, the solution at $T^{n+1}_{i,j}$ is updated using values from the current solution at time $n$."
     ]
    },
    {
     "cell_type": "heading",
     "level": 3,
     "metadata": {},
     "source": [
      "Boundary Conditions"
     ]
    },
    {
     "cell_type": "markdown",
     "metadata": {},
     "source": [
      "Whenever we reach a point that interacts with the boundary, we apply the boundary condition. As in the previous notebook, if the boundary has Dirichlet conditions, we fetch the prescribed temperature at that point. If the boundary conditions has Neumann conditions, we discretize them with a finite-difference approximation.\n",
      "\n",
      "Remember, Neumann boundary conditions prescribe the derivative in the normal direction. For example, in the problem described above, we have $\\frac{\\partial T}{\\partial y} = q_y$ in the top boundary and $\\frac{\\partial T}{\\partial x} = q_x$ in the right boundary, with $q_y = q_x = 0$.\n",
      "\n",
      "Then, at every time step, we need to enforce\n",
      "\n",
      "\\begin{equation}\n",
      "T_{i,j-1} = q_y\\cdot\\Delta y + T_{i,j-2}\n",
      "\\end{equation}\n",
      "\n",
      "and\n",
      "\n",
      "\\begin{equation}\n",
      "T_{i-1,j} = q_x\\cdot\\Delta x + T_{i-2,j}\n",
      "\\end{equation}"
     ]
    },
    {
     "cell_type": "heading",
     "level": 3,
     "metadata": {},
     "source": [
      "Stability"
     ]
    },
    {
     "cell_type": "markdown",
     "metadata": {},
     "source": [
      "Before moving to any coding, let's revisit stability constraints. In 1D, we saw in the first notebook of this series that the explicit discretization of the diffusion equation was stable as long as $\\alpha \\frac{\\Delta t}{(\\Delta x)^2} \\leq \\frac{1}{2}$. In 2D, this constraint is even tighter, as we need to add them in both directions:\n",
      "\n",
      "\\begin{equation}\n",
      "\\alpha \\frac{\\Delta t}{(\\Delta x)^2} + \\alpha \\frac{\\Delta t}{(\\Delta y)^2} < \\frac{1}{2}.\n",
      "\\end{equation}\n",
      "\n",
      "Say that the mesh has the same spacing in $x$ and $y$, $\\Delta x = \\Delta y = \\delta$. The stability condition is\n",
      "\n",
      "\\begin{equation}\n",
      "\\alpha \\frac{\\Delta t}{\\delta^2} < \\frac{1}{4}\n",
      "\\end{equation}"
     ]
    },
    {
     "cell_type": "heading",
     "level": 2,
     "metadata": {},
     "source": [
      "Implementation"
     ]
    },
    {
     "cell_type": "heading",
     "level": 3,
     "metadata": {},
     "source": [
      "Array storage"
     ]
    },
    {
     "cell_type": "markdown",
     "metadata": {},
     "source": [
      "The physical problem has two dimensions and so we also store the temperatures in two dimensions -- in a 2D array. \n",
      "\n",
      "We chose to store it with the $y$ direction varying with the rows of the array and $x$ varying with the columns (this is just a code design decision!). If we are consistent with the stencil formula (with $x$ corresponding to $i$ and $y$ to $j$), then $T_{i,j}$ will be stored in array format as `T[j,i]`.\n",
      "\n",
      "This might be a little confusing as most of us are used to writing coordinates in the format $(x,y)$, but our preference is to have the data stored so that it matches our physical sense of the problem."
     ]
    },
    {
     "cell_type": "markdown",
     "metadata": {},
     "source": [
      "<img src=\"./figures/rowcolumn.svg\" width=\"400px\">"
     ]
    },
    {
     "cell_type": "heading",
     "level": 4,
     "metadata": {},
     "source": [
      "Figure 4: Row-column data storage"
     ]
    },
    {
     "cell_type": "markdown",
     "metadata": {},
     "source": [
      "As you can see in Figure 4 above, if we want to access the value $18$ we might write those coordinates as $(x_2, y_3)$.  You can also see that its location is the 3rd row, 2nd column, so it's array address would be `T[3,2]`.\n",
      "\n",
      "Again, this is a design decision.  However you choose to manipulate and store your data, just remember to be consistent!"
     ]
    },
    {
     "cell_type": "heading",
     "level": 3,
     "metadata": {},
     "source": [
      "Code time!"
     ]
    },
    {
     "cell_type": "markdown",
     "metadata": {},
     "source": [
      "Now, to some coding! This little function will advance the solution in time for us with a forward in time, central in space scheme, and will monitor the center of the plate to tell us when it reaches $70^\\circ C$."
     ]
    },
    {
     "cell_type": "code",
     "collapsed": false,
     "input": [
      "import numpy\n",
      "import matplotlib.pyplot as plt\n",
      "%matplotlib inline\n",
      "from matplotlib import rcParams\n",
      "rcParams['font.family'] = 'serif'\n",
      "rcParams['font.size'] = 16"
     ],
     "language": "python",
     "metadata": {},
     "outputs": []
    },
    {
     "cell_type": "code",
     "collapsed": false,
     "input": [
      "def ftcs(T, nt, alpha, dt, dx, dy):\n",
      "\n",
      "    j_mid = (numpy.shape(T)[0]+1)/2\n",
      "    i_mid = (numpy.shape(T)[1]+1)/2\n",
      "    \n",
      "    for n in range(nt):\n",
      "        Tn = T.copy()\n",
      "        T[1:-1,1:-1] = Tn[1:-1,1:-1] + alpha *\\\n",
      "            (dt/dy**2 * (Tn[2:,1:-1] - 2*Tn[1:-1,1:-1] + Tn[:-2,1:-1]) +\\\n",
      "             dt/dx**2 * (Tn[1:-1,2:] - 2*Tn[1:-1,1:-1] + Tn[1:-1,:-2]))\n",
      "  \n",
      "        # Enforce Neumann BCs\n",
      "        T[-1,:] = T[-2,:]\n",
      "        T[:,-1] = T[:,-2]\n",
      "        \n",
      "        # Check if we reached T=70C\n",
      "        if T[j_mid, i_mid] >= 70:\n",
      "            print (\"Center of plate reached 70C at time {0:.2f}s.\".format(dt*n))\n",
      "            break\n",
      "        \n",
      "    if T[j_mid, i_mid]<70:\n",
      "        print (\"Center has not reached 70C yet, it is only {0:.2f}C.\".format(T[j_mid, i_mid]))\n",
      "        \n",
      "    return T"
     ],
     "language": "python",
     "metadata": {},
     "outputs": []
    },
    {
     "cell_type": "markdown",
     "metadata": {},
     "source": [
      "See the [`break`](https://docs.python.org/2/tutorial/controlflow.html) statement? It exits the closest `for` loop when the plate reaches $70^\\circ C$."
     ]
    },
    {
     "cell_type": "markdown",
     "metadata": {},
     "source": [
      "And here we define our initial conditions"
     ]
    },
    {
     "cell_type": "code",
     "collapsed": false,
     "input": [
      "L = 1.0e-2\n",
      "H = 1.0e-2\n",
      "\n",
      "nx = 21\n",
      "ny = 21\n",
      "nt = 500\n",
      "\n",
      "dx = L/(nx-1)\n",
      "dy = H/(ny-1)\n",
      "\n",
      "x = numpy.linspace(0,L,nx)\n",
      "y = numpy.linspace(0,H,ny)\n",
      "\n",
      "alpha = 1e-4\n",
      "\n",
      "Ti = numpy.ones((ny, nx))*20\n",
      "Ti[0,:]= 100\n",
      "Ti[:,0] = 100"
     ],
     "language": "python",
     "metadata": {},
     "outputs": []
    },
    {
     "cell_type": "markdown",
     "metadata": {},
     "source": [
      "We are good to go! We don't want our solution blowing up, so let's try $\\frac{\\alpha \\Delta t}{\\Delta x^2} = \\frac{\\alpha \\Delta t}{\\Delta y^2} = \\frac{1}{4}$:"
     ]
    },
    {
     "cell_type": "code",
     "collapsed": false,
     "input": [
      "sigma = 0.25\n",
      "dt = sigma * min(dx, dy)**2 / alpha\n",
      "T=Ti.copy()\n",
      "T = ftcs(T, nt, alpha, dt, dx, dy)"
     ],
     "language": "python",
     "metadata": {},
     "outputs": []
    },
    {
     "cell_type": "heading",
     "level": 3,
     "metadata": {},
     "source": [
      "Visualize the results"
     ]
    },
    {
     "cell_type": "markdown",
     "metadata": {},
     "source": [
      "By now you're no doubt *very* familiar with the `plt.plot` command.  It's great for line plots, scatter plots, etc. but what about when we have two spatial dimensions and another value (temperature) to display?  \n",
      "\n",
      "Are you thinking contour plot?  We're thinking contour plot.  Check out the documentation on [plt.contourf](http://matplotlib.org/api/pyplot_api.html#matplotlib.pyplot.contour) (the 'f' denotes \"filled\" contours).\n",
      "\n",
      "First, though, we need to create a `meshgrid`.  [numpy.meshgrid](http://docs.scipy.org/doc/numpy/reference/generated/numpy.meshgrid.html) takes two vectors (`x` and `y`, say) and returns two 2D arrays of $x$ and $y$ coordinates we can use to create the contour plot.  "
     ]
    },
    {
     "cell_type": "code",
     "collapsed": false,
     "input": [
      "#my, mx = numpy.meshgrid(y,x)\n",
      "mx, my = numpy.meshgrid(x,y)"
     ],
     "language": "python",
     "metadata": {},
     "outputs": []
    },
    {
     "cell_type": "code",
     "collapsed": false,
     "input": [
      "plt.figure(figsize=(8,5))\n",
      "plt.contourf(my,mx,T,20)\n",
      "plt.xlabel('$x$')\n",
      "plt.ylabel('$y$')\n",
      "plt.colorbar();"
     ],
     "language": "python",
     "metadata": {},
     "outputs": []
    },
    {
     "cell_type": "markdown",
     "metadata": {},
     "source": [
      "That looks pretty cool!  Note that in the call to `plt.contourf` you can specify the number of contour levels to display (we chose 20).  "
     ]
    },
    {
     "cell_type": "markdown",
     "metadata": {},
     "source": [
      "---\n",
      "###### The cell below loads the style of the notebook"
     ]
    },
    {
     "cell_type": "code",
     "collapsed": false,
     "input": [
      "from IPython.core.display import HTML\n",
      "css_file = '../../styles/numericalmoocstyle.css'\n",
      "HTML(open(css_file, \"r\").read())"
     ],
     "language": "python",
     "metadata": {},
     "outputs": []
    }
   ],
   "metadata": {}
  }
 ]
}